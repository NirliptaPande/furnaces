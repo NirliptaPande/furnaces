{
 "cells": [
  {
   "cell_type": "code",
<<<<<<< HEAD
   "execution_count": 1,
   "metadata": {},
   "outputs": [],
   "source": [
    "import joblib\n",
    "import gc\n",
    "import numpy"
   ]
  },
  {
   "cell_type": "code",
   "execution_count": 3,
   "metadata": {},
   "outputs": [],
   "source": [
    "model_gdp = joblib.load('../output/zeros/feature3.joblib')"
=======
   "execution_count": 3,
   "metadata": {},
   "outputs": [
    {
     "data": {
      "text/plain": [
       "(244243, 3)"
      ]
     },
     "execution_count": 3,
     "metadata": {},
     "output_type": "execute_result"
    }
   ],
   "source": [
    "import numpy as np\n",
    "arr = np.load('../data/ign.npy')\n",
    "arr.shape"
>>>>>>> develop
   ]
  },
  {
   "cell_type": "code",
   "execution_count": 5,
   "metadata": {},
<<<<<<< HEAD
=======
   "outputs": [],
   "source": [
    "arr_new = arr[arr[:,0]<= 35]\n",
    "arr_new = arr_new[arr_new[:,0]>=-35]"
   ]
  },
  {
   "cell_type": "code",
   "execution_count": 8,
   "metadata": {},
>>>>>>> develop
   "outputs": [
    {
     "data": {
      "text/plain": [
<<<<<<< HEAD
       "RandomForestRegressor(max_features=7, min_samples_split=5, n_estimators=500,\n",
       "                      n_jobs=60, oob_score=True, random_state=42)"
      ]
     },
     "execution_count": 5,
=======
       "0.85131610731935"
      ]
     },
     "execution_count": 8,
>>>>>>> develop
     "metadata": {},
     "output_type": "execute_result"
    }
   ],
   "source": [
<<<<<<< HEAD
    "model_gdp"
=======
    "arr_new.shape[0]/arr.shape[0]"
>>>>>>> develop
   ]
  },
  {
   "cell_type": "code",
   "execution_count": null,
   "metadata": {},
   "outputs": [],
   "source": []
  }
 ],
 "metadata": {
  "kernelspec": {
   "display_name": "Python 3.9.12 ('base')",
   "language": "python",
   "name": "python3"
  },
  "language_info": {
   "codemirror_mode": {
    "name": "ipython",
    "version": 3
   },
   "file_extension": ".py",
   "mimetype": "text/x-python",
   "name": "python",
   "nbconvert_exporter": "python",
   "pygments_lexer": "ipython3",
<<<<<<< HEAD
   "version": "3.9.12"
=======
   "version": "3.10.6"
>>>>>>> develop
  },
  "orig_nbformat": 4,
  "vscode": {
   "interpreter": {
    "hash": "5ada4cf0cad2096cd5309648803c4307950250cf02ee0fe760781a5d29f65513"
   }
  }
 },
 "nbformat": 4,
 "nbformat_minor": 2
}
