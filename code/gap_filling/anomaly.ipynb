{
 "cells": [
  {
   "cell_type": "code",
   "execution_count": 19,
   "metadata": {},
   "outputs": [],
   "source": [
    "import pandas as pd\n",
    "df = pd.read_pickle(\"../../data/dataset_subset_2003-2011.pkl\")"
   ]
  },
  {
   "cell_type": "code",
   "execution_count": 20,
   "metadata": {},
   "outputs": [
    {
     "data": {
      "text/plain": [
       "Index(['lat', 'lon', 'time', 'agb', 'pft_fracCover', 'sm', 'pftCrop',\n",
       "       'pftHerb', 'pftShrubBD', 'pftShrubNE', 'pftTreeBD', 'pftTreeBE',\n",
       "       'pftTreeND', 'pftTreeNE', 'GDP', 'ign', 'Distance_to_populated_areas',\n",
       "       'fPAR', 'LAI', 'NLDI', 'vod_K_anomalies', 'FPAR_12mon', 'LAI_12mon',\n",
       "       'Vod_k_anomaly_12mon', 'FPAR_06mon', 'LAI_06mon', 'Vod_k_anomaly_06mon',\n",
       "       'WDPA_fracCover', 'dtr', 'pet', 'tmx', 'wet', 'Biome', 'precip',\n",
       "       'Livestock', 'road_density', 'topo', 'pop_density'],\n",
       "      dtype='object')"
      ]
     },
     "execution_count": 20,
     "metadata": {},
     "output_type": "execute_result"
    }
   ],
   "source": [
    "df.columns"
   ]
  },
  {
   "cell_type": "code",
   "execution_count": 22,
   "metadata": {},
   "outputs": [],
   "source": [
    "precip_temp = df[['lat','lon','time','tmx','precip']]"
   ]
  },
  {
   "cell_type": "code",
   "execution_count": 23,
   "metadata": {},
   "outputs": [],
   "source": [
    "pd.to_pickle(precip_temp,\"../../data/precip_temp.pkl\")"
   ]
  },
  {
   "cell_type": "code",
   "execution_count": 31,
   "metadata": {},
   "outputs": [],
   "source": [
    "import pandas as pd\n",
    "import numpy as np\n",
    "import matplotlib.pyplot as plt\n",
    "from scipy.signal import savgol_filter\n",
    "\n",
    "# Load the CSV file\n",
    "df = precip_temp\n",
    "\n",
    "# Group the dataframe by 'lat' and 'lon'\n",
    "grouped = df.groupby(['lat', 'lon'])\n",
    "\n",
    "# Parameters for Savitzky-Golay filter\n",
    "window_length = 5\n",
    "polyorder = 3\n",
    "\n",
    "# Iterate over each group\n",
    "for (lat, lon), group in grouped:\n",
    "    # Extract the temperature values for the current group\n",
    "    temps = group['tmx'].values\n",
    "\n",
    "    # Smooth the temperature values using Savitzky-Golay filter\n",
    "    smooth_curve = savgol_filter(temps, window_length=window_length, polyorder=polyorder)\n",
    "\n",
    "    # Calculate the detrended curve (subtract the smooth curve from the temperature values)\n",
    "    detrended_curve = temps - smooth_curve\n",
    "\n",
    "    # Plot the detrended curve for visualization\n",
    "    df.loc[group.index, 'temp_a'] = detrended_curve\n",
    "\n",
    "    # Extract the temperature values for the current group\n",
    "    precip = group['precip'].values\n",
    "\n",
    "    # Smooth the temperature values using Savitzky-Golay filter\n",
    "    smooth_curve = savgol_filter(precip, window_length=window_length, polyorder=polyorder)\n",
    "\n",
    "    # Calculate the detrended curve (subtract the smooth curve from the temperature values)\n",
    "    detrended_curve = precip - smooth_curve\n",
    "\n",
    "    # Plot the detrended curve for visualization\n",
    "    df.loc[group.index, 'precip_a'] = detrended_curve\n",
    "\n",
    "    "
   ]
  },
  {
   "cell_type": "code",
   "execution_count": 34,
   "metadata": {},
   "outputs": [
    {
     "data": {
      "text/plain": [
       "Index(['lat', 'lon', 'time', 'tmx', 'precip', 'detrended_temp', 'temp_a',\n",
       "       'precip_a'],\n",
       "      dtype='object')"
      ]
     },
     "execution_count": 34,
     "metadata": {},
     "output_type": "execute_result"
    }
   ],
   "source": [
    "df.columns"
   ]
  },
  {
   "cell_type": "code",
   "execution_count": 35,
   "metadata": {},
   "outputs": [],
   "source": [
    "df.to_pickle(\"../../data/anomaly.pkl\")"
   ]
  },
  {
   "cell_type": "code",
   "execution_count": null,
   "metadata": {},
   "outputs": [],
   "source": []
  },
  {
   "cell_type": "code",
   "execution_count": null,
   "metadata": {},
   "outputs": [],
   "source": []
  },
  {
   "cell_type": "code",
   "execution_count": null,
   "metadata": {},
   "outputs": [],
   "source": []
  },
  {
   "cell_type": "code",
   "execution_count": null,
   "metadata": {},
   "outputs": [],
   "source": []
  },
  {
   "cell_type": "code",
   "execution_count": 2,
   "metadata": {},
   "outputs": [],
   "source": [
    "from netCDF4 import Dataset\n",
    "df = Dataset(\"../../data/0009.nc\")"
   ]
  },
  {
   "cell_type": "code",
   "execution_count": 4,
   "metadata": {},
   "outputs": [
    {
     "name": "stdout",
     "output_type": "stream",
     "text": [
      "<class 'netCDF4._netCDF4.Dataset'>\n",
      "root group (NETCDF4 data model, file format HDF5):\n",
      "    id: 0009.nc\n",
      "    date_created: 2020-09-21 20:15:44\n",
      "    featureType: timeSeries\n",
      "    product: ERA5-LAND (from netcdf)\n",
      "    geospatial_lat_min: -44.0\n",
      "    geospatial_lat_max: -44.0\n",
      "    geospatial_lon_min: -176.4\n",
      "    geospatial_lon_max: -176.4\n",
      "    history: Mon Sep 28 00:21:07 2020: ncks -4 -L 4 --cnk_dmn=time,1000 /data-write/USERS/wpreimes/ERA5-Land_TS//0009.nc /home/wpreimes/shares/radar/Datapool/ECMWF_reanalysis/02_processed/ERA5-Land/datasets/sm_precip_lai_new/0009.nc\n",
      "    NCO: netCDF Operators version 4.7.5 (Homepage = http://nco.sf.net, Code = http://github.com/nco/nco)\n",
      "    dimensions(sizes): locations(1), time(59875)\n",
      "    variables(dimensions): float32 alt(locations), float32 lai_hv(locations, time), float32 lai_lv(locations, time), float32 lat(locations), <class 'str'> location_description(locations), int64 location_id(locations), float32 lon(locations), float32 src(locations, time), float32 swvl1(locations, time), float32 swvl2(locations, time), float32 swvl3(locations, time), float32 swvl4(locations, time), float64 time(time), float32 tp(locations, time)\n",
      "    groups: \n"
     ]
    }
   ],
   "source": [
    "print(df)"
   ]
  },
  {
   "cell_type": "code",
   "execution_count": 5,
   "metadata": {},
   "outputs": [],
   "source": [
    "df = Dataset(\"../../data/2588.nc\")"
   ]
  },
  {
   "cell_type": "code",
   "execution_count": 6,
   "metadata": {},
   "outputs": [
    {
     "name": "stdout",
     "output_type": "stream",
     "text": [
      "<class 'netCDF4._netCDF4.Dataset'>\n",
      "root group (NETCDF4 data model, file format HDF5):\n",
      "    id: 2588.nc\n",
      "    date_created: 2020-09-21 20:26:11\n",
      "    featureType: timeSeries\n",
      "    product: ERA5-LAND (from netcdf)\n",
      "    geospatial_lat_min: 70.9\n",
      "    geospatial_lat_max: 71.5\n",
      "    geospatial_lon_min: 178.6\n",
      "    geospatial_lon_max: 179.9\n",
      "    history: Mon Sep 28 03:49:36 2020: ncks -4 -L 4 --cnk_dmn=time,1000 /data-write/USERS/wpreimes/ERA5-Land_TS//2588.nc /home/wpreimes/shares/radar/Datapool/ECMWF_reanalysis/02_processed/ERA5-Land/datasets/sm_precip_lai_new/2588.nc\n",
      "    NCO: netCDF Operators version 4.7.5 (Homepage = http://nco.sf.net, Code = http://github.com/nco/nco)\n",
      "    dimensions(sizes): locations(55), time(59875)\n",
      "    variables(dimensions): float32 alt(locations), float32 lai_hv(locations, time), float32 lai_lv(locations, time), float32 lat(locations), <class 'str'> location_description(locations), int64 location_id(locations), float32 lon(locations), float32 src(locations, time), float32 swvl1(locations, time), float32 swvl2(locations, time), float32 swvl3(locations, time), float32 swvl4(locations, time), float64 time(time), float32 tp(locations, time)\n",
      "    groups: \n"
     ]
    }
   ],
   "source": [
    "print(df)"
   ]
  },
  {
   "cell_type": "code",
   "execution_count": 7,
   "metadata": {},
   "outputs": [
    {
     "name": "stdout",
     "output_type": "stream",
     "text": [
      "{'id': '2588.nc', 'date_created': '2020-09-21 20:26:11', 'featureType': 'timeSeries', 'product': 'ERA5-LAND (from netcdf)', 'geospatial_lat_min': 70.9, 'geospatial_lat_max': 71.5, 'geospatial_lon_min': 178.6, 'geospatial_lon_max': 179.9, 'history': 'Mon Sep 28 03:49:36 2020: ncks -4 -L 4 --cnk_dmn=time,1000 /data-write/USERS/wpreimes/ERA5-Land_TS//2588.nc /home/wpreimes/shares/radar/Datapool/ECMWF_reanalysis/02_processed/ERA5-Land/datasets/sm_precip_lai_new/2588.nc', 'NCO': 'netCDF Operators version 4.7.5 (Homepage = http://nco.sf.net, Code = http://github.com/nco/nco)'}\n"
     ]
    }
   ],
   "source": [
    "print(df.__dict__)"
   ]
  },
  {
   "cell_type": "code",
   "execution_count": 8,
   "metadata": {},
   "outputs": [
    {
     "data": {
      "text/plain": [
       "{'locations': <class 'netCDF4._netCDF4.Dimension'>: name = 'locations', size = 55,\n",
       " 'time': <class 'netCDF4._netCDF4.Dimension'> (unlimited): name = 'time', size = 59875}"
      ]
     },
     "execution_count": 8,
     "metadata": {},
     "output_type": "execute_result"
    }
   ],
   "source": [
    "df.dimensions"
   ]
  },
  {
   "cell_type": "code",
   "execution_count": 9,
   "metadata": {},
   "outputs": [
    {
     "data": {
      "text/plain": [
       "Index(['lat', 'lon', 'time', 'agb', 'pft_fracCover', 'sm', 'pftCrop',\n",
       "       'pftHerb', 'pftShrubBD', 'pftShrubNE', 'pftTreeBD', 'pftTreeBE',\n",
       "       'pftTreeND', 'pftTreeNE', 'GDP', 'ign', 'Distance_to_populated_areas',\n",
       "       'fPAR', 'LAI', 'NLDI', 'vod_K_anomalies', 'FPAR_12mon', 'LAI_12mon',\n",
       "       'Vod_k_anomaly_12mon', 'FPAR_06mon', 'LAI_06mon', 'Vod_k_anomaly_06mon',\n",
       "       'WDPA_fracCover', 'dtr', 'pet', 'tmx', 'wet', 'Biome', 'precip',\n",
       "       'Livestock', 'road_density', 'topo', 'pop_density'],\n",
       "      dtype='object')"
      ]
     },
     "execution_count": 9,
     "metadata": {},
     "output_type": "execute_result"
    }
   ],
   "source": [
    "import pandas as pd\n",
    "df = pd.read_pickle('../../data/dataset_subset_2003-2011.pkl')\n",
    "df.columns"
   ]
  },
  {
   "cell_type": "code",
   "execution_count": 11,
   "metadata": {},
   "outputs": [],
   "source": [
    "df['precip'] = df['precip'].fillna(0)"
   ]
  },
  {
   "cell_type": "code",
   "execution_count": 13,
   "metadata": {},
   "outputs": [
    {
     "data": {
      "text/plain": [
       "9"
      ]
     },
     "execution_count": 13,
     "metadata": {},
     "output_type": "execute_result"
    }
   ],
   "source": [
    "df.shape[0]//(720*1440*12)"
   ]
  },
  {
   "cell_type": "code",
   "execution_count": 14,
   "metadata": {},
   "outputs": [
    {
     "data": {
      "text/plain": [
       "0    200301.5\n",
       "1    200302.5\n",
       "2    200303.5\n",
       "3    200304.5\n",
       "4    200305.5\n",
       "5    200306.5\n",
       "6    200307.5\n",
       "7    200308.5\n",
       "8    200309.5\n",
       "9    200310.5\n",
       "Name: time, dtype: float64"
      ]
     },
     "execution_count": 14,
     "metadata": {},
     "output_type": "execute_result"
    }
   ],
   "source": [
    "df['time'].head(10)"
   ]
  },
  {
   "cell_type": "code",
   "execution_count": 17,
   "metadata": {},
   "outputs": [
    {
     "data": {
      "text/plain": [
       "pandas.core.series.Series"
      ]
     },
     "execution_count": 17,
     "metadata": {},
     "output_type": "execute_result"
    }
   ],
   "source": [
    "from matplotlib import pyplot as plt\n",
    "pxl = df['precip'].head(108)\n",
    "type(pxl)"
   ]
  },
  {
   "cell_type": "code",
   "execution_count": 19,
   "metadata": {},
   "outputs": [
    {
     "data": {
      "text/plain": [
       "Text(0.5, 0, 'time')"
      ]
     },
     "execution_count": 19,
     "metadata": {},
     "output_type": "execute_result"
    },
    {
     "data": {
      "image/png": "[encoded data removed]",
      "text/plain": [
       "<Figure size 640x480 with 1 Axes>"
      ]
     },
     "metadata": {},
     "output_type": "display_data"
    }
   ],
   "source": [
    "%matplotlib inline\n",
    "plt.plot(df['time'].head(108),pxl)\n",
    "plt.ylabel('precip')\n",
    "plt.xlabel('time')"
   ]
  },
  {
   "cell_type": "code",
   "execution_count": 1,
   "metadata": {},
   "outputs": [
    {
     "data": {
      "text/plain": [
       "array(['lat 0', 'lon 1', 'time 2', 'road_density 3', 'agb 4', 'sm 5',\n",
       "       'pftCrop 6', 'pftHerb 7', 'pftShrubBD 8', 'pftShrubNE 9',\n",
       "       'pftTreeBD 10', 'pftTreeBE 11', 'pftTreeND 12', 'pftTreeNE 13',\n",
       "       'GDP_per_capita_PPP 14', 'ign 15', 'faPAR 16', 'LAI 17',\n",
       "       'vod_K_anomalies 18', 'primn 19', 'pet 20', 'wet 21', 'precip 22',\n",
       "       'pastr 23', 'Band1 24', 'pop_density 25',\n",
       "       'Distance_to_populated_areas 26', 'Diurnal temperature range 27',\n",
       "       'temp_max 28', 'Livestock 29'], dtype='<U30')"
      ]
     },
     "execution_count": 1,
     "metadata": {},
     "output_type": "execute_result"
    }
   ],
   "source": [
    "import numpy as np\n",
    "col = np.load(\"../../data/column_names.npy\")\n",
    "col"
   ]
  },
  {
   "cell_type": "code",
   "execution_count": 3,
   "metadata": {},
   "outputs": [
    {
     "data": {
      "text/html": [
       "<div>\n",
       "<style scoped>\n",
       "    .dataframe tbody tr th:only-of-type {\n",
       "        vertical-align: middle;\n",
       "    }\n",
       "\n",
       "    .dataframe tbody tr th {\n",
       "        vertical-align: top;\n",
       "    }\n",
       "\n",
       "    .dataframe thead th {\n",
       "        text-align: right;\n",
       "    }\n",
       "</style>\n",
       "<table border=\"1\" class=\"dataframe\">\n",
       "  <thead>\n",
       "    <tr style=\"text-align: right;\">\n",
       "      <th></th>\n",
       "      <th>pftCrop</th>\n",
       "      <th>pftShrubBD</th>\n",
       "      <th>ign</th>\n",
       "      <th>faPAR</th>\n",
       "      <th>precip</th>\n",
       "      <th>temp_max</th>\n",
       "    </tr>\n",
       "  </thead>\n",
       "  <tbody>\n",
       "    <tr>\n",
       "      <th>0</th>\n",
       "      <td>0.002494</td>\n",
       "      <td>0.132951</td>\n",
       "      <td>0.0</td>\n",
       "      <td>0.250163</td>\n",
       "      <td>26.971376</td>\n",
       "      <td>-8.100000</td>\n",
       "    </tr>\n",
       "    <tr>\n",
       "      <th>1</th>\n",
       "      <td>0.000000</td>\n",
       "      <td>0.000780</td>\n",
       "      <td>0.0</td>\n",
       "      <td>0.000000</td>\n",
       "      <td>7.958032</td>\n",
       "      <td>-27.300001</td>\n",
       "    </tr>\n",
       "    <tr>\n",
       "      <th>2</th>\n",
       "      <td>0.728696</td>\n",
       "      <td>0.061289</td>\n",
       "      <td>5.0</td>\n",
       "      <td>0.395407</td>\n",
       "      <td>56.304527</td>\n",
       "      <td>33.500000</td>\n",
       "    </tr>\n",
       "    <tr>\n",
       "      <th>3</th>\n",
       "      <td>0.271573</td>\n",
       "      <td>0.134995</td>\n",
       "      <td>31.0</td>\n",
       "      <td>0.332775</td>\n",
       "      <td>0.007501</td>\n",
       "      <td>24.200001</td>\n",
       "    </tr>\n",
       "    <tr>\n",
       "      <th>4</th>\n",
       "      <td>0.000000</td>\n",
       "      <td>0.017966</td>\n",
       "      <td>0.0</td>\n",
       "      <td>0.000000</td>\n",
       "      <td>18.560972</td>\n",
       "      <td>-14.800000</td>\n",
       "    </tr>\n",
       "  </tbody>\n",
       "</table>\n",
       "</div>"
      ],
      "text/plain": [
       "    pftCrop  pftShrubBD   ign     faPAR     precip   temp_max\n",
       "0  0.002494    0.132951   0.0  0.250163  26.971376  -8.100000\n",
       "1  0.000000    0.000780   0.0  0.000000   7.958032 -27.300001\n",
       "2  0.728696    0.061289   5.0  0.395407  56.304527  33.500000\n",
       "3  0.271573    0.134995  31.0  0.332775   0.007501  24.200001\n",
       "4  0.000000    0.017966   0.0  0.000000  18.560972 -14.800000"
      ]
     },
     "execution_count": 3,
     "metadata": {},
     "output_type": "execute_result"
    }
   ],
   "source": [
    "import pandas as pd\n",
    "base = pd.read_csv(\"../../data/monthly_mean_base.csv\")\n",
    "base.head()"
   ]
  },
  {
   "cell_type": "code",
   "execution_count": 4,
   "metadata": {},
   "outputs": [
    {
     "data": {
      "text/plain": [
       "24819"
      ]
     },
     "execution_count": 4,
     "metadata": {},
     "output_type": "execute_result"
    }
   ],
   "source": [
    "base.shape[0]//(108)"
   ]
  },
  {
   "cell_type": "code",
   "execution_count": 5,
   "metadata": {},
   "outputs": [
    {
     "data": {
      "text/plain": [
       "Index(['lat', 'lon', 'time', 'road_density', 'agb', 'sm', 'pftCrop ',\n",
       "       'pftHerb', 'pftShrubBD', 'pftShrubNE', 'pftTreeBD', 'pftTreeBE',\n",
       "       'pftTreeND', 'pftTreeNE', 'GDP', 'ign', 'faPAR', 'LAI',\n",
       "       'vod_K_anomalies', 'primn', 'pet', 'wet', 'precip', 'pastr', 'Band1',\n",
       "       'pop_density', 'Distance_to_populated_areas', 'dtr', 'tmax',\n",
       "       'Livestock'],\n",
       "      dtype='object')"
      ]
     },
     "execution_count": 5,
     "metadata": {},
     "output_type": "execute_result"
    }
   ],
   "source": [
    "all = pd.read_csv(\"../../data/all_mean.csv\")\n",
    "all.columns"
   ]
  },
  {
   "cell_type": "code",
   "execution_count": 6,
   "metadata": {},
   "outputs": [
    {
     "data": {
      "text/plain": [
       "(244243, 30)"
      ]
     },
     "execution_count": 6,
     "metadata": {},
     "output_type": "execute_result"
    }
   ],
   "source": [
    "all.shape"
   ]
  },
  {
   "cell_type": "code",
   "execution_count": 8,
   "metadata": {},
   "outputs": [],
   "source": [
    "precip = all[['lat','lon','time','precip']]"
   ]
  },
  {
   "cell_type": "code",
   "execution_count": 9,
   "metadata": {},
   "outputs": [
    {
     "data": {
      "text/html": [
       "<div>\n",
       "<style scoped>\n",
       "    .dataframe tbody tr th:only-of-type {\n",
       "        vertical-align: middle;\n",
       "    }\n",
       "\n",
       "    .dataframe tbody tr th {\n",
       "        vertical-align: top;\n",
       "    }\n",
       "\n",
       "    .dataframe thead th {\n",
       "        text-align: right;\n",
       "    }\n",
       "</style>\n",
       "<table border=\"1\" class=\"dataframe\">\n",
       "  <thead>\n",
       "    <tr style=\"text-align: right;\">\n",
       "      <th></th>\n",
       "      <th>lat</th>\n",
       "      <th>lon</th>\n",
       "      <th>time</th>\n",
       "      <th>precip</th>\n",
       "    </tr>\n",
       "  </thead>\n",
       "  <tbody>\n",
       "    <tr>\n",
       "      <th>0</th>\n",
       "      <td>-55.75</td>\n",
       "      <td>-67.00</td>\n",
       "      <td>200707.0</td>\n",
       "      <td>69.128201</td>\n",
       "    </tr>\n",
       "    <tr>\n",
       "      <th>1</th>\n",
       "      <td>-55.50</td>\n",
       "      <td>-68.00</td>\n",
       "      <td>200707.0</td>\n",
       "      <td>63.122047</td>\n",
       "    </tr>\n",
       "    <tr>\n",
       "      <th>2</th>\n",
       "      <td>-55.50</td>\n",
       "      <td>-67.25</td>\n",
       "      <td>200707.0</td>\n",
       "      <td>55.862763</td>\n",
       "    </tr>\n",
       "    <tr>\n",
       "      <th>3</th>\n",
       "      <td>-55.25</td>\n",
       "      <td>-69.50</td>\n",
       "      <td>200707.0</td>\n",
       "      <td>58.967910</td>\n",
       "    </tr>\n",
       "    <tr>\n",
       "      <th>4</th>\n",
       "      <td>-55.25</td>\n",
       "      <td>-69.25</td>\n",
       "      <td>200707.0</td>\n",
       "      <td>57.485869</td>\n",
       "    </tr>\n",
       "    <tr>\n",
       "      <th>...</th>\n",
       "      <td>...</td>\n",
       "      <td>...</td>\n",
       "      <td>...</td>\n",
       "      <td>...</td>\n",
       "    </tr>\n",
       "    <tr>\n",
       "      <th>244238</th>\n",
       "      <td>83.50</td>\n",
       "      <td>-27.25</td>\n",
       "      <td>200707.0</td>\n",
       "      <td>20.249208</td>\n",
       "    </tr>\n",
       "    <tr>\n",
       "      <th>244239</th>\n",
       "      <td>83.50</td>\n",
       "      <td>-27.00</td>\n",
       "      <td>200707.0</td>\n",
       "      <td>20.311545</td>\n",
       "    </tr>\n",
       "    <tr>\n",
       "      <th>244240</th>\n",
       "      <td>83.75</td>\n",
       "      <td>-34.25</td>\n",
       "      <td>200707.0</td>\n",
       "      <td>18.302526</td>\n",
       "    </tr>\n",
       "    <tr>\n",
       "      <th>244241</th>\n",
       "      <td>83.75</td>\n",
       "      <td>-34.00</td>\n",
       "      <td>200707.0</td>\n",
       "      <td>18.359372</td>\n",
       "    </tr>\n",
       "    <tr>\n",
       "      <th>244242</th>\n",
       "      <td>83.75</td>\n",
       "      <td>-33.75</td>\n",
       "      <td>200707.0</td>\n",
       "      <td>18.416456</td>\n",
       "    </tr>\n",
       "  </tbody>\n",
       "</table>\n",
       "<p>244243 rows × 4 columns</p>\n",
       "</div>"
      ],
      "text/plain": [
       "          lat    lon      time     precip\n",
       "0      -55.75 -67.00  200707.0  69.128201\n",
       "1      -55.50 -68.00  200707.0  63.122047\n",
       "2      -55.50 -67.25  200707.0  55.862763\n",
       "3      -55.25 -69.50  200707.0  58.967910\n",
       "4      -55.25 -69.25  200707.0  57.485869\n",
       "...       ...    ...       ...        ...\n",
       "244238  83.50 -27.25  200707.0  20.249208\n",
       "244239  83.50 -27.00  200707.0  20.311545\n",
       "244240  83.75 -34.25  200707.0  18.302526\n",
       "244241  83.75 -34.00  200707.0  18.359372\n",
       "244242  83.75 -33.75  200707.0  18.416456\n",
       "\n",
       "[244243 rows x 4 columns]"
      ]
     },
     "execution_count": 9,
     "metadata": {},
     "output_type": "execute_result"
    }
   ],
   "source": [
    "precip"
   ]
  },
  {
   "cell_type": "code",
   "execution_count": 11,
   "metadata": {},
   "outputs": [],
   "source": [
    "temp = all[['lat','lon','time','tmax']]"
   ]
  },
  {
   "cell_type": "code",
   "execution_count": 12,
   "metadata": {},
   "outputs": [
    {
     "data": {
      "text/html": [
       "<div>\n",
       "<style scoped>\n",
       "    .dataframe tbody tr th:only-of-type {\n",
       "        vertical-align: middle;\n",
       "    }\n",
       "\n",
       "    .dataframe tbody tr th {\n",
       "        vertical-align: top;\n",
       "    }\n",
       "\n",
       "    .dataframe thead th {\n",
       "        text-align: right;\n",
       "    }\n",
       "</style>\n",
       "<table border=\"1\" class=\"dataframe\">\n",
       "  <thead>\n",
       "    <tr style=\"text-align: right;\">\n",
       "      <th></th>\n",
       "      <th>lat</th>\n",
       "      <th>lon</th>\n",
       "      <th>time</th>\n",
       "      <th>tmax</th>\n",
       "    </tr>\n",
       "  </thead>\n",
       "  <tbody>\n",
       "    <tr>\n",
       "      <th>0</th>\n",
       "      <td>-55.75</td>\n",
       "      <td>-67.00</td>\n",
       "      <td>200707.0</td>\n",
       "      <td>8.475000</td>\n",
       "    </tr>\n",
       "    <tr>\n",
       "      <th>1</th>\n",
       "      <td>-55.50</td>\n",
       "      <td>-68.00</td>\n",
       "      <td>200707.0</td>\n",
       "      <td>8.428704</td>\n",
       "    </tr>\n",
       "    <tr>\n",
       "      <th>2</th>\n",
       "      <td>-55.50</td>\n",
       "      <td>-67.25</td>\n",
       "      <td>200707.0</td>\n",
       "      <td>8.475000</td>\n",
       "    </tr>\n",
       "    <tr>\n",
       "      <th>3</th>\n",
       "      <td>-55.25</td>\n",
       "      <td>-69.50</td>\n",
       "      <td>200707.0</td>\n",
       "      <td>7.910185</td>\n",
       "    </tr>\n",
       "    <tr>\n",
       "      <th>4</th>\n",
       "      <td>-55.25</td>\n",
       "      <td>-69.25</td>\n",
       "      <td>200707.0</td>\n",
       "      <td>8.099074</td>\n",
       "    </tr>\n",
       "    <tr>\n",
       "      <th>...</th>\n",
       "      <td>...</td>\n",
       "      <td>...</td>\n",
       "      <td>...</td>\n",
       "      <td>...</td>\n",
       "    </tr>\n",
       "    <tr>\n",
       "      <th>244238</th>\n",
       "      <td>83.50</td>\n",
       "      <td>-27.25</td>\n",
       "      <td>200707.0</td>\n",
       "      <td>-7.162963</td>\n",
       "    </tr>\n",
       "    <tr>\n",
       "      <th>244239</th>\n",
       "      <td>83.50</td>\n",
       "      <td>-27.00</td>\n",
       "      <td>200707.0</td>\n",
       "      <td>0.000000</td>\n",
       "    </tr>\n",
       "    <tr>\n",
       "      <th>244240</th>\n",
       "      <td>83.75</td>\n",
       "      <td>-34.25</td>\n",
       "      <td>200707.0</td>\n",
       "      <td>-15.305556</td>\n",
       "    </tr>\n",
       "    <tr>\n",
       "      <th>244241</th>\n",
       "      <td>83.75</td>\n",
       "      <td>-34.00</td>\n",
       "      <td>200707.0</td>\n",
       "      <td>-15.305556</td>\n",
       "    </tr>\n",
       "    <tr>\n",
       "      <th>244242</th>\n",
       "      <td>83.75</td>\n",
       "      <td>-33.75</td>\n",
       "      <td>200707.0</td>\n",
       "      <td>-15.245371</td>\n",
       "    </tr>\n",
       "  </tbody>\n",
       "</table>\n",
       "<p>244243 rows × 4 columns</p>\n",
       "</div>"
      ],
      "text/plain": [
       "          lat    lon      time       tmax\n",
       "0      -55.75 -67.00  200707.0   8.475000\n",
       "1      -55.50 -68.00  200707.0   8.428704\n",
       "2      -55.50 -67.25  200707.0   8.475000\n",
       "3      -55.25 -69.50  200707.0   7.910185\n",
       "4      -55.25 -69.25  200707.0   8.099074\n",
       "...       ...    ...       ...        ...\n",
       "244238  83.50 -27.25  200707.0  -7.162963\n",
       "244239  83.50 -27.00  200707.0   0.000000\n",
       "244240  83.75 -34.25  200707.0 -15.305556\n",
       "244241  83.75 -34.00  200707.0 -15.305556\n",
       "244242  83.75 -33.75  200707.0 -15.245371\n",
       "\n",
       "[244243 rows x 4 columns]"
      ]
     },
     "execution_count": 12,
     "metadata": {},
     "output_type": "execute_result"
    }
   ],
   "source": [
    "temp"
   ]
  },
  {
   "cell_type": "code",
   "execution_count": 15,
   "metadata": {},
   "outputs": [
    {
     "data": {
      "text/plain": [
       "Text(0.5, 0, 'time')"
      ]
     },
     "execution_count": 15,
     "metadata": {},
     "output_type": "execute_result"
    },
    {
     "data": {
      "image/png": "[encoded data removed]",
      "text/plain": [
       "<Figure size 640x480 with 1 Axes>"
      ]
     },
     "metadata": {},
     "output_type": "display_data"
    }
   ],
   "source": [
    "from matplotlib import pyplot as plt\n",
    "%matplotlib inline\n",
    "pxl = precip['precip'].head(108)\n",
    "plt.plot(pxl)\n",
    "plt.ylabel('precip')\n",
    "plt.xlabel('time')"
   ]
  },
  {
   "cell_type": "code",
   "execution_count": 18,
   "metadata": {},
   "outputs": [
    {
     "data": {
      "text/plain": [
       "26378244"
      ]
     },
     "execution_count": 18,
     "metadata": {},
     "output_type": "execute_result"
    }
   ],
   "source": [
    "244243*108"
   ]
  },
  {
   "cell_type": "code",
   "execution_count": 36,
   "metadata": {},
   "outputs": [],
   "source": [
    "from netCDF4 import Dataset\n",
    "testing = Dataset(\"../../data/grid.nc\")\n"
   ]
  },
  {
   "cell_type": "code",
   "execution_count": 41,
   "metadata": {},
   "outputs": [],
   "source": [
    "land = testing['subset_flag']"
   ]
  },
  {
   "cell_type": "code",
   "execution_count": 42,
   "metadata": {},
   "outputs": [
    {
     "data": {
      "text/plain": [
       "Index(['lat', 'lon', 'time', 'tmx', 'precip', 'detrended_temp', 'temp_a',\n",
       "       'precip_a'],\n",
       "      dtype='object')"
      ]
     },
     "execution_count": 42,
     "metadata": {},
     "output_type": "execute_result"
    }
   ],
   "source": [
    "import pandas as pd\n",
    "df = pd.read_pickle(\"../../data/anomaly.pkl\")\n",
    "df.columns"
   ]
  },
  {
   "cell_type": "code",
   "execution_count": 44,
   "metadata": {},
   "outputs": [],
   "source": [
    "df = df.drop(['detrended_temp'],axis = 1)"
   ]
  },
  {
   "cell_type": "code",
   "execution_count": 45,
   "metadata": {},
   "outputs": [
    {
     "data": {
      "text/plain": [
       "Index(['lat', 'lon', 'time', 'tmx', 'precip', 'temp_a', 'precip_a'], dtype='object')"
      ]
     },
     "execution_count": 45,
     "metadata": {},
     "output_type": "execute_result"
    }
   ],
   "source": [
    "df.columns"
   ]
  },
  {
   "cell_type": "code",
   "execution_count": 46,
   "metadata": {},
   "outputs": [
    {
     "data": {
      "text/plain": [
       "Index(['lat', 'lon', 'time', 'agb', 'pft_fracCover', 'sm', 'pftCrop',\n",
       "       'pftHerb', 'pftShrubBD', 'pftShrubNE', 'pftTreeBD', 'pftTreeBE',\n",
       "       'pftTreeND', 'pftTreeNE', 'GDP', 'ign', 'Distance_to_populated_areas',\n",
       "       'fPAR', 'LAI', 'NLDI', 'vod_K_anomalies', 'FPAR_12mon', 'LAI_12mon',\n",
       "       'Vod_k_anomaly_12mon', 'FPAR_06mon', 'LAI_06mon', 'Vod_k_anomaly_06mon',\n",
       "       'WDPA_fracCover', 'dtr', 'pet', 'tmx', 'wet', 'Biome', 'precip',\n",
       "       'Livestock', 'road_density', 'topo', 'pop_density'],\n",
       "      dtype='object')"
      ]
     },
     "execution_count": 46,
     "metadata": {},
     "output_type": "execute_result"
    }
   ],
   "source": [
    "df_all = pd.read_pickle(\"../../data/dataset_subset_2003-2011.pkl\")\n",
    "df_all.columns"
   ]
  },
  {
   "cell_type": "code",
   "execution_count": 49,
   "metadata": {},
   "outputs": [],
   "source": [
    "df_new = pd.concat([df,df_all[['agb', 'pft_fracCover', 'sm', 'pftCrop','pftHerb', 'pftShrubBD', 'pftShrubNE', 'pftTreeBD', 'pftTreeBE',\n",
    "       'pftTreeND', 'pftTreeNE', 'GDP', 'ign', 'Distance_to_populated_areas',\n",
    "       'fPAR','dtr', 'pet','wet', 'Biome','Livestock', 'road_density', 'topo', 'pop_density']]],axis = 1)"
   ]
  },
  {
   "cell_type": "code",
   "execution_count": 50,
   "metadata": {},
   "outputs": [
    {
     "data": {
      "text/plain": [
       "Index(['lat', 'lon', 'time', 'tmx', 'precip', 'temp_a', 'precip_a', 'agb',\n",
       "       'pft_fracCover', 'sm', 'pftCrop', 'pftHerb', 'pftShrubBD', 'pftShrubNE',\n",
       "       'pftTreeBD', 'pftTreeBE', 'pftTreeND', 'pftTreeNE', 'GDP', 'ign',\n",
       "       'Distance_to_populated_areas', 'fPAR', 'dtr', 'pet', 'wet', 'Biome',\n",
       "       'Livestock', 'road_density', 'topo', 'pop_density'],\n",
       "      dtype='object')"
      ]
     },
     "execution_count": 50,
     "metadata": {},
     "output_type": "execute_result"
    }
   ],
   "source": [
    "df_new.columns"
   ]
  },
  {
   "cell_type": "code",
   "execution_count": 54,
   "metadata": {},
   "outputs": [
    {
     "data": {
      "text/plain": [
       "numpy.ma.core.MaskedArray"
      ]
     },
     "execution_count": 54,
     "metadata": {},
     "output_type": "execute_result"
    }
   ],
   "source": [
    "land = land[:]\n",
    "type(land)"
   ]
  },
  {
   "cell_type": "code",
   "execution_count": 57,
   "metadata": {},
   "outputs": [
    {
     "data": {
      "text/plain": [
       "(111974400, 30)"
      ]
     },
     "execution_count": 57,
     "metadata": {},
     "output_type": "execute_result"
    }
   ],
   "source": [
    "df_new.shape"
   ]
  },
  {
   "cell_type": "code",
   "execution_count": 58,
   "metadata": {},
   "outputs": [],
   "source": [
    "df_new.to_pickle(\"../../data/anomaly_all.pkl\")"
   ]
  },
  {
   "cell_type": "code",
   "execution_count": 40,
   "metadata": {},
   "outputs": [
    {
     "data": {
      "text/plain": [
       "{'crs': <class 'netCDF4._netCDF4.Variable'>\n",
       " int32 crs()\n",
       "     grid_mapping_name: latitude_longitude\n",
       "     longitude_of_prime_meridian: 0.0\n",
       "     semi_major_axis: 6378137.0\n",
       "     inverse_flattening: 298.257223563\n",
       "     ellipsoid_name: WGS84\n",
       " unlimited dimensions: \n",
       " current shape = ()\n",
       " filling on, default _FillValue of -2147483647 used,\n",
       " 'gpi': <class 'netCDF4._netCDF4.Variable'>\n",
       " int32 gpi(gp)\n",
       "     long_name: Grid point index\n",
       "     units: \n",
       "     valid_range: [      0 1036799]\n",
       " unlimited dimensions: \n",
       " current shape = (1036800,)\n",
       " filling on, default _FillValue of -2147483647 used,\n",
       " 'lat': <class 'netCDF4._netCDF4.Variable'>\n",
       " float64 lat(gp)\n",
       "     long_name: Latitude\n",
       "     units: degree_north\n",
       "     standard_name: latitude\n",
       "     valid_range: [-90.  90.]\n",
       " unlimited dimensions: \n",
       " current shape = (1036800,)\n",
       " filling on, default _FillValue of 9.969209968386869e+36 used,\n",
       " 'lon': <class 'netCDF4._netCDF4.Variable'>\n",
       " float64 lon(gp)\n",
       "     long_name: Longitude\n",
       "     units: degree_east\n",
       "     standard_name: longitude\n",
       "     valid_range: [-180.  180.]\n",
       " unlimited dimensions: \n",
       " current shape = (1036800,)\n",
       " filling on, default _FillValue of 9.969209968386869e+36 used,\n",
       " 'cell': <class 'netCDF4._netCDF4.Variable'>\n",
       " int32 cell(gp)\n",
       "     long_name: Cell\n",
       "     units: \n",
       "     valid_range: [   0 2591]\n",
       " unlimited dimensions: \n",
       " current shape = (1036800,)\n",
       " filling on, default _FillValue of -2147483647 used,\n",
       " 'subset_flag': <class 'netCDF4._netCDF4.Variable'>\n",
       " int8 subset_flag(gp)\n",
       "     long_name: subset_flag\n",
       "     units: \n",
       "     coordinates: lat lon\n",
       "     flag_values: [0 1]\n",
       "     flag_meanings: water land\n",
       "     valid_range: [0 1]\n",
       " unlimited dimensions: \n",
       " current shape = (1036800,)\n",
       " filling on, default _FillValue of -127 ignored}"
      ]
     },
     "execution_count": 40,
     "metadata": {},
     "output_type": "execute_result"
    }
   ],
   "source": [
    "testing.variables"
   ]
  },
  {
   "cell_type": "code",
   "execution_count": 1,
   "metadata": {},
   "outputs": [
    {
     "data": {
      "text/plain": [
       "Index(['lat', 'lon', 'time', 'agb', 'pft_fracCover', 'sm', 'pftCrop',\n",
       "       'pftHerb', 'pftShrubBD', 'pftShrubNE', 'pftTreeBD', 'pftTreeBE',\n",
       "       'pftTreeND', 'pftTreeNE', 'GDP', 'ign', 'Distance_to_populated_areas',\n",
       "       'fPAR', 'LAI', 'NLDI', 'vod_K_anomalies', 'FPAR_12mon', 'LAI_12mon',\n",
       "       'Vod_k_anomaly_12mon', 'FPAR_06mon', 'LAI_06mon', 'Vod_k_anomaly_06mon',\n",
       "       'WDPA_fracCover', 'dtr', 'pet', 'tmx', 'wet', 'Biome', 'precip',\n",
       "       'Livestock', 'road_density', 'topo', 'pop_density'],\n",
       "      dtype='object')"
      ]
     },
     "execution_count": 1,
     "metadata": {},
     "output_type": "execute_result"
    }
   ],
   "source": [
    "import pandas as pd\n",
    "df = pd.read_pickle(\"../../data/dataset_subset_2003-2011.pkl\")\n",
    "df.columns"
   ]
  },
  {
   "cell_type": "code",
   "execution_count": 2,
   "metadata": {},
   "outputs": [],
   "source": [
    "arr = df.to_numpy()"
   ]
  },
  {
   "cell_type": "code",
   "execution_count": 3,
   "metadata": {},
   "outputs": [
    {
     "data": {
      "text/plain": [
       "(111974400, 38)"
      ]
     },
     "execution_count": 3,
     "metadata": {},
     "output_type": "execute_result"
    }
   ],
   "source": [
    "arr.shape"
   ]
  },
  {
   "cell_type": "code",
   "execution_count": 4,
   "metadata": {},
   "outputs": [],
   "source": [
    "del(df)"
   ]
  },
  {
   "cell_type": "code",
   "execution_count": 2,
   "metadata": {},
   "outputs": [],
   "source": [
    "from netCDF4 import Dataset\n",
    "rf = Dataset(\"../../data/grid.nc\")"
   ]
  },
  {
   "cell_type": "code",
   "execution_count": 3,
   "metadata": {},
   "outputs": [],
   "source": [
    "mask = rf['subset_flag'][:]"
   ]
  },
  {
   "cell_type": "code",
   "execution_count": 4,
   "metadata": {},
   "outputs": [],
   "source": [
    "import numpy as np\n",
    "lat = rf['lat'][:]\n",
    "lon = rf['lon'][:]\n",
    "mask = np.array(mask)\n",
    "lat = np.array(lat)\n",
    "lon = np.array(lon)\n",
    "lat = lat +.125\n",
    "lon = lon + .125\n",
    "land = np.where(mask==1)"
   ]
  },
  {
   "cell_type": "code",
   "execution_count": 7,
   "metadata": {},
   "outputs": [
    {
     "data": {
      "text/plain": [
       "array([[0., 0.],\n",
       "       [0., 0.],\n",
       "       [0., 0.],\n",
       "       ...,\n",
       "       [0., 0.],\n",
       "       [0., 0.],\n",
       "       [0., 0.]])"
      ]
     },
     "execution_count": 7,
     "metadata": {},
     "output_type": "execute_result"
    }
   ],
   "source": [
    "land_coords = np.zeros((len(land[0]),2))\n",
    "land_coords"
   ]
  },
  {
   "cell_type": "code",
   "execution_count": 17,
   "metadata": {},
   "outputs": [],
   "source": [
    "lat = []\n",
    "lon = []\n",
    "for i in range(len(land[0])):\n",
    "    coord = land[0][i]\n",
    "    lat.append((((coord//720)-360)/4))\n",
    "    lon.append((((coord%720)-720)/4))"
   ]
  },
  {
   "cell_type": "code",
   "execution_count": 15,
   "metadata": {},
   "outputs": [
    {
     "data": {
      "text/plain": [
       "-67.5"
      ]
     },
     "execution_count": 15,
     "metadata": {},
     "output_type": "execute_result"
    }
   ],
   "source": [
    "((land[0][2]%720)-720)/4"
   ]
  },
  {
   "cell_type": "code",
   "execution_count": 16,
   "metadata": {},
   "outputs": [
    {
     "data": {
      "text/plain": [
       "-21.5"
      ]
     },
     "execution_count": 16,
     "metadata": {},
     "output_type": "execute_result"
    }
   ],
   "source": [
    "((((land[0][2]//720)-360)/4))"
   ]
  },
  {
   "cell_type": "code",
   "execution_count": 19,
   "metadata": {},
   "outputs": [
    {
     "data": {
      "text/plain": [
       "244243"
      ]
     },
     "execution_count": 19,
     "metadata": {},
     "output_type": "execute_result"
    }
   ],
   "source": [
    "coords = list(zip(lat,lon))\n",
    "len(coords)"
   ]
  },
  {
   "cell_type": "code",
   "execution_count": 20,
   "metadata": {},
   "outputs": [],
   "source": [
    "land_coords = np.array(coords)"
   ]
  },
  {
   "cell_type": "code",
   "execution_count": 21,
   "metadata": {},
   "outputs": [
    {
     "data": {
      "text/plain": [
       "(244243, 2)"
      ]
     },
     "execution_count": 21,
     "metadata": {},
     "output_type": "execute_result"
    }
   ],
   "source": [
    "land_coords.shape"
   ]
  },
  {
   "cell_type": "code",
   "execution_count": 22,
   "metadata": {},
   "outputs": [],
   "source": [
    "np.save(\"../../data/land_coords.npy\",land_coords)"
   ]
  },
  {
   "cell_type": "code",
   "execution_count": 23,
   "metadata": {},
   "outputs": [
    {
     "data": {
      "text/plain": [
       "Index(['lat', 'lon', 'time', 'agb', 'pft_fracCover', 'sm', 'pftCrop',\n",
       "       'pftHerb', 'pftShrubBD', 'pftShrubNE', 'pftTreeBD', 'pftTreeBE',\n",
       "       'pftTreeND', 'pftTreeNE', 'GDP', 'ign', 'Distance_to_populated_areas',\n",
       "       'fPAR', 'LAI', 'NLDI', 'vod_K_anomalies', 'FPAR_12mon', 'LAI_12mon',\n",
       "       'Vod_k_anomaly_12mon', 'FPAR_06mon', 'LAI_06mon', 'Vod_k_anomaly_06mon',\n",
       "       'WDPA_fracCover', 'dtr', 'pet', 'tmx', 'wet', 'Biome', 'precip',\n",
       "       'Livestock', 'road_density', 'topo', 'pop_density'],\n",
       "      dtype='object')"
      ]
     },
     "execution_count": 23,
     "metadata": {},
     "output_type": "execute_result"
    }
   ],
   "source": [
    "import pandas as pd\n",
    "df = pd.read_pickle(\"../../data/dataset_subset_2003-2011.pkl\")\n",
    "df.columns"
   ]
  },
  {
   "cell_type": "code",
   "execution_count": 27,
   "metadata": {},
   "outputs": [],
   "source": [
    "df.drop([\"LAI\",'NLDI','FPAR_12mon','LAI_12mon','Vod_k_anomaly_12mon','FPAR_06mon','LAI_06mon','Vod_k_anomaly_06mon'],axis = 1,inplace=True)"
   ]
  },
  {
   "cell_type": "code",
   "execution_count": 30,
   "metadata": {},
   "outputs": [
    {
     "data": {
      "text/plain": [
       "Index(['lat', 'lon', 'time', 'agb', 'pft_fracCover', 'sm', 'pftCrop',\n",
       "       'pftHerb', 'pftShrubBD', 'pftShrubNE', 'pftTreeBD', 'pftTreeBE',\n",
       "       'pftTreeND', 'pftTreeNE', 'GDP', 'ign', 'Distance_to_populated_areas',\n",
       "       'fPAR', 'vod_K_anomalies', 'WDPA_fracCover', 'dtr', 'pet', 'tmx', 'wet',\n",
       "       'Biome', 'precip', 'Livestock', 'road_density', 'topo', 'pop_density'],\n",
       "      dtype='object')"
      ]
     },
     "execution_count": 30,
     "metadata": {},
     "output_type": "execute_result"
    }
   ],
   "source": [
    "df.columns"
   ]
  },
  {
   "cell_type": "code",
   "execution_count": null,
   "metadata": {},
   "outputs": [],
   "source": []
  },
  {
   "cell_type": "code",
   "execution_count": null,
   "metadata": {},
   "outputs": [],
   "source": []
  },
  {
   "cell_type": "code",
   "execution_count": null,
   "metadata": {},
   "outputs": [],
   "source": []
  },
  {
   "cell_type": "code",
   "execution_count": null,
   "metadata": {},
   "outputs": [],
   "source": []
  },
  {
   "cell_type": "code",
   "execution_count": null,
   "metadata": {},
   "outputs": [],
   "source": []
  },
  {
   "cell_type": "code",
   "execution_count": null,
   "metadata": {},
   "outputs": [],
   "source": []
  },
  {
   "cell_type": "code",
   "execution_count": 9,
   "metadata": {},
   "outputs": [],
   "source": [
    "import pandas as pd\n",
    "arr = pd.read_pickle(\"../../data/dataset_subset_2003-2011.pkl\")\n",
    "arr = arr.to_numpy()"
   ]
  },
  {
   "cell_type": "code",
   "execution_count": 10,
   "metadata": {},
   "outputs": [],
   "source": [
    "cols = ['lat', 'lon', 'time', 'agb', 'pft_fracCover', 'sm', 'pftCrop',\n",
    "       'pftHerb', 'pftShrubBD', 'pftShrubNE', 'pftTreeBD', 'pftTreeBE',\n",
    "       'pftTreeND', 'pftTreeNE', 'GDP', 'ign', 'Distance_to_populated_areas',\n",
    "       'fPAR', 'LAI', 'NLDI', 'vod_K_anomalies', 'FPAR_12mon', 'LAI_12mon',\n",
    "       'Vod_k_anomaly_12mon', 'FPAR_06mon', 'LAI_06mon', 'Vod_k_anomaly_06mon',\n",
    "       'WDPA_fracCover', 'dtr', 'pet', 'tmx', 'wet', 'Biome', 'precip',\n",
    "       'Livestock', 'road_density', 'topo', 'pop_density']"
   ]
  },
  {
   "cell_type": "code",
   "execution_count": 14,
   "metadata": {},
   "outputs": [
    {
     "data": {
      "text/plain": [
       "'LAI'"
      ]
     },
     "execution_count": 14,
     "metadata": {},
     "output_type": "execute_result"
    }
   ],
   "source": [
    "cols[18]\n",
    "#18-26"
   ]
  },
  {
   "cell_type": "code",
   "execution_count": 17,
   "metadata": {},
   "outputs": [
    {
     "data": {
      "text/plain": [
       "'Vod_k_anomaly_06mon'"
      ]
     },
     "execution_count": 17,
     "metadata": {},
     "output_type": "execute_result"
    }
   ],
   "source": [
    "cols[26]"
   ]
  },
  {
   "cell_type": "code",
   "execution_count": 19,
   "metadata": {},
   "outputs": [
    {
     "data": {
      "text/plain": [
       "29"
      ]
     },
     "execution_count": 19,
     "metadata": {},
     "output_type": "execute_result"
    }
   ],
   "source": [
    "len(cols)-9"
   ]
  },
  {
   "attachments": {},
   "cell_type": "markdown",
   "metadata": {},
   "source": [
    "We will need to seperate between static and anomaly data, anomaly would imply temp, precip, sm, fapar, dtr, wet, pet"
   ]
  },
  {
   "cell_type": "code",
   "execution_count": null,
   "metadata": {},
   "outputs": [],
   "source": []
  },
  {
   "cell_type": "code",
   "execution_count": null,
   "metadata": {},
   "outputs": [],
   "source": []
  },
  {
   "cell_type": "code",
   "execution_count": null,
   "metadata": {},
   "outputs": [],
   "source": []
  },
  {
   "cell_type": "code",
   "execution_count": null,
   "metadata": {},
   "outputs": [],
   "source": []
  },
  {
   "cell_type": "code",
   "execution_count": null,
   "metadata": {},
   "outputs": [],
   "source": []
  },
  {
   "cell_type": "code",
   "execution_count": null,
   "metadata": {},
   "outputs": [],
   "source": []
  },
  {
   "cell_type": "code",
   "execution_count": 1,
   "metadata": {},
   "outputs": [
    {
     "data": {
      "text/plain": [
       "180.0"
      ]
     },
     "execution_count": 1,
     "metadata": {},
     "output_type": "execute_result"
    }
   ],
   "source": []
  },
  {
   "cell_type": "code",
   "execution_count": null,
   "metadata": {},
   "outputs": [],
   "source": []
  }
 ],
 "metadata": {
  "kernelspec": {
   "display_name": "env",
   "language": "python",
   "name": "python3"
  },
  "language_info": {
   "codemirror_mode": {
    "name": "ipython",
    "version": 3
   },
   "file_extension": ".py",
   "mimetype": "text/x-python",
   "name": "python",
   "nbconvert_exporter": "python",
   "pygments_lexer": "ipython3",
   "version": "3.10.6"
  },
  "orig_nbformat": 4
 },
 "nbformat": 4,
 "nbformat_minor": 2
}
