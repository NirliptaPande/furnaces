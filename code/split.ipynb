{
 "cells": [
  {
   "cell_type": "markdown",
   "metadata": {},
   "source": [
    "<br>This file will split the train and test into 72 files each.\n",
    "<br> The files are of npy format for easier I/O and smaller sizes \n",
    "<br> Each file contains 14400 points with 57 time steps for train and 108 timesteps for test "
   ]
  },
  {
   "cell_type": "code",
   "execution_count": 1,
   "metadata": {},
   "outputs": [],
   "source": [
    "from multiprocessing import Pool\n",
    "from itertools import repeat\n",
    "import numpy as np\n",
    "import gc"
   ]
  },
  {
   "cell_type": "code",
   "execution_count": 2,
   "metadata": {},
   "outputs": [],
   "source": [
    "def split(index,step):\n",
    "    np.save('../data/test_%s.npy'%index,arr[index*1440*step:((index+1)*1440*step)-1])"
   ]
  },
  {
   "cell_type": "code",
   "execution_count": 3,
   "metadata": {},
   "outputs": [
    {
     "ename": "TypeError",
     "evalue": "cannot do slice indexing on RangeIndex with these indexers [492480.0] of type float64",
     "output_type": "error",
     "traceback": [
      "\u001b[0;31m---------------------------------------------------------------------------\u001b[0m",
      "\u001b[0;31mRemoteTraceback\u001b[0m                           Traceback (most recent call last)",
      "\u001b[0;31mRemoteTraceback\u001b[0m: \n\"\"\"\nTraceback (most recent call last):\n  File \"/home/npande/miniconda3/lib/python3.9/multiprocessing/pool.py\", line 125, in worker\n    result = (True, func(*args, **kwds))\n  File \"/home/npande/miniconda3/lib/python3.9/multiprocessing/pool.py\", line 51, in starmapstar\n    return list(itertools.starmap(args[0], args[1]))\n  File \"/tmp/ipykernel_2259218/3461082873.py\", line 2, in split\n    np.save('../data/test_%s.npy'%index,arr[index*1440*step:((index+1)*1440*step)-1])\n  File \"/home/npande/miniconda3/lib/python3.9/site-packages/pandas/core/frame.py\", line 3477, in __getitem__\n    indexer = convert_to_index_sliceable(self, key)\n  File \"/home/npande/miniconda3/lib/python3.9/site-packages/pandas/core/indexing.py\", line 2324, in convert_to_index_sliceable\n    return idx._convert_slice_indexer(key, kind=\"getitem\")\n  File \"/home/npande/miniconda3/lib/python3.9/site-packages/pandas/core/indexes/numeric.py\", line 279, in _convert_slice_indexer\n    return super()._convert_slice_indexer(key, kind=kind)\n  File \"/home/npande/miniconda3/lib/python3.9/site-packages/pandas/core/indexes/base.py\", line 4041, in _convert_slice_indexer\n    self._validate_indexer(\"slice\", key.start, \"getitem\")\n  File \"/home/npande/miniconda3/lib/python3.9/site-packages/pandas/core/indexes/base.py\", line 6308, in _validate_indexer\n    raise self._invalid_indexer(form, key)\nTypeError: cannot do slice indexing on RangeIndex with these indexers [492480.0] of type float64\n\"\"\"",
      "\nThe above exception was the direct cause of the following exception:\n",
      "\u001b[0;31mTypeError\u001b[0m                                 Traceback (most recent call last)",
      "\u001b[1;32m/home/npande/Desktop/furnaces/code/split.ipynb Cell 4\u001b[0m in \u001b[0;36m<cell line: 1>\u001b[0;34m()\u001b[0m\n\u001b[1;32m      <a href='vscode-notebook-cell:/home/npande/Desktop/furnaces/code/split.ipynb#X13sZmlsZQ%3D%3D?line=4'>5</a>\u001b[0m step \u001b[39m=\u001b[39m arr\u001b[39m.\u001b[39mshape[\u001b[39m0\u001b[39m]\u001b[39m/\u001b[39m\u001b[39m720\u001b[39m\u001b[39m/\u001b[39m\u001b[39m1440\u001b[39m\n\u001b[1;32m      <a href='vscode-notebook-cell:/home/npande/Desktop/furnaces/code/split.ipynb#X13sZmlsZQ%3D%3D?line=5'>6</a>\u001b[0m \u001b[39mwith\u001b[39;00m Pool() \u001b[39mas\u001b[39;00m p:\n\u001b[0;32m----> <a href='vscode-notebook-cell:/home/npande/Desktop/furnaces/code/split.ipynb#X13sZmlsZQ%3D%3D?line=6'>7</a>\u001b[0m     p\u001b[39m.\u001b[39;49mstarmap(split,\u001b[39mzip\u001b[39;49m(indices,repeat(step)))\n\u001b[1;32m      <a href='vscode-notebook-cell:/home/npande/Desktop/furnaces/code/split.ipynb#X13sZmlsZQ%3D%3D?line=7'>8</a>\u001b[0m     p\u001b[39m.\u001b[39mclose()\n\u001b[1;32m      <a href='vscode-notebook-cell:/home/npande/Desktop/furnaces/code/split.ipynb#X13sZmlsZQ%3D%3D?line=8'>9</a>\u001b[0m     p\u001b[39m.\u001b[39mjoin()\n",
      "File \u001b[0;32m~/miniconda3/lib/python3.9/multiprocessing/pool.py:372\u001b[0m, in \u001b[0;36mPool.starmap\u001b[0;34m(self, func, iterable, chunksize)\u001b[0m\n\u001b[1;32m    366\u001b[0m \u001b[39mdef\u001b[39;00m \u001b[39mstarmap\u001b[39m(\u001b[39mself\u001b[39m, func, iterable, chunksize\u001b[39m=\u001b[39m\u001b[39mNone\u001b[39;00m):\n\u001b[1;32m    367\u001b[0m     \u001b[39m'''\u001b[39;00m\n\u001b[1;32m    368\u001b[0m \u001b[39m    Like `map()` method but the elements of the `iterable` are expected to\u001b[39;00m\n\u001b[1;32m    369\u001b[0m \u001b[39m    be iterables as well and will be unpacked as arguments. Hence\u001b[39;00m\n\u001b[1;32m    370\u001b[0m \u001b[39m    `func` and (a, b) becomes func(a, b).\u001b[39;00m\n\u001b[1;32m    371\u001b[0m \u001b[39m    '''\u001b[39;00m\n\u001b[0;32m--> 372\u001b[0m     \u001b[39mreturn\u001b[39;00m \u001b[39mself\u001b[39;49m\u001b[39m.\u001b[39;49m_map_async(func, iterable, starmapstar, chunksize)\u001b[39m.\u001b[39;49mget()\n",
      "File \u001b[0;32m~/miniconda3/lib/python3.9/multiprocessing/pool.py:771\u001b[0m, in \u001b[0;36mApplyResult.get\u001b[0;34m(self, timeout)\u001b[0m\n\u001b[1;32m    769\u001b[0m     \u001b[39mreturn\u001b[39;00m \u001b[39mself\u001b[39m\u001b[39m.\u001b[39m_value\n\u001b[1;32m    770\u001b[0m \u001b[39melse\u001b[39;00m:\n\u001b[0;32m--> 771\u001b[0m     \u001b[39mraise\u001b[39;00m \u001b[39mself\u001b[39m\u001b[39m.\u001b[39m_value\n",
      "\u001b[0;31mTypeError\u001b[0m: cannot do slice indexing on RangeIndex with these indexers [492480.0] of type float64"
     ]
    }
   ],
   "source": [
    "\n",
    "if __name__ == '__main__':\n",
    "    indices = np.arange(72)\n",
    "    global arr\n",
    "    arr = np.load('../data/test.pkl', allow_pickle='True')\n",
    "    step = arr.shape[0]/720/1440\n",
    "    with Pool() as p:\n",
    "        p.starmap(split,zip(indices,repeat(step)))\n",
    "        p.close()\n",
    "        p.join()\n",
    "    del(arr)\n",
    "    gc.collect()\n",
    "    arr = np.load('../data/train.pkl', allow_pickle='True')\n",
    "    step = arr.shape[0]/720/1440\n",
    "    with Pool() as p:\n",
    "        p.starmap(split,zip(indices,repeat(step)))\n",
    "        p.close()\n",
    "        p.join()\n",
    "    del(arr)\n",
    "    gc.collect()\n",
    "\n"
   ]
  },
  {
   "cell_type": "code",
   "execution_count": 5,
   "metadata": {},
   "outputs": [
    {
     "data": {
      "text/plain": [
       "34"
      ]
     },
     "execution_count": 5,
     "metadata": {},
     "output_type": "execute_result"
    }
   ],
   "source": [
    "492480//14400"
   ]
  },
  {
   "cell_type": "code",
   "execution_count": 3,
   "metadata": {},
   "outputs": [],
   "source": [
    "from multiprocessing import Pool\n",
    "import numpy as np\n",
    "import gc\n",
    "def split_train(index):\n",
    "    step = int(arr.shape[0]/720/1440)\n",
    "    np.save('../data/train_%s.npy'%index,arr[index*14400*step:((index+1)*14400*step)])\n",
    "arr = np.load('../data/train.pkl', allow_pickle='True')"
   ]
  },
  {
   "cell_type": "code",
   "execution_count": 4,
   "metadata": {},
   "outputs": [
    {
     "data": {
      "text/plain": [
       "0"
      ]
     },
     "execution_count": 4,
     "metadata": {},
     "output_type": "execute_result"
    }
   ],
   "source": [
    "indices = np.arange(72)\n",
    "with Pool() as p:\n",
    "    p.map(split_train,indices)\n",
    "p.close()\n",
    "p.join()\n",
    "del(arr)\n",
    "gc.collect()"
   ]
  },
  {
   "cell_type": "code",
   "execution_count": 3,
   "metadata": {},
   "outputs": [],
   "source": [
    "import numpy as np\n",
    "arr = np.array([[1, 2, 3], [4, 5, 6], [7, 8, 9]])"
   ]
  },
  {
   "cell_type": "code",
   "execution_count": 4,
   "metadata": {},
   "outputs": [
    {
     "data": {
      "text/plain": [
       "array([[1, 2, 3],\n",
       "       [4, 5, 6],\n",
       "       [7, 8, 9]])"
      ]
     },
     "execution_count": 4,
     "metadata": {},
     "output_type": "execute_result"
    }
   ],
   "source": [
    "arr"
   ]
  },
  {
   "cell_type": "code",
   "execution_count": 13,
   "metadata": {},
   "outputs": [],
   "source": [
    "arr_new = np.append(arr,np.transpose([[5,6,7]]),axis = 1)"
   ]
  },
  {
   "cell_type": "code",
   "execution_count": 14,
   "metadata": {},
   "outputs": [
    {
     "data": {
      "text/plain": [
       "array([[1, 2, 3],\n",
       "       [4, 5, 6],\n",
       "       [7, 8, 9]])"
      ]
     },
     "execution_count": 14,
     "metadata": {},
     "output_type": "execute_result"
    }
   ],
   "source": [
    "arr"
   ]
  },
  {
   "cell_type": "code",
   "execution_count": 15,
   "metadata": {},
   "outputs": [
    {
     "data": {
      "text/plain": [
       "array([[1, 2, 3, 5],\n",
       "       [4, 5, 6, 6],\n",
       "       [7, 8, 9, 7]])"
      ]
     },
     "execution_count": 15,
     "metadata": {},
     "output_type": "execute_result"
    }
   ],
   "source": [
    "arr_new"
   ]
  },
  {
   "cell_type": "code",
   "execution_count": 20,
   "metadata": {},
   "outputs": [],
   "source": [
    "arr_newer = np.append(arr,arr[:,[0,2]],axis = 1)"
   ]
  },
  {
   "cell_type": "code",
   "execution_count": 18,
   "metadata": {},
   "outputs": [
    {
     "data": {
      "text/plain": [
       "(3,)"
      ]
     },
     "execution_count": 18,
     "metadata": {},
     "output_type": "execute_result"
    }
   ],
   "source": [
    "arr[:,2].shape"
   ]
  },
  {
   "cell_type": "code",
   "execution_count": 21,
   "metadata": {},
   "outputs": [
    {
     "data": {
      "text/plain": [
       "array([[1, 2, 3, 1, 3],\n",
       "       [4, 5, 6, 4, 6],\n",
       "       [7, 8, 9, 7, 9]])"
      ]
     },
     "execution_count": 21,
     "metadata": {},
     "output_type": "execute_result"
    }
   ],
   "source": [
    "arr_newer"
   ]
  },
  {
   "cell_type": "code",
   "execution_count": 24,
   "metadata": {},
   "outputs": [],
   "source": [
    "testing = arr_newer[:,[0,2,4]]"
   ]
  },
  {
   "cell_type": "code",
   "execution_count": 28,
   "metadata": {},
   "outputs": [],
   "source": [
    "test_arr = np.append(arr,np.transpose([testing[1]]),axis = 1)"
   ]
  },
  {
   "cell_type": "code",
   "execution_count": 26,
   "metadata": {},
   "outputs": [
    {
     "data": {
      "text/plain": [
       "(3,)"
      ]
     },
     "execution_count": 26,
     "metadata": {},
     "output_type": "execute_result"
    }
   ],
   "source": [
    "testing[1].shape"
   ]
  },
  {
   "cell_type": "markdown",
   "metadata": {},
   "source": []
  }
 ],
 "metadata": {
  "kernelspec": {
   "display_name": "Python 3.9.12 ('base')",
   "language": "python",
   "name": "python3"
  },
  "language_info": {
   "codemirror_mode": {
    "name": "ipython",
    "version": 3
   },
   "file_extension": ".py",
   "mimetype": "text/x-python",
   "name": "python",
   "nbconvert_exporter": "python",
   "pygments_lexer": "ipython3",
   "version": "3.9.12"
  },
  "orig_nbformat": 4,
  "vscode": {
   "interpreter": {
    "hash": "5ada4cf0cad2096cd5309648803c4307950250cf02ee0fe760781a5d29f65513"
   }
  }
 },
 "nbformat": 4,
 "nbformat_minor": 2
}
