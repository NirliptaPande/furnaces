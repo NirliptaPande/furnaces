{
 "cells": [
  {
   "cell_type": "code",
   "execution_count": 3,
   "metadata": {},
   "outputs": [
    {
     "ename": "FileNotFoundError",
     "evalue": "[Errno 2] No such file or directory: '../../data/train_sans_ocean.npy'",
     "output_type": "error",
     "traceback": [
      "\u001b[0;31m---------------------------------------------------------------------------\u001b[0m",
      "\u001b[0;31mFileNotFoundError\u001b[0m                         Traceback (most recent call last)",
      "\u001b[0;32m<ipython-input-3-5b97aff5d450>\u001b[0m in \u001b[0;36m<module>\u001b[0;34m\u001b[0m\n\u001b[1;32m      3\u001b[0m \u001b[0;32mimport\u001b[0m \u001b[0mmatplotlib\u001b[0m\u001b[0;34m.\u001b[0m\u001b[0mpyplot\u001b[0m \u001b[0;32mas\u001b[0m \u001b[0mplt\u001b[0m\u001b[0;34m\u001b[0m\u001b[0;34m\u001b[0m\u001b[0m\n\u001b[1;32m      4\u001b[0m \u001b[0mget_ipython\u001b[0m\u001b[0;34m(\u001b[0m\u001b[0;34m)\u001b[0m\u001b[0;34m.\u001b[0m\u001b[0mrun_line_magic\u001b[0m\u001b[0;34m(\u001b[0m\u001b[0;34m'matplotlib'\u001b[0m\u001b[0;34m,\u001b[0m \u001b[0;34m'inline'\u001b[0m\u001b[0;34m)\u001b[0m\u001b[0;34m\u001b[0m\u001b[0;34m\u001b[0m\u001b[0m\n\u001b[0;32m----> 5\u001b[0;31m \u001b[0mtrain\u001b[0m \u001b[0;34m=\u001b[0m \u001b[0mnp\u001b[0m\u001b[0;34m.\u001b[0m\u001b[0mload\u001b[0m\u001b[0;34m(\u001b[0m\u001b[0;34m'../../data/train_sans_ocean.npy'\u001b[0m\u001b[0;34m)\u001b[0m\u001b[0;34m\u001b[0m\u001b[0;34m\u001b[0m\u001b[0m\n\u001b[0m",
      "\u001b[0;32m~/opt/anaconda3/lib/python3.8/site-packages/numpy/lib/npyio.py\u001b[0m in \u001b[0;36mload\u001b[0;34m(file, mmap_mode, allow_pickle, fix_imports, encoding)\u001b[0m\n\u001b[1;32m    415\u001b[0m             \u001b[0mown_fid\u001b[0m \u001b[0;34m=\u001b[0m \u001b[0;32mFalse\u001b[0m\u001b[0;34m\u001b[0m\u001b[0;34m\u001b[0m\u001b[0m\n\u001b[1;32m    416\u001b[0m         \u001b[0;32melse\u001b[0m\u001b[0;34m:\u001b[0m\u001b[0;34m\u001b[0m\u001b[0;34m\u001b[0m\u001b[0m\n\u001b[0;32m--> 417\u001b[0;31m             \u001b[0mfid\u001b[0m \u001b[0;34m=\u001b[0m \u001b[0mstack\u001b[0m\u001b[0;34m.\u001b[0m\u001b[0menter_context\u001b[0m\u001b[0;34m(\u001b[0m\u001b[0mopen\u001b[0m\u001b[0;34m(\u001b[0m\u001b[0mos_fspath\u001b[0m\u001b[0;34m(\u001b[0m\u001b[0mfile\u001b[0m\u001b[0;34m)\u001b[0m\u001b[0;34m,\u001b[0m \u001b[0;34m\"rb\"\u001b[0m\u001b[0;34m)\u001b[0m\u001b[0;34m)\u001b[0m\u001b[0;34m\u001b[0m\u001b[0;34m\u001b[0m\u001b[0m\n\u001b[0m\u001b[1;32m    418\u001b[0m             \u001b[0mown_fid\u001b[0m \u001b[0;34m=\u001b[0m \u001b[0;32mTrue\u001b[0m\u001b[0;34m\u001b[0m\u001b[0;34m\u001b[0m\u001b[0m\n\u001b[1;32m    419\u001b[0m \u001b[0;34m\u001b[0m\u001b[0m\n",
      "\u001b[0;31mFileNotFoundError\u001b[0m: [Errno 2] No such file or directory: '../../data/train_sans_ocean.npy'"
     ]
    }
   ],
   "source": [
    "import numpy as np\n",
    "import pandas as pd\n",
    "import matplotlib.pyplot as plt\n",
    "%matplotlib inline\n",
    "train = np.load('../../data/train_sans_ocean.npy')"
   ]
  },
  {
   "cell_type": "code",
   "execution_count": 3,
   "metadata": {},
   "outputs": [],
   "source": [
    "train = np.delete(train,[0,1,2],1)"
   ]
  },
  {
   "cell_type": "code",
   "execution_count": 4,
   "metadata": {},
   "outputs": [
    {
     "data": {
      "text/plain": [
       "array([[22.06954575,  0.15601434,  0.        , ...,  0.        ,\n",
       "         0.        ,  0.        ],\n",
       "       [22.06954575,  0.15601434,  0.        , ...,  0.        ,\n",
       "         0.        ,  0.        ],\n",
       "       [22.06954575,  0.15601434,  0.        , ...,  0.        ,\n",
       "         0.        ,  0.        ],\n",
       "       ...,\n",
       "       [ 0.        ,  0.        ,  0.        , ...,  0.        ,\n",
       "         0.        ,  0.        ],\n",
       "       [ 0.        ,  0.        ,  0.        , ...,  0.        ,\n",
       "         0.        ,  0.        ],\n",
       "       [ 0.        ,  0.        ,  0.        , ...,  0.        ,\n",
       "         0.        ,  0.        ]])"
      ]
     },
     "execution_count": 4,
     "metadata": {},
     "output_type": "execute_result"
    }
   ],
   "source": [
    "np.nan_to_num(train,copy=False)"
   ]
  },
  {
   "cell_type": "code",
   "execution_count": 5,
   "metadata": {},
   "outputs": [],
   "source": [
    "res = pd.DataFrame(train).describe()\n",
    "res.columns = ['agb', 'pft_fracCover', 'sm', 'pftCrop',\n",
    "       'pftHerb', 'pftShrubBD', 'pftShrubNE', 'pftTreeBD', 'pftTreeBE',\n",
    "       'pftTreeND', 'pftTreeNE', 'GDP', 'ign', 'Distance_to_populated_areas',\n",
    "       'fPAR', 'LAI', 'NLDI', 'vod_K_anomalies', 'FPAR_12mon', 'LAI_12mon',\n",
    "       'Vod_k_anomaly_12mon', 'FPAR_06mon', 'LAI_06mon', 'Vod_k_anomaly_06mon',\n",
    "       'WDPA_fracCover', 'dtr', 'pet', 'tmx', 'wet', 'Biome', 'precip',\n",
    "       'Livestock', 'road_density', 'topo', 'pop_density']\n",
    "       #vod_K_anomalies\n",
    "       #Vod_k_anomaly_12mon\n",
    "       #Vod_k_anomaly_06mon\n",
    "       #tmx"
   ]
  },
  {
   "cell_type": "code",
   "execution_count": 40,
   "metadata": {},
   "outputs": [
    {
     "data": {
      "text/plain": [
       "count    2.637824e+07\n",
       "mean     3.976683e+01\n",
       "std      3.205707e+02\n",
       "min      0.000000e+00\n",
       "25%      0.000000e+00\n",
       "50%      1.632388e-01\n",
       "75%      6.496927e+00\n",
       "max      3.808370e+04\n",
       "Name: pop_density, dtype: float64"
      ]
     },
     "execution_count": 40,
     "metadata": {},
     "output_type": "execute_result"
    }
   ],
   "source": [
    "res['pop_density']"
   ]
  },
  {
   "cell_type": "code",
   "execution_count": 5,
   "metadata": {},
   "outputs": [
    {
     "data": {
      "text/html": [
       "<div>\n",
       "<style scoped>\n",
       "    .dataframe tbody tr th:only-of-type {\n",
       "        vertical-align: middle;\n",
       "    }\n",
       "\n",
       "    .dataframe tbody tr th {\n",
       "        vertical-align: top;\n",
       "    }\n",
       "\n",
       "    .dataframe thead th {\n",
       "        text-align: right;\n",
       "    }\n",
       "</style>\n",
       "<table border=\"1\" class=\"dataframe\">\n",
       "  <thead>\n",
       "    <tr style=\"text-align: right;\">\n",
       "      <th></th>\n",
       "      <th>lat</th>\n",
       "      <th>lon</th>\n",
       "      <th>time</th>\n",
       "      <th>agb</th>\n",
       "      <th>pft_fracCover</th>\n",
       "      <th>sm</th>\n",
       "      <th>pftCrop</th>\n",
       "      <th>pftHerb</th>\n",
       "      <th>pftShrubBD</th>\n",
       "      <th>pftShrubNE</th>\n",
       "      <th>...</th>\n",
       "      <th>dtr</th>\n",
       "      <th>pet</th>\n",
       "      <th>tmx</th>\n",
       "      <th>wet</th>\n",
       "      <th>Biome</th>\n",
       "      <th>precip</th>\n",
       "      <th>Livestock</th>\n",
       "      <th>road_density</th>\n",
       "      <th>topo</th>\n",
       "      <th>pop_density</th>\n",
       "    </tr>\n",
       "  </thead>\n",
       "  <tbody>\n",
       "    <tr>\n",
       "      <th>count</th>\n",
       "      <td>2.637824e+07</td>\n",
       "      <td>2.637824e+07</td>\n",
       "      <td>2.637824e+07</td>\n",
       "      <td>2.637824e+07</td>\n",
       "      <td>2.637824e+07</td>\n",
       "      <td>2.637824e+07</td>\n",
       "      <td>2.637824e+07</td>\n",
       "      <td>2.637824e+07</td>\n",
       "      <td>2.637824e+07</td>\n",
       "      <td>2.637824e+07</td>\n",
       "      <td>...</td>\n",
       "      <td>2.637824e+07</td>\n",
       "      <td>2.637824e+07</td>\n",
       "      <td>2.637824e+07</td>\n",
       "      <td>2.637824e+07</td>\n",
       "      <td>2.637824e+07</td>\n",
       "      <td>2.637824e+07</td>\n",
       "      <td>2.637824e+07</td>\n",
       "      <td>2.637824e+07</td>\n",
       "      <td>2.637824e+07</td>\n",
       "      <td>2.637824e+07</td>\n",
       "    </tr>\n",
       "    <tr>\n",
       "      <th>mean</th>\n",
       "      <td>3.296606e+01</td>\n",
       "      <td>1.796954e+01</td>\n",
       "      <td>2.007070e+05</td>\n",
       "      <td>1.347588e+01</td>\n",
       "      <td>6.474957e-01</td>\n",
       "      <td>1.648342e-01</td>\n",
       "      <td>1.395169e-01</td>\n",
       "      <td>1.753276e-01</td>\n",
       "      <td>6.971261e-02</td>\n",
       "      <td>2.585613e-02</td>\n",
       "      <td>...</td>\n",
       "      <td>1.136147e+01</td>\n",
       "      <td>2.776667e+00</td>\n",
       "      <td>1.472397e+01</td>\n",
       "      <td>9.334530e+00</td>\n",
       "      <td>1.094813e+01</td>\n",
       "      <td>5.789263e+01</td>\n",
       "      <td>8.257602e+02</td>\n",
       "      <td>1.480981e+02</td>\n",
       "      <td>9.761590e-01</td>\n",
       "      <td>3.976683e+01</td>\n",
       "    </tr>\n",
       "    <tr>\n",
       "      <th>std</th>\n",
       "      <td>3.209927e+01</td>\n",
       "      <td>8.475633e+01</td>\n",
       "      <td>2.582220e+02</td>\n",
       "      <td>5.086562e+01</td>\n",
       "      <td>3.618286e-01</td>\n",
       "      <td>1.099274e-01</td>\n",
       "      <td>2.589931e-01</td>\n",
       "      <td>1.547391e-01</td>\n",
       "      <td>7.982956e-02</td>\n",
       "      <td>2.686948e-02</td>\n",
       "      <td>...</td>\n",
       "      <td>3.825276e+00</td>\n",
       "      <td>2.142596e+00</td>\n",
       "      <td>1.826568e+01</td>\n",
       "      <td>6.590363e+00</td>\n",
       "      <td>1.803764e+01</td>\n",
       "      <td>8.604259e+01</td>\n",
       "      <td>2.237212e+03</td>\n",
       "      <td>5.274169e+02</td>\n",
       "      <td>1.525537e-01</td>\n",
       "      <td>3.205707e+02</td>\n",
       "    </tr>\n",
       "    <tr>\n",
       "      <th>min</th>\n",
       "      <td>-5.575000e+01</td>\n",
       "      <td>-1.797500e+02</td>\n",
       "      <td>2.003015e+05</td>\n",
       "      <td>0.000000e+00</td>\n",
       "      <td>0.000000e+00</td>\n",
       "      <td>0.000000e+00</td>\n",
       "      <td>0.000000e+00</td>\n",
       "      <td>0.000000e+00</td>\n",
       "      <td>0.000000e+00</td>\n",
       "      <td>0.000000e+00</td>\n",
       "      <td>...</td>\n",
       "      <td>0.000000e+00</td>\n",
       "      <td>0.000000e+00</td>\n",
       "      <td>-5.000000e+01</td>\n",
       "      <td>0.000000e+00</td>\n",
       "      <td>0.000000e+00</td>\n",
       "      <td>0.000000e+00</td>\n",
       "      <td>0.000000e+00</td>\n",
       "      <td>0.000000e+00</td>\n",
       "      <td>0.000000e+00</td>\n",
       "      <td>0.000000e+00</td>\n",
       "    </tr>\n",
       "    <tr>\n",
       "      <th>25%</th>\n",
       "      <td>1.000000e+01</td>\n",
       "      <td>-6.125000e+01</td>\n",
       "      <td>2.005042e+05</td>\n",
       "      <td>0.000000e+00</td>\n",
       "      <td>3.392336e-01</td>\n",
       "      <td>7.927549e-02</td>\n",
       "      <td>0.000000e+00</td>\n",
       "      <td>3.600007e-02</td>\n",
       "      <td>8.209897e-03</td>\n",
       "      <td>1.851889e-03</td>\n",
       "      <td>...</td>\n",
       "      <td>8.600000e+00</td>\n",
       "      <td>8.000000e-01</td>\n",
       "      <td>2.100000e+00</td>\n",
       "      <td>3.960000e+00</td>\n",
       "      <td>5.000000e+00</td>\n",
       "      <td>7.420000e+00</td>\n",
       "      <td>5.800295e+00</td>\n",
       "      <td>0.000000e+00</td>\n",
       "      <td>1.000000e+00</td>\n",
       "      <td>0.000000e+00</td>\n",
       "    </tr>\n",
       "    <tr>\n",
       "      <th>50%</th>\n",
       "      <td>4.000000e+01</td>\n",
       "      <td>2.700000e+01</td>\n",
       "      <td>2.007070e+05</td>\n",
       "      <td>0.000000e+00</td>\n",
       "      <td>8.135355e-01</td>\n",
       "      <td>1.803230e-01</td>\n",
       "      <td>1.950563e-03</td>\n",
       "      <td>1.652158e-01</td>\n",
       "      <td>4.916669e-02</td>\n",
       "      <td>1.636148e-02</td>\n",
       "      <td>...</td>\n",
       "      <td>1.110000e+01</td>\n",
       "      <td>2.800000e+00</td>\n",
       "      <td>1.930000e+01</td>\n",
       "      <td>8.970000e+00</td>\n",
       "      <td>7.000000e+00</td>\n",
       "      <td>2.702000e+01</td>\n",
       "      <td>7.202480e+01</td>\n",
       "      <td>4.200000e+01</td>\n",
       "      <td>1.000000e+00</td>\n",
       "      <td>1.632388e-01</td>\n",
       "    </tr>\n",
       "    <tr>\n",
       "      <th>75%</th>\n",
       "      <td>6.000000e+01</td>\n",
       "      <td>9.075000e+01</td>\n",
       "      <td>2.009098e+05</td>\n",
       "      <td>0.000000e+00</td>\n",
       "      <td>9.479574e-01</td>\n",
       "      <td>2.503570e-01</td>\n",
       "      <td>1.361448e-01</td>\n",
       "      <td>2.488147e-01</td>\n",
       "      <td>9.599388e-02</td>\n",
       "      <td>4.696056e-02</td>\n",
       "      <td>...</td>\n",
       "      <td>1.390000e+01</td>\n",
       "      <td>4.000000e+00</td>\n",
       "      <td>3.010000e+01</td>\n",
       "      <td>1.365000e+01</td>\n",
       "      <td>1.100000e+01</td>\n",
       "      <td>6.959000e+01</td>\n",
       "      <td>6.234733e+02</td>\n",
       "      <td>1.340000e+02</td>\n",
       "      <td>1.000000e+00</td>\n",
       "      <td>6.496927e+00</td>\n",
       "    </tr>\n",
       "    <tr>\n",
       "      <th>max</th>\n",
       "      <td>8.375000e+01</td>\n",
       "      <td>1.800000e+02</td>\n",
       "      <td>2.011125e+05</td>\n",
       "      <td>3.412600e+02</td>\n",
       "      <td>1.000000e+00</td>\n",
       "      <td>1.000000e+00</td>\n",
       "      <td>1.000000e+00</td>\n",
       "      <td>7.000000e-01</td>\n",
       "      <td>6.000000e-01</td>\n",
       "      <td>2.008293e-01</td>\n",
       "      <td>...</td>\n",
       "      <td>4.050000e+01</td>\n",
       "      <td>1.260000e+01</td>\n",
       "      <td>4.810000e+01</td>\n",
       "      <td>3.100000e+01</td>\n",
       "      <td>9.900000e+01</td>\n",
       "      <td>3.821850e+03</td>\n",
       "      <td>1.695468e+05</td>\n",
       "      <td>5.567600e+04</td>\n",
       "      <td>1.000000e+00</td>\n",
       "      <td>3.808370e+04</td>\n",
       "    </tr>\n",
       "  </tbody>\n",
       "</table>\n",
       "<p>8 rows × 38 columns</p>\n",
       "</div>"
      ],
      "text/plain": [
       "                lat           lon          time           agb  pft_fracCover  \\\n",
       "count  2.637824e+07  2.637824e+07  2.637824e+07  2.637824e+07   2.637824e+07   \n",
       "mean   3.296606e+01  1.796954e+01  2.007070e+05  1.347588e+01   6.474957e-01   \n",
       "std    3.209927e+01  8.475633e+01  2.582220e+02  5.086562e+01   3.618286e-01   \n",
       "min   -5.575000e+01 -1.797500e+02  2.003015e+05  0.000000e+00   0.000000e+00   \n",
       "25%    1.000000e+01 -6.125000e+01  2.005042e+05  0.000000e+00   3.392336e-01   \n",
       "50%    4.000000e+01  2.700000e+01  2.007070e+05  0.000000e+00   8.135355e-01   \n",
       "75%    6.000000e+01  9.075000e+01  2.009098e+05  0.000000e+00   9.479574e-01   \n",
       "max    8.375000e+01  1.800000e+02  2.011125e+05  3.412600e+02   1.000000e+00   \n",
       "\n",
       "                 sm       pftCrop       pftHerb    pftShrubBD    pftShrubNE  \\\n",
       "count  2.637824e+07  2.637824e+07  2.637824e+07  2.637824e+07  2.637824e+07   \n",
       "mean   1.648342e-01  1.395169e-01  1.753276e-01  6.971261e-02  2.585613e-02   \n",
       "std    1.099274e-01  2.589931e-01  1.547391e-01  7.982956e-02  2.686948e-02   \n",
       "min    0.000000e+00  0.000000e+00  0.000000e+00  0.000000e+00  0.000000e+00   \n",
       "25%    7.927549e-02  0.000000e+00  3.600007e-02  8.209897e-03  1.851889e-03   \n",
       "50%    1.803230e-01  1.950563e-03  1.652158e-01  4.916669e-02  1.636148e-02   \n",
       "75%    2.503570e-01  1.361448e-01  2.488147e-01  9.599388e-02  4.696056e-02   \n",
       "max    1.000000e+00  1.000000e+00  7.000000e-01  6.000000e-01  2.008293e-01   \n",
       "\n",
       "       ...           dtr           pet           tmx           wet  \\\n",
       "count  ...  2.637824e+07  2.637824e+07  2.637824e+07  2.637824e+07   \n",
       "mean   ...  1.136147e+01  2.776667e+00  1.472397e+01  9.334530e+00   \n",
       "std    ...  3.825276e+00  2.142596e+00  1.826568e+01  6.590363e+00   \n",
       "min    ...  0.000000e+00  0.000000e+00 -5.000000e+01  0.000000e+00   \n",
       "25%    ...  8.600000e+00  8.000000e-01  2.100000e+00  3.960000e+00   \n",
       "50%    ...  1.110000e+01  2.800000e+00  1.930000e+01  8.970000e+00   \n",
       "75%    ...  1.390000e+01  4.000000e+00  3.010000e+01  1.365000e+01   \n",
       "max    ...  4.050000e+01  1.260000e+01  4.810000e+01  3.100000e+01   \n",
       "\n",
       "              Biome        precip     Livestock  road_density          topo  \\\n",
       "count  2.637824e+07  2.637824e+07  2.637824e+07  2.637824e+07  2.637824e+07   \n",
       "mean   1.094813e+01  5.789263e+01  8.257602e+02  1.480981e+02  9.761590e-01   \n",
       "std    1.803764e+01  8.604259e+01  2.237212e+03  5.274169e+02  1.525537e-01   \n",
       "min    0.000000e+00  0.000000e+00  0.000000e+00  0.000000e+00  0.000000e+00   \n",
       "25%    5.000000e+00  7.420000e+00  5.800295e+00  0.000000e+00  1.000000e+00   \n",
       "50%    7.000000e+00  2.702000e+01  7.202480e+01  4.200000e+01  1.000000e+00   \n",
       "75%    1.100000e+01  6.959000e+01  6.234733e+02  1.340000e+02  1.000000e+00   \n",
       "max    9.900000e+01  3.821850e+03  1.695468e+05  5.567600e+04  1.000000e+00   \n",
       "\n",
       "        pop_density  \n",
       "count  2.637824e+07  \n",
       "mean   3.976683e+01  \n",
       "std    3.205707e+02  \n",
       "min    0.000000e+00  \n",
       "25%    0.000000e+00  \n",
       "50%    1.632388e-01  \n",
       "75%    6.496927e+00  \n",
       "max    3.808370e+04  \n",
       "\n",
       "[8 rows x 38 columns]"
      ]
     },
     "execution_count": 5,
     "metadata": {},
     "output_type": "execute_result"
    }
   ],
   "source": [
    "res"
   ]
  },
  {
   "cell_type": "code",
   "execution_count": 42,
   "metadata": {},
   "outputs": [
    {
     "data": {
      "text/html": [
       "<div>\n",
       "<style scoped>\n",
       "    .dataframe tbody tr th:only-of-type {\n",
       "        vertical-align: middle;\n",
       "    }\n",
       "\n",
       "    .dataframe tbody tr th {\n",
       "        vertical-align: top;\n",
       "    }\n",
       "\n",
       "    .dataframe thead th {\n",
       "        text-align: right;\n",
       "    }\n",
       "</style>\n",
       "<table border=\"1\" class=\"dataframe\">\n",
       "  <thead>\n",
       "    <tr style=\"text-align: right;\">\n",
       "      <th></th>\n",
       "      <th>0</th>\n",
       "    </tr>\n",
       "  </thead>\n",
       "  <tbody>\n",
       "    <tr>\n",
       "      <th>count</th>\n",
       "      <td>26378244.000000</td>\n",
       "    </tr>\n",
       "    <tr>\n",
       "      <th>mean</th>\n",
       "      <td>13.475876</td>\n",
       "    </tr>\n",
       "    <tr>\n",
       "      <th>std</th>\n",
       "      <td>50.865619</td>\n",
       "    </tr>\n",
       "    <tr>\n",
       "      <th>min</th>\n",
       "      <td>0.000000</td>\n",
       "    </tr>\n",
       "    <tr>\n",
       "      <th>25%</th>\n",
       "      <td>0.000000</td>\n",
       "    </tr>\n",
       "    <tr>\n",
       "      <th>50%</th>\n",
       "      <td>0.000000</td>\n",
       "    </tr>\n",
       "    <tr>\n",
       "      <th>75%</th>\n",
       "      <td>0.000000</td>\n",
       "    </tr>\n",
       "    <tr>\n",
       "      <th>max</th>\n",
       "      <td>341.260040</td>\n",
       "    </tr>\n",
       "  </tbody>\n",
       "</table>\n",
       "</div>"
      ],
      "text/plain": [
       "                     0\n",
       "count  26378244.000000\n",
       "mean         13.475876\n",
       "std          50.865619\n",
       "min           0.000000\n",
       "25%           0.000000\n",
       "50%           0.000000\n",
       "75%           0.000000\n",
       "max         341.260040"
      ]
     },
     "execution_count": 42,
     "metadata": {},
     "output_type": "execute_result"
    }
   ],
   "source": [
    "#Above Ground Biomass\n",
    "agb = train[:,3]\n",
    "(pd.DataFrame(agb).describe()).apply(lambda s: s.apply(lambda x: format(x, 'f')))"
   ]
  },
  {
   "cell_type": "code",
   "execution_count": 1,
   "metadata": {},
   "outputs": [],
   "source": [
    "import numpy as np\n",
    "import matplotlib.pyplot as plt\n",
    "%matplotlib inline\n",
    "train = np.load('../data/train_median.npy')"
   ]
  },
  {
   "cell_type": "code",
   "execution_count": 10,
   "metadata": {},
   "outputs": [
    {
     "data": {
      "text/html": [
       "<div>\n",
       "<style scoped>\n",
       "    .dataframe tbody tr th:only-of-type {\n",
       "        vertical-align: middle;\n",
       "    }\n",
       "\n",
       "    .dataframe tbody tr th {\n",
       "        vertical-align: top;\n",
       "    }\n",
       "\n",
       "    .dataframe thead th {\n",
       "        text-align: right;\n",
       "    }\n",
       "</style>\n",
       "<table border=\"1\" class=\"dataframe\">\n",
       "  <thead>\n",
       "    <tr style=\"text-align: right;\">\n",
       "      <th></th>\n",
       "      <th>0</th>\n",
       "    </tr>\n",
       "  </thead>\n",
       "  <tbody>\n",
       "    <tr>\n",
       "      <th>count</th>\n",
       "      <td>22541652.000000</td>\n",
       "    </tr>\n",
       "    <tr>\n",
       "      <th>mean</th>\n",
       "      <td>15.988967</td>\n",
       "    </tr>\n",
       "    <tr>\n",
       "      <th>std</th>\n",
       "      <td>54.631415</td>\n",
       "    </tr>\n",
       "    <tr>\n",
       "      <th>min</th>\n",
       "      <td>0.000002</td>\n",
       "    </tr>\n",
       "    <tr>\n",
       "      <th>25%</th>\n",
       "      <td>0.270051</td>\n",
       "    </tr>\n",
       "    <tr>\n",
       "      <th>50%</th>\n",
       "      <td>0.270051</td>\n",
       "    </tr>\n",
       "    <tr>\n",
       "      <th>75%</th>\n",
       "      <td>0.270051</td>\n",
       "    </tr>\n",
       "    <tr>\n",
       "      <th>max</th>\n",
       "      <td>341.260040</td>\n",
       "    </tr>\n",
       "  </tbody>\n",
       "</table>\n",
       "</div>"
      ],
      "text/plain": [
       "                     0\n",
       "count  22541652.000000\n",
       "mean         15.988967\n",
       "std          54.631415\n",
       "min           0.000002\n",
       "25%           0.270051\n",
       "50%           0.270051\n",
       "75%           0.270051\n",
       "max         341.260040"
      ]
     },
     "execution_count": 10,
     "metadata": {},
     "output_type": "execute_result"
    }
   ],
   "source": [
    "import pandas as pd\n",
    "(pd.DataFrame(agb).describe()).apply(lambda s: s.apply(lambda x: format(x, 'f')))"
   ]
  },
  {
   "cell_type": "code",
   "execution_count": 5,
   "metadata": {},
   "outputs": [
    {
     "data": {
      "text/plain": [
       "nan"
      ]
     },
     "execution_count": 5,
     "metadata": {},
     "output_type": "execute_result"
    }
   ],
   "source": [
    "np.amax(agb)"
   ]
  },
  {
   "cell_type": "code",
   "execution_count": 17,
   "metadata": {},
   "outputs": [
    {
     "data": {
      "image/png": "[encoded data removed]",
      "text/plain": [
       "<Figure size 432x288 with 1 Axes>"
      ]
     },
     "metadata": {
      "needs_background": "light"
     },
     "output_type": "display_data"
    }
   ],
   "source": [
    "agb = train[:,3]\n",
    "agb = agb[agb!=0]\n",
    "x,_,_= plt.hist(agb,bins = np.arange(0.3,np.nanmax(agb),np.exp(0.2)))\n",
    "plt.xlabel('agb')\n",
    "plt.ylabel('Freq')\n",
    "plt.title(\"Frequency of Above Ground Biomass over time and space\")\n",
    "plt.vlines(np.nanmean(agb),x.min(),x.max(),colors='r',linestyle= 'dashed', label = 'mean')\n",
    "plt.legend()\n",
    "plt.show()"
   ]
  },
  {
   "cell_type": "code",
   "execution_count": 12,
   "metadata": {},
   "outputs": [
    {
     "data": {
      "text/html": [
       "<div>\n",
       "<style scoped>\n",
       "    .dataframe tbody tr th:only-of-type {\n",
       "        vertical-align: middle;\n",
       "    }\n",
       "\n",
       "    .dataframe tbody tr th {\n",
       "        vertical-align: top;\n",
       "    }\n",
       "\n",
       "    .dataframe thead th {\n",
       "        text-align: right;\n",
       "    }\n",
       "</style>\n",
       "<table border=\"1\" class=\"dataframe\">\n",
       "  <thead>\n",
       "    <tr style=\"text-align: right;\">\n",
       "      <th></th>\n",
       "      <th>0</th>\n",
       "    </tr>\n",
       "  </thead>\n",
       "  <tbody>\n",
       "    <tr>\n",
       "      <th>count</th>\n",
       "      <td>22541652.000000</td>\n",
       "    </tr>\n",
       "    <tr>\n",
       "      <th>mean</th>\n",
       "      <td>-0.456064</td>\n",
       "    </tr>\n",
       "    <tr>\n",
       "      <th>std</th>\n",
       "      <td>2.028632</td>\n",
       "    </tr>\n",
       "    <tr>\n",
       "      <th>min</th>\n",
       "      <td>-13.390317</td>\n",
       "    </tr>\n",
       "    <tr>\n",
       "      <th>25%</th>\n",
       "      <td>-1.309144</td>\n",
       "    </tr>\n",
       "    <tr>\n",
       "      <th>50%</th>\n",
       "      <td>-1.309144</td>\n",
       "    </tr>\n",
       "    <tr>\n",
       "      <th>75%</th>\n",
       "      <td>-1.309144</td>\n",
       "    </tr>\n",
       "    <tr>\n",
       "      <th>max</th>\n",
       "      <td>5.832645</td>\n",
       "    </tr>\n",
       "  </tbody>\n",
       "</table>\n",
       "</div>"
      ],
      "text/plain": [
       "                     0\n",
       "count  22541652.000000\n",
       "mean         -0.456064\n",
       "std           2.028632\n",
       "min         -13.390317\n",
       "25%          -1.309144\n",
       "50%          -1.309144\n",
       "75%          -1.309144\n",
       "max           5.832645"
      ]
     },
     "execution_count": 12,
     "metadata": {},
     "output_type": "execute_result"
    }
   ],
   "source": [
    "agb_ln = np.log(agb)\n",
    "(pd.DataFrame(agb_ln).describe()).apply(lambda s: s.apply(lambda x: format(x, 'f')))"
   ]
  },
  {
   "cell_type": "code",
   "execution_count": 15,
   "metadata": {},
   "outputs": [
    {
     "data": {
      "image/png": "[encoded data removed]",
      "text/plain": [
       "<Figure size 432x288 with 1 Axes>"
      ]
     },
     "metadata": {
      "needs_background": "light"
     },
     "output_type": "display_data"
    }
   ],
   "source": [
    "\n",
    "plt.hist(agb_ln,bins = np.arange(np.amin(agb_ln),-2,0.2))\n",
    "plt.xlabel('Log_e agb')\n",
    "plt.ylabel('Freq')\n",
    "plt.title(\"Frequency of Log Above Ground Biomass\")\n",
    "plt.show()"
   ]
  },
  {
   "cell_type": "code",
   "execution_count": 30,
   "metadata": {},
   "outputs": [
    {
     "data": {
      "image/png": "[encoded data removed]",
      "text/plain": [
       "<Figure size 432x288 with 1 Axes>"
      ]
     },
     "metadata": {
      "needs_background": "light"
     },
     "output_type": "display_data"
    }
   ],
   "source": [
    "\n",
    "plt.hist(agb_ln,bins = np.arange(-1.3,np.amax(agb_ln),0.2))\n",
    "plt.xlabel('Log_e agb')\n",
    "plt.ylabel('Freq')\n",
    "plt.title(\"Frequency of Log Above Ground Biomass\")\n",
    "plt.show()"
   ]
  },
  {
   "cell_type": "code",
   "execution_count": 51,
   "metadata": {},
   "outputs": [
    {
     "data": {
      "image/png": "[encoded data removed]",
      "text/plain": [
       "<Figure size 432x288 with 1 Axes>"
      ]
     },
     "metadata": {
      "needs_background": "light"
     },
     "output_type": "display_data"
    }
   ],
   "source": [
    "agb = agb[agb!=0]\n",
    "plt.hist(agb,bins = np.arange(0,np.amax(agb),np.exp(0.2)))\n",
    "plt.xlabel('agb')\n",
    "plt.ylabel('Freq')\n",
    "plt.title(\"Frequency of Above Ground Biomass over time and space\")\n",
    "plt.show()"
   ]
  },
  {
   "cell_type": "code",
   "execution_count": 64,
   "metadata": {},
   "outputs": [
    {
     "data": {
      "text/html": [
       "<div>\n",
       "<style scoped>\n",
       "    .dataframe tbody tr th:only-of-type {\n",
       "        vertical-align: middle;\n",
       "    }\n",
       "\n",
       "    .dataframe tbody tr th {\n",
       "        vertical-align: top;\n",
       "    }\n",
       "\n",
       "    .dataframe thead th {\n",
       "        text-align: right;\n",
       "    }\n",
       "</style>\n",
       "<table border=\"1\" class=\"dataframe\">\n",
       "  <thead>\n",
       "    <tr style=\"text-align: right;\">\n",
       "      <th></th>\n",
       "      <th>0</th>\n",
       "    </tr>\n",
       "  </thead>\n",
       "  <tbody>\n",
       "    <tr>\n",
       "      <th>count</th>\n",
       "      <td>4219992.000000</td>\n",
       "    </tr>\n",
       "    <tr>\n",
       "      <th>mean</th>\n",
       "      <td>3.247696</td>\n",
       "    </tr>\n",
       "    <tr>\n",
       "      <th>std</th>\n",
       "      <td>2.259477</td>\n",
       "    </tr>\n",
       "    <tr>\n",
       "      <th>min</th>\n",
       "      <td>-13.390317</td>\n",
       "    </tr>\n",
       "    <tr>\n",
       "      <th>25%</th>\n",
       "      <td>2.487748</td>\n",
       "    </tr>\n",
       "    <tr>\n",
       "      <th>50%</th>\n",
       "      <td>3.562939</td>\n",
       "    </tr>\n",
       "    <tr>\n",
       "      <th>75%</th>\n",
       "      <td>4.760266</td>\n",
       "    </tr>\n",
       "    <tr>\n",
       "      <th>max</th>\n",
       "      <td>5.832645</td>\n",
       "    </tr>\n",
       "  </tbody>\n",
       "</table>\n",
       "</div>"
      ],
      "text/plain": [
       "                    0\n",
       "count  4219992.000000\n",
       "mean         3.247696\n",
       "std          2.259477\n",
       "min        -13.390317\n",
       "25%          2.487748\n",
       "50%          3.562939\n",
       "75%          4.760266\n",
       "max          5.832645"
      ]
     },
     "execution_count": 64,
     "metadata": {},
     "output_type": "execute_result"
    }
   ],
   "source": [
    "agb_ln = np.log(agb)\n",
    "(pd.DataFrame(agb_ln).describe()).apply(lambda s: s.apply(lambda x: format(x, 'f')))"
   ]
  },
  {
   "cell_type": "code",
   "execution_count": 53,
   "metadata": {},
   "outputs": [
    {
     "data": {
      "image/png": "[encoded data removed]",
      "text/plain": [
       "<Figure size 432x288 with 1 Axes>"
      ]
     },
     "metadata": {
      "needs_background": "light"
     },
     "output_type": "display_data"
    }
   ],
   "source": [
    "\n",
    "plt.hist(agb_ln,bins = np.arange(np.amin(agb_ln),np.amax(agb_ln),0.2))\n",
    "plt.xlabel('Log_e agb')\n",
    "plt.ylabel('Freq')\n",
    "plt.title(\"Frequency of Log Above Ground Biomass\")\n",
    "plt.show()"
   ]
  },
  {
   "cell_type": "code",
   "execution_count": 56,
   "metadata": {},
   "outputs": [],
   "source": [
    "agb_log = np.log10(agb)"
   ]
  },
  {
   "cell_type": "code",
   "execution_count": 63,
   "metadata": {},
   "outputs": [
    {
     "data": {
      "image/png": "[encoded data removed]",
      "text/plain": [
       "<Figure size 432x288 with 1 Axes>"
      ]
     },
     "metadata": {
      "needs_background": "light"
     },
     "output_type": "display_data"
    }
   ],
   "source": [
    "\n",
    "plt.hist(agb_log,bins = np.arange(np.amin(agb_log),np.amax(agb_log),0.1))\n",
    "plt.xlabel('Log_10 agb')\n",
    "plt.ylabel('Freq')\n",
    "plt.title(\"Frequency of Log10 Above Ground Biomass\")\n",
    "plt.show()"
   ]
  },
  {
   "cell_type": "code",
   "execution_count": null,
   "metadata": {},
   "outputs": [],
   "source": []
  },
  {
   "cell_type": "code",
   "execution_count": 70,
   "metadata": {},
   "outputs": [
    {
     "data": {
      "text/html": [
       "<div>\n",
       "<style scoped>\n",
       "    .dataframe tbody tr th:only-of-type {\n",
       "        vertical-align: middle;\n",
       "    }\n",
       "\n",
       "    .dataframe tbody tr th {\n",
       "        vertical-align: top;\n",
       "    }\n",
       "\n",
       "    .dataframe thead th {\n",
       "        text-align: right;\n",
       "    }\n",
       "</style>\n",
       "<table border=\"1\" class=\"dataframe\">\n",
       "  <thead>\n",
       "    <tr style=\"text-align: right;\">\n",
       "      <th></th>\n",
       "      <th>0</th>\n",
       "    </tr>\n",
       "  </thead>\n",
       "  <tbody>\n",
       "    <tr>\n",
       "      <th>count</th>\n",
       "      <td>26378244.000000</td>\n",
       "    </tr>\n",
       "    <tr>\n",
       "      <th>mean</th>\n",
       "      <td>0.647496</td>\n",
       "    </tr>\n",
       "    <tr>\n",
       "      <th>std</th>\n",
       "      <td>0.361829</td>\n",
       "    </tr>\n",
       "    <tr>\n",
       "      <th>min</th>\n",
       "      <td>0.000000</td>\n",
       "    </tr>\n",
       "    <tr>\n",
       "      <th>25%</th>\n",
       "      <td>0.339234</td>\n",
       "    </tr>\n",
       "    <tr>\n",
       "      <th>50%</th>\n",
       "      <td>0.813535</td>\n",
       "    </tr>\n",
       "    <tr>\n",
       "      <th>75%</th>\n",
       "      <td>0.947957</td>\n",
       "    </tr>\n",
       "    <tr>\n",
       "      <th>max</th>\n",
       "      <td>1.000000</td>\n",
       "    </tr>\n",
       "  </tbody>\n",
       "</table>\n",
       "</div>"
      ],
      "text/plain": [
       "                     0\n",
       "count  26378244.000000\n",
       "mean          0.647496\n",
       "std           0.361829\n",
       "min           0.000000\n",
       "25%           0.339234\n",
       "50%           0.813535\n",
       "75%           0.947957\n",
       "max           1.000000"
      ]
     },
     "execution_count": 70,
     "metadata": {},
     "output_type": "execute_result"
    }
   ],
   "source": [
    "#PFT_FracCover\n",
    "pft_frac = train[:,4]\n",
    "(pd.DataFrame(pft_frac).describe()).apply(lambda s: s.apply(lambda x: format(x, 'f')))"
   ]
  },
  {
   "cell_type": "code",
   "execution_count": 79,
   "metadata": {},
   "outputs": [
    {
     "data": {
      "image/png": "[encoded data removed]",
      "text/plain": [
       "<Figure size 432x288 with 1 Axes>"
      ]
     },
     "metadata": {
      "needs_background": "light"
     },
     "output_type": "display_data"
    }
   ],
   "source": [
    "pft_frac = pft_frac[pft_frac!=0]\n",
    "plt.hist(pft_frac,bins = np.arange(0,np.amax(pft_frac),0.01))\n",
    "plt.xlabel('pft_fac')\n",
    "plt.ylabel('Freq')\n",
    "plt.title(\"Frequency of PFT Fraction\")\n",
    "plt.show()"
   ]
  },
  {
   "cell_type": "code",
   "execution_count": 82,
   "metadata": {},
   "outputs": [
    {
     "data": {
      "image/png": "[encoded data removed]",
      "text/plain": [
       "<Figure size 432x288 with 1 Axes>"
      ]
     },
     "metadata": {
      "needs_background": "light"
     },
     "output_type": "display_data"
    }
   ],
   "source": [
    "pft_frac_ln = np.log(pft_frac)\n",
    "plt.hist(pft_frac_ln,bins = np.arange(np.amin(pft_frac_ln),np.amax(pft_frac_ln),0.01))\n",
    "plt.xlabel('pft_fac_ln')\n",
    "plt.ylabel('Freq')\n",
    "plt.title(\"Frequency of PFT Fraction_log_e\")\n",
    "plt.show()"
   ]
  },
  {
   "cell_type": "code",
   "execution_count": 83,
   "metadata": {},
   "outputs": [
    {
     "data": {
      "text/html": [
       "<div>\n",
       "<style scoped>\n",
       "    .dataframe tbody tr th:only-of-type {\n",
       "        vertical-align: middle;\n",
       "    }\n",
       "\n",
       "    .dataframe tbody tr th {\n",
       "        vertical-align: top;\n",
       "    }\n",
       "\n",
       "    .dataframe thead th {\n",
       "        text-align: right;\n",
       "    }\n",
       "</style>\n",
       "<table border=\"1\" class=\"dataframe\">\n",
       "  <thead>\n",
       "    <tr style=\"text-align: right;\">\n",
       "      <th></th>\n",
       "      <th>0</th>\n",
       "    </tr>\n",
       "  </thead>\n",
       "  <tbody>\n",
       "    <tr>\n",
       "      <th>count</th>\n",
       "      <td>23965008.000000</td>\n",
       "    </tr>\n",
       "    <tr>\n",
       "      <th>mean</th>\n",
       "      <td>-0.699657</td>\n",
       "    </tr>\n",
       "    <tr>\n",
       "      <th>std</th>\n",
       "      <td>1.398415</td>\n",
       "    </tr>\n",
       "    <tr>\n",
       "      <th>min</th>\n",
       "      <td>-10.896958</td>\n",
       "    </tr>\n",
       "    <tr>\n",
       "      <th>25%</th>\n",
       "      <td>-0.612673</td>\n",
       "    </tr>\n",
       "    <tr>\n",
       "      <th>50%</th>\n",
       "      <td>-0.163881</td>\n",
       "    </tr>\n",
       "    <tr>\n",
       "      <th>75%</th>\n",
       "      <td>-0.048573</td>\n",
       "    </tr>\n",
       "    <tr>\n",
       "      <th>max</th>\n",
       "      <td>0.000000</td>\n",
       "    </tr>\n",
       "  </tbody>\n",
       "</table>\n",
       "</div>"
      ],
      "text/plain": [
       "                     0\n",
       "count  23965008.000000\n",
       "mean         -0.699657\n",
       "std           1.398415\n",
       "min         -10.896958\n",
       "25%          -0.612673\n",
       "50%          -0.163881\n",
       "75%          -0.048573\n",
       "max           0.000000"
      ]
     },
     "execution_count": 83,
     "metadata": {},
     "output_type": "execute_result"
    }
   ],
   "source": [
    "(pd.DataFrame(pft_frac_ln).describe()).apply(lambda s: s.apply(lambda x: format(x, 'f')))"
   ]
  },
  {
   "cell_type": "code",
   "execution_count": 84,
   "metadata": {},
   "outputs": [
    {
     "data": {
      "text/html": [
       "<div>\n",
       "<style scoped>\n",
       "    .dataframe tbody tr th:only-of-type {\n",
       "        vertical-align: middle;\n",
       "    }\n",
       "\n",
       "    .dataframe tbody tr th {\n",
       "        vertical-align: top;\n",
       "    }\n",
       "\n",
       "    .dataframe thead th {\n",
       "        text-align: right;\n",
       "    }\n",
       "</style>\n",
       "<table border=\"1\" class=\"dataframe\">\n",
       "  <thead>\n",
       "    <tr style=\"text-align: right;\">\n",
       "      <th></th>\n",
       "      <th>0</th>\n",
       "    </tr>\n",
       "  </thead>\n",
       "  <tbody>\n",
       "    <tr>\n",
       "      <th>count</th>\n",
       "      <td>26378244.000000</td>\n",
       "    </tr>\n",
       "    <tr>\n",
       "      <th>mean</th>\n",
       "      <td>0.164834</td>\n",
       "    </tr>\n",
       "    <tr>\n",
       "      <th>std</th>\n",
       "      <td>0.109927</td>\n",
       "    </tr>\n",
       "    <tr>\n",
       "      <th>min</th>\n",
       "      <td>0.000000</td>\n",
       "    </tr>\n",
       "    <tr>\n",
       "      <th>25%</th>\n",
       "      <td>0.079275</td>\n",
       "    </tr>\n",
       "    <tr>\n",
       "      <th>50%</th>\n",
       "      <td>0.180323</td>\n",
       "    </tr>\n",
       "    <tr>\n",
       "      <th>75%</th>\n",
       "      <td>0.250357</td>\n",
       "    </tr>\n",
       "    <tr>\n",
       "      <th>max</th>\n",
       "      <td>1.000000</td>\n",
       "    </tr>\n",
       "  </tbody>\n",
       "</table>\n",
       "</div>"
      ],
      "text/plain": [
       "                     0\n",
       "count  26378244.000000\n",
       "mean          0.164834\n",
       "std           0.109927\n",
       "min           0.000000\n",
       "25%           0.079275\n",
       "50%           0.180323\n",
       "75%           0.250357\n",
       "max           1.000000"
      ]
     },
     "execution_count": 84,
     "metadata": {},
     "output_type": "execute_result"
    }
   ],
   "source": [
    "#PFT_FracCover\n",
    "sm = train[:,5]\n",
    "(pd.DataFrame(sm).describe()).apply(lambda s: s.apply(lambda x: format(x, 'f')))"
   ]
  },
  {
   "cell_type": "code",
   "execution_count": 3,
   "metadata": {},
   "outputs": [
    {
     "data": {
      "text/plain": [
       "array([nan, nan, nan, nan, nan, nan, nan, nan, nan, nan, nan, nan, nan,\n",
       "       nan, nan])"
      ]
     },
     "execution_count": 3,
     "metadata": {},
     "output_type": "execute_result"
    }
   ],
   "source": [
    "train[0:15,15]"
   ]
  },
  {
   "cell_type": "code",
   "execution_count": 4,
   "metadata": {},
   "outputs": [
    {
     "data": {
      "text/html": [
       "<div>\n",
       "<style scoped>\n",
       "    .dataframe tbody tr th:only-of-type {\n",
       "        vertical-align: middle;\n",
       "    }\n",
       "\n",
       "    .dataframe tbody tr th {\n",
       "        vertical-align: top;\n",
       "    }\n",
       "\n",
       "    .dataframe thead th {\n",
       "        text-align: right;\n",
       "    }\n",
       "</style>\n",
       "<table border=\"1\" class=\"dataframe\">\n",
       "  <thead>\n",
       "    <tr style=\"text-align: right;\">\n",
       "      <th></th>\n",
       "      <th>0</th>\n",
       "    </tr>\n",
       "  </thead>\n",
       "  <tbody>\n",
       "    <tr>\n",
       "      <th>count</th>\n",
       "      <td>1340256.000000</td>\n",
       "    </tr>\n",
       "    <tr>\n",
       "      <th>mean</th>\n",
       "      <td>6.337118</td>\n",
       "    </tr>\n",
       "    <tr>\n",
       "      <th>std</th>\n",
       "      <td>8.663486</td>\n",
       "    </tr>\n",
       "    <tr>\n",
       "      <th>min</th>\n",
       "      <td>1.000000</td>\n",
       "    </tr>\n",
       "    <tr>\n",
       "      <th>25%</th>\n",
       "      <td>1.000000</td>\n",
       "    </tr>\n",
       "    <tr>\n",
       "      <th>50%</th>\n",
       "      <td>3.000000</td>\n",
       "    </tr>\n",
       "    <tr>\n",
       "      <th>75%</th>\n",
       "      <td>8.000000</td>\n",
       "    </tr>\n",
       "    <tr>\n",
       "      <th>max</th>\n",
       "      <td>185.000000</td>\n",
       "    </tr>\n",
       "  </tbody>\n",
       "</table>\n",
       "</div>"
      ],
      "text/plain": [
       "                    0\n",
       "count  1340256.000000\n",
       "mean         6.337118\n",
       "std          8.663486\n",
       "min          1.000000\n",
       "25%          1.000000\n",
       "50%          3.000000\n",
       "75%          8.000000\n",
       "max        185.000000"
      ]
     },
     "execution_count": 4,
     "metadata": {},
     "output_type": "execute_result"
    }
   ],
   "source": [
    "\n",
    "#This is ground_truth output, so fill na with zeros\n",
    "import pandas as pd\n",
    "(pd.DataFrame(train[:,15]).describe()).apply(lambda s: s.apply(lambda x: format(x, 'f')))"
   ]
  },
  {
   "cell_type": "code",
   "execution_count": 5,
   "metadata": {},
   "outputs": [
    {
     "data": {
      "image/png": "[encoded data removed]",
      "text/plain": [
       "<Figure size 432x288 with 1 Axes>"
      ]
     },
     "metadata": {
      "needs_background": "light"
     },
     "output_type": "display_data"
    }
   ],
   "source": [
    "ign = train[:,15]\n",
    "plt.hist(ign,bins = [0,1,2,3,4,5,6,7,8,9,10,30,50,70,90,110,130,150,170,190] )\n",
    "plt.show()"
   ]
  },
  {
   "cell_type": "code",
   "execution_count": 6,
   "metadata": {},
   "outputs": [
    {
     "data": {
      "image/png": "[encoded data removed]",
      "text/plain": [
       "<Figure size 432x288 with 1 Axes>"
      ]
     },
     "metadata": {
      "needs_background": "light"
     },
     "output_type": "display_data"
    }
   ],
   "source": [
    "plt.close()\n",
    "plt.hist(ign, bins = np.arange(185))\n",
    "plt.show()"
   ]
  },
  {
   "cell_type": "code",
   "execution_count": 7,
   "metadata": {},
   "outputs": [
    {
     "data": {
      "image/png": "[encoded data removed]",
      "text/plain": [
       "<Figure size 432x288 with 1 Axes>"
      ]
     },
     "metadata": {
      "needs_background": "light"
     },
     "output_type": "display_data"
    }
   ],
   "source": [
    "plt.close()\n",
    "plt.hist(ign, bins = np.arange(10,185))\n",
    "plt.show()"
   ]
  },
  {
   "cell_type": "code",
   "execution_count": 8,
   "metadata": {},
   "outputs": [
    {
     "data": {
      "image/png": "[encoded data removed]",
      "text/plain": [
       "<Figure size 432x288 with 1 Axes>"
      ]
     },
     "metadata": {
      "needs_background": "light"
     },
     "output_type": "display_data"
    }
   ],
   "source": [
    "plt.close()\n",
    "plt.hist(ign, bins = np.arange(50,185))\n",
    "plt.show()"
   ]
  },
  {
   "cell_type": "code",
   "execution_count": 9,
   "metadata": {},
   "outputs": [
    {
     "data": {
      "image/png": "[encoded data removed]",
      "text/plain": [
       "<Figure size 432x288 with 1 Axes>"
      ]
     },
     "metadata": {
      "needs_background": "light"
     },
     "output_type": "display_data"
    }
   ],
   "source": [
    "plt.close()\n",
    "plt.hist(ign, bins = np.arange(90,185))\n",
    "plt.show()"
   ]
  },
  {
   "cell_type": "code",
   "execution_count": 20,
   "metadata": {},
   "outputs": [
    {
     "data": {
      "image/png": "[encoded data removed]",
      "text/plain": [
       "<Figure size 432x288 with 1 Axes>"
      ]
     },
     "metadata": {
      "needs_background": "light"
     },
     "output_type": "display_data"
    }
   ],
   "source": [
    "plt.close()\n",
    "plt.hist(ign, bins = np.arange(120,185))\n",
    "plt.show()"
   ]
  },
  {
   "cell_type": "code",
   "execution_count": 12,
   "metadata": {},
   "outputs": [
    {
     "data": {
      "text/plain": [
       "array([3., 1., 1., ..., 6., 1., 1.])"
      ]
     },
     "execution_count": 12,
     "metadata": {},
     "output_type": "execute_result"
    }
   ],
   "source": [
    "ign = train[:,15]\n",
    "ign = ign[~np.isnan(ign)]\n",
    "ign"
   ]
  },
  {
   "cell_type": "code",
   "execution_count": null,
   "metadata": {},
   "outputs": [],
   "source": [
    "import matplotlib.pyplot as plt\n",
    "%matplotlib inline\n",
    "fig, ax = plt.subplots()\n",
    "ax.set_xlabel('ign')\n",
    "ax.set_ylabel('freq')\n",
    "ax.plot(ign)\n",
    "plt.show()"
   ]
  },
  {
   "cell_type": "code",
   "execution_count": 2,
   "metadata": {},
   "outputs": [
    {
     "data": {
      "text/html": [
       "<div>\n",
       "<style scoped>\n",
       "    .dataframe tbody tr th:only-of-type {\n",
       "        vertical-align: middle;\n",
       "    }\n",
       "\n",
       "    .dataframe tbody tr th {\n",
       "        vertical-align: top;\n",
       "    }\n",
       "\n",
       "    .dataframe thead th {\n",
       "        text-align: right;\n",
       "    }\n",
       "</style>\n",
       "<table border=\"1\" class=\"dataframe\">\n",
       "  <thead>\n",
       "    <tr style=\"text-align: right;\">\n",
       "      <th></th>\n",
       "      <th>0</th>\n",
       "      <th>1</th>\n",
       "      <th>2</th>\n",
       "      <th>3</th>\n",
       "      <th>4</th>\n",
       "      <th>5</th>\n",
       "      <th>6</th>\n",
       "      <th>7</th>\n",
       "      <th>8</th>\n",
       "      <th>9</th>\n",
       "      <th>...</th>\n",
       "      <th>28</th>\n",
       "      <th>29</th>\n",
       "      <th>30</th>\n",
       "      <th>31</th>\n",
       "      <th>32</th>\n",
       "      <th>33</th>\n",
       "      <th>34</th>\n",
       "      <th>35</th>\n",
       "      <th>36</th>\n",
       "      <th>37</th>\n",
       "    </tr>\n",
       "  </thead>\n",
       "  <tbody>\n",
       "    <tr>\n",
       "      <th>count</th>\n",
       "      <td>2.637824e+07</td>\n",
       "      <td>2.637824e+07</td>\n",
       "      <td>2.637824e+07</td>\n",
       "      <td>8.056584e+06</td>\n",
       "      <td>2.637824e+07</td>\n",
       "      <td>2.094448e+07</td>\n",
       "      <td>1.607264e+07</td>\n",
       "      <td>2.370832e+07</td>\n",
       "      <td>2.365202e+07</td>\n",
       "      <td>2.336098e+07</td>\n",
       "      <td>...</td>\n",
       "      <td>2.629930e+07</td>\n",
       "      <td>2.628742e+07</td>\n",
       "      <td>2.629930e+07</td>\n",
       "      <td>2.629930e+07</td>\n",
       "      <td>2.637824e+07</td>\n",
       "      <td>2.637738e+07</td>\n",
       "      <td>2.637824e+07</td>\n",
       "      <td>2.617823e+07</td>\n",
       "      <td>25749360.0</td>\n",
       "      <td>2.637824e+07</td>\n",
       "    </tr>\n",
       "    <tr>\n",
       "      <th>mean</th>\n",
       "      <td>3.296606e+01</td>\n",
       "      <td>1.796954e+01</td>\n",
       "      <td>2.007070e+05</td>\n",
       "      <td>4.412167e+01</td>\n",
       "      <td>6.474957e-01</td>\n",
       "      <td>2.075981e-01</td>\n",
       "      <td>2.289735e-01</td>\n",
       "      <td>1.950722e-01</td>\n",
       "      <td>7.774795e-02</td>\n",
       "      <td>2.919566e-02</td>\n",
       "      <td>...</td>\n",
       "      <td>1.139557e+01</td>\n",
       "      <td>2.786261e+00</td>\n",
       "      <td>1.476817e+01</td>\n",
       "      <td>9.362551e+00</td>\n",
       "      <td>1.094813e+01</td>\n",
       "      <td>5.789453e+01</td>\n",
       "      <td>8.257602e+02</td>\n",
       "      <td>1.492296e+02</td>\n",
       "      <td>1.0</td>\n",
       "      <td>3.976683e+01</td>\n",
       "    </tr>\n",
       "    <tr>\n",
       "      <th>std</th>\n",
       "      <td>3.209927e+01</td>\n",
       "      <td>8.475633e+01</td>\n",
       "      <td>2.582220e+02</td>\n",
       "      <td>8.437435e+01</td>\n",
       "      <td>3.618286e-01</td>\n",
       "      <td>7.963252e-02</td>\n",
       "      <td>2.993385e-01</td>\n",
       "      <td>1.509605e-01</td>\n",
       "      <td>8.051445e-02</td>\n",
       "      <td>2.679024e-02</td>\n",
       "      <td>...</td>\n",
       "      <td>3.779948e+00</td>\n",
       "      <td>2.140058e+00</td>\n",
       "      <td>1.827522e+01</td>\n",
       "      <td>6.580343e+00</td>\n",
       "      <td>1.803764e+01</td>\n",
       "      <td>8.604337e+01</td>\n",
       "      <td>2.237212e+03</td>\n",
       "      <td>5.292684e+02</td>\n",
       "      <td>0.0</td>\n",
       "      <td>3.205707e+02</td>\n",
       "    </tr>\n",
       "    <tr>\n",
       "      <th>min</th>\n",
       "      <td>-5.575000e+01</td>\n",
       "      <td>-1.797500e+02</td>\n",
       "      <td>2.003015e+05</td>\n",
       "      <td>0.000000e+00</td>\n",
       "      <td>0.000000e+00</td>\n",
       "      <td>0.000000e+00</td>\n",
       "      <td>4.936834e-05</td>\n",
       "      <td>6.171491e-06</td>\n",
       "      <td>4.937193e-06</td>\n",
       "      <td>2.468596e-06</td>\n",
       "      <td>...</td>\n",
       "      <td>0.000000e+00</td>\n",
       "      <td>0.000000e+00</td>\n",
       "      <td>-5.000000e+01</td>\n",
       "      <td>0.000000e+00</td>\n",
       "      <td>0.000000e+00</td>\n",
       "      <td>0.000000e+00</td>\n",
       "      <td>0.000000e+00</td>\n",
       "      <td>0.000000e+00</td>\n",
       "      <td>1.0</td>\n",
       "      <td>0.000000e+00</td>\n",
       "    </tr>\n",
       "    <tr>\n",
       "      <th>25%</th>\n",
       "      <td>1.000000e+01</td>\n",
       "      <td>-6.125000e+01</td>\n",
       "      <td>2.005042e+05</td>\n",
       "      <td>0.000000e+00</td>\n",
       "      <td>3.392336e-01</td>\n",
       "      <td>1.518320e-01</td>\n",
       "      <td>4.814920e-03</td>\n",
       "      <td>7.564242e-02</td>\n",
       "      <td>1.984437e-02</td>\n",
       "      <td>5.271503e-03</td>\n",
       "      <td>...</td>\n",
       "      <td>8.600000e+00</td>\n",
       "      <td>8.000000e-01</td>\n",
       "      <td>2.300000e+00</td>\n",
       "      <td>4.000000e+00</td>\n",
       "      <td>5.000000e+00</td>\n",
       "      <td>7.420000e+00</td>\n",
       "      <td>5.800295e+00</td>\n",
       "      <td>0.000000e+00</td>\n",
       "      <td>1.0</td>\n",
       "      <td>0.000000e+00</td>\n",
       "    </tr>\n",
       "    <tr>\n",
       "      <th>50%</th>\n",
       "      <td>4.000000e+01</td>\n",
       "      <td>2.700000e+01</td>\n",
       "      <td>2.007070e+05</td>\n",
       "      <td>2.700512e-01</td>\n",
       "      <td>8.135355e-01</td>\n",
       "      <td>2.090420e-01</td>\n",
       "      <td>6.834631e-02</td>\n",
       "      <td>1.840737e-01</td>\n",
       "      <td>5.314562e-02</td>\n",
       "      <td>2.083274e-02</td>\n",
       "      <td>...</td>\n",
       "      <td>1.110000e+01</td>\n",
       "      <td>2.800000e+00</td>\n",
       "      <td>1.930000e+01</td>\n",
       "      <td>9.000000e+00</td>\n",
       "      <td>7.000000e+00</td>\n",
       "      <td>2.703000e+01</td>\n",
       "      <td>7.202480e+01</td>\n",
       "      <td>4.300000e+01</td>\n",
       "      <td>1.0</td>\n",
       "      <td>1.632388e-01</td>\n",
       "    </tr>\n",
       "    <tr>\n",
       "      <th>75%</th>\n",
       "      <td>6.000000e+01</td>\n",
       "      <td>9.075000e+01</td>\n",
       "      <td>2.009098e+05</td>\n",
       "      <td>3.811293e+01</td>\n",
       "      <td>9.479574e-01</td>\n",
       "      <td>2.649611e-01</td>\n",
       "      <td>3.789602e-01</td>\n",
       "      <td>2.553829e-01</td>\n",
       "      <td>1.061446e-01</td>\n",
       "      <td>4.951850e-02</td>\n",
       "      <td>...</td>\n",
       "      <td>1.390000e+01</td>\n",
       "      <td>4.000000e+00</td>\n",
       "      <td>3.010000e+01</td>\n",
       "      <td>1.367000e+01</td>\n",
       "      <td>1.100000e+01</td>\n",
       "      <td>6.960000e+01</td>\n",
       "      <td>6.234733e+02</td>\n",
       "      <td>1.350000e+02</td>\n",
       "      <td>1.0</td>\n",
       "      <td>6.496927e+00</td>\n",
       "    </tr>\n",
       "    <tr>\n",
       "      <th>max</th>\n",
       "      <td>8.375000e+01</td>\n",
       "      <td>1.800000e+02</td>\n",
       "      <td>2.011125e+05</td>\n",
       "      <td>3.412600e+02</td>\n",
       "      <td>1.000000e+00</td>\n",
       "      <td>1.000000e+00</td>\n",
       "      <td>1.000000e+00</td>\n",
       "      <td>7.000000e-01</td>\n",
       "      <td>6.000000e-01</td>\n",
       "      <td>2.008293e-01</td>\n",
       "      <td>...</td>\n",
       "      <td>4.050000e+01</td>\n",
       "      <td>1.260000e+01</td>\n",
       "      <td>4.810000e+01</td>\n",
       "      <td>3.100000e+01</td>\n",
       "      <td>9.900000e+01</td>\n",
       "      <td>3.821850e+03</td>\n",
       "      <td>1.695468e+05</td>\n",
       "      <td>5.567600e+04</td>\n",
       "      <td>1.0</td>\n",
       "      <td>3.808370e+04</td>\n",
       "    </tr>\n",
       "  </tbody>\n",
       "</table>\n",
       "<p>8 rows × 38 columns</p>\n",
       "</div>"
      ],
      "text/plain": [
       "                 0             1             2             3             4   \\\n",
       "count  2.637824e+07  2.637824e+07  2.637824e+07  8.056584e+06  2.637824e+07   \n",
       "mean   3.296606e+01  1.796954e+01  2.007070e+05  4.412167e+01  6.474957e-01   \n",
       "std    3.209927e+01  8.475633e+01  2.582220e+02  8.437435e+01  3.618286e-01   \n",
       "min   -5.575000e+01 -1.797500e+02  2.003015e+05  0.000000e+00  0.000000e+00   \n",
       "25%    1.000000e+01 -6.125000e+01  2.005042e+05  0.000000e+00  3.392336e-01   \n",
       "50%    4.000000e+01  2.700000e+01  2.007070e+05  2.700512e-01  8.135355e-01   \n",
       "75%    6.000000e+01  9.075000e+01  2.009098e+05  3.811293e+01  9.479574e-01   \n",
       "max    8.375000e+01  1.800000e+02  2.011125e+05  3.412600e+02  1.000000e+00   \n",
       "\n",
       "                 5             6             7             8             9   \\\n",
       "count  2.094448e+07  1.607264e+07  2.370832e+07  2.365202e+07  2.336098e+07   \n",
       "mean   2.075981e-01  2.289735e-01  1.950722e-01  7.774795e-02  2.919566e-02   \n",
       "std    7.963252e-02  2.993385e-01  1.509605e-01  8.051445e-02  2.679024e-02   \n",
       "min    0.000000e+00  4.936834e-05  6.171491e-06  4.937193e-06  2.468596e-06   \n",
       "25%    1.518320e-01  4.814920e-03  7.564242e-02  1.984437e-02  5.271503e-03   \n",
       "50%    2.090420e-01  6.834631e-02  1.840737e-01  5.314562e-02  2.083274e-02   \n",
       "75%    2.649611e-01  3.789602e-01  2.553829e-01  1.061446e-01  4.951850e-02   \n",
       "max    1.000000e+00  1.000000e+00  7.000000e-01  6.000000e-01  2.008293e-01   \n",
       "\n",
       "       ...            28            29            30            31  \\\n",
       "count  ...  2.629930e+07  2.628742e+07  2.629930e+07  2.629930e+07   \n",
       "mean   ...  1.139557e+01  2.786261e+00  1.476817e+01  9.362551e+00   \n",
       "std    ...  3.779948e+00  2.140058e+00  1.827522e+01  6.580343e+00   \n",
       "min    ...  0.000000e+00  0.000000e+00 -5.000000e+01  0.000000e+00   \n",
       "25%    ...  8.600000e+00  8.000000e-01  2.300000e+00  4.000000e+00   \n",
       "50%    ...  1.110000e+01  2.800000e+00  1.930000e+01  9.000000e+00   \n",
       "75%    ...  1.390000e+01  4.000000e+00  3.010000e+01  1.367000e+01   \n",
       "max    ...  4.050000e+01  1.260000e+01  4.810000e+01  3.100000e+01   \n",
       "\n",
       "                 32            33            34            35          36  \\\n",
       "count  2.637824e+07  2.637738e+07  2.637824e+07  2.617823e+07  25749360.0   \n",
       "mean   1.094813e+01  5.789453e+01  8.257602e+02  1.492296e+02         1.0   \n",
       "std    1.803764e+01  8.604337e+01  2.237212e+03  5.292684e+02         0.0   \n",
       "min    0.000000e+00  0.000000e+00  0.000000e+00  0.000000e+00         1.0   \n",
       "25%    5.000000e+00  7.420000e+00  5.800295e+00  0.000000e+00         1.0   \n",
       "50%    7.000000e+00  2.703000e+01  7.202480e+01  4.300000e+01         1.0   \n",
       "75%    1.100000e+01  6.960000e+01  6.234733e+02  1.350000e+02         1.0   \n",
       "max    9.900000e+01  3.821850e+03  1.695468e+05  5.567600e+04         1.0   \n",
       "\n",
       "                 37  \n",
       "count  2.637824e+07  \n",
       "mean   3.976683e+01  \n",
       "std    3.205707e+02  \n",
       "min    0.000000e+00  \n",
       "25%    0.000000e+00  \n",
       "50%    1.632388e-01  \n",
       "75%    6.496927e+00  \n",
       "max    3.808370e+04  \n",
       "\n",
       "[8 rows x 38 columns]"
      ]
     },
     "execution_count": 2,
     "metadata": {},
     "output_type": "execute_result"
    }
   ],
   "source": [
    "import pandas as pd\n",
    "pd.DataFrame(train).describe()"
   ]
  },
  {
   "cell_type": "code",
   "execution_count": null,
   "metadata": {},
   "outputs": [],
   "source": [
    "from sklearn.ensemble import RandomForestRegressor\n",
    "model = RandomForestRegressor (n_estimators=500, criterion='mse', random_state=42, max_features=7, n_jobs=60,\n",
    "                                   oob_score=True,\n",
    "                                   min_samples_split=2, min_samples_leaf=1, min_weight_fraction_leaf=0.0,\n",
    "                                   max_leaf_nodes=None,\n",
    "                                   min_impurity_decrease=0.0, bootstrap=True, verbose=0,\n",
    "                                   warm_start=False, ccp_alpha=0.0, max_samples=None)\n"
   ]
  },
  {
   "cell_type": "markdown",
   "metadata": {},
   "source": [
    "Index(['lat 0', 'lon 1', 'time 2', 'agb 3', 'pft_fracCover 4', 'sm 5', 'pftCrop 6',\n",
    "       'pftHerb 7', 'pftShrubBD 8', 'pftShrubNE 9', 'pftTreeBD 10', 'pftTreeBE 11',\n",
    "       'pftTreeND 12', 'pftTreeNE 13', 'GDP 14', 'ign 15', 'Distance_to_populated_areas 16',\n",
    "       'fPAR 17', 'LAI 18', 'NLDI 19', 'vod_K_anomalies 20', 'FPAR_12mon 21', 'LAI_12mon 22',\n",
    "       'Vod_k_anomaly_12mon 23', 'FPAR_06mon 24', 'LAI_06mon 25', 'Vod_k_anomaly_06mon 26',\n",
    "       'WDPA_fracCover 27', 'dtr 28', 'pet 29', 'tmx 30', 'wet 31', 'Biome 32', 'precip 33',\n",
    "       'Livestock 34', 'road_density 35', 'topo 36', 'pop_density 37'],\n",
    "      dtype='object')\n",
    "Final Variables(['agb', 'sm','pftTreeBE', 'pftHerb',' pftShrubBD','pftShrubNE','pftTreeBD','pftTreeNE','fPAR',' vod_K_anomalies','pet','wet','precip','pftTreeND'])\n",
    "Taking the 0 as first position convention, \n",
    "Final Variables[3,5,11,7,8,9,10,12,13,17,20,29,31,33] 14\n",
    " WET 31+ Precip 33+ PET 29+ SM 5+ fPAR 17 + VOD_K 20' + Herb 7 + TreeBD 10 + ShrubBD 8+ TreeBE 11 + ShrubBE + TreeNE 13 + ShrubNE 9+ TreeND  12 14\n",
    "Socio-economic variables[pftCrop 6, Livestock 34, GDP 14, road_density 35, Distance_to_populated_areas 16, WDPA_fracCover 27, pop_density 37]"
   ]
  },
  {
   "cell_type": "code",
   "execution_count": 18,
   "metadata": {},
   "outputs": [
    {
     "data": {
      "text/plain": [
       "(26378244, 38)"
      ]
     },
     "execution_count": 18,
     "metadata": {},
     "output_type": "execute_result"
    }
   ],
   "source": [
    "train.shape"
   ]
  },
  {
   "cell_type": "code",
   "execution_count": 22,
   "metadata": {},
   "outputs": [
    {
     "data": {
      "text/html": [
       "<div>\n",
       "<style scoped>\n",
       "    .dataframe tbody tr th:only-of-type {\n",
       "        vertical-align: middle;\n",
       "    }\n",
       "\n",
       "    .dataframe tbody tr th {\n",
       "        vertical-align: top;\n",
       "    }\n",
       "\n",
       "    .dataframe thead th {\n",
       "        text-align: right;\n",
       "    }\n",
       "</style>\n",
       "<table border=\"1\" class=\"dataframe\">\n",
       "  <thead>\n",
       "    <tr style=\"text-align: right;\">\n",
       "      <th></th>\n",
       "      <th>0</th>\n",
       "    </tr>\n",
       "  </thead>\n",
       "  <tbody>\n",
       "    <tr>\n",
       "      <th>count</th>\n",
       "      <td>26014176.000000</td>\n",
       "    </tr>\n",
       "    <tr>\n",
       "      <th>mean</th>\n",
       "      <td>26140.512775</td>\n",
       "    </tr>\n",
       "    <tr>\n",
       "      <th>std</th>\n",
       "      <td>25876.579894</td>\n",
       "    </tr>\n",
       "    <tr>\n",
       "      <th>min</th>\n",
       "      <td>351.382965</td>\n",
       "    </tr>\n",
       "    <tr>\n",
       "      <th>25%</th>\n",
       "      <td>6142.110840</td>\n",
       "    </tr>\n",
       "    <tr>\n",
       "      <th>50%</th>\n",
       "      <td>18843.664062</td>\n",
       "    </tr>\n",
       "    <tr>\n",
       "      <th>75%</th>\n",
       "      <td>38808.488281</td>\n",
       "    </tr>\n",
       "    <tr>\n",
       "      <th>max</th>\n",
       "      <td>190965.125000</td>\n",
       "    </tr>\n",
       "  </tbody>\n",
       "</table>\n",
       "</div>"
      ],
      "text/plain": [
       "                     0\n",
       "count  26014176.000000\n",
       "mean      26140.512775\n",
       "std       25876.579894\n",
       "min         351.382965\n",
       "25%        6142.110840\n",
       "50%       18843.664062\n",
       "75%       38808.488281\n",
       "max      190965.125000"
      ]
     },
     "execution_count": 22,
     "metadata": {},
     "output_type": "execute_result"
    }
   ],
   "source": [
    "lai = train[:,14]\n",
    "(pd.DataFrame(lai).describe()).apply(lambda s: s.apply(lambda x: format(x, 'f')))"
   ]
  },
  {
   "cell_type": "code",
   "execution_count": 20,
   "metadata": {},
   "outputs": [
    {
     "data": {
      "text/plain": [
       "0.7097949734637378"
      ]
     },
     "execution_count": 20,
     "metadata": {},
     "output_type": "execute_result"
    }
   ],
   "source": [
    "18723145.000000/26378244"
   ]
  },
  {
   "cell_type": "code",
   "execution_count": 24,
   "metadata": {},
   "outputs": [
    {
     "data": {
      "image/png": "[encoded data removed]",
      "text/plain": [
       "<Figure size 432x288 with 1 Axes>"
      ]
     },
     "metadata": {
      "needs_background": "light"
     },
     "output_type": "display_data"
    }
   ],
   "source": [
    "name = 'GDP'\n",
    "plt.hist(lai,bins = np.arange(np.nanmin(lai),np.nanmax(lai),((np.nanmax(lai)-np.nanmin(lai))/100)))\n",
    "plt.xlabel('%s'%name)\n",
    "plt.ylabel('Freq')\n",
    "plt.title(\"Distribution of %s with NaN\"%name)\n",
    "#plt.savefig('../output/%s_with_nan'%name)\n",
    "plt.show()\n",
    "#plt.close()"
   ]
  },
  {
   "cell_type": "code",
   "execution_count": null,
   "metadata": {},
   "outputs": [],
   "source": []
  },
  {
   "cell_type": "code",
   "execution_count": 1,
   "metadata": {},
   "outputs": [],
   "source": [
    "import numpy as np\n",
    "train = np.load(\"../data/train_sans_ocean.npy\")"
   ]
  },
  {
   "cell_type": "code",
   "execution_count": 21,
   "metadata": {},
   "outputs": [
    {
     "data": {
      "text/plain": [
       "array([4.00000000e+01, 2.70000000e+01, 2.00707000e+05, 2.70051196e-01,\n",
       "       8.13535452e-01, 2.09042035e-01, 6.83463067e-02, 1.84073687e-01,\n",
       "       5.31456172e-02, 2.08327379e-02, 1.58442222e-02, 8.39532702e-04,\n",
       "       0.00000000e+00, 9.21483990e-03, 1.88436641e+04, 3.00000000e+00,\n",
       "       4.98581250e+04, 3.94220918e-01, 8.10832858e-01, 1.00999999e+00,\n",
       "       2.04995988e-03, 1.90385237e-01, 3.18636298e-01, 0.00000000e+00,\n",
       "       1.90385237e-01, 3.18636298e-01, 0.00000000e+00, 0.00000000e+00,\n",
       "       1.11000004e+01, 2.79999995e+00, 1.93000011e+01, 9.00000000e+00,\n",
       "       7.00000000e+00, 2.70300007e+01, 7.20247989e+01, 4.30000000e+01,\n",
       "       1.00000000e+00, 1.63238806e-01])"
      ]
     },
     "execution_count": 21,
     "metadata": {},
     "output_type": "execute_result"
    }
   ],
   "source": [
    "col_median = np.nanmedian(train,axis = 0)\n",
    "col_median "
   ]
  },
  {
   "cell_type": "code",
   "execution_count": 23,
   "metadata": {},
   "outputs": [
    {
     "data": {
      "text/plain": [
       "(38,)"
      ]
     },
     "execution_count": 23,
     "metadata": {},
     "output_type": "execute_result"
    }
   ],
   "source": [
    "col_median.shape"
   ]
  },
  {
   "cell_type": "code",
   "execution_count": 25,
   "metadata": {},
   "outputs": [
    {
     "data": {
      "text/plain": [
       "(38, 1)"
      ]
     },
     "execution_count": 25,
     "metadata": {},
     "output_type": "execute_result"
    }
   ],
   "source": [
    "col_median = np.reshape(col_median,((-1,1)))\n",
    "col_median.shape"
   ]
  },
  {
   "cell_type": "code",
   "execution_count": 26,
   "metadata": {},
   "outputs": [],
   "source": [
    "idx = np.where(np.isnan(train))"
   ]
  },
  {
   "cell_type": "code",
   "execution_count": 28,
   "metadata": {},
   "outputs": [],
   "source": [
    "train[idx] = np.take(col_median,idx[1])"
   ]
  },
  {
   "cell_type": "code",
   "execution_count": 29,
   "metadata": {},
   "outputs": [
    {
     "data": {
      "text/plain": [
       "(array([], dtype=int64), array([], dtype=int64))"
      ]
     },
     "execution_count": 29,
     "metadata": {},
     "output_type": "execute_result"
    }
   ],
   "source": [
    "idx = np.where(np.isnan(train))\n",
    "idx"
   ]
  },
  {
   "cell_type": "code",
   "execution_count": 35,
   "metadata": {},
   "outputs": [],
   "source": [
    "np.save(\"../data/train_median.npy\",train)"
   ]
  },
  {
   "cell_type": "code",
   "execution_count": 6,
   "metadata": {},
   "outputs": [],
   "source": [
    "import numpy as np\n",
    "test = np.load(\"../data/test_sans_ocean.npy\")\n"
   ]
  },
  {
   "cell_type": "code",
   "execution_count": 7,
   "metadata": {},
   "outputs": [
    {
     "data": {
      "text/plain": [
       "(38, 1)"
      ]
     },
     "execution_count": 7,
     "metadata": {},
     "output_type": "execute_result"
    }
   ],
   "source": [
    "col_median = np.nanmedian(test,axis = 0)\n",
    "col_median = np.reshape(col_median,((-1,1)))\n",
    "col_median.shape"
   ]
  },
  {
   "cell_type": "code",
   "execution_count": 8,
   "metadata": {},
   "outputs": [
    {
     "data": {
      "text/plain": [
       "array([[4.00000000e+01],\n",
       "       [2.70000000e+01],\n",
       "       [2.01405500e+05],\n",
       "       [2.70051196e-01],\n",
       "       [8.13474894e-01],\n",
       "       [2.12234691e-01],\n",
       "       [6.82235137e-02],\n",
       "       [1.84387133e-01],\n",
       "       [5.33058494e-02],\n",
       "       [2.09094770e-02],\n",
       "       [1.59841869e-02],\n",
       "       [8.39498593e-04],\n",
       "       [0.00000000e+00],\n",
       "       [8.98935739e-03],\n",
       "       [2.09444590e+04],\n",
       "       [3.00000000e+00],\n",
       "       [4.77172422e+04],\n",
       "       [4.06111822e-01],\n",
       "       [8.50915730e-01],\n",
       "       [1.00999999e+00],\n",
       "       [2.55613682e-03],\n",
       "       [2.11487435e-01],\n",
       "       [3.66067603e-01],\n",
       "       [0.00000000e+00],\n",
       "       [2.11487435e-01],\n",
       "       [3.66067603e-01],\n",
       "       [0.00000000e+00],\n",
       "       [0.00000000e+00],\n",
       "       [1.11999998e+01],\n",
       "       [2.79999995e+00],\n",
       "       [1.98999996e+01],\n",
       "       [8.96000004e+00],\n",
       "       [7.00000000e+00],\n",
       "       [2.75499992e+01],\n",
       "       [7.20247989e+01],\n",
       "       [4.30000000e+01],\n",
       "       [1.00000000e+00],\n",
       "       [1.59500445e-01]])"
      ]
     },
     "execution_count": 8,
     "metadata": {},
     "output_type": "execute_result"
    }
   ],
   "source": [
    "col_median"
   ]
  },
  {
   "cell_type": "code",
   "execution_count": null,
   "metadata": {},
   "outputs": [],
   "source": []
  },
  {
   "cell_type": "code",
   "execution_count": 3,
   "metadata": {},
   "outputs": [],
   "source": [
    "idx = np.where(np.isnan(test))\n",
    "test[idx] = np.take(col_median,idx[1])"
   ]
  },
  {
   "cell_type": "code",
   "execution_count": 4,
   "metadata": {},
   "outputs": [],
   "source": [
    "np.save(\"../data/test_median.npy\",test)"
   ]
  },
  {
   "cell_type": "code",
   "execution_count": null,
   "metadata": {},
   "outputs": [],
   "source": []
  },
  {
   "cell_type": "code",
   "execution_count": 6,
   "metadata": {},
   "outputs": [
    {
     "data": {
      "text/plain": [
       "(26363866,)"
      ]
     },
     "execution_count": 6,
     "metadata": {},
     "output_type": "execute_result"
    }
   ],
   "source": [
    "t_max.shape"
   ]
  },
  {
   "cell_type": "code",
   "execution_count": 7,
   "metadata": {},
   "outputs": [
    {
     "data": {
      "text/plain": [
       "14.776247711608125"
      ]
     },
     "execution_count": 7,
     "metadata": {},
     "output_type": "execute_result"
    }
   ],
   "source": [
    "np.nanmean(t_max)"
   ]
  },
  {
   "cell_type": "code",
   "execution_count": 12,
   "metadata": {},
   "outputs": [],
   "source": [
    "t_max = t_max[~np.isnan(t_max)]"
   ]
  },
  {
   "cell_type": "code",
   "execution_count": 13,
   "metadata": {},
   "outputs": [
    {
     "data": {
      "text/plain": [
       "(26284918,)"
      ]
     },
     "execution_count": 13,
     "metadata": {},
     "output_type": "execute_result"
    }
   ],
   "source": [
    "t_max.shape"
   ]
  },
  {
   "cell_type": "code",
   "execution_count": 14,
   "metadata": {},
   "outputs": [
    {
     "data": {
      "text/plain": [
       "-50.0"
      ]
     },
     "execution_count": 14,
     "metadata": {},
     "output_type": "execute_result"
    }
   ],
   "source": [
    "t_max.min()"
   ]
  },
  {
   "cell_type": "code",
   "execution_count": 15,
   "metadata": {},
   "outputs": [
    {
     "data": {
      "text/plain": [
       "48.10000228881836"
      ]
     },
     "execution_count": 15,
     "metadata": {},
     "output_type": "execute_result"
    }
   ],
   "source": [
    "t_max.max()"
   ]
  },
  {
   "cell_type": "code",
   "execution_count": 16,
   "metadata": {},
   "outputs": [
    {
     "data": {
      "text/plain": [
       "19.30000114440918"
      ]
     },
     "execution_count": 16,
     "metadata": {},
     "output_type": "execute_result"
    }
   ],
   "source": [
    "np.nanmedian(t_max)"
   ]
  },
  {
   "cell_type": "code",
   "execution_count": 17,
   "metadata": {},
   "outputs": [
    {
     "data": {
      "text/plain": [
       "14.776247711608079"
      ]
     },
     "execution_count": 17,
     "metadata": {},
     "output_type": "execute_result"
    }
   ],
   "source": [
    "np.nanmean(t_max)"
   ]
  },
  {
   "cell_type": "code",
   "execution_count": 8,
   "metadata": {},
   "outputs": [
    {
     "data": {
      "text/plain": [
       "19.30000114440918"
      ]
     },
     "execution_count": 8,
     "metadata": {},
     "output_type": "execute_result"
    }
   ],
   "source": [
    "np.nanmedian(t_max)"
   ]
  },
  {
   "cell_type": "code",
   "execution_count": 19,
   "metadata": {},
   "outputs": [
    {
     "data": {
      "image/png": "[encoded data removed]",
      "text/plain": [
       "<Figure size 432x288 with 1 Axes>"
      ]
     },
     "metadata": {
      "needs_background": "light"
     },
     "output_type": "display_data"
    }
   ],
   "source": [
    "from matplotlib import pyplot as plt\n",
    "%matplotlib inline\n",
    "plt.hist(t_max, bins = np.arange(t_max.min(),t_max.max()))\n",
    "plt.show()"
   ]
  },
  {
   "cell_type": "markdown",
   "metadata": {},
   "source": [
    "topo 36\n",
    "Biome 32\n",
    "lon 1\n",
    "lat 0\n",
    "time 2\n",
    "LAI 18\n",
    "FPAR_12mon 21\n",
    "LAI_12mon 22\n",
    "Vod_k_anomaly_12mon 23\n",
    "FPAR_06mon 24\n",
    "LAI_06mon 25\n",
    "Vod_k_anomaly_06mon 26\n",
    "pft_fracCover 4\n",
    "tmx 30\n",
    "dtr 28\n",
    "NLDI 19\n",
    "WDPA_fracCover 27\n",
    "Livestock 34\n",
    "road_density 35\n",
    "pop_density 37\n",
    "Distance_to_populated_areas 16\n",
    "GDP 14\n",
    "pftCrop 6\n",
    "[2,18,21,22,23,24,25,26,19,36]\n",
    "Livestock\n",
    "road_density\n",
    "pop_density\n",
    "Distance_to_populated_areas\n",
    "GDP\n",
    "[34,35,37,14]"
   ]
  },
  {
   "cell_type": "code",
   "execution_count": 2,
   "metadata": {},
   "outputs": [
    {
     "data": {
      "text/plain": [
       "array([[ 0,  1,  2,  3,  4],\n",
       "       [ 5,  6,  7,  8,  9],\n",
       "       [10, 11, 12, 13, 14],\n",
       "       [15, 16, 17, 18, 19],\n",
       "       [20, 21, 22, 23, 24],\n",
       "       [25, 26, 27, 28, 29]])"
      ]
     },
     "execution_count": 2,
     "metadata": {},
     "output_type": "execute_result"
    }
   ],
   "source": [
    "import numpy as np\n",
    "arr = np.arange(30).reshape((6,5))\n",
    "arr"
   ]
  },
  {
   "cell_type": "code",
   "execution_count": 5,
   "metadata": {},
   "outputs": [
    {
     "data": {
      "text/plain": [
       "array([[ 0,  3],\n",
       "       [ 5,  8],\n",
       "       [10, 13],\n",
       "       [15, 18],\n",
       "       [20, 23],\n",
       "       [25, 28]])"
      ]
     },
     "execution_count": 5,
     "metadata": {},
     "output_type": "execute_result"
    }
   ],
   "source": [
    "arr[:,[0,3]]"
   ]
  },
  {
   "cell_type": "code",
   "execution_count": 6,
   "metadata": {},
   "outputs": [
    {
     "data": {
      "text/plain": [
       "array([[ 0,  3],\n",
       "       [ 5,  8],\n",
       "       [10, 13],\n",
       "       [15, 18],\n",
       "       [20, 23],\n",
       "       [25, 28]])"
      ]
     },
     "execution_count": 6,
     "metadata": {},
     "output_type": "execute_result"
    }
   ],
   "source": [
    "arr_new = arr[:,[0,3]]\n",
    "arr_new"
   ]
  },
  {
   "cell_type": "code",
   "execution_count": 13,
   "metadata": {},
   "outputs": [],
   "source": [
    "arr = np.append(arr,arr_new[:,1].reshape(-1,1),axis = 1)"
   ]
  },
  {
   "cell_type": "code",
   "execution_count": 14,
   "metadata": {},
   "outputs": [
    {
     "data": {
      "text/plain": [
       "array([[ 0,  1,  2,  3,  4,  3],\n",
       "       [ 5,  6,  7,  8,  9,  8],\n",
       "       [10, 11, 12, 13, 14, 13],\n",
       "       [15, 16, 17, 18, 19, 18],\n",
       "       [20, 21, 22, 23, 24, 23],\n",
       "       [25, 26, 27, 28, 29, 28]])"
      ]
     },
     "execution_count": 14,
     "metadata": {},
     "output_type": "execute_result"
    }
   ],
   "source": [
    "arr"
   ]
  },
  {
   "cell_type": "code",
   "execution_count": 9,
   "metadata": {},
   "outputs": [
    {
     "data": {
      "text/plain": [
       "(6, 2)"
      ]
     },
     "execution_count": 9,
     "metadata": {},
     "output_type": "execute_result"
    }
   ],
   "source": [
    "arr_new.shape"
   ]
  },
  {
   "cell_type": "code",
   "execution_count": 11,
   "metadata": {},
   "outputs": [
    {
     "data": {
      "text/plain": [
       "(6,)"
      ]
     },
     "execution_count": 11,
     "metadata": {},
     "output_type": "execute_result"
    }
   ],
   "source": [
    "arr_new[:,1].shape"
   ]
  },
  {
   "cell_type": "code",
   "execution_count": 16,
   "metadata": {},
   "outputs": [
    {
     "ename": "ValueError",
     "evalue": "all the input arrays must have same number of dimensions, but the array at index 0 has 2 dimension(s) and the array at index 1 has 0 dimension(s)",
     "output_type": "error",
     "traceback": [
      "\u001b[0;31m---------------------------------------------------------------------------\u001b[0m",
      "\u001b[0;31mValueError\u001b[0m                                Traceback (most recent call last)",
      "\u001b[1;32m/home/npande/Desktop/furnaces/code/data_analysis.ipynb Cell 41\u001b[0m in \u001b[0;36m<cell line: 1>\u001b[0;34m()\u001b[0m\n\u001b[0;32m----> <a href='vscode-notebook-cell:/home/npande/Desktop/furnaces/code/data_analysis.ipynb#X55sZmlsZQ%3D%3D?line=0'>1</a>\u001b[0m arr \u001b[39m=\u001b[39m np\u001b[39m.\u001b[39;49mappend(arr,\u001b[39mNone\u001b[39;49;00m,axis \u001b[39m=\u001b[39;49m \u001b[39m1\u001b[39;49m)\n",
      "File \u001b[0;32m<__array_function__ internals>:180\u001b[0m, in \u001b[0;36mappend\u001b[0;34m(*args, **kwargs)\u001b[0m\n",
      "File \u001b[0;32m~/miniconda3/lib/python3.9/site-packages/numpy/lib/function_base.py:5392\u001b[0m, in \u001b[0;36mappend\u001b[0;34m(arr, values, axis)\u001b[0m\n\u001b[1;32m   5390\u001b[0m     values \u001b[39m=\u001b[39m ravel(values)\n\u001b[1;32m   5391\u001b[0m     axis \u001b[39m=\u001b[39m arr\u001b[39m.\u001b[39mndim\u001b[39m-\u001b[39m\u001b[39m1\u001b[39m\n\u001b[0;32m-> 5392\u001b[0m \u001b[39mreturn\u001b[39;00m concatenate((arr, values), axis\u001b[39m=\u001b[39;49maxis)\n",
      "File \u001b[0;32m<__array_function__ internals>:180\u001b[0m, in \u001b[0;36mconcatenate\u001b[0;34m(*args, **kwargs)\u001b[0m\n",
      "\u001b[0;31mValueError\u001b[0m: all the input arrays must have same number of dimensions, but the array at index 0 has 2 dimension(s) and the array at index 1 has 0 dimension(s)"
     ]
    }
   ],
   "source": [
    "arr = np.append(arr,None,axis = 1)"
   ]
  },
  {
   "cell_type": "code",
   "execution_count": 1,
   "metadata": {},
   "outputs": [],
   "source": [
    "import numpy as np\n",
    "import matplotlib.pyplot as plt\n",
    "%matplotlib inline\n",
    "import joblib\n",
    "from sklearn import tree\n",
    "    #0: 34 Livestock\n",
    "    #1: 35 road_density\n",
    "    #2: 37 pop_density\n",
    "    #3: 14 GDP"
   ]
  },
  {
   "cell_type": "code",
   "execution_count": 2,
   "metadata": {},
   "outputs": [],
   "source": [
    "road_density =  joblib.load(\"../output/feature1.joblib\")\n",
    "fn = ['lat 0', 'lon 1', 'agb 3', 'pft_fracCover 4', 'sm 5', 'pftCrop 6',\n",
    "       'pftHerb 7', 'pftShrubBD 8', 'pftShrubNE 9', 'pftTreeBD 10', 'pftTreeBE 11',\n",
    "       'pftTreeND 12', 'pftTreeNE 13', 'Distance_to_populated_areas 16',\n",
    "       'fPAR 17', 'vod_K_anomalies 20', 'WDPA_fracCover 27', 'dtr 28', \n",
    "       'pet 29', 'tmx 30', 'wet 31', 'Biome 32', 'precip 33','road_density']\n",
    "cn = ['ign']"
   ]
  },
  {
   "cell_type": "code",
   "execution_count": 3,
   "metadata": {},
   "outputs": [
    {
     "ename": "KeyboardInterrupt",
     "evalue": "",
     "output_type": "error",
     "traceback": [
      "\u001b[0;31m---------------------------------------------------------------------------\u001b[0m",
      "\u001b[0;31mKeyboardInterrupt\u001b[0m                         Traceback (most recent call last)",
      "\u001b[1;32m/home/npande/furnaces/code/data_analysis.ipynb Cell 67\u001b[0m in \u001b[0;36m<cell line: 7>\u001b[0;34m()\u001b[0m\n\u001b[1;32m      <a href='vscode-notebook-cell:/home/npande/furnaces/code/data_analysis.ipynb#Y123sZmlsZQ%3D%3D?line=1'>2</a>\u001b[0m tree\u001b[39m.\u001b[39mplot_tree(road_density\u001b[39m.\u001b[39mestimators_[\u001b[39m0\u001b[39m],\n\u001b[1;32m      <a href='vscode-notebook-cell:/home/npande/furnaces/code/data_analysis.ipynb#Y123sZmlsZQ%3D%3D?line=2'>3</a>\u001b[0m                feature_names \u001b[39m=\u001b[39m fn, \n\u001b[1;32m      <a href='vscode-notebook-cell:/home/npande/furnaces/code/data_analysis.ipynb#Y123sZmlsZQ%3D%3D?line=3'>4</a>\u001b[0m                class_names\u001b[39m=\u001b[39mcn,\n\u001b[1;32m      <a href='vscode-notebook-cell:/home/npande/furnaces/code/data_analysis.ipynb#Y123sZmlsZQ%3D%3D?line=4'>5</a>\u001b[0m                filled \u001b[39m=\u001b[39m \u001b[39mTrue\u001b[39;00m)\n\u001b[1;32m      <a href='vscode-notebook-cell:/home/npande/furnaces/code/data_analysis.ipynb#Y123sZmlsZQ%3D%3D?line=5'>6</a>\u001b[0m fig\u001b[39m.\u001b[39msuptitle(\u001b[39m'\u001b[39m\u001b[39mRoad Density + Base Model\u001b[39m\u001b[39m'\u001b[39m)\n\u001b[0;32m----> <a href='vscode-notebook-cell:/home/npande/furnaces/code/data_analysis.ipynb#Y123sZmlsZQ%3D%3D?line=6'>7</a>\u001b[0m plt\u001b[39m.\u001b[39;49mshow()\n",
      "File \u001b[0;32m~/anaconda3/lib/python3.9/site-packages/matplotlib/pyplot.py:368\u001b[0m, in \u001b[0;36mshow\u001b[0;34m(*args, **kwargs)\u001b[0m\n\u001b[1;32m    324\u001b[0m \u001b[39m\"\"\"\u001b[39;00m\n\u001b[1;32m    325\u001b[0m \u001b[39mDisplay all open figures.\u001b[39;00m\n\u001b[1;32m    326\u001b[0m \n\u001b[0;32m   (...)\u001b[0m\n\u001b[1;32m    365\u001b[0m \u001b[39mexplicitly there.\u001b[39;00m\n\u001b[1;32m    366\u001b[0m \u001b[39m\"\"\"\u001b[39;00m\n\u001b[1;32m    367\u001b[0m _warn_if_gui_out_of_main_thread()\n\u001b[0;32m--> 368\u001b[0m \u001b[39mreturn\u001b[39;00m _backend_mod\u001b[39m.\u001b[39;49mshow(\u001b[39m*\u001b[39;49margs, \u001b[39m*\u001b[39;49m\u001b[39m*\u001b[39;49mkwargs)\n",
      "File \u001b[0;32m~/anaconda3/lib/python3.9/site-packages/matplotlib_inline/backend_inline.py:41\u001b[0m, in \u001b[0;36mshow\u001b[0;34m(close, block)\u001b[0m\n\u001b[1;32m     39\u001b[0m \u001b[39mtry\u001b[39;00m:\n\u001b[1;32m     40\u001b[0m     \u001b[39mfor\u001b[39;00m figure_manager \u001b[39min\u001b[39;00m Gcf\u001b[39m.\u001b[39mget_all_fig_managers():\n\u001b[0;32m---> 41\u001b[0m         display(\n\u001b[1;32m     42\u001b[0m             figure_manager\u001b[39m.\u001b[39;49mcanvas\u001b[39m.\u001b[39;49mfigure,\n\u001b[1;32m     43\u001b[0m             metadata\u001b[39m=\u001b[39;49m_fetch_figure_metadata(figure_manager\u001b[39m.\u001b[39;49mcanvas\u001b[39m.\u001b[39;49mfigure)\n\u001b[1;32m     44\u001b[0m         )\n\u001b[1;32m     45\u001b[0m \u001b[39mfinally\u001b[39;00m:\n\u001b[1;32m     46\u001b[0m     show\u001b[39m.\u001b[39m_to_draw \u001b[39m=\u001b[39m []\n",
      "File \u001b[0;32m~/anaconda3/lib/python3.9/site-packages/IPython/core/display_functions.py:298\u001b[0m, in \u001b[0;36mdisplay\u001b[0;34m(include, exclude, metadata, transient, display_id, raw, clear, *objs, **kwargs)\u001b[0m\n\u001b[1;32m    296\u001b[0m     publish_display_data(data\u001b[39m=\u001b[39mobj, metadata\u001b[39m=\u001b[39mmetadata, \u001b[39m*\u001b[39m\u001b[39m*\u001b[39mkwargs)\n\u001b[1;32m    297\u001b[0m \u001b[39melse\u001b[39;00m:\n\u001b[0;32m--> 298\u001b[0m     format_dict, md_dict \u001b[39m=\u001b[39m \u001b[39mformat\u001b[39;49m(obj, include\u001b[39m=\u001b[39;49minclude, exclude\u001b[39m=\u001b[39;49mexclude)\n\u001b[1;32m    299\u001b[0m     \u001b[39mif\u001b[39;00m \u001b[39mnot\u001b[39;00m format_dict:\n\u001b[1;32m    300\u001b[0m         \u001b[39m# nothing to display (e.g. _ipython_display_ took over)\u001b[39;00m\n\u001b[1;32m    301\u001b[0m         \u001b[39mcontinue\u001b[39;00m\n",
      "File \u001b[0;32m~/anaconda3/lib/python3.9/site-packages/IPython/core/formatters.py:178\u001b[0m, in \u001b[0;36mDisplayFormatter.format\u001b[0;34m(self, obj, include, exclude)\u001b[0m\n\u001b[1;32m    176\u001b[0m md \u001b[39m=\u001b[39m \u001b[39mNone\u001b[39;00m\n\u001b[1;32m    177\u001b[0m \u001b[39mtry\u001b[39;00m:\n\u001b[0;32m--> 178\u001b[0m     data \u001b[39m=\u001b[39m formatter(obj)\n\u001b[1;32m    179\u001b[0m \u001b[39mexcept\u001b[39;00m:\n\u001b[1;32m    180\u001b[0m     \u001b[39m# FIXME: log the exception\u001b[39;00m\n\u001b[1;32m    181\u001b[0m     \u001b[39mraise\u001b[39;00m\n",
      "File \u001b[0;32m~/anaconda3/lib/python3.9/site-packages/decorator.py:232\u001b[0m, in \u001b[0;36mdecorate.<locals>.fun\u001b[0;34m(*args, **kw)\u001b[0m\n\u001b[1;32m    230\u001b[0m \u001b[39mif\u001b[39;00m \u001b[39mnot\u001b[39;00m kwsyntax:\n\u001b[1;32m    231\u001b[0m     args, kw \u001b[39m=\u001b[39m fix(args, kw, sig)\n\u001b[0;32m--> 232\u001b[0m \u001b[39mreturn\u001b[39;00m caller(func, \u001b[39m*\u001b[39;49m(extras \u001b[39m+\u001b[39;49m args), \u001b[39m*\u001b[39;49m\u001b[39m*\u001b[39;49mkw)\n",
      "File \u001b[0;32m~/anaconda3/lib/python3.9/site-packages/IPython/core/formatters.py:222\u001b[0m, in \u001b[0;36mcatch_format_error\u001b[0;34m(method, self, *args, **kwargs)\u001b[0m\n\u001b[1;32m    220\u001b[0m \u001b[39m\"\"\"show traceback on failed format call\"\"\"\u001b[39;00m\n\u001b[1;32m    221\u001b[0m \u001b[39mtry\u001b[39;00m:\n\u001b[0;32m--> 222\u001b[0m     r \u001b[39m=\u001b[39m method(\u001b[39mself\u001b[39;49m, \u001b[39m*\u001b[39;49margs, \u001b[39m*\u001b[39;49m\u001b[39m*\u001b[39;49mkwargs)\n\u001b[1;32m    223\u001b[0m \u001b[39mexcept\u001b[39;00m \u001b[39mNotImplementedError\u001b[39;00m:\n\u001b[1;32m    224\u001b[0m     \u001b[39m# don't warn on NotImplementedErrors\u001b[39;00m\n\u001b[1;32m    225\u001b[0m     \u001b[39mreturn\u001b[39;00m \u001b[39mself\u001b[39m\u001b[39m.\u001b[39m_check_return(\u001b[39mNone\u001b[39;00m, args[\u001b[39m0\u001b[39m])\n",
      "File \u001b[0;32m~/anaconda3/lib/python3.9/site-packages/IPython/core/formatters.py:339\u001b[0m, in \u001b[0;36mBaseFormatter.__call__\u001b[0;34m(self, obj)\u001b[0m\n\u001b[1;32m    337\u001b[0m     \u001b[39mpass\u001b[39;00m\n\u001b[1;32m    338\u001b[0m \u001b[39melse\u001b[39;00m:\n\u001b[0;32m--> 339\u001b[0m     \u001b[39mreturn\u001b[39;00m printer(obj)\n\u001b[1;32m    340\u001b[0m \u001b[39m# Finally look for special method names\u001b[39;00m\n\u001b[1;32m    341\u001b[0m method \u001b[39m=\u001b[39m get_real_method(obj, \u001b[39mself\u001b[39m\u001b[39m.\u001b[39mprint_method)\n",
      "File \u001b[0;32m~/anaconda3/lib/python3.9/site-packages/IPython/core/pylabtools.py:151\u001b[0m, in \u001b[0;36mprint_figure\u001b[0;34m(fig, fmt, bbox_inches, base64, **kwargs)\u001b[0m\n\u001b[1;32m    148\u001b[0m     \u001b[39mfrom\u001b[39;00m \u001b[39mmatplotlib\u001b[39;00m\u001b[39m.\u001b[39;00m\u001b[39mbackend_bases\u001b[39;00m \u001b[39mimport\u001b[39;00m FigureCanvasBase\n\u001b[1;32m    149\u001b[0m     FigureCanvasBase(fig)\n\u001b[0;32m--> 151\u001b[0m fig\u001b[39m.\u001b[39;49mcanvas\u001b[39m.\u001b[39;49mprint_figure(bytes_io, \u001b[39m*\u001b[39;49m\u001b[39m*\u001b[39;49mkw)\n\u001b[1;32m    152\u001b[0m data \u001b[39m=\u001b[39m bytes_io\u001b[39m.\u001b[39mgetvalue()\n\u001b[1;32m    153\u001b[0m \u001b[39mif\u001b[39;00m fmt \u001b[39m==\u001b[39m \u001b[39m'\u001b[39m\u001b[39msvg\u001b[39m\u001b[39m'\u001b[39m:\n",
      "File \u001b[0;32m~/anaconda3/lib/python3.9/site-packages/matplotlib/backend_bases.py:2299\u001b[0m, in \u001b[0;36mFigureCanvasBase.print_figure\u001b[0;34m(self, filename, dpi, facecolor, edgecolor, orientation, format, bbox_inches, pad_inches, bbox_extra_artists, backend, **kwargs)\u001b[0m\n\u001b[1;32m   2297\u001b[0m \u001b[39mif\u001b[39;00m bbox_inches:\n\u001b[1;32m   2298\u001b[0m     \u001b[39mif\u001b[39;00m bbox_inches \u001b[39m==\u001b[39m \u001b[39m\"\u001b[39m\u001b[39mtight\u001b[39m\u001b[39m\"\u001b[39m:\n\u001b[0;32m-> 2299\u001b[0m         bbox_inches \u001b[39m=\u001b[39m \u001b[39mself\u001b[39;49m\u001b[39m.\u001b[39;49mfigure\u001b[39m.\u001b[39;49mget_tightbbox(\n\u001b[1;32m   2300\u001b[0m             renderer, bbox_extra_artists\u001b[39m=\u001b[39;49mbbox_extra_artists)\n\u001b[1;32m   2301\u001b[0m         \u001b[39mif\u001b[39;00m pad_inches \u001b[39mis\u001b[39;00m \u001b[39mNone\u001b[39;00m:\n\u001b[1;32m   2302\u001b[0m             pad_inches \u001b[39m=\u001b[39m rcParams[\u001b[39m'\u001b[39m\u001b[39msavefig.pad_inches\u001b[39m\u001b[39m'\u001b[39m]\n",
      "File \u001b[0;32m~/anaconda3/lib/python3.9/site-packages/matplotlib/figure.py:1632\u001b[0m, in \u001b[0;36mFigureBase.get_tightbbox\u001b[0;34m(self, renderer, bbox_extra_artists)\u001b[0m\n\u001b[1;32m   1629\u001b[0m     artists \u001b[39m=\u001b[39m bbox_extra_artists\n\u001b[1;32m   1631\u001b[0m \u001b[39mfor\u001b[39;00m a \u001b[39min\u001b[39;00m artists:\n\u001b[0;32m-> 1632\u001b[0m     bbox \u001b[39m=\u001b[39m a\u001b[39m.\u001b[39;49mget_tightbbox(renderer)\n\u001b[1;32m   1633\u001b[0m     \u001b[39mif\u001b[39;00m bbox \u001b[39mis\u001b[39;00m \u001b[39mnot\u001b[39;00m \u001b[39mNone\u001b[39;00m \u001b[39mand\u001b[39;00m (bbox\u001b[39m.\u001b[39mwidth \u001b[39m!=\u001b[39m \u001b[39m0\u001b[39m \u001b[39mor\u001b[39;00m bbox\u001b[39m.\u001b[39mheight \u001b[39m!=\u001b[39m \u001b[39m0\u001b[39m):\n\u001b[1;32m   1634\u001b[0m         bb\u001b[39m.\u001b[39mappend(bbox)\n",
      "File \u001b[0;32m~/anaconda3/lib/python3.9/site-packages/matplotlib/text.py:2010\u001b[0m, in \u001b[0;36mAnnotation.get_tightbbox\u001b[0;34m(self, renderer)\u001b[0m\n\u001b[1;32m   2008\u001b[0m \u001b[39mif\u001b[39;00m \u001b[39mnot\u001b[39;00m \u001b[39mself\u001b[39m\u001b[39m.\u001b[39m_check_xy(renderer):\n\u001b[1;32m   2009\u001b[0m     \u001b[39mreturn\u001b[39;00m Bbox\u001b[39m.\u001b[39mnull()\n\u001b[0;32m-> 2010\u001b[0m \u001b[39mreturn\u001b[39;00m \u001b[39msuper\u001b[39;49m()\u001b[39m.\u001b[39;49mget_tightbbox(renderer)\n",
      "File \u001b[0;32m~/anaconda3/lib/python3.9/site-packages/matplotlib/artist.py:355\u001b[0m, in \u001b[0;36mArtist.get_tightbbox\u001b[0;34m(self, renderer)\u001b[0m\n\u001b[1;32m    340\u001b[0m \u001b[39mdef\u001b[39;00m \u001b[39mget_tightbbox\u001b[39m(\u001b[39mself\u001b[39m, renderer):\n\u001b[1;32m    341\u001b[0m     \u001b[39m\"\"\"\u001b[39;00m\n\u001b[1;32m    342\u001b[0m \u001b[39m    Like `.Artist.get_window_extent`, but includes any clipping.\u001b[39;00m\n\u001b[1;32m    343\u001b[0m \n\u001b[0;32m   (...)\u001b[0m\n\u001b[1;32m    353\u001b[0m \u001b[39m        The enclosing bounding box (in figure pixel coordinates).\u001b[39;00m\n\u001b[1;32m    354\u001b[0m \u001b[39m    \"\"\"\u001b[39;00m\n\u001b[0;32m--> 355\u001b[0m     bbox \u001b[39m=\u001b[39m \u001b[39mself\u001b[39;49m\u001b[39m.\u001b[39;49mget_window_extent(renderer)\n\u001b[1;32m    356\u001b[0m     \u001b[39mif\u001b[39;00m \u001b[39mself\u001b[39m\u001b[39m.\u001b[39mget_clip_on():\n\u001b[1;32m    357\u001b[0m         clip_box \u001b[39m=\u001b[39m \u001b[39mself\u001b[39m\u001b[39m.\u001b[39mget_clip_box()\n",
      "File \u001b[0;32m~/anaconda3/lib/python3.9/site-packages/matplotlib/text.py:2002\u001b[0m, in \u001b[0;36mAnnotation.get_window_extent\u001b[0;34m(self, renderer)\u001b[0m\n\u001b[1;32m   1999\u001b[0m bboxes \u001b[39m=\u001b[39m [text_bbox]\n\u001b[1;32m   2001\u001b[0m \u001b[39mif\u001b[39;00m \u001b[39mself\u001b[39m\u001b[39m.\u001b[39marrow_patch \u001b[39mis\u001b[39;00m \u001b[39mnot\u001b[39;00m \u001b[39mNone\u001b[39;00m:\n\u001b[0;32m-> 2002\u001b[0m     bboxes\u001b[39m.\u001b[39mappend(\u001b[39mself\u001b[39;49m\u001b[39m.\u001b[39;49marrow_patch\u001b[39m.\u001b[39;49mget_window_extent())\n\u001b[1;32m   2004\u001b[0m \u001b[39mreturn\u001b[39;00m Bbox\u001b[39m.\u001b[39munion(bboxes)\n",
      "File \u001b[0;32m~/anaconda3/lib/python3.9/site-packages/matplotlib/patches.py:623\u001b[0m, in \u001b[0;36mPatch.get_window_extent\u001b[0;34m(self, renderer)\u001b[0m\n\u001b[1;32m    622\u001b[0m \u001b[39mdef\u001b[39;00m \u001b[39mget_window_extent\u001b[39m(\u001b[39mself\u001b[39m, renderer\u001b[39m=\u001b[39m\u001b[39mNone\u001b[39;00m):\n\u001b[0;32m--> 623\u001b[0m     \u001b[39mreturn\u001b[39;00m \u001b[39mself\u001b[39;49m\u001b[39m.\u001b[39;49mget_path()\u001b[39m.\u001b[39mget_extents(\u001b[39mself\u001b[39m\u001b[39m.\u001b[39mget_transform())\n",
      "File \u001b[0;32m~/anaconda3/lib/python3.9/site-packages/matplotlib/patches.py:4440\u001b[0m, in \u001b[0;36mFancyArrowPatch.get_path\u001b[0;34m(self)\u001b[0m\n\u001b[1;32m   4437\u001b[0m \u001b[39m\"\"\"Return the path of the arrow in the data coordinates.\"\"\"\u001b[39;00m\n\u001b[1;32m   4438\u001b[0m \u001b[39m# The path is generated in display coordinates, then converted back to\u001b[39;00m\n\u001b[1;32m   4439\u001b[0m \u001b[39m# data coordinates.\u001b[39;00m\n\u001b[0;32m-> 4440\u001b[0m _path, fillable \u001b[39m=\u001b[39m \u001b[39mself\u001b[39;49m\u001b[39m.\u001b[39;49m_get_path_in_displaycoord()\n\u001b[1;32m   4441\u001b[0m \u001b[39mif\u001b[39;00m np\u001b[39m.\u001b[39miterable(fillable):\n\u001b[1;32m   4442\u001b[0m     _path \u001b[39m=\u001b[39m Path\u001b[39m.\u001b[39mmake_compound_path(\u001b[39m*\u001b[39m_path)\n",
      "File \u001b[0;32m~/anaconda3/lib/python3.9/site-packages/matplotlib/patches.py:4453\u001b[0m, in \u001b[0;36mFancyArrowPatch._get_path_in_displaycoord\u001b[0;34m(self)\u001b[0m\n\u001b[1;32m   4451\u001b[0m     posB \u001b[39m=\u001b[39m \u001b[39mself\u001b[39m\u001b[39m.\u001b[39m_convert_xy_units(\u001b[39mself\u001b[39m\u001b[39m.\u001b[39m_posA_posB[\u001b[39m1\u001b[39m])\n\u001b[1;32m   4452\u001b[0m     (posA, posB) \u001b[39m=\u001b[39m \u001b[39mself\u001b[39m\u001b[39m.\u001b[39mget_transform()\u001b[39m.\u001b[39mtransform((posA, posB))\n\u001b[0;32m-> 4453\u001b[0m     _path \u001b[39m=\u001b[39m \u001b[39mself\u001b[39;49m\u001b[39m.\u001b[39;49mget_connectionstyle()(posA, posB,\n\u001b[1;32m   4454\u001b[0m                                        patchA\u001b[39m=\u001b[39;49m\u001b[39mself\u001b[39;49m\u001b[39m.\u001b[39;49mpatchA,\n\u001b[1;32m   4455\u001b[0m                                        patchB\u001b[39m=\u001b[39;49m\u001b[39mself\u001b[39;49m\u001b[39m.\u001b[39;49mpatchB,\n\u001b[1;32m   4456\u001b[0m                                        shrinkA\u001b[39m=\u001b[39;49m\u001b[39mself\u001b[39;49m\u001b[39m.\u001b[39;49mshrinkA \u001b[39m*\u001b[39;49m dpi_cor,\n\u001b[1;32m   4457\u001b[0m                                        shrinkB\u001b[39m=\u001b[39;49m\u001b[39mself\u001b[39;49m\u001b[39m.\u001b[39;49mshrinkB \u001b[39m*\u001b[39;49m dpi_cor\n\u001b[1;32m   4458\u001b[0m                                        )\n\u001b[1;32m   4459\u001b[0m \u001b[39melse\u001b[39;00m:\n\u001b[1;32m   4460\u001b[0m     _path \u001b[39m=\u001b[39m \u001b[39mself\u001b[39m\u001b[39m.\u001b[39mget_transform()\u001b[39m.\u001b[39mtransform_path(\u001b[39mself\u001b[39m\u001b[39m.\u001b[39m_path_original)\n",
      "File \u001b[0;32m~/anaconda3/lib/python3.9/site-packages/matplotlib/patches.py:2770\u001b[0m, in \u001b[0;36mConnectionStyle._Base.__call__\u001b[0;34m(self, posA, posB, shrinkA, shrinkB, patchA, patchB)\u001b[0m\n\u001b[1;32m   2765\u001b[0m \u001b[39m\"\"\"\u001b[39;00m\n\u001b[1;32m   2766\u001b[0m \u001b[39mCall the *connect* method to create a path between *posA* and\u001b[39;00m\n\u001b[1;32m   2767\u001b[0m \u001b[39m*posB*; then clip and shrink the path.\u001b[39;00m\n\u001b[1;32m   2768\u001b[0m \u001b[39m\"\"\"\u001b[39;00m\n\u001b[1;32m   2769\u001b[0m path \u001b[39m=\u001b[39m \u001b[39mself\u001b[39m\u001b[39m.\u001b[39mconnect(posA, posB)\n\u001b[0;32m-> 2770\u001b[0m clipped_path \u001b[39m=\u001b[39m \u001b[39mself\u001b[39;49m\u001b[39m.\u001b[39;49m_clip(path, patchA, patchB)\n\u001b[1;32m   2771\u001b[0m shrunk_path \u001b[39m=\u001b[39m \u001b[39mself\u001b[39m\u001b[39m.\u001b[39m_shrink(clipped_path, shrinkA, shrinkB)\n\u001b[1;32m   2772\u001b[0m \u001b[39mreturn\u001b[39;00m shrunk_path\n",
      "File \u001b[0;32m~/anaconda3/lib/python3.9/site-packages/matplotlib/patches.py:2725\u001b[0m, in \u001b[0;36mConnectionStyle._Base._clip\u001b[0;34m(self, path, patchA, patchB)\u001b[0m\n\u001b[1;32m   2722\u001b[0m     \u001b[39mreturn\u001b[39;00m patchA\u001b[39m.\u001b[39mcontains(xy_event)[\u001b[39m0\u001b[39m]\n\u001b[1;32m   2724\u001b[0m \u001b[39mtry\u001b[39;00m:\n\u001b[0;32m-> 2725\u001b[0m     left, right \u001b[39m=\u001b[39m split_path_inout(path, insideA)\n\u001b[1;32m   2726\u001b[0m \u001b[39mexcept\u001b[39;00m \u001b[39mValueError\u001b[39;00m:\n\u001b[1;32m   2727\u001b[0m     right \u001b[39m=\u001b[39m path\n",
      "File \u001b[0;32m~/anaconda3/lib/python3.9/site-packages/matplotlib/bezier.py:371\u001b[0m, in \u001b[0;36msplit_path_inout\u001b[0;34m(path, inside, tolerance, reorder_inout)\u001b[0m\n\u001b[1;32m    368\u001b[0m     \u001b[39mraise\u001b[39;00m \u001b[39mValueError\u001b[39;00m(\u001b[39m\"\u001b[39m\u001b[39mThe path does not intersect with the patch\u001b[39m\u001b[39m\"\u001b[39m)\n\u001b[1;32m    370\u001b[0m bp \u001b[39m=\u001b[39m bezier_path\u001b[39m.\u001b[39mreshape((\u001b[39m-\u001b[39m\u001b[39m1\u001b[39m, \u001b[39m2\u001b[39m))\n\u001b[0;32m--> 371\u001b[0m left, right \u001b[39m=\u001b[39m split_bezier_intersecting_with_closedpath(\n\u001b[1;32m    372\u001b[0m     bp, inside, tolerance)\n\u001b[1;32m    373\u001b[0m \u001b[39mif\u001b[39;00m \u001b[39mlen\u001b[39m(left) \u001b[39m==\u001b[39m \u001b[39m2\u001b[39m:\n\u001b[1;32m    374\u001b[0m     codes_left \u001b[39m=\u001b[39m [Path\u001b[39m.\u001b[39mLINETO]\n",
      "File \u001b[0;32m~/anaconda3/lib/python3.9/site-packages/matplotlib/bezier.py:334\u001b[0m, in \u001b[0;36msplit_bezier_intersecting_with_closedpath\u001b[0;34m(bezier, inside_closedpath, tolerance)\u001b[0m\n\u001b[1;32m    331\u001b[0m bz \u001b[39m=\u001b[39m BezierSegment(bezier)\n\u001b[1;32m    332\u001b[0m bezier_point_at_t \u001b[39m=\u001b[39m bz\u001b[39m.\u001b[39mpoint_at_t\n\u001b[0;32m--> 334\u001b[0m t0, t1 \u001b[39m=\u001b[39m find_bezier_t_intersecting_with_closedpath(\n\u001b[1;32m    335\u001b[0m     bezier_point_at_t, inside_closedpath, tolerance\u001b[39m=\u001b[39;49mtolerance)\n\u001b[1;32m    337\u001b[0m _left, _right \u001b[39m=\u001b[39m split_de_casteljau(bezier, (t0 \u001b[39m+\u001b[39m t1) \u001b[39m/\u001b[39m \u001b[39m2.\u001b[39m)\n\u001b[1;32m    338\u001b[0m \u001b[39mreturn\u001b[39;00m _left, _right\n",
      "File \u001b[0;32m~/anaconda3/lib/python3.9/site-packages/matplotlib/bezier.py:170\u001b[0m, in \u001b[0;36mfind_bezier_t_intersecting_with_closedpath\u001b[0;34m(bezier_point_at_t, inside_closedpath, t0, t1, tolerance)\u001b[0m\n\u001b[1;32m    168\u001b[0m middle_t \u001b[39m=\u001b[39m \u001b[39m0.5\u001b[39m \u001b[39m*\u001b[39m (t0 \u001b[39m+\u001b[39m t1)\n\u001b[1;32m    169\u001b[0m middle \u001b[39m=\u001b[39m bezier_point_at_t(middle_t)\n\u001b[0;32m--> 170\u001b[0m middle_inside \u001b[39m=\u001b[39m inside_closedpath(middle)\n\u001b[1;32m    172\u001b[0m \u001b[39mif\u001b[39;00m start_inside \u001b[39m^\u001b[39m middle_inside:\n\u001b[1;32m    173\u001b[0m     t1 \u001b[39m=\u001b[39m middle_t\n",
      "File \u001b[0;32m~/anaconda3/lib/python3.9/site-packages/matplotlib/patches.py:2722\u001b[0m, in \u001b[0;36mConnectionStyle._Base._clip.<locals>.insideA\u001b[0;34m(xy_display)\u001b[0m\n\u001b[1;32m   2720\u001b[0m \u001b[39mdef\u001b[39;00m \u001b[39minsideA\u001b[39m(xy_display):\n\u001b[1;32m   2721\u001b[0m     xy_event \u001b[39m=\u001b[39m ConnectionStyle\u001b[39m.\u001b[39m_Base\u001b[39m.\u001b[39mSimpleEvent(xy_display)\n\u001b[0;32m-> 2722\u001b[0m     \u001b[39mreturn\u001b[39;00m patchA\u001b[39m.\u001b[39;49mcontains(xy_event)[\u001b[39m0\u001b[39m]\n",
      "File \u001b[0;32m~/anaconda3/lib/python3.9/site-packages/matplotlib/patches.py:165\u001b[0m, in \u001b[0;36mPatch.contains\u001b[0;34m(self, mouseevent, radius)\u001b[0m\n\u001b[1;32m    163\u001b[0m \u001b[39melse\u001b[39;00m:\n\u001b[1;32m    164\u001b[0m     subpaths \u001b[39m=\u001b[39m [\u001b[39mself\u001b[39m\u001b[39m.\u001b[39mget_path()]\n\u001b[0;32m--> 165\u001b[0m inside \u001b[39m=\u001b[39m \u001b[39many\u001b[39;49m(\n\u001b[1;32m    166\u001b[0m     subpath\u001b[39m.\u001b[39;49mcontains_point(\n\u001b[1;32m    167\u001b[0m         (mouseevent\u001b[39m.\u001b[39;49mx, mouseevent\u001b[39m.\u001b[39;49my), \u001b[39mself\u001b[39;49m\u001b[39m.\u001b[39;49mget_transform(), radius)\n\u001b[1;32m    168\u001b[0m     \u001b[39mfor\u001b[39;49;00m subpath \u001b[39min\u001b[39;49;00m subpaths)\n\u001b[1;32m    169\u001b[0m \u001b[39mreturn\u001b[39;00m inside, {}\n",
      "File \u001b[0;32m~/anaconda3/lib/python3.9/site-packages/matplotlib/patches.py:165\u001b[0m, in \u001b[0;36m<genexpr>\u001b[0;34m(.0)\u001b[0m\n\u001b[1;32m    163\u001b[0m \u001b[39melse\u001b[39;00m:\n\u001b[1;32m    164\u001b[0m     subpaths \u001b[39m=\u001b[39m [\u001b[39mself\u001b[39m\u001b[39m.\u001b[39mget_path()]\n\u001b[0;32m--> 165\u001b[0m inside \u001b[39m=\u001b[39m \u001b[39many\u001b[39m(\n\u001b[1;32m    166\u001b[0m     subpath\u001b[39m.\u001b[39mcontains_point(\n\u001b[1;32m    167\u001b[0m         (mouseevent\u001b[39m.\u001b[39mx, mouseevent\u001b[39m.\u001b[39my), \u001b[39mself\u001b[39m\u001b[39m.\u001b[39mget_transform(), radius)\n\u001b[1;32m    168\u001b[0m     \u001b[39mfor\u001b[39;00m subpath \u001b[39min\u001b[39;00m subpaths)\n\u001b[1;32m    169\u001b[0m \u001b[39mreturn\u001b[39;00m inside, {}\n",
      "File \u001b[0;32m~/anaconda3/lib/python3.9/site-packages/matplotlib/path.py:139\u001b[0m, in \u001b[0;36mPath.__init__\u001b[0;34m(self, vertices, codes, _interpolation_steps, closed, readonly)\u001b[0m\n\u001b[1;32m    134\u001b[0m     \u001b[39mif\u001b[39;00m codes\u001b[39m.\u001b[39mndim \u001b[39m!=\u001b[39m \u001b[39m1\u001b[39m \u001b[39mor\u001b[39;00m \u001b[39mlen\u001b[39m(codes) \u001b[39m!=\u001b[39m \u001b[39mlen\u001b[39m(vertices):\n\u001b[1;32m    135\u001b[0m         \u001b[39mraise\u001b[39;00m \u001b[39mValueError\u001b[39;00m(\u001b[39m\"\u001b[39m\u001b[39m'\u001b[39m\u001b[39mcodes\u001b[39m\u001b[39m'\u001b[39m\u001b[39m must be a 1D list or array with the \u001b[39m\u001b[39m\"\u001b[39m\n\u001b[1;32m    136\u001b[0m                          \u001b[39m\"\u001b[39m\u001b[39msame length of \u001b[39m\u001b[39m'\u001b[39m\u001b[39mvertices\u001b[39m\u001b[39m'\u001b[39m\u001b[39m. \u001b[39m\u001b[39m\"\u001b[39m\n\u001b[1;32m    137\u001b[0m                          \u001b[39mf\u001b[39m\u001b[39m\"\u001b[39m\u001b[39mYour vertices have shape \u001b[39m\u001b[39m{\u001b[39;00mvertices\u001b[39m.\u001b[39mshape\u001b[39m}\u001b[39;00m\u001b[39m \u001b[39m\u001b[39m\"\u001b[39m\n\u001b[1;32m    138\u001b[0m                          \u001b[39mf\u001b[39m\u001b[39m\"\u001b[39m\u001b[39mbut your codes have shape \u001b[39m\u001b[39m{\u001b[39;00mcodes\u001b[39m.\u001b[39mshape\u001b[39m}\u001b[39;00m\u001b[39m\"\u001b[39m)\n\u001b[0;32m--> 139\u001b[0m     \u001b[39mif\u001b[39;00m \u001b[39mlen\u001b[39m(codes) \u001b[39mand\u001b[39;00m codes[\u001b[39m0\u001b[39;49m] \u001b[39m!=\u001b[39;49m \u001b[39mself\u001b[39;49m\u001b[39m.\u001b[39;49mMOVETO:\n\u001b[1;32m    140\u001b[0m         \u001b[39mraise\u001b[39;00m \u001b[39mValueError\u001b[39;00m(\u001b[39m\"\u001b[39m\u001b[39mThe first element of \u001b[39m\u001b[39m'\u001b[39m\u001b[39mcode\u001b[39m\u001b[39m'\u001b[39m\u001b[39m must be equal \u001b[39m\u001b[39m\"\u001b[39m\n\u001b[1;32m    141\u001b[0m                          \u001b[39mf\u001b[39m\u001b[39m\"\u001b[39m\u001b[39mto \u001b[39m\u001b[39m'\u001b[39m\u001b[39mMOVETO\u001b[39m\u001b[39m'\u001b[39m\u001b[39m (\u001b[39m\u001b[39m{\u001b[39;00m\u001b[39mself\u001b[39m\u001b[39m.\u001b[39mMOVETO\u001b[39m}\u001b[39;00m\u001b[39m).  \u001b[39m\u001b[39m\"\u001b[39m\n\u001b[1;32m    142\u001b[0m                          \u001b[39mf\u001b[39m\u001b[39m\"\u001b[39m\u001b[39mYour first code is \u001b[39m\u001b[39m{\u001b[39;00mcodes[\u001b[39m0\u001b[39m]\u001b[39m}\u001b[39;00m\u001b[39m\"\u001b[39m)\n\u001b[1;32m    143\u001b[0m \u001b[39melif\u001b[39;00m closed \u001b[39mand\u001b[39;00m \u001b[39mlen\u001b[39m(vertices):\n",
      "\u001b[0;31mKeyboardInterrupt\u001b[0m: "
     ]
    }
   ],
   "source": [
    "fig, axes = plt.subplots(nrows = 1,ncols = 1,figsize = (4,4), dpi=800)\n",
    "tree.plot_tree(road_density.estimators_[0],\n",
    "               feature_names = fn, \n",
    "               class_names=cn,\n",
    "               filled = True)\n",
    "fig.suptitle('Road Density + Base Model')\n",
    "plt.show()"
   ]
  },
  {
   "cell_type": "code",
   "execution_count": null,
   "metadata": {},
   "outputs": [],
   "source": [
    "plt.close()\n",
    "import gc\n",
    "del(road_density)\n",
    "gc.collect()\n",
    "pop_density =  joblib.load(\"../output/feature2.joblib\")\n",
    "fn = ['lat 0', 'lon 1', 'agb 3', 'pft_fracCover 4', 'sm 5', 'pftCrop 6',\n",
    "       'pftHerb 7', 'pftShrubBD 8', 'pftShrubNE 9', 'pftTreeBD 10', 'pftTreeBE 11',\n",
    "       'pftTreeND 12', 'pftTreeNE 13', 'Distance_to_populated_areas 16',\n",
    "       'fPAR 17', 'vod_K_anomalies 20', 'WDPA_fracCover 27', 'dtr 28', \n",
    "       'pet 29', 'tmx 30', 'wet 31', 'Biome 32', 'precip 33','pop_density']\n",
    "cn = ['ign']"
   ]
  },
  {
   "cell_type": "code",
   "execution_count": null,
   "metadata": {},
   "outputs": [],
   "source": [
    "fig, axes = plt.subplots(nrows = 1,ncols = 1,figsize = (4,4), dpi=800)\n",
    "tree.plot_tree(pop_density.estimators_[0],\n",
    "               feature_names = fn, \n",
    "               class_names=cn,\n",
    "               filled = True)\n",
    "fig.suptitle('Population Density + Base Model')\n",
    "plt.show()"
   ]
  },
  {
   "cell_type": "code",
   "execution_count": null,
   "metadata": {},
   "outputs": [],
   "source": [
    "plt.close()\n",
    "del(pop_density)\n",
    "gc.collect()"
   ]
  },
  {
   "cell_type": "code",
   "execution_count": 2,
   "metadata": {},
   "outputs": [],
   "source": [
    "import numpy as np\n",
    "import pandas as pd"
   ]
  },
  {
   "cell_type": "code",
   "execution_count": 6,
   "metadata": {},
   "outputs": [
    {
     "data": {
      "text/html": [
       "<div>\n",
       "<style scoped>\n",
       "    .dataframe tbody tr th:only-of-type {\n",
       "        vertical-align: middle;\n",
       "    }\n",
       "\n",
       "    .dataframe tbody tr th {\n",
       "        vertical-align: top;\n",
       "    }\n",
       "\n",
       "    .dataframe thead th {\n",
       "        text-align: right;\n",
       "    }\n",
       "</style>\n",
       "<table border=\"1\" class=\"dataframe\">\n",
       "  <thead>\n",
       "    <tr style=\"text-align: right;\">\n",
       "      <th></th>\n",
       "      <th>lat</th>\n",
       "      <th>lon</th>\n",
       "      <th>time</th>\n",
       "      <th>primn</th>\n",
       "      <th>pet</th>\n",
       "      <th>wet</th>\n",
       "      <th>agb</th>\n",
       "      <th>pftCrop</th>\n",
       "      <th>pftHerb</th>\n",
       "      <th>pftShrubBD</th>\n",
       "      <th>...</th>\n",
       "      <th>pftTreeNE</th>\n",
       "      <th>sm</th>\n",
       "      <th>precip</th>\n",
       "      <th>GDP_per_capita_PPP</th>\n",
       "      <th>fPAR</th>\n",
       "      <th>LAI</th>\n",
       "      <th>pastr</th>\n",
       "      <th>range</th>\n",
       "      <th>vod_K_anomalies</th>\n",
       "      <th>ign</th>\n",
       "    </tr>\n",
       "  </thead>\n",
       "  <tbody>\n",
       "    <tr>\n",
       "      <th>0</th>\n",
       "      <td>-89.75</td>\n",
       "      <td>-179.75</td>\n",
       "      <td>2003-01-01 12:00:00</td>\n",
       "      <td>NaN</td>\n",
       "      <td>NaN</td>\n",
       "      <td>NaN</td>\n",
       "      <td>NaN</td>\n",
       "      <td>NaN</td>\n",
       "      <td>NaN</td>\n",
       "      <td>NaN</td>\n",
       "      <td>...</td>\n",
       "      <td>NaN</td>\n",
       "      <td>NaN</td>\n",
       "      <td>NaN</td>\n",
       "      <td>NaN</td>\n",
       "      <td>NaN</td>\n",
       "      <td>NaN</td>\n",
       "      <td>NaN</td>\n",
       "      <td>NaN</td>\n",
       "      <td>NaN</td>\n",
       "      <td>NaN</td>\n",
       "    </tr>\n",
       "    <tr>\n",
       "      <th>1</th>\n",
       "      <td>-89.75</td>\n",
       "      <td>-179.75</td>\n",
       "      <td>2003-02-01 12:00:00</td>\n",
       "      <td>NaN</td>\n",
       "      <td>NaN</td>\n",
       "      <td>NaN</td>\n",
       "      <td>NaN</td>\n",
       "      <td>NaN</td>\n",
       "      <td>NaN</td>\n",
       "      <td>NaN</td>\n",
       "      <td>...</td>\n",
       "      <td>NaN</td>\n",
       "      <td>NaN</td>\n",
       "      <td>NaN</td>\n",
       "      <td>NaN</td>\n",
       "      <td>NaN</td>\n",
       "      <td>NaN</td>\n",
       "      <td>NaN</td>\n",
       "      <td>NaN</td>\n",
       "      <td>NaN</td>\n",
       "      <td>NaN</td>\n",
       "    </tr>\n",
       "    <tr>\n",
       "      <th>2</th>\n",
       "      <td>-89.75</td>\n",
       "      <td>-179.75</td>\n",
       "      <td>2003-03-01 12:00:00</td>\n",
       "      <td>NaN</td>\n",
       "      <td>NaN</td>\n",
       "      <td>NaN</td>\n",
       "      <td>NaN</td>\n",
       "      <td>NaN</td>\n",
       "      <td>NaN</td>\n",
       "      <td>NaN</td>\n",
       "      <td>...</td>\n",
       "      <td>NaN</td>\n",
       "      <td>NaN</td>\n",
       "      <td>NaN</td>\n",
       "      <td>NaN</td>\n",
       "      <td>NaN</td>\n",
       "      <td>NaN</td>\n",
       "      <td>NaN</td>\n",
       "      <td>NaN</td>\n",
       "      <td>NaN</td>\n",
       "      <td>NaN</td>\n",
       "    </tr>\n",
       "    <tr>\n",
       "      <th>3</th>\n",
       "      <td>-89.75</td>\n",
       "      <td>-179.75</td>\n",
       "      <td>2003-04-01 12:00:00</td>\n",
       "      <td>NaN</td>\n",
       "      <td>NaN</td>\n",
       "      <td>NaN</td>\n",
       "      <td>NaN</td>\n",
       "      <td>NaN</td>\n",
       "      <td>NaN</td>\n",
       "      <td>NaN</td>\n",
       "      <td>...</td>\n",
       "      <td>NaN</td>\n",
       "      <td>NaN</td>\n",
       "      <td>NaN</td>\n",
       "      <td>NaN</td>\n",
       "      <td>NaN</td>\n",
       "      <td>NaN</td>\n",
       "      <td>NaN</td>\n",
       "      <td>NaN</td>\n",
       "      <td>NaN</td>\n",
       "      <td>NaN</td>\n",
       "    </tr>\n",
       "    <tr>\n",
       "      <th>4</th>\n",
       "      <td>-89.75</td>\n",
       "      <td>-179.75</td>\n",
       "      <td>2003-05-01 12:00:00</td>\n",
       "      <td>NaN</td>\n",
       "      <td>NaN</td>\n",
       "      <td>NaN</td>\n",
       "      <td>NaN</td>\n",
       "      <td>NaN</td>\n",
       "      <td>NaN</td>\n",
       "      <td>NaN</td>\n",
       "      <td>...</td>\n",
       "      <td>NaN</td>\n",
       "      <td>NaN</td>\n",
       "      <td>NaN</td>\n",
       "      <td>NaN</td>\n",
       "      <td>NaN</td>\n",
       "      <td>NaN</td>\n",
       "      <td>NaN</td>\n",
       "      <td>NaN</td>\n",
       "      <td>NaN</td>\n",
       "      <td>NaN</td>\n",
       "    </tr>\n",
       "  </tbody>\n",
       "</table>\n",
       "<p>5 rows × 24 columns</p>\n",
       "</div>"
      ],
      "text/plain": [
       "     lat     lon                time  primn  pet  wet  agb  pftCrop  pftHerb  \\\n",
       "0 -89.75 -179.75 2003-01-01 12:00:00    NaN  NaN  NaN  NaN      NaN      NaN   \n",
       "1 -89.75 -179.75 2003-02-01 12:00:00    NaN  NaN  NaN  NaN      NaN      NaN   \n",
       "2 -89.75 -179.75 2003-03-01 12:00:00    NaN  NaN  NaN  NaN      NaN      NaN   \n",
       "3 -89.75 -179.75 2003-04-01 12:00:00    NaN  NaN  NaN  NaN      NaN      NaN   \n",
       "4 -89.75 -179.75 2003-05-01 12:00:00    NaN  NaN  NaN  NaN      NaN      NaN   \n",
       "\n",
       "   pftShrubBD  ...  pftTreeNE  sm  precip  GDP_per_capita_PPP  fPAR  LAI  \\\n",
       "0         NaN  ...        NaN NaN     NaN                 NaN   NaN  NaN   \n",
       "1         NaN  ...        NaN NaN     NaN                 NaN   NaN  NaN   \n",
       "2         NaN  ...        NaN NaN     NaN                 NaN   NaN  NaN   \n",
       "3         NaN  ...        NaN NaN     NaN                 NaN   NaN  NaN   \n",
       "4         NaN  ...        NaN NaN     NaN                 NaN   NaN  NaN   \n",
       "\n",
       "   pastr  range  vod_K_anomalies  ign  \n",
       "0    NaN    NaN              NaN  NaN  \n",
       "1    NaN    NaN              NaN  NaN  \n",
       "2    NaN    NaN              NaN  NaN  \n",
       "3    NaN    NaN              NaN  NaN  \n",
       "4    NaN    NaN              NaN  NaN  \n",
       "\n",
       "[5 rows x 24 columns]"
      ]
     },
     "execution_count": 6,
     "metadata": {},
     "output_type": "execute_result"
    }
   ],
   "source": [
    "df = pd.read_pickle(\"../../data/dataset_validation_2012-2016.pkl\")\n",
    "df.head()"
   ]
  },
  {
   "cell_type": "code",
   "execution_count": 14,
   "metadata": {},
   "outputs": [
    {
     "data": {
      "text/plain": [
       "Timestamp('2007-09-01 12:00:00')"
      ]
     },
     "execution_count": 14,
     "metadata": {},
     "output_type": "execute_result"
    }
   ],
   "source": [
    "df['time'].max()"
   ]
  },
  {
   "cell_type": "code",
   "execution_count": 8,
   "metadata": {},
   "outputs": [
    {
     "data": {
      "text/plain": [
       "Index(['lat', 'lon', 'time', 'primn', 'pet', 'wet', 'agb', 'pftCrop',\n",
       "       'pftHerb', 'pftShrubBD', 'pftShrubNE', 'pftTreeBD', 'pftTreeBE',\n",
       "       'pftTreeND', 'pftTreeNE', 'sm', 'precip', 'GDP_per_capita_PPP', 'fPAR',\n",
       "       'LAI', 'pastr', 'range', 'vod_K_anomalies', 'ign'],\n",
       "      dtype='object')"
      ]
     },
     "execution_count": 8,
     "metadata": {},
     "output_type": "execute_result"
    }
   ],
   "source": [
    "df.columns"
   ]
  },
  {
   "cell_type": "code",
   "execution_count": 9,
   "metadata": {},
   "outputs": [
    {
     "data": {
      "text/html": [
       "<div>\n",
       "<style scoped>\n",
       "    .dataframe tbody tr th:only-of-type {\n",
       "        vertical-align: middle;\n",
       "    }\n",
       "\n",
       "    .dataframe tbody tr th {\n",
       "        vertical-align: top;\n",
       "    }\n",
       "\n",
       "    .dataframe thead th {\n",
       "        text-align: right;\n",
       "    }\n",
       "</style>\n",
       "<table border=\"1\" class=\"dataframe\">\n",
       "  <thead>\n",
       "    <tr style=\"text-align: right;\">\n",
       "      <th></th>\n",
       "      <th>lat</th>\n",
       "      <th>lon</th>\n",
       "      <th>time</th>\n",
       "      <th>primn</th>\n",
       "      <th>pet</th>\n",
       "      <th>wet</th>\n",
       "      <th>agb</th>\n",
       "      <th>pftCrop</th>\n",
       "      <th>pftHerb</th>\n",
       "      <th>pftShrubBD</th>\n",
       "      <th>...</th>\n",
       "      <th>pftTreeNE</th>\n",
       "      <th>sm</th>\n",
       "      <th>precip</th>\n",
       "      <th>GDP_per_capita_PPP</th>\n",
       "      <th>fPAR</th>\n",
       "      <th>LAI</th>\n",
       "      <th>pastr</th>\n",
       "      <th>range</th>\n",
       "      <th>vod_K_anomalies</th>\n",
       "      <th>ign</th>\n",
       "    </tr>\n",
       "  </thead>\n",
       "  <tbody>\n",
       "    <tr>\n",
       "      <th>0</th>\n",
       "      <td>-89.75</td>\n",
       "      <td>-179.75</td>\n",
       "      <td>2003-01-01 12:00:00</td>\n",
       "      <td>NaN</td>\n",
       "      <td>NaN</td>\n",
       "      <td>NaN</td>\n",
       "      <td>NaN</td>\n",
       "      <td>NaN</td>\n",
       "      <td>NaN</td>\n",
       "      <td>NaN</td>\n",
       "      <td>...</td>\n",
       "      <td>NaN</td>\n",
       "      <td>NaN</td>\n",
       "      <td>NaN</td>\n",
       "      <td>NaN</td>\n",
       "      <td>NaN</td>\n",
       "      <td>NaN</td>\n",
       "      <td>NaN</td>\n",
       "      <td>NaN</td>\n",
       "      <td>NaN</td>\n",
       "      <td>NaN</td>\n",
       "    </tr>\n",
       "    <tr>\n",
       "      <th>1</th>\n",
       "      <td>-89.75</td>\n",
       "      <td>-179.75</td>\n",
       "      <td>2003-02-01 12:00:00</td>\n",
       "      <td>NaN</td>\n",
       "      <td>NaN</td>\n",
       "      <td>NaN</td>\n",
       "      <td>NaN</td>\n",
       "      <td>NaN</td>\n",
       "      <td>NaN</td>\n",
       "      <td>NaN</td>\n",
       "      <td>...</td>\n",
       "      <td>NaN</td>\n",
       "      <td>NaN</td>\n",
       "      <td>NaN</td>\n",
       "      <td>NaN</td>\n",
       "      <td>NaN</td>\n",
       "      <td>NaN</td>\n",
       "      <td>NaN</td>\n",
       "      <td>NaN</td>\n",
       "      <td>NaN</td>\n",
       "      <td>NaN</td>\n",
       "    </tr>\n",
       "    <tr>\n",
       "      <th>2</th>\n",
       "      <td>-89.75</td>\n",
       "      <td>-179.75</td>\n",
       "      <td>2003-03-01 12:00:00</td>\n",
       "      <td>NaN</td>\n",
       "      <td>NaN</td>\n",
       "      <td>NaN</td>\n",
       "      <td>NaN</td>\n",
       "      <td>NaN</td>\n",
       "      <td>NaN</td>\n",
       "      <td>NaN</td>\n",
       "      <td>...</td>\n",
       "      <td>NaN</td>\n",
       "      <td>NaN</td>\n",
       "      <td>NaN</td>\n",
       "      <td>NaN</td>\n",
       "      <td>NaN</td>\n",
       "      <td>NaN</td>\n",
       "      <td>NaN</td>\n",
       "      <td>NaN</td>\n",
       "      <td>NaN</td>\n",
       "      <td>NaN</td>\n",
       "    </tr>\n",
       "    <tr>\n",
       "      <th>3</th>\n",
       "      <td>-89.75</td>\n",
       "      <td>-179.75</td>\n",
       "      <td>2003-04-01 12:00:00</td>\n",
       "      <td>NaN</td>\n",
       "      <td>NaN</td>\n",
       "      <td>NaN</td>\n",
       "      <td>NaN</td>\n",
       "      <td>NaN</td>\n",
       "      <td>NaN</td>\n",
       "      <td>NaN</td>\n",
       "      <td>...</td>\n",
       "      <td>NaN</td>\n",
       "      <td>NaN</td>\n",
       "      <td>NaN</td>\n",
       "      <td>NaN</td>\n",
       "      <td>NaN</td>\n",
       "      <td>NaN</td>\n",
       "      <td>NaN</td>\n",
       "      <td>NaN</td>\n",
       "      <td>NaN</td>\n",
       "      <td>NaN</td>\n",
       "    </tr>\n",
       "    <tr>\n",
       "      <th>4</th>\n",
       "      <td>-89.75</td>\n",
       "      <td>-179.75</td>\n",
       "      <td>2003-05-01 12:00:00</td>\n",
       "      <td>NaN</td>\n",
       "      <td>NaN</td>\n",
       "      <td>NaN</td>\n",
       "      <td>NaN</td>\n",
       "      <td>NaN</td>\n",
       "      <td>NaN</td>\n",
       "      <td>NaN</td>\n",
       "      <td>...</td>\n",
       "      <td>NaN</td>\n",
       "      <td>NaN</td>\n",
       "      <td>NaN</td>\n",
       "      <td>NaN</td>\n",
       "      <td>NaN</td>\n",
       "      <td>NaN</td>\n",
       "      <td>NaN</td>\n",
       "      <td>NaN</td>\n",
       "      <td>NaN</td>\n",
       "      <td>NaN</td>\n",
       "    </tr>\n",
       "    <tr>\n",
       "      <th>5</th>\n",
       "      <td>-89.75</td>\n",
       "      <td>-179.75</td>\n",
       "      <td>2003-06-01 12:00:00</td>\n",
       "      <td>NaN</td>\n",
       "      <td>NaN</td>\n",
       "      <td>NaN</td>\n",
       "      <td>NaN</td>\n",
       "      <td>NaN</td>\n",
       "      <td>NaN</td>\n",
       "      <td>NaN</td>\n",
       "      <td>...</td>\n",
       "      <td>NaN</td>\n",
       "      <td>NaN</td>\n",
       "      <td>NaN</td>\n",
       "      <td>NaN</td>\n",
       "      <td>NaN</td>\n",
       "      <td>NaN</td>\n",
       "      <td>NaN</td>\n",
       "      <td>NaN</td>\n",
       "      <td>NaN</td>\n",
       "      <td>NaN</td>\n",
       "    </tr>\n",
       "    <tr>\n",
       "      <th>6</th>\n",
       "      <td>-89.75</td>\n",
       "      <td>-179.75</td>\n",
       "      <td>2003-07-01 12:00:00</td>\n",
       "      <td>NaN</td>\n",
       "      <td>NaN</td>\n",
       "      <td>NaN</td>\n",
       "      <td>NaN</td>\n",
       "      <td>NaN</td>\n",
       "      <td>NaN</td>\n",
       "      <td>NaN</td>\n",
       "      <td>...</td>\n",
       "      <td>NaN</td>\n",
       "      <td>NaN</td>\n",
       "      <td>NaN</td>\n",
       "      <td>NaN</td>\n",
       "      <td>NaN</td>\n",
       "      <td>NaN</td>\n",
       "      <td>NaN</td>\n",
       "      <td>NaN</td>\n",
       "      <td>NaN</td>\n",
       "      <td>NaN</td>\n",
       "    </tr>\n",
       "    <tr>\n",
       "      <th>7</th>\n",
       "      <td>-89.75</td>\n",
       "      <td>-179.75</td>\n",
       "      <td>2003-08-01 12:00:00</td>\n",
       "      <td>NaN</td>\n",
       "      <td>NaN</td>\n",
       "      <td>NaN</td>\n",
       "      <td>NaN</td>\n",
       "      <td>NaN</td>\n",
       "      <td>NaN</td>\n",
       "      <td>NaN</td>\n",
       "      <td>...</td>\n",
       "      <td>NaN</td>\n",
       "      <td>NaN</td>\n",
       "      <td>NaN</td>\n",
       "      <td>NaN</td>\n",
       "      <td>NaN</td>\n",
       "      <td>NaN</td>\n",
       "      <td>NaN</td>\n",
       "      <td>NaN</td>\n",
       "      <td>NaN</td>\n",
       "      <td>NaN</td>\n",
       "    </tr>\n",
       "    <tr>\n",
       "      <th>8</th>\n",
       "      <td>-89.75</td>\n",
       "      <td>-179.75</td>\n",
       "      <td>2003-09-01 12:00:00</td>\n",
       "      <td>NaN</td>\n",
       "      <td>NaN</td>\n",
       "      <td>NaN</td>\n",
       "      <td>NaN</td>\n",
       "      <td>NaN</td>\n",
       "      <td>NaN</td>\n",
       "      <td>NaN</td>\n",
       "      <td>...</td>\n",
       "      <td>NaN</td>\n",
       "      <td>NaN</td>\n",
       "      <td>NaN</td>\n",
       "      <td>NaN</td>\n",
       "      <td>NaN</td>\n",
       "      <td>NaN</td>\n",
       "      <td>NaN</td>\n",
       "      <td>NaN</td>\n",
       "      <td>NaN</td>\n",
       "      <td>NaN</td>\n",
       "    </tr>\n",
       "    <tr>\n",
       "      <th>9</th>\n",
       "      <td>-89.75</td>\n",
       "      <td>-179.75</td>\n",
       "      <td>2003-10-01 12:00:00</td>\n",
       "      <td>NaN</td>\n",
       "      <td>NaN</td>\n",
       "      <td>NaN</td>\n",
       "      <td>NaN</td>\n",
       "      <td>NaN</td>\n",
       "      <td>NaN</td>\n",
       "      <td>NaN</td>\n",
       "      <td>...</td>\n",
       "      <td>NaN</td>\n",
       "      <td>NaN</td>\n",
       "      <td>NaN</td>\n",
       "      <td>NaN</td>\n",
       "      <td>NaN</td>\n",
       "      <td>NaN</td>\n",
       "      <td>NaN</td>\n",
       "      <td>NaN</td>\n",
       "      <td>NaN</td>\n",
       "      <td>NaN</td>\n",
       "    </tr>\n",
       "    <tr>\n",
       "      <th>10</th>\n",
       "      <td>-89.75</td>\n",
       "      <td>-179.75</td>\n",
       "      <td>2003-11-01 12:00:00</td>\n",
       "      <td>NaN</td>\n",
       "      <td>NaN</td>\n",
       "      <td>NaN</td>\n",
       "      <td>NaN</td>\n",
       "      <td>NaN</td>\n",
       "      <td>NaN</td>\n",
       "      <td>NaN</td>\n",
       "      <td>...</td>\n",
       "      <td>NaN</td>\n",
       "      <td>NaN</td>\n",
       "      <td>NaN</td>\n",
       "      <td>NaN</td>\n",
       "      <td>NaN</td>\n",
       "      <td>NaN</td>\n",
       "      <td>NaN</td>\n",
       "      <td>NaN</td>\n",
       "      <td>NaN</td>\n",
       "      <td>NaN</td>\n",
       "    </tr>\n",
       "    <tr>\n",
       "      <th>11</th>\n",
       "      <td>-89.75</td>\n",
       "      <td>-179.75</td>\n",
       "      <td>2003-12-01 12:00:00</td>\n",
       "      <td>NaN</td>\n",
       "      <td>NaN</td>\n",
       "      <td>NaN</td>\n",
       "      <td>NaN</td>\n",
       "      <td>NaN</td>\n",
       "      <td>NaN</td>\n",
       "      <td>NaN</td>\n",
       "      <td>...</td>\n",
       "      <td>NaN</td>\n",
       "      <td>NaN</td>\n",
       "      <td>NaN</td>\n",
       "      <td>NaN</td>\n",
       "      <td>NaN</td>\n",
       "      <td>NaN</td>\n",
       "      <td>NaN</td>\n",
       "      <td>NaN</td>\n",
       "      <td>NaN</td>\n",
       "      <td>NaN</td>\n",
       "    </tr>\n",
       "    <tr>\n",
       "      <th>12</th>\n",
       "      <td>-89.75</td>\n",
       "      <td>-179.75</td>\n",
       "      <td>2004-01-01 12:00:00</td>\n",
       "      <td>NaN</td>\n",
       "      <td>NaN</td>\n",
       "      <td>NaN</td>\n",
       "      <td>NaN</td>\n",
       "      <td>NaN</td>\n",
       "      <td>NaN</td>\n",
       "      <td>NaN</td>\n",
       "      <td>...</td>\n",
       "      <td>NaN</td>\n",
       "      <td>NaN</td>\n",
       "      <td>NaN</td>\n",
       "      <td>NaN</td>\n",
       "      <td>NaN</td>\n",
       "      <td>NaN</td>\n",
       "      <td>NaN</td>\n",
       "      <td>NaN</td>\n",
       "      <td>NaN</td>\n",
       "      <td>NaN</td>\n",
       "    </tr>\n",
       "    <tr>\n",
       "      <th>13</th>\n",
       "      <td>-89.75</td>\n",
       "      <td>-179.75</td>\n",
       "      <td>2004-02-01 12:00:00</td>\n",
       "      <td>NaN</td>\n",
       "      <td>NaN</td>\n",
       "      <td>NaN</td>\n",
       "      <td>NaN</td>\n",
       "      <td>NaN</td>\n",
       "      <td>NaN</td>\n",
       "      <td>NaN</td>\n",
       "      <td>...</td>\n",
       "      <td>NaN</td>\n",
       "      <td>NaN</td>\n",
       "      <td>NaN</td>\n",
       "      <td>NaN</td>\n",
       "      <td>NaN</td>\n",
       "      <td>NaN</td>\n",
       "      <td>NaN</td>\n",
       "      <td>NaN</td>\n",
       "      <td>NaN</td>\n",
       "      <td>NaN</td>\n",
       "    </tr>\n",
       "    <tr>\n",
       "      <th>14</th>\n",
       "      <td>-89.75</td>\n",
       "      <td>-179.75</td>\n",
       "      <td>2004-03-01 12:00:00</td>\n",
       "      <td>NaN</td>\n",
       "      <td>NaN</td>\n",
       "      <td>NaN</td>\n",
       "      <td>NaN</td>\n",
       "      <td>NaN</td>\n",
       "      <td>NaN</td>\n",
       "      <td>NaN</td>\n",
       "      <td>...</td>\n",
       "      <td>NaN</td>\n",
       "      <td>NaN</td>\n",
       "      <td>NaN</td>\n",
       "      <td>NaN</td>\n",
       "      <td>NaN</td>\n",
       "      <td>NaN</td>\n",
       "      <td>NaN</td>\n",
       "      <td>NaN</td>\n",
       "      <td>NaN</td>\n",
       "      <td>NaN</td>\n",
       "    </tr>\n",
       "  </tbody>\n",
       "</table>\n",
       "<p>15 rows × 24 columns</p>\n",
       "</div>"
      ],
      "text/plain": [
       "      lat     lon                time  primn  pet  wet  agb  pftCrop  pftHerb  \\\n",
       "0  -89.75 -179.75 2003-01-01 12:00:00    NaN  NaN  NaN  NaN      NaN      NaN   \n",
       "1  -89.75 -179.75 2003-02-01 12:00:00    NaN  NaN  NaN  NaN      NaN      NaN   \n",
       "2  -89.75 -179.75 2003-03-01 12:00:00    NaN  NaN  NaN  NaN      NaN      NaN   \n",
       "3  -89.75 -179.75 2003-04-01 12:00:00    NaN  NaN  NaN  NaN      NaN      NaN   \n",
       "4  -89.75 -179.75 2003-05-01 12:00:00    NaN  NaN  NaN  NaN      NaN      NaN   \n",
       "5  -89.75 -179.75 2003-06-01 12:00:00    NaN  NaN  NaN  NaN      NaN      NaN   \n",
       "6  -89.75 -179.75 2003-07-01 12:00:00    NaN  NaN  NaN  NaN      NaN      NaN   \n",
       "7  -89.75 -179.75 2003-08-01 12:00:00    NaN  NaN  NaN  NaN      NaN      NaN   \n",
       "8  -89.75 -179.75 2003-09-01 12:00:00    NaN  NaN  NaN  NaN      NaN      NaN   \n",
       "9  -89.75 -179.75 2003-10-01 12:00:00    NaN  NaN  NaN  NaN      NaN      NaN   \n",
       "10 -89.75 -179.75 2003-11-01 12:00:00    NaN  NaN  NaN  NaN      NaN      NaN   \n",
       "11 -89.75 -179.75 2003-12-01 12:00:00    NaN  NaN  NaN  NaN      NaN      NaN   \n",
       "12 -89.75 -179.75 2004-01-01 12:00:00    NaN  NaN  NaN  NaN      NaN      NaN   \n",
       "13 -89.75 -179.75 2004-02-01 12:00:00    NaN  NaN  NaN  NaN      NaN      NaN   \n",
       "14 -89.75 -179.75 2004-03-01 12:00:00    NaN  NaN  NaN  NaN      NaN      NaN   \n",
       "\n",
       "    pftShrubBD  ...  pftTreeNE  sm  precip  GDP_per_capita_PPP  fPAR  LAI  \\\n",
       "0          NaN  ...        NaN NaN     NaN                 NaN   NaN  NaN   \n",
       "1          NaN  ...        NaN NaN     NaN                 NaN   NaN  NaN   \n",
       "2          NaN  ...        NaN NaN     NaN                 NaN   NaN  NaN   \n",
       "3          NaN  ...        NaN NaN     NaN                 NaN   NaN  NaN   \n",
       "4          NaN  ...        NaN NaN     NaN                 NaN   NaN  NaN   \n",
       "5          NaN  ...        NaN NaN     NaN                 NaN   NaN  NaN   \n",
       "6          NaN  ...        NaN NaN     NaN                 NaN   NaN  NaN   \n",
       "7          NaN  ...        NaN NaN     NaN                 NaN   NaN  NaN   \n",
       "8          NaN  ...        NaN NaN     NaN                 NaN   NaN  NaN   \n",
       "9          NaN  ...        NaN NaN     NaN                 NaN   NaN  NaN   \n",
       "10         NaN  ...        NaN NaN     NaN                 NaN   NaN  NaN   \n",
       "11         NaN  ...        NaN NaN     NaN                 NaN   NaN  NaN   \n",
       "12         NaN  ...        NaN NaN     NaN                 NaN   NaN  NaN   \n",
       "13         NaN  ...        NaN NaN     NaN                 NaN   NaN  NaN   \n",
       "14         NaN  ...        NaN NaN     NaN                 NaN   NaN  NaN   \n",
       "\n",
       "    pastr  range  vod_K_anomalies  ign  \n",
       "0     NaN    NaN              NaN  NaN  \n",
       "1     NaN    NaN              NaN  NaN  \n",
       "2     NaN    NaN              NaN  NaN  \n",
       "3     NaN    NaN              NaN  NaN  \n",
       "4     NaN    NaN              NaN  NaN  \n",
       "5     NaN    NaN              NaN  NaN  \n",
       "6     NaN    NaN              NaN  NaN  \n",
       "7     NaN    NaN              NaN  NaN  \n",
       "8     NaN    NaN              NaN  NaN  \n",
       "9     NaN    NaN              NaN  NaN  \n",
       "10    NaN    NaN              NaN  NaN  \n",
       "11    NaN    NaN              NaN  NaN  \n",
       "12    NaN    NaN              NaN  NaN  \n",
       "13    NaN    NaN              NaN  NaN  \n",
       "14    NaN    NaN              NaN  NaN  \n",
       "\n",
       "[15 rows x 24 columns]"
      ]
     },
     "execution_count": 9,
     "metadata": {},
     "output_type": "execute_result"
    }
   ],
   "source": [
    "df.head(15)"
   ]
  },
  {
   "cell_type": "code",
   "execution_count": 10,
   "metadata": {},
   "outputs": [
    {
     "data": {
      "text/plain": [
       "(59097600, 24)"
      ]
     },
     "execution_count": 10,
     "metadata": {},
     "output_type": "execute_result"
    }
   ],
   "source": [
    "df.shape"
   ]
  },
  {
   "cell_type": "code",
   "execution_count": 12,
   "metadata": {},
   "outputs": [
    {
     "data": {
      "text/plain": [
       "pandas._libs.tslibs.timestamps.Timestamp"
      ]
     },
     "execution_count": 12,
     "metadata": {},
     "output_type": "execute_result"
    }
   ],
   "source": [
    "type(df['time'][0])"
   ]
  },
  {
   "cell_type": "code",
   "execution_count": 13,
   "metadata": {},
   "outputs": [
    {
     "data": {
      "text/plain": [
       "Timestamp('2007-09-01 12:00:00')"
      ]
     },
     "execution_count": 13,
     "metadata": {},
     "output_type": "execute_result"
    }
   ],
   "source": [
    "df['time'].max()"
   ]
  },
  {
   "cell_type": "code",
   "execution_count": 15,
   "metadata": {},
   "outputs": [
    {
     "data": {
      "text/html": [
       "<div>\n",
       "<style scoped>\n",
       "    .dataframe tbody tr th:only-of-type {\n",
       "        vertical-align: middle;\n",
       "    }\n",
       "\n",
       "    .dataframe tbody tr th {\n",
       "        vertical-align: top;\n",
       "    }\n",
       "\n",
       "    .dataframe thead th {\n",
       "        text-align: right;\n",
       "    }\n",
       "</style>\n",
       "<table border=\"1\" class=\"dataframe\">\n",
       "  <thead>\n",
       "    <tr style=\"text-align: right;\">\n",
       "      <th></th>\n",
       "      <th>lat</th>\n",
       "      <th>lon</th>\n",
       "      <th>time</th>\n",
       "      <th>primn</th>\n",
       "      <th>pet</th>\n",
       "      <th>wet</th>\n",
       "      <th>agb</th>\n",
       "      <th>pftCrop</th>\n",
       "      <th>pftHerb</th>\n",
       "      <th>pftShrubBD</th>\n",
       "      <th>...</th>\n",
       "      <th>pftTreeNE</th>\n",
       "      <th>sm</th>\n",
       "      <th>precip</th>\n",
       "      <th>GDP_per_capita_PPP</th>\n",
       "      <th>fPAR</th>\n",
       "      <th>LAI</th>\n",
       "      <th>pastr</th>\n",
       "      <th>range</th>\n",
       "      <th>vod_K_anomalies</th>\n",
       "      <th>ign</th>\n",
       "    </tr>\n",
       "  </thead>\n",
       "  <tbody>\n",
       "    <tr>\n",
       "      <th>0</th>\n",
       "      <td>-89.75</td>\n",
       "      <td>-179.75</td>\n",
       "      <td>2003-01-01 12:00:00</td>\n",
       "      <td>NaN</td>\n",
       "      <td>NaN</td>\n",
       "      <td>NaN</td>\n",
       "      <td>NaN</td>\n",
       "      <td>NaN</td>\n",
       "      <td>NaN</td>\n",
       "      <td>NaN</td>\n",
       "      <td>...</td>\n",
       "      <td>NaN</td>\n",
       "      <td>0.0</td>\n",
       "      <td>NaN</td>\n",
       "      <td>NaN</td>\n",
       "      <td>NaN</td>\n",
       "      <td>NaN</td>\n",
       "      <td>NaN</td>\n",
       "      <td>NaN</td>\n",
       "      <td>NaN</td>\n",
       "      <td>NaN</td>\n",
       "    </tr>\n",
       "    <tr>\n",
       "      <th>1</th>\n",
       "      <td>-89.75</td>\n",
       "      <td>-179.75</td>\n",
       "      <td>2003-02-01 12:00:00</td>\n",
       "      <td>NaN</td>\n",
       "      <td>NaN</td>\n",
       "      <td>NaN</td>\n",
       "      <td>NaN</td>\n",
       "      <td>NaN</td>\n",
       "      <td>NaN</td>\n",
       "      <td>NaN</td>\n",
       "      <td>...</td>\n",
       "      <td>NaN</td>\n",
       "      <td>NaN</td>\n",
       "      <td>NaN</td>\n",
       "      <td>NaN</td>\n",
       "      <td>NaN</td>\n",
       "      <td>NaN</td>\n",
       "      <td>NaN</td>\n",
       "      <td>NaN</td>\n",
       "      <td>NaN</td>\n",
       "      <td>NaN</td>\n",
       "    </tr>\n",
       "    <tr>\n",
       "      <th>2</th>\n",
       "      <td>-89.75</td>\n",
       "      <td>-179.75</td>\n",
       "      <td>2003-03-01 12:00:00</td>\n",
       "      <td>NaN</td>\n",
       "      <td>NaN</td>\n",
       "      <td>NaN</td>\n",
       "      <td>NaN</td>\n",
       "      <td>NaN</td>\n",
       "      <td>NaN</td>\n",
       "      <td>NaN</td>\n",
       "      <td>...</td>\n",
       "      <td>NaN</td>\n",
       "      <td>NaN</td>\n",
       "      <td>NaN</td>\n",
       "      <td>NaN</td>\n",
       "      <td>NaN</td>\n",
       "      <td>NaN</td>\n",
       "      <td>NaN</td>\n",
       "      <td>NaN</td>\n",
       "      <td>NaN</td>\n",
       "      <td>NaN</td>\n",
       "    </tr>\n",
       "    <tr>\n",
       "      <th>3</th>\n",
       "      <td>-89.75</td>\n",
       "      <td>-179.75</td>\n",
       "      <td>2003-04-01 12:00:00</td>\n",
       "      <td>NaN</td>\n",
       "      <td>NaN</td>\n",
       "      <td>NaN</td>\n",
       "      <td>NaN</td>\n",
       "      <td>NaN</td>\n",
       "      <td>NaN</td>\n",
       "      <td>NaN</td>\n",
       "      <td>...</td>\n",
       "      <td>NaN</td>\n",
       "      <td>NaN</td>\n",
       "      <td>NaN</td>\n",
       "      <td>NaN</td>\n",
       "      <td>NaN</td>\n",
       "      <td>NaN</td>\n",
       "      <td>NaN</td>\n",
       "      <td>NaN</td>\n",
       "      <td>NaN</td>\n",
       "      <td>NaN</td>\n",
       "    </tr>\n",
       "    <tr>\n",
       "      <th>4</th>\n",
       "      <td>-89.75</td>\n",
       "      <td>-179.75</td>\n",
       "      <td>2003-05-01 12:00:00</td>\n",
       "      <td>NaN</td>\n",
       "      <td>NaN</td>\n",
       "      <td>NaN</td>\n",
       "      <td>NaN</td>\n",
       "      <td>NaN</td>\n",
       "      <td>NaN</td>\n",
       "      <td>NaN</td>\n",
       "      <td>...</td>\n",
       "      <td>NaN</td>\n",
       "      <td>NaN</td>\n",
       "      <td>NaN</td>\n",
       "      <td>NaN</td>\n",
       "      <td>NaN</td>\n",
       "      <td>NaN</td>\n",
       "      <td>NaN</td>\n",
       "      <td>NaN</td>\n",
       "      <td>NaN</td>\n",
       "      <td>NaN</td>\n",
       "    </tr>\n",
       "  </tbody>\n",
       "</table>\n",
       "<p>5 rows × 24 columns</p>\n",
       "</div>"
      ],
      "text/plain": [
       "     lat     lon                time  primn  pet  wet  agb  pftCrop  pftHerb  \\\n",
       "0 -89.75 -179.75 2003-01-01 12:00:00    NaN  NaN  NaN  NaN      NaN      NaN   \n",
       "1 -89.75 -179.75 2003-02-01 12:00:00    NaN  NaN  NaN  NaN      NaN      NaN   \n",
       "2 -89.75 -179.75 2003-03-01 12:00:00    NaN  NaN  NaN  NaN      NaN      NaN   \n",
       "3 -89.75 -179.75 2003-04-01 12:00:00    NaN  NaN  NaN  NaN      NaN      NaN   \n",
       "4 -89.75 -179.75 2003-05-01 12:00:00    NaN  NaN  NaN  NaN      NaN      NaN   \n",
       "\n",
       "   pftShrubBD  ...  pftTreeNE   sm  precip  GDP_per_capita_PPP  fPAR  LAI  \\\n",
       "0         NaN  ...        NaN  0.0     NaN                 NaN   NaN  NaN   \n",
       "1         NaN  ...        NaN  NaN     NaN                 NaN   NaN  NaN   \n",
       "2         NaN  ...        NaN  NaN     NaN                 NaN   NaN  NaN   \n",
       "3         NaN  ...        NaN  NaN     NaN                 NaN   NaN  NaN   \n",
       "4         NaN  ...        NaN  NaN     NaN                 NaN   NaN  NaN   \n",
       "\n",
       "   pastr  range  vod_K_anomalies  ign  \n",
       "0    NaN    NaN              NaN  NaN  \n",
       "1    NaN    NaN              NaN  NaN  \n",
       "2    NaN    NaN              NaN  NaN  \n",
       "3    NaN    NaN              NaN  NaN  \n",
       "4    NaN    NaN              NaN  NaN  \n",
       "\n",
       "[5 rows x 24 columns]"
      ]
     },
     "execution_count": 15,
     "metadata": {},
     "output_type": "execute_result"
    }
   ],
   "source": [
    "train = pd.read_pickle(\"../../data/dataset_subset_2003-2011.pkl\")\n",
    "train.head()"
   ]
  },
  {
   "cell_type": "code",
   "execution_count": 16,
   "metadata": {},
   "outputs": [
    {
     "data": {
      "text/plain": [
       "Index(['lat', 'lon', 'time', 'primn', 'pet', 'wet', 'agb', 'pftCrop',\n",
       "       'pftHerb', 'pftShrubBD', 'pftShrubNE', 'pftTreeBD', 'pftTreeBE',\n",
       "       'pftTreeND', 'pftTreeNE', 'sm', 'precip', 'GDP_per_capita_PPP', 'fPAR',\n",
       "       'LAI', 'pastr', 'range', 'vod_K_anomalies', 'ign'],\n",
       "      dtype='object')"
      ]
     },
     "execution_count": 16,
     "metadata": {},
     "output_type": "execute_result"
    }
   ],
   "source": [
    "train.columns"
   ]
  },
  {
   "cell_type": "code",
   "execution_count": 17,
   "metadata": {},
   "outputs": [
    {
     "data": {
      "text/plain": [
       "Timestamp('2011-12-01 12:00:00')"
      ]
     },
     "execution_count": 17,
     "metadata": {},
     "output_type": "execute_result"
    }
   ],
   "source": [
    "train['time'].max()"
   ]
  },
  {
   "cell_type": "code",
   "execution_count": 19,
   "metadata": {},
   "outputs": [],
   "source": [
    "import pandas as pd\n",
    "df = pd.read_pickle(\"/shares/npande/exchange/staff/npande/FURNACES INTRO/RF/testdataval/dataset_validation_2012-2016.pkl\")"
   ]
  },
  {
   "cell_type": "code",
   "execution_count": 20,
   "metadata": {},
   "outputs": [
    {
     "data": {
      "text/html": [
       "<div>\n",
       "<style scoped>\n",
       "    .dataframe tbody tr th:only-of-type {\n",
       "        vertical-align: middle;\n",
       "    }\n",
       "\n",
       "    .dataframe tbody tr th {\n",
       "        vertical-align: top;\n",
       "    }\n",
       "\n",
       "    .dataframe thead th {\n",
       "        text-align: right;\n",
       "    }\n",
       "</style>\n",
       "<table border=\"1\" class=\"dataframe\">\n",
       "  <thead>\n",
       "    <tr style=\"text-align: right;\">\n",
       "      <th></th>\n",
       "      <th>lat</th>\n",
       "      <th>lon</th>\n",
       "      <th>time</th>\n",
       "      <th>road_density</th>\n",
       "      <th>agb</th>\n",
       "      <th>sm</th>\n",
       "      <th>pftCrop</th>\n",
       "      <th>pftHerb</th>\n",
       "      <th>pftShrubBD</th>\n",
       "      <th>pftShrubNE</th>\n",
       "      <th>...</th>\n",
       "      <th>fPAR</th>\n",
       "      <th>LAI</th>\n",
       "      <th>vod_K_anomalies</th>\n",
       "      <th>primn</th>\n",
       "      <th>pet</th>\n",
       "      <th>wet</th>\n",
       "      <th>precip</th>\n",
       "      <th>pastr</th>\n",
       "      <th>Band1</th>\n",
       "      <th>pop_density</th>\n",
       "    </tr>\n",
       "  </thead>\n",
       "  <tbody>\n",
       "    <tr>\n",
       "      <th>0</th>\n",
       "      <td>-89.75</td>\n",
       "      <td>-179.75</td>\n",
       "      <td>201201.5</td>\n",
       "      <td>NaN</td>\n",
       "      <td>NaN</td>\n",
       "      <td>NaN</td>\n",
       "      <td>NaN</td>\n",
       "      <td>NaN</td>\n",
       "      <td>NaN</td>\n",
       "      <td>NaN</td>\n",
       "      <td>...</td>\n",
       "      <td>NaN</td>\n",
       "      <td>NaN</td>\n",
       "      <td>NaN</td>\n",
       "      <td>NaN</td>\n",
       "      <td>NaN</td>\n",
       "      <td>NaN</td>\n",
       "      <td>NaN</td>\n",
       "      <td>NaN</td>\n",
       "      <td>0.0</td>\n",
       "      <td>-9999.0</td>\n",
       "    </tr>\n",
       "    <tr>\n",
       "      <th>1</th>\n",
       "      <td>-89.75</td>\n",
       "      <td>-179.75</td>\n",
       "      <td>201202.5</td>\n",
       "      <td>NaN</td>\n",
       "      <td>NaN</td>\n",
       "      <td>NaN</td>\n",
       "      <td>NaN</td>\n",
       "      <td>NaN</td>\n",
       "      <td>NaN</td>\n",
       "      <td>NaN</td>\n",
       "      <td>...</td>\n",
       "      <td>NaN</td>\n",
       "      <td>NaN</td>\n",
       "      <td>NaN</td>\n",
       "      <td>NaN</td>\n",
       "      <td>NaN</td>\n",
       "      <td>NaN</td>\n",
       "      <td>NaN</td>\n",
       "      <td>NaN</td>\n",
       "      <td>0.0</td>\n",
       "      <td>-9999.0</td>\n",
       "    </tr>\n",
       "    <tr>\n",
       "      <th>2</th>\n",
       "      <td>-89.75</td>\n",
       "      <td>-179.75</td>\n",
       "      <td>201203.5</td>\n",
       "      <td>NaN</td>\n",
       "      <td>NaN</td>\n",
       "      <td>NaN</td>\n",
       "      <td>NaN</td>\n",
       "      <td>NaN</td>\n",
       "      <td>NaN</td>\n",
       "      <td>NaN</td>\n",
       "      <td>...</td>\n",
       "      <td>NaN</td>\n",
       "      <td>NaN</td>\n",
       "      <td>NaN</td>\n",
       "      <td>NaN</td>\n",
       "      <td>NaN</td>\n",
       "      <td>NaN</td>\n",
       "      <td>NaN</td>\n",
       "      <td>NaN</td>\n",
       "      <td>0.0</td>\n",
       "      <td>-9999.0</td>\n",
       "    </tr>\n",
       "    <tr>\n",
       "      <th>3</th>\n",
       "      <td>-89.75</td>\n",
       "      <td>-179.75</td>\n",
       "      <td>201204.5</td>\n",
       "      <td>NaN</td>\n",
       "      <td>NaN</td>\n",
       "      <td>NaN</td>\n",
       "      <td>NaN</td>\n",
       "      <td>NaN</td>\n",
       "      <td>NaN</td>\n",
       "      <td>NaN</td>\n",
       "      <td>...</td>\n",
       "      <td>NaN</td>\n",
       "      <td>NaN</td>\n",
       "      <td>NaN</td>\n",
       "      <td>NaN</td>\n",
       "      <td>NaN</td>\n",
       "      <td>NaN</td>\n",
       "      <td>NaN</td>\n",
       "      <td>NaN</td>\n",
       "      <td>0.0</td>\n",
       "      <td>-9999.0</td>\n",
       "    </tr>\n",
       "    <tr>\n",
       "      <th>4</th>\n",
       "      <td>-89.75</td>\n",
       "      <td>-179.75</td>\n",
       "      <td>201205.5</td>\n",
       "      <td>NaN</td>\n",
       "      <td>NaN</td>\n",
       "      <td>NaN</td>\n",
       "      <td>NaN</td>\n",
       "      <td>NaN</td>\n",
       "      <td>NaN</td>\n",
       "      <td>NaN</td>\n",
       "      <td>...</td>\n",
       "      <td>NaN</td>\n",
       "      <td>NaN</td>\n",
       "      <td>NaN</td>\n",
       "      <td>NaN</td>\n",
       "      <td>NaN</td>\n",
       "      <td>NaN</td>\n",
       "      <td>NaN</td>\n",
       "      <td>NaN</td>\n",
       "      <td>0.0</td>\n",
       "      <td>-9999.0</td>\n",
       "    </tr>\n",
       "  </tbody>\n",
       "</table>\n",
       "<p>5 rows × 26 columns</p>\n",
       "</div>"
      ],
      "text/plain": [
       "     lat     lon      time  road_density  agb  sm  pftCrop  pftHerb  \\\n",
       "0 -89.75 -179.75  201201.5           NaN  NaN NaN      NaN      NaN   \n",
       "1 -89.75 -179.75  201202.5           NaN  NaN NaN      NaN      NaN   \n",
       "2 -89.75 -179.75  201203.5           NaN  NaN NaN      NaN      NaN   \n",
       "3 -89.75 -179.75  201204.5           NaN  NaN NaN      NaN      NaN   \n",
       "4 -89.75 -179.75  201205.5           NaN  NaN NaN      NaN      NaN   \n",
       "\n",
       "   pftShrubBD  pftShrubNE  ...  fPAR  LAI  vod_K_anomalies  primn  pet  wet  \\\n",
       "0         NaN         NaN  ...   NaN  NaN              NaN    NaN  NaN  NaN   \n",
       "1         NaN         NaN  ...   NaN  NaN              NaN    NaN  NaN  NaN   \n",
       "2         NaN         NaN  ...   NaN  NaN              NaN    NaN  NaN  NaN   \n",
       "3         NaN         NaN  ...   NaN  NaN              NaN    NaN  NaN  NaN   \n",
       "4         NaN         NaN  ...   NaN  NaN              NaN    NaN  NaN  NaN   \n",
       "\n",
       "   precip  pastr  Band1  pop_density  \n",
       "0     NaN    NaN    0.0      -9999.0  \n",
       "1     NaN    NaN    0.0      -9999.0  \n",
       "2     NaN    NaN    0.0      -9999.0  \n",
       "3     NaN    NaN    0.0      -9999.0  \n",
       "4     NaN    NaN    0.0      -9999.0  \n",
       "\n",
       "[5 rows x 26 columns]"
      ]
     },
     "execution_count": 20,
     "metadata": {},
     "output_type": "execute_result"
    }
   ],
   "source": [
    "df.head()"
   ]
  },
  {
   "cell_type": "code",
   "execution_count": 21,
   "metadata": {},
   "outputs": [
    {
     "data": {
      "text/plain": [
       "Index(['lat', 'lon', 'time', 'road_density', 'agb', 'sm', 'pftCrop', 'pftHerb',\n",
       "       'pftShrubBD', 'pftShrubNE', 'pftTreeBD', 'pftTreeBE', 'pftTreeND',\n",
       "       'pftTreeNE', 'GDP_per_capita_PPP', 'ign', 'fPAR', 'LAI',\n",
       "       'vod_K_anomalies', 'primn', 'pet', 'wet', 'precip', 'pastr', 'Band1',\n",
       "       'pop_density'],\n",
       "      dtype='object')"
      ]
     },
     "execution_count": 21,
     "metadata": {},
     "output_type": "execute_result"
    }
   ],
   "source": [
    "df.columns"
   ]
  },
  {
   "cell_type": "code",
   "execution_count": null,
   "metadata": {},
   "outputs": [
    {
     "ename": "",
     "evalue": "",
     "output_type": "error",
     "traceback": [
      "\u001b[1;31mRunning cells with '/bin/python3' requires ipykernel package.\n",
      "\u001b[1;31mRun the following command to install 'ipykernel' into the Python environment. \n",
      "\u001b[1;31mCommand: '/bin/python3 -m pip install ipykernel -U --user --force-reinstall'"
     ]
    }
   ],
   "source": [
    "\n",
    "from netCDF4 import Dataset\n",
    "import numpy as np\n",
    "df1 = Dataset('../data/grid.nc')\n",
    "mask = df1['subset_flag'][:]"
   ]
  },
  {
   "cell_type": "code",
   "execution_count": 5,
   "metadata": {},
   "outputs": [
    {
     "data": {
      "text/plain": [
       "(244243, 2)"
      ]
     },
     "execution_count": 5,
     "metadata": {},
     "output_type": "execute_result"
    }
   ],
   "source": [
    "import numpy as np\n",
    "land = np.load(\"../../data/land_coords.npy\")\n",
    "land.shape"
   ]
  },
  {
   "cell_type": "code",
   "execution_count": 21,
   "metadata": {},
   "outputs": [
    {
     "data": {
      "text/html": [
       "<div>\n",
       "<style scoped>\n",
       "    .dataframe tbody tr th:only-of-type {\n",
       "        vertical-align: middle;\n",
       "    }\n",
       "\n",
       "    .dataframe tbody tr th {\n",
       "        vertical-align: top;\n",
       "    }\n",
       "\n",
       "    .dataframe thead th {\n",
       "        text-align: right;\n",
       "    }\n",
       "</style>\n",
       "<table border=\"1\" class=\"dataframe\">\n",
       "  <thead>\n",
       "    <tr style=\"text-align: right;\">\n",
       "      <th></th>\n",
       "      <th>lat</th>\n",
       "      <th>lon</th>\n",
       "      <th>time</th>\n",
       "      <th>road_density</th>\n",
       "      <th>agb</th>\n",
       "      <th>sm</th>\n",
       "      <th>pftCrop</th>\n",
       "      <th>pftHerb</th>\n",
       "      <th>pftShrubBD</th>\n",
       "      <th>pftShrubNE</th>\n",
       "      <th>...</th>\n",
       "      <th>fPAR</th>\n",
       "      <th>LAI</th>\n",
       "      <th>vod_K_anomalies</th>\n",
       "      <th>primn</th>\n",
       "      <th>pet</th>\n",
       "      <th>wet</th>\n",
       "      <th>precip</th>\n",
       "      <th>pastr</th>\n",
       "      <th>Band1</th>\n",
       "      <th>pop_density</th>\n",
       "    </tr>\n",
       "  </thead>\n",
       "  <tbody>\n",
       "    <tr>\n",
       "      <th>0</th>\n",
       "      <td>-89.75</td>\n",
       "      <td>-179.75</td>\n",
       "      <td>200301.5</td>\n",
       "      <td>NaN</td>\n",
       "      <td>NaN</td>\n",
       "      <td>0.0</td>\n",
       "      <td>NaN</td>\n",
       "      <td>NaN</td>\n",
       "      <td>NaN</td>\n",
       "      <td>NaN</td>\n",
       "      <td>...</td>\n",
       "      <td>NaN</td>\n",
       "      <td>NaN</td>\n",
       "      <td>NaN</td>\n",
       "      <td>NaN</td>\n",
       "      <td>NaN</td>\n",
       "      <td>NaN</td>\n",
       "      <td>NaN</td>\n",
       "      <td>NaN</td>\n",
       "      <td>0.0</td>\n",
       "      <td>-9999.0</td>\n",
       "    </tr>\n",
       "    <tr>\n",
       "      <th>1</th>\n",
       "      <td>-89.75</td>\n",
       "      <td>-179.75</td>\n",
       "      <td>200302.5</td>\n",
       "      <td>NaN</td>\n",
       "      <td>NaN</td>\n",
       "      <td>NaN</td>\n",
       "      <td>NaN</td>\n",
       "      <td>NaN</td>\n",
       "      <td>NaN</td>\n",
       "      <td>NaN</td>\n",
       "      <td>...</td>\n",
       "      <td>NaN</td>\n",
       "      <td>NaN</td>\n",
       "      <td>NaN</td>\n",
       "      <td>NaN</td>\n",
       "      <td>NaN</td>\n",
       "      <td>NaN</td>\n",
       "      <td>NaN</td>\n",
       "      <td>NaN</td>\n",
       "      <td>0.0</td>\n",
       "      <td>-9999.0</td>\n",
       "    </tr>\n",
       "    <tr>\n",
       "      <th>2</th>\n",
       "      <td>-89.75</td>\n",
       "      <td>-179.75</td>\n",
       "      <td>200303.5</td>\n",
       "      <td>NaN</td>\n",
       "      <td>NaN</td>\n",
       "      <td>NaN</td>\n",
       "      <td>NaN</td>\n",
       "      <td>NaN</td>\n",
       "      <td>NaN</td>\n",
       "      <td>NaN</td>\n",
       "      <td>...</td>\n",
       "      <td>NaN</td>\n",
       "      <td>NaN</td>\n",
       "      <td>NaN</td>\n",
       "      <td>NaN</td>\n",
       "      <td>NaN</td>\n",
       "      <td>NaN</td>\n",
       "      <td>NaN</td>\n",
       "      <td>NaN</td>\n",
       "      <td>0.0</td>\n",
       "      <td>-9999.0</td>\n",
       "    </tr>\n",
       "    <tr>\n",
       "      <th>3</th>\n",
       "      <td>-89.75</td>\n",
       "      <td>-179.75</td>\n",
       "      <td>200304.5</td>\n",
       "      <td>NaN</td>\n",
       "      <td>NaN</td>\n",
       "      <td>NaN</td>\n",
       "      <td>NaN</td>\n",
       "      <td>NaN</td>\n",
       "      <td>NaN</td>\n",
       "      <td>NaN</td>\n",
       "      <td>...</td>\n",
       "      <td>NaN</td>\n",
       "      <td>NaN</td>\n",
       "      <td>NaN</td>\n",
       "      <td>NaN</td>\n",
       "      <td>NaN</td>\n",
       "      <td>NaN</td>\n",
       "      <td>NaN</td>\n",
       "      <td>NaN</td>\n",
       "      <td>0.0</td>\n",
       "      <td>-9999.0</td>\n",
       "    </tr>\n",
       "    <tr>\n",
       "      <th>4</th>\n",
       "      <td>-89.75</td>\n",
       "      <td>-179.75</td>\n",
       "      <td>200305.5</td>\n",
       "      <td>NaN</td>\n",
       "      <td>NaN</td>\n",
       "      <td>NaN</td>\n",
       "      <td>NaN</td>\n",
       "      <td>NaN</td>\n",
       "      <td>NaN</td>\n",
       "      <td>NaN</td>\n",
       "      <td>...</td>\n",
       "      <td>NaN</td>\n",
       "      <td>NaN</td>\n",
       "      <td>NaN</td>\n",
       "      <td>NaN</td>\n",
       "      <td>NaN</td>\n",
       "      <td>NaN</td>\n",
       "      <td>NaN</td>\n",
       "      <td>NaN</td>\n",
       "      <td>0.0</td>\n",
       "      <td>-9999.0</td>\n",
       "    </tr>\n",
       "  </tbody>\n",
       "</table>\n",
       "<p>5 rows × 26 columns</p>\n",
       "</div>"
      ],
      "text/plain": [
       "     lat     lon      time  road_density  agb   sm  pftCrop  pftHerb  \\\n",
       "0 -89.75 -179.75  200301.5           NaN  NaN  0.0      NaN      NaN   \n",
       "1 -89.75 -179.75  200302.5           NaN  NaN  NaN      NaN      NaN   \n",
       "2 -89.75 -179.75  200303.5           NaN  NaN  NaN      NaN      NaN   \n",
       "3 -89.75 -179.75  200304.5           NaN  NaN  NaN      NaN      NaN   \n",
       "4 -89.75 -179.75  200305.5           NaN  NaN  NaN      NaN      NaN   \n",
       "\n",
       "   pftShrubBD  pftShrubNE  ...  fPAR  LAI  vod_K_anomalies  primn  pet  wet  \\\n",
       "0         NaN         NaN  ...   NaN  NaN              NaN    NaN  NaN  NaN   \n",
       "1         NaN         NaN  ...   NaN  NaN              NaN    NaN  NaN  NaN   \n",
       "2         NaN         NaN  ...   NaN  NaN              NaN    NaN  NaN  NaN   \n",
       "3         NaN         NaN  ...   NaN  NaN              NaN    NaN  NaN  NaN   \n",
       "4         NaN         NaN  ...   NaN  NaN              NaN    NaN  NaN  NaN   \n",
       "\n",
       "   precip  pastr  Band1  pop_density  \n",
       "0     NaN    NaN    0.0      -9999.0  \n",
       "1     NaN    NaN    0.0      -9999.0  \n",
       "2     NaN    NaN    0.0      -9999.0  \n",
       "3     NaN    NaN    0.0      -9999.0  \n",
       "4     NaN    NaN    0.0      -9999.0  \n",
       "\n",
       "[5 rows x 26 columns]"
      ]
     },
     "execution_count": 21,
     "metadata": {},
     "output_type": "execute_result"
    }
   ],
   "source": [
    "import pandas as pd\n",
    "test = pd.read_pickle(\"../../data/test/train.pkl\")\n",
    "test.head()"
   ]
  },
  {
   "cell_type": "code",
   "execution_count": 12,
   "metadata": {},
   "outputs": [
    {
     "data": {
      "text/plain": [
       "(59097600, 26)"
      ]
     },
     "execution_count": 12,
     "metadata": {},
     "output_type": "execute_result"
    }
   ],
   "source": [
    "test.shape"
   ]
  },
  {
   "cell_type": "code",
   "execution_count": 14,
   "metadata": {},
   "outputs": [
    {
     "data": {
      "text/plain": [
       "1.0"
      ]
     },
     "execution_count": 14,
     "metadata": {},
     "output_type": "execute_result"
    }
   ],
   "source": [
    "test.shape[0]/720/1440/57"
   ]
  },
  {
   "cell_type": "code",
   "execution_count": 4,
   "metadata": {},
   "outputs": [
    {
     "data": {
      "text/plain": [
       "Index(['lat', 'lon', 'time', 'agb', 'pft_fracCover', 'sm', 'pftCrop',\n",
       "       'pftHerb', 'pftShrubBD', 'pftShrubNE', 'pftTreeBD', 'pftTreeBE',\n",
       "       'pftTreeND', 'pftTreeNE', 'GDP', 'ign', 'Distance_to_populated_areas',\n",
       "       'fPAR', 'LAI', 'NLDI', 'vod_K_anomalies', 'FPAR_12mon', 'LAI_12mon',\n",
       "       'Vod_k_anomaly_12mon', 'FPAR_06mon', 'LAI_06mon', 'Vod_k_anomaly_06mon',\n",
       "       'WDPA_fracCover', 'dtr', 'pet', 'tmx', 'wet', 'Biome', 'precip',\n",
       "       'Livestock', 'road_density', 'topo', 'pop_density'],\n",
       "      dtype='object')"
      ]
     },
     "execution_count": 4,
     "metadata": {},
     "output_type": "execute_result"
    }
   ],
   "source": [
    "test.columns"
   ]
  },
  {
   "cell_type": "code",
   "execution_count": 15,
   "metadata": {},
   "outputs": [
    {
     "data": {
      "text/plain": [
       "Index(['lat', 'lon', 'time', 'road_density', 'agb', 'sm', 'pftCrop', 'pftHerb',\n",
       "       'pftShrubBD', 'pftShrubNE', 'pftTreeBD', 'pftTreeBE', 'pftTreeND',\n",
       "       'pftTreeNE', 'GDP_per_capita_PPP', 'ign', 'fPAR', 'LAI',\n",
       "       'vod_K_anomalies', 'primn', 'pet', 'wet', 'precip', 'pastr', 'Band1',\n",
       "       'pop_density'],\n",
       "      dtype='object')"
      ]
     },
     "execution_count": 15,
     "metadata": {},
     "output_type": "execute_result"
    }
   ],
   "source": [
    "test.columns"
   ]
  },
  {
   "cell_type": "code",
   "execution_count": 27,
   "metadata": {},
   "outputs": [
    {
     "name": "stdout",
     "output_type": "stream",
     "text": [
      "False lat\n",
      "False lon\n",
      "False time\n",
      "True road_density\n",
      "True agb\n",
      "True sm\n",
      "True pftCrop\n",
      "True pftHerb\n",
      "True pftShrubBD\n",
      "True pftShrubNE\n",
      "True pftTreeBD\n",
      "True pftTreeBE\n",
      "True pftTreeND\n",
      "True pftTreeNE\n",
      "True GDP_per_capita_PPP\n",
      "True ign\n",
      "True fPAR\n",
      "True LAI\n",
      "True vod_K_anomalies\n",
      "True primn\n",
      "True pet\n",
      "True wet\n",
      "True precip\n",
      "True pastr\n",
      "False Band1\n",
      "False pop_density\n"
     ]
    }
   ],
   "source": [
    "for i in test.columns:\n",
    "    print((test[i].isna()).any(),i)"
   ]
  },
  {
   "cell_type": "code",
   "execution_count": 28,
   "metadata": {},
   "outputs": [
    {
     "name": "stdout",
     "output_type": "stream",
     "text": [
      "-89.75 lat\n",
      "-179.75 lon\n",
      "200301.5 time\n",
      "0.0 road_density\n",
      "0.0 agb\n",
      "0.0 sm\n",
      "4.936834011459723e-05 pftCrop\n",
      "6.171490895212628e-06 pftHerb\n",
      "4.937192898069043e-06 pftShrubBD\n",
      "2.4685964490345214e-06 pftShrubNE\n",
      "2.4685964490345214e-06 pftTreeBD\n",
      "0.0 pftTreeBE\n",
      "0.0 pftTreeND\n",
      "2.4685964490345214e-06 pftTreeNE\n",
      "351.3829650878906 GDP_per_capita_PPP\n",
      "1.0 ign\n",
      "0.03374999761581421 fPAR\n",
      "0.10000000149011612 LAI\n",
      "-0.7056628125752187 vod_K_anomalies\n",
      "0.0 primn\n",
      "0.0 pet\n",
      "0.0 wet\n",
      "0.0 precip\n",
      "0.0 pastr\n",
      "0.0 Band1\n",
      "-9999.000000457749 pop_density\n"
     ]
    }
   ],
   "source": [
    "for i in test.columns:\n",
    "    print(test[i].min(),i)"
   ]
  },
  {
   "cell_type": "code",
   "execution_count": 7,
   "metadata": {},
   "outputs": [
    {
     "data": {
      "text/plain": [
       "(1555200, 26)"
      ]
     },
     "execution_count": 7,
     "metadata": {},
     "output_type": "execute_result"
    }
   ],
   "source": [
    "import numpy as np\n",
    "trail = np.load(\"../../data/new/train_71.npy\")\n",
    "trail.shape"
   ]
  },
  {
   "cell_type": "code",
   "execution_count": 20,
   "metadata": {},
   "outputs": [
    {
     "data": {
      "text/plain": [
       "(1555199, 38)"
      ]
     },
     "execution_count": 20,
     "metadata": {},
     "output_type": "execute_result"
    }
   ],
   "source": [
    "trial = np.load(\"../../data/new/train_1.npy\")\n",
    "trial.shape"
   ]
  },
  {
   "cell_type": "code",
   "execution_count": 9,
   "metadata": {},
   "outputs": [
    {
     "data": {
      "text/plain": [
       "(820800, 26)"
      ]
     },
     "execution_count": 9,
     "metadata": {},
     "output_type": "execute_result"
    }
   ],
   "source": [
    "testing = np.load(\"../../data/new/test_71.npy\")\n",
    "testing.shape"
   ]
  },
  {
   "cell_type": "code",
   "execution_count": 11,
   "metadata": {},
   "outputs": [],
   "source": [
    "for i in range(72):\n",
    "    if (np.load(\"../../data/new/test_%d.npy\"%i).shape[0]!=820800):\n",
    "        print(i)"
   ]
  },
  {
   "cell_type": "code",
   "execution_count": 12,
   "metadata": {},
   "outputs": [],
   "source": [
    "for i in range(72):\n",
    "    if (np.load(\"../../data/new/train_%d.npy\"%i).shape[0]!=1555200):\n",
    "        print(i)"
   ]
  },
  {
   "cell_type": "code",
   "execution_count": 13,
   "metadata": {},
   "outputs": [
    {
     "data": {
      "text/plain": [
       "(13921851, 26)"
      ]
     },
     "execution_count": 13,
     "metadata": {},
     "output_type": "execute_result"
    }
   ],
   "source": [
    "test = np.load(\"../../data/new/test_new.npy\")\n",
    "test.shape"
   ]
  },
  {
   "cell_type": "code",
   "execution_count": 14,
   "metadata": {},
   "outputs": [
    {
     "data": {
      "text/plain": [
       "244243.0"
      ]
     },
     "execution_count": 14,
     "metadata": {},
     "output_type": "execute_result"
    }
   ],
   "source": [
    "test.shape[0]/57"
   ]
  },
  {
   "cell_type": "code",
   "execution_count": 15,
   "metadata": {},
   "outputs": [
    {
     "data": {
      "text/plain": [
       "(26378244, 26)"
      ]
     },
     "execution_count": 15,
     "metadata": {},
     "output_type": "execute_result"
    }
   ],
   "source": [
    "test = np.load(\"../../data/new/train_new.npy\")\n",
    "test.shape"
   ]
  },
  {
   "cell_type": "code",
   "execution_count": 16,
   "metadata": {},
   "outputs": [
    {
     "data": {
      "text/plain": [
       "244243.0"
      ]
     },
     "execution_count": 16,
     "metadata": {},
     "output_type": "execute_result"
    }
   ],
   "source": [
    "test.shape[0]/108"
   ]
  },
  {
   "cell_type": "code",
   "execution_count": 17,
   "metadata": {},
   "outputs": [
    {
     "data": {
      "text/plain": [
       "9.0"
      ]
     },
     "execution_count": 17,
     "metadata": {},
     "output_type": "execute_result"
    }
   ],
   "source": [
    "108/12"
   ]
  },
  {
   "attachments": {},
   "cell_type": "markdown",
   "metadata": {},
   "source": [
    "Index(['lat 0', 'lon 1', 'time 2', 'road_density 3', 'agb 4', 'sm 5', 'pftCrop 6', 'pftHerb 7',\n",
    "       'pftShrubBD 8', 'pftShrubNE 9', 'pftTreeBD 10', 'pftTreeBE 11', 'pftTreeND 12',\n",
    "       'pftTreeNE 13', 'GDP_per_capita_PPP 14', 'ign 15', 'faPAR 16', 'LAI 17',\n",
    "       'vod_K_anomalies 18', 'primn 19', 'pet 20', 'wet 21', 'precip 22', 'pastr 23', 'Band1 24',\n",
    "       'pop_density 25'],<br>\n",
    "Fill in zeros for ign, faPAR, LAI, vod_k_anamolies, pop_density\n",
    "6,7,8,9,10,15,16,17,18,25<br>\n",
    "add tmax in the end?"
   ]
  },
  {
   "cell_type": "code",
   "execution_count": 18,
   "metadata": {},
   "outputs": [
    {
     "data": {
      "text/plain": [
       "range"
      ]
     },
     "execution_count": 18,
     "metadata": {},
     "output_type": "execute_result"
    }
   ],
   "source": [
    "type(range(6))"
   ]
  },
  {
   "cell_type": "code",
   "execution_count": 64,
   "metadata": {},
   "outputs": [
    {
     "data": {
      "text/plain": [
       "1465"
      ]
     },
     "execution_count": 64,
     "metadata": {},
     "output_type": "execute_result"
    }
   ],
   "source": [
    "import numpy as np\n",
    "import gc\n",
    "train = np.load(\"../../data/new/train_new.npy\")\n",
    "timesteps = 108\n",
    "pixels = train.shape[0]//timesteps\n",
    "train = np.reshape(train,(pixels,9,12,train.shape[1]))\n",
    "var = train[:,0:,0:,4]\n",
    "del(train)\n",
    "gc.collect()"
   ]
  },
  {
   "cell_type": "code",
   "execution_count": 65,
   "metadata": {},
   "outputs": [
    {
     "data": {
      "text/plain": [
       "(244243, 9, 12)"
      ]
     },
     "execution_count": 65,
     "metadata": {},
     "output_type": "execute_result"
    }
   ],
   "source": [
    "var.shape"
   ]
  },
  {
   "cell_type": "code",
   "execution_count": 66,
   "metadata": {},
   "outputs": [
    {
     "name": "stderr",
     "output_type": "stream",
     "text": [
      "/tmp/ipykernel_1181259/1411806666.py:1: RuntimeWarning: Mean of empty slice\n",
      "  var_mean = np.nanmean(var,axis = 1)\n"
     ]
    },
    {
     "data": {
      "text/plain": [
       "(244243, 12)"
      ]
     },
     "execution_count": 66,
     "metadata": {},
     "output_type": "execute_result"
    }
   ],
   "source": [
    "var_mean = np.nanmean(var,axis = 1)\n",
    "var_mean.shape"
   ]
  },
  {
   "cell_type": "code",
   "execution_count": 69,
   "metadata": {},
   "outputs": [
    {
     "data": {
      "text/plain": [
       "True"
      ]
     },
     "execution_count": 69,
     "metadata": {},
     "output_type": "execute_result"
    }
   ],
   "source": [
    "np.isnan(var_mean).any()"
   ]
  },
  {
   "cell_type": "code",
   "execution_count": 71,
   "metadata": {},
   "outputs": [
    {
     "data": {
      "text/plain": [
       "False"
      ]
     },
     "execution_count": 71,
     "metadata": {},
     "output_type": "execute_result"
    }
   ],
   "source": [
    "mean_test = np.nan_to_num(var_mean,nan = 0)\n",
    "mean_test.all()"
   ]
  },
  {
   "cell_type": "code",
   "execution_count": 72,
   "metadata": {},
   "outputs": [
    {
     "data": {
      "text/plain": [
       "43.33203299613119"
      ]
     },
     "execution_count": 72,
     "metadata": {},
     "output_type": "execute_result"
    }
   ],
   "source": [
    "np.mean(mean_test)"
   ]
  },
  {
   "cell_type": "code",
   "execution_count": 73,
   "metadata": {},
   "outputs": [
    {
     "data": {
      "text/plain": [
       "22.893150329589844"
      ]
     },
     "execution_count": 73,
     "metadata": {},
     "output_type": "execute_result"
    }
   ],
   "source": [
    "np.median(mean_test)"
   ]
  },
  {
   "cell_type": "code",
   "execution_count": 88,
   "metadata": {},
   "outputs": [],
   "source": [
    "zero_mean = np.where(var_mean!=0)\n",
    "nan_test = np.where(np.isnan(var))"
   ]
  },
  {
   "cell_type": "code",
   "execution_count": 91,
   "metadata": {},
   "outputs": [
    {
     "data": {
      "text/plain": [
       "2"
      ]
     },
     "execution_count": 91,
     "metadata": {},
     "output_type": "execute_result"
    }
   ],
   "source": [
    "len(zero_mean)"
   ]
  },
  {
   "cell_type": "code",
   "execution_count": 82,
   "metadata": {},
   "outputs": [],
   "source": [
    "val = np.where(var_mean[(nan_test[0],nan_test[2])])"
   ]
  },
  {
   "cell_type": "code",
   "execution_count": 83,
   "metadata": {},
   "outputs": [
    {
     "data": {
      "text/plain": [
       "1"
      ]
     },
     "execution_count": 83,
     "metadata": {},
     "output_type": "execute_result"
    }
   ],
   "source": [
    "len(val)"
   ]
  },
  {
   "cell_type": "code",
   "execution_count": 84,
   "metadata": {},
   "outputs": [
    {
     "data": {
      "text/plain": [
       "array([    60,     60,     60, ..., 244242, 244242, 244242])"
      ]
     },
     "execution_count": 84,
     "metadata": {},
     "output_type": "execute_result"
    }
   ],
   "source": [
    "(nan_test[0])"
   ]
  },
  {
   "cell_type": "code",
   "execution_count": 85,
   "metadata": {},
   "outputs": [],
   "source": [
    "non_zero = var_mean!=0"
   ]
  },
  {
   "cell_type": "code",
   "execution_count": 87,
   "metadata": {},
   "outputs": [
    {
     "data": {
      "text/plain": [
       "(244243, 12)"
      ]
     },
     "execution_count": 87,
     "metadata": {},
     "output_type": "execute_result"
    }
   ],
   "source": [
    "non_zero.shape"
   ]
  },
  {
   "cell_type": "code",
   "execution_count": 9,
   "metadata": {},
   "outputs": [],
   "source": [
    "nan_counter = np.where(np.isnan(var_mean))"
   ]
  },
  {
   "cell_type": "code",
   "execution_count": 15,
   "metadata": {},
   "outputs": [
    {
     "data": {
      "text/plain": [
       "tuple"
      ]
     },
     "execution_count": 15,
     "metadata": {},
     "output_type": "execute_result"
    }
   ],
   "source": [
    "type(nan_counter)"
   ]
  },
  {
   "cell_type": "code",
   "execution_count": 16,
   "metadata": {},
   "outputs": [
    {
     "data": {
      "text/plain": [
       "2"
      ]
     },
     "execution_count": 16,
     "metadata": {},
     "output_type": "execute_result"
    }
   ],
   "source": [
    "len(nan_counter)"
   ]
  },
  {
   "cell_type": "code",
   "execution_count": 12,
   "metadata": {},
   "outputs": [
    {
     "data": {
      "text/plain": [
       "134652"
      ]
     },
     "execution_count": 12,
     "metadata": {},
     "output_type": "execute_result"
    }
   ],
   "source": [
    "len(nan_counter[0])"
   ]
  },
  {
   "cell_type": "code",
   "execution_count": 14,
   "metadata": {},
   "outputs": [
    {
     "data": {
      "text/plain": [
       "0.045941951253464786"
      ]
     },
     "execution_count": 14,
     "metadata": {},
     "output_type": "execute_result"
    }
   ],
   "source": [
    "len(nan_counter[0])/(var_mean.shape[0]*12)"
   ]
  },
  {
   "cell_type": "code",
   "execution_count": 19,
   "metadata": {},
   "outputs": [],
   "source": [
    "test = tuple()\n",
    "test = (*nan_counter,*nan_counter)"
   ]
  },
  {
   "cell_type": "code",
   "execution_count": 20,
   "metadata": {},
   "outputs": [
    {
     "data": {
      "text/plain": [
       "4"
      ]
     },
     "execution_count": 20,
     "metadata": {},
     "output_type": "execute_result"
    }
   ],
   "source": [
    "len(test)"
   ]
  },
  {
   "cell_type": "code",
   "execution_count": 21,
   "metadata": {},
   "outputs": [
    {
     "data": {
      "text/plain": [
       "(244243, 12)"
      ]
     },
     "execution_count": 21,
     "metadata": {},
     "output_type": "execute_result"
    }
   ],
   "source": [
    "var_mean.shape"
   ]
  },
  {
   "cell_type": "code",
   "execution_count": 22,
   "metadata": {},
   "outputs": [
    {
     "data": {
      "text/plain": [
       "(244243, 9, 12)"
      ]
     },
     "execution_count": 22,
     "metadata": {},
     "output_type": "execute_result"
    }
   ],
   "source": [
    "var.shape"
   ]
  },
  {
   "cell_type": "code",
   "execution_count": 30,
   "metadata": {},
   "outputs": [
    {
     "data": {
      "text/plain": [
       "3"
      ]
     },
     "execution_count": 30,
     "metadata": {},
     "output_type": "execute_result"
    }
   ],
   "source": [
    "len(mask.nonzero())"
   ]
  },
  {
   "cell_type": "code",
   "execution_count": 32,
   "metadata": {},
   "outputs": [
    {
     "data": {
      "text/plain": [
       "array([    60,     60,     60, ..., 244242, 244242, 244242])"
      ]
     },
     "execution_count": 32,
     "metadata": {},
     "output_type": "execute_result"
    }
   ],
   "source": [
    "mask.nonzero()[0]"
   ]
  },
  {
   "cell_type": "code",
   "execution_count": 42,
   "metadata": {},
   "outputs": [
    {
     "data": {
      "text/plain": [
       "(244243, 12)"
      ]
     },
     "execution_count": 42,
     "metadata": {},
     "output_type": "execute_result"
    }
   ],
   "source": [
    "var[:,4].shape"
   ]
  },
  {
   "cell_type": "code",
   "execution_count": 51,
   "metadata": {},
   "outputs": [],
   "source": [
    "trial = np.empty_like(var[:,1])\n",
    "var_mean = np.nan_to_num(var_mean,nan=0)\n",
    "pos = np.where(np.isnan(var[:,4]))\n",
    "trial = np.nan_to_num(var[:,4],nan = var_mean)"
   ]
  },
  {
   "cell_type": "code",
   "execution_count": 59,
   "metadata": {},
   "outputs": [
    {
     "data": {
      "text/plain": [
       "134652"
      ]
     },
     "execution_count": 59,
     "metadata": {},
     "output_type": "execute_result"
    }
   ],
   "source": [
    "len(pos[0])"
   ]
  },
  {
   "cell_type": "code",
   "execution_count": 60,
   "metadata": {},
   "outputs": [
    {
     "data": {
      "text/plain": [
       "235230"
      ]
     },
     "execution_count": 60,
     "metadata": {},
     "output_type": "execute_result"
    }
   ],
   "source": [
    "pos[0][62325]"
   ]
  },
  {
   "cell_type": "markdown",
   "metadata": {},
   "source": []
  },
  {
   "cell_type": "code",
   "execution_count": 61,
   "metadata": {},
   "outputs": [
    {
     "data": {
      "text/plain": [
       "9"
      ]
     },
     "execution_count": 61,
     "metadata": {},
     "output_type": "execute_result"
    }
   ],
   "source": [
    "pos[1][62325]"
   ]
  },
  {
   "cell_type": "code",
   "execution_count": 62,
   "metadata": {},
   "outputs": [
    {
     "data": {
      "text/plain": [
       "0.0"
      ]
     },
     "execution_count": 62,
     "metadata": {},
     "output_type": "execute_result"
    }
   ],
   "source": [
    "var_mean[(235230,9)]"
   ]
  },
  {
   "cell_type": "code",
   "execution_count": 49,
   "metadata": {},
   "outputs": [
    {
     "data": {
      "text/plain": [
       "(244243, 12)"
      ]
     },
     "execution_count": 49,
     "metadata": {},
     "output_type": "execute_result"
    }
   ],
   "source": [
    "trial.shape"
   ]
  },
  {
   "cell_type": "code",
   "execution_count": 63,
   "metadata": {},
   "outputs": [
    {
     "data": {
      "text/plain": [
       "0.0"
      ]
     },
     "execution_count": 63,
     "metadata": {},
     "output_type": "execute_result"
    }
   ],
   "source": [
    "trial[(235230,9)]"
   ]
  },
  {
   "cell_type": "code",
   "execution_count": 67,
   "metadata": {},
   "outputs": [],
   "source": [
    "no_zero = np.where(var_mean.any())"
   ]
  },
  {
   "cell_type": "code",
   "execution_count": 68,
   "metadata": {},
   "outputs": [
    {
     "data": {
      "text/plain": [
       "1"
      ]
     },
     "execution_count": 68,
     "metadata": {},
     "output_type": "execute_result"
    }
   ],
   "source": [
    "len(no_zero)"
   ]
  },
  {
   "cell_type": "code",
   "execution_count": 24,
   "metadata": {},
   "outputs": [
    {
     "name": "stdout",
     "output_type": "stream",
     "text": [
      "[[[ 0.  1.  2.  3.]\n",
      "  [ 4.  5.  6.  7.]\n",
      "  [ 8.  9. 10. 11.]]\n",
      "\n",
      " [[12. 13. 14. 15.]\n",
      "  [16. 17. 18. 19.]\n",
      "  [20. 21. 22. 23.]]]\n"
     ]
    }
   ],
   "source": [
    "import numpy as np\n",
    "\n",
    "# Create a 5x5 array and convert it to float\n",
    "arr = np.arange(24).reshape((2,3,4)).astype(float)\n",
    "\n",
    "# Set the diagonal elements to NaN\n",
    "\n",
    "# Print the modified array\n",
    "print(arr)\n",
    "\n",
    "arr_mean = np.arange(100,108,1,dtype = float).reshape((2,4))"
   ]
  },
  {
   "cell_type": "code",
   "execution_count": 29,
   "metadata": {},
   "outputs": [
    {
     "data": {
      "text/plain": [
       "array([[[ 0.,  1.,  2.,  3.],\n",
       "        [ 4.,  5., nan,  7.],\n",
       "        [ 8.,  9., 10., 11.]],\n",
       "\n",
       "       [[12., 13., 14., 15.],\n",
       "        [16., 17., 18., 19.],\n",
       "        [20., 21., nan, 23.]]])"
      ]
     },
     "execution_count": 29,
     "metadata": {},
     "output_type": "execute_result"
    }
   ],
   "source": [
    "arr[(1,2,2)]= np.nan\n",
    "arr[(0,1,2)] = np.nan\n",
    "arr"
   ]
  },
  {
   "cell_type": "code",
   "execution_count": 32,
   "metadata": {},
   "outputs": [
    {
     "ename": "ValueError",
     "evalue": "operands could not be broadcast together with remapped shapes [original->remapped]: (2,4)  and requested shape (2,3,4)",
     "output_type": "error",
     "traceback": [
      "\u001b[0;31m---------------------------------------------------------------------------\u001b[0m",
      "\u001b[0;31mValueError\u001b[0m                                Traceback (most recent call last)",
      "\u001b[1;32m/home/npande/furnaces/code/visual/data_analysis.ipynb Cell 157\u001b[0m in \u001b[0;36m<cell line: 1>\u001b[0;34m()\u001b[0m\n\u001b[0;32m----> <a href='vscode-notebook-cell:/home/npande/furnaces/code/visual/data_analysis.ipynb#Y304sZmlsZQ%3D%3D?line=0'>1</a>\u001b[0m arr_mean \u001b[39m=\u001b[39m np\u001b[39m.\u001b[39;49mbroadcast_to(arr_mean,(\u001b[39m2\u001b[39;49m,\u001b[39m3\u001b[39;49m,\u001b[39m4\u001b[39;49m))\n",
      "File \u001b[0;32m<__array_function__ internals>:180\u001b[0m, in \u001b[0;36mbroadcast_to\u001b[0;34m(*args, **kwargs)\u001b[0m\n",
      "File \u001b[0;32m~/anaconda3/lib/python3.9/site-packages/numpy/lib/stride_tricks.py:413\u001b[0m, in \u001b[0;36mbroadcast_to\u001b[0;34m(array, shape, subok)\u001b[0m\n\u001b[1;32m    367\u001b[0m \u001b[39m@array_function_dispatch\u001b[39m(_broadcast_to_dispatcher, module\u001b[39m=\u001b[39m\u001b[39m'\u001b[39m\u001b[39mnumpy\u001b[39m\u001b[39m'\u001b[39m)\n\u001b[1;32m    368\u001b[0m \u001b[39mdef\u001b[39;00m \u001b[39mbroadcast_to\u001b[39m(array, shape, subok\u001b[39m=\u001b[39m\u001b[39mFalse\u001b[39;00m):\n\u001b[1;32m    369\u001b[0m     \u001b[39m\"\"\"Broadcast an array to a new shape.\u001b[39;00m\n\u001b[1;32m    370\u001b[0m \n\u001b[1;32m    371\u001b[0m \u001b[39m    Parameters\u001b[39;00m\n\u001b[0;32m   (...)\u001b[0m\n\u001b[1;32m    411\u001b[0m \u001b[39m           [1, 2, 3]])\u001b[39;00m\n\u001b[1;32m    412\u001b[0m \u001b[39m    \"\"\"\u001b[39;00m\n\u001b[0;32m--> 413\u001b[0m     \u001b[39mreturn\u001b[39;00m _broadcast_to(array, shape, subok\u001b[39m=\u001b[39;49msubok, readonly\u001b[39m=\u001b[39;49m\u001b[39mTrue\u001b[39;49;00m)\n",
      "File \u001b[0;32m~/anaconda3/lib/python3.9/site-packages/numpy/lib/stride_tricks.py:349\u001b[0m, in \u001b[0;36m_broadcast_to\u001b[0;34m(array, shape, subok, readonly)\u001b[0m\n\u001b[1;32m    346\u001b[0m     \u001b[39mraise\u001b[39;00m \u001b[39mValueError\u001b[39;00m(\u001b[39m'\u001b[39m\u001b[39mall elements of broadcast shape must be non-\u001b[39m\u001b[39m'\u001b[39m\n\u001b[1;32m    347\u001b[0m                      \u001b[39m'\u001b[39m\u001b[39mnegative\u001b[39m\u001b[39m'\u001b[39m)\n\u001b[1;32m    348\u001b[0m extras \u001b[39m=\u001b[39m []\n\u001b[0;32m--> 349\u001b[0m it \u001b[39m=\u001b[39m np\u001b[39m.\u001b[39;49mnditer(\n\u001b[1;32m    350\u001b[0m     (array,), flags\u001b[39m=\u001b[39;49m[\u001b[39m'\u001b[39;49m\u001b[39mmulti_index\u001b[39;49m\u001b[39m'\u001b[39;49m, \u001b[39m'\u001b[39;49m\u001b[39mrefs_ok\u001b[39;49m\u001b[39m'\u001b[39;49m, \u001b[39m'\u001b[39;49m\u001b[39mzerosize_ok\u001b[39;49m\u001b[39m'\u001b[39;49m] \u001b[39m+\u001b[39;49m extras,\n\u001b[1;32m    351\u001b[0m     op_flags\u001b[39m=\u001b[39;49m[\u001b[39m'\u001b[39;49m\u001b[39mreadonly\u001b[39;49m\u001b[39m'\u001b[39;49m], itershape\u001b[39m=\u001b[39;49mshape, order\u001b[39m=\u001b[39;49m\u001b[39m'\u001b[39;49m\u001b[39mC\u001b[39;49m\u001b[39m'\u001b[39;49m)\n\u001b[1;32m    352\u001b[0m \u001b[39mwith\u001b[39;00m it:\n\u001b[1;32m    353\u001b[0m     \u001b[39m# never really has writebackifcopy semantics\u001b[39;00m\n\u001b[1;32m    354\u001b[0m     broadcast \u001b[39m=\u001b[39m it\u001b[39m.\u001b[39mitviews[\u001b[39m0\u001b[39m]\n",
      "\u001b[0;31mValueError\u001b[0m: operands could not be broadcast together with remapped shapes [original->remapped]: (2,4)  and requested shape (2,3,4)"
     ]
    }
   ],
   "source": [
    "arr_mean = np.broadcast_to(arr_mean,(2,3,4))"
   ]
  },
  {
   "cell_type": "code",
   "execution_count": 31,
   "metadata": {},
   "outputs": [
    {
     "ename": "ValueError",
     "evalue": "could not broadcast input array from shape (2,4) into shape (2,3,4)",
     "output_type": "error",
     "traceback": [
      "\u001b[0;31m---------------------------------------------------------------------------\u001b[0m",
      "\u001b[0;31mValueError\u001b[0m                                Traceback (most recent call last)",
      "\u001b[1;32m/home/npande/furnaces/code/visual/data_analysis.ipynb Cell 158\u001b[0m in \u001b[0;36m<cell line: 1>\u001b[0;34m()\u001b[0m\n\u001b[0;32m----> <a href='vscode-notebook-cell:/home/npande/furnaces/code/visual/data_analysis.ipynb#Y305sZmlsZQ%3D%3D?line=0'>1</a>\u001b[0m arr \u001b[39m=\u001b[39m np\u001b[39m.\u001b[39;49mnan_to_num(arr,nan \u001b[39m=\u001b[39;49m arr_mean)\n\u001b[1;32m      <a href='vscode-notebook-cell:/home/npande/furnaces/code/visual/data_analysis.ipynb#Y305sZmlsZQ%3D%3D?line=1'>2</a>\u001b[0m arr\n",
      "File \u001b[0;32m<__array_function__ internals>:180\u001b[0m, in \u001b[0;36mnan_to_num\u001b[0;34m(*args, **kwargs)\u001b[0m\n",
      "File \u001b[0;32m~/anaconda3/lib/python3.9/site-packages/numpy/lib/type_check.py:518\u001b[0m, in \u001b[0;36mnan_to_num\u001b[0;34m(x, copy, nan, posinf, neginf)\u001b[0m\n\u001b[1;32m    516\u001b[0m idx_posinf \u001b[39m=\u001b[39m isposinf(d)\n\u001b[1;32m    517\u001b[0m idx_neginf \u001b[39m=\u001b[39m isneginf(d)\n\u001b[0;32m--> 518\u001b[0m _nx\u001b[39m.\u001b[39;49mcopyto(d, nan, where\u001b[39m=\u001b[39;49midx_nan)\n\u001b[1;32m    519\u001b[0m _nx\u001b[39m.\u001b[39mcopyto(d, maxf, where\u001b[39m=\u001b[39midx_posinf)\n\u001b[1;32m    520\u001b[0m _nx\u001b[39m.\u001b[39mcopyto(d, minf, where\u001b[39m=\u001b[39midx_neginf)\n",
      "File \u001b[0;32m<__array_function__ internals>:180\u001b[0m, in \u001b[0;36mcopyto\u001b[0;34m(*args, **kwargs)\u001b[0m\n",
      "\u001b[0;31mValueError\u001b[0m: could not broadcast input array from shape (2,4) into shape (2,3,4)"
     ]
    }
   ],
   "source": [
    "arr = np.nan_to_num(arr,nan = arr_mean)\n",
    "arr"
   ]
  },
  {
   "cell_type": "code",
   "execution_count": 105,
   "metadata": {},
   "outputs": [
    {
     "data": {
      "text/plain": [
       "(26378244, 38)"
      ]
     },
     "execution_count": 105,
     "metadata": {},
     "output_type": "execute_result"
    }
   ],
   "source": [
    "train_x = np.load(\"../../data/train_monthmean.npy\")\n",
    "train_x = np.reshape(train_x,(-1,train_x.shape[-1]))\n",
    "train_x.shape"
   ]
  },
  {
   "cell_type": "code",
   "execution_count": 107,
   "metadata": {},
   "outputs": [
    {
     "data": {
      "text/plain": [
       "(26378244, 4)"
      ]
     },
     "execution_count": 107,
     "metadata": {},
     "output_type": "execute_result"
    }
   ],
   "source": [
    "t_max = train_x[:,(16,28,30,34)]\n",
    "t_max.shape"
   ]
  },
  {
   "cell_type": "code",
   "execution_count": 33,
   "metadata": {},
   "outputs": [
    {
     "data": {
      "text/plain": [
       "(26378244, 30)"
      ]
     },
     "execution_count": 33,
     "metadata": {},
     "output_type": "execute_result"
    }
   ],
   "source": [
    "import numpy as np\n",
    "testing = np.load('../../data/new/custom_mean.npy')\n",
    "testing.shape"
   ]
  },
  {
   "cell_type": "code",
   "execution_count": 110,
   "metadata": {},
   "outputs": [
    {
     "data": {
      "text/plain": [
       "(244243, 9, 12, 38)"
      ]
     },
     "execution_count": 110,
     "metadata": {},
     "output_type": "execute_result"
    }
   ],
   "source": [
    "train_x = np.load(\"../../data/train_monthmean.npy\")\n",
    "train_x.shape"
   ]
  },
  {
   "cell_type": "code",
   "execution_count": 112,
   "metadata": {},
   "outputs": [
    {
     "data": {
      "text/plain": [
       "(2198187, 30)"
      ]
     },
     "execution_count": 112,
     "metadata": {},
     "output_type": "execute_result"
    }
   ],
   "source": [
    "import numpy as np\n",
    "train_month_mean = np.load('../../data/new/custom_mean.npy')\n",
    "train_month_mean = train_month_mean.reshape((-1,9,12,train_month_mean.shape[-1]))\n",
    "annual_mean = np.mean(train_month_mean,axis = 2)\n",
    "annual_mean = np.reshape(annual_mean,(-1,annual_mean.shape[-1]))\n",
    "annual_mean.shape"
   ]
  },
  {
   "cell_type": "code",
   "execution_count": 113,
   "metadata": {},
   "outputs": [
    {
     "data": {
      "text/plain": [
       "12.0"
      ]
     },
     "execution_count": 113,
     "metadata": {},
     "output_type": "execute_result"
    }
   ],
   "source": [
    "26378244/2198187"
   ]
  },
  {
   "cell_type": "code",
   "execution_count": 121,
   "metadata": {},
   "outputs": [
    {
     "data": {
      "text/plain": [
       "(2198187,)"
      ]
     },
     "execution_count": 121,
     "metadata": {},
     "output_type": "execute_result"
    }
   ],
   "source": [
    "annual_mean[:,4].shape"
   ]
  },
  {
   "cell_type": "code",
   "execution_count": 122,
   "metadata": {},
   "outputs": [
    {
     "data": {
      "text/plain": [
       "0.0"
      ]
     },
     "execution_count": 122,
     "metadata": {},
     "output_type": "execute_result"
    }
   ],
   "source": [
    "annual_mean[(0,0)]"
   ]
  },
  {
   "cell_type": "code",
   "execution_count": 127,
   "metadata": {},
   "outputs": [
    {
     "data": {
      "text/plain": [
       "0.0"
      ]
     },
     "execution_count": 127,
     "metadata": {},
     "output_type": "execute_result"
    }
   ],
   "source": [
    "train_month_mean[(0,0,0,0)]"
   ]
  },
  {
   "cell_type": "code",
   "execution_count": 210,
   "metadata": {},
   "outputs": [
    {
     "data": {
      "text/plain": [
       "(26378244, 26)"
      ]
     },
     "execution_count": 210,
     "metadata": {},
     "output_type": "execute_result"
    }
   ],
   "source": [
    "import numpy as np\n",
    "train = np.load(\"../../data/new/train_new.npy\")\n",
    "train.shape"
   ]
  },
  {
   "cell_type": "code",
   "execution_count": 217,
   "metadata": {},
   "outputs": [],
   "source": [
    "train_new = train.reshape((-1,9,12,train.shape[-1]))"
   ]
  },
  {
   "cell_type": "code",
   "execution_count": 218,
   "metadata": {},
   "outputs": [
    {
     "data": {
      "text/plain": [
       "(244243, 9, 12, 26)"
      ]
     },
     "execution_count": 218,
     "metadata": {},
     "output_type": "execute_result"
    }
   ],
   "source": [
    "train_new.shape"
   ]
  },
  {
   "cell_type": "code",
   "execution_count": 226,
   "metadata": {},
   "outputs": [
    {
     "data": {
      "text/plain": [
       "array([-5.42500000e+01, -6.90000000e+01,  2.00701500e+05,  3.00000000e+01,\n",
       "        6.99116974e+01,  2.37244666e-01,  1.93083715e-02,  2.20942229e-01,\n",
       "        5.66995963e-02,  1.70812719e-02,  2.39676088e-01,  1.91109870e-02,\n",
       "        0.00000000e+00,  1.48251224e-02,  1.75080000e+04,  0.00000000e+00,\n",
       "        5.88302612e-01,  1.68119633e+00,  1.57852374e-02,  3.35524917e-01,\n",
       "        3.00000000e+00,  1.16699991e+01,  3.37459259e+01,  1.65849239e-01,\n",
       "        1.66756611e+02,  1.16064158e-05])"
      ]
     },
     "execution_count": 226,
     "metadata": {},
     "output_type": "execute_result"
    }
   ],
   "source": [
    "train_new[(69,4,0)]"
   ]
  },
  {
   "cell_type": "code",
   "execution_count": 227,
   "metadata": {},
   "outputs": [
    {
     "data": {
      "text/plain": [
       "array([-5.42500000e+01, -6.90000000e+01,  2.00712500e+05,  3.00000000e+01,\n",
       "        6.99116974e+01,  2.58123368e-01,  1.94318276e-02,  2.21053332e-01,\n",
       "        5.66872507e-02,  1.70936156e-02,  2.39595816e-01,  1.88887939e-02,\n",
       "        0.00000000e+00,  1.48312943e-02,  1.75080000e+04,  0.00000000e+00,\n",
       "        5.30647457e-01,  1.48543024e+00, -2.08373128e-03,  3.35524917e-01,\n",
       "        3.00000000e+00,  1.13949995e+01,  4.24104881e+01,  1.65849239e-01,\n",
       "        1.66756611e+02,  1.16064158e-05])"
      ]
     },
     "execution_count": 227,
     "metadata": {},
     "output_type": "execute_result"
    }
   ],
   "source": [
    "train_new[(69,4,11)]"
   ]
  },
  {
   "cell_type": "code",
   "execution_count": 248,
   "metadata": {},
   "outputs": [
    {
     "ename": "IndexError",
     "evalue": "too many indices for array: array is 4-dimensional, but 5 were indexed",
     "output_type": "error",
     "traceback": [
      "\u001b[0;31m---------------------------------------------------------------------------\u001b[0m",
      "\u001b[0;31mIndexError\u001b[0m                                Traceback (most recent call last)",
      "\u001b[1;32m/home/npande/furnaces/code/visual/data_analysis.ipynb Cell 172\u001b[0m in \u001b[0;36m<cell line: 4>\u001b[0;34m()\u001b[0m\n\u001b[1;32m      <a href='vscode-notebook-cell:/home/npande/furnaces/code/visual/data_analysis.ipynb#Y424sZmlsZQ%3D%3D?line=1'>2</a>\u001b[0m \u001b[39m#temp = np.zeros_like(train)\u001b[39;00m\n\u001b[1;32m      <a href='vscode-notebook-cell:/home/npande/furnaces/code/visual/data_analysis.ipynb#Y424sZmlsZQ%3D%3D?line=2'>3</a>\u001b[0m train_new[np\u001b[39m.\u001b[39mwhere(train_new\u001b[39m==\u001b[39m\u001b[39m-\u001b[39m\u001b[39m9999.0\u001b[39m)]\u001b[39m=\u001b[39m np\u001b[39m.\u001b[39mNaN\n\u001b[0;32m----> <a href='vscode-notebook-cell:/home/npande/furnaces/code/visual/data_analysis.ipynb#Y424sZmlsZQ%3D%3D?line=3'>4</a>\u001b[0m train_new[np\u001b[39m.\u001b[39misnan(train_new[:,:,:,idxs]),idxs] \u001b[39m=\u001b[39m \u001b[39m0\u001b[39m\n",
      "\u001b[0;31mIndexError\u001b[0m: too many indices for array: array is 4-dimensional, but 5 were indexed"
     ]
    }
   ],
   "source": [
    "idxs = [15, 16, 17, 18, 25]\n",
    "#temp = np.zeros_like(train)\n",
    "train_new[np.where(train_new==-9999.0)]= np.NaN\n",
    "train_new[np.isnan(train_new[:,:,:,idxs]),idxs] = 0"
   ]
  },
  {
   "cell_type": "code",
   "execution_count": 244,
   "metadata": {},
   "outputs": [
    {
     "data": {
      "text/plain": [
       "(244243, 9, 12)"
      ]
     },
     "execution_count": 244,
     "metadata": {},
     "output_type": "execute_result"
    }
   ],
   "source": [
    "train_new[:,:,:,15].shape"
   ]
  },
  {
   "cell_type": "code",
   "execution_count": 216,
   "metadata": {},
   "outputs": [],
   "source": [
    "train[np.where(train==-9999.0)]= np.NaN\n",
    "train[np.isnan(train[:,15]),15] = 0"
   ]
  },
  {
   "cell_type": "code",
   "execution_count": 215,
   "metadata": {},
   "outputs": [
    {
     "data": {
      "text/plain": [
       "(26378244, 26)"
      ]
     },
     "execution_count": 215,
     "metadata": {},
     "output_type": "execute_result"
    }
   ],
   "source": [
    "train.shape"
   ]
  },
  {
   "cell_type": "code",
   "execution_count": 155,
   "metadata": {},
   "outputs": [],
   "source": [
    "num_nan = np.count_nonzero(np.isnan(train))"
   ]
  },
  {
   "cell_type": "code",
   "execution_count": 156,
   "metadata": {},
   "outputs": [
    {
     "data": {
      "text/plain": [
       "93700750"
      ]
     },
     "execution_count": 156,
     "metadata": {},
     "output_type": "execute_result"
    }
   ],
   "source": [
    "num_nan"
   ]
  },
  {
   "cell_type": "code",
   "execution_count": 157,
   "metadata": {},
   "outputs": [
    {
     "data": {
      "text/plain": [
       "0.13662300644425004"
      ]
     },
     "execution_count": 157,
     "metadata": {},
     "output_type": "execute_result"
    }
   ],
   "source": [
    "num_nan/train.shape[0]/train.shape[1]"
   ]
  },
  {
   "cell_type": "code",
   "execution_count": 158,
   "metadata": {},
   "outputs": [],
   "source": [
    "nan_mask = np.isnan(train)"
   ]
  },
  {
   "cell_type": "code",
   "execution_count": 162,
   "metadata": {},
   "outputs": [],
   "source": [
    "feature = np.count_nonzero(nan_mask,axis = 0)"
   ]
  },
  {
   "cell_type": "code",
   "execution_count": 163,
   "metadata": {},
   "outputs": [
    {
     "data": {
      "text/plain": [
       "(26,)"
      ]
     },
     "execution_count": 163,
     "metadata": {},
     "output_type": "execute_result"
    }
   ],
   "source": [
    "feature.shape"
   ]
  },
  {
   "cell_type": "code",
   "execution_count": 164,
   "metadata": {},
   "outputs": [
    {
     "data": {
      "text/plain": [
       "array([       0,        0,        0,     2700,  1211868,  8668523,\n",
       "       10311363,  2676963,  2726584,  3026017,  3036606,  3191985,\n",
       "        9877599,  4101164,   364068, 25037988,  6801208,  6801208,\n",
       "        5761334,    37368,    15552,    12744,      540,    37368,\n",
       "              0,        0])"
      ]
     },
     "execution_count": 164,
     "metadata": {},
     "output_type": "execute_result"
    }
   ],
   "source": [
    "feature"
   ]
  },
  {
   "cell_type": "code",
   "execution_count": 165,
   "metadata": {},
   "outputs": [],
   "source": [
    "col = np.load(\"../../data/new/column_names.npy\")\n"
   ]
  },
  {
   "cell_type": "code",
   "execution_count": 166,
   "metadata": {},
   "outputs": [
    {
     "data": {
      "text/plain": [
       "array(['lat 0', 'lon 1', 'time 2', 'road_density 3', 'agb 4', 'sm 5',\n",
       "       'pftCrop 6', 'pftHerb 7', 'pftShrubBD 8', 'pftShrubNE 9',\n",
       "       'pftTreeBD 10', 'pftTreeBE 11', 'pftTreeND 12', 'pftTreeNE 13',\n",
       "       'GDP_per_capita_PPP 14', 'ign 15', 'faPAR 16', 'LAI 17',\n",
       "       'vod_K_anomalies 18', 'primn 19', 'pet 20', 'wet 21', 'precip 22',\n",
       "       'pastr 23', 'Band1 24', 'pop_density 25',\n",
       "       'Distance_to_populated_areas 26', 'Diurnal temperature range 27',\n",
       "       'temp_max 28', 'Livestock 29'], dtype='<U30')"
      ]
     },
     "execution_count": 166,
     "metadata": {},
     "output_type": "execute_result"
    }
   ],
   "source": [
    "col"
   ]
  },
  {
   "cell_type": "code",
   "execution_count": 172,
   "metadata": {},
   "outputs": [],
   "source": [
    "feature_pixel = np.count_nonzero(nan_mask,axis = 1)"
   ]
  },
  {
   "cell_type": "code",
   "execution_count": 185,
   "metadata": {},
   "outputs": [],
   "source": [
    "nan_count = np.sum(nan_mask,axis = 1)"
   ]
  },
  {
   "cell_type": "code",
   "execution_count": 188,
   "metadata": {},
   "outputs": [
    {
     "data": {
      "text/plain": [
       "(22483278, 26)"
      ]
     },
     "execution_count": 188,
     "metadata": {},
     "output_type": "execute_result"
    }
   ],
   "source": [
    "trial_filter = train[nan_count<7]\n",
    "trial_filter.shape"
   ]
  },
  {
   "cell_type": "code",
   "execution_count": 189,
   "metadata": {},
   "outputs": [],
   "source": [
    "mask = np.isnan(trial_filter)"
   ]
  },
  {
   "cell_type": "code",
   "execution_count": 191,
   "metadata": {},
   "outputs": [
    {
     "data": {
      "text/plain": [
       "array([       0,        0,        0,     2700,  1211868,  8668523,\n",
       "       10311363,  2676963,  2726584,  3026017,  3036606,  3191985,\n",
       "        9877599,  4101164,   364068, 25037988,  6801208,  6801208,\n",
       "        5761334,    37368,    15552,    12744,      540,    37368,\n",
       "              0,        0])"
      ]
     },
     "execution_count": 191,
     "metadata": {},
     "output_type": "execute_result"
    }
   ],
   "source": [
    "feature_new = np.count_nonzero(mask,axis = 0)\n",
    "feature"
   ]
  },
  {
   "cell_type": "code",
   "execution_count": 193,
   "metadata": {},
   "outputs": [
    {
     "data": {
      "text/plain": [
       "array([       0,        0,        0,      112,    95994,  6501281,\n",
       "        6585680,      521,    54131,   192010,   189085,   461967,\n",
       "        6044605,  1250610,   121835, 21144659,  3566524,  3566524,\n",
       "        3710769,      947,      736,      428,        0,      947,\n",
       "              0,        0])"
      ]
     },
     "execution_count": 193,
     "metadata": {},
     "output_type": "execute_result"
    }
   ],
   "source": [
    "feature_new"
   ]
  },
  {
   "cell_type": "code",
   "execution_count": 204,
   "metadata": {},
   "outputs": [
    {
     "name": "stderr",
     "output_type": "stream",
     "text": [
      "/tmp/ipykernel_1181259/3042717863.py:1: RuntimeWarning: invalid value encountered in divide\n",
      "  delta = (feature-feature_new)/feature\n"
     ]
    }
   ],
   "source": [
    "delta = (feature-feature_new)/feature\n",
    "delta = delta.reshape((-1,1))"
   ]
  },
  {
   "cell_type": "code",
   "execution_count": 206,
   "metadata": {},
   "outputs": [],
   "source": [
    "named = np.concatenate((delta,col[:26].reshape((-1,1))),axis = 1)"
   ]
  },
  {
   "cell_type": "code",
   "execution_count": 207,
   "metadata": {},
   "outputs": [
    {
     "data": {
      "text/plain": [
       "array([['nan', 'lat 0'],\n",
       "       ['nan', 'lon 1'],\n",
       "       ['nan', 'time 2'],\n",
       "       ['0.9585185185185185', 'road_density 3'],\n",
       "       ['0.9207884026973234', 'agb 4'],\n",
       "       ['0.2500128337895625', 'sm 5'],\n",
       "       ['0.3613181884877877', 'pftCrop 6'],\n",
       "       ['0.9998053764657935', 'pftHerb 7'],\n",
       "       ['0.9801469531105589', 'pftShrubBD 8'],\n",
       "       ['0.9365469526443506', 'pftShrubNE 9'],\n",
       "       ['0.9377314673026399', 'pftTreeBD 10'],\n",
       "       ['0.8552728161316547', 'pftTreeBE 11'],\n",
       "       ['0.3880491605298008', 'pftTreeND 12'],\n",
       "       ['0.6950597440141384', 'pftTreeNE 13'],\n",
       "       ['0.6653509783886526', 'GDP_per_capita_PPP 14'],\n",
       "       ['0.1554968793818417', 'ign 15'],\n",
       "       ['0.4756043338183452', 'faPAR 16'],\n",
       "       ['0.4756043338183452', 'LAI 17'],\n",
       "       ['0.35591843833389974', 'vod_K_anomalies 18'],\n",
       "       ['0.9746574609291372', 'primn 19'],\n",
       "       ['0.9526748971193416', 'pet 20'],\n",
       "       ['0.9664155681104833', 'wet 21'],\n",
       "       ['1.0', 'precip 22'],\n",
       "       ['0.9746574609291372', 'pastr 23'],\n",
       "       ['nan', 'Band1 24'],\n",
       "       ['nan', 'pop_density 25']], dtype='<U32')"
      ]
     },
     "execution_count": 207,
     "metadata": {},
     "output_type": "execute_result"
    }
   ],
   "source": [
    "named"
   ]
  },
  {
   "cell_type": "code",
   "execution_count": 208,
   "metadata": {},
   "outputs": [
    {
     "data": {
      "text/plain": [
       "0.8461538461538461"
      ]
     },
     "execution_count": 208,
     "metadata": {},
     "output_type": "execute_result"
    }
   ],
   "source": [
    "22/26"
   ]
  },
  {
   "cell_type": "code",
   "execution_count": 173,
   "metadata": {},
   "outputs": [
    {
     "data": {
      "text/plain": [
       "21"
      ]
     },
     "execution_count": 173,
     "metadata": {},
     "output_type": "execute_result"
    }
   ],
   "source": [
    "feature_pixel.max()"
   ]
  },
  {
   "cell_type": "code",
   "execution_count": 177,
   "metadata": {},
   "outputs": [],
   "source": [
    "num_21 = np.bincount(feature_pixel)"
   ]
  },
  {
   "cell_type": "code",
   "execution_count": 178,
   "metadata": {},
   "outputs": [
    {
     "data": {
      "text/plain": [
       "array([ 786545, 7817352, 5785036, 3142435, 1630492, 1775840, 1545578,\n",
       "        721796,  603268,  282388,  118729, 1191527,   77264,   99293,\n",
       "        768008,   11787,   13104,    3074,    2204,    2095,     212,\n",
       "           217])"
      ]
     },
     "execution_count": 178,
     "metadata": {},
     "output_type": "execute_result"
    }
   ],
   "source": [
    "num_21"
   ]
  },
  {
   "cell_type": "code",
   "execution_count": 179,
   "metadata": {},
   "outputs": [
    {
     "data": {
      "text/plain": [
       "(22,)"
      ]
     },
     "execution_count": 179,
     "metadata": {},
     "output_type": "execute_result"
    }
   ],
   "source": [
    "num_21.shape"
   ]
  },
  {
   "cell_type": "code",
   "execution_count": 180,
   "metadata": {},
   "outputs": [
    {
     "data": {
      "text/plain": [
       "array([       0,        0,        0,     2700,  1211868,  8668523,\n",
       "       10311363,  2676963,  2726584,  3026017,  3036606,  3191985,\n",
       "        9877599,  4101164,   364068, 25037988,  6801208,  6801208,\n",
       "        5761334,    37368,    15552,    12744,      540,    37368,\n",
       "              0,        0])"
      ]
     },
     "execution_count": 180,
     "metadata": {},
     "output_type": "execute_result"
    }
   ],
   "source": [
    "feature"
   ]
  },
  {
   "cell_type": "code",
   "execution_count": 181,
   "metadata": {},
   "outputs": [
    {
     "data": {
      "text/plain": [
       "(26,)"
      ]
     },
     "execution_count": 181,
     "metadata": {},
     "output_type": "execute_result"
    }
   ],
   "source": [
    "feature.shape"
   ]
  },
  {
   "cell_type": "code",
   "execution_count": 182,
   "metadata": {},
   "outputs": [
    {
     "data": {
      "text/plain": [
       "26378244"
      ]
     },
     "execution_count": 182,
     "metadata": {},
     "output_type": "execute_result"
    }
   ],
   "source": [
    "np.sum(num_21)"
   ]
  },
  {
   "cell_type": "code",
   "execution_count": 184,
   "metadata": {},
   "outputs": [
    {
     "data": {
      "text/plain": [
       "22483278"
      ]
     },
     "execution_count": 184,
     "metadata": {},
     "output_type": "execute_result"
    }
   ],
   "source": [
    "np.sum(num_21[:7])"
   ]
  },
  {
   "cell_type": "code",
   "execution_count": 230,
   "metadata": {},
   "outputs": [],
   "source": [
    "arr_new = np.reshape(np.arange(8), (4,2))\n",
    "temp = np.reshape(np.arange(12),(4,3))\n",
    "temp_new = np.hstack((arr_new,temp))"
   ]
  },
  {
   "cell_type": "code",
   "execution_count": 231,
   "metadata": {},
   "outputs": [
    {
     "data": {
      "text/plain": [
       "array([[ 0,  1,  0,  1,  2],\n",
       "       [ 2,  3,  3,  4,  5],\n",
       "       [ 4,  5,  6,  7,  8],\n",
       "       [ 6,  7,  9, 10, 11]])"
      ]
     },
     "execution_count": 231,
     "metadata": {},
     "output_type": "execute_result"
    }
   ],
   "source": [
    "temp_new"
   ]
  },
  {
   "cell_type": "code",
   "execution_count": 34,
   "metadata": {},
   "outputs": [],
   "source": [
    "df = np.load(\"../../data/new/custom_median.npy\")"
   ]
  },
  {
   "cell_type": "code",
   "execution_count": 35,
   "metadata": {},
   "outputs": [
    {
     "data": {
      "text/plain": [
       "(26378244, 30)"
      ]
     },
     "execution_count": 35,
     "metadata": {},
     "output_type": "execute_result"
    }
   ],
   "source": [
    "df.shape"
   ]
  },
  {
   "cell_type": "code",
   "execution_count": 36,
   "metadata": {},
   "outputs": [
    {
     "data": {
      "text/plain": [
       "array([ 0.00000000e+00,  0.00000000e+00,  0.00000000e+00,             nan,\n",
       "        2.54603505e+00,  0.00000000e+00,  3.70377791e-04,  3.57659161e-02,\n",
       "        1.48828998e-02,             nan,  1.03704989e-01,  1.22224691e-03,\n",
       "                   nan,             nan,  1.91550547e+04,  0.00000000e+00,\n",
       "        7.19999969e-01,  2.00000000e+00,  0.00000000e+00,             nan,\n",
       "        2.20000005e+00,  1.60799999e+01,  1.15632469e+02,             nan,\n",
       "        0.00000000e+00, -9.99900000e+03,  0.00000000e+00,  6.50000000e+00,\n",
       "        1.06999998e+01,  0.00000000e+00])"
      ]
     },
     "execution_count": 36,
     "metadata": {},
     "output_type": "execute_result"
    }
   ],
   "source": [
    "df[0]"
   ]
  },
  {
   "cell_type": "code",
   "execution_count": 37,
   "metadata": {},
   "outputs": [],
   "source": [
    "train = np.load(\"../../data/new/train_new.npy\")\n",
    "train = np.reshape(train, (train.shape[0]//108, 9, 12, train.shape[1]))\n",
    "temp = np.zeros_like(train)\n",
    "train[np.where(train == -9999.0)] = 0.0\n",
    "temp[:, 0:, 0:, (0,1,2)] = np.copy(train[:, 0:, 0:, (0,1,2)])"
   ]
  },
  {
   "cell_type": "code",
   "execution_count": null,
   "metadata": {},
   "outputs": [],
   "source": [
    "temp[]"
   ]
  },
  {
   "cell_type": "code",
   "execution_count": null,
   "metadata": {},
   "outputs": [],
   "source": []
  },
  {
   "cell_type": "code",
   "execution_count": null,
   "metadata": {},
   "outputs": [],
   "source": []
  },
  {
   "cell_type": "code",
   "execution_count": null,
   "metadata": {},
   "outputs": [],
   "source": []
  },
  {
   "cell_type": "code",
   "execution_count": null,
   "metadata": {},
   "outputs": [],
   "source": []
  },
  {
   "cell_type": "code",
   "execution_count": null,
   "metadata": {},
   "outputs": [],
   "source": []
  },
  {
   "cell_type": "code",
   "execution_count": null,
   "metadata": {},
   "outputs": [],
   "source": []
  },
  {
   "cell_type": "code",
   "execution_count": null,
   "metadata": {},
   "outputs": [],
   "source": []
  },
  {
   "cell_type": "code",
   "execution_count": null,
   "metadata": {},
   "outputs": [],
   "source": []
  },
  {
   "cell_type": "code",
   "execution_count": null,
   "metadata": {},
   "outputs": [],
   "source": []
  },
  {
   "cell_type": "code",
   "execution_count": 253,
   "metadata": {},
   "outputs": [
    {
     "data": {
      "text/plain": [
       "True"
      ]
     },
     "execution_count": 253,
     "metadata": {},
     "output_type": "execute_result"
    },
    {
     "ename": "",
     "evalue": "",
     "output_type": "error",
     "traceback": [
      "\u001b[1;31mThe Kernel crashed while executing code in the the current cell or a previous cell. Please review the code in the cell(s) to identify a possible cause of the failure. Click <a href='https://aka.ms/vscodeJupyterKernelCrash'>here</a> for more info. View Jupyter <a href='command:jupyter.viewOutput'>log</a> for further details."
     ]
    }
   ],
   "source": [
    "np.any(np.isnan(df))"
   ]
  },
  {
   "cell_type": "code",
   "execution_count": 1,
   "metadata": {},
   "outputs": [],
   "source": [
    "import numpy as np\n",
    "df = np.load(\"../../data/new/custom_median.npy\")"
   ]
  },
  {
   "cell_type": "code",
   "execution_count": 2,
   "metadata": {},
   "outputs": [
    {
     "data": {
      "text/plain": [
       "(26378244, 30)"
      ]
     },
     "execution_count": 2,
     "metadata": {},
     "output_type": "execute_result"
    }
   ],
   "source": [
    "df.shape"
   ]
  },
  {
   "cell_type": "code",
   "execution_count": 3,
   "metadata": {},
   "outputs": [
    {
     "data": {
      "text/plain": [
       "array([-5.57500000e+01, -6.70000000e+01,  2.00301500e+05,             nan,\n",
       "        2.54603505e+00,  0.00000000e+00,  3.70377791e-04,  3.57659161e-02,\n",
       "        1.48828998e-02,             nan,  1.03704989e-01,  1.22224691e-03,\n",
       "                   nan,             nan,  1.91550547e+04,  0.00000000e+00,\n",
       "        7.19999969e-01,  2.00000000e+00,  0.00000000e+00,             nan,\n",
       "        2.20000005e+00,  1.60799999e+01,  1.15632469e+02,             nan,\n",
       "        0.00000000e+00, -9.99900000e+03,  0.00000000e+00,  6.50000000e+00,\n",
       "        1.06999998e+01,  0.00000000e+00])"
      ]
     },
     "execution_count": 3,
     "metadata": {},
     "output_type": "execute_result"
    }
   ],
   "source": [
    "df[0]"
   ]
  },
  {
   "cell_type": "code",
   "execution_count": 5,
   "metadata": {},
   "outputs": [
    {
     "data": {
      "text/plain": [
       "True"
      ]
     },
     "execution_count": 5,
     "metadata": {},
     "output_type": "execute_result"
    }
   ],
   "source": [
    "np.any(np.isnan(df))"
   ]
  },
  {
   "cell_type": "code",
   "execution_count": 13,
   "metadata": {},
   "outputs": [],
   "source": [
    "train = np.load(\"../../data/new/train_new.npy\")\n",
    "timesteps = 108\n",
    "pixels = train.shape[0]//timesteps\n",
    "# temp = np.reshape(train,(pixels,-1,train.shape[1]))\n",
    "# lat = temp[:,0][:,0]\n",
    "# lon = temp[:,0][:,1]\n",
    "# del(temp)\n",
    "# gc.collect()\n",
    "train = np.reshape(train, (pixels, 9, 12, train.shape[1]))\n"
   ]
  },
  {
   "cell_type": "code",
   "execution_count": 14,
   "metadata": {},
   "outputs": [],
   "source": [
    "var = np.copy(train[:, 0:, 0:, 4])"
   ]
  },
  {
   "cell_type": "code",
   "execution_count": 15,
   "metadata": {},
   "outputs": [
    {
     "data": {
      "text/plain": [
       "(244243, 9, 12)"
      ]
     },
     "execution_count": 15,
     "metadata": {},
     "output_type": "execute_result"
    }
   ],
   "source": [
    "var.shape"
   ]
  },
  {
   "cell_type": "code",
   "execution_count": 17,
   "metadata": {},
   "outputs": [
    {
     "data": {
      "text/plain": [
       "(244243, 12)"
      ]
     },
     "execution_count": 17,
     "metadata": {},
     "output_type": "execute_result"
    }
   ],
   "source": [
    "var[:, 3].shape"
   ]
  },
  {
   "cell_type": "code",
   "execution_count": 5,
   "metadata": {},
   "outputs": [
    {
     "data": {
      "text/plain": [
       "(26378244, 30)"
      ]
     },
     "execution_count": 5,
     "metadata": {},
     "output_type": "execute_result"
    }
   ],
   "source": [
    "import numpy as np\n",
    "df = np.load(\"../../data/new/custom_median.npy\")\n",
    "df.shape"
   ]
  },
  {
   "cell_type": "code",
   "execution_count": 6,
   "metadata": {},
   "outputs": [
    {
     "data": {
      "text/plain": [
       "False"
      ]
     },
     "execution_count": 6,
     "metadata": {},
     "output_type": "execute_result"
    }
   ],
   "source": [
    "np.any(np.isnan(df))"
   ]
  },
  {
   "cell_type": "code",
   "execution_count": 2,
   "metadata": {},
   "outputs": [
    {
     "name": "stdout",
     "output_type": "stream",
     "text": [
      "[ True  True  True False  True  True  True  True  True  True]\n"
     ]
    }
   ],
   "source": [
    "import numpy as np\n",
    "\n",
    "arr = np.array([[0, 0, 0],\n",
    "                [3, 3, 3],\n",
    "                [2, 2, 2],\n",
    "                [4, 9, 4],\n",
    "                [1, 1, 1],\n",
    "                [0, 0, 0],\n",
    "                [4, 4, 4],\n",
    "                [1, 1, 1],\n",
    "                [2, 2, 2],\n",
    "                [3, 3, 3]])\n",
    "\n",
    "# Check if all columns are same for each row\n",
    "result = np.all(arr == arr[:,0][:,None], axis=1)\n",
    "\n",
    "# Print the result\n",
    "print(result)\n"
   ]
  },
  {
   "cell_type": "markdown",
   "metadata": {},
   "source": []
  }
 ],
 "metadata": {
  "kernelspec": {
   "display_name": "base",
   "language": "python",
   "name": "python3"
  },
  "language_info": {
   "codemirror_mode": {
    "name": "ipython",
    "version": 3
   },
   "file_extension": ".py",
   "mimetype": "text/x-python",
   "name": "python",
   "nbconvert_exporter": "python",
   "pygments_lexer": "ipython3",
   "version": "3.9.12"
  },
  "orig_nbformat": 4,
  "vscode": {
   "interpreter": {
    "hash": "5ada4cf0cad2096cd5309648803c4307950250cf02ee0fe760781a5d29f65513"
   }
  }
 },
 "nbformat": 4,
 "nbformat_minor": 2
}
