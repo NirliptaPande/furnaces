{
 "cells": [
  {
   "cell_type": "code",
   "execution_count": 1,
   "metadata": {},
   "outputs": [],
   "source": [
    "import numpy as np"
   ]
  },
  {
   "cell_type": "code",
   "execution_count": 2,
   "metadata": {},
   "outputs": [
    {
     "data": {
      "text/plain": [
       "(26378244, 30)"
      ]
     },
     "execution_count": 2,
     "metadata": {},
     "output_type": "execute_result"
    }
   ],
   "source": [
    "arr = np.load('../../data/custom_median.npy')\n",
    "arr.shape"
   ]
  },
  {
   "cell_type": "code",
   "execution_count": 1,
   "metadata": {},
   "outputs": [
    {
     "data": {
      "text/plain": [
       "Index(['pftCrop', 'pftShrubBD', 'ign', 'faPAR', 'precip', 'temp_max'], dtype='object')"
      ]
     },
     "execution_count": 1,
     "metadata": {},
     "output_type": "execute_result"
    }
   ],
   "source": [
    "import pandas as pd\n",
    "df = pd.read_csv('../../data/annual_mean_base.csv')\n",
    "df.columns"
   ]
  },
  {
   "cell_type": "code",
   "execution_count": 2,
   "metadata": {},
   "outputs": [
    {
     "data": {
      "text/plain": [
       "(2198187, 6)"
      ]
     },
     "execution_count": 2,
     "metadata": {},
     "output_type": "execute_result"
    }
   ],
   "source": [
    "df.shape"
   ]
  },
  {
   "cell_type": "code",
   "execution_count": 3,
   "metadata": {},
   "outputs": [
    {
     "data": {
      "text/plain": [
       "244243.0"
      ]
     },
     "execution_count": 3,
     "metadata": {},
     "output_type": "execute_result"
    }
   ],
   "source": [
    "df.shape[0]/9"
   ]
  },
  {
   "cell_type": "code",
   "execution_count": 4,
   "metadata": {},
   "outputs": [],
   "source": [
    "mean = df.mean(axis = 1)"
   ]
  },
  {
   "cell_type": "code",
   "execution_count": 5,
   "metadata": {},
   "outputs": [
    {
     "data": {
      "text/plain": [
       "(2198187,)"
      ]
     },
     "execution_count": 5,
     "metadata": {},
     "output_type": "execute_result"
    }
   ],
   "source": [
    "mean.shape"
   ]
  },
  {
   "cell_type": "code",
   "execution_count": 8,
   "metadata": {},
   "outputs": [],
   "source": [
    "df.to_csv('../../data/all_mean.csv',index = False)"
   ]
  },
  {
   "cell_type": "code",
   "execution_count": 9,
   "metadata": {},
   "outputs": [
    {
     "data": {
      "text/html": [
       "<div>\n",
       "<style scoped>\n",
       "    .dataframe tbody tr th:only-of-type {\n",
       "        vertical-align: middle;\n",
       "    }\n",
       "\n",
       "    .dataframe tbody tr th {\n",
       "        vertical-align: top;\n",
       "    }\n",
       "\n",
       "    .dataframe thead th {\n",
       "        text-align: right;\n",
       "    }\n",
       "</style>\n",
       "<table border=\"1\" class=\"dataframe\">\n",
       "  <thead>\n",
       "    <tr style=\"text-align: right;\">\n",
       "      <th></th>\n",
       "      <th>pftCrop</th>\n",
       "      <th>pftShrubBD</th>\n",
       "      <th>ign</th>\n",
       "      <th>faPAR</th>\n",
       "      <th>precip</th>\n",
       "      <th>temp_max</th>\n",
       "    </tr>\n",
       "  </thead>\n",
       "  <tbody>\n",
       "    <tr>\n",
       "      <th>0</th>\n",
       "      <td>0.00037</td>\n",
       "      <td>0.014883</td>\n",
       "      <td>0.0</td>\n",
       "      <td>0.355189</td>\n",
       "      <td>823.126289</td>\n",
       "      <td>8.241667</td>\n",
       "    </tr>\n",
       "    <tr>\n",
       "      <th>1</th>\n",
       "      <td>0.00037</td>\n",
       "      <td>0.014883</td>\n",
       "      <td>0.0</td>\n",
       "      <td>0.358491</td>\n",
       "      <td>878.642670</td>\n",
       "      <td>9.066667</td>\n",
       "    </tr>\n",
       "    <tr>\n",
       "      <th>2</th>\n",
       "      <td>0.00037</td>\n",
       "      <td>0.014883</td>\n",
       "      <td>0.0</td>\n",
       "      <td>0.213130</td>\n",
       "      <td>738.668304</td>\n",
       "      <td>8.233334</td>\n",
       "    </tr>\n",
       "    <tr>\n",
       "      <th>3</th>\n",
       "      <td>0.00037</td>\n",
       "      <td>0.014883</td>\n",
       "      <td>0.0</td>\n",
       "      <td>0.201222</td>\n",
       "      <td>785.473183</td>\n",
       "      <td>8.633333</td>\n",
       "    </tr>\n",
       "    <tr>\n",
       "      <th>4</th>\n",
       "      <td>0.00037</td>\n",
       "      <td>0.014883</td>\n",
       "      <td>0.0</td>\n",
       "      <td>0.189196</td>\n",
       "      <td>1010.882393</td>\n",
       "      <td>8.033333</td>\n",
       "    </tr>\n",
       "  </tbody>\n",
       "</table>\n",
       "</div>"
      ],
      "text/plain": [
       "   pftCrop  pftShrubBD  ign     faPAR       precip  temp_max\n",
       "0  0.00037    0.014883  0.0  0.355189   823.126289  8.241667\n",
       "1  0.00037    0.014883  0.0  0.358491   878.642670  9.066667\n",
       "2  0.00037    0.014883  0.0  0.213130   738.668304  8.233334\n",
       "3  0.00037    0.014883  0.0  0.201222   785.473183  8.633333\n",
       "4  0.00037    0.014883  0.0  0.189196  1010.882393  8.033333"
      ]
     },
     "execution_count": 9,
     "metadata": {},
     "output_type": "execute_result"
    }
   ],
   "source": [
    "mean = pd.read_csv('../../data/all_mean.csv')\n",
    "mean.head()"
   ]
  },
  {
   "cell_type": "code",
   "execution_count": 10,
   "metadata": {},
   "outputs": [
    {
     "data": {
      "text/plain": [
       "(26378244, 30)"
      ]
     },
     "execution_count": 10,
     "metadata": {},
     "output_type": "execute_result"
    }
   ],
   "source": [
    "import numpy as np\n",
    "arr = np.load('../../data/custom_median.npy')\n",
    "arr.shape"
   ]
  },
  {
   "cell_type": "code",
   "execution_count": 11,
   "metadata": {},
   "outputs": [],
   "source": [
    "arr = arr.reshape((-1,108,30))"
   ]
  },
  {
   "cell_type": "code",
   "execution_count": 12,
   "metadata": {},
   "outputs": [
    {
     "data": {
      "text/plain": [
       "(244243, 108, 30)"
      ]
     },
     "execution_count": 12,
     "metadata": {},
     "output_type": "execute_result"
    }
   ],
   "source": [
    "arr.shape"
   ]
  },
  {
   "cell_type": "code",
   "execution_count": 23,
   "metadata": {},
   "outputs": [],
   "source": [
    "mean = np.mean(arr, axis = 1)"
   ]
  },
  {
   "cell_type": "code",
   "execution_count": 24,
   "metadata": {},
   "outputs": [
    {
     "data": {
      "text/plain": [
       "(244243, 30)"
      ]
     },
     "execution_count": 24,
     "metadata": {},
     "output_type": "execute_result"
    }
   ],
   "source": [
    "mean.shape"
   ]
  },
  {
   "cell_type": "markdown",
   "metadata": {},
   "source": []
  },
  {
   "cell_type": "code",
   "execution_count": 14,
   "metadata": {},
   "outputs": [
    {
     "data": {
      "text/plain": [
       "array(['lat 0', 'lon 1', 'time 2', 'road_density 3', 'agb 4', 'sm 5',\n",
       "       'pftCrop 6', 'pftHerb 7', 'pftShrubBD 8', 'pftShrubNE 9',\n",
       "       'pftTreeBD 10', 'pftTreeBE 11', 'pftTreeND 12', 'pftTreeNE 13',\n",
       "       'GDP_per_capita_PPP 14', 'ign 15', 'faPAR 16', 'LAI 17',\n",
       "       'vod_K_anomalies 18', 'primn 19', 'pet 20', 'wet 21', 'precip 22',\n",
       "       'pastr 23', 'Band1 24', 'pop_density 25',\n",
       "       'Distance_to_populated_areas 26', 'Diurnal temperature range 27',\n",
       "       'temp_max 28', 'Livestock 29'], dtype='<U30')"
      ]
     },
     "execution_count": 14,
     "metadata": {},
     "output_type": "execute_result"
    }
   ],
   "source": [
    "col = np.load('../../data/column_names.npy')\n",
    "col"
   ]
  },
  {
   "cell_type": "code",
   "execution_count": 15,
   "metadata": {},
   "outputs": [],
   "source": [
    "col = ['lat', 'lon', 'time', 'road_density', 'agb', 'sm',\n",
    "       'pftCrop ', 'pftHerb', 'pftShrubBD', 'pftShrubNE',\n",
    "       'pftTreeBD', 'pftTreeBE', 'pftTreeND', 'pftTreeNE',\n",
    "       'GDP', 'ign', 'faPAR', 'LAI',\n",
    "       'vod_K_anomalies', 'primn', 'pet', 'wet', 'precip',\n",
    "       'pastr', 'Band1', 'pop_density',\n",
    "       'Distance_to_populated_areas', 'dtr',\n",
    "       'tmax', 'livestock']"
   ]
  },
  {
   "cell_type": "code",
   "execution_count": 17,
   "metadata": {},
   "outputs": [
    {
     "data": {
      "text/plain": [
       "30"
      ]
     },
     "execution_count": 17,
     "metadata": {},
     "output_type": "execute_result"
    }
   ],
   "source": [
    "len(col)"
   ]
  },
  {
   "cell_type": "code",
   "execution_count": 25,
   "metadata": {},
   "outputs": [
    {
     "data": {
      "text/html": [
       "<div>\n",
       "<style scoped>\n",
       "    .dataframe tbody tr th:only-of-type {\n",
       "        vertical-align: middle;\n",
       "    }\n",
       "\n",
       "    .dataframe tbody tr th {\n",
       "        vertical-align: top;\n",
       "    }\n",
       "\n",
       "    .dataframe thead th {\n",
       "        text-align: right;\n",
       "    }\n",
       "</style>\n",
       "<table border=\"1\" class=\"dataframe\">\n",
       "  <thead>\n",
       "    <tr style=\"text-align: right;\">\n",
       "      <th></th>\n",
       "      <th>lat</th>\n",
       "      <th>lon</th>\n",
       "      <th>time</th>\n",
       "      <th>road_density</th>\n",
       "      <th>agb</th>\n",
       "      <th>sm</th>\n",
       "      <th>pftCrop</th>\n",
       "      <th>pftHerb</th>\n",
       "      <th>pftShrubBD</th>\n",
       "      <th>pftShrubNE</th>\n",
       "      <th>...</th>\n",
       "      <th>pet</th>\n",
       "      <th>wet</th>\n",
       "      <th>precip</th>\n",
       "      <th>pastr</th>\n",
       "      <th>Band1</th>\n",
       "      <th>pop_density</th>\n",
       "      <th>Distance_to_populated_areas</th>\n",
       "      <th>dtr</th>\n",
       "      <th>tmax</th>\n",
       "      <th>Livestock</th>\n",
       "    </tr>\n",
       "  </thead>\n",
       "  <tbody>\n",
       "    <tr>\n",
       "      <th>0</th>\n",
       "      <td>-55.75</td>\n",
       "      <td>-67.00</td>\n",
       "      <td>200707.0</td>\n",
       "      <td>0.0</td>\n",
       "      <td>2.546035</td>\n",
       "      <td>0.000000</td>\n",
       "      <td>0.000370</td>\n",
       "      <td>0.035766</td>\n",
       "      <td>0.014883</td>\n",
       "      <td>0.000000</td>\n",
       "      <td>...</td>\n",
       "      <td>1.301852</td>\n",
       "      <td>9.600000</td>\n",
       "      <td>69.128201</td>\n",
       "      <td>0.000000e+00</td>\n",
       "      <td>0.000000</td>\n",
       "      <td>-9999.000000</td>\n",
       "      <td>0.000000</td>\n",
       "      <td>6.883333</td>\n",
       "      <td>8.475000</td>\n",
       "      <td>0.0</td>\n",
       "    </tr>\n",
       "    <tr>\n",
       "      <th>1</th>\n",
       "      <td>-55.50</td>\n",
       "      <td>-68.00</td>\n",
       "      <td>200707.0</td>\n",
       "      <td>0.0</td>\n",
       "      <td>12.175016</td>\n",
       "      <td>0.028599</td>\n",
       "      <td>0.000000</td>\n",
       "      <td>0.110025</td>\n",
       "      <td>0.052926</td>\n",
       "      <td>0.000037</td>\n",
       "      <td>...</td>\n",
       "      <td>1.400375</td>\n",
       "      <td>9.467059</td>\n",
       "      <td>63.122047</td>\n",
       "      <td>9.194717e-02</td>\n",
       "      <td>16.373036</td>\n",
       "      <td>-6671.900622</td>\n",
       "      <td>0.000000</td>\n",
       "      <td>6.329630</td>\n",
       "      <td>8.428704</td>\n",
       "      <td>0.0</td>\n",
       "    </tr>\n",
       "    <tr>\n",
       "      <th>2</th>\n",
       "      <td>-55.50</td>\n",
       "      <td>-67.25</td>\n",
       "      <td>200707.0</td>\n",
       "      <td>0.0</td>\n",
       "      <td>8.896142</td>\n",
       "      <td>0.000000</td>\n",
       "      <td>0.000000</td>\n",
       "      <td>0.000000</td>\n",
       "      <td>0.000000</td>\n",
       "      <td>0.000000</td>\n",
       "      <td>...</td>\n",
       "      <td>1.357032</td>\n",
       "      <td>9.888234</td>\n",
       "      <td>55.862763</td>\n",
       "      <td>0.000000e+00</td>\n",
       "      <td>0.000000</td>\n",
       "      <td>-9999.000000</td>\n",
       "      <td>0.000000</td>\n",
       "      <td>6.883333</td>\n",
       "      <td>8.475000</td>\n",
       "      <td>0.0</td>\n",
       "    </tr>\n",
       "    <tr>\n",
       "      <th>3</th>\n",
       "      <td>-55.25</td>\n",
       "      <td>-69.50</td>\n",
       "      <td>200707.0</td>\n",
       "      <td>0.0</td>\n",
       "      <td>23.858570</td>\n",
       "      <td>0.031292</td>\n",
       "      <td>0.000000</td>\n",
       "      <td>0.205769</td>\n",
       "      <td>0.035595</td>\n",
       "      <td>0.000810</td>\n",
       "      <td>...</td>\n",
       "      <td>1.571759</td>\n",
       "      <td>8.524861</td>\n",
       "      <td>58.967910</td>\n",
       "      <td>4.058153e-07</td>\n",
       "      <td>0.000000</td>\n",
       "      <td>0.061183</td>\n",
       "      <td>95843.007812</td>\n",
       "      <td>6.427778</td>\n",
       "      <td>7.910185</td>\n",
       "      <td>0.0</td>\n",
       "    </tr>\n",
       "    <tr>\n",
       "      <th>4</th>\n",
       "      <td>-55.25</td>\n",
       "      <td>-69.25</td>\n",
       "      <td>200707.0</td>\n",
       "      <td>0.0</td>\n",
       "      <td>24.163124</td>\n",
       "      <td>0.030322</td>\n",
       "      <td>0.000617</td>\n",
       "      <td>0.252517</td>\n",
       "      <td>0.056320</td>\n",
       "      <td>0.000486</td>\n",
       "      <td>...</td>\n",
       "      <td>1.562037</td>\n",
       "      <td>8.636204</td>\n",
       "      <td>57.485869</td>\n",
       "      <td>0.000000e+00</td>\n",
       "      <td>0.000000</td>\n",
       "      <td>-1109.011070</td>\n",
       "      <td>79927.492188</td>\n",
       "      <td>6.746296</td>\n",
       "      <td>8.099074</td>\n",
       "      <td>0.0</td>\n",
       "    </tr>\n",
       "  </tbody>\n",
       "</table>\n",
       "<p>5 rows × 30 columns</p>\n",
       "</div>"
      ],
      "text/plain": [
       "     lat    lon      time  road_density        agb        sm  pftCrop   \\\n",
       "0 -55.75 -67.00  200707.0           0.0   2.546035  0.000000  0.000370   \n",
       "1 -55.50 -68.00  200707.0           0.0  12.175016  0.028599  0.000000   \n",
       "2 -55.50 -67.25  200707.0           0.0   8.896142  0.000000  0.000000   \n",
       "3 -55.25 -69.50  200707.0           0.0  23.858570  0.031292  0.000000   \n",
       "4 -55.25 -69.25  200707.0           0.0  24.163124  0.030322  0.000617   \n",
       "\n",
       "    pftHerb  pftShrubBD  pftShrubNE  ...       pet       wet     precip  \\\n",
       "0  0.035766    0.014883    0.000000  ...  1.301852  9.600000  69.128201   \n",
       "1  0.110025    0.052926    0.000037  ...  1.400375  9.467059  63.122047   \n",
       "2  0.000000    0.000000    0.000000  ...  1.357032  9.888234  55.862763   \n",
       "3  0.205769    0.035595    0.000810  ...  1.571759  8.524861  58.967910   \n",
       "4  0.252517    0.056320    0.000486  ...  1.562037  8.636204  57.485869   \n",
       "\n",
       "          pastr      Band1  pop_density  Distance_to_populated_areas  \\\n",
       "0  0.000000e+00   0.000000 -9999.000000                     0.000000   \n",
       "1  9.194717e-02  16.373036 -6671.900622                     0.000000   \n",
       "2  0.000000e+00   0.000000 -9999.000000                     0.000000   \n",
       "3  4.058153e-07   0.000000     0.061183                 95843.007812   \n",
       "4  0.000000e+00   0.000000 -1109.011070                 79927.492188   \n",
       "\n",
       "        dtr      tmax  Livestock  \n",
       "0  6.883333  8.475000        0.0  \n",
       "1  6.329630  8.428704        0.0  \n",
       "2  6.883333  8.475000        0.0  \n",
       "3  6.427778  7.910185        0.0  \n",
       "4  6.746296  8.099074        0.0  \n",
       "\n",
       "[5 rows x 30 columns]"
      ]
     },
     "execution_count": 25,
     "metadata": {},
     "output_type": "execute_result"
    }
   ],
   "source": [
    "import pandas as pd\n",
    "df = pd.DataFrame(mean, columns=col)\n",
    "df.head()"
   ]
  },
  {
   "cell_type": "code",
   "execution_count": 22,
   "metadata": {},
   "outputs": [],
   "source": [
    "df.to_csv('../../data/all_mean.csv',index=False)"
   ]
  },
  {
   "cell_type": "code",
   "execution_count": null,
   "metadata": {},
   "outputs": [],
   "source": []
  }
 ],
 "metadata": {
  "kernelspec": {
   "display_name": "env",
   "language": "python",
   "name": "python3"
  },
  "language_info": {
   "codemirror_mode": {
    "name": "ipython",
    "version": 3
   },
   "file_extension": ".py",
   "mimetype": "text/x-python",
   "name": "python",
   "nbconvert_exporter": "python",
   "pygments_lexer": "ipython3",
   "version": "3.10.6"
  },
  "orig_nbformat": 4
 },
 "nbformat": 4,
 "nbformat_minor": 2
}
