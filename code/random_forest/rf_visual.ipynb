{
 "cells": [
  {
   "cell_type": "code",
   "execution_count": 1,
   "metadata": {},
   "outputs": [],
   "source": [
    "import numpy as np\n",
    "import matplotlib.pyplot as plt\n",
    "%matplotlib inline\n",
    "    #0: 34 Livestock\n",
    "    #1: 35 road_density\n",
    "    #2: 37 pop_density\n",
    "    #3: 14 GDP"
   ]
  },
  {
   "cell_type": "code",
   "execution_count": 2,
   "metadata": {},
   "outputs": [],
   "source": [
    "import joblib"
   ]
  },
  {
   "cell_type": "code",
   "execution_count": 3,
   "metadata": {},
   "outputs": [],
   "source": [
    "road_density =  joblib.load(\"../output/feature1.joblib\")"
   ]
  },
  {
   "cell_type": "code",
   "execution_count": 4,
   "metadata": {},
   "outputs": [],
   "source": [
    "from sklearn import tree\n",
    "fn = ['lat 0', 'lon 1', 'agb 3', 'pft_fracCover 4', 'sm 5', 'pftCrop 6',\n",
    "       'pftHerb 7', 'pftShrubBD 8', 'pftShrubNE 9', 'pftTreeBD 10', 'pftTreeBE 11',\n",
    "       'pftTreeND 12', 'pftTreeNE 13', 'Distance_to_populated_areas 16',\n",
    "       'fPAR 17', 'vod_K_anomalies 20', 'WDPA_fracCover 27', 'dtr 28', \n",
    "       'pet 29', 'tmx 30', 'wet 31', 'Biome 32', 'precip 33']\n",
    "cn = ['ign']"
   ]
  },
  {
   "cell_type": "markdown",
   "metadata": {},
   "source": [
    "['lat 0', 'lon 1', 'time 2', 'agb 3', 'pft_fracCover 4', 'sm 5', 'pftCrop 6',\n",
    "       'pftHerb 7', 'pftShrubBD 8', 'pftShrubNE 9', 'pftTreeBD 10', 'pftTreeBE 11',\n",
    "       'pftTreeND 12', 'pftTreeNE 13', 'GDP 14', 'ign 15', 'Distance_to_populated_areas 16',\n",
    "       'fPAR 17', 'LAI 18', 'NLDI 19', 'vod_K_anomalies 20', 'FPAR_12mon 21', 'LAI_12mon 22',\n",
    "       'Vod_k_anomaly_12mon 23', 'FPAR_06mon 24', 'LAI_06mon 25', 'Vod_k_anomaly_06mon 26',\n",
    "       'WDPA_fracCover 27', 'dtr 28', 'pet 29', 'tmx 30', 'wet 31', 'Biome 32', 'precip 33',\n",
    "       'Livestock 34', 'road_density 35', 'topo 36', 'pop_density 37']\n",
    "np.delete(x_train,[2,14,15,18,19,21,22,23,24,25,26,34,35,36,37],axis = 1)\n",
    "['lat 0', 'lon 1', 'agb 3', 'pft_fracCover 4', 'sm 5', 'pftCrop 6',\n",
    "       'pftHerb 7', 'pftShrubBD 8', 'pftShrubNE 9', 'pftTreeBD 10', 'pftTreeBE 11',\n",
    "       'pftTreeND 12', 'pftTreeNE 13', 'Distance_to_populated_areas 16',\n",
    "       'fPAR 17', 'vod_K_anomalies 20', 'WDPA_fracCover 27', 'dtr 28', \n",
    "       'pet 29', 'tmx 30', 'wet 31', 'Biome 32', 'precip 33']"
   ]
  },
  {
   "cell_type": "code",
   "execution_count": 6,
   "metadata": {},
   "outputs": [
    {
     "ename": "KeyboardInterrupt",
     "evalue": "",
     "output_type": "error",
     "traceback": [
      "\u001b[0;31m---------------------------------------------------------------------------\u001b[0m",
      "\u001b[0;31mKeyboardInterrupt\u001b[0m                         Traceback (most recent call last)",
      "\u001b[1;32m/home/npande/furnaces/code/rf_visual.ipynb Cell 6\u001b[0m in \u001b[0;36m<cell line: 2>\u001b[0;34m()\u001b[0m\n\u001b[1;32m      <a href='vscode-notebook-cell:/home/npande/furnaces/code/rf_visual.ipynb#W4sZmlsZQ%3D%3D?line=0'>1</a>\u001b[0m fig, axes \u001b[39m=\u001b[39m plt\u001b[39m.\u001b[39msubplots(nrows \u001b[39m=\u001b[39m \u001b[39m1\u001b[39m,ncols \u001b[39m=\u001b[39m \u001b[39m1\u001b[39m,figsize \u001b[39m=\u001b[39m (\u001b[39m4\u001b[39m,\u001b[39m4\u001b[39m), dpi\u001b[39m=\u001b[39m\u001b[39m800\u001b[39m)\n\u001b[0;32m----> <a href='vscode-notebook-cell:/home/npande/furnaces/code/rf_visual.ipynb#W4sZmlsZQ%3D%3D?line=1'>2</a>\u001b[0m tree\u001b[39m.\u001b[39;49mplot_tree(road_density\u001b[39m.\u001b[39;49mestimators_[\u001b[39m0\u001b[39;49m],\n\u001b[1;32m      <a href='vscode-notebook-cell:/home/npande/furnaces/code/rf_visual.ipynb#W4sZmlsZQ%3D%3D?line=2'>3</a>\u001b[0m                filled \u001b[39m=\u001b[39;49m \u001b[39mTrue\u001b[39;49;00m);\n\u001b[1;32m      <a href='vscode-notebook-cell:/home/npande/furnaces/code/rf_visual.ipynb#W4sZmlsZQ%3D%3D?line=3'>4</a>\u001b[0m fig\u001b[39m.\u001b[39msuptitle(\u001b[39m'\u001b[39m\u001b[39mRoad Density + Base Model\u001b[39m\u001b[39m'\u001b[39m)\n\u001b[1;32m      <a href='vscode-notebook-cell:/home/npande/furnaces/code/rf_visual.ipynb#W4sZmlsZQ%3D%3D?line=4'>5</a>\u001b[0m plt\u001b[39m.\u001b[39mshow()\n",
      "File \u001b[0;32m~/anaconda3/lib/python3.9/site-packages/sklearn/tree/_export.py:195\u001b[0m, in \u001b[0;36mplot_tree\u001b[0;34m(decision_tree, max_depth, feature_names, class_names, label, filled, impurity, node_ids, proportion, rounded, precision, ax, fontsize)\u001b[0m\n\u001b[1;32m    180\u001b[0m check_is_fitted(decision_tree)\n\u001b[1;32m    182\u001b[0m exporter \u001b[39m=\u001b[39m _MPLTreeExporter(\n\u001b[1;32m    183\u001b[0m     max_depth\u001b[39m=\u001b[39mmax_depth,\n\u001b[1;32m    184\u001b[0m     feature_names\u001b[39m=\u001b[39mfeature_names,\n\u001b[0;32m   (...)\u001b[0m\n\u001b[1;32m    193\u001b[0m     fontsize\u001b[39m=\u001b[39mfontsize,\n\u001b[1;32m    194\u001b[0m )\n\u001b[0;32m--> 195\u001b[0m \u001b[39mreturn\u001b[39;00m exporter\u001b[39m.\u001b[39;49mexport(decision_tree, ax\u001b[39m=\u001b[39;49max)\n",
      "File \u001b[0;32m~/anaconda3/lib/python3.9/site-packages/sklearn/tree/_export.py:677\u001b[0m, in \u001b[0;36m_MPLTreeExporter.export\u001b[0;34m(self, decision_tree, ax)\u001b[0m\n\u001b[1;32m    674\u001b[0m renderer \u001b[39m=\u001b[39m ax\u001b[39m.\u001b[39mfigure\u001b[39m.\u001b[39mcanvas\u001b[39m.\u001b[39mget_renderer()\n\u001b[1;32m    676\u001b[0m \u001b[39mfor\u001b[39;00m ann \u001b[39min\u001b[39;00m anns:\n\u001b[0;32m--> 677\u001b[0m     ann\u001b[39m.\u001b[39;49mupdate_bbox_position_size(renderer)\n\u001b[1;32m    679\u001b[0m \u001b[39mif\u001b[39;00m \u001b[39mself\u001b[39m\u001b[39m.\u001b[39mfontsize \u001b[39mis\u001b[39;00m \u001b[39mNone\u001b[39;00m:\n\u001b[1;32m    680\u001b[0m     \u001b[39m# get figure to data transform\u001b[39;00m\n\u001b[1;32m    681\u001b[0m     \u001b[39m# adjust fontsize to avoid overlap\u001b[39;00m\n\u001b[1;32m    682\u001b[0m     \u001b[39m# get max box width and height\u001b[39;00m\n\u001b[1;32m    683\u001b[0m     extents \u001b[39m=\u001b[39m [ann\u001b[39m.\u001b[39mget_bbox_patch()\u001b[39m.\u001b[39mget_window_extent() \u001b[39mfor\u001b[39;00m ann \u001b[39min\u001b[39;00m anns]\n",
      "File \u001b[0;32m~/anaconda3/lib/python3.9/site-packages/matplotlib/text.py:508\u001b[0m, in \u001b[0;36mText.update_bbox_position_size\u001b[0;34m(self, renderer)\u001b[0m\n\u001b[1;32m    505\u001b[0m posy \u001b[39m=\u001b[39m \u001b[39mfloat\u001b[39m(\u001b[39mself\u001b[39m\u001b[39m.\u001b[39mconvert_yunits(\u001b[39mself\u001b[39m\u001b[39m.\u001b[39m_y))\n\u001b[1;32m    506\u001b[0m posx, posy \u001b[39m=\u001b[39m \u001b[39mself\u001b[39m\u001b[39m.\u001b[39mget_transform()\u001b[39m.\u001b[39mtransform((posx, posy))\n\u001b[0;32m--> 508\u001b[0m x_box, y_box, w_box, h_box \u001b[39m=\u001b[39m _get_textbox(\u001b[39mself\u001b[39;49m, renderer)\n\u001b[1;32m    509\u001b[0m \u001b[39mself\u001b[39m\u001b[39m.\u001b[39m_bbox_patch\u001b[39m.\u001b[39mset_bounds(\u001b[39m0.\u001b[39m, \u001b[39m0.\u001b[39m, w_box, h_box)\n\u001b[1;32m    510\u001b[0m \u001b[39mself\u001b[39m\u001b[39m.\u001b[39m_bbox_patch\u001b[39m.\u001b[39mset_transform(\n\u001b[1;32m    511\u001b[0m     Affine2D()\n\u001b[1;32m    512\u001b[0m     \u001b[39m.\u001b[39mrotate_deg(\u001b[39mself\u001b[39m\u001b[39m.\u001b[39mget_rotation())\n\u001b[1;32m    513\u001b[0m     \u001b[39m.\u001b[39mtranslate(posx \u001b[39m+\u001b[39m x_box, posy \u001b[39m+\u001b[39m y_box))\n",
      "File \u001b[0;32m~/anaconda3/lib/python3.9/site-packages/matplotlib/text.py:71\u001b[0m, in \u001b[0;36m_get_textbox\u001b[0;34m(text, renderer)\u001b[0m\n\u001b[1;32m     68\u001b[0m theta \u001b[39m=\u001b[39m np\u001b[39m.\u001b[39mdeg2rad(text\u001b[39m.\u001b[39mget_rotation())\n\u001b[1;32m     69\u001b[0m tr \u001b[39m=\u001b[39m Affine2D()\u001b[39m.\u001b[39mrotate(\u001b[39m-\u001b[39mtheta)\n\u001b[0;32m---> 71\u001b[0m _, parts, d \u001b[39m=\u001b[39m text\u001b[39m.\u001b[39;49m_get_layout(renderer)\n\u001b[1;32m     73\u001b[0m \u001b[39mfor\u001b[39;00m t, wh, x, y \u001b[39min\u001b[39;00m parts:\n\u001b[1;32m     74\u001b[0m     w, h \u001b[39m=\u001b[39m wh\n",
      "File \u001b[0;32m~/anaconda3/lib/python3.9/site-packages/matplotlib/text.py:358\u001b[0m, in \u001b[0;36mText._get_layout\u001b[0;34m(self, renderer)\u001b[0m\n\u001b[1;32m    355\u001b[0m height \u001b[39m=\u001b[39m ymax \u001b[39m-\u001b[39m ymin\n\u001b[1;32m    357\u001b[0m \u001b[39m# get the rotation matrix\u001b[39;00m\n\u001b[0;32m--> 358\u001b[0m M \u001b[39m=\u001b[39m Affine2D()\u001b[39m.\u001b[39;49mrotate_deg(\u001b[39mself\u001b[39;49m\u001b[39m.\u001b[39;49mget_rotation())\n\u001b[1;32m    360\u001b[0m \u001b[39m# now offset the individual text lines within the box\u001b[39;00m\n\u001b[1;32m    361\u001b[0m malign \u001b[39m=\u001b[39m \u001b[39mself\u001b[39m\u001b[39m.\u001b[39m_get_multialignment()\n",
      "File \u001b[0;32m~/anaconda3/lib/python3.9/site-packages/matplotlib/transforms.py:2020\u001b[0m, in \u001b[0;36mAffine2D.rotate_deg\u001b[0;34m(self, degrees)\u001b[0m\n\u001b[1;32m   2012\u001b[0m \u001b[39mdef\u001b[39;00m \u001b[39mrotate_deg\u001b[39m(\u001b[39mself\u001b[39m, degrees):\n\u001b[1;32m   2013\u001b[0m     \u001b[39m\"\"\"\u001b[39;00m\n\u001b[1;32m   2014\u001b[0m \u001b[39m    Add a rotation (in degrees) to this transform in place.\u001b[39;00m\n\u001b[1;32m   2015\u001b[0m \n\u001b[0;32m   (...)\u001b[0m\n\u001b[1;32m   2018\u001b[0m \u001b[39m    and :meth:`scale`.\u001b[39;00m\n\u001b[1;32m   2019\u001b[0m \u001b[39m    \"\"\"\u001b[39;00m\n\u001b[0;32m-> 2020\u001b[0m     \u001b[39mreturn\u001b[39;00m \u001b[39mself\u001b[39;49m\u001b[39m.\u001b[39;49mrotate(math\u001b[39m.\u001b[39;49mradians(degrees))\n",
      "File \u001b[0;32m~/anaconda3/lib/python3.9/site-packages/matplotlib/transforms.py:2006\u001b[0m, in \u001b[0;36mAffine2D.rotate\u001b[0;34m(self, theta)\u001b[0m\n\u001b[1;32m   2004\u001b[0m a \u001b[39m=\u001b[39m math\u001b[39m.\u001b[39mcos(theta)\n\u001b[1;32m   2005\u001b[0m b \u001b[39m=\u001b[39m math\u001b[39m.\u001b[39msin(theta)\n\u001b[0;32m-> 2006\u001b[0m rotate_mtx \u001b[39m=\u001b[39m np\u001b[39m.\u001b[39;49marray([[a, \u001b[39m-\u001b[39;49mb, \u001b[39m0.0\u001b[39;49m], [b, a, \u001b[39m0.0\u001b[39;49m], [\u001b[39m0.0\u001b[39;49m, \u001b[39m0.0\u001b[39;49m, \u001b[39m1.0\u001b[39;49m]],\n\u001b[1;32m   2007\u001b[0m                       \u001b[39mfloat\u001b[39;49m)\n\u001b[1;32m   2008\u001b[0m \u001b[39mself\u001b[39m\u001b[39m.\u001b[39m_mtx \u001b[39m=\u001b[39m np\u001b[39m.\u001b[39mdot(rotate_mtx, \u001b[39mself\u001b[39m\u001b[39m.\u001b[39m_mtx)\n\u001b[1;32m   2009\u001b[0m \u001b[39mself\u001b[39m\u001b[39m.\u001b[39minvalidate()\n",
      "\u001b[0;31mKeyboardInterrupt\u001b[0m: "
     ]
    }
   ],
   "source": [
    "fig, axes = plt.subplots(nrows = 1,ncols = 1,figsize = (4,4), dpi=800)\n",
    "tree.plot_tree(road_density.estimators_[0],\n",
    "               filled = True)\n",
    "fig.suptitle('Road Density + Base Model')\n",
    "plt.show()\n",
    "plt.close()"
   ]
  },
  {
   "cell_type": "code",
   "execution_count": null,
   "metadata": {},
   "outputs": [],
   "source": [
    "fig, axes = plt.subplots(nrows = 1,ncols = 1,figsize = (4,4), dpi=800)\n",
    "tree.plot_tree(road_density.estimators_[0],\n",
    "               feature_names = fn, \n",
    "               class_names=cn,\n",
    "               filled = True)\n",
    "fig.suptitle('Road Density + Base Model')\n",
    "plt.show()\n"
   ]
  },
  {
   "cell_type": "code",
   "execution_count": null,
   "metadata": {},
   "outputs": [],
   "source": [
    "plt.close()"
   ]
  },
  {
   "cell_type": "code",
   "execution_count": 1,
   "metadata": {},
   "outputs": [
    {
     "data": {
      "text/plain": [
       "(26378244, 38)"
      ]
     },
     "execution_count": 1,
     "metadata": {},
     "output_type": "execute_result"
    }
   ],
   "source": [
    "import numpy as np\n",
    "train = np.load('../../data/train_sans_ocean.npy')\n",
    "train.shape"
   ]
  },
  {
   "cell_type": "code",
   "execution_count": 2,
   "metadata": {},
   "outputs": [],
   "source": [
    "ign = train[:,15]"
   ]
  },
  {
   "cell_type": "code",
   "execution_count": 3,
   "metadata": {},
   "outputs": [
    {
     "data": {
      "text/plain": [
       "array([0., 0., 0., ..., 0., 0., 0.])"
      ]
     },
     "execution_count": 3,
     "metadata": {},
     "output_type": "execute_result"
    }
   ],
   "source": [
    "np.nan_to_num(ign, copy =False, nan =0)"
   ]
  },
  {
   "cell_type": "code",
   "execution_count": 4,
   "metadata": {},
   "outputs": [],
   "source": [
    "ign = np.where(train[:,15]==0)\n",
    "no_ign = np.nonzero(train[:,15])\n"
   ]
  },
  {
   "cell_type": "code",
   "execution_count": 7,
   "metadata": {},
   "outputs": [
    {
     "data": {
      "text/plain": [
       "(25037988,)"
      ]
     },
     "execution_count": 7,
     "metadata": {},
     "output_type": "execute_result"
    }
   ],
   "source": [
    "ign[0].shape"
   ]
  },
  {
   "cell_type": "code",
   "execution_count": 5,
   "metadata": {},
   "outputs": [
    {
     "data": {
      "text/plain": [
       "(1340256,)"
      ]
     },
     "execution_count": 5,
     "metadata": {},
     "output_type": "execute_result"
    }
   ],
   "source": [
    "no_ign[0].shape"
   ]
  },
  {
   "cell_type": "code",
   "execution_count": 8,
   "metadata": {},
   "outputs": [
    {
     "data": {
      "text/plain": [
       "(1340256,)"
      ]
     },
     "execution_count": 8,
     "metadata": {},
     "output_type": "execute_result"
    }
   ],
   "source": [
    "no_ign[0].shape"
   ]
  },
  {
   "cell_type": "code",
   "execution_count": 2,
   "metadata": {},
   "outputs": [
    {
     "data": {
      "text/plain": [
       "(0,)"
      ]
     },
     "execution_count": 2,
     "metadata": {},
     "output_type": "execute_result"
    }
   ],
   "source": [
    "ign = np.where(train[:,15]==0)\n",
    "no_ign = np.nonzero(train[:,15])\n",
    "\n",
    "#ign_train  = train_x[ign]\n",
    "#no_ign_train = train_x[no_ign]\n",
    "\n",
    "ign[0].shape"
   ]
  },
  {
   "cell_type": "code",
   "execution_count": 3,
   "metadata": {},
   "outputs": [
    {
     "data": {
      "text/plain": [
       "(26378244,)"
      ]
     },
     "execution_count": 3,
     "metadata": {},
     "output_type": "execute_result"
    }
   ],
   "source": [
    "no_ign[0].shape"
   ]
  },
  {
   "cell_type": "code",
   "execution_count": 13,
   "metadata": {},
   "outputs": [
    {
     "data": {
      "text/plain": [
       "18.68149666929303"
      ]
     },
     "execution_count": 13,
     "metadata": {},
     "output_type": "execute_result"
    }
   ],
   "source": [
    "ign[0].shape[0]/no_ign[0].shape[0]"
   ]
  },
  {
   "cell_type": "code",
   "execution_count": 9,
   "metadata": {},
   "outputs": [
    {
     "data": {
      "text/plain": [
       "1340256"
      ]
     },
     "execution_count": 9,
     "metadata": {},
     "output_type": "execute_result"
    }
   ],
   "source": [
    "noign = np.where(train[:,15]!=0)\n",
    "no_ign[0].shape[0]"
   ]
  },
  {
   "cell_type": "code",
   "execution_count": null,
   "metadata": {},
   "outputs": [],
   "source": [
    "new_no_ign = train[np.random.choice(no_ign[0],ign[0].shape,replace = False)]\n",
    "new_ign = train[np.random.choice(ign[0],ign[0].shape[0],replace = False)]\n",
    "x_train = np.stack((new_ign,new_no_ign),axis = 1)\n",
    "np.random.shuffle(x_train)"
   ]
  },
  {
   "cell_type": "code",
   "execution_count": null,
   "metadata": {},
   "outputs": [],
   "source": []
  },
  {
   "cell_type": "code",
   "execution_count": null,
   "metadata": {},
   "outputs": [],
   "source": []
  },
  {
   "cell_type": "code",
   "execution_count": null,
   "metadata": {},
   "outputs": [],
   "source": []
  },
  {
   "cell_type": "code",
   "execution_count": 19,
   "metadata": {},
   "outputs": [
    {
     "data": {
      "text/plain": [
       "25037988"
      ]
     },
     "execution_count": 19,
     "metadata": {},
     "output_type": "execute_result"
    }
   ],
   "source": [
    "inds[0].shape[0]"
   ]
  },
  {
   "cell_type": "code",
   "execution_count": 9,
   "metadata": {},
   "outputs": [],
   "source": [
    "inds_no = np.where(train[:,15]!=0)"
   ]
  },
  {
   "cell_type": "code",
   "execution_count": 11,
   "metadata": {},
   "outputs": [
    {
     "data": {
      "text/plain": [
       "1"
      ]
     },
     "execution_count": 11,
     "metadata": {},
     "output_type": "execute_result"
    }
   ],
   "source": [
    "len(inds)"
   ]
  },
  {
   "cell_type": "code",
   "execution_count": 16,
   "metadata": {},
   "outputs": [
    {
     "data": {
      "text/plain": [
       "array([[-5.57500000e+01, -6.70000000e+01,  2.00301500e+05,\n",
       "         2.20695457e+01,  1.56014338e-01,  0.00000000e+00,\n",
       "         3.70377791e-04,  3.57659161e-02,  1.48828998e-02,\n",
       "         0.00000000e+00,  1.03704989e-01,  1.22224691e-03,\n",
       "         0.00000000e+00,  0.00000000e+00,  1.91550547e+04,\n",
       "         0.00000000e+00,  0.00000000e+00,  7.19999969e-01,\n",
       "         2.00000000e+00,  1.00999999e+00,  0.00000000e+00,\n",
       "         7.19999969e-01,  2.00000000e+00,  0.00000000e+00,\n",
       "         7.19999969e-01,  2.00000000e+00,  0.00000000e+00,\n",
       "         1.00000000e+00,  6.50000000e+00,  2.20000005e+00,\n",
       "         1.06999998e+01,  1.60799999e+01,  0.00000000e+00,\n",
       "         1.20339996e+02,  0.00000000e+00,  0.00000000e+00,\n",
       "         0.00000000e+00,  0.00000000e+00],\n",
       "       [-5.57500000e+01, -6.70000000e+01,  2.00302500e+05,\n",
       "         2.20695457e+01,  1.56014338e-01,  0.00000000e+00,\n",
       "         3.70377791e-04,  3.57659161e-02,  1.48828998e-02,\n",
       "         0.00000000e+00,  1.03704989e-01,  1.22224691e-03,\n",
       "         0.00000000e+00,  0.00000000e+00,  1.91550547e+04,\n",
       "         0.00000000e+00,  0.00000000e+00,  7.16250002e-01,\n",
       "         2.36249995e+00,  1.00999999e+00,  0.00000000e+00,\n",
       "         7.16250002e-01,  2.36249995e+00,  0.00000000e+00,\n",
       "         7.16250002e-01,  2.36249995e+00,  0.00000000e+00,\n",
       "         1.00000000e+00,  6.40000010e+00,  1.89999998e+00,\n",
       "         1.11999998e+01,  5.69000006e+00,  0.00000000e+00,\n",
       "         6.59199982e+01,  0.00000000e+00,  0.00000000e+00,\n",
       "         0.00000000e+00,  0.00000000e+00]])"
      ]
     },
     "execution_count": 16,
     "metadata": {},
     "output_type": "execute_result"
    }
   ],
   "source": [
    "train[[0,1]]"
   ]
  },
  {
   "cell_type": "code",
   "execution_count": 34,
   "metadata": {},
   "outputs": [],
   "source": [
    "ign = 10\n",
    "no_ign = 15\n",
    "x = lambda ign: ign if ign>no_ign else no_ign"
   ]
  },
  {
   "cell_type": "code",
   "execution_count": 38,
   "metadata": {},
   "outputs": [
    {
     "data": {
      "text/plain": [
       "15"
      ]
     },
     "execution_count": 38,
     "metadata": {},
     "output_type": "execute_result"
    }
   ],
   "source": [
    "x(ign)"
   ]
  },
  {
   "cell_type": "code",
   "execution_count": null,
   "metadata": {},
   "outputs": [],
   "source": [
    "f = lambda x,y: x if x>y else y,x"
   ]
  },
  {
   "cell_type": "code",
   "execution_count": 8,
   "metadata": {},
   "outputs": [
    {
     "data": {
      "text/plain": [
       "array([0, 1, 2, 3, 4])"
      ]
     },
     "execution_count": 8,
     "metadata": {},
     "output_type": "execute_result"
    }
   ],
   "source": [
    "temp = np.arange(30)\n",
    "temp = np.reshape(temp,(3,2,5))\n",
    "temp[0][0]"
   ]
  },
  {
   "cell_type": "code",
   "execution_count": 5,
   "metadata": {},
   "outputs": [
    {
     "data": {
      "text/plain": [
       "array([ 0,  1,  2,  3,  4,  5,  6,  7,  8,  9, 10, 11, 12, 13, 14, 15, 16,\n",
       "       17, 18, 19, 20, 21, 22, 23, 24, 25, 26, 27, 28, 29])"
      ]
     },
     "execution_count": 5,
     "metadata": {},
     "output_type": "execute_result"
    }
   ],
   "source": [
    "temp.flatten()"
   ]
  },
  {
   "cell_type": "code",
   "execution_count": 2,
   "metadata": {},
   "outputs": [],
   "source": [
    "import numpy as np"
   ]
  },
  {
   "cell_type": "code",
   "execution_count": 3,
   "metadata": {},
   "outputs": [
    {
     "data": {
      "text/plain": [
       "38"
      ]
     },
     "execution_count": 3,
     "metadata": {},
     "output_type": "execute_result"
    }
   ],
   "source": [
    "train_x = np.load(\"../../data/train_monthmean.npy\")\n",
    "train_x.shape[-1]"
   ]
  },
  {
   "cell_type": "code",
   "execution_count": 14,
   "metadata": {},
   "outputs": [],
   "source": [
    "train_x = train_x.reshape(-1,38)"
   ]
  },
  {
   "cell_type": "code",
   "execution_count": 15,
   "metadata": {},
   "outputs": [
    {
     "data": {
      "text/plain": [
       "(26378244, 38)"
      ]
     },
     "execution_count": 15,
     "metadata": {},
     "output_type": "execute_result"
    }
   ],
   "source": [
    "train_x.shape"
   ]
  },
  {
   "cell_type": "code",
   "execution_count": 17,
   "metadata": {},
   "outputs": [
    {
     "data": {
      "text/plain": [
       "True"
      ]
     },
     "execution_count": 17,
     "metadata": {},
     "output_type": "execute_result"
    }
   ],
   "source": [
    "np.any(np.count_nonzero(train_x[:,2]))"
   ]
  },
  {
   "cell_type": "code",
   "execution_count": 5,
   "metadata": {},
   "outputs": [
    {
     "ename": "IndexError",
     "evalue": "index 15 is out of bounds for axis 1 with size 9",
     "output_type": "error",
     "traceback": [
      "\u001b[0;31m---------------------------------------------------------------------------\u001b[0m",
      "\u001b[0;31mIndexError\u001b[0m                                Traceback (most recent call last)",
      "\u001b[1;32m/home/npande/furnaces/code/random_forest/rf_visual.ipynb Cell 35\u001b[0m in \u001b[0;36m<cell line: 4>\u001b[0;34m()\u001b[0m\n\u001b[1;32m      <a href='vscode-notebook-cell:/home/npande/furnaces/code/random_forest/rf_visual.ipynb#X55sZmlsZQ%3D%3D?line=0'>1</a>\u001b[0m \u001b[39m\"\"\"\u001b[39;00m\n\u001b[1;32m      <a href='vscode-notebook-cell:/home/npande/furnaces/code/random_forest/rf_visual.ipynb#X55sZmlsZQ%3D%3D?line=1'>2</a>\u001b[0m \u001b[39mBalancing the dataset because RF is really sensitive to it\u001b[39;00m\n\u001b[1;32m      <a href='vscode-notebook-cell:/home/npande/furnaces/code/random_forest/rf_visual.ipynb#X55sZmlsZQ%3D%3D?line=2'>3</a>\u001b[0m \u001b[39m\"\"\"\u001b[39;00m\n\u001b[0;32m----> <a href='vscode-notebook-cell:/home/npande/furnaces/code/random_forest/rf_visual.ipynb#X55sZmlsZQ%3D%3D?line=3'>4</a>\u001b[0m no_ign \u001b[39m=\u001b[39m np\u001b[39m.\u001b[39mwhere(train_x[:,\u001b[39m15\u001b[39;49m]\u001b[39m==\u001b[39m\u001b[39m0\u001b[39m)\n\u001b[1;32m      <a href='vscode-notebook-cell:/home/npande/furnaces/code/random_forest/rf_visual.ipynb#X55sZmlsZQ%3D%3D?line=4'>5</a>\u001b[0m ign \u001b[39m=\u001b[39m np\u001b[39m.\u001b[39mnonzero(train_x[:,\u001b[39m15\u001b[39m])\n\u001b[1;32m      <a href='vscode-notebook-cell:/home/npande/furnaces/code/random_forest/rf_visual.ipynb#X55sZmlsZQ%3D%3D?line=6'>7</a>\u001b[0m \u001b[39m#ign_train  = train_x[ign]\u001b[39;00m\n\u001b[1;32m      <a href='vscode-notebook-cell:/home/npande/furnaces/code/random_forest/rf_visual.ipynb#X55sZmlsZQ%3D%3D?line=7'>8</a>\u001b[0m \u001b[39m#no_ign_train = train_x[no_ign]\u001b[39;00m\n",
      "\u001b[0;31mIndexError\u001b[0m: index 15 is out of bounds for axis 1 with size 9"
     ]
    }
   ],
   "source": [
    "\"\"\"\n",
    "Balancing the dataset because RF is really sensitive to it\n",
    "\"\"\"\n",
    "no_ign = np.where(train_x[:,15]==0)\n",
    "ign = np.nonzero(train_x[:,15])\n",
    "\n",
    "#ign_train  = train_x[ign]\n",
    "#no_ign_train = train_x[no_ign]\n",
    "\"\"\"I have absolutely no idea why ign is larger than no ign and if I should run the model or not\"\"\"\n",
    "\n",
    "new_no_ign = train_x[np.random.choice(no_ign[0],ign[0].shape,replace = False)]\n",
    "new_ign = train_x[np.random.choice(ign[0],ign[0].shape[0],replace = False)]"
   ]
  },
  {
   "cell_type": "code",
   "execution_count": 3,
   "metadata": {},
   "outputs": [
    {
     "data": {
      "text/plain": [
       "(26378244, 38)"
      ]
     },
     "execution_count": 3,
     "metadata": {},
     "output_type": "execute_result"
    }
   ],
   "source": [
    "train_x.shape"
   ]
  },
  {
   "cell_type": "code",
   "execution_count": 4,
   "metadata": {},
   "outputs": [
    {
     "data": {
      "text/plain": [
       "(1340256, 38)"
      ]
     },
     "execution_count": 4,
     "metadata": {},
     "output_type": "execute_result"
    }
   ],
   "source": [
    "new_ign.shape"
   ]
  },
  {
   "cell_type": "code",
   "execution_count": 11,
   "metadata": {},
   "outputs": [],
   "source": [
    "x_train = np.concatenate((new_ign,new_no_ign),axis = 0)"
   ]
  },
  {
   "cell_type": "code",
   "execution_count": 12,
   "metadata": {},
   "outputs": [
    {
     "data": {
      "text/plain": [
       "(2680512, 38)"
      ]
     },
     "execution_count": 12,
     "metadata": {},
     "output_type": "execute_result"
    }
   ],
   "source": [
    "x_train.shape"
   ]
  },
  {
   "cell_type": "code",
   "execution_count": 8,
   "metadata": {},
   "outputs": [
    {
     "data": {
      "text/plain": [
       "(1340256, 38)"
      ]
     },
     "execution_count": 8,
     "metadata": {},
     "output_type": "execute_result"
    }
   ],
   "source": [
    "new_no_ign.shape"
   ]
  },
  {
   "cell_type": "code",
   "execution_count": 18,
   "metadata": {},
   "outputs": [
    {
     "data": {
      "text/plain": [
       "array([[[ 0,  1,  2,  3,  4],\n",
       "        [ 5,  6,  7,  8,  9],\n",
       "        [10, 11, 12, 13, 14]],\n",
       "\n",
       "       [[15, 16, 17, 18, 19],\n",
       "        [20, 21, 22, 23, 24],\n",
       "        [25, 26, 27, 28, 29]]])"
      ]
     },
     "execution_count": 18,
     "metadata": {},
     "output_type": "execute_result"
    }
   ],
   "source": [
    "arr = np.arange(30)\n",
    "arr = np.reshape(arr, (2,3,5))\n",
    "arr\n"
   ]
  },
  {
   "cell_type": "code",
   "execution_count": 27,
   "metadata": {},
   "outputs": [
    {
     "data": {
      "text/plain": [
       "array([0, 1, 2, 3, 4])"
      ]
     },
     "execution_count": 27,
     "metadata": {},
     "output_type": "execute_result"
    }
   ],
   "source": [
    "arr[0,:]"
   ]
  },
  {
   "cell_type": "code",
   "execution_count": 25,
   "metadata": {},
   "outputs": [],
   "source": [
    "arr = np.reshape(arr,(6,5))"
   ]
  },
  {
   "cell_type": "code",
   "execution_count": 28,
   "metadata": {},
   "outputs": [
    {
     "data": {
      "text/plain": [
       "array([0, 1, 2, 3, 4])"
      ]
     },
     "execution_count": 28,
     "metadata": {},
     "output_type": "execute_result"
    }
   ],
   "source": [
    "arr[0,:]"
   ]
  },
  {
   "cell_type": "code",
   "execution_count": 1,
   "metadata": {},
   "outputs": [
    {
     "data": {
      "text/plain": [
       "'\\nBalancing the dataset because RF is really sensitive to it\\n'"
      ]
     },
     "execution_count": 1,
     "metadata": {},
     "output_type": "execute_result"
    }
   ],
   "source": [
    "import numpy as np\n",
    "train_x = np.load(\"../../data/train_zeros.npy\")\n",
    "\n",
    "\"\"\"\n",
    "Balancing the dataset because RF is really sensitive to it\n",
    "\"\"\"\n"
   ]
  },
  {
   "cell_type": "code",
   "execution_count": 2,
   "metadata": {},
   "outputs": [
    {
     "data": {
      "text/plain": [
       "(26378244, 38)"
      ]
     },
     "execution_count": 2,
     "metadata": {},
     "output_type": "execute_result"
    }
   ],
   "source": [
    "train_x.shape"
   ]
  },
  {
   "cell_type": "code",
   "execution_count": 3,
   "metadata": {},
   "outputs": [
    {
     "data": {
      "text/plain": [
       "(2680512, 38)"
      ]
     },
     "execution_count": 3,
     "metadata": {},
     "output_type": "execute_result"
    }
   ],
   "source": [
    "no_ign = np.where(train_x[:,15]==0)\n",
    "ign = np.nonzero(train_x[:,15])\n",
    "new_no_ign = train_x[np.random.choice(no_ign[0],ign[0].shape,replace = False)]\n",
    "new_ign = train_x[np.random.choice(ign[0],ign[0].shape[0],replace = False)]\n",
    "x_train = np.concatenate((new_ign,new_no_ign),axis = 0)\n",
    "x_train.shape"
   ]
  },
  {
   "cell_type": "code",
   "execution_count": 4,
   "metadata": {},
   "outputs": [
    {
     "data": {
      "text/plain": [
       "(2680512, 38)"
      ]
     },
     "execution_count": 4,
     "metadata": {},
     "output_type": "execute_result"
    }
   ],
   "source": [
    "np.random.shuffle(x_train)\n",
    "x_train.shape"
   ]
  },
  {
   "cell_type": "code",
   "execution_count": 5,
   "metadata": {},
   "outputs": [
    {
     "data": {
      "text/plain": [
       "(2680512, 27)"
      ]
     },
     "execution_count": 5,
     "metadata": {},
     "output_type": "execute_result"
    }
   ],
   "source": [
    "train_y = x_train[:,15].copy()\n",
    "x_train = np.delete(x_train,[2,15,18,19,21,22,23,24,25,26,36],axis = 1)\n",
    "x_train.shape"
   ]
  },
  {
   "cell_type": "code",
   "execution_count": 6,
   "metadata": {},
   "outputs": [
    {
     "data": {
      "text/plain": [
       "(2680512, 23)"
      ]
     },
     "execution_count": 6,
     "metadata": {},
     "output_type": "execute_result"
    }
   ],
   "source": [
    "x_train = np.delete(x_train,[13,24,25,26],axis = 1)\n",
    "x_train.shape"
   ]
  },
  {
   "cell_type": "code",
   "execution_count": 2,
   "metadata": {},
   "outputs": [],
   "source": [
    "import numpy as np\n",
    "x_train = np.load(\"../../data/zeros_balanced.npy\")\n"
   ]
  },
  {
   "cell_type": "code",
   "execution_count": 3,
   "metadata": {},
   "outputs": [
    {
     "data": {
      "text/plain": [
       "(2680512, 38)"
      ]
     },
     "execution_count": 3,
     "metadata": {},
     "output_type": "execute_result"
    }
   ],
   "source": [
    "x_train.shape"
   ]
  },
  {
   "cell_type": "code",
   "execution_count": 4,
   "metadata": {},
   "outputs": [
    {
     "data": {
      "text/plain": [
       "(2680512, 24)"
      ]
     },
     "execution_count": 4,
     "metadata": {},
     "output_type": "execute_result"
    }
   ],
   "source": [
    "x_train = np.delete(x_train,[0,1,2,15,18,19,21,22,23,24,25,26,32,36],axis = 1)#Train with the economic factors\n",
    "x_train.shape"
   ]
  },
  {
   "cell_type": "code",
   "execution_count": 6,
   "metadata": {},
   "outputs": [],
   "source": [
    "x_train = np.delete(x_train,[3,11,12,15,21,22,23],axis = 1)\n"
   ]
  },
  {
   "cell_type": "code",
   "execution_count": 7,
   "metadata": {},
   "outputs": [
    {
     "data": {
      "text/plain": [
       "(2680512, 17)"
      ]
     },
     "execution_count": 7,
     "metadata": {},
     "output_type": "execute_result"
    }
   ],
   "source": [
    "x_train.shape"
   ]
  },
  {
   "cell_type": "markdown",
   "metadata": {},
   "source": [
    "| Old | New | Economic Factors|\n",
    "| --- | ----------- | --------- |\n",
    "| lat 0 | - |\n",
    "| lon 1 | - |\n",
    "| time 2 | - |\n",
    "| agb 3 | 0 |\n",
    "| pft_fracCover 4 | 1 |\n",
    "| sm 5 | 2 |\n",
    "| pftCrop 6 | 3 | True |\n",
    "| pftHerb 7 | 4 |\n",
    "| pftShrubBD 8 | 5 |\n",
    "| pftShrubNE 9 | 6 |\n",
    "| pftTreeBD 10 | 7 |\n",
    "| pftTreeBE 11 | 8 |\n",
    "| pftTreeND 12 | 9 |\n",
    "| pftTreeNE 13 | 10 |\n",
    "| GDP 14 | 11 | True |\n",
    "| ign 15 | - |\n",
    "| Distance_to_populated_areas 16 | 12 | True |\n",
    "| fPAR 17 | 13 |\n",
    "| LAI 18 | - |\n",
    "| NLDI 19 | - |\n",
    "| vod_K_anomalies 20 | 14 |\n",
    "| FPAR_12mon 21 | - |\n",
    "| LAI_12mon 22 | - |\n",
    "| Vod_k_anomaly_12mon 23 | - |\n",
    "| FPAR_06mon 24 | - |\n",
    "| LAI_06mon 25 | - |\n",
    "| Vod_k_anomaly_06mon 26 | - |\n",
    "| WDPA_fracCover 27 | 15 | True |\n",
    "| dtr 28 | 16 |\n",
    "| pet 29 | 17 |\n",
    "| tmx 30 | 18 |\n",
    "| wet 31 | 19 |\n",
    "| Biome 32 | - |\n",
    "| precip 33 | 20 |\n",
    "| Livestock 34 | 21 | True |\n",
    "| road_density 35 | 22 | True |\n",
    "| topo 36 | - |\n",
    "| pop_density 37| 23 | True |\n"
   ]
  },
  {
   "cell_type": "markdown",
   "metadata": {},
   "source": [
    "pftCrop 3, GDP 11, Distance_to_populated_areas 12, WDPA_fracCover15, livestock 22, road_density 23, pop_density 24"
   ]
  },
  {
   "cell_type": "code",
   "execution_count": 1,
   "metadata": {},
   "outputs": [],
   "source": [
    "import numpy as np\n",
    "x_test  = np.load('../../data/test_monthmean.npy')"
   ]
  },
  {
   "cell_type": "code",
   "execution_count": 2,
   "metadata": {},
   "outputs": [
    {
     "data": {
      "text/plain": [
       "(244243, 5, 12, 38)"
      ]
     },
     "execution_count": 2,
     "metadata": {},
     "output_type": "execute_result"
    }
   ],
   "source": [
    "x_test.shape"
   ]
  },
  {
   "cell_type": "code",
   "execution_count": 3,
   "metadata": {},
   "outputs": [],
   "source": [
    "new_x = x_test.reshape((x_test.shape[0],-1,x_test.shape[-1]))"
   ]
  },
  {
   "cell_type": "code",
   "execution_count": 4,
   "metadata": {},
   "outputs": [
    {
     "data": {
      "text/plain": [
       "(244243, 60, 38)"
      ]
     },
     "execution_count": 4,
     "metadata": {},
     "output_type": "execute_result"
    }
   ],
   "source": [
    "new_x.shape"
   ]
  },
  {
   "cell_type": "code",
   "execution_count": 5,
   "metadata": {},
   "outputs": [
    {
     "data": {
      "text/plain": [
       "(244243, 57, 38)"
      ]
     },
     "execution_count": 5,
     "metadata": {},
     "output_type": "execute_result"
    }
   ],
   "source": [
    "new_x = np.delete(new_x,(57,58,59),axis = 1)\n",
    "new_x.shape"
   ]
  },
  {
   "cell_type": "code",
   "execution_count": 6,
   "metadata": {},
   "outputs": [
    {
     "data": {
      "text/plain": [
       "(13921851, 38)"
      ]
     },
     "execution_count": 6,
     "metadata": {},
     "output_type": "execute_result"
    }
   ],
   "source": [
    "x_test = np.reshape(new_x,(-1,38))\n",
    "x_test.shape"
   ]
  },
  {
   "cell_type": "code",
   "execution_count": 7,
   "metadata": {},
   "outputs": [
    {
     "name": "stderr",
     "output_type": "stream",
     "text": [
      "/home/npande/anaconda3/lib/python3.9/site-packages/scipy/__init__.py:146: UserWarning: A NumPy version >=1.16.5 and <1.23.0 is required for this version of SciPy (detected version 1.23.4\n",
      "  warnings.warn(f\"A NumPy version >={np_minversion} and <{np_maxversion}\"\n"
     ]
    }
   ],
   "source": [
    "import joblib\n",
    "x_test = np.delete(x_test,[0,1,2,15,18,19,21,22,23,24,25,26,32,36],axis = 1)\n",
    "model = joblib.load('../../output/month_mean/feature_all.joblib')"
   ]
  },
  {
   "cell_type": "code",
   "execution_count": 8,
   "metadata": {},
   "outputs": [],
   "source": [
    "y_pred = model.predict(x_test)\n",
    "y_pred_mean = np.mean(np.reshape(y_pred,(-1,57)),axis = 1)"
   ]
  },
  {
   "cell_type": "code",
   "execution_count": 9,
   "metadata": {},
   "outputs": [
    {
     "data": {
      "text/plain": [
       "(244243,)"
      ]
     },
     "execution_count": 9,
     "metadata": {},
     "output_type": "execute_result"
    }
   ],
   "source": [
    "y_pred_mean.shape"
   ]
  },
  {
   "cell_type": "code",
   "execution_count": null,
   "metadata": {},
   "outputs": [],
   "source": [
    "x = np.linspace(-89.5,90,720)\n",
    "y = np.linspace(-179.5,180,1440)\n",
    "lons,lats = np.meshgrid(y,x)\n",
    "grid = np.zeros((720,1440))\n",
    "y_pred_mean = np.reshape(y_pred_mean,(-1,1))\n",
    "y_pred_mean = np.append(lon.reshape(-1,1),y_pred_mean,axis = 1)#lon\n",
    "y_pred_mean = np.append(lat.reshape(-1,1),y_pred_mean,axis = 1)#lat\n",
    "for i in range(y_pred_mean.shape[0]):\n",
    "    grid[int(y_pred_mean[:,0][i]+89.5)*4][int(y_pred_mean[:,1][i]+179.5)*4] = y_pred_mean[:,2][i]\n",
    "fig = plt.figure(figsize=(35,30), edgecolor='w')\n",
    "map = Basemap(projection='cyl',resolution='c',llcrnrlat=-90,urcrnrlat=90,llcrnrlon=-180,urcrnrlon=180)\n",
    "map.pcolormesh(lons,lats,grid,cmap = 'plasma')\n",
    "map.drawcoastlines(color='lightgray')\n",
    "map.drawparallels(np.arange(-90.,91.,15.),color='grey')\n",
    "map.drawmeridians(np.arange(-180.,181.,30.),color='grey')\n",
    "plt.title(\" Predicted Ignitions - all\")\n",
    "plt.colorbar()\n",
    "plt.savefig('../output/month_mean/all')\n",
    "plt.close()\n",
    "del(model)\n",
    "gc.collect()"
   ]
  },
  {
   "cell_type": "code",
   "execution_count": 1,
   "metadata": {},
   "outputs": [],
   "source": [
    "import numpy as np\n",
    "x_test  = np.load('../../data/test_monthmean.npy')\n",
    "x_test = x_test.reshape((x_test.shape[0],-1,x_test.shape[-1]))\n",
    "x_test = np.delete(x_test,(57,58,59),axis = 1)\n",
    "x_test = x_test.reshape((-1,38))\n",
    "y_test = np.copy(x_test[:,15])"
   ]
  },
  {
   "cell_type": "code",
   "execution_count": 2,
   "metadata": {},
   "outputs": [],
   "source": [
    "\n",
    "echoes = x_test[:,[6,14,16,27,34,35,37]].copy()\n",
    "space_time = np.copy(x_test[:,[0,1,2]])\n"
   ]
  },
  {
   "cell_type": "code",
   "execution_count": 4,
   "metadata": {},
   "outputs": [
    {
     "data": {
      "text/plain": [
       "(13921851, 7)"
      ]
     },
     "execution_count": 4,
     "metadata": {},
     "output_type": "execute_result"
    }
   ],
   "source": [
    "echoes.shape"
   ]
  },
  {
   "cell_type": "code",
   "execution_count": 5,
   "metadata": {},
   "outputs": [
    {
     "data": {
      "text/plain": [
       "(13921851, 3)"
      ]
     },
     "execution_count": 5,
     "metadata": {},
     "output_type": "execute_result"
    }
   ],
   "source": [
    "space_time.shape"
   ]
  },
  {
   "cell_type": "code",
   "execution_count": 2,
   "metadata": {},
   "outputs": [
    {
     "data": {
      "text/plain": [
       "array([0, 0, 0, 1])"
      ]
     },
     "execution_count": 2,
     "metadata": {},
     "output_type": "execute_result"
    }
   ],
   "source": [
    "import numpy as np\n",
    "nmse = np.load('../../output/month_mean/err_all_none.npy')\n",
    "nmse"
   ]
  },
  {
   "cell_type": "code",
   "execution_count": 11,
   "metadata": {},
   "outputs": [
    {
     "data": {
      "text/plain": [
       "array([[4.49140382],\n",
       "       [4.12411109],\n",
       "       [4.5824738 ],\n",
       "       [4.56954992],\n",
       "       [4.23056604],\n",
       "       [4.50833409],\n",
       "       [4.53426178]])"
      ]
     },
     "execution_count": 11,
     "metadata": {},
     "output_type": "execute_result"
    }
   ],
   "source": [
    "mean_err = np.load('../../output/zeros/err_mean.npy')\n",
    "mean_err\n"
   ]
  },
  {
   "cell_type": "markdown",
   "metadata": {},
   "source": [
    "pftCrop, GDP, Distance to populated areas, WDPA_frac_Cover, Livestock, road_density, pop_density"
   ]
  },
  {
   "cell_type": "code",
   "execution_count": 12,
   "metadata": {},
   "outputs": [
    {
     "data": {
      "text/plain": [
       "array([0, 3, 0, 4])"
      ]
     },
     "execution_count": 12,
     "metadata": {},
     "output_type": "execute_result"
    }
   ],
   "source": [
    "err_all = np.load('../../output/zeros/err_all_none.npy')#all_nmse,all_mean, none_nmse,none_mean\n",
    "err_all"
   ]
  },
  {
   "cell_type": "code",
   "execution_count": null,
   "metadata": {},
   "outputs": [],
   "source": []
  }
 ],
 "metadata": {
  "kernelspec": {
   "display_name": "Python 3.9.12 ('base')",
   "language": "python",
   "name": "python3"
  },
  "language_info": {
   "codemirror_mode": {
    "name": "ipython",
    "version": 3
   },
   "file_extension": ".py",
   "mimetype": "text/x-python",
   "name": "python",
   "nbconvert_exporter": "python",
   "pygments_lexer": "ipython3",
   "version": "3.9.12"
  },
  "orig_nbformat": 4,
  "vscode": {
   "interpreter": {
    "hash": "5ada4cf0cad2096cd5309648803c4307950250cf02ee0fe760781a5d29f65513"
   }
  }
 },
 "nbformat": 4,
 "nbformat_minor": 2
}
