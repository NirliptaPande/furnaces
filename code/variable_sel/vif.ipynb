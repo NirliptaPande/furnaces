{
 "cells": [
  {
   "cell_type": "code",
   "execution_count": 29,
   "metadata": {},
   "outputs": [
    {
     "data": {
      "text/plain": [
       "(2680512, 39)"
      ]
     },
     "execution_count": 29,
     "metadata": {},
     "output_type": "execute_result"
    }
   ],
   "source": [
    "import numpy as np\n",
    "from tabulate import tabulate\n",
    "from statsmodels.stats.outliers_influence import variance_inflation_factor\n",
    "from statsmodels.tools.tools import add_constant\n",
    "np.set_printoptions(formatter={'float_kind':'{:f}'.format})\n",
    "train = np.load('../../data/zeros_balanced.npy')\n",
    "train = add_constant(train)\n",
    "train.shape"
   ]
  },
  {
   "cell_type": "code",
   "execution_count": 8,
   "metadata": {},
   "outputs": [
    {
     "data": {
      "text/plain": [
       "[621873.8662082697,\n",
       " 2.5977179357894635,\n",
       " 1.43149182711645,\n",
       " 1.0175736727970126,\n",
       " 1.3769190412835455,\n",
       " 217.62175698069765,\n",
       " 1.459108675712771,\n",
       " 201.27021578329655,\n",
       " 49.79377325923806,\n",
       " 27.776931626150883,\n",
       " 8.86358315889261,\n",
       " 41.35366908193628,\n",
       " 93.37128788842185,\n",
       " 12.83411105351585,\n",
       " 27.227985800231036,\n",
       " 1.7572230767082746,\n",
       " 1.243857461238602,\n",
       " 1.8705276385538605,\n",
       " 187.28854057051987,\n",
       " 1001.3428796538593,\n",
       " 1.3812910444646225,\n",
       " 4.692917756345978,\n",
       " inf,\n",
       " inf,\n",
       " inf,\n",
       " inf,\n",
       " inf,\n",
       " inf,\n",
       " 1.1077167416848908,\n",
       " 2.2359209249774987,\n",
       " 5.534078167076062,\n",
       " 8.801638935645588,\n",
       " 2.787680844522125,\n",
       " 1.7696193788550645,\n",
       " 2.2548118436147466,\n",
       " 1.2857319919720474,\n",
       " 1.167387343988518,\n",
       " 1.1299925538513966,\n",
       " 1.0992589661781746]"
      ]
     },
     "execution_count": 8,
     "metadata": {},
     "output_type": "execute_result"
    }
   ],
   "source": [
    "vif = [variance_inflation_factor(train, i) for i in range(train.shape[1])]\n",
    "vif"
   ]
  },
  {
   "cell_type": "code",
   "execution_count": 10,
   "metadata": {},
   "outputs": [
    {
     "data": {
      "text/plain": [
       "39"
      ]
     },
     "execution_count": 10,
     "metadata": {},
     "output_type": "execute_result"
    }
   ],
   "source": [
    "len(vif)"
   ]
  },
  {
   "cell_type": "code",
   "execution_count": 11,
   "metadata": {},
   "outputs": [],
   "source": [
    "vif = vif[:-1]"
   ]
  },
  {
   "cell_type": "code",
   "execution_count": 12,
   "metadata": {},
   "outputs": [
    {
     "data": {
      "text/plain": [
       "38"
      ]
     },
     "execution_count": 12,
     "metadata": {},
     "output_type": "execute_result"
    }
   ],
   "source": [
    "len(vif)"
   ]
  },
  {
   "cell_type": "code",
   "execution_count": 20,
   "metadata": {},
   "outputs": [
    {
     "name": "stdout",
     "output_type": "stream",
     "text": [
      "Features                              VIF\n",
      "---------------------------  ------------\n",
      "lat                          621874\n",
      "lon                               2.59772\n",
      "time                              1.43149\n",
      "agb                               1.01757\n",
      "pft_fracCover                     1.37692\n",
      "sm                              217.622\n",
      "pftCrop                           1.45911\n",
      "pftHerb                         201.27\n",
      "pftShrubBD                       49.7938\n",
      "pftShrubNE                       27.7769\n",
      "pftTreeBD                         8.86358\n",
      "pftTreeBE                        41.3537\n",
      "pftTreeND                        93.3713\n",
      "pftTreeNE                        12.8341\n",
      "GDP                              27.228\n",
      "ign                               1.75722\n",
      "Distance_to_populated_areas       1.24386\n",
      "fPAR                              1.87053\n",
      "LAI                             187.289\n",
      "NLDI                           1001.34\n",
      "vod_K_anomalies                   1.38129\n",
      "FPAR_12mon                        4.69292\n",
      "LAI_12mon                       inf\n",
      "Vod_k_anomaly_12mon             inf\n",
      "FPAR_06mon                      inf\n",
      "LAI_06mon                       inf\n",
      "Vod_k_anomaly_06mon             inf\n",
      "WDPA_fracCover                  inf\n",
      "dtr                               1.10772\n",
      "pet                               2.23592\n",
      "tmx                               5.53408\n",
      "wet                               8.80164\n",
      "Biome                             2.78768\n",
      "precip                            1.76962\n",
      "Livestock                         2.25481\n",
      "road_density                      1.28573\n",
      "topo                              1.16739\n",
      "pop_density                       1.12999\n"
     ]
    }
   ],
   "source": [
    "\n",
    "res = dict(zip(['lat', 'lon', 'time', 'agb', 'pft_fracCover', 'sm', 'pftCrop',\n",
    "       'pftHerb', 'pftShrubBD', 'pftShrubNE', 'pftTreeBD', 'pftTreeBE',\n",
    "       'pftTreeND', 'pftTreeNE', 'GDP', 'ign', 'Distance_to_populated_areas',\n",
    "       'fPAR', 'LAI', 'NLDI', 'vod_K_anomalies', 'FPAR_12mon', 'LAI_12mon',\n",
    "       'Vod_k_anomaly_12mon', 'FPAR_06mon', 'LAI_06mon', 'Vod_k_anomaly_06mon',\n",
    "       'WDPA_fracCover', 'dtr', 'pet', 'tmx', 'wet', 'Biome', 'precip',\n",
    "       'Livestock', 'road_density', 'topo', 'pop_density'],vif))\n",
    "res\n",
    "print(tabulate(res.items(),headers = ['Features','VIF']))"
   ]
  },
  {
   "cell_type": "code",
   "execution_count": 25,
   "metadata": {},
   "outputs": [
    {
     "data": {
      "text/plain": [
       "(2680512, 23)"
      ]
     },
     "execution_count": 25,
     "metadata": {},
     "output_type": "execute_result"
    }
   ],
   "source": [
    "train = np.delete(train,[0,1,2,15,21,22,23,24,25,26,6,14,16,34,35,37],axis = 1)\n",
    "train.shape"
   ]
  },
  {
   "cell_type": "code",
   "execution_count": 26,
   "metadata": {},
   "outputs": [
    {
     "name": "stdout",
     "output_type": "stream",
     "text": [
      "Features                          VIF\n",
      "---------------------------  --------\n",
      "agb                          73.6404\n",
      "pft_fracCover                 1.49147\n",
      "sm                           92.2521\n",
      "pftHerb                      16.0342\n",
      "pftShrubBD                    9.60254\n",
      "pftShrubNE                    4.79724\n",
      "pftTreeBD                     5.64117\n",
      "pftTreeBE                     4.9592\n",
      "pftTreeND                     8.06343\n",
      "pftTreeNE                     1.65299\n",
      "Distance_to_populated_areas   2.4418\n",
      "fPAR                         36.6338\n",
      "LAI                          26.3869\n",
      "NLDI                         49.6813\n",
      "vod_K_anomalies               1.02718\n",
      "WDPA_fracCover                1.36788\n",
      "dtr                          26.3697\n",
      "pet                          21.0702\n",
      "tmx                          20.5622\n",
      "wet                           4.65993\n",
      "Biome                         2.36635\n",
      "precip                        1.30403\n"
     ]
    },
    {
     "data": {
      "text/plain": [
       "[73.64044672511997,\n",
       " 1.4914708403037111,\n",
       " 92.2521251145778,\n",
       " 16.034226956075972,\n",
       " 9.60254398354044,\n",
       " 4.797238743450455,\n",
       " 5.641170724528412,\n",
       " 4.959196809196944,\n",
       " 8.063431739183777,\n",
       " 1.6529948295301002,\n",
       " 2.4417983998955233,\n",
       " 36.63375061026587,\n",
       " 26.38685937857386,\n",
       " 49.68133187588468,\n",
       " 1.0271755607924329,\n",
       " 1.3678780529914558,\n",
       " 26.36968329395057,\n",
       " 21.070231928349834,\n",
       " 20.562246175167548,\n",
       " 4.659925217400254,\n",
       " 2.3663540720877227,\n",
       " 1.3040293698089396]"
      ]
     },
     "execution_count": 26,
     "metadata": {},
     "output_type": "execute_result"
    }
   ],
   "source": [
    "vif = [variance_inflation_factor(train, i) for i in range(train.shape[1])]\n",
    "vif = vif[:-1]\n",
    "res = dict(zip(['agb', 'pft_fracCover', 'sm', 'pftHerb', 'pftShrubBD', 'pftShrubNE', 'pftTreeBD', 'pftTreeBE',\n",
    "       'pftTreeND', 'pftTreeNE', 'fPAR', 'LAI', 'NLDI', 'vod_K_anomalies', 'WDPA_fracCover', \n",
    "       'dtr', 'pet', 'tmx', 'wet', 'Biome', 'precip', 'pop_density'],vif))\n",
    "res\n",
    "print(tabulate(res.items(),headers = ['Features','VIF']))"
   ]
  },
  {
   "cell_type": "code",
   "execution_count": 32,
   "metadata": {},
   "outputs": [
    {
     "name": "stdout",
     "output_type": "stream",
     "text": [
      "Features              VIF\n",
      "---------------  --------\n",
      "agb              73.6404\n",
      "pft_fracCover     1.49147\n",
      "sm               92.2521\n",
      "pftHerb          16.0342\n",
      "pftShrubBD        9.60254\n",
      "pftShrubNE        4.79724\n",
      "pftTreeBD         5.64117\n",
      "pftTreeBE         4.9592\n",
      "pftTreeND         8.06343\n",
      "pftTreeNE         1.65299\n",
      "fPAR              2.4418\n",
      "LAI              36.6338\n",
      "NLDI             26.3869\n",
      "vod_K_anomalies  49.6813\n",
      "WDPA_fracCover    1.02718\n",
      "dtr               1.36788\n",
      "pet              26.3697\n",
      "tmx              21.0702\n",
      "wet              20.5622\n",
      "Biome             4.65993\n",
      "precip            2.36635\n",
      "topo              1.30403\n"
     ]
    }
   ],
   "source": [
    "res = dict(zip(['agb', 'pft_fracCover', 'sm', 'pftHerb', 'pftShrubBD', 'pftShrubNE', 'pftTreeBD', 'pftTreeBE',\n",
    "       'pftTreeND', 'pftTreeNE', 'fPAR', 'LAI', 'NLDI', 'vod_K_anomalies', 'WDPA_fracCover', \n",
    "       'dtr', 'pet', 'tmx', 'wet', 'Biome', 'precip', 'topo'],vif))\n",
    "res\n",
    "print(tabulate(res.items(),headers = ['Features','VIF']))"
   ]
  },
  {
   "cell_type": "code",
   "execution_count": 28,
   "metadata": {},
   "outputs": [
    {
     "data": {
      "text/plain": [
       "22"
      ]
     },
     "execution_count": 28,
     "metadata": {},
     "output_type": "execute_result"
    }
   ],
   "source": [
    "len(vif)"
   ]
  },
  {
   "cell_type": "code",
   "execution_count": 8,
   "metadata": {},
   "outputs": [
    {
     "data": {
      "text/plain": [
       "(38,)"
      ]
     },
     "execution_count": 8,
     "metadata": {},
     "output_type": "execute_result"
    }
   ],
   "source": [
    "vif.shape"
   ]
  },
  {
   "cell_type": "markdown",
   "metadata": {},
   "source": [
    "['lat', 'lon', 'time', 'agb', 'pft_fracCover', 'sm', 'pftCrop',\n",
    "       'pftHerb', 'pftShrubBD', 'pftShrubNE', 'pftTreeBD', 'pftTreeBE',\n",
    "       'pftTreeND', 'pftTreeNE', 'GDP', 'ign', 'Distance_to_populated_areas',\n",
    "       'fPAR', 'LAI', 'NLDI', 'vod_K_anomalies', 'FPAR_12mon', 'LAI_12mon',\n",
    "       'Vod_k_anomaly_12mon', 'FPAR_06mon', 'LAI_06mon', 'Vod_k_anomaly_06mon',\n",
    "       'WDPA_fracCover', 'dtr', 'pet', 'tmx', 'wet', 'Biome', 'precip',\n",
    "       'Livestock', 'road_density', 'topo', 'pop_density']"
   ]
  },
  {
   "cell_type": "markdown",
   "metadata": {},
   "source": [
    "topo\n",
    "Biome\n",
    "lon\n",
    "lat\n",
    "time\n",
    "LAI\n",
    "FPAR_12mon\n",
    "LAI_12mon\n",
    "Vod_k_anomaly_12mon\n",
    "FPAR_06mon\n",
    "LAI_06mon\n",
    "Vod_k_anomaly_06mon\n",
    "pft_fracCover\n",
    "tmx\n",
    "dtr\n",
    "NLDI\n",
    "WDPA_fracCover\n",
    "Livestock\n",
    "road_density\n",
    "pop_density\n",
    "Distance_to_populated_areas\n",
    "GDP\n",
    "pftCrop"
   ]
  },
  {
   "cell_type": "code",
   "execution_count": null,
   "metadata": {},
   "outputs": [],
   "source": []
  }
 ],
 "metadata": {
  "kernelspec": {
   "display_name": "Python 3.9.12 ('base')",
   "language": "python",
   "name": "python3"
  },
  "language_info": {
   "codemirror_mode": {
    "name": "ipython",
    "version": 3
   },
   "file_extension": ".py",
   "mimetype": "text/x-python",
   "name": "python",
   "nbconvert_exporter": "python",
   "pygments_lexer": "ipython3",
   "version": "3.9.12"
  },
  "orig_nbformat": 4,
  "vscode": {
   "interpreter": {
    "hash": "5ada4cf0cad2096cd5309648803c4307950250cf02ee0fe760781a5d29f65513"
   }
  }
 },
 "nbformat": 4,
 "nbformat_minor": 2
}
