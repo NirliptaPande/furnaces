{
 "cells": [
  {
   "cell_type": "code",
   "execution_count": 1,
   "metadata": {},
   "outputs": [],
   "source": [
    "import numpy as np\n",
    "import matplotlib.pyplot as plt\n",
    "%matplotlib inline\n",
    "    #0: 34 Livestock\n",
    "    #1: 35 road_density\n",
    "    #2: 37 pop_density\n",
    "    #3: 14 GDP"
   ]
  },
  {
   "cell_type": "code",
   "execution_count": 2,
   "metadata": {},
   "outputs": [],
   "source": [
    "import joblib"
   ]
  },
  {
   "cell_type": "code",
   "execution_count": 3,
   "metadata": {},
   "outputs": [],
   "source": [
    "road_density =  joblib.load(\"../output/feature1.joblib\")"
   ]
  },
  {
   "cell_type": "code",
   "execution_count": 4,
   "metadata": {},
   "outputs": [],
   "source": [
    "from sklearn import tree\n",
    "fn = ['lat 0', 'lon 1', 'agb 3', 'pft_fracCover 4', 'sm 5', 'pftCrop 6',\n",
    "       'pftHerb 7', 'pftShrubBD 8', 'pftShrubNE 9', 'pftTreeBD 10', 'pftTreeBE 11',\n",
    "       'pftTreeND 12', 'pftTreeNE 13', 'Distance_to_populated_areas 16',\n",
    "       'fPAR 17', 'vod_K_anomalies 20', 'WDPA_fracCover 27', 'dtr 28', \n",
    "       'pet 29', 'tmx 30', 'wet 31', 'Biome 32', 'precip 33']\n",
    "cn = ['ign']"
   ]
  },
  {
   "cell_type": "markdown",
   "metadata": {},
   "source": [
    "['lat 0', 'lon 1', 'time 2', 'agb 3', 'pft_fracCover 4', 'sm 5', 'pftCrop 6',\n",
    "       'pftHerb 7', 'pftShrubBD 8', 'pftShrubNE 9', 'pftTreeBD 10', 'pftTreeBE 11',\n",
    "       'pftTreeND 12', 'pftTreeNE 13', 'GDP 14', 'ign 15', 'Distance_to_populated_areas 16',\n",
    "       'fPAR 17', 'LAI 18', 'NLDI 19', 'vod_K_anomalies 20', 'FPAR_12mon 21', 'LAI_12mon 22',\n",
    "       'Vod_k_anomaly_12mon 23', 'FPAR_06mon 24', 'LAI_06mon 25', 'Vod_k_anomaly_06mon 26',\n",
    "       'WDPA_fracCover 27', 'dtr 28', 'pet 29', 'tmx 30', 'wet 31', 'Biome 32', 'precip 33',\n",
    "       'Livestock 34', 'road_density 35', 'topo 36', 'pop_density 37']\n",
    "np.delete(x_train,[2,14,15,18,19,21,22,23,24,25,26,34,35,36,37],axis = 1)\n",
    "['lat 0', 'lon 1', 'agb 3', 'pft_fracCover 4', 'sm 5', 'pftCrop 6',\n",
    "       'pftHerb 7', 'pftShrubBD 8', 'pftShrubNE 9', 'pftTreeBD 10', 'pftTreeBE 11',\n",
    "       'pftTreeND 12', 'pftTreeNE 13', 'Distance_to_populated_areas 16',\n",
    "       'fPAR 17', 'vod_K_anomalies 20', 'WDPA_fracCover 27', 'dtr 28', \n",
    "       'pet 29', 'tmx 30', 'wet 31', 'Biome 32', 'precip 33']"
   ]
  },
  {
   "cell_type": "code",
   "execution_count": 6,
   "metadata": {},
   "outputs": [
    {
     "ename": "KeyboardInterrupt",
     "evalue": "",
     "output_type": "error",
     "traceback": [
      "\u001b[0;31m---------------------------------------------------------------------------\u001b[0m",
      "\u001b[0;31mKeyboardInterrupt\u001b[0m                         Traceback (most recent call last)",
      "\u001b[1;32m/home/npande/furnaces/code/rf_visual.ipynb Cell 6\u001b[0m in \u001b[0;36m<cell line: 2>\u001b[0;34m()\u001b[0m\n\u001b[1;32m      <a href='vscode-notebook-cell:/home/npande/furnaces/code/rf_visual.ipynb#W4sZmlsZQ%3D%3D?line=0'>1</a>\u001b[0m fig, axes \u001b[39m=\u001b[39m plt\u001b[39m.\u001b[39msubplots(nrows \u001b[39m=\u001b[39m \u001b[39m1\u001b[39m,ncols \u001b[39m=\u001b[39m \u001b[39m1\u001b[39m,figsize \u001b[39m=\u001b[39m (\u001b[39m4\u001b[39m,\u001b[39m4\u001b[39m), dpi\u001b[39m=\u001b[39m\u001b[39m800\u001b[39m)\n\u001b[0;32m----> <a href='vscode-notebook-cell:/home/npande/furnaces/code/rf_visual.ipynb#W4sZmlsZQ%3D%3D?line=1'>2</a>\u001b[0m tree\u001b[39m.\u001b[39;49mplot_tree(road_density\u001b[39m.\u001b[39;49mestimators_[\u001b[39m0\u001b[39;49m],\n\u001b[1;32m      <a href='vscode-notebook-cell:/home/npande/furnaces/code/rf_visual.ipynb#W4sZmlsZQ%3D%3D?line=2'>3</a>\u001b[0m                filled \u001b[39m=\u001b[39;49m \u001b[39mTrue\u001b[39;49;00m);\n\u001b[1;32m      <a href='vscode-notebook-cell:/home/npande/furnaces/code/rf_visual.ipynb#W4sZmlsZQ%3D%3D?line=3'>4</a>\u001b[0m fig\u001b[39m.\u001b[39msuptitle(\u001b[39m'\u001b[39m\u001b[39mRoad Density + Base Model\u001b[39m\u001b[39m'\u001b[39m)\n\u001b[1;32m      <a href='vscode-notebook-cell:/home/npande/furnaces/code/rf_visual.ipynb#W4sZmlsZQ%3D%3D?line=4'>5</a>\u001b[0m plt\u001b[39m.\u001b[39mshow()\n",
      "File \u001b[0;32m~/anaconda3/lib/python3.9/site-packages/sklearn/tree/_export.py:195\u001b[0m, in \u001b[0;36mplot_tree\u001b[0;34m(decision_tree, max_depth, feature_names, class_names, label, filled, impurity, node_ids, proportion, rounded, precision, ax, fontsize)\u001b[0m\n\u001b[1;32m    180\u001b[0m check_is_fitted(decision_tree)\n\u001b[1;32m    182\u001b[0m exporter \u001b[39m=\u001b[39m _MPLTreeExporter(\n\u001b[1;32m    183\u001b[0m     max_depth\u001b[39m=\u001b[39mmax_depth,\n\u001b[1;32m    184\u001b[0m     feature_names\u001b[39m=\u001b[39mfeature_names,\n\u001b[0;32m   (...)\u001b[0m\n\u001b[1;32m    193\u001b[0m     fontsize\u001b[39m=\u001b[39mfontsize,\n\u001b[1;32m    194\u001b[0m )\n\u001b[0;32m--> 195\u001b[0m \u001b[39mreturn\u001b[39;00m exporter\u001b[39m.\u001b[39;49mexport(decision_tree, ax\u001b[39m=\u001b[39;49max)\n",
      "File \u001b[0;32m~/anaconda3/lib/python3.9/site-packages/sklearn/tree/_export.py:677\u001b[0m, in \u001b[0;36m_MPLTreeExporter.export\u001b[0;34m(self, decision_tree, ax)\u001b[0m\n\u001b[1;32m    674\u001b[0m renderer \u001b[39m=\u001b[39m ax\u001b[39m.\u001b[39mfigure\u001b[39m.\u001b[39mcanvas\u001b[39m.\u001b[39mget_renderer()\n\u001b[1;32m    676\u001b[0m \u001b[39mfor\u001b[39;00m ann \u001b[39min\u001b[39;00m anns:\n\u001b[0;32m--> 677\u001b[0m     ann\u001b[39m.\u001b[39;49mupdate_bbox_position_size(renderer)\n\u001b[1;32m    679\u001b[0m \u001b[39mif\u001b[39;00m \u001b[39mself\u001b[39m\u001b[39m.\u001b[39mfontsize \u001b[39mis\u001b[39;00m \u001b[39mNone\u001b[39;00m:\n\u001b[1;32m    680\u001b[0m     \u001b[39m# get figure to data transform\u001b[39;00m\n\u001b[1;32m    681\u001b[0m     \u001b[39m# adjust fontsize to avoid overlap\u001b[39;00m\n\u001b[1;32m    682\u001b[0m     \u001b[39m# get max box width and height\u001b[39;00m\n\u001b[1;32m    683\u001b[0m     extents \u001b[39m=\u001b[39m [ann\u001b[39m.\u001b[39mget_bbox_patch()\u001b[39m.\u001b[39mget_window_extent() \u001b[39mfor\u001b[39;00m ann \u001b[39min\u001b[39;00m anns]\n",
      "File \u001b[0;32m~/anaconda3/lib/python3.9/site-packages/matplotlib/text.py:508\u001b[0m, in \u001b[0;36mText.update_bbox_position_size\u001b[0;34m(self, renderer)\u001b[0m\n\u001b[1;32m    505\u001b[0m posy \u001b[39m=\u001b[39m \u001b[39mfloat\u001b[39m(\u001b[39mself\u001b[39m\u001b[39m.\u001b[39mconvert_yunits(\u001b[39mself\u001b[39m\u001b[39m.\u001b[39m_y))\n\u001b[1;32m    506\u001b[0m posx, posy \u001b[39m=\u001b[39m \u001b[39mself\u001b[39m\u001b[39m.\u001b[39mget_transform()\u001b[39m.\u001b[39mtransform((posx, posy))\n\u001b[0;32m--> 508\u001b[0m x_box, y_box, w_box, h_box \u001b[39m=\u001b[39m _get_textbox(\u001b[39mself\u001b[39;49m, renderer)\n\u001b[1;32m    509\u001b[0m \u001b[39mself\u001b[39m\u001b[39m.\u001b[39m_bbox_patch\u001b[39m.\u001b[39mset_bounds(\u001b[39m0.\u001b[39m, \u001b[39m0.\u001b[39m, w_box, h_box)\n\u001b[1;32m    510\u001b[0m \u001b[39mself\u001b[39m\u001b[39m.\u001b[39m_bbox_patch\u001b[39m.\u001b[39mset_transform(\n\u001b[1;32m    511\u001b[0m     Affine2D()\n\u001b[1;32m    512\u001b[0m     \u001b[39m.\u001b[39mrotate_deg(\u001b[39mself\u001b[39m\u001b[39m.\u001b[39mget_rotation())\n\u001b[1;32m    513\u001b[0m     \u001b[39m.\u001b[39mtranslate(posx \u001b[39m+\u001b[39m x_box, posy \u001b[39m+\u001b[39m y_box))\n",
      "File \u001b[0;32m~/anaconda3/lib/python3.9/site-packages/matplotlib/text.py:71\u001b[0m, in \u001b[0;36m_get_textbox\u001b[0;34m(text, renderer)\u001b[0m\n\u001b[1;32m     68\u001b[0m theta \u001b[39m=\u001b[39m np\u001b[39m.\u001b[39mdeg2rad(text\u001b[39m.\u001b[39mget_rotation())\n\u001b[1;32m     69\u001b[0m tr \u001b[39m=\u001b[39m Affine2D()\u001b[39m.\u001b[39mrotate(\u001b[39m-\u001b[39mtheta)\n\u001b[0;32m---> 71\u001b[0m _, parts, d \u001b[39m=\u001b[39m text\u001b[39m.\u001b[39;49m_get_layout(renderer)\n\u001b[1;32m     73\u001b[0m \u001b[39mfor\u001b[39;00m t, wh, x, y \u001b[39min\u001b[39;00m parts:\n\u001b[1;32m     74\u001b[0m     w, h \u001b[39m=\u001b[39m wh\n",
      "File \u001b[0;32m~/anaconda3/lib/python3.9/site-packages/matplotlib/text.py:358\u001b[0m, in \u001b[0;36mText._get_layout\u001b[0;34m(self, renderer)\u001b[0m\n\u001b[1;32m    355\u001b[0m height \u001b[39m=\u001b[39m ymax \u001b[39m-\u001b[39m ymin\n\u001b[1;32m    357\u001b[0m \u001b[39m# get the rotation matrix\u001b[39;00m\n\u001b[0;32m--> 358\u001b[0m M \u001b[39m=\u001b[39m Affine2D()\u001b[39m.\u001b[39;49mrotate_deg(\u001b[39mself\u001b[39;49m\u001b[39m.\u001b[39;49mget_rotation())\n\u001b[1;32m    360\u001b[0m \u001b[39m# now offset the individual text lines within the box\u001b[39;00m\n\u001b[1;32m    361\u001b[0m malign \u001b[39m=\u001b[39m \u001b[39mself\u001b[39m\u001b[39m.\u001b[39m_get_multialignment()\n",
      "File \u001b[0;32m~/anaconda3/lib/python3.9/site-packages/matplotlib/transforms.py:2020\u001b[0m, in \u001b[0;36mAffine2D.rotate_deg\u001b[0;34m(self, degrees)\u001b[0m\n\u001b[1;32m   2012\u001b[0m \u001b[39mdef\u001b[39;00m \u001b[39mrotate_deg\u001b[39m(\u001b[39mself\u001b[39m, degrees):\n\u001b[1;32m   2013\u001b[0m     \u001b[39m\"\"\"\u001b[39;00m\n\u001b[1;32m   2014\u001b[0m \u001b[39m    Add a rotation (in degrees) to this transform in place.\u001b[39;00m\n\u001b[1;32m   2015\u001b[0m \n\u001b[0;32m   (...)\u001b[0m\n\u001b[1;32m   2018\u001b[0m \u001b[39m    and :meth:`scale`.\u001b[39;00m\n\u001b[1;32m   2019\u001b[0m \u001b[39m    \"\"\"\u001b[39;00m\n\u001b[0;32m-> 2020\u001b[0m     \u001b[39mreturn\u001b[39;00m \u001b[39mself\u001b[39;49m\u001b[39m.\u001b[39;49mrotate(math\u001b[39m.\u001b[39;49mradians(degrees))\n",
      "File \u001b[0;32m~/anaconda3/lib/python3.9/site-packages/matplotlib/transforms.py:2006\u001b[0m, in \u001b[0;36mAffine2D.rotate\u001b[0;34m(self, theta)\u001b[0m\n\u001b[1;32m   2004\u001b[0m a \u001b[39m=\u001b[39m math\u001b[39m.\u001b[39mcos(theta)\n\u001b[1;32m   2005\u001b[0m b \u001b[39m=\u001b[39m math\u001b[39m.\u001b[39msin(theta)\n\u001b[0;32m-> 2006\u001b[0m rotate_mtx \u001b[39m=\u001b[39m np\u001b[39m.\u001b[39;49marray([[a, \u001b[39m-\u001b[39;49mb, \u001b[39m0.0\u001b[39;49m], [b, a, \u001b[39m0.0\u001b[39;49m], [\u001b[39m0.0\u001b[39;49m, \u001b[39m0.0\u001b[39;49m, \u001b[39m1.0\u001b[39;49m]],\n\u001b[1;32m   2007\u001b[0m                       \u001b[39mfloat\u001b[39;49m)\n\u001b[1;32m   2008\u001b[0m \u001b[39mself\u001b[39m\u001b[39m.\u001b[39m_mtx \u001b[39m=\u001b[39m np\u001b[39m.\u001b[39mdot(rotate_mtx, \u001b[39mself\u001b[39m\u001b[39m.\u001b[39m_mtx)\n\u001b[1;32m   2009\u001b[0m \u001b[39mself\u001b[39m\u001b[39m.\u001b[39minvalidate()\n",
      "\u001b[0;31mKeyboardInterrupt\u001b[0m: "
     ]
    }
   ],
   "source": [
    "fig, axes = plt.subplots(nrows = 1,ncols = 1,figsize = (4,4), dpi=800)\n",
    "tree.plot_tree(road_density.estimators_[0],\n",
    "               filled = True)\n",
    "fig.suptitle('Road Density + Base Model')\n",
    "plt.show()\n",
    "plt.close()"
   ]
  },
  {
   "cell_type": "code",
   "execution_count": null,
   "metadata": {},
   "outputs": [],
   "source": [
    "fig, axes = plt.subplots(nrows = 1,ncols = 1,figsize = (4,4), dpi=800)\n",
    "tree.plot_tree(road_density.estimators_[0],\n",
    "               feature_names = fn, \n",
    "               class_names=cn,\n",
    "               filled = True)\n",
    "fig.suptitle('Road Density + Base Model')\n",
    "plt.show()\n"
   ]
  },
  {
   "cell_type": "code",
   "execution_count": null,
   "metadata": {},
   "outputs": [],
   "source": [
    "plt.close()"
   ]
  },
  {
   "cell_type": "code",
   "execution_count": null,
   "metadata": {},
   "outputs": [],
   "source": []
  }
 ],
 "metadata": {
  "kernelspec": {
   "display_name": "Python 3.9.12 ('base')",
   "language": "python",
   "name": "python3"
  },
  "language_info": {
   "codemirror_mode": {
    "name": "ipython",
    "version": 3
   },
   "file_extension": ".py",
   "mimetype": "text/x-python",
   "name": "python",
   "nbconvert_exporter": "python",
   "pygments_lexer": "ipython3",
   "version": "3.9.12"
  },
  "orig_nbformat": 4,
  "vscode": {
   "interpreter": {
    "hash": "5ada4cf0cad2096cd5309648803c4307950250cf02ee0fe760781a5d29f65513"
   }
  }
 },
 "nbformat": 4,
 "nbformat_minor": 2
}
