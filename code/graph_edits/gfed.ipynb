{
 "cells": [
  {
   "cell_type": "code",
   "execution_count": 35,
   "metadata": {},
   "outputs": [
    {
     "data": {
      "text/plain": [
       "(26378244, 30)"
      ]
     },
     "execution_count": 35,
     "metadata": {},
     "output_type": "execute_result"
    }
   ],
   "source": [
    "import numpy as np\n",
    "arr = np.load('../../data/custom_median.npy')\n",
    "arr[arr==-9999.0] = 0\n",
    "np.save('../../data/custom_median.npy',arr)\n",
    "arr.shape"
   ]
  },
  {
   "cell_type": "code",
   "execution_count": 39,
   "metadata": {},
   "outputs": [
    {
     "data": {
      "text/plain": [
       "False"
      ]
     },
     "execution_count": 39,
     "metadata": {},
     "output_type": "execute_result"
    }
   ],
   "source": [
    "np.any(arr==-9999)"
   ]
  },
  {
   "cell_type": "code",
   "execution_count": 38,
   "metadata": {},
   "outputs": [
    {
     "data": {
      "text/plain": [
       "array([   -55.75      ,    -67.        , 200301.5       ,      0.        ,\n",
       "            2.54603505,      0.        ,      0.00037038,      0.03576592,\n",
       "            0.0148829 ,      0.        ,      0.10370499,      0.00122225,\n",
       "            0.        ,      0.        ,  19155.0546875 ,      0.        ,\n",
       "            0.71999997,      2.        ,      0.        ,      0.        ,\n",
       "            2.20000005,     16.07999992,    115.63246918,      0.        ,\n",
       "            0.        ,  -9999.        ,      0.        ,      6.5       ,\n",
       "           10.69999981,      0.        ])"
      ]
     },
     "execution_count": 38,
     "metadata": {},
     "output_type": "execute_result"
    }
   ],
   "source": [
    "np.set_printoptions(suppress=True)\n",
    "arr[0]"
   ]
  },
  {
   "cell_type": "code",
   "execution_count": 2,
   "metadata": {},
   "outputs": [
    {
     "data": {
      "text/plain": [
       "array(['lat 0', 'lon 1', 'time 2', 'road_density 3', 'agb 4', 'sm 5',\n",
       "       'pftCrop 6', 'pftHerb 7', 'pftShrubBD 8', 'pftShrubNE 9',\n",
       "       'pftTreeBD 10', 'pftTreeBE 11', 'pftTreeND 12', 'pftTreeNE 13',\n",
       "       'GDP_per_capita_PPP 14', 'ign 15', 'faPAR 16', 'LAI 17',\n",
       "       'vod_K_anomalies 18', 'primn 19', 'pet 20', 'wet 21', 'precip 22',\n",
       "       'pastr 23', 'Band1 24', 'pop_density 25',\n",
       "       'Distance_to_populated_areas 26', 'Diurnal temperature range 27',\n",
       "       'temp_max 28', 'Livestock 29'], dtype='<U30')"
      ]
     },
     "execution_count": 2,
     "metadata": {},
     "output_type": "execute_result"
    }
   ],
   "source": [
    "col = np.load('../../data/column_names.npy')\n",
    "col"
   ]
  },
  {
   "cell_type": "code",
   "execution_count": 17,
   "metadata": {},
   "outputs": [
    {
     "data": {
      "text/plain": [
       "array([[0, 0, 0, ..., 0, 0, 0],\n",
       "       [0, 0, 0, ..., 0, 0, 0],\n",
       "       [0, 0, 0, ..., 0, 0, 0],\n",
       "       ...,\n",
       "       [0, 0, 0, ..., 0, 0, 0],\n",
       "       [0, 0, 0, ..., 0, 0, 0],\n",
       "       [0, 0, 0, ..., 0, 0, 0]], dtype=uint8)"
      ]
     },
     "execution_count": 17,
     "metadata": {},
     "output_type": "execute_result"
    }
   ],
   "source": [
    "gfed = np.load('../../data/gfed_regions.npy',allow_pickle=True)\n",
    "gfed"
   ]
  },
  {
   "cell_type": "code",
   "execution_count": 15,
   "metadata": {},
   "outputs": [
    {
     "data": {
      "text/plain": [
       "{'ign': array([[0, 0, 0, ..., 0, 0, 0],\n",
       "        [0, 0, 0, ..., 0, 0, 0],\n",
       "        [0, 0, 0, ..., 0, 0, 0],\n",
       "        ...,\n",
       "        [0, 0, 0, ..., 0, 0, 0],\n",
       "        [0, 0, 0, ..., 0, 0, 0],\n",
       "        [0, 0, 0, ..., 0, 0, 0]], dtype=uint8),\n",
       " 'lat': array([[ 89.875,  89.875,  89.875, ...,  89.875,  89.875,  89.875],\n",
       "        [ 89.625,  89.625,  89.625, ...,  89.625,  89.625,  89.625],\n",
       "        [ 89.375,  89.375,  89.375, ...,  89.375,  89.375,  89.375],\n",
       "        ...,\n",
       "        [-89.375, -89.375, -89.375, ..., -89.375, -89.375, -89.375],\n",
       "        [-89.625, -89.625, -89.625, ..., -89.625, -89.625, -89.625],\n",
       "        [-89.875, -89.875, -89.875, ..., -89.875, -89.875, -89.875]],\n",
       "       dtype=float32),\n",
       " 'lon': array([[-179.875, -179.625, -179.375, ...,  179.375,  179.625,  179.875],\n",
       "        [-179.875, -179.625, -179.375, ...,  179.375,  179.625,  179.875],\n",
       "        [-179.875, -179.625, -179.375, ...,  179.375,  179.625,  179.875],\n",
       "        ...,\n",
       "        [-179.875, -179.625, -179.375, ...,  179.375,  179.625,  179.875],\n",
       "        [-179.875, -179.625, -179.375, ...,  179.375,  179.625,  179.875],\n",
       "        [-179.875, -179.625, -179.375, ...,  179.375,  179.625,  179.875]],\n",
       "       dtype=float32)}"
      ]
     },
     "execution_count": 15,
     "metadata": {},
     "output_type": "execute_result"
    }
   ],
   "source": [
    "gfed"
   ]
  },
  {
   "cell_type": "code",
   "execution_count": 18,
   "metadata": {},
   "outputs": [],
   "source": [
    "shaf = np.where(gfed==9)\n",
    "seas = np.where(gfed==12)\n",
    "boas = np.where(gfed==10)\n",
    "aust = np.where(gfed==14)\n",
    "euro = np.where(gfed==6)"
   ]
  },
  {
   "cell_type": "code",
   "execution_count": 19,
   "metadata": {},
   "outputs": [
    {
     "data": {
      "text/plain": [
       "(array([360, 360, 360, ..., 499, 499, 499]),\n",
       " array([757, 758, 759, ..., 798, 799, 800]))"
      ]
     },
     "execution_count": 19,
     "metadata": {},
     "output_type": "execute_result"
    }
   ],
   "source": [
    "shaf"
   ]
  },
  {
   "cell_type": "code",
   "execution_count": 20,
   "metadata": {},
   "outputs": [],
   "source": [
    "lat = np.arange(90,-90,-0.25)\n",
    "lon = np.arange(-180, 180, 0.25)"
   ]
  },
  {
   "cell_type": "code",
   "execution_count": 21,
   "metadata": {},
   "outputs": [
    {
     "data": {
      "text/plain": [
       "(720,)"
      ]
     },
     "execution_count": 21,
     "metadata": {},
     "output_type": "execute_result"
    }
   ],
   "source": [
    "lat.shape"
   ]
  },
  {
   "cell_type": "code",
   "execution_count": 22,
   "metadata": {},
   "outputs": [],
   "source": [
    "shaf_lat = lat[shaf[0]]\n",
    "shaf_lon = lon[shaf[1]]"
   ]
  },
  {
   "cell_type": "code",
   "execution_count": 43,
   "metadata": {},
   "outputs": [
    {
     "data": {
      "text/plain": [
       "0.0"
      ]
     },
     "execution_count": 43,
     "metadata": {},
     "output_type": "execute_result"
    }
   ],
   "source": [
    "shaf_lat.max()"
   ]
  },
  {
   "cell_type": "code",
   "execution_count": 27,
   "metadata": {},
   "outputs": [
    {
     "ename": "ValueError",
     "evalue": "The truth value of an array with more than one element is ambiguous. Use a.any() or a.all()",
     "output_type": "error",
     "traceback": [
      "\u001b[0;31m---------------------------------------------------------------------------\u001b[0m",
      "\u001b[0;31mValueError\u001b[0m                                Traceback (most recent call last)",
      "Cell \u001b[0;32mIn[27], line 1\u001b[0m\n\u001b[0;32m----> 1\u001b[0m idxs \u001b[39m=\u001b[39m (arr[:,\u001b[39m0\u001b[39m]\u001b[39m>\u001b[39m\u001b[39m=\u001b[39mshaf_lat\u001b[39m.\u001b[39mmin())\u001b[39mand\u001b[39;00m(arr[:,\u001b[39m0\u001b[39m]\u001b[39m<\u001b[39m\u001b[39m=\u001b[39mshaf_lat\u001b[39m.\u001b[39mmax())\u001b[39mand\u001b[39;00m(arr[:,\u001b[39m1\u001b[39m]\u001b[39m>\u001b[39m\u001b[39m=\u001b[39mshaf_lon\u001b[39m.\u001b[39mmin())\u001b[39mand\u001b[39;00m(arr[:,\u001b[39m1\u001b[39m]\u001b[39m<\u001b[39m\u001b[39m=\u001b[39mshaf_lon\u001b[39m.\u001b[39mmax())\n",
      "\u001b[0;31mValueError\u001b[0m: The truth value of an array with more than one element is ambiguous. Use a.any() or a.all()"
     ]
    }
   ],
   "source": [
    "idxs = (arr[:,0]>=shaf_lat.min())and(arr[:,0]<=shaf_lat.max())and(arr[:,1]>=shaf_lon.min())and(arr[:,1]<=shaf_lon.max())"
   ]
  },
  {
   "cell_type": "code",
   "execution_count": 44,
   "metadata": {},
   "outputs": [],
   "source": [
    "\n",
    "\n",
    "# boolean index to filter rows where column 2 values are greater or equal to k\n",
    "#idxs = (arr[:,0]>=shaf_lat.min())and(arr[:,0]<=shaf_lat.max())and(arr[:,1]>=shaf_lon.min())and(arr[:,1]<=shaf_lon.max())\n",
    "arr_shaf = arr[arr[:, 0] >= shaf_lat.min()]\n",
    "arr_shaf = arr_shaf[arr_shaf[:, 0] <= shaf_lat.max()]\n",
    "arr_shaf = arr_shaf[arr_shaf[:, 1] >= shaf_lon.min()]\n",
    "arr_shaf = arr_shaf[arr_shaf[:, 1] <= shaf_lon.max()]\n",
    "arr_shaf = arr_shaf[:,[0,1,6,8,14,15,16,22,25,26,28]]\n",
    "dim = np.vstack((shaf_lat,shaf_lon))\n"
   ]
  },
  {
   "cell_type": "code",
   "execution_count": 45,
   "metadata": {},
   "outputs": [
    {
     "data": {
      "text/plain": [
       "(1426248, 11)"
      ]
     },
     "execution_count": 45,
     "metadata": {},
     "output_type": "execute_result"
    }
   ],
   "source": [
    "arr_shaf.shape"
   ]
  },
  {
   "cell_type": "code",
   "execution_count": 61,
   "metadata": {},
   "outputs": [],
   "source": [
    "shaf_val = []\n",
    "for i in range(dim.shape[1]):\n",
    "    mask = np.all(arr_shaf[:, :2] == dim[:,i], axis=1)\n",
    "    if np.any(mask)==True:\n",
    "        shaf_val.append(arr_shaf[mask])  \n"
   ]
  },
  {
   "cell_type": "code",
   "execution_count": 62,
   "metadata": {},
   "outputs": [
    {
     "data": {
      "text/plain": [
       "13126"
      ]
     },
     "execution_count": 62,
     "metadata": {},
     "output_type": "execute_result"
    }
   ],
   "source": [
    "len(shaf_val)"
   ]
  },
  {
   "cell_type": "code",
   "execution_count": 64,
   "metadata": {},
   "outputs": [
    {
     "data": {
      "text/plain": [
       "510"
      ]
     },
     "execution_count": 64,
     "metadata": {},
     "output_type": "execute_result"
    }
   ],
   "source": [
    "shaf_lat.shape[0]-len(shaf_val)"
   ]
  },
  {
   "cell_type": "code",
   "execution_count": null,
   "metadata": {},
   "outputs": [],
   "source": []
  },
  {
   "cell_type": "code",
   "execution_count": 59,
   "metadata": {},
   "outputs": [],
   "source": [
    "mask = np.all(arr_shaf[:, :2] == dim[:,1], axis=1)"
   ]
  },
  {
   "cell_type": "code",
   "execution_count": 60,
   "metadata": {},
   "outputs": [
    {
     "data": {
      "text/plain": [
       "True"
      ]
     },
     "execution_count": 60,
     "metadata": {},
     "output_type": "execute_result"
    }
   ],
   "source": [
    "np.any(mask)"
   ]
  },
  {
   "cell_type": "markdown",
   "metadata": {},
   "source": []
  },
  {
   "cell_type": "code",
   "execution_count": null,
   "metadata": {},
   "outputs": [],
   "source": []
  },
  {
   "cell_type": "code",
   "execution_count": 50,
   "metadata": {},
   "outputs": [
    {
     "ename": "ValueError",
     "evalue": "setting an array element with a sequence. The requested array has an inhomogeneous shape after 1 dimensions. The detected shape was (13636,) + inhomogeneous part.",
     "output_type": "error",
     "traceback": [
      "\u001b[0;31m---------------------------------------------------------------------------\u001b[0m",
      "\u001b[0;31mValueError\u001b[0m                                Traceback (most recent call last)",
      "Cell \u001b[0;32mIn[50], line 1\u001b[0m\n\u001b[0;32m----> 1\u001b[0m shaf_val \u001b[39m=\u001b[39m np\u001b[39m.\u001b[39;49marray(shaf_val)\n\u001b[1;32m      2\u001b[0m shaf_val\u001b[39m.\u001b[39mshape\n",
      "\u001b[0;31mValueError\u001b[0m: setting an array element with a sequence. The requested array has an inhomogeneous shape after 1 dimensions. The detected shape was (13636,) + inhomogeneous part."
     ]
    }
   ],
   "source": [
    "shaf_val = np.array(shaf_val)\n",
    "shaf_val.shape"
   ]
  },
  {
   "cell_type": "code",
   "execution_count": 10,
   "metadata": {},
   "outputs": [],
   "source": [
    "\n",
    "np.save('../../data/shaf.npy',shaf_val)"
   ]
  },
  {
   "cell_type": "code",
   "execution_count": 22,
   "metadata": {},
   "outputs": [
    {
     "data": {
      "text/plain": [
       "94448.0"
      ]
     },
     "execution_count": 22,
     "metadata": {},
     "output_type": "execute_result"
    }
   ],
   "source": [
    "arr_shaf.shape[0]/108"
   ]
  },
  {
   "cell_type": "code",
   "execution_count": 12,
   "metadata": {},
   "outputs": [
    {
     "data": {
      "text/plain": [
       "0.38669685518111063"
      ]
     },
     "execution_count": 12,
     "metadata": {},
     "output_type": "execute_result"
    }
   ],
   "source": [
    "arr_shaf.shape[0]/arr.shape[0]"
   ]
  },
  {
   "cell_type": "code",
   "execution_count": 13,
   "metadata": {},
   "outputs": [],
   "source": [
    "import pandas as pd\n",
    "df = pd.DataFrame(arr_shaf,columns=['lat','lon','pftCrop','pftShrub','GDP','ign','fapar','precip','pop_density','distance2pop','temp_max'])"
   ]
  },
  {
   "cell_type": "code",
   "execution_count": 14,
   "metadata": {},
   "outputs": [
    {
     "ename": "ValueError",
     "evalue": "setting an array element with a sequence. The requested array has an inhomogeneous shape after 2 dimensions. The detected shape was (13636, 1) + inhomogeneous part.",
     "output_type": "error",
     "traceback": [
      "\u001b[0;31m---------------------------------------------------------------------------\u001b[0m",
      "\u001b[0;31mValueError\u001b[0m                                Traceback (most recent call last)",
      "Cell \u001b[0;32mIn[14], line 6\u001b[0m\n\u001b[1;32m      4\u001b[0m     temp \u001b[39m=\u001b[39m (np\u001b[39m.\u001b[39mwhere(np\u001b[39m.\u001b[39mlogical_and(df[\u001b[39m'\u001b[39m\u001b[39mlat\u001b[39m\u001b[39m'\u001b[39m]\u001b[39m==\u001b[39m lat,df[\u001b[39m'\u001b[39m\u001b[39mlon\u001b[39m\u001b[39m'\u001b[39m]\u001b[39m==\u001b[39mlon)))\n\u001b[1;32m      5\u001b[0m     hold\u001b[39m.\u001b[39mappend(temp)\n\u001b[0;32m----> 6\u001b[0m df_shaf \u001b[39m=\u001b[39m df\u001b[39m.\u001b[39;49miloc[hold]\n",
      "File \u001b[0;32m~/furnaces-main/env/lib/python3.10/site-packages/pandas/core/indexing.py:1073\u001b[0m, in \u001b[0;36m_LocationIndexer.__getitem__\u001b[0;34m(self, key)\u001b[0m\n\u001b[1;32m   1070\u001b[0m axis \u001b[39m=\u001b[39m \u001b[39mself\u001b[39m\u001b[39m.\u001b[39maxis \u001b[39mor\u001b[39;00m \u001b[39m0\u001b[39m\n\u001b[1;32m   1072\u001b[0m maybe_callable \u001b[39m=\u001b[39m com\u001b[39m.\u001b[39mapply_if_callable(key, \u001b[39mself\u001b[39m\u001b[39m.\u001b[39mobj)\n\u001b[0;32m-> 1073\u001b[0m \u001b[39mreturn\u001b[39;00m \u001b[39mself\u001b[39;49m\u001b[39m.\u001b[39;49m_getitem_axis(maybe_callable, axis\u001b[39m=\u001b[39;49maxis)\n",
      "File \u001b[0;32m~/furnaces-main/env/lib/python3.10/site-packages/pandas/core/indexing.py:1608\u001b[0m, in \u001b[0;36m_iLocIndexer._getitem_axis\u001b[0;34m(self, key, axis)\u001b[0m\n\u001b[1;32m   1605\u001b[0m     key \u001b[39m=\u001b[39m \u001b[39mlist\u001b[39m(key)\n\u001b[1;32m   1607\u001b[0m \u001b[39mif\u001b[39;00m \u001b[39misinstance\u001b[39m(key, \u001b[39mlist\u001b[39m):\n\u001b[0;32m-> 1608\u001b[0m     key \u001b[39m=\u001b[39m np\u001b[39m.\u001b[39;49masarray(key)\n\u001b[1;32m   1610\u001b[0m \u001b[39mif\u001b[39;00m com\u001b[39m.\u001b[39mis_bool_indexer(key):\n\u001b[1;32m   1611\u001b[0m     \u001b[39mself\u001b[39m\u001b[39m.\u001b[39m_validate_key(key, axis)\n",
      "\u001b[0;31mValueError\u001b[0m: setting an array element with a sequence. The requested array has an inhomogeneous shape after 2 dimensions. The detected shape was (13636, 1) + inhomogeneous part."
     ]
    }
   ],
   "source": [
    "hold = []\n",
    "for i in range(shaf_lat.shape[0]):\n",
    "    lat,lon = shaf_lat[i],shaf_lon[i]\n",
    "    temp = (np.where(np.logical_and(df['lat']== lat,df['lon']==lon)))\n",
    "    hold.append(temp)\n",
    "df_shaf = df.iloc[hold]"
   ]
  },
  {
   "cell_type": "code",
   "execution_count": 59,
   "metadata": {},
   "outputs": [
    {
     "data": {
      "text/plain": [
       "[(array([], dtype=int64),),\n",
       " (array([], dtype=int64),),\n",
       " (array([], dtype=int64),),\n",
       " (array([], dtype=int64),),\n",
       " (array([], dtype=int64),),\n",
       " (array([], dtype=int64),),\n",
       " (array([], dtype=int64),),\n",
       " (array([], dtype=int64),),\n",
       " (array([], dtype=int64),),\n",
       " (array([], dtype=int64),),\n",
       " (array([], dtype=int64),),\n",
       " (array([], dtype=int64),),\n",
       " (array([], dtype=int64),),\n",
       " (array([], dtype=int64),),\n",
       " (array([], dtype=int64),),\n",
       " (array([], dtype=int64),),\n",
       " (array([], dtype=int64),),\n",
       " (array([], dtype=int64),),\n",
       " (array([], dtype=int64),),\n",
       " (array([], dtype=int64),),\n",
       " (array([], dtype=int64),),\n",
       " (array([], dtype=int64),),\n",
       " (array([], dtype=int64),),\n",
       " (array([], dtype=int64),),\n",
       " (array([], dtype=int64),),\n",
       " (array([], dtype=int64),),\n",
       " (array([], dtype=int64),),\n",
       " (array([], dtype=int64),),\n",
       " (array([], dtype=int64),),\n",
       " (array([], dtype=int64),),\n",
       " (array([], dtype=int64),),\n",
       " (array([], dtype=int64),),\n",
       " (array([], dtype=int64),),\n",
       " (array([], dtype=int64),),\n",
       " (array([], dtype=int64),),\n",
       " (array([], dtype=int64),),\n",
       " (array([], dtype=int64),),\n",
       " (array([], dtype=int64),),\n",
       " (array([], dtype=int64),),\n",
       " (array([], dtype=int64),),\n",
       " (array([], dtype=int64),),\n",
       " (array([], dtype=int64),),\n",
       " (array([], dtype=int64),),\n",
       " (array([], dtype=int64),),\n",
       " (array([], dtype=int64),),\n",
       " (array([], dtype=int64),),\n",
       " (array([], dtype=int64),),\n",
       " (array([], dtype=int64),),\n",
       " (array([], dtype=int64),),\n",
       " (array([], dtype=int64),),\n",
       " (array([], dtype=int64),),\n",
       " (array([], dtype=int64),),\n",
       " (array([], dtype=int64),),\n",
       " (array([], dtype=int64),),\n",
       " (array([], dtype=int64),),\n",
       " (array([], dtype=int64),),\n",
       " (array([], dtype=int64),),\n",
       " (array([], dtype=int64),),\n",
       " (array([], dtype=int64),),\n",
       " (array([], dtype=int64),),\n",
       " (array([], dtype=int64),),\n",
       " (array([], dtype=int64),),\n",
       " (array([], dtype=int64),),\n",
       " (array([], dtype=int64),),\n",
       " (array([], dtype=int64),),\n",
       " (array([], dtype=int64),),\n",
       " (array([], dtype=int64),),\n",
       " (array([], dtype=int64),),\n",
       " (array([], dtype=int64),),\n",
       " (array([], dtype=int64),),\n",
       " (array([], dtype=int64),),\n",
       " (array([], dtype=int64),),\n",
       " (array([], dtype=int64),),\n",
       " (array([], dtype=int64),),\n",
       " (array([], dtype=int64),),\n",
       " (array([], dtype=int64),),\n",
       " (array([], dtype=int64),),\n",
       " (array([], dtype=int64),),\n",
       " (array([], dtype=int64),),\n",
       " (array([], dtype=int64),),\n",
       " (array([], dtype=int64),),\n",
       " (array([], dtype=int64),),\n",
       " (array([], dtype=int64),),\n",
       " (array([], dtype=int64),),\n",
       " (array([], dtype=int64),),\n",
       " (array([], dtype=int64),),\n",
       " (array([], dtype=int64),),\n",
       " (array([], dtype=int64),),\n",
       " (array([], dtype=int64),),\n",
       " (array([], dtype=int64),),\n",
       " (array([], dtype=int64),),\n",
       " (array([], dtype=int64),),\n",
       " (array([], dtype=int64),),\n",
       " (array([], dtype=int64),),\n",
       " (array([], dtype=int64),),\n",
       " (array([], dtype=int64),),\n",
       " (array([], dtype=int64),),\n",
       " (array([], dtype=int64),),\n",
       " (array([], dtype=int64),),\n",
       " (array([], dtype=int64),),\n",
       " (array([], dtype=int64),),\n",
       " (array([], dtype=int64),),\n",
       " (array([], dtype=int64),),\n",
       " (array([], dtype=int64),),\n",
       " (array([], dtype=int64),),\n",
       " (array([], dtype=int64),),\n",
       " (array([], dtype=int64),),\n",
       " (array([], dtype=int64),),\n",
       " (array([], dtype=int64),),\n",
       " (array([], dtype=int64),),\n",
       " (array([], dtype=int64),),\n",
       " (array([], dtype=int64),),\n",
       " (array([], dtype=int64),),\n",
       " (array([], dtype=int64),),\n",
       " (array([], dtype=int64),),\n",
       " (array([], dtype=int64),),\n",
       " (array([], dtype=int64),),\n",
       " (array([], dtype=int64),),\n",
       " (array([], dtype=int64),),\n",
       " (array([], dtype=int64),),\n",
       " (array([], dtype=int64),),\n",
       " (array([], dtype=int64),),\n",
       " (array([], dtype=int64),),\n",
       " (array([], dtype=int64),),\n",
       " (array([], dtype=int64),),\n",
       " (array([], dtype=int64),),\n",
       " (array([], dtype=int64),),\n",
       " (array([], dtype=int64),),\n",
       " (array([], dtype=int64),),\n",
       " (array([], dtype=int64),),\n",
       " (array([], dtype=int64),),\n",
       " (array([], dtype=int64),),\n",
       " (array([], dtype=int64),),\n",
       " (array([], dtype=int64),),\n",
       " (array([], dtype=int64),),\n",
       " (array([], dtype=int64),),\n",
       " (array([], dtype=int64),),\n",
       " (array([], dtype=int64),),\n",
       " (array([], dtype=int64),),\n",
       " (array([], dtype=int64),),\n",
       " (array([], dtype=int64),),\n",
       " (array([], dtype=int64),),\n",
       " (array([], dtype=int64),),\n",
       " (array([], dtype=int64),),\n",
       " (array([], dtype=int64),),\n",
       " (array([], dtype=int64),),\n",
       " (array([], dtype=int64),),\n",
       " (array([], dtype=int64),),\n",
       " (array([], dtype=int64),),\n",
       " (array([], dtype=int64),),\n",
       " (array([], dtype=int64),),\n",
       " (array([], dtype=int64),),\n",
       " (array([], dtype=int64),),\n",
       " (array([], dtype=int64),),\n",
       " (array([], dtype=int64),),\n",
       " (array([], dtype=int64),),\n",
       " (array([], dtype=int64),),\n",
       " (array([], dtype=int64),),\n",
       " (array([], dtype=int64),),\n",
       " (array([], dtype=int64),),\n",
       " (array([], dtype=int64),),\n",
       " (array([], dtype=int64),),\n",
       " (array([], dtype=int64),),\n",
       " (array([], dtype=int64),),\n",
       " (array([], dtype=int64),),\n",
       " (array([], dtype=int64),),\n",
       " (array([], dtype=int64),),\n",
       " (array([], dtype=int64),),\n",
       " (array([], dtype=int64),),\n",
       " (array([], dtype=int64),),\n",
       " (array([], dtype=int64),),\n",
       " (array([], dtype=int64),),\n",
       " (array([], dtype=int64),),\n",
       " (array([], dtype=int64),),\n",
       " (array([], dtype=int64),),\n",
       " (array([], dtype=int64),),\n",
       " (array([], dtype=int64),),\n",
       " (array([], dtype=int64),),\n",
       " (array([], dtype=int64),),\n",
       " (array([], dtype=int64),),\n",
       " (array([], dtype=int64),),\n",
       " (array([], dtype=int64),),\n",
       " (array([], dtype=int64),),\n",
       " (array([], dtype=int64),),\n",
       " (array([], dtype=int64),),\n",
       " (array([], dtype=int64),),\n",
       " (array([], dtype=int64),),\n",
       " (array([], dtype=int64),),\n",
       " (array([], dtype=int64),),\n",
       " (array([], dtype=int64),),\n",
       " (array([], dtype=int64),),\n",
       " (array([], dtype=int64),),\n",
       " (array([], dtype=int64),),\n",
       " (array([], dtype=int64),),\n",
       " (array([], dtype=int64),),\n",
       " (array([], dtype=int64),),\n",
       " (array([], dtype=int64),),\n",
       " (array([], dtype=int64),),\n",
       " (array([], dtype=int64),),\n",
       " (array([], dtype=int64),),\n",
       " (array([], dtype=int64),),\n",
       " (array([], dtype=int64),),\n",
       " (array([], dtype=int64),),\n",
       " (array([], dtype=int64),),\n",
       " (array([], dtype=int64),),\n",
       " (array([], dtype=int64),),\n",
       " (array([], dtype=int64),),\n",
       " (array([], dtype=int64),),\n",
       " (array([], dtype=int64),),\n",
       " (array([], dtype=int64),),\n",
       " (array([], dtype=int64),),\n",
       " (array([], dtype=int64),),\n",
       " (array([], dtype=int64),),\n",
       " (array([], dtype=int64),),\n",
       " (array([], dtype=int64),),\n",
       " (array([], dtype=int64),),\n",
       " (array([], dtype=int64),),\n",
       " (array([], dtype=int64),),\n",
       " (array([], dtype=int64),),\n",
       " (array([], dtype=int64),),\n",
       " (array([], dtype=int64),),\n",
       " (array([], dtype=int64),),\n",
       " (array([], dtype=int64),),\n",
       " (array([], dtype=int64),),\n",
       " (array([], dtype=int64),),\n",
       " (array([], dtype=int64),),\n",
       " (array([], dtype=int64),),\n",
       " (array([], dtype=int64),),\n",
       " (array([], dtype=int64),),\n",
       " (array([], dtype=int64),),\n",
       " (array([], dtype=int64),),\n",
       " (array([], dtype=int64),),\n",
       " (array([], dtype=int64),),\n",
       " (array([], dtype=int64),),\n",
       " (array([], dtype=int64),),\n",
       " (array([], dtype=int64),),\n",
       " (array([], dtype=int64),),\n",
       " (array([], dtype=int64),),\n",
       " (array([], dtype=int64),),\n",
       " (array([], dtype=int64),),\n",
       " (array([], dtype=int64),),\n",
       " (array([], dtype=int64),),\n",
       " (array([], dtype=int64),),\n",
       " (array([], dtype=int64),),\n",
       " (array([], dtype=int64),),\n",
       " (array([], dtype=int64),),\n",
       " (array([], dtype=int64),),\n",
       " (array([], dtype=int64),),\n",
       " (array([], dtype=int64),),\n",
       " (array([], dtype=int64),),\n",
       " (array([], dtype=int64),),\n",
       " (array([], dtype=int64),),\n",
       " (array([], dtype=int64),),\n",
       " (array([], dtype=int64),),\n",
       " (array([], dtype=int64),),\n",
       " (array([], dtype=int64),),\n",
       " (array([], dtype=int64),),\n",
       " (array([], dtype=int64),),\n",
       " (array([], dtype=int64),),\n",
       " (array([], dtype=int64),),\n",
       " (array([], dtype=int64),),\n",
       " (array([], dtype=int64),),\n",
       " (array([], dtype=int64),),\n",
       " (array([], dtype=int64),),\n",
       " (array([], dtype=int64),),\n",
       " (array([], dtype=int64),),\n",
       " (array([], dtype=int64),),\n",
       " (array([], dtype=int64),),\n",
       " (array([], dtype=int64),),\n",
       " (array([], dtype=int64),),\n",
       " (array([], dtype=int64),),\n",
       " (array([], dtype=int64),),\n",
       " (array([], dtype=int64),),\n",
       " (array([], dtype=int64),),\n",
       " (array([], dtype=int64),),\n",
       " (array([], dtype=int64),),\n",
       " (array([], dtype=int64),),\n",
       " (array([], dtype=int64),),\n",
       " (array([], dtype=int64),),\n",
       " (array([], dtype=int64),),\n",
       " (array([], dtype=int64),),\n",
       " (array([], dtype=int64),),\n",
       " (array([], dtype=int64),),\n",
       " (array([], dtype=int64),),\n",
       " (array([], dtype=int64),),\n",
       " (array([], dtype=int64),),\n",
       " (array([], dtype=int64),),\n",
       " (array([], dtype=int64),),\n",
       " (array([], dtype=int64),),\n",
       " (array([], dtype=int64),),\n",
       " (array([], dtype=int64),),\n",
       " (array([], dtype=int64),),\n",
       " (array([], dtype=int64),),\n",
       " (array([], dtype=int64),),\n",
       " (array([], dtype=int64),),\n",
       " (array([], dtype=int64),),\n",
       " (array([], dtype=int64),),\n",
       " (array([], dtype=int64),),\n",
       " (array([], dtype=int64),),\n",
       " (array([], dtype=int64),),\n",
       " (array([], dtype=int64),),\n",
       " (array([], dtype=int64),),\n",
       " (array([], dtype=int64),),\n",
       " (array([], dtype=int64),),\n",
       " (array([], dtype=int64),),\n",
       " (array([], dtype=int64),),\n",
       " (array([], dtype=int64),),\n",
       " (array([], dtype=int64),),\n",
       " (array([], dtype=int64),),\n",
       " (array([], dtype=int64),),\n",
       " (array([], dtype=int64),),\n",
       " (array([], dtype=int64),),\n",
       " (array([], dtype=int64),),\n",
       " (array([], dtype=int64),),\n",
       " (array([], dtype=int64),),\n",
       " (array([], dtype=int64),),\n",
       " (array([], dtype=int64),),\n",
       " (array([], dtype=int64),),\n",
       " (array([], dtype=int64),),\n",
       " (array([], dtype=int64),),\n",
       " (array([], dtype=int64),),\n",
       " (array([], dtype=int64),),\n",
       " (array([], dtype=int64),),\n",
       " (array([], dtype=int64),),\n",
       " (array([], dtype=int64),),\n",
       " (array([], dtype=int64),),\n",
       " (array([], dtype=int64),),\n",
       " (array([], dtype=int64),),\n",
       " (array([], dtype=int64),),\n",
       " (array([], dtype=int64),),\n",
       " (array([], dtype=int64),),\n",
       " (array([], dtype=int64),),\n",
       " (array([], dtype=int64),),\n",
       " (array([], dtype=int64),),\n",
       " (array([], dtype=int64),),\n",
       " (array([], dtype=int64),),\n",
       " (array([], dtype=int64),),\n",
       " (array([], dtype=int64),),\n",
       " (array([], dtype=int64),),\n",
       " (array([], dtype=int64),),\n",
       " (array([], dtype=int64),),\n",
       " (array([], dtype=int64),),\n",
       " (array([], dtype=int64),),\n",
       " (array([], dtype=int64),),\n",
       " (array([], dtype=int64),),\n",
       " (array([], dtype=int64),),\n",
       " (array([], dtype=int64),),\n",
       " (array([], dtype=int64),),\n",
       " (array([], dtype=int64),),\n",
       " (array([], dtype=int64),),\n",
       " (array([], dtype=int64),),\n",
       " (array([], dtype=int64),),\n",
       " (array([], dtype=int64),),\n",
       " (array([], dtype=int64),),\n",
       " (array([], dtype=int64),),\n",
       " (array([], dtype=int64),),\n",
       " (array([], dtype=int64),),\n",
       " (array([], dtype=int64),),\n",
       " (array([], dtype=int64),),\n",
       " (array([], dtype=int64),),\n",
       " (array([], dtype=int64),),\n",
       " (array([], dtype=int64),),\n",
       " (array([], dtype=int64),),\n",
       " (array([], dtype=int64),),\n",
       " (array([], dtype=int64),),\n",
       " (array([], dtype=int64),),\n",
       " (array([], dtype=int64),),\n",
       " (array([], dtype=int64),),\n",
       " (array([], dtype=int64),),\n",
       " (array([], dtype=int64),),\n",
       " (array([], dtype=int64),),\n",
       " (array([], dtype=int64),),\n",
       " (array([], dtype=int64),),\n",
       " (array([], dtype=int64),),\n",
       " (array([], dtype=int64),),\n",
       " (array([], dtype=int64),),\n",
       " (array([], dtype=int64),),\n",
       " (array([], dtype=int64),),\n",
       " (array([], dtype=int64),),\n",
       " (array([], dtype=int64),),\n",
       " (array([], dtype=int64),),\n",
       " (array([], dtype=int64),),\n",
       " (array([], dtype=int64),),\n",
       " (array([], dtype=int64),),\n",
       " (array([], dtype=int64),),\n",
       " (array([], dtype=int64),),\n",
       " (array([], dtype=int64),),\n",
       " (array([], dtype=int64),),\n",
       " (array([], dtype=int64),),\n",
       " (array([], dtype=int64),),\n",
       " (array([], dtype=int64),),\n",
       " (array([], dtype=int64),),\n",
       " (array([], dtype=int64),),\n",
       " (array([], dtype=int64),),\n",
       " (array([], dtype=int64),),\n",
       " (array([], dtype=int64),),\n",
       " (array([], dtype=int64),),\n",
       " (array([], dtype=int64),),\n",
       " (array([], dtype=int64),),\n",
       " (array([], dtype=int64),),\n",
       " (array([], dtype=int64),),\n",
       " (array([], dtype=int64),),\n",
       " (array([], dtype=int64),),\n",
       " (array([], dtype=int64),),\n",
       " (array([], dtype=int64),),\n",
       " (array([], dtype=int64),),\n",
       " (array([], dtype=int64),),\n",
       " (array([], dtype=int64),),\n",
       " (array([], dtype=int64),),\n",
       " (array([], dtype=int64),),\n",
       " (array([], dtype=int64),),\n",
       " (array([], dtype=int64),),\n",
       " (array([], dtype=int64),),\n",
       " (array([], dtype=int64),),\n",
       " (array([], dtype=int64),),\n",
       " (array([], dtype=int64),),\n",
       " (array([], dtype=int64),),\n",
       " (array([], dtype=int64),),\n",
       " (array([], dtype=int64),),\n",
       " (array([], dtype=int64),),\n",
       " (array([], dtype=int64),),\n",
       " (array([], dtype=int64),),\n",
       " (array([], dtype=int64),),\n",
       " (array([], dtype=int64),),\n",
       " (array([], dtype=int64),),\n",
       " (array([], dtype=int64),),\n",
       " (array([], dtype=int64),),\n",
       " (array([], dtype=int64),),\n",
       " (array([], dtype=int64),),\n",
       " (array([], dtype=int64),),\n",
       " (array([], dtype=int64),),\n",
       " (array([], dtype=int64),),\n",
       " (array([], dtype=int64),),\n",
       " (array([], dtype=int64),),\n",
       " (array([], dtype=int64),),\n",
       " (array([], dtype=int64),),\n",
       " (array([], dtype=int64),),\n",
       " (array([], dtype=int64),),\n",
       " (array([], dtype=int64),),\n",
       " (array([], dtype=int64),),\n",
       " (array([], dtype=int64),),\n",
       " (array([], dtype=int64),),\n",
       " (array([], dtype=int64),),\n",
       " (array([], dtype=int64),),\n",
       " (array([], dtype=int64),),\n",
       " (array([], dtype=int64),),\n",
       " (array([], dtype=int64),),\n",
       " (array([], dtype=int64),),\n",
       " (array([], dtype=int64),),\n",
       " (array([], dtype=int64),),\n",
       " (array([], dtype=int64),),\n",
       " (array([], dtype=int64),),\n",
       " (array([], dtype=int64),),\n",
       " (array([], dtype=int64),),\n",
       " (array([], dtype=int64),),\n",
       " (array([], dtype=int64),),\n",
       " (array([], dtype=int64),),\n",
       " (array([], dtype=int64),),\n",
       " (array([], dtype=int64),),\n",
       " (array([], dtype=int64),),\n",
       " (array([], dtype=int64),),\n",
       " (array([], dtype=int64),),\n",
       " (array([], dtype=int64),),\n",
       " (array([], dtype=int64),),\n",
       " (array([], dtype=int64),),\n",
       " (array([], dtype=int64),),\n",
       " (array([], dtype=int64),),\n",
       " (array([], dtype=int64),),\n",
       " (array([], dtype=int64),),\n",
       " (array([], dtype=int64),),\n",
       " (array([], dtype=int64),),\n",
       " (array([], dtype=int64),),\n",
       " (array([], dtype=int64),),\n",
       " (array([], dtype=int64),),\n",
       " (array([], dtype=int64),),\n",
       " (array([], dtype=int64),),\n",
       " (array([], dtype=int64),),\n",
       " (array([], dtype=int64),),\n",
       " (array([], dtype=int64),),\n",
       " (array([], dtype=int64),),\n",
       " (array([], dtype=int64),),\n",
       " (array([], dtype=int64),),\n",
       " (array([], dtype=int64),),\n",
       " (array([], dtype=int64),),\n",
       " (array([], dtype=int64),),\n",
       " (array([], dtype=int64),),\n",
       " (array([], dtype=int64),),\n",
       " (array([], dtype=int64),),\n",
       " (array([], dtype=int64),),\n",
       " (array([], dtype=int64),),\n",
       " (array([], dtype=int64),),\n",
       " (array([], dtype=int64),),\n",
       " (array([], dtype=int64),),\n",
       " (array([], dtype=int64),),\n",
       " (array([], dtype=int64),),\n",
       " (array([], dtype=int64),),\n",
       " (array([], dtype=int64),),\n",
       " (array([], dtype=int64),),\n",
       " (array([], dtype=int64),),\n",
       " (array([], dtype=int64),),\n",
       " (array([], dtype=int64),),\n",
       " (array([], dtype=int64),),\n",
       " (array([], dtype=int64),),\n",
       " (array([], dtype=int64),),\n",
       " (array([], dtype=int64),),\n",
       " (array([], dtype=int64),),\n",
       " (array([], dtype=int64),),\n",
       " (array([], dtype=int64),),\n",
       " (array([], dtype=int64),),\n",
       " (array([], dtype=int64),),\n",
       " (array([], dtype=int64),),\n",
       " (array([], dtype=int64),),\n",
       " (array([], dtype=int64),),\n",
       " (array([], dtype=int64),),\n",
       " (array([], dtype=int64),),\n",
       " (array([], dtype=int64),),\n",
       " (array([], dtype=int64),),\n",
       " (array([], dtype=int64),),\n",
       " (array([], dtype=int64),),\n",
       " (array([], dtype=int64),),\n",
       " (array([], dtype=int64),),\n",
       " (array([], dtype=int64),),\n",
       " (array([], dtype=int64),),\n",
       " (array([], dtype=int64),),\n",
       " (array([], dtype=int64),),\n",
       " (array([], dtype=int64),),\n",
       " (array([], dtype=int64),),\n",
       " (array([], dtype=int64),),\n",
       " (array([], dtype=int64),),\n",
       " (array([], dtype=int64),),\n",
       " (array([], dtype=int64),),\n",
       " (array([], dtype=int64),),\n",
       " (array([], dtype=int64),),\n",
       " (array([], dtype=int64),),\n",
       " (array([], dtype=int64),),\n",
       " (array([], dtype=int64),),\n",
       " (array([], dtype=int64),),\n",
       " (array([], dtype=int64),),\n",
       " (array([], dtype=int64),),\n",
       " (array([], dtype=int64),),\n",
       " (array([], dtype=int64),),\n",
       " (array([], dtype=int64),),\n",
       " (array([], dtype=int64),),\n",
       " (array([], dtype=int64),),\n",
       " (array([], dtype=int64),),\n",
       " (array([], dtype=int64),),\n",
       " (array([], dtype=int64),),\n",
       " (array([], dtype=int64),),\n",
       " (array([], dtype=int64),),\n",
       " (array([], dtype=int64),),\n",
       " (array([], dtype=int64),),\n",
       " (array([], dtype=int64),),\n",
       " (array([], dtype=int64),),\n",
       " (array([], dtype=int64),),\n",
       " (array([], dtype=int64),),\n",
       " (array([], dtype=int64),),\n",
       " (array([], dtype=int64),),\n",
       " (array([], dtype=int64),),\n",
       " (array([], dtype=int64),),\n",
       " (array([], dtype=int64),),\n",
       " (array([], dtype=int64),),\n",
       " (array([], dtype=int64),),\n",
       " (array([], dtype=int64),),\n",
       " (array([], dtype=int64),),\n",
       " (array([], dtype=int64),),\n",
       " (array([], dtype=int64),),\n",
       " (array([], dtype=int64),),\n",
       " (array([], dtype=int64),),\n",
       " (array([], dtype=int64),),\n",
       " (array([], dtype=int64),),\n",
       " (array([], dtype=int64),),\n",
       " (array([], dtype=int64),),\n",
       " (array([], dtype=int64),),\n",
       " (array([], dtype=int64),),\n",
       " (array([], dtype=int64),),\n",
       " (array([], dtype=int64),),\n",
       " (array([], dtype=int64),),\n",
       " (array([], dtype=int64),),\n",
       " (array([], dtype=int64),),\n",
       " (array([], dtype=int64),),\n",
       " (array([], dtype=int64),),\n",
       " (array([], dtype=int64),),\n",
       " (array([], dtype=int64),),\n",
       " (array([], dtype=int64),),\n",
       " (array([], dtype=int64),),\n",
       " (array([], dtype=int64),),\n",
       " (array([], dtype=int64),),\n",
       " (array([], dtype=int64),),\n",
       " (array([], dtype=int64),),\n",
       " (array([], dtype=int64),),\n",
       " (array([], dtype=int64),),\n",
       " (array([], dtype=int64),),\n",
       " (array([], dtype=int64),),\n",
       " (array([], dtype=int64),),\n",
       " (array([], dtype=int64),),\n",
       " (array([], dtype=int64),),\n",
       " (array([], dtype=int64),),\n",
       " (array([], dtype=int64),),\n",
       " (array([], dtype=int64),),\n",
       " (array([], dtype=int64),),\n",
       " (array([], dtype=int64),),\n",
       " (array([], dtype=int64),),\n",
       " (array([], dtype=int64),),\n",
       " (array([], dtype=int64),),\n",
       " (array([], dtype=int64),),\n",
       " (array([], dtype=int64),),\n",
       " (array([], dtype=int64),),\n",
       " (array([], dtype=int64),),\n",
       " (array([], dtype=int64),),\n",
       " (array([], dtype=int64),),\n",
       " (array([], dtype=int64),),\n",
       " (array([], dtype=int64),),\n",
       " (array([], dtype=int64),),\n",
       " (array([], dtype=int64),),\n",
       " (array([], dtype=int64),),\n",
       " (array([], dtype=int64),),\n",
       " (array([], dtype=int64),),\n",
       " (array([], dtype=int64),),\n",
       " (array([], dtype=int64),),\n",
       " (array([], dtype=int64),),\n",
       " (array([], dtype=int64),),\n",
       " (array([], dtype=int64),),\n",
       " (array([], dtype=int64),),\n",
       " (array([], dtype=int64),),\n",
       " (array([], dtype=int64),),\n",
       " (array([], dtype=int64),),\n",
       " (array([], dtype=int64),),\n",
       " (array([], dtype=int64),),\n",
       " (array([], dtype=int64),),\n",
       " (array([], dtype=int64),),\n",
       " (array([], dtype=int64),),\n",
       " (array([], dtype=int64),),\n",
       " (array([], dtype=int64),),\n",
       " (array([], dtype=int64),),\n",
       " (array([], dtype=int64),),\n",
       " (array([], dtype=int64),),\n",
       " (array([], dtype=int64),),\n",
       " (array([], dtype=int64),),\n",
       " (array([], dtype=int64),),\n",
       " (array([], dtype=int64),),\n",
       " (array([], dtype=int64),),\n",
       " (array([], dtype=int64),),\n",
       " (array([], dtype=int64),),\n",
       " (array([], dtype=int64),),\n",
       " (array([], dtype=int64),),\n",
       " (array([], dtype=int64),),\n",
       " (array([], dtype=int64),),\n",
       " (array([], dtype=int64),),\n",
       " (array([], dtype=int64),),\n",
       " (array([], dtype=int64),),\n",
       " (array([], dtype=int64),),\n",
       " (array([], dtype=int64),),\n",
       " (array([], dtype=int64),),\n",
       " (array([], dtype=int64),),\n",
       " (array([], dtype=int64),),\n",
       " (array([], dtype=int64),),\n",
       " (array([], dtype=int64),),\n",
       " (array([], dtype=int64),),\n",
       " (array([], dtype=int64),),\n",
       " (array([], dtype=int64),),\n",
       " (array([], dtype=int64),),\n",
       " (array([], dtype=int64),),\n",
       " (array([], dtype=int64),),\n",
       " (array([], dtype=int64),),\n",
       " (array([], dtype=int64),),\n",
       " (array([], dtype=int64),),\n",
       " (array([], dtype=int64),),\n",
       " (array([], dtype=int64),),\n",
       " (array([], dtype=int64),),\n",
       " (array([], dtype=int64),),\n",
       " (array([], dtype=int64),),\n",
       " (array([], dtype=int64),),\n",
       " (array([], dtype=int64),),\n",
       " (array([], dtype=int64),),\n",
       " (array([], dtype=int64),),\n",
       " (array([], dtype=int64),),\n",
       " (array([], dtype=int64),),\n",
       " (array([], dtype=int64),),\n",
       " (array([], dtype=int64),),\n",
       " (array([], dtype=int64),),\n",
       " (array([], dtype=int64),),\n",
       " (array([], dtype=int64),),\n",
       " (array([], dtype=int64),),\n",
       " (array([], dtype=int64),),\n",
       " (array([], dtype=int64),),\n",
       " (array([], dtype=int64),),\n",
       " (array([], dtype=int64),),\n",
       " (array([], dtype=int64),),\n",
       " (array([], dtype=int64),),\n",
       " (array([], dtype=int64),),\n",
       " (array([], dtype=int64),),\n",
       " (array([], dtype=int64),),\n",
       " (array([], dtype=int64),),\n",
       " (array([], dtype=int64),),\n",
       " (array([], dtype=int64),),\n",
       " (array([], dtype=int64),),\n",
       " (array([], dtype=int64),),\n",
       " (array([], dtype=int64),),\n",
       " (array([], dtype=int64),),\n",
       " (array([], dtype=int64),),\n",
       " (array([], dtype=int64),),\n",
       " (array([], dtype=int64),),\n",
       " (array([], dtype=int64),),\n",
       " (array([], dtype=int64),),\n",
       " (array([], dtype=int64),),\n",
       " (array([], dtype=int64),),\n",
       " (array([], dtype=int64),),\n",
       " (array([], dtype=int64),),\n",
       " (array([], dtype=int64),),\n",
       " (array([], dtype=int64),),\n",
       " (array([], dtype=int64),),\n",
       " (array([], dtype=int64),),\n",
       " (array([], dtype=int64),),\n",
       " (array([], dtype=int64),),\n",
       " (array([], dtype=int64),),\n",
       " (array([], dtype=int64),),\n",
       " (array([], dtype=int64),),\n",
       " (array([], dtype=int64),),\n",
       " (array([], dtype=int64),),\n",
       " (array([], dtype=int64),),\n",
       " (array([], dtype=int64),),\n",
       " (array([], dtype=int64),),\n",
       " (array([], dtype=int64),),\n",
       " (array([], dtype=int64),),\n",
       " (array([], dtype=int64),),\n",
       " (array([], dtype=int64),),\n",
       " (array([], dtype=int64),),\n",
       " (array([], dtype=int64),),\n",
       " (array([], dtype=int64),),\n",
       " (array([], dtype=int64),),\n",
       " (array([], dtype=int64),),\n",
       " (array([], dtype=int64),),\n",
       " (array([], dtype=int64),),\n",
       " (array([], dtype=int64),),\n",
       " (array([], dtype=int64),),\n",
       " (array([], dtype=int64),),\n",
       " (array([], dtype=int64),),\n",
       " (array([], dtype=int64),),\n",
       " (array([], dtype=int64),),\n",
       " (array([], dtype=int64),),\n",
       " (array([], dtype=int64),),\n",
       " (array([], dtype=int64),),\n",
       " (array([], dtype=int64),),\n",
       " (array([], dtype=int64),),\n",
       " (array([], dtype=int64),),\n",
       " (array([], dtype=int64),),\n",
       " (array([], dtype=int64),),\n",
       " (array([], dtype=int64),),\n",
       " (array([], dtype=int64),),\n",
       " (array([], dtype=int64),),\n",
       " (array([], dtype=int64),),\n",
       " (array([], dtype=int64),),\n",
       " (array([], dtype=int64),),\n",
       " (array([], dtype=int64),),\n",
       " (array([], dtype=int64),),\n",
       " (array([], dtype=int64),),\n",
       " (array([], dtype=int64),),\n",
       " (array([], dtype=int64),),\n",
       " (array([], dtype=int64),),\n",
       " (array([], dtype=int64),),\n",
       " (array([], dtype=int64),),\n",
       " (array([], dtype=int64),),\n",
       " (array([], dtype=int64),),\n",
       " (array([], dtype=int64),),\n",
       " (array([], dtype=int64),),\n",
       " (array([], dtype=int64),),\n",
       " (array([], dtype=int64),),\n",
       " (array([], dtype=int64),),\n",
       " (array([], dtype=int64),),\n",
       " (array([], dtype=int64),),\n",
       " (array([], dtype=int64),),\n",
       " (array([], dtype=int64),),\n",
       " (array([], dtype=int64),),\n",
       " (array([], dtype=int64),),\n",
       " (array([], dtype=int64),),\n",
       " (array([], dtype=int64),),\n",
       " (array([], dtype=int64),),\n",
       " (array([], dtype=int64),),\n",
       " (array([], dtype=int64),),\n",
       " (array([], dtype=int64),),\n",
       " (array([], dtype=int64),),\n",
       " (array([], dtype=int64),),\n",
       " (array([], dtype=int64),),\n",
       " (array([], dtype=int64),),\n",
       " (array([], dtype=int64),),\n",
       " (array([], dtype=int64),),\n",
       " (array([], dtype=int64),),\n",
       " (array([], dtype=int64),),\n",
       " (array([], dtype=int64),),\n",
       " (array([], dtype=int64),),\n",
       " (array([], dtype=int64),),\n",
       " (array([], dtype=int64),),\n",
       " (array([], dtype=int64),),\n",
       " (array([], dtype=int64),),\n",
       " (array([], dtype=int64),),\n",
       " (array([], dtype=int64),),\n",
       " (array([], dtype=int64),),\n",
       " (array([], dtype=int64),),\n",
       " (array([], dtype=int64),),\n",
       " (array([], dtype=int64),),\n",
       " (array([], dtype=int64),),\n",
       " (array([], dtype=int64),),\n",
       " (array([], dtype=int64),),\n",
       " (array([], dtype=int64),),\n",
       " (array([], dtype=int64),),\n",
       " (array([], dtype=int64),),\n",
       " (array([], dtype=int64),),\n",
       " (array([], dtype=int64),),\n",
       " (array([], dtype=int64),),\n",
       " (array([], dtype=int64),),\n",
       " (array([], dtype=int64),),\n",
       " (array([], dtype=int64),),\n",
       " (array([], dtype=int64),),\n",
       " (array([], dtype=int64),),\n",
       " (array([], dtype=int64),),\n",
       " (array([], dtype=int64),),\n",
       " (array([], dtype=int64),),\n",
       " (array([], dtype=int64),),\n",
       " (array([], dtype=int64),),\n",
       " (array([], dtype=int64),),\n",
       " (array([], dtype=int64),),\n",
       " (array([], dtype=int64),),\n",
       " (array([], dtype=int64),),\n",
       " (array([], dtype=int64),),\n",
       " (array([], dtype=int64),),\n",
       " (array([], dtype=int64),),\n",
       " (array([], dtype=int64),),\n",
       " (array([], dtype=int64),),\n",
       " (array([], dtype=int64),),\n",
       " (array([], dtype=int64),),\n",
       " (array([], dtype=int64),),\n",
       " (array([], dtype=int64),),\n",
       " (array([], dtype=int64),),\n",
       " (array([], dtype=int64),),\n",
       " (array([], dtype=int64),),\n",
       " (array([], dtype=int64),),\n",
       " (array([], dtype=int64),),\n",
       " (array([], dtype=int64),),\n",
       " (array([], dtype=int64),),\n",
       " (array([], dtype=int64),),\n",
       " (array([], dtype=int64),),\n",
       " (array([], dtype=int64),),\n",
       " (array([], dtype=int64),),\n",
       " (array([], dtype=int64),),\n",
       " (array([], dtype=int64),),\n",
       " (array([], dtype=int64),),\n",
       " (array([], dtype=int64),),\n",
       " (array([], dtype=int64),),\n",
       " (array([], dtype=int64),),\n",
       " (array([], dtype=int64),),\n",
       " (array([], dtype=int64),),\n",
       " (array([], dtype=int64),),\n",
       " (array([], dtype=int64),),\n",
       " (array([], dtype=int64),),\n",
       " (array([], dtype=int64),),\n",
       " (array([], dtype=int64),),\n",
       " (array([], dtype=int64),),\n",
       " (array([], dtype=int64),),\n",
       " (array([], dtype=int64),),\n",
       " (array([], dtype=int64),),\n",
       " (array([], dtype=int64),),\n",
       " (array([], dtype=int64),),\n",
       " (array([], dtype=int64),),\n",
       " (array([], dtype=int64),),\n",
       " (array([], dtype=int64),),\n",
       " (array([], dtype=int64),),\n",
       " (array([], dtype=int64),),\n",
       " (array([], dtype=int64),),\n",
       " (array([], dtype=int64),),\n",
       " (array([], dtype=int64),),\n",
       " (array([], dtype=int64),),\n",
       " (array([], dtype=int64),),\n",
       " (array([], dtype=int64),),\n",
       " (array([], dtype=int64),),\n",
       " (array([], dtype=int64),),\n",
       " (array([], dtype=int64),),\n",
       " (array([], dtype=int64),),\n",
       " (array([], dtype=int64),),\n",
       " (array([], dtype=int64),),\n",
       " (array([], dtype=int64),),\n",
       " (array([], dtype=int64),),\n",
       " (array([], dtype=int64),),\n",
       " (array([], dtype=int64),),\n",
       " (array([], dtype=int64),),\n",
       " (array([], dtype=int64),),\n",
       " (array([], dtype=int64),),\n",
       " (array([], dtype=int64),),\n",
       " (array([], dtype=int64),),\n",
       " (array([], dtype=int64),),\n",
       " (array([], dtype=int64),),\n",
       " (array([], dtype=int64),),\n",
       " (array([], dtype=int64),),\n",
       " (array([], dtype=int64),),\n",
       " (array([], dtype=int64),),\n",
       " (array([], dtype=int64),),\n",
       " (array([], dtype=int64),),\n",
       " (array([], dtype=int64),),\n",
       " (array([], dtype=int64),),\n",
       " (array([], dtype=int64),),\n",
       " (array([], dtype=int64),),\n",
       " (array([], dtype=int64),),\n",
       " (array([], dtype=int64),),\n",
       " (array([], dtype=int64),),\n",
       " (array([], dtype=int64),),\n",
       " (array([], dtype=int64),),\n",
       " (array([], dtype=int64),),\n",
       " (array([], dtype=int64),),\n",
       " (array([], dtype=int64),),\n",
       " (array([], dtype=int64),),\n",
       " (array([], dtype=int64),),\n",
       " (array([], dtype=int64),),\n",
       " (array([], dtype=int64),),\n",
       " (array([], dtype=int64),),\n",
       " (array([], dtype=int64),),\n",
       " (array([], dtype=int64),),\n",
       " (array([], dtype=int64),),\n",
       " (array([], dtype=int64),),\n",
       " (array([], dtype=int64),),\n",
       " (array([], dtype=int64),),\n",
       " (array([], dtype=int64),),\n",
       " (array([], dtype=int64),),\n",
       " (array([], dtype=int64),),\n",
       " (array([], dtype=int64),),\n",
       " (array([], dtype=int64),),\n",
       " (array([], dtype=int64),),\n",
       " (array([], dtype=int64),),\n",
       " (array([], dtype=int64),),\n",
       " (array([], dtype=int64),),\n",
       " (array([], dtype=int64),),\n",
       " (array([], dtype=int64),),\n",
       " (array([], dtype=int64),),\n",
       " (array([], dtype=int64),),\n",
       " (array([], dtype=int64),),\n",
       " (array([], dtype=int64),),\n",
       " (array([], dtype=int64),),\n",
       " (array([], dtype=int64),),\n",
       " (array([], dtype=int64),),\n",
       " (array([], dtype=int64),),\n",
       " (array([], dtype=int64),),\n",
       " (array([], dtype=int64),),\n",
       " (array([], dtype=int64),),\n",
       " (array([], dtype=int64),),\n",
       " (array([], dtype=int64),),\n",
       " (array([], dtype=int64),),\n",
       " (array([], dtype=int64),),\n",
       " (array([], dtype=int64),),\n",
       " (array([], dtype=int64),),\n",
       " (array([], dtype=int64),),\n",
       " (array([], dtype=int64),),\n",
       " (array([], dtype=int64),),\n",
       " (array([], dtype=int64),),\n",
       " (array([], dtype=int64),),\n",
       " (array([], dtype=int64),),\n",
       " (array([], dtype=int64),),\n",
       " (array([], dtype=int64),),\n",
       " (array([], dtype=int64),),\n",
       " (array([], dtype=int64),),\n",
       " (array([], dtype=int64),),\n",
       " (array([], dtype=int64),),\n",
       " (array([], dtype=int64),),\n",
       " (array([], dtype=int64),),\n",
       " (array([], dtype=int64),),\n",
       " (array([], dtype=int64),),\n",
       " (array([], dtype=int64),),\n",
       " (array([], dtype=int64),),\n",
       " (array([], dtype=int64),),\n",
       " (array([], dtype=int64),),\n",
       " (array([], dtype=int64),),\n",
       " (array([], dtype=int64),),\n",
       " (array([], dtype=int64),),\n",
       " (array([], dtype=int64),),\n",
       " (array([], dtype=int64),),\n",
       " (array([], dtype=int64),),\n",
       " (array([], dtype=int64),),\n",
       " (array([], dtype=int64),),\n",
       " (array([], dtype=int64),),\n",
       " (array([], dtype=int64),),\n",
       " (array([], dtype=int64),),\n",
       " (array([], dtype=int64),),\n",
       " (array([], dtype=int64),),\n",
       " (array([], dtype=int64),),\n",
       " (array([], dtype=int64),),\n",
       " (array([], dtype=int64),),\n",
       " (array([], dtype=int64),),\n",
       " (array([], dtype=int64),),\n",
       " (array([], dtype=int64),),\n",
       " (array([], dtype=int64),),\n",
       " (array([], dtype=int64),),\n",
       " (array([], dtype=int64),),\n",
       " (array([], dtype=int64),),\n",
       " (array([], dtype=int64),),\n",
       " (array([], dtype=int64),),\n",
       " (array([], dtype=int64),),\n",
       " (array([], dtype=int64),),\n",
       " (array([], dtype=int64),),\n",
       " (array([], dtype=int64),),\n",
       " (array([], dtype=int64),),\n",
       " (array([], dtype=int64),),\n",
       " (array([], dtype=int64),),\n",
       " (array([], dtype=int64),),\n",
       " ...]"
      ]
     },
     "execution_count": 59,
     "metadata": {},
     "output_type": "execute_result"
    }
   ],
   "source": [
    "hold"
   ]
  },
  {
   "cell_type": "code",
   "execution_count": 29,
   "metadata": {},
   "outputs": [
    {
     "data": {
      "text/plain": [
       "10200384"
      ]
     },
     "execution_count": 29,
     "metadata": {},
     "output_type": "execute_result"
    }
   ],
   "source": [
    "dim = np.vstack((lat,lon))\n",
    "shaf_val = np.array([]) \n",
    "for i in dim:\n",
    "    mask = np.all(arr_shaf[:, :2] == i, axis=1)\n",
    "    shaf_val = np.append(arr_shaf,arr_shaf[mask],axis=0)   \n",
    "shaf_val.shape[0]"
   ]
  },
  {
   "cell_type": "code",
   "execution_count": 38,
   "metadata": {},
   "outputs": [
    {
     "data": {
      "text/plain": [
       "13636"
      ]
     },
     "execution_count": 38,
     "metadata": {},
     "output_type": "execute_result"
    }
   ],
   "source": [
    "len(hold)"
   ]
  },
  {
   "cell_type": "code",
   "execution_count": 37,
   "metadata": {},
   "outputs": [
    {
     "data": {
      "text/plain": [
       "656"
      ]
     },
     "execution_count": 37,
     "metadata": {},
     "output_type": "execute_result"
    }
   ],
   "source": [
    "shaf_val.shape[0]-10199728"
   ]
  },
  {
   "cell_type": "code",
   "execution_count": 39,
   "metadata": {},
   "outputs": [
    {
     "data": {
      "text/plain": [
       "(10200384, 11)"
      ]
     },
     "execution_count": 39,
     "metadata": {},
     "output_type": "execute_result"
    }
   ],
   "source": [
    "shaf_val.shape"
   ]
  },
  {
   "cell_type": "code",
   "execution_count": 40,
   "metadata": {},
   "outputs": [],
   "source": [
    "np.save('../../data/shaf.npy',shaf_val,)"
   ]
  },
  {
   "cell_type": "code",
   "execution_count": 27,
   "metadata": {},
   "outputs": [
    {
     "name": "stderr",
     "output_type": "stream",
     "text": [
      "/tmp/ipykernel_139689/2683765984.py:18: DeprecationWarning: elementwise comparison failed; this will raise an error in the future.\n",
      "  mask = np.all(data_cols_12 == dim, axis=1)\n"
     ]
    },
    {
     "ename": "AxisError",
     "evalue": "axis 1 is out of bounds for array of dimension 0",
     "output_type": "error",
     "traceback": [
      "\u001b[0;31m---------------------------------------------------------------------------\u001b[0m",
      "\u001b[0;31mAxisError\u001b[0m                                 Traceback (most recent call last)",
      "Cell \u001b[0;32mIn[27], line 18\u001b[0m\n\u001b[1;32m     15\u001b[0m data_cols_12 \u001b[39m=\u001b[39m data[:, :\u001b[39m2\u001b[39m]\n\u001b[1;32m     17\u001b[0m \u001b[39m# create a boolean mask for rows where the first two columns match dim\u001b[39;00m\n\u001b[0;32m---> 18\u001b[0m mask \u001b[39m=\u001b[39m np\u001b[39m.\u001b[39;49mall(data_cols_12 \u001b[39m==\u001b[39;49m dim, axis\u001b[39m=\u001b[39;49m\u001b[39m1\u001b[39;49m)\n\u001b[1;32m     20\u001b[0m \u001b[39m# use the boolean mask to select the rows from data\u001b[39;00m\n\u001b[1;32m     21\u001b[0m selected_rows \u001b[39m=\u001b[39m data[mask]\n",
      "File \u001b[0;32m<__array_function__ internals>:200\u001b[0m, in \u001b[0;36mall\u001b[0;34m(*args, **kwargs)\u001b[0m\n",
      "File \u001b[0;32m~/furnaces-main/env/lib/python3.10/site-packages/numpy/core/fromnumeric.py:2515\u001b[0m, in \u001b[0;36mall\u001b[0;34m(a, axis, out, keepdims, where)\u001b[0m\n\u001b[1;32m   2432\u001b[0m \u001b[39m@array_function_dispatch\u001b[39m(_all_dispatcher)\n\u001b[1;32m   2433\u001b[0m \u001b[39mdef\u001b[39;00m \u001b[39mall\u001b[39m(a, axis\u001b[39m=\u001b[39m\u001b[39mNone\u001b[39;00m, out\u001b[39m=\u001b[39m\u001b[39mNone\u001b[39;00m, keepdims\u001b[39m=\u001b[39mnp\u001b[39m.\u001b[39m_NoValue, \u001b[39m*\u001b[39m, where\u001b[39m=\u001b[39mnp\u001b[39m.\u001b[39m_NoValue):\n\u001b[1;32m   2434\u001b[0m \u001b[39m    \u001b[39m\u001b[39m\"\"\"\u001b[39;00m\n\u001b[1;32m   2435\u001b[0m \u001b[39m    Test whether all array elements along a given axis evaluate to True.\u001b[39;00m\n\u001b[1;32m   2436\u001b[0m \n\u001b[0;32m   (...)\u001b[0m\n\u001b[1;32m   2513\u001b[0m \n\u001b[1;32m   2514\u001b[0m \u001b[39m    \"\"\"\u001b[39;00m\n\u001b[0;32m-> 2515\u001b[0m     \u001b[39mreturn\u001b[39;00m _wrapreduction(a, np\u001b[39m.\u001b[39;49mlogical_and, \u001b[39m'\u001b[39;49m\u001b[39mall\u001b[39;49m\u001b[39m'\u001b[39;49m, axis, \u001b[39mNone\u001b[39;49;00m, out,\n\u001b[1;32m   2516\u001b[0m                           keepdims\u001b[39m=\u001b[39;49mkeepdims, where\u001b[39m=\u001b[39;49mwhere)\n",
      "File \u001b[0;32m~/furnaces-main/env/lib/python3.10/site-packages/numpy/core/fromnumeric.py:86\u001b[0m, in \u001b[0;36m_wrapreduction\u001b[0;34m(obj, ufunc, method, axis, dtype, out, **kwargs)\u001b[0m\n\u001b[1;32m     83\u001b[0m         \u001b[39melse\u001b[39;00m:\n\u001b[1;32m     84\u001b[0m             \u001b[39mreturn\u001b[39;00m reduction(axis\u001b[39m=\u001b[39maxis, out\u001b[39m=\u001b[39mout, \u001b[39m*\u001b[39m\u001b[39m*\u001b[39mpasskwargs)\n\u001b[0;32m---> 86\u001b[0m \u001b[39mreturn\u001b[39;00m ufunc\u001b[39m.\u001b[39;49mreduce(obj, axis, dtype, out, \u001b[39m*\u001b[39;49m\u001b[39m*\u001b[39;49mpasskwargs)\n",
      "\u001b[0;31mAxisError\u001b[0m: axis 1 is out of bounds for array of dimension 0"
     ]
    }
   ],
   "source": [
    "import numpy as np\n",
    "\n",
    "# create sample arrays\n",
    "dim = np.array([[3, 2],\n",
    "                [5, 7],\n",
    "                [1, 8]])\n",
    "data = np.array([[1, 2, 3, 4],\n",
    "                 [3, 2, 5, 6],\n",
    "                 [5, 7, 8, 9],\n",
    "                 [3, 2, 10, 11],\n",
    "                 [1, 8, 12, 13],\n",
    "                 [1, 2, 14, 15]])\n",
    "\n",
    "# extract the first two columns from data\n",
    "data_cols_12 = data[:, :2]\n",
    "\n",
    "# create a boolean mask for rows where the first two columns match dim\n",
    "mask = np.all(data_cols_12 == dim, axis=1)\n",
    "\n",
    "# use the boolean mask to select the rows from data\n",
    "selected_rows = data[mask]\n",
    "\n",
    "print(selected_rows)\n",
    "\n",
    "\n"
   ]
  },
  {
   "cell_type": "code",
   "execution_count": 27,
   "metadata": {},
   "outputs": [
    {
     "ename": "ValueError",
     "evalue": "Buffer has wrong number of dimensions (expected 1, got 2)",
     "output_type": "error",
     "traceback": [
      "\u001b[0;31m---------------------------------------------------------------------------\u001b[0m",
      "\u001b[0;31mValueError\u001b[0m                                Traceback (most recent call last)",
      "Cell \u001b[0;32mIn[27], line 1\u001b[0m\n\u001b[0;32m----> 1\u001b[0m df_shaf \u001b[39m=\u001b[39m df\u001b[39m.\u001b[39;49miloc[hold[\u001b[39m1\u001b[39;49m]]\n",
      "File \u001b[0;32m~/furnaces-main/env/lib/python3.10/site-packages/pandas/core/indexing.py:1073\u001b[0m, in \u001b[0;36m_LocationIndexer.__getitem__\u001b[0;34m(self, key)\u001b[0m\n\u001b[1;32m   1070\u001b[0m axis \u001b[39m=\u001b[39m \u001b[39mself\u001b[39m\u001b[39m.\u001b[39maxis \u001b[39mor\u001b[39;00m \u001b[39m0\u001b[39m\n\u001b[1;32m   1072\u001b[0m maybe_callable \u001b[39m=\u001b[39m com\u001b[39m.\u001b[39mapply_if_callable(key, \u001b[39mself\u001b[39m\u001b[39m.\u001b[39mobj)\n\u001b[0;32m-> 1073\u001b[0m \u001b[39mreturn\u001b[39;00m \u001b[39mself\u001b[39;49m\u001b[39m.\u001b[39;49m_getitem_axis(maybe_callable, axis\u001b[39m=\u001b[39;49maxis)\n",
      "File \u001b[0;32m~/furnaces-main/env/lib/python3.10/site-packages/pandas/core/indexing.py:1616\u001b[0m, in \u001b[0;36m_iLocIndexer._getitem_axis\u001b[0;34m(self, key, axis)\u001b[0m\n\u001b[1;32m   1614\u001b[0m \u001b[39m# a list of integers\u001b[39;00m\n\u001b[1;32m   1615\u001b[0m \u001b[39melif\u001b[39;00m is_list_like_indexer(key):\n\u001b[0;32m-> 1616\u001b[0m     \u001b[39mreturn\u001b[39;00m \u001b[39mself\u001b[39;49m\u001b[39m.\u001b[39;49m_get_list_axis(key, axis\u001b[39m=\u001b[39;49maxis)\n\u001b[1;32m   1618\u001b[0m \u001b[39m# a single integer\u001b[39;00m\n\u001b[1;32m   1619\u001b[0m \u001b[39melse\u001b[39;00m:\n\u001b[1;32m   1620\u001b[0m     key \u001b[39m=\u001b[39m item_from_zerodim(key)\n",
      "File \u001b[0;32m~/furnaces-main/env/lib/python3.10/site-packages/pandas/core/indexing.py:1587\u001b[0m, in \u001b[0;36m_iLocIndexer._get_list_axis\u001b[0;34m(self, key, axis)\u001b[0m\n\u001b[1;32m   1570\u001b[0m \u001b[39m\u001b[39m\u001b[39m\"\"\"\u001b[39;00m\n\u001b[1;32m   1571\u001b[0m \u001b[39mReturn Series values by list or array of integers.\u001b[39;00m\n\u001b[1;32m   1572\u001b[0m \n\u001b[0;32m   (...)\u001b[0m\n\u001b[1;32m   1584\u001b[0m \u001b[39m`axis` can only be zero.\u001b[39;00m\n\u001b[1;32m   1585\u001b[0m \u001b[39m\"\"\"\u001b[39;00m\n\u001b[1;32m   1586\u001b[0m \u001b[39mtry\u001b[39;00m:\n\u001b[0;32m-> 1587\u001b[0m     \u001b[39mreturn\u001b[39;00m \u001b[39mself\u001b[39;49m\u001b[39m.\u001b[39;49mobj\u001b[39m.\u001b[39;49m_take_with_is_copy(key, axis\u001b[39m=\u001b[39;49maxis)\n\u001b[1;32m   1588\u001b[0m \u001b[39mexcept\u001b[39;00m \u001b[39mIndexError\u001b[39;00m \u001b[39mas\u001b[39;00m err:\n\u001b[1;32m   1589\u001b[0m     \u001b[39m# re-raise with different error message\u001b[39;00m\n\u001b[1;32m   1590\u001b[0m     \u001b[39mraise\u001b[39;00m \u001b[39mIndexError\u001b[39;00m(\u001b[39m\"\u001b[39m\u001b[39mpositional indexers are out-of-bounds\u001b[39m\u001b[39m\"\u001b[39m) \u001b[39mfrom\u001b[39;00m \u001b[39merr\u001b[39;00m\n",
      "File \u001b[0;32m~/furnaces-main/env/lib/python3.10/site-packages/pandas/core/generic.py:3902\u001b[0m, in \u001b[0;36mNDFrame._take_with_is_copy\u001b[0;34m(self, indices, axis)\u001b[0m\n\u001b[1;32m   3894\u001b[0m \u001b[39mdef\u001b[39;00m \u001b[39m_take_with_is_copy\u001b[39m(\u001b[39mself\u001b[39m: NDFrameT, indices, axis\u001b[39m=\u001b[39m\u001b[39m0\u001b[39m) \u001b[39m-\u001b[39m\u001b[39m>\u001b[39m NDFrameT:\n\u001b[1;32m   3895\u001b[0m \u001b[39m    \u001b[39m\u001b[39m\"\"\"\u001b[39;00m\n\u001b[1;32m   3896\u001b[0m \u001b[39m    Internal version of the `take` method that sets the `_is_copy`\u001b[39;00m\n\u001b[1;32m   3897\u001b[0m \u001b[39m    attribute to keep track of the parent dataframe (using in indexing\u001b[39;00m\n\u001b[0;32m   (...)\u001b[0m\n\u001b[1;32m   3900\u001b[0m \u001b[39m    See the docstring of `take` for full explanation of the parameters.\u001b[39;00m\n\u001b[1;32m   3901\u001b[0m \u001b[39m    \"\"\"\u001b[39;00m\n\u001b[0;32m-> 3902\u001b[0m     result \u001b[39m=\u001b[39m \u001b[39mself\u001b[39;49m\u001b[39m.\u001b[39;49m_take(indices\u001b[39m=\u001b[39;49mindices, axis\u001b[39m=\u001b[39;49maxis)\n\u001b[1;32m   3903\u001b[0m     \u001b[39m# Maybe set copy if we didn't actually change the index.\u001b[39;00m\n\u001b[1;32m   3904\u001b[0m     \u001b[39mif\u001b[39;00m \u001b[39mnot\u001b[39;00m result\u001b[39m.\u001b[39m_get_axis(axis)\u001b[39m.\u001b[39mequals(\u001b[39mself\u001b[39m\u001b[39m.\u001b[39m_get_axis(axis)):\n",
      "File \u001b[0;32m~/furnaces-main/env/lib/python3.10/site-packages/pandas/core/generic.py:3886\u001b[0m, in \u001b[0;36mNDFrame._take\u001b[0;34m(self, indices, axis, convert_indices)\u001b[0m\n\u001b[1;32m   3879\u001b[0m \u001b[39m\u001b[39m\u001b[39m\"\"\"\u001b[39;00m\n\u001b[1;32m   3880\u001b[0m \u001b[39mInternal version of the `take` allowing specification of additional args.\u001b[39;00m\n\u001b[1;32m   3881\u001b[0m \n\u001b[1;32m   3882\u001b[0m \u001b[39mSee the docstring of `take` for full explanation of the parameters.\u001b[39;00m\n\u001b[1;32m   3883\u001b[0m \u001b[39m\"\"\"\u001b[39;00m\n\u001b[1;32m   3884\u001b[0m \u001b[39mself\u001b[39m\u001b[39m.\u001b[39m_consolidate_inplace()\n\u001b[0;32m-> 3886\u001b[0m new_data \u001b[39m=\u001b[39m \u001b[39mself\u001b[39;49m\u001b[39m.\u001b[39;49m_mgr\u001b[39m.\u001b[39;49mtake(\n\u001b[1;32m   3887\u001b[0m     indices,\n\u001b[1;32m   3888\u001b[0m     axis\u001b[39m=\u001b[39;49m\u001b[39mself\u001b[39;49m\u001b[39m.\u001b[39;49m_get_block_manager_axis(axis),\n\u001b[1;32m   3889\u001b[0m     verify\u001b[39m=\u001b[39;49m\u001b[39mTrue\u001b[39;49;00m,\n\u001b[1;32m   3890\u001b[0m     convert_indices\u001b[39m=\u001b[39;49mconvert_indices,\n\u001b[1;32m   3891\u001b[0m )\n\u001b[1;32m   3892\u001b[0m \u001b[39mreturn\u001b[39;00m \u001b[39mself\u001b[39m\u001b[39m.\u001b[39m_constructor(new_data)\u001b[39m.\u001b[39m__finalize__(\u001b[39mself\u001b[39m, method\u001b[39m=\u001b[39m\u001b[39m\"\u001b[39m\u001b[39mtake\u001b[39m\u001b[39m\"\u001b[39m)\n",
      "File \u001b[0;32m~/furnaces-main/env/lib/python3.10/site-packages/pandas/core/internals/managers.py:978\u001b[0m, in \u001b[0;36mBaseBlockManager.take\u001b[0;34m(self, indexer, axis, verify, convert_indices)\u001b[0m\n\u001b[1;32m    975\u001b[0m     indexer \u001b[39m=\u001b[39m maybe_convert_indices(indexer, n, verify\u001b[39m=\u001b[39mverify)\n\u001b[1;32m    977\u001b[0m new_labels \u001b[39m=\u001b[39m \u001b[39mself\u001b[39m\u001b[39m.\u001b[39maxes[axis]\u001b[39m.\u001b[39mtake(indexer)\n\u001b[0;32m--> 978\u001b[0m \u001b[39mreturn\u001b[39;00m \u001b[39mself\u001b[39;49m\u001b[39m.\u001b[39;49mreindex_indexer(\n\u001b[1;32m    979\u001b[0m     new_axis\u001b[39m=\u001b[39;49mnew_labels,\n\u001b[1;32m    980\u001b[0m     indexer\u001b[39m=\u001b[39;49mindexer,\n\u001b[1;32m    981\u001b[0m     axis\u001b[39m=\u001b[39;49maxis,\n\u001b[1;32m    982\u001b[0m     allow_dups\u001b[39m=\u001b[39;49m\u001b[39mTrue\u001b[39;49;00m,\n\u001b[1;32m    983\u001b[0m     copy\u001b[39m=\u001b[39;49m\u001b[39mNone\u001b[39;49;00m,\n\u001b[1;32m    984\u001b[0m )\n",
      "File \u001b[0;32m~/furnaces-main/env/lib/python3.10/site-packages/pandas/core/internals/managers.py:751\u001b[0m, in \u001b[0;36mBaseBlockManager.reindex_indexer\u001b[0;34m(self, new_axis, indexer, axis, fill_value, allow_dups, copy, only_slice, use_na_proxy)\u001b[0m\n\u001b[1;32m    749\u001b[0m     parent \u001b[39m=\u001b[39m \u001b[39mNone\u001b[39;00m \u001b[39mif\u001b[39;00m com\u001b[39m.\u001b[39mall_none(\u001b[39m*\u001b[39mnew_refs) \u001b[39melse\u001b[39;00m \u001b[39mself\u001b[39m\n\u001b[1;32m    750\u001b[0m \u001b[39melse\u001b[39;00m:\n\u001b[0;32m--> 751\u001b[0m     new_blocks \u001b[39m=\u001b[39m [\n\u001b[1;32m    752\u001b[0m         blk\u001b[39m.\u001b[39mtake_nd(\n\u001b[1;32m    753\u001b[0m             indexer,\n\u001b[1;32m    754\u001b[0m             axis\u001b[39m=\u001b[39m\u001b[39m1\u001b[39m,\n\u001b[1;32m    755\u001b[0m             fill_value\u001b[39m=\u001b[39m(\n\u001b[1;32m    756\u001b[0m                 fill_value \u001b[39mif\u001b[39;00m fill_value \u001b[39mis\u001b[39;00m \u001b[39mnot\u001b[39;00m \u001b[39mNone\u001b[39;00m \u001b[39melse\u001b[39;00m blk\u001b[39m.\u001b[39mfill_value\n\u001b[1;32m    757\u001b[0m             ),\n\u001b[1;32m    758\u001b[0m         )\n\u001b[1;32m    759\u001b[0m         \u001b[39mfor\u001b[39;00m blk \u001b[39min\u001b[39;00m \u001b[39mself\u001b[39m\u001b[39m.\u001b[39mblocks\n\u001b[1;32m    760\u001b[0m     ]\n\u001b[1;32m    761\u001b[0m     new_refs \u001b[39m=\u001b[39m \u001b[39mNone\u001b[39;00m\n\u001b[1;32m    762\u001b[0m     parent \u001b[39m=\u001b[39m \u001b[39mNone\u001b[39;00m\n",
      "File \u001b[0;32m~/furnaces-main/env/lib/python3.10/site-packages/pandas/core/internals/managers.py:752\u001b[0m, in \u001b[0;36m<listcomp>\u001b[0;34m(.0)\u001b[0m\n\u001b[1;32m    749\u001b[0m     parent \u001b[39m=\u001b[39m \u001b[39mNone\u001b[39;00m \u001b[39mif\u001b[39;00m com\u001b[39m.\u001b[39mall_none(\u001b[39m*\u001b[39mnew_refs) \u001b[39melse\u001b[39;00m \u001b[39mself\u001b[39m\n\u001b[1;32m    750\u001b[0m \u001b[39melse\u001b[39;00m:\n\u001b[1;32m    751\u001b[0m     new_blocks \u001b[39m=\u001b[39m [\n\u001b[0;32m--> 752\u001b[0m         blk\u001b[39m.\u001b[39;49mtake_nd(\n\u001b[1;32m    753\u001b[0m             indexer,\n\u001b[1;32m    754\u001b[0m             axis\u001b[39m=\u001b[39;49m\u001b[39m1\u001b[39;49m,\n\u001b[1;32m    755\u001b[0m             fill_value\u001b[39m=\u001b[39;49m(\n\u001b[1;32m    756\u001b[0m                 fill_value \u001b[39mif\u001b[39;49;00m fill_value \u001b[39mis\u001b[39;49;00m \u001b[39mnot\u001b[39;49;00m \u001b[39mNone\u001b[39;49;00m \u001b[39melse\u001b[39;49;00m blk\u001b[39m.\u001b[39;49mfill_value\n\u001b[1;32m    757\u001b[0m             ),\n\u001b[1;32m    758\u001b[0m         )\n\u001b[1;32m    759\u001b[0m         \u001b[39mfor\u001b[39;00m blk \u001b[39min\u001b[39;00m \u001b[39mself\u001b[39m\u001b[39m.\u001b[39mblocks\n\u001b[1;32m    760\u001b[0m     ]\n\u001b[1;32m    761\u001b[0m     new_refs \u001b[39m=\u001b[39m \u001b[39mNone\u001b[39;00m\n\u001b[1;32m    762\u001b[0m     parent \u001b[39m=\u001b[39m \u001b[39mNone\u001b[39;00m\n",
      "File \u001b[0;32m~/furnaces-main/env/lib/python3.10/site-packages/pandas/core/internals/blocks.py:880\u001b[0m, in \u001b[0;36mBlock.take_nd\u001b[0;34m(self, indexer, axis, new_mgr_locs, fill_value)\u001b[0m\n\u001b[1;32m    877\u001b[0m     allow_fill \u001b[39m=\u001b[39m \u001b[39mTrue\u001b[39;00m\n\u001b[1;32m    879\u001b[0m \u001b[39m# Note: algos.take_nd has upcast logic similar to coerce_to_target_dtype\u001b[39;00m\n\u001b[0;32m--> 880\u001b[0m new_values \u001b[39m=\u001b[39m algos\u001b[39m.\u001b[39;49mtake_nd(\n\u001b[1;32m    881\u001b[0m     values, indexer, axis\u001b[39m=\u001b[39;49maxis, allow_fill\u001b[39m=\u001b[39;49mallow_fill, fill_value\u001b[39m=\u001b[39;49mfill_value\n\u001b[1;32m    882\u001b[0m )\n\u001b[1;32m    884\u001b[0m \u001b[39m# Called from three places in managers, all of which satisfy\u001b[39;00m\n\u001b[1;32m    885\u001b[0m \u001b[39m#  this assertion\u001b[39;00m\n\u001b[1;32m    886\u001b[0m \u001b[39massert\u001b[39;00m \u001b[39mnot\u001b[39;00m (axis \u001b[39m==\u001b[39m \u001b[39m0\u001b[39m \u001b[39mand\u001b[39;00m new_mgr_locs \u001b[39mis\u001b[39;00m \u001b[39mNone\u001b[39;00m)\n",
      "File \u001b[0;32m~/furnaces-main/env/lib/python3.10/site-packages/pandas/core/array_algos/take.py:117\u001b[0m, in \u001b[0;36mtake_nd\u001b[0;34m(arr, indexer, axis, fill_value, allow_fill)\u001b[0m\n\u001b[1;32m    114\u001b[0m     \u001b[39mreturn\u001b[39;00m arr\u001b[39m.\u001b[39mtake(indexer, fill_value\u001b[39m=\u001b[39mfill_value, allow_fill\u001b[39m=\u001b[39mallow_fill)\n\u001b[1;32m    116\u001b[0m arr \u001b[39m=\u001b[39m np\u001b[39m.\u001b[39masarray(arr)\n\u001b[0;32m--> 117\u001b[0m \u001b[39mreturn\u001b[39;00m _take_nd_ndarray(arr, indexer, axis, fill_value, allow_fill)\n",
      "File \u001b[0;32m~/furnaces-main/env/lib/python3.10/site-packages/pandas/core/array_algos/take.py:163\u001b[0m, in \u001b[0;36m_take_nd_ndarray\u001b[0;34m(arr, indexer, axis, fill_value, allow_fill)\u001b[0m\n\u001b[1;32m    158\u001b[0m     out \u001b[39m=\u001b[39m np\u001b[39m.\u001b[39mempty(out_shape, dtype\u001b[39m=\u001b[39mdtype)\n\u001b[1;32m    160\u001b[0m func \u001b[39m=\u001b[39m _get_take_nd_function(\n\u001b[1;32m    161\u001b[0m     arr\u001b[39m.\u001b[39mndim, arr\u001b[39m.\u001b[39mdtype, out\u001b[39m.\u001b[39mdtype, axis\u001b[39m=\u001b[39maxis, mask_info\u001b[39m=\u001b[39mmask_info\n\u001b[1;32m    162\u001b[0m )\n\u001b[0;32m--> 163\u001b[0m func(arr, indexer, out, fill_value)\n\u001b[1;32m    165\u001b[0m \u001b[39mif\u001b[39;00m flip_order:\n\u001b[1;32m    166\u001b[0m     out \u001b[39m=\u001b[39m out\u001b[39m.\u001b[39mT\n",
      "File \u001b[0;32mpandas/_libs/algos_take_helper.pxi:1960\u001b[0m, in \u001b[0;36mpandas._libs.algos.take_2d_axis0_float64_float64\u001b[0;34m()\u001b[0m\n",
      "\u001b[0;31mValueError\u001b[0m: Buffer has wrong number of dimensions (expected 1, got 2)"
     ]
    }
   ],
   "source": [
    "df_shaf = df.iloc[hold[1]]"
   ]
  },
  {
   "cell_type": "code",
   "execution_count": 40,
   "metadata": {},
   "outputs": [
    {
     "name": "stderr",
     "output_type": "stream",
     "text": [
      "/tmp/ipykernel_265394/1163514368.py:18: DeprecationWarning: elementwise comparison failed; this will raise an error in the future.\n",
      "  mask = np.all(data_cols_12 == dim, axis=1)\n"
     ]
    },
    {
     "ename": "AxisError",
     "evalue": "axis 1 is out of bounds for array of dimension 0",
     "output_type": "error",
     "traceback": [
      "\u001b[0;31m---------------------------------------------------------------------------\u001b[0m",
      "\u001b[0;31mAxisError\u001b[0m                                 Traceback (most recent call last)",
      "Cell \u001b[0;32mIn[40], line 18\u001b[0m\n\u001b[1;32m     15\u001b[0m data_cols_12 \u001b[39m=\u001b[39m data[:, :\u001b[39m2\u001b[39m]\n\u001b[1;32m     17\u001b[0m \u001b[39m# create a boolean mask for rows where the first two columns match dim\u001b[39;00m\n\u001b[0;32m---> 18\u001b[0m mask \u001b[39m=\u001b[39m np\u001b[39m.\u001b[39;49mall(data_cols_12 \u001b[39m==\u001b[39;49m dim, axis\u001b[39m=\u001b[39;49m\u001b[39m1\u001b[39;49m)\n\u001b[1;32m     20\u001b[0m \u001b[39m# use the boolean mask to select the rows from data\u001b[39;00m\n\u001b[1;32m     21\u001b[0m selected_rows \u001b[39m=\u001b[39m data[mask]\n",
      "File \u001b[0;32m<__array_function__ internals>:200\u001b[0m, in \u001b[0;36mall\u001b[0;34m(*args, **kwargs)\u001b[0m\n",
      "File \u001b[0;32m~/furnaces-main/env/lib/python3.10/site-packages/numpy/core/fromnumeric.py:2515\u001b[0m, in \u001b[0;36mall\u001b[0;34m(a, axis, out, keepdims, where)\u001b[0m\n\u001b[1;32m   2432\u001b[0m \u001b[39m@array_function_dispatch\u001b[39m(_all_dispatcher)\n\u001b[1;32m   2433\u001b[0m \u001b[39mdef\u001b[39;00m \u001b[39mall\u001b[39m(a, axis\u001b[39m=\u001b[39m\u001b[39mNone\u001b[39;00m, out\u001b[39m=\u001b[39m\u001b[39mNone\u001b[39;00m, keepdims\u001b[39m=\u001b[39mnp\u001b[39m.\u001b[39m_NoValue, \u001b[39m*\u001b[39m, where\u001b[39m=\u001b[39mnp\u001b[39m.\u001b[39m_NoValue):\n\u001b[1;32m   2434\u001b[0m \u001b[39m    \u001b[39m\u001b[39m\"\"\"\u001b[39;00m\n\u001b[1;32m   2435\u001b[0m \u001b[39m    Test whether all array elements along a given axis evaluate to True.\u001b[39;00m\n\u001b[1;32m   2436\u001b[0m \n\u001b[0;32m   (...)\u001b[0m\n\u001b[1;32m   2513\u001b[0m \n\u001b[1;32m   2514\u001b[0m \u001b[39m    \"\"\"\u001b[39;00m\n\u001b[0;32m-> 2515\u001b[0m     \u001b[39mreturn\u001b[39;00m _wrapreduction(a, np\u001b[39m.\u001b[39;49mlogical_and, \u001b[39m'\u001b[39;49m\u001b[39mall\u001b[39;49m\u001b[39m'\u001b[39;49m, axis, \u001b[39mNone\u001b[39;49;00m, out,\n\u001b[1;32m   2516\u001b[0m                           keepdims\u001b[39m=\u001b[39;49mkeepdims, where\u001b[39m=\u001b[39;49mwhere)\n",
      "File \u001b[0;32m~/furnaces-main/env/lib/python3.10/site-packages/numpy/core/fromnumeric.py:86\u001b[0m, in \u001b[0;36m_wrapreduction\u001b[0;34m(obj, ufunc, method, axis, dtype, out, **kwargs)\u001b[0m\n\u001b[1;32m     83\u001b[0m         \u001b[39melse\u001b[39;00m:\n\u001b[1;32m     84\u001b[0m             \u001b[39mreturn\u001b[39;00m reduction(axis\u001b[39m=\u001b[39maxis, out\u001b[39m=\u001b[39mout, \u001b[39m*\u001b[39m\u001b[39m*\u001b[39mpasskwargs)\n\u001b[0;32m---> 86\u001b[0m \u001b[39mreturn\u001b[39;00m ufunc\u001b[39m.\u001b[39;49mreduce(obj, axis, dtype, out, \u001b[39m*\u001b[39;49m\u001b[39m*\u001b[39;49mpasskwargs)\n",
      "\u001b[0;31mAxisError\u001b[0m: axis 1 is out of bounds for array of dimension 0"
     ]
    }
   ],
   "source": [
    "import numpy as np\n",
    "\n",
    "# create sample arrays\n",
    "dim = np.array([[3, 2],\n",
    "                [5, 7],\n",
    "                [1, 8]])\n",
    "data = np.array([[1, 2, 3, 4],\n",
    "                 [3, 2, 5, 6],\n",
    "                 [5, 7, 8, 9],\n",
    "                 [3, 2, 10, 11],\n",
    "                 [1, 8, 12, 13],\n",
    "                 [1, 2, 14, 15]])\n",
    "\n",
    "# extract the first two columns from data\n",
    "data_cols_12 = data[:, :2]\n",
    "\n",
    "# create a boolean mask for rows where the first two columns match dim\n",
    "mask = np.all(data_cols_12 == dim, axis=1)\n",
    "\n",
    "# use the boolean mask to select the rows from data\n",
    "selected_rows = data[mask]\n",
    "\n",
    "print(selected_rows)\n"
   ]
  },
  {
   "cell_type": "code",
   "execution_count": 41,
   "metadata": {},
   "outputs": [
    {
     "name": "stderr",
     "output_type": "stream",
     "text": [
      "/tmp/ipykernel_265394/1031744749.py:1: DeprecationWarning: elementwise comparison failed; this will raise an error in the future.\n",
      "  data_cols_12 == dim\n"
     ]
    },
    {
     "data": {
      "text/plain": [
       "False"
      ]
     },
     "execution_count": 41,
     "metadata": {},
     "output_type": "execute_result"
    }
   ],
   "source": [
    "data_cols_12 == dim"
   ]
  },
  {
   "cell_type": "code",
   "execution_count": null,
   "metadata": {},
   "outputs": [],
   "source": [
    "data_cols_12 == dim_broadcasted[:, np.newaxis]"
   ]
  }
 ],
 "metadata": {
  "kernelspec": {
   "display_name": "env",
   "language": "python",
   "name": "python3"
  },
  "language_info": {
   "codemirror_mode": {
    "name": "ipython",
    "version": 3
   },
   "file_extension": ".py",
   "mimetype": "text/x-python",
   "name": "python",
   "nbconvert_exporter": "python",
   "pygments_lexer": "ipython3",
   "version": "3.10.6"
  },
  "orig_nbformat": 4
 },
 "nbformat": 4,
 "nbformat_minor": 2
}
