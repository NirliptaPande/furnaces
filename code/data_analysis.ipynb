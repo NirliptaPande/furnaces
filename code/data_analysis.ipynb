{
 "cells": [
  {
   "cell_type": "code",
   "execution_count": 1,
   "metadata": {},
   "outputs": [],
   "source": [
    "import numpy as np\n",
    "import pandas as pd\n",
    "import matplotlib.pyplot as plt\n",
    "%matplotlib inline\n",
    "train = np.load('../data/train_sans_ocean.npy')"
   ]
  },
  {
   "cell_type": "code",
   "execution_count": 2,
   "metadata": {},
   "outputs": [
    {
     "data": {
      "text/plain": [
       "array([[-5.575000e+01, -6.700000e+01,  2.003015e+05, ...,  0.000000e+00,\n",
       "         0.000000e+00,  0.000000e+00],\n",
       "       [-5.575000e+01, -6.700000e+01,  2.003025e+05, ...,  0.000000e+00,\n",
       "         0.000000e+00,  0.000000e+00],\n",
       "       [-5.575000e+01, -6.700000e+01,  2.003035e+05, ...,  0.000000e+00,\n",
       "         0.000000e+00,  0.000000e+00],\n",
       "       ...,\n",
       "       [ 8.375000e+01, -3.375000e+01,  2.011105e+05, ...,  0.000000e+00,\n",
       "         0.000000e+00,  0.000000e+00],\n",
       "       [ 8.375000e+01, -3.375000e+01,  2.011115e+05, ...,  0.000000e+00,\n",
       "         0.000000e+00,  0.000000e+00],\n",
       "       [ 8.375000e+01, -3.375000e+01,  2.011125e+05, ...,  0.000000e+00,\n",
       "         0.000000e+00,  0.000000e+00]])"
      ]
     },
     "execution_count": 2,
     "metadata": {},
     "output_type": "execute_result"
    }
   ],
   "source": [
    "train"
   ]
  },
  {
   "cell_type": "code",
   "execution_count": 3,
   "metadata": {},
   "outputs": [],
   "source": [
    "train = np.delete(train,[0,1,2],1)"
   ]
  },
  {
   "cell_type": "code",
   "execution_count": 4,
   "metadata": {},
   "outputs": [
    {
     "data": {
      "text/plain": [
       "array([[22.06954575,  0.15601434,  0.        , ...,  0.        ,\n",
       "         0.        ,  0.        ],\n",
       "       [22.06954575,  0.15601434,  0.        , ...,  0.        ,\n",
       "         0.        ,  0.        ],\n",
       "       [22.06954575,  0.15601434,  0.        , ...,  0.        ,\n",
       "         0.        ,  0.        ],\n",
       "       ...,\n",
       "       [ 0.        ,  0.        ,  0.        , ...,  0.        ,\n",
       "         0.        ,  0.        ],\n",
       "       [ 0.        ,  0.        ,  0.        , ...,  0.        ,\n",
       "         0.        ,  0.        ],\n",
       "       [ 0.        ,  0.        ,  0.        , ...,  0.        ,\n",
       "         0.        ,  0.        ]])"
      ]
     },
     "execution_count": 4,
     "metadata": {},
     "output_type": "execute_result"
    }
   ],
   "source": [
    "np.nan_to_num(train,copy=False)"
   ]
  },
  {
   "cell_type": "code",
   "execution_count": 5,
   "metadata": {},
   "outputs": [],
   "source": [
    "res = pd.DataFrame(train).describe()\n",
    "res.columns = ['agb', 'pft_fracCover', 'sm', 'pftCrop',\n",
    "       'pftHerb', 'pftShrubBD', 'pftShrubNE', 'pftTreeBD', 'pftTreeBE',\n",
    "       'pftTreeND', 'pftTreeNE', 'GDP', 'ign', 'Distance_to_populated_areas',\n",
    "       'fPAR', 'LAI', 'NLDI', 'vod_K_anomalies', 'FPAR_12mon', 'LAI_12mon',\n",
    "       'Vod_k_anomaly_12mon', 'FPAR_06mon', 'LAI_06mon', 'Vod_k_anomaly_06mon',\n",
    "       'WDPA_fracCover', 'dtr', 'pet', 'tmx', 'wet', 'Biome', 'precip',\n",
    "       'Livestock', 'road_density', 'topo', 'pop_density']\n",
    "       #vod_K_anomalies\n",
    "       #Vod_k_anomaly_12mon\n",
    "       #Vod_k_anomaly_06mon\n",
    "       #tmx"
   ]
  },
  {
   "cell_type": "code",
   "execution_count": 40,
   "metadata": {},
   "outputs": [
    {
     "data": {
      "text/plain": [
       "count    2.637824e+07\n",
       "mean     3.976683e+01\n",
       "std      3.205707e+02\n",
       "min      0.000000e+00\n",
       "25%      0.000000e+00\n",
       "50%      1.632388e-01\n",
       "75%      6.496927e+00\n",
       "max      3.808370e+04\n",
       "Name: pop_density, dtype: float64"
      ]
     },
     "execution_count": 40,
     "metadata": {},
     "output_type": "execute_result"
    }
   ],
   "source": [
    "res['pop_density']"
   ]
  },
  {
   "cell_type": "code",
   "execution_count": 5,
   "metadata": {},
   "outputs": [
    {
     "data": {
      "text/html": [
       "<div>\n",
       "<style scoped>\n",
       "    .dataframe tbody tr th:only-of-type {\n",
       "        vertical-align: middle;\n",
       "    }\n",
       "\n",
       "    .dataframe tbody tr th {\n",
       "        vertical-align: top;\n",
       "    }\n",
       "\n",
       "    .dataframe thead th {\n",
       "        text-align: right;\n",
       "    }\n",
       "</style>\n",
       "<table border=\"1\" class=\"dataframe\">\n",
       "  <thead>\n",
       "    <tr style=\"text-align: right;\">\n",
       "      <th></th>\n",
       "      <th>lat</th>\n",
       "      <th>lon</th>\n",
       "      <th>time</th>\n",
       "      <th>agb</th>\n",
       "      <th>pft_fracCover</th>\n",
       "      <th>sm</th>\n",
       "      <th>pftCrop</th>\n",
       "      <th>pftHerb</th>\n",
       "      <th>pftShrubBD</th>\n",
       "      <th>pftShrubNE</th>\n",
       "      <th>...</th>\n",
       "      <th>dtr</th>\n",
       "      <th>pet</th>\n",
       "      <th>tmx</th>\n",
       "      <th>wet</th>\n",
       "      <th>Biome</th>\n",
       "      <th>precip</th>\n",
       "      <th>Livestock</th>\n",
       "      <th>road_density</th>\n",
       "      <th>topo</th>\n",
       "      <th>pop_density</th>\n",
       "    </tr>\n",
       "  </thead>\n",
       "  <tbody>\n",
       "    <tr>\n",
       "      <th>count</th>\n",
       "      <td>2.637824e+07</td>\n",
       "      <td>2.637824e+07</td>\n",
       "      <td>2.637824e+07</td>\n",
       "      <td>2.637824e+07</td>\n",
       "      <td>2.637824e+07</td>\n",
       "      <td>2.637824e+07</td>\n",
       "      <td>2.637824e+07</td>\n",
       "      <td>2.637824e+07</td>\n",
       "      <td>2.637824e+07</td>\n",
       "      <td>2.637824e+07</td>\n",
       "      <td>...</td>\n",
       "      <td>2.637824e+07</td>\n",
       "      <td>2.637824e+07</td>\n",
       "      <td>2.637824e+07</td>\n",
       "      <td>2.637824e+07</td>\n",
       "      <td>2.637824e+07</td>\n",
       "      <td>2.637824e+07</td>\n",
       "      <td>2.637824e+07</td>\n",
       "      <td>2.637824e+07</td>\n",
       "      <td>2.637824e+07</td>\n",
       "      <td>2.637824e+07</td>\n",
       "    </tr>\n",
       "    <tr>\n",
       "      <th>mean</th>\n",
       "      <td>3.296606e+01</td>\n",
       "      <td>1.796954e+01</td>\n",
       "      <td>2.007070e+05</td>\n",
       "      <td>1.347588e+01</td>\n",
       "      <td>6.474957e-01</td>\n",
       "      <td>1.648342e-01</td>\n",
       "      <td>1.395169e-01</td>\n",
       "      <td>1.753276e-01</td>\n",
       "      <td>6.971261e-02</td>\n",
       "      <td>2.585613e-02</td>\n",
       "      <td>...</td>\n",
       "      <td>1.136147e+01</td>\n",
       "      <td>2.776667e+00</td>\n",
       "      <td>1.472397e+01</td>\n",
       "      <td>9.334530e+00</td>\n",
       "      <td>1.094813e+01</td>\n",
       "      <td>5.789263e+01</td>\n",
       "      <td>8.257602e+02</td>\n",
       "      <td>1.480981e+02</td>\n",
       "      <td>9.761590e-01</td>\n",
       "      <td>3.976683e+01</td>\n",
       "    </tr>\n",
       "    <tr>\n",
       "      <th>std</th>\n",
       "      <td>3.209927e+01</td>\n",
       "      <td>8.475633e+01</td>\n",
       "      <td>2.582220e+02</td>\n",
       "      <td>5.086562e+01</td>\n",
       "      <td>3.618286e-01</td>\n",
       "      <td>1.099274e-01</td>\n",
       "      <td>2.589931e-01</td>\n",
       "      <td>1.547391e-01</td>\n",
       "      <td>7.982956e-02</td>\n",
       "      <td>2.686948e-02</td>\n",
       "      <td>...</td>\n",
       "      <td>3.825276e+00</td>\n",
       "      <td>2.142596e+00</td>\n",
       "      <td>1.826568e+01</td>\n",
       "      <td>6.590363e+00</td>\n",
       "      <td>1.803764e+01</td>\n",
       "      <td>8.604259e+01</td>\n",
       "      <td>2.237212e+03</td>\n",
       "      <td>5.274169e+02</td>\n",
       "      <td>1.525537e-01</td>\n",
       "      <td>3.205707e+02</td>\n",
       "    </tr>\n",
       "    <tr>\n",
       "      <th>min</th>\n",
       "      <td>-5.575000e+01</td>\n",
       "      <td>-1.797500e+02</td>\n",
       "      <td>2.003015e+05</td>\n",
       "      <td>0.000000e+00</td>\n",
       "      <td>0.000000e+00</td>\n",
       "      <td>0.000000e+00</td>\n",
       "      <td>0.000000e+00</td>\n",
       "      <td>0.000000e+00</td>\n",
       "      <td>0.000000e+00</td>\n",
       "      <td>0.000000e+00</td>\n",
       "      <td>...</td>\n",
       "      <td>0.000000e+00</td>\n",
       "      <td>0.000000e+00</td>\n",
       "      <td>-5.000000e+01</td>\n",
       "      <td>0.000000e+00</td>\n",
       "      <td>0.000000e+00</td>\n",
       "      <td>0.000000e+00</td>\n",
       "      <td>0.000000e+00</td>\n",
       "      <td>0.000000e+00</td>\n",
       "      <td>0.000000e+00</td>\n",
       "      <td>0.000000e+00</td>\n",
       "    </tr>\n",
       "    <tr>\n",
       "      <th>25%</th>\n",
       "      <td>1.000000e+01</td>\n",
       "      <td>-6.125000e+01</td>\n",
       "      <td>2.005042e+05</td>\n",
       "      <td>0.000000e+00</td>\n",
       "      <td>3.392336e-01</td>\n",
       "      <td>7.927549e-02</td>\n",
       "      <td>0.000000e+00</td>\n",
       "      <td>3.600007e-02</td>\n",
       "      <td>8.209897e-03</td>\n",
       "      <td>1.851889e-03</td>\n",
       "      <td>...</td>\n",
       "      <td>8.600000e+00</td>\n",
       "      <td>8.000000e-01</td>\n",
       "      <td>2.100000e+00</td>\n",
       "      <td>3.960000e+00</td>\n",
       "      <td>5.000000e+00</td>\n",
       "      <td>7.420000e+00</td>\n",
       "      <td>5.800295e+00</td>\n",
       "      <td>0.000000e+00</td>\n",
       "      <td>1.000000e+00</td>\n",
       "      <td>0.000000e+00</td>\n",
       "    </tr>\n",
       "    <tr>\n",
       "      <th>50%</th>\n",
       "      <td>4.000000e+01</td>\n",
       "      <td>2.700000e+01</td>\n",
       "      <td>2.007070e+05</td>\n",
       "      <td>0.000000e+00</td>\n",
       "      <td>8.135355e-01</td>\n",
       "      <td>1.803230e-01</td>\n",
       "      <td>1.950563e-03</td>\n",
       "      <td>1.652158e-01</td>\n",
       "      <td>4.916669e-02</td>\n",
       "      <td>1.636148e-02</td>\n",
       "      <td>...</td>\n",
       "      <td>1.110000e+01</td>\n",
       "      <td>2.800000e+00</td>\n",
       "      <td>1.930000e+01</td>\n",
       "      <td>8.970000e+00</td>\n",
       "      <td>7.000000e+00</td>\n",
       "      <td>2.702000e+01</td>\n",
       "      <td>7.202480e+01</td>\n",
       "      <td>4.200000e+01</td>\n",
       "      <td>1.000000e+00</td>\n",
       "      <td>1.632388e-01</td>\n",
       "    </tr>\n",
       "    <tr>\n",
       "      <th>75%</th>\n",
       "      <td>6.000000e+01</td>\n",
       "      <td>9.075000e+01</td>\n",
       "      <td>2.009098e+05</td>\n",
       "      <td>0.000000e+00</td>\n",
       "      <td>9.479574e-01</td>\n",
       "      <td>2.503570e-01</td>\n",
       "      <td>1.361448e-01</td>\n",
       "      <td>2.488147e-01</td>\n",
       "      <td>9.599388e-02</td>\n",
       "      <td>4.696056e-02</td>\n",
       "      <td>...</td>\n",
       "      <td>1.390000e+01</td>\n",
       "      <td>4.000000e+00</td>\n",
       "      <td>3.010000e+01</td>\n",
       "      <td>1.365000e+01</td>\n",
       "      <td>1.100000e+01</td>\n",
       "      <td>6.959000e+01</td>\n",
       "      <td>6.234733e+02</td>\n",
       "      <td>1.340000e+02</td>\n",
       "      <td>1.000000e+00</td>\n",
       "      <td>6.496927e+00</td>\n",
       "    </tr>\n",
       "    <tr>\n",
       "      <th>max</th>\n",
       "      <td>8.375000e+01</td>\n",
       "      <td>1.800000e+02</td>\n",
       "      <td>2.011125e+05</td>\n",
       "      <td>3.412600e+02</td>\n",
       "      <td>1.000000e+00</td>\n",
       "      <td>1.000000e+00</td>\n",
       "      <td>1.000000e+00</td>\n",
       "      <td>7.000000e-01</td>\n",
       "      <td>6.000000e-01</td>\n",
       "      <td>2.008293e-01</td>\n",
       "      <td>...</td>\n",
       "      <td>4.050000e+01</td>\n",
       "      <td>1.260000e+01</td>\n",
       "      <td>4.810000e+01</td>\n",
       "      <td>3.100000e+01</td>\n",
       "      <td>9.900000e+01</td>\n",
       "      <td>3.821850e+03</td>\n",
       "      <td>1.695468e+05</td>\n",
       "      <td>5.567600e+04</td>\n",
       "      <td>1.000000e+00</td>\n",
       "      <td>3.808370e+04</td>\n",
       "    </tr>\n",
       "  </tbody>\n",
       "</table>\n",
       "<p>8 rows × 38 columns</p>\n",
       "</div>"
      ],
      "text/plain": [
       "                lat           lon          time           agb  pft_fracCover  \\\n",
       "count  2.637824e+07  2.637824e+07  2.637824e+07  2.637824e+07   2.637824e+07   \n",
       "mean   3.296606e+01  1.796954e+01  2.007070e+05  1.347588e+01   6.474957e-01   \n",
       "std    3.209927e+01  8.475633e+01  2.582220e+02  5.086562e+01   3.618286e-01   \n",
       "min   -5.575000e+01 -1.797500e+02  2.003015e+05  0.000000e+00   0.000000e+00   \n",
       "25%    1.000000e+01 -6.125000e+01  2.005042e+05  0.000000e+00   3.392336e-01   \n",
       "50%    4.000000e+01  2.700000e+01  2.007070e+05  0.000000e+00   8.135355e-01   \n",
       "75%    6.000000e+01  9.075000e+01  2.009098e+05  0.000000e+00   9.479574e-01   \n",
       "max    8.375000e+01  1.800000e+02  2.011125e+05  3.412600e+02   1.000000e+00   \n",
       "\n",
       "                 sm       pftCrop       pftHerb    pftShrubBD    pftShrubNE  \\\n",
       "count  2.637824e+07  2.637824e+07  2.637824e+07  2.637824e+07  2.637824e+07   \n",
       "mean   1.648342e-01  1.395169e-01  1.753276e-01  6.971261e-02  2.585613e-02   \n",
       "std    1.099274e-01  2.589931e-01  1.547391e-01  7.982956e-02  2.686948e-02   \n",
       "min    0.000000e+00  0.000000e+00  0.000000e+00  0.000000e+00  0.000000e+00   \n",
       "25%    7.927549e-02  0.000000e+00  3.600007e-02  8.209897e-03  1.851889e-03   \n",
       "50%    1.803230e-01  1.950563e-03  1.652158e-01  4.916669e-02  1.636148e-02   \n",
       "75%    2.503570e-01  1.361448e-01  2.488147e-01  9.599388e-02  4.696056e-02   \n",
       "max    1.000000e+00  1.000000e+00  7.000000e-01  6.000000e-01  2.008293e-01   \n",
       "\n",
       "       ...           dtr           pet           tmx           wet  \\\n",
       "count  ...  2.637824e+07  2.637824e+07  2.637824e+07  2.637824e+07   \n",
       "mean   ...  1.136147e+01  2.776667e+00  1.472397e+01  9.334530e+00   \n",
       "std    ...  3.825276e+00  2.142596e+00  1.826568e+01  6.590363e+00   \n",
       "min    ...  0.000000e+00  0.000000e+00 -5.000000e+01  0.000000e+00   \n",
       "25%    ...  8.600000e+00  8.000000e-01  2.100000e+00  3.960000e+00   \n",
       "50%    ...  1.110000e+01  2.800000e+00  1.930000e+01  8.970000e+00   \n",
       "75%    ...  1.390000e+01  4.000000e+00  3.010000e+01  1.365000e+01   \n",
       "max    ...  4.050000e+01  1.260000e+01  4.810000e+01  3.100000e+01   \n",
       "\n",
       "              Biome        precip     Livestock  road_density          topo  \\\n",
       "count  2.637824e+07  2.637824e+07  2.637824e+07  2.637824e+07  2.637824e+07   \n",
       "mean   1.094813e+01  5.789263e+01  8.257602e+02  1.480981e+02  9.761590e-01   \n",
       "std    1.803764e+01  8.604259e+01  2.237212e+03  5.274169e+02  1.525537e-01   \n",
       "min    0.000000e+00  0.000000e+00  0.000000e+00  0.000000e+00  0.000000e+00   \n",
       "25%    5.000000e+00  7.420000e+00  5.800295e+00  0.000000e+00  1.000000e+00   \n",
       "50%    7.000000e+00  2.702000e+01  7.202480e+01  4.200000e+01  1.000000e+00   \n",
       "75%    1.100000e+01  6.959000e+01  6.234733e+02  1.340000e+02  1.000000e+00   \n",
       "max    9.900000e+01  3.821850e+03  1.695468e+05  5.567600e+04  1.000000e+00   \n",
       "\n",
       "        pop_density  \n",
       "count  2.637824e+07  \n",
       "mean   3.976683e+01  \n",
       "std    3.205707e+02  \n",
       "min    0.000000e+00  \n",
       "25%    0.000000e+00  \n",
       "50%    1.632388e-01  \n",
       "75%    6.496927e+00  \n",
       "max    3.808370e+04  \n",
       "\n",
       "[8 rows x 38 columns]"
      ]
     },
     "execution_count": 5,
     "metadata": {},
     "output_type": "execute_result"
    }
   ],
   "source": [
    "res"
   ]
  },
  {
   "cell_type": "code",
   "execution_count": 42,
   "metadata": {},
   "outputs": [
    {
     "data": {
      "text/html": [
       "<div>\n",
       "<style scoped>\n",
       "    .dataframe tbody tr th:only-of-type {\n",
       "        vertical-align: middle;\n",
       "    }\n",
       "\n",
       "    .dataframe tbody tr th {\n",
       "        vertical-align: top;\n",
       "    }\n",
       "\n",
       "    .dataframe thead th {\n",
       "        text-align: right;\n",
       "    }\n",
       "</style>\n",
       "<table border=\"1\" class=\"dataframe\">\n",
       "  <thead>\n",
       "    <tr style=\"text-align: right;\">\n",
       "      <th></th>\n",
       "      <th>0</th>\n",
       "    </tr>\n",
       "  </thead>\n",
       "  <tbody>\n",
       "    <tr>\n",
       "      <th>count</th>\n",
       "      <td>26378244.000000</td>\n",
       "    </tr>\n",
       "    <tr>\n",
       "      <th>mean</th>\n",
       "      <td>13.475876</td>\n",
       "    </tr>\n",
       "    <tr>\n",
       "      <th>std</th>\n",
       "      <td>50.865619</td>\n",
       "    </tr>\n",
       "    <tr>\n",
       "      <th>min</th>\n",
       "      <td>0.000000</td>\n",
       "    </tr>\n",
       "    <tr>\n",
       "      <th>25%</th>\n",
       "      <td>0.000000</td>\n",
       "    </tr>\n",
       "    <tr>\n",
       "      <th>50%</th>\n",
       "      <td>0.000000</td>\n",
       "    </tr>\n",
       "    <tr>\n",
       "      <th>75%</th>\n",
       "      <td>0.000000</td>\n",
       "    </tr>\n",
       "    <tr>\n",
       "      <th>max</th>\n",
       "      <td>341.260040</td>\n",
       "    </tr>\n",
       "  </tbody>\n",
       "</table>\n",
       "</div>"
      ],
      "text/plain": [
       "                     0\n",
       "count  26378244.000000\n",
       "mean         13.475876\n",
       "std          50.865619\n",
       "min           0.000000\n",
       "25%           0.000000\n",
       "50%           0.000000\n",
       "75%           0.000000\n",
       "max         341.260040"
      ]
     },
     "execution_count": 42,
     "metadata": {},
     "output_type": "execute_result"
    }
   ],
   "source": [
    "#Above Ground Biomass\n",
    "agb = train[:,3]\n",
    "(pd.DataFrame(agb).describe()).apply(lambda s: s.apply(lambda x: format(x, 'f')))"
   ]
  },
  {
   "cell_type": "code",
   "execution_count": 51,
   "metadata": {},
   "outputs": [
    {
     "data": {
      "image/png": "[encoded data removed]",
      "text/plain": [
       "<Figure size 432x288 with 1 Axes>"
      ]
     },
     "metadata": {
      "needs_background": "light"
     },
     "output_type": "display_data"
    }
   ],
   "source": [
    "agb = agb[agb!=0]\n",
    "plt.hist(agb,bins = np.arange(0,np.amax(agb),np.exp(0.2)))\n",
    "plt.xlabel('agb')\n",
    "plt.ylabel('Freq')\n",
    "plt.title(\"Frequency of Above Ground Biomass over time and space\")\n",
    "plt.show()"
   ]
  },
  {
   "cell_type": "code",
   "execution_count": 64,
   "metadata": {},
   "outputs": [
    {
     "data": {
      "text/html": [
       "<div>\n",
       "<style scoped>\n",
       "    .dataframe tbody tr th:only-of-type {\n",
       "        vertical-align: middle;\n",
       "    }\n",
       "\n",
       "    .dataframe tbody tr th {\n",
       "        vertical-align: top;\n",
       "    }\n",
       "\n",
       "    .dataframe thead th {\n",
       "        text-align: right;\n",
       "    }\n",
       "</style>\n",
       "<table border=\"1\" class=\"dataframe\">\n",
       "  <thead>\n",
       "    <tr style=\"text-align: right;\">\n",
       "      <th></th>\n",
       "      <th>0</th>\n",
       "    </tr>\n",
       "  </thead>\n",
       "  <tbody>\n",
       "    <tr>\n",
       "      <th>count</th>\n",
       "      <td>4219992.000000</td>\n",
       "    </tr>\n",
       "    <tr>\n",
       "      <th>mean</th>\n",
       "      <td>3.247696</td>\n",
       "    </tr>\n",
       "    <tr>\n",
       "      <th>std</th>\n",
       "      <td>2.259477</td>\n",
       "    </tr>\n",
       "    <tr>\n",
       "      <th>min</th>\n",
       "      <td>-13.390317</td>\n",
       "    </tr>\n",
       "    <tr>\n",
       "      <th>25%</th>\n",
       "      <td>2.487748</td>\n",
       "    </tr>\n",
       "    <tr>\n",
       "      <th>50%</th>\n",
       "      <td>3.562939</td>\n",
       "    </tr>\n",
       "    <tr>\n",
       "      <th>75%</th>\n",
       "      <td>4.760266</td>\n",
       "    </tr>\n",
       "    <tr>\n",
       "      <th>max</th>\n",
       "      <td>5.832645</td>\n",
       "    </tr>\n",
       "  </tbody>\n",
       "</table>\n",
       "</div>"
      ],
      "text/plain": [
       "                    0\n",
       "count  4219992.000000\n",
       "mean         3.247696\n",
       "std          2.259477\n",
       "min        -13.390317\n",
       "25%          2.487748\n",
       "50%          3.562939\n",
       "75%          4.760266\n",
       "max          5.832645"
      ]
     },
     "execution_count": 64,
     "metadata": {},
     "output_type": "execute_result"
    }
   ],
   "source": [
    "agb_ln = np.log(agb)\n",
    "(pd.DataFrame(agb_ln).describe()).apply(lambda s: s.apply(lambda x: format(x, 'f')))"
   ]
  },
  {
   "cell_type": "code",
   "execution_count": 53,
   "metadata": {},
   "outputs": [
    {
     "data": {
      "image/png": "[encoded data removed]",
      "text/plain": [
       "<Figure size 432x288 with 1 Axes>"
      ]
     },
     "metadata": {
      "needs_background": "light"
     },
     "output_type": "display_data"
    }
   ],
   "source": [
    "\n",
    "plt.hist(agb_ln,bins = np.arange(np.amin(agb_ln),np.amax(agb_ln),0.2))\n",
    "plt.xlabel('Log_e agb')\n",
    "plt.ylabel('Freq')\n",
    "plt.title(\"Frequency of Log Above Ground Biomass\")\n",
    "plt.show()"
   ]
  },
  {
   "cell_type": "code",
   "execution_count": 56,
   "metadata": {},
   "outputs": [],
   "source": [
    "agb_log = np.log10(agb)"
   ]
  },
  {
   "cell_type": "code",
   "execution_count": 63,
   "metadata": {},
   "outputs": [
    {
     "data": {
      "image/png": "[encoded data removed]",
      "text/plain": [
       "<Figure size 432x288 with 1 Axes>"
      ]
     },
     "metadata": {
      "needs_background": "light"
     },
     "output_type": "display_data"
    }
   ],
   "source": [
    "\n",
    "plt.hist(agb_log,bins = np.arange(np.amin(agb_log),np.amax(agb_log),0.1))\n",
    "plt.xlabel('Log_10 agb')\n",
    "plt.ylabel('Freq')\n",
    "plt.title(\"Frequency of Log10 Above Ground Biomass\")\n",
    "plt.show()"
   ]
  },
  {
   "cell_type": "code",
   "execution_count": null,
   "metadata": {},
   "outputs": [],
   "source": []
  },
  {
   "cell_type": "code",
   "execution_count": 70,
   "metadata": {},
   "outputs": [
    {
     "data": {
      "text/html": [
       "<div>\n",
       "<style scoped>\n",
       "    .dataframe tbody tr th:only-of-type {\n",
       "        vertical-align: middle;\n",
       "    }\n",
       "\n",
       "    .dataframe tbody tr th {\n",
       "        vertical-align: top;\n",
       "    }\n",
       "\n",
       "    .dataframe thead th {\n",
       "        text-align: right;\n",
       "    }\n",
       "</style>\n",
       "<table border=\"1\" class=\"dataframe\">\n",
       "  <thead>\n",
       "    <tr style=\"text-align: right;\">\n",
       "      <th></th>\n",
       "      <th>0</th>\n",
       "    </tr>\n",
       "  </thead>\n",
       "  <tbody>\n",
       "    <tr>\n",
       "      <th>count</th>\n",
       "      <td>26378244.000000</td>\n",
       "    </tr>\n",
       "    <tr>\n",
       "      <th>mean</th>\n",
       "      <td>0.647496</td>\n",
       "    </tr>\n",
       "    <tr>\n",
       "      <th>std</th>\n",
       "      <td>0.361829</td>\n",
       "    </tr>\n",
       "    <tr>\n",
       "      <th>min</th>\n",
       "      <td>0.000000</td>\n",
       "    </tr>\n",
       "    <tr>\n",
       "      <th>25%</th>\n",
       "      <td>0.339234</td>\n",
       "    </tr>\n",
       "    <tr>\n",
       "      <th>50%</th>\n",
       "      <td>0.813535</td>\n",
       "    </tr>\n",
       "    <tr>\n",
       "      <th>75%</th>\n",
       "      <td>0.947957</td>\n",
       "    </tr>\n",
       "    <tr>\n",
       "      <th>max</th>\n",
       "      <td>1.000000</td>\n",
       "    </tr>\n",
       "  </tbody>\n",
       "</table>\n",
       "</div>"
      ],
      "text/plain": [
       "                     0\n",
       "count  26378244.000000\n",
       "mean          0.647496\n",
       "std           0.361829\n",
       "min           0.000000\n",
       "25%           0.339234\n",
       "50%           0.813535\n",
       "75%           0.947957\n",
       "max           1.000000"
      ]
     },
     "execution_count": 70,
     "metadata": {},
     "output_type": "execute_result"
    }
   ],
   "source": [
    "#PFT_FracCover\n",
    "pft_frac = train[:,4]\n",
    "(pd.DataFrame(pft_frac).describe()).apply(lambda s: s.apply(lambda x: format(x, 'f')))"
   ]
  },
  {
   "cell_type": "code",
   "execution_count": 79,
   "metadata": {},
   "outputs": [
    {
     "data": {
      "image/png": "[encoded data removed]",
      "text/plain": [
       "<Figure size 432x288 with 1 Axes>"
      ]
     },
     "metadata": {
      "needs_background": "light"
     },
     "output_type": "display_data"
    }
   ],
   "source": [
    "pft_frac = pft_frac[pft_frac!=0]\n",
    "plt.hist(pft_frac,bins = np.arange(0,np.amax(pft_frac),0.01))\n",
    "plt.xlabel('pft_fac')\n",
    "plt.ylabel('Freq')\n",
    "plt.title(\"Frequency of PFT Fraction\")\n",
    "plt.show()"
   ]
  },
  {
   "cell_type": "code",
   "execution_count": 82,
   "metadata": {},
   "outputs": [
    {
     "data": {
      "image/png": "[encoded data removed]",
      "text/plain": [
       "<Figure size 432x288 with 1 Axes>"
      ]
     },
     "metadata": {
      "needs_background": "light"
     },
     "output_type": "display_data"
    }
   ],
   "source": [
    "pft_frac_ln = np.log(pft_frac)\n",
    "plt.hist(pft_frac_ln,bins = np.arange(np.amin(pft_frac_ln),np.amax(pft_frac_ln),0.01))\n",
    "plt.xlabel('pft_fac_ln')\n",
    "plt.ylabel('Freq')\n",
    "plt.title(\"Frequency of PFT Fraction_log_e\")\n",
    "plt.show()"
   ]
  },
  {
   "cell_type": "code",
   "execution_count": 83,
   "metadata": {},
   "outputs": [
    {
     "data": {
      "text/html": [
       "<div>\n",
       "<style scoped>\n",
       "    .dataframe tbody tr th:only-of-type {\n",
       "        vertical-align: middle;\n",
       "    }\n",
       "\n",
       "    .dataframe tbody tr th {\n",
       "        vertical-align: top;\n",
       "    }\n",
       "\n",
       "    .dataframe thead th {\n",
       "        text-align: right;\n",
       "    }\n",
       "</style>\n",
       "<table border=\"1\" class=\"dataframe\">\n",
       "  <thead>\n",
       "    <tr style=\"text-align: right;\">\n",
       "      <th></th>\n",
       "      <th>0</th>\n",
       "    </tr>\n",
       "  </thead>\n",
       "  <tbody>\n",
       "    <tr>\n",
       "      <th>count</th>\n",
       "      <td>23965008.000000</td>\n",
       "    </tr>\n",
       "    <tr>\n",
       "      <th>mean</th>\n",
       "      <td>-0.699657</td>\n",
       "    </tr>\n",
       "    <tr>\n",
       "      <th>std</th>\n",
       "      <td>1.398415</td>\n",
       "    </tr>\n",
       "    <tr>\n",
       "      <th>min</th>\n",
       "      <td>-10.896958</td>\n",
       "    </tr>\n",
       "    <tr>\n",
       "      <th>25%</th>\n",
       "      <td>-0.612673</td>\n",
       "    </tr>\n",
       "    <tr>\n",
       "      <th>50%</th>\n",
       "      <td>-0.163881</td>\n",
       "    </tr>\n",
       "    <tr>\n",
       "      <th>75%</th>\n",
       "      <td>-0.048573</td>\n",
       "    </tr>\n",
       "    <tr>\n",
       "      <th>max</th>\n",
       "      <td>0.000000</td>\n",
       "    </tr>\n",
       "  </tbody>\n",
       "</table>\n",
       "</div>"
      ],
      "text/plain": [
       "                     0\n",
       "count  23965008.000000\n",
       "mean         -0.699657\n",
       "std           1.398415\n",
       "min         -10.896958\n",
       "25%          -0.612673\n",
       "50%          -0.163881\n",
       "75%          -0.048573\n",
       "max           0.000000"
      ]
     },
     "execution_count": 83,
     "metadata": {},
     "output_type": "execute_result"
    }
   ],
   "source": [
    "(pd.DataFrame(pft_frac_ln).describe()).apply(lambda s: s.apply(lambda x: format(x, 'f')))"
   ]
  },
  {
   "cell_type": "code",
   "execution_count": 84,
   "metadata": {},
   "outputs": [
    {
     "data": {
      "text/html": [
       "<div>\n",
       "<style scoped>\n",
       "    .dataframe tbody tr th:only-of-type {\n",
       "        vertical-align: middle;\n",
       "    }\n",
       "\n",
       "    .dataframe tbody tr th {\n",
       "        vertical-align: top;\n",
       "    }\n",
       "\n",
       "    .dataframe thead th {\n",
       "        text-align: right;\n",
       "    }\n",
       "</style>\n",
       "<table border=\"1\" class=\"dataframe\">\n",
       "  <thead>\n",
       "    <tr style=\"text-align: right;\">\n",
       "      <th></th>\n",
       "      <th>0</th>\n",
       "    </tr>\n",
       "  </thead>\n",
       "  <tbody>\n",
       "    <tr>\n",
       "      <th>count</th>\n",
       "      <td>26378244.000000</td>\n",
       "    </tr>\n",
       "    <tr>\n",
       "      <th>mean</th>\n",
       "      <td>0.164834</td>\n",
       "    </tr>\n",
       "    <tr>\n",
       "      <th>std</th>\n",
       "      <td>0.109927</td>\n",
       "    </tr>\n",
       "    <tr>\n",
       "      <th>min</th>\n",
       "      <td>0.000000</td>\n",
       "    </tr>\n",
       "    <tr>\n",
       "      <th>25%</th>\n",
       "      <td>0.079275</td>\n",
       "    </tr>\n",
       "    <tr>\n",
       "      <th>50%</th>\n",
       "      <td>0.180323</td>\n",
       "    </tr>\n",
       "    <tr>\n",
       "      <th>75%</th>\n",
       "      <td>0.250357</td>\n",
       "    </tr>\n",
       "    <tr>\n",
       "      <th>max</th>\n",
       "      <td>1.000000</td>\n",
       "    </tr>\n",
       "  </tbody>\n",
       "</table>\n",
       "</div>"
      ],
      "text/plain": [
       "                     0\n",
       "count  26378244.000000\n",
       "mean          0.164834\n",
       "std           0.109927\n",
       "min           0.000000\n",
       "25%           0.079275\n",
       "50%           0.180323\n",
       "75%           0.250357\n",
       "max           1.000000"
      ]
     },
     "execution_count": 84,
     "metadata": {},
     "output_type": "execute_result"
    }
   ],
   "source": [
    "#PFT_FracCover\n",
    "sm = train[:,5]\n",
    "(pd.DataFrame(sm).describe()).apply(lambda s: s.apply(lambda x: format(x, 'f')))"
   ]
  },
  {
   "cell_type": "code",
   "execution_count": 3,
   "metadata": {},
   "outputs": [
    {
     "data": {
      "text/plain": [
       "array([nan, nan, nan, nan, nan, nan, nan, nan, nan, nan, nan, nan, nan,\n",
       "       nan, nan])"
      ]
     },
     "execution_count": 3,
     "metadata": {},
     "output_type": "execute_result"
    }
   ],
   "source": [
    "train[0:15,15]"
   ]
  },
  {
   "cell_type": "code",
   "execution_count": 4,
   "metadata": {},
   "outputs": [
    {
     "data": {
      "text/html": [
       "<div>\n",
       "<style scoped>\n",
       "    .dataframe tbody tr th:only-of-type {\n",
       "        vertical-align: middle;\n",
       "    }\n",
       "\n",
       "    .dataframe tbody tr th {\n",
       "        vertical-align: top;\n",
       "    }\n",
       "\n",
       "    .dataframe thead th {\n",
       "        text-align: right;\n",
       "    }\n",
       "</style>\n",
       "<table border=\"1\" class=\"dataframe\">\n",
       "  <thead>\n",
       "    <tr style=\"text-align: right;\">\n",
       "      <th></th>\n",
       "      <th>0</th>\n",
       "    </tr>\n",
       "  </thead>\n",
       "  <tbody>\n",
       "    <tr>\n",
       "      <th>count</th>\n",
       "      <td>1340256.000000</td>\n",
       "    </tr>\n",
       "    <tr>\n",
       "      <th>mean</th>\n",
       "      <td>6.337118</td>\n",
       "    </tr>\n",
       "    <tr>\n",
       "      <th>std</th>\n",
       "      <td>8.663486</td>\n",
       "    </tr>\n",
       "    <tr>\n",
       "      <th>min</th>\n",
       "      <td>1.000000</td>\n",
       "    </tr>\n",
       "    <tr>\n",
       "      <th>25%</th>\n",
       "      <td>1.000000</td>\n",
       "    </tr>\n",
       "    <tr>\n",
       "      <th>50%</th>\n",
       "      <td>3.000000</td>\n",
       "    </tr>\n",
       "    <tr>\n",
       "      <th>75%</th>\n",
       "      <td>8.000000</td>\n",
       "    </tr>\n",
       "    <tr>\n",
       "      <th>max</th>\n",
       "      <td>185.000000</td>\n",
       "    </tr>\n",
       "  </tbody>\n",
       "</table>\n",
       "</div>"
      ],
      "text/plain": [
       "                    0\n",
       "count  1340256.000000\n",
       "mean         6.337118\n",
       "std          8.663486\n",
       "min          1.000000\n",
       "25%          1.000000\n",
       "50%          3.000000\n",
       "75%          8.000000\n",
       "max        185.000000"
      ]
     },
     "execution_count": 4,
     "metadata": {},
     "output_type": "execute_result"
    }
   ],
   "source": [
    "\n",
    "#This is ground_truth output, so fill na with zeros\n",
    "import pandas as pd\n",
    "(pd.DataFrame(train[:,15]).describe()).apply(lambda s: s.apply(lambda x: format(x, 'f')))"
   ]
  },
  {
   "cell_type": "code",
   "execution_count": 5,
   "metadata": {},
   "outputs": [
    {
     "data": {
      "image/png": "[encoded data removed]",
      "text/plain": [
       "<Figure size 432x288 with 1 Axes>"
      ]
     },
     "metadata": {
      "needs_background": "light"
     },
     "output_type": "display_data"
    }
   ],
   "source": [
    "ign = train[:,15]\n",
    "plt.hist(ign,bins = [0,1,2,3,4,5,6,7,8,9,10,30,50,70,90,110,130,150,170,190] )\n",
    "plt.show()"
   ]
  },
  {
   "cell_type": "code",
   "execution_count": 6,
   "metadata": {},
   "outputs": [
    {
     "data": {
      "image/png": "[encoded data removed]",
      "text/plain": [
       "<Figure size 432x288 with 1 Axes>"
      ]
     },
     "metadata": {
      "needs_background": "light"
     },
     "output_type": "display_data"
    }
   ],
   "source": [
    "plt.close()\n",
    "plt.hist(ign, bins = np.arange(185))\n",
    "plt.show()"
   ]
  },
  {
   "cell_type": "code",
   "execution_count": 7,
   "metadata": {},
   "outputs": [
    {
     "data": {
      "image/png": "[encoded data removed]",
      "text/plain": [
       "<Figure size 432x288 with 1 Axes>"
      ]
     },
     "metadata": {
      "needs_background": "light"
     },
     "output_type": "display_data"
    }
   ],
   "source": [
    "plt.close()\n",
    "plt.hist(ign, bins = np.arange(10,185))\n",
    "plt.show()"
   ]
  },
  {
   "cell_type": "code",
   "execution_count": 8,
   "metadata": {},
   "outputs": [
    {
     "data": {
      "image/png": "[encoded data removed]",
      "text/plain": [
       "<Figure size 432x288 with 1 Axes>"
      ]
     },
     "metadata": {
      "needs_background": "light"
     },
     "output_type": "display_data"
    }
   ],
   "source": [
    "plt.close()\n",
    "plt.hist(ign, bins = np.arange(50,185))\n",
    "plt.show()"
   ]
  },
  {
   "cell_type": "code",
   "execution_count": 9,
   "metadata": {},
   "outputs": [
    {
     "data": {
      "image/png": "[encoded data removed]",
      "text/plain": [
       "<Figure size 432x288 with 1 Axes>"
      ]
     },
     "metadata": {
      "needs_background": "light"
     },
     "output_type": "display_data"
    }
   ],
   "source": [
    "plt.close()\n",
    "plt.hist(ign, bins = np.arange(90,185))\n",
    "plt.show()"
   ]
  },
  {
   "cell_type": "code",
   "execution_count": 20,
   "metadata": {},
   "outputs": [
    {
     "data": {
      "image/png": "[encoded data removed]",
      "text/plain": [
       "<Figure size 432x288 with 1 Axes>"
      ]
     },
     "metadata": {
      "needs_background": "light"
     },
     "output_type": "display_data"
    }
   ],
   "source": [
    "plt.close()\n",
    "plt.hist(ign, bins = np.arange(120,185))\n",
    "plt.show()"
   ]
  },
  {
   "cell_type": "code",
   "execution_count": 12,
   "metadata": {},
   "outputs": [
    {
     "data": {
      "text/plain": [
       "array([3., 1., 1., ..., 6., 1., 1.])"
      ]
     },
     "execution_count": 12,
     "metadata": {},
     "output_type": "execute_result"
    }
   ],
   "source": [
    "ign = train[:,15]\n",
    "ign = ign[~np.isnan(ign)]\n",
    "ign"
   ]
  },
  {
   "cell_type": "code",
   "execution_count": null,
   "metadata": {},
   "outputs": [],
   "source": [
    "import matplotlib.pyplot as plt\n",
    "%matplotlib inline\n",
    "fig, ax = plt.subplots()\n",
    "ax.set_xlabel('ign')\n",
    "ax.set_ylabel('freq')\n",
    "ax.plot(ign)\n",
    "plt.show()"
   ]
  },
  {
   "cell_type": "code",
   "execution_count": 2,
   "metadata": {},
   "outputs": [
    {
     "data": {
      "text/html": [
       "<div>\n",
       "<style scoped>\n",
       "    .dataframe tbody tr th:only-of-type {\n",
       "        vertical-align: middle;\n",
       "    }\n",
       "\n",
       "    .dataframe tbody tr th {\n",
       "        vertical-align: top;\n",
       "    }\n",
       "\n",
       "    .dataframe thead th {\n",
       "        text-align: right;\n",
       "    }\n",
       "</style>\n",
       "<table border=\"1\" class=\"dataframe\">\n",
       "  <thead>\n",
       "    <tr style=\"text-align: right;\">\n",
       "      <th></th>\n",
       "      <th>0</th>\n",
       "      <th>1</th>\n",
       "      <th>2</th>\n",
       "      <th>3</th>\n",
       "      <th>4</th>\n",
       "      <th>5</th>\n",
       "      <th>6</th>\n",
       "      <th>7</th>\n",
       "      <th>8</th>\n",
       "      <th>9</th>\n",
       "      <th>...</th>\n",
       "      <th>28</th>\n",
       "      <th>29</th>\n",
       "      <th>30</th>\n",
       "      <th>31</th>\n",
       "      <th>32</th>\n",
       "      <th>33</th>\n",
       "      <th>34</th>\n",
       "      <th>35</th>\n",
       "      <th>36</th>\n",
       "      <th>37</th>\n",
       "    </tr>\n",
       "  </thead>\n",
       "  <tbody>\n",
       "    <tr>\n",
       "      <th>count</th>\n",
       "      <td>2.637824e+07</td>\n",
       "      <td>2.637824e+07</td>\n",
       "      <td>2.637824e+07</td>\n",
       "      <td>8.056584e+06</td>\n",
       "      <td>2.637824e+07</td>\n",
       "      <td>2.094448e+07</td>\n",
       "      <td>1.607264e+07</td>\n",
       "      <td>2.370832e+07</td>\n",
       "      <td>2.365202e+07</td>\n",
       "      <td>2.336098e+07</td>\n",
       "      <td>...</td>\n",
       "      <td>2.629930e+07</td>\n",
       "      <td>2.628742e+07</td>\n",
       "      <td>2.629930e+07</td>\n",
       "      <td>2.629930e+07</td>\n",
       "      <td>2.637824e+07</td>\n",
       "      <td>2.637738e+07</td>\n",
       "      <td>2.637824e+07</td>\n",
       "      <td>2.617823e+07</td>\n",
       "      <td>25749360.0</td>\n",
       "      <td>2.637824e+07</td>\n",
       "    </tr>\n",
       "    <tr>\n",
       "      <th>mean</th>\n",
       "      <td>3.296606e+01</td>\n",
       "      <td>1.796954e+01</td>\n",
       "      <td>2.007070e+05</td>\n",
       "      <td>4.412167e+01</td>\n",
       "      <td>6.474957e-01</td>\n",
       "      <td>2.075981e-01</td>\n",
       "      <td>2.289735e-01</td>\n",
       "      <td>1.950722e-01</td>\n",
       "      <td>7.774795e-02</td>\n",
       "      <td>2.919566e-02</td>\n",
       "      <td>...</td>\n",
       "      <td>1.139557e+01</td>\n",
       "      <td>2.786261e+00</td>\n",
       "      <td>1.476817e+01</td>\n",
       "      <td>9.362551e+00</td>\n",
       "      <td>1.094813e+01</td>\n",
       "      <td>5.789453e+01</td>\n",
       "      <td>8.257602e+02</td>\n",
       "      <td>1.492296e+02</td>\n",
       "      <td>1.0</td>\n",
       "      <td>3.976683e+01</td>\n",
       "    </tr>\n",
       "    <tr>\n",
       "      <th>std</th>\n",
       "      <td>3.209927e+01</td>\n",
       "      <td>8.475633e+01</td>\n",
       "      <td>2.582220e+02</td>\n",
       "      <td>8.437435e+01</td>\n",
       "      <td>3.618286e-01</td>\n",
       "      <td>7.963252e-02</td>\n",
       "      <td>2.993385e-01</td>\n",
       "      <td>1.509605e-01</td>\n",
       "      <td>8.051445e-02</td>\n",
       "      <td>2.679024e-02</td>\n",
       "      <td>...</td>\n",
       "      <td>3.779948e+00</td>\n",
       "      <td>2.140058e+00</td>\n",
       "      <td>1.827522e+01</td>\n",
       "      <td>6.580343e+00</td>\n",
       "      <td>1.803764e+01</td>\n",
       "      <td>8.604337e+01</td>\n",
       "      <td>2.237212e+03</td>\n",
       "      <td>5.292684e+02</td>\n",
       "      <td>0.0</td>\n",
       "      <td>3.205707e+02</td>\n",
       "    </tr>\n",
       "    <tr>\n",
       "      <th>min</th>\n",
       "      <td>-5.575000e+01</td>\n",
       "      <td>-1.797500e+02</td>\n",
       "      <td>2.003015e+05</td>\n",
       "      <td>0.000000e+00</td>\n",
       "      <td>0.000000e+00</td>\n",
       "      <td>0.000000e+00</td>\n",
       "      <td>4.936834e-05</td>\n",
       "      <td>6.171491e-06</td>\n",
       "      <td>4.937193e-06</td>\n",
       "      <td>2.468596e-06</td>\n",
       "      <td>...</td>\n",
       "      <td>0.000000e+00</td>\n",
       "      <td>0.000000e+00</td>\n",
       "      <td>-5.000000e+01</td>\n",
       "      <td>0.000000e+00</td>\n",
       "      <td>0.000000e+00</td>\n",
       "      <td>0.000000e+00</td>\n",
       "      <td>0.000000e+00</td>\n",
       "      <td>0.000000e+00</td>\n",
       "      <td>1.0</td>\n",
       "      <td>0.000000e+00</td>\n",
       "    </tr>\n",
       "    <tr>\n",
       "      <th>25%</th>\n",
       "      <td>1.000000e+01</td>\n",
       "      <td>-6.125000e+01</td>\n",
       "      <td>2.005042e+05</td>\n",
       "      <td>0.000000e+00</td>\n",
       "      <td>3.392336e-01</td>\n",
       "      <td>1.518320e-01</td>\n",
       "      <td>4.814920e-03</td>\n",
       "      <td>7.564242e-02</td>\n",
       "      <td>1.984437e-02</td>\n",
       "      <td>5.271503e-03</td>\n",
       "      <td>...</td>\n",
       "      <td>8.600000e+00</td>\n",
       "      <td>8.000000e-01</td>\n",
       "      <td>2.300000e+00</td>\n",
       "      <td>4.000000e+00</td>\n",
       "      <td>5.000000e+00</td>\n",
       "      <td>7.420000e+00</td>\n",
       "      <td>5.800295e+00</td>\n",
       "      <td>0.000000e+00</td>\n",
       "      <td>1.0</td>\n",
       "      <td>0.000000e+00</td>\n",
       "    </tr>\n",
       "    <tr>\n",
       "      <th>50%</th>\n",
       "      <td>4.000000e+01</td>\n",
       "      <td>2.700000e+01</td>\n",
       "      <td>2.007070e+05</td>\n",
       "      <td>2.700512e-01</td>\n",
       "      <td>8.135355e-01</td>\n",
       "      <td>2.090420e-01</td>\n",
       "      <td>6.834631e-02</td>\n",
       "      <td>1.840737e-01</td>\n",
       "      <td>5.314562e-02</td>\n",
       "      <td>2.083274e-02</td>\n",
       "      <td>...</td>\n",
       "      <td>1.110000e+01</td>\n",
       "      <td>2.800000e+00</td>\n",
       "      <td>1.930000e+01</td>\n",
       "      <td>9.000000e+00</td>\n",
       "      <td>7.000000e+00</td>\n",
       "      <td>2.703000e+01</td>\n",
       "      <td>7.202480e+01</td>\n",
       "      <td>4.300000e+01</td>\n",
       "      <td>1.0</td>\n",
       "      <td>1.632388e-01</td>\n",
       "    </tr>\n",
       "    <tr>\n",
       "      <th>75%</th>\n",
       "      <td>6.000000e+01</td>\n",
       "      <td>9.075000e+01</td>\n",
       "      <td>2.009098e+05</td>\n",
       "      <td>3.811293e+01</td>\n",
       "      <td>9.479574e-01</td>\n",
       "      <td>2.649611e-01</td>\n",
       "      <td>3.789602e-01</td>\n",
       "      <td>2.553829e-01</td>\n",
       "      <td>1.061446e-01</td>\n",
       "      <td>4.951850e-02</td>\n",
       "      <td>...</td>\n",
       "      <td>1.390000e+01</td>\n",
       "      <td>4.000000e+00</td>\n",
       "      <td>3.010000e+01</td>\n",
       "      <td>1.367000e+01</td>\n",
       "      <td>1.100000e+01</td>\n",
       "      <td>6.960000e+01</td>\n",
       "      <td>6.234733e+02</td>\n",
       "      <td>1.350000e+02</td>\n",
       "      <td>1.0</td>\n",
       "      <td>6.496927e+00</td>\n",
       "    </tr>\n",
       "    <tr>\n",
       "      <th>max</th>\n",
       "      <td>8.375000e+01</td>\n",
       "      <td>1.800000e+02</td>\n",
       "      <td>2.011125e+05</td>\n",
       "      <td>3.412600e+02</td>\n",
       "      <td>1.000000e+00</td>\n",
       "      <td>1.000000e+00</td>\n",
       "      <td>1.000000e+00</td>\n",
       "      <td>7.000000e-01</td>\n",
       "      <td>6.000000e-01</td>\n",
       "      <td>2.008293e-01</td>\n",
       "      <td>...</td>\n",
       "      <td>4.050000e+01</td>\n",
       "      <td>1.260000e+01</td>\n",
       "      <td>4.810000e+01</td>\n",
       "      <td>3.100000e+01</td>\n",
       "      <td>9.900000e+01</td>\n",
       "      <td>3.821850e+03</td>\n",
       "      <td>1.695468e+05</td>\n",
       "      <td>5.567600e+04</td>\n",
       "      <td>1.0</td>\n",
       "      <td>3.808370e+04</td>\n",
       "    </tr>\n",
       "  </tbody>\n",
       "</table>\n",
       "<p>8 rows × 38 columns</p>\n",
       "</div>"
      ],
      "text/plain": [
       "                 0             1             2             3             4   \\\n",
       "count  2.637824e+07  2.637824e+07  2.637824e+07  8.056584e+06  2.637824e+07   \n",
       "mean   3.296606e+01  1.796954e+01  2.007070e+05  4.412167e+01  6.474957e-01   \n",
       "std    3.209927e+01  8.475633e+01  2.582220e+02  8.437435e+01  3.618286e-01   \n",
       "min   -5.575000e+01 -1.797500e+02  2.003015e+05  0.000000e+00  0.000000e+00   \n",
       "25%    1.000000e+01 -6.125000e+01  2.005042e+05  0.000000e+00  3.392336e-01   \n",
       "50%    4.000000e+01  2.700000e+01  2.007070e+05  2.700512e-01  8.135355e-01   \n",
       "75%    6.000000e+01  9.075000e+01  2.009098e+05  3.811293e+01  9.479574e-01   \n",
       "max    8.375000e+01  1.800000e+02  2.011125e+05  3.412600e+02  1.000000e+00   \n",
       "\n",
       "                 5             6             7             8             9   \\\n",
       "count  2.094448e+07  1.607264e+07  2.370832e+07  2.365202e+07  2.336098e+07   \n",
       "mean   2.075981e-01  2.289735e-01  1.950722e-01  7.774795e-02  2.919566e-02   \n",
       "std    7.963252e-02  2.993385e-01  1.509605e-01  8.051445e-02  2.679024e-02   \n",
       "min    0.000000e+00  4.936834e-05  6.171491e-06  4.937193e-06  2.468596e-06   \n",
       "25%    1.518320e-01  4.814920e-03  7.564242e-02  1.984437e-02  5.271503e-03   \n",
       "50%    2.090420e-01  6.834631e-02  1.840737e-01  5.314562e-02  2.083274e-02   \n",
       "75%    2.649611e-01  3.789602e-01  2.553829e-01  1.061446e-01  4.951850e-02   \n",
       "max    1.000000e+00  1.000000e+00  7.000000e-01  6.000000e-01  2.008293e-01   \n",
       "\n",
       "       ...            28            29            30            31  \\\n",
       "count  ...  2.629930e+07  2.628742e+07  2.629930e+07  2.629930e+07   \n",
       "mean   ...  1.139557e+01  2.786261e+00  1.476817e+01  9.362551e+00   \n",
       "std    ...  3.779948e+00  2.140058e+00  1.827522e+01  6.580343e+00   \n",
       "min    ...  0.000000e+00  0.000000e+00 -5.000000e+01  0.000000e+00   \n",
       "25%    ...  8.600000e+00  8.000000e-01  2.300000e+00  4.000000e+00   \n",
       "50%    ...  1.110000e+01  2.800000e+00  1.930000e+01  9.000000e+00   \n",
       "75%    ...  1.390000e+01  4.000000e+00  3.010000e+01  1.367000e+01   \n",
       "max    ...  4.050000e+01  1.260000e+01  4.810000e+01  3.100000e+01   \n",
       "\n",
       "                 32            33            34            35          36  \\\n",
       "count  2.637824e+07  2.637738e+07  2.637824e+07  2.617823e+07  25749360.0   \n",
       "mean   1.094813e+01  5.789453e+01  8.257602e+02  1.492296e+02         1.0   \n",
       "std    1.803764e+01  8.604337e+01  2.237212e+03  5.292684e+02         0.0   \n",
       "min    0.000000e+00  0.000000e+00  0.000000e+00  0.000000e+00         1.0   \n",
       "25%    5.000000e+00  7.420000e+00  5.800295e+00  0.000000e+00         1.0   \n",
       "50%    7.000000e+00  2.703000e+01  7.202480e+01  4.300000e+01         1.0   \n",
       "75%    1.100000e+01  6.960000e+01  6.234733e+02  1.350000e+02         1.0   \n",
       "max    9.900000e+01  3.821850e+03  1.695468e+05  5.567600e+04         1.0   \n",
       "\n",
       "                 37  \n",
       "count  2.637824e+07  \n",
       "mean   3.976683e+01  \n",
       "std    3.205707e+02  \n",
       "min    0.000000e+00  \n",
       "25%    0.000000e+00  \n",
       "50%    1.632388e-01  \n",
       "75%    6.496927e+00  \n",
       "max    3.808370e+04  \n",
       "\n",
       "[8 rows x 38 columns]"
      ]
     },
     "execution_count": 2,
     "metadata": {},
     "output_type": "execute_result"
    }
   ],
   "source": [
    "import pandas as pd\n",
    "pd.DataFrame(train).describe()"
   ]
  },
  {
   "cell_type": "code",
   "execution_count": null,
   "metadata": {},
   "outputs": [],
   "source": [
    "from sklearn.ensemble import RandomForestRegressor\n",
    "model = RandomForestRegressor (n_estimators=500, criterion='mse', random_state=42, max_features=7, n_jobs=60,\n",
    "                                   oob_score=True,\n",
    "                                   min_samples_split=2, min_samples_leaf=1, min_weight_fraction_leaf=0.0,\n",
    "                                   max_leaf_nodes=None,\n",
    "                                   min_impurity_decrease=0.0, bootstrap=True, verbose=0,\n",
    "                                   warm_start=False, ccp_alpha=0.0, max_samples=None)\n"
   ]
  },
  {
   "cell_type": "markdown",
   "metadata": {},
   "source": [
    "Index(['lat 0', 'lon 1', 'time 2', 'agb 3', 'pft_fracCover 4', 'sm 5', 'pftCrop 6',\n",
    "       'pftHerb 7', 'pftShrubBD 8', 'pftShrubNE 9', 'pftTreeBD 10', 'pftTreeBE 11',\n",
    "       'pftTreeND 12', 'pftTreeNE 13', 'GDP 14', 'ign 15', 'Distance_to_populated_areas 16',\n",
    "       'fPAR 17', 'LAI 18', 'NLDI 19', 'vod_K_anomalies 20', 'FPAR_12mon 21', 'LAI_12mon 22',\n",
    "       'Vod_k_anomaly_12mon 23', 'FPAR_06mon 24', 'LAI_06mon 25', 'Vod_k_anomaly_06mon 26',\n",
    "       'WDPA_fracCover 27', 'dtr 28', 'pet 29', 'tmx 30', 'wet 31', 'Biome 32', 'precip 33',\n",
    "       'Livestock 34', 'road_density 35', 'topo 36', 'pop_density 37'],\n",
    "      dtype='object')\n",
    "Final Variables(['agb', 'sm','pftTreeBE', 'pftHerb',' pftShrubBD','pftShrubNE','pftTreeBD','pftTreeNE','fPAR',' vod_K_anomalies','pet','wet','precip','pftTreeND'])\n",
    "Taking the 0 as first position convention, \n",
    "Final Variables[3,5,11,7,8,9,10,12,13,17,20,29,31,33] 14\n",
    " WET 31+ Precip 33+ PET 29+ SM 5+ fPAR 17 + VOD_K 20' + Herb 7 + TreeBD 10 + ShrubBD 8+ TreeBE 11 + ShrubBE + TreeNE 13 + ShrubNE 9+ TreeND  12 14\n",
    "Socio-economic variables[pftCrop 6, Livestock 34, GDP 14, road_density 35, Distance_to_populated_areas 16, WDPA_fracCover 27, pop_density 37]"
   ]
  },
  {
   "cell_type": "code",
   "execution_count": 1,
   "metadata": {},
   "outputs": [],
   "source": [
    "import numpy as np\n",
    "train = np.load(\"../data/train_sans_ocean.npy\")"
   ]
  },
  {
   "cell_type": "code",
   "execution_count": 21,
   "metadata": {},
   "outputs": [
    {
     "data": {
      "text/plain": [
       "array([4.00000000e+01, 2.70000000e+01, 2.00707000e+05, 2.70051196e-01,\n",
       "       8.13535452e-01, 2.09042035e-01, 6.83463067e-02, 1.84073687e-01,\n",
       "       5.31456172e-02, 2.08327379e-02, 1.58442222e-02, 8.39532702e-04,\n",
       "       0.00000000e+00, 9.21483990e-03, 1.88436641e+04, 3.00000000e+00,\n",
       "       4.98581250e+04, 3.94220918e-01, 8.10832858e-01, 1.00999999e+00,\n",
       "       2.04995988e-03, 1.90385237e-01, 3.18636298e-01, 0.00000000e+00,\n",
       "       1.90385237e-01, 3.18636298e-01, 0.00000000e+00, 0.00000000e+00,\n",
       "       1.11000004e+01, 2.79999995e+00, 1.93000011e+01, 9.00000000e+00,\n",
       "       7.00000000e+00, 2.70300007e+01, 7.20247989e+01, 4.30000000e+01,\n",
       "       1.00000000e+00, 1.63238806e-01])"
      ]
     },
     "execution_count": 21,
     "metadata": {},
     "output_type": "execute_result"
    }
   ],
   "source": [
    "col_median = np.nanmedian(train,axis = 0)\n",
    "col_median "
   ]
  },
  {
   "cell_type": "code",
   "execution_count": 23,
   "metadata": {},
   "outputs": [
    {
     "data": {
      "text/plain": [
       "(38,)"
      ]
     },
     "execution_count": 23,
     "metadata": {},
     "output_type": "execute_result"
    }
   ],
   "source": [
    "col_median.shape"
   ]
  },
  {
   "cell_type": "code",
   "execution_count": 25,
   "metadata": {},
   "outputs": [
    {
     "data": {
      "text/plain": [
       "(38, 1)"
      ]
     },
     "execution_count": 25,
     "metadata": {},
     "output_type": "execute_result"
    }
   ],
   "source": [
    "col_median = np.reshape(col_median,((-1,1)))\n",
    "col_median.shape"
   ]
  },
  {
   "cell_type": "code",
   "execution_count": 26,
   "metadata": {},
   "outputs": [],
   "source": [
    "idx = np.where(np.isnan(train))"
   ]
  },
  {
   "cell_type": "code",
   "execution_count": 28,
   "metadata": {},
   "outputs": [],
   "source": [
    "train[idx] = np.take(col_median,idx[1])"
   ]
  },
  {
   "cell_type": "code",
   "execution_count": 29,
   "metadata": {},
   "outputs": [
    {
     "data": {
      "text/plain": [
       "(array([], dtype=int64), array([], dtype=int64))"
      ]
     },
     "execution_count": 29,
     "metadata": {},
     "output_type": "execute_result"
    }
   ],
   "source": [
    "idx = np.where(np.isnan(train))\n",
    "idx"
   ]
  },
  {
   "cell_type": "code",
   "execution_count": 35,
   "metadata": {},
   "outputs": [],
   "source": [
    "np.save(\"../data/train_median.npy\",train)"
   ]
  },
  {
   "cell_type": "code",
   "execution_count": 1,
   "metadata": {},
   "outputs": [],
   "source": [
    "import numpy as np\n",
    "test = np.load(\"../data/test_sans_ocean.npy\")\n"
   ]
  },
  {
   "cell_type": "code",
   "execution_count": 2,
   "metadata": {},
   "outputs": [
    {
     "data": {
      "text/plain": [
       "(38, 1)"
      ]
     },
     "execution_count": 2,
     "metadata": {},
     "output_type": "execute_result"
    }
   ],
   "source": [
    "col_median = np.nanmedian(test,axis = 0)\n",
    "col_median = np.reshape(col_median,((-1,1)))\n",
    "col_median.shape"
   ]
  },
  {
   "cell_type": "code",
   "execution_count": 3,
   "metadata": {},
   "outputs": [],
   "source": [
    "idx = np.where(np.isnan(test))\n",
    "test[idx] = np.take(col_median,idx[1])"
   ]
  },
  {
   "cell_type": "code",
   "execution_count": 4,
   "metadata": {},
   "outputs": [],
   "source": [
    "np.save(\"../data/test_median.npy\",test)"
   ]
  },
  {
   "cell_type": "code",
   "execution_count": null,
   "metadata": {},
   "outputs": [],
   "source": []
  },
  {
   "cell_type": "code",
   "execution_count": 6,
   "metadata": {},
   "outputs": [
    {
     "data": {
      "text/plain": [
       "(26363866,)"
      ]
     },
     "execution_count": 6,
     "metadata": {},
     "output_type": "execute_result"
    }
   ],
   "source": [
    "t_max.shape"
   ]
  },
  {
   "cell_type": "code",
   "execution_count": 7,
   "metadata": {},
   "outputs": [
    {
     "data": {
      "text/plain": [
       "14.776247711608125"
      ]
     },
     "execution_count": 7,
     "metadata": {},
     "output_type": "execute_result"
    }
   ],
   "source": [
    "np.nanmean(t_max)"
   ]
  },
  {
   "cell_type": "code",
   "execution_count": 12,
   "metadata": {},
   "outputs": [],
   "source": [
    "t_max = t_max[~np.isnan(t_max)]"
   ]
  },
  {
   "cell_type": "code",
   "execution_count": 13,
   "metadata": {},
   "outputs": [
    {
     "data": {
      "text/plain": [
       "(26284918,)"
      ]
     },
     "execution_count": 13,
     "metadata": {},
     "output_type": "execute_result"
    }
   ],
   "source": [
    "t_max.shape"
   ]
  },
  {
   "cell_type": "code",
   "execution_count": 14,
   "metadata": {},
   "outputs": [
    {
     "data": {
      "text/plain": [
       "-50.0"
      ]
     },
     "execution_count": 14,
     "metadata": {},
     "output_type": "execute_result"
    }
   ],
   "source": [
    "t_max.min()"
   ]
  },
  {
   "cell_type": "code",
   "execution_count": 15,
   "metadata": {},
   "outputs": [
    {
     "data": {
      "text/plain": [
       "48.10000228881836"
      ]
     },
     "execution_count": 15,
     "metadata": {},
     "output_type": "execute_result"
    }
   ],
   "source": [
    "t_max.max()"
   ]
  },
  {
   "cell_type": "code",
   "execution_count": 16,
   "metadata": {},
   "outputs": [
    {
     "data": {
      "text/plain": [
       "19.30000114440918"
      ]
     },
     "execution_count": 16,
     "metadata": {},
     "output_type": "execute_result"
    }
   ],
   "source": [
    "np.nanmedian(t_max)"
   ]
  },
  {
   "cell_type": "code",
   "execution_count": 17,
   "metadata": {},
   "outputs": [
    {
     "data": {
      "text/plain": [
       "14.776247711608079"
      ]
     },
     "execution_count": 17,
     "metadata": {},
     "output_type": "execute_result"
    }
   ],
   "source": [
    "np.nanmean(t_max)"
   ]
  },
  {
   "cell_type": "code",
   "execution_count": 8,
   "metadata": {},
   "outputs": [
    {
     "data": {
      "text/plain": [
       "19.30000114440918"
      ]
     },
     "execution_count": 8,
     "metadata": {},
     "output_type": "execute_result"
    }
   ],
   "source": [
    "np.nanmedian(t_max)"
   ]
  },
  {
   "cell_type": "code",
   "execution_count": 19,
   "metadata": {},
   "outputs": [
    {
     "data": {
      "image/png": "[encoded data removed]",
      "text/plain": [
       "<Figure size 432x288 with 1 Axes>"
      ]
     },
     "metadata": {
      "needs_background": "light"
     },
     "output_type": "display_data"
    }
   ],
   "source": [
    "from matplotlib import pyplot as plt\n",
    "%matplotlib inline\n",
    "plt.hist(t_max, bins = np.arange(t_max.min(),t_max.max()))\n",
    "plt.show()"
   ]
  },
  {
   "cell_type": "markdown",
   "metadata": {},
   "source": [
    "topo 36\n",
    "Biome 32\n",
    "lon 1\n",
    "lat 0\n",
    "time 2\n",
    "LAI 18\n",
    "FPAR_12mon 21\n",
    "LAI_12mon 22\n",
    "Vod_k_anomaly_12mon 23\n",
    "FPAR_06mon 24\n",
    "LAI_06mon 25\n",
    "Vod_k_anomaly_06mon 26\n",
    "pft_fracCover 4\n",
    "tmx 30\n",
    "dtr 28\n",
    "NLDI 19\n",
    "WDPA_fracCover 27\n",
    "Livestock 34\n",
    "road_density 35\n",
    "pop_density 37\n",
    "Distance_to_populated_areas 16\n",
    "GDP 14\n",
    "pftCrop 6\n",
    "[2,18,21,22,23,24,25,26,19,36]\n",
    "Livestock\n",
    "road_density\n",
    "pop_density\n",
    "Distance_to_populated_areas\n",
    "GDP\n",
    "[34,35,37,14]"
   ]
  },
  {
   "cell_type": "code",
   "execution_count": 2,
   "metadata": {},
   "outputs": [
    {
     "data": {
      "text/plain": [
       "array([[ 0,  1,  2,  3,  4],\n",
       "       [ 5,  6,  7,  8,  9],\n",
       "       [10, 11, 12, 13, 14],\n",
       "       [15, 16, 17, 18, 19],\n",
       "       [20, 21, 22, 23, 24],\n",
       "       [25, 26, 27, 28, 29]])"
      ]
     },
     "execution_count": 2,
     "metadata": {},
     "output_type": "execute_result"
    }
   ],
   "source": [
    "import numpy as np\n",
    "arr = np.arange(30).reshape((6,5))\n",
    "arr"
   ]
  },
  {
   "cell_type": "code",
   "execution_count": 5,
   "metadata": {},
   "outputs": [
    {
     "data": {
      "text/plain": [
       "array([[ 0,  3],\n",
       "       [ 5,  8],\n",
       "       [10, 13],\n",
       "       [15, 18],\n",
       "       [20, 23],\n",
       "       [25, 28]])"
      ]
     },
     "execution_count": 5,
     "metadata": {},
     "output_type": "execute_result"
    }
   ],
   "source": [
    "arr[:,[0,3]]"
   ]
  },
  {
   "cell_type": "code",
   "execution_count": 6,
   "metadata": {},
   "outputs": [
    {
     "data": {
      "text/plain": [
       "array([[ 0,  3],\n",
       "       [ 5,  8],\n",
       "       [10, 13],\n",
       "       [15, 18],\n",
       "       [20, 23],\n",
       "       [25, 28]])"
      ]
     },
     "execution_count": 6,
     "metadata": {},
     "output_type": "execute_result"
    }
   ],
   "source": [
    "arr_new = arr[:,[0,3]]\n",
    "arr_new"
   ]
  },
  {
   "cell_type": "code",
   "execution_count": 13,
   "metadata": {},
   "outputs": [],
   "source": [
    "arr = np.append(arr,arr_new[:,1].reshape(-1,1),axis = 1)"
   ]
  },
  {
   "cell_type": "code",
   "execution_count": 14,
   "metadata": {},
   "outputs": [
    {
     "data": {
      "text/plain": [
       "array([[ 0,  1,  2,  3,  4,  3],\n",
       "       [ 5,  6,  7,  8,  9,  8],\n",
       "       [10, 11, 12, 13, 14, 13],\n",
       "       [15, 16, 17, 18, 19, 18],\n",
       "       [20, 21, 22, 23, 24, 23],\n",
       "       [25, 26, 27, 28, 29, 28]])"
      ]
     },
     "execution_count": 14,
     "metadata": {},
     "output_type": "execute_result"
    }
   ],
   "source": [
    "arr"
   ]
  },
  {
   "cell_type": "code",
   "execution_count": 9,
   "metadata": {},
   "outputs": [
    {
     "data": {
      "text/plain": [
       "(6, 2)"
      ]
     },
     "execution_count": 9,
     "metadata": {},
     "output_type": "execute_result"
    }
   ],
   "source": [
    "arr_new.shape"
   ]
  },
  {
   "cell_type": "code",
   "execution_count": 11,
   "metadata": {},
   "outputs": [
    {
     "data": {
      "text/plain": [
       "(6,)"
      ]
     },
     "execution_count": 11,
     "metadata": {},
     "output_type": "execute_result"
    }
   ],
   "source": [
    "arr_new[:,1].shape"
   ]
  },
  {
   "cell_type": "code",
   "execution_count": 16,
   "metadata": {},
   "outputs": [
    {
     "ename": "ValueError",
     "evalue": "all the input arrays must have same number of dimensions, but the array at index 0 has 2 dimension(s) and the array at index 1 has 0 dimension(s)",
     "output_type": "error",
     "traceback": [
      "\u001b[0;31m---------------------------------------------------------------------------\u001b[0m",
      "\u001b[0;31mValueError\u001b[0m                                Traceback (most recent call last)",
      "\u001b[1;32m/home/npande/Desktop/furnaces/code/data_analysis.ipynb Cell 41\u001b[0m in \u001b[0;36m<cell line: 1>\u001b[0;34m()\u001b[0m\n\u001b[0;32m----> <a href='vscode-notebook-cell:/home/npande/Desktop/furnaces/code/data_analysis.ipynb#X55sZmlsZQ%3D%3D?line=0'>1</a>\u001b[0m arr \u001b[39m=\u001b[39m np\u001b[39m.\u001b[39;49mappend(arr,\u001b[39mNone\u001b[39;49;00m,axis \u001b[39m=\u001b[39;49m \u001b[39m1\u001b[39;49m)\n",
      "File \u001b[0;32m<__array_function__ internals>:180\u001b[0m, in \u001b[0;36mappend\u001b[0;34m(*args, **kwargs)\u001b[0m\n",
      "File \u001b[0;32m~/miniconda3/lib/python3.9/site-packages/numpy/lib/function_base.py:5392\u001b[0m, in \u001b[0;36mappend\u001b[0;34m(arr, values, axis)\u001b[0m\n\u001b[1;32m   5390\u001b[0m     values \u001b[39m=\u001b[39m ravel(values)\n\u001b[1;32m   5391\u001b[0m     axis \u001b[39m=\u001b[39m arr\u001b[39m.\u001b[39mndim\u001b[39m-\u001b[39m\u001b[39m1\u001b[39m\n\u001b[0;32m-> 5392\u001b[0m \u001b[39mreturn\u001b[39;00m concatenate((arr, values), axis\u001b[39m=\u001b[39;49maxis)\n",
      "File \u001b[0;32m<__array_function__ internals>:180\u001b[0m, in \u001b[0;36mconcatenate\u001b[0;34m(*args, **kwargs)\u001b[0m\n",
      "\u001b[0;31mValueError\u001b[0m: all the input arrays must have same number of dimensions, but the array at index 0 has 2 dimension(s) and the array at index 1 has 0 dimension(s)"
     ]
    }
   ],
   "source": [
    "arr = np.append(arr,None,axis = 1)"
   ]
  },
  {
   "cell_type": "code",
   "execution_count": 1,
   "metadata": {},
   "outputs": [],
   "source": [
    "import numpy as np\n",
    "import matplotlib.pyplot as plt\n",
    "%matplotlib inline\n",
    "import joblib\n",
    "from sklearn import tree\n",
    "    #0: 34 Livestock\n",
    "    #1: 35 road_density\n",
    "    #2: 37 pop_density\n",
    "    #3: 14 GDP"
   ]
  },
  {
   "cell_type": "code",
   "execution_count": 2,
   "metadata": {},
   "outputs": [],
   "source": [
    "road_density =  joblib.load(\"../output/feature1.joblib\")\n",
    "fn = ['lat 0', 'lon 1', 'agb 3', 'pft_fracCover 4', 'sm 5', 'pftCrop 6',\n",
    "       'pftHerb 7', 'pftShrubBD 8', 'pftShrubNE 9', 'pftTreeBD 10', 'pftTreeBE 11',\n",
    "       'pftTreeND 12', 'pftTreeNE 13', 'Distance_to_populated_areas 16',\n",
    "       'fPAR 17', 'vod_K_anomalies 20', 'WDPA_fracCover 27', 'dtr 28', \n",
    "       'pet 29', 'tmx 30', 'wet 31', 'Biome 32', 'precip 33','road_density']\n",
    "cn = ['ign']"
   ]
  },
  {
   "cell_type": "code",
   "execution_count": 3,
   "metadata": {},
   "outputs": [
    {
     "ename": "KeyboardInterrupt",
     "evalue": "",
     "output_type": "error",
     "traceback": [
      "\u001b[0;31m---------------------------------------------------------------------------\u001b[0m",
      "\u001b[0;31mKeyboardInterrupt\u001b[0m                         Traceback (most recent call last)",
      "\u001b[1;32m/home/npande/furnaces/code/data_analysis.ipynb Cell 67\u001b[0m in \u001b[0;36m<cell line: 7>\u001b[0;34m()\u001b[0m\n\u001b[1;32m      <a href='vscode-notebook-cell:/home/npande/furnaces/code/data_analysis.ipynb#Y123sZmlsZQ%3D%3D?line=1'>2</a>\u001b[0m tree\u001b[39m.\u001b[39mplot_tree(road_density\u001b[39m.\u001b[39mestimators_[\u001b[39m0\u001b[39m],\n\u001b[1;32m      <a href='vscode-notebook-cell:/home/npande/furnaces/code/data_analysis.ipynb#Y123sZmlsZQ%3D%3D?line=2'>3</a>\u001b[0m                feature_names \u001b[39m=\u001b[39m fn, \n\u001b[1;32m      <a href='vscode-notebook-cell:/home/npande/furnaces/code/data_analysis.ipynb#Y123sZmlsZQ%3D%3D?line=3'>4</a>\u001b[0m                class_names\u001b[39m=\u001b[39mcn,\n\u001b[1;32m      <a href='vscode-notebook-cell:/home/npande/furnaces/code/data_analysis.ipynb#Y123sZmlsZQ%3D%3D?line=4'>5</a>\u001b[0m                filled \u001b[39m=\u001b[39m \u001b[39mTrue\u001b[39;00m)\n\u001b[1;32m      <a href='vscode-notebook-cell:/home/npande/furnaces/code/data_analysis.ipynb#Y123sZmlsZQ%3D%3D?line=5'>6</a>\u001b[0m fig\u001b[39m.\u001b[39msuptitle(\u001b[39m'\u001b[39m\u001b[39mRoad Density + Base Model\u001b[39m\u001b[39m'\u001b[39m)\n\u001b[0;32m----> <a href='vscode-notebook-cell:/home/npande/furnaces/code/data_analysis.ipynb#Y123sZmlsZQ%3D%3D?line=6'>7</a>\u001b[0m plt\u001b[39m.\u001b[39;49mshow()\n",
      "File \u001b[0;32m~/anaconda3/lib/python3.9/site-packages/matplotlib/pyplot.py:368\u001b[0m, in \u001b[0;36mshow\u001b[0;34m(*args, **kwargs)\u001b[0m\n\u001b[1;32m    324\u001b[0m \u001b[39m\"\"\"\u001b[39;00m\n\u001b[1;32m    325\u001b[0m \u001b[39mDisplay all open figures.\u001b[39;00m\n\u001b[1;32m    326\u001b[0m \n\u001b[0;32m   (...)\u001b[0m\n\u001b[1;32m    365\u001b[0m \u001b[39mexplicitly there.\u001b[39;00m\n\u001b[1;32m    366\u001b[0m \u001b[39m\"\"\"\u001b[39;00m\n\u001b[1;32m    367\u001b[0m _warn_if_gui_out_of_main_thread()\n\u001b[0;32m--> 368\u001b[0m \u001b[39mreturn\u001b[39;00m _backend_mod\u001b[39m.\u001b[39;49mshow(\u001b[39m*\u001b[39;49margs, \u001b[39m*\u001b[39;49m\u001b[39m*\u001b[39;49mkwargs)\n",
      "File \u001b[0;32m~/anaconda3/lib/python3.9/site-packages/matplotlib_inline/backend_inline.py:41\u001b[0m, in \u001b[0;36mshow\u001b[0;34m(close, block)\u001b[0m\n\u001b[1;32m     39\u001b[0m \u001b[39mtry\u001b[39;00m:\n\u001b[1;32m     40\u001b[0m     \u001b[39mfor\u001b[39;00m figure_manager \u001b[39min\u001b[39;00m Gcf\u001b[39m.\u001b[39mget_all_fig_managers():\n\u001b[0;32m---> 41\u001b[0m         display(\n\u001b[1;32m     42\u001b[0m             figure_manager\u001b[39m.\u001b[39;49mcanvas\u001b[39m.\u001b[39;49mfigure,\n\u001b[1;32m     43\u001b[0m             metadata\u001b[39m=\u001b[39;49m_fetch_figure_metadata(figure_manager\u001b[39m.\u001b[39;49mcanvas\u001b[39m.\u001b[39;49mfigure)\n\u001b[1;32m     44\u001b[0m         )\n\u001b[1;32m     45\u001b[0m \u001b[39mfinally\u001b[39;00m:\n\u001b[1;32m     46\u001b[0m     show\u001b[39m.\u001b[39m_to_draw \u001b[39m=\u001b[39m []\n",
      "File \u001b[0;32m~/anaconda3/lib/python3.9/site-packages/IPython/core/display_functions.py:298\u001b[0m, in \u001b[0;36mdisplay\u001b[0;34m(include, exclude, metadata, transient, display_id, raw, clear, *objs, **kwargs)\u001b[0m\n\u001b[1;32m    296\u001b[0m     publish_display_data(data\u001b[39m=\u001b[39mobj, metadata\u001b[39m=\u001b[39mmetadata, \u001b[39m*\u001b[39m\u001b[39m*\u001b[39mkwargs)\n\u001b[1;32m    297\u001b[0m \u001b[39melse\u001b[39;00m:\n\u001b[0;32m--> 298\u001b[0m     format_dict, md_dict \u001b[39m=\u001b[39m \u001b[39mformat\u001b[39;49m(obj, include\u001b[39m=\u001b[39;49minclude, exclude\u001b[39m=\u001b[39;49mexclude)\n\u001b[1;32m    299\u001b[0m     \u001b[39mif\u001b[39;00m \u001b[39mnot\u001b[39;00m format_dict:\n\u001b[1;32m    300\u001b[0m         \u001b[39m# nothing to display (e.g. _ipython_display_ took over)\u001b[39;00m\n\u001b[1;32m    301\u001b[0m         \u001b[39mcontinue\u001b[39;00m\n",
      "File \u001b[0;32m~/anaconda3/lib/python3.9/site-packages/IPython/core/formatters.py:178\u001b[0m, in \u001b[0;36mDisplayFormatter.format\u001b[0;34m(self, obj, include, exclude)\u001b[0m\n\u001b[1;32m    176\u001b[0m md \u001b[39m=\u001b[39m \u001b[39mNone\u001b[39;00m\n\u001b[1;32m    177\u001b[0m \u001b[39mtry\u001b[39;00m:\n\u001b[0;32m--> 178\u001b[0m     data \u001b[39m=\u001b[39m formatter(obj)\n\u001b[1;32m    179\u001b[0m \u001b[39mexcept\u001b[39;00m:\n\u001b[1;32m    180\u001b[0m     \u001b[39m# FIXME: log the exception\u001b[39;00m\n\u001b[1;32m    181\u001b[0m     \u001b[39mraise\u001b[39;00m\n",
      "File \u001b[0;32m~/anaconda3/lib/python3.9/site-packages/decorator.py:232\u001b[0m, in \u001b[0;36mdecorate.<locals>.fun\u001b[0;34m(*args, **kw)\u001b[0m\n\u001b[1;32m    230\u001b[0m \u001b[39mif\u001b[39;00m \u001b[39mnot\u001b[39;00m kwsyntax:\n\u001b[1;32m    231\u001b[0m     args, kw \u001b[39m=\u001b[39m fix(args, kw, sig)\n\u001b[0;32m--> 232\u001b[0m \u001b[39mreturn\u001b[39;00m caller(func, \u001b[39m*\u001b[39;49m(extras \u001b[39m+\u001b[39;49m args), \u001b[39m*\u001b[39;49m\u001b[39m*\u001b[39;49mkw)\n",
      "File \u001b[0;32m~/anaconda3/lib/python3.9/site-packages/IPython/core/formatters.py:222\u001b[0m, in \u001b[0;36mcatch_format_error\u001b[0;34m(method, self, *args, **kwargs)\u001b[0m\n\u001b[1;32m    220\u001b[0m \u001b[39m\"\"\"show traceback on failed format call\"\"\"\u001b[39;00m\n\u001b[1;32m    221\u001b[0m \u001b[39mtry\u001b[39;00m:\n\u001b[0;32m--> 222\u001b[0m     r \u001b[39m=\u001b[39m method(\u001b[39mself\u001b[39;49m, \u001b[39m*\u001b[39;49margs, \u001b[39m*\u001b[39;49m\u001b[39m*\u001b[39;49mkwargs)\n\u001b[1;32m    223\u001b[0m \u001b[39mexcept\u001b[39;00m \u001b[39mNotImplementedError\u001b[39;00m:\n\u001b[1;32m    224\u001b[0m     \u001b[39m# don't warn on NotImplementedErrors\u001b[39;00m\n\u001b[1;32m    225\u001b[0m     \u001b[39mreturn\u001b[39;00m \u001b[39mself\u001b[39m\u001b[39m.\u001b[39m_check_return(\u001b[39mNone\u001b[39;00m, args[\u001b[39m0\u001b[39m])\n",
      "File \u001b[0;32m~/anaconda3/lib/python3.9/site-packages/IPython/core/formatters.py:339\u001b[0m, in \u001b[0;36mBaseFormatter.__call__\u001b[0;34m(self, obj)\u001b[0m\n\u001b[1;32m    337\u001b[0m     \u001b[39mpass\u001b[39;00m\n\u001b[1;32m    338\u001b[0m \u001b[39melse\u001b[39;00m:\n\u001b[0;32m--> 339\u001b[0m     \u001b[39mreturn\u001b[39;00m printer(obj)\n\u001b[1;32m    340\u001b[0m \u001b[39m# Finally look for special method names\u001b[39;00m\n\u001b[1;32m    341\u001b[0m method \u001b[39m=\u001b[39m get_real_method(obj, \u001b[39mself\u001b[39m\u001b[39m.\u001b[39mprint_method)\n",
      "File \u001b[0;32m~/anaconda3/lib/python3.9/site-packages/IPython/core/pylabtools.py:151\u001b[0m, in \u001b[0;36mprint_figure\u001b[0;34m(fig, fmt, bbox_inches, base64, **kwargs)\u001b[0m\n\u001b[1;32m    148\u001b[0m     \u001b[39mfrom\u001b[39;00m \u001b[39mmatplotlib\u001b[39;00m\u001b[39m.\u001b[39;00m\u001b[39mbackend_bases\u001b[39;00m \u001b[39mimport\u001b[39;00m FigureCanvasBase\n\u001b[1;32m    149\u001b[0m     FigureCanvasBase(fig)\n\u001b[0;32m--> 151\u001b[0m fig\u001b[39m.\u001b[39;49mcanvas\u001b[39m.\u001b[39;49mprint_figure(bytes_io, \u001b[39m*\u001b[39;49m\u001b[39m*\u001b[39;49mkw)\n\u001b[1;32m    152\u001b[0m data \u001b[39m=\u001b[39m bytes_io\u001b[39m.\u001b[39mgetvalue()\n\u001b[1;32m    153\u001b[0m \u001b[39mif\u001b[39;00m fmt \u001b[39m==\u001b[39m \u001b[39m'\u001b[39m\u001b[39msvg\u001b[39m\u001b[39m'\u001b[39m:\n",
      "File \u001b[0;32m~/anaconda3/lib/python3.9/site-packages/matplotlib/backend_bases.py:2299\u001b[0m, in \u001b[0;36mFigureCanvasBase.print_figure\u001b[0;34m(self, filename, dpi, facecolor, edgecolor, orientation, format, bbox_inches, pad_inches, bbox_extra_artists, backend, **kwargs)\u001b[0m\n\u001b[1;32m   2297\u001b[0m \u001b[39mif\u001b[39;00m bbox_inches:\n\u001b[1;32m   2298\u001b[0m     \u001b[39mif\u001b[39;00m bbox_inches \u001b[39m==\u001b[39m \u001b[39m\"\u001b[39m\u001b[39mtight\u001b[39m\u001b[39m\"\u001b[39m:\n\u001b[0;32m-> 2299\u001b[0m         bbox_inches \u001b[39m=\u001b[39m \u001b[39mself\u001b[39;49m\u001b[39m.\u001b[39;49mfigure\u001b[39m.\u001b[39;49mget_tightbbox(\n\u001b[1;32m   2300\u001b[0m             renderer, bbox_extra_artists\u001b[39m=\u001b[39;49mbbox_extra_artists)\n\u001b[1;32m   2301\u001b[0m         \u001b[39mif\u001b[39;00m pad_inches \u001b[39mis\u001b[39;00m \u001b[39mNone\u001b[39;00m:\n\u001b[1;32m   2302\u001b[0m             pad_inches \u001b[39m=\u001b[39m rcParams[\u001b[39m'\u001b[39m\u001b[39msavefig.pad_inches\u001b[39m\u001b[39m'\u001b[39m]\n",
      "File \u001b[0;32m~/anaconda3/lib/python3.9/site-packages/matplotlib/figure.py:1632\u001b[0m, in \u001b[0;36mFigureBase.get_tightbbox\u001b[0;34m(self, renderer, bbox_extra_artists)\u001b[0m\n\u001b[1;32m   1629\u001b[0m     artists \u001b[39m=\u001b[39m bbox_extra_artists\n\u001b[1;32m   1631\u001b[0m \u001b[39mfor\u001b[39;00m a \u001b[39min\u001b[39;00m artists:\n\u001b[0;32m-> 1632\u001b[0m     bbox \u001b[39m=\u001b[39m a\u001b[39m.\u001b[39;49mget_tightbbox(renderer)\n\u001b[1;32m   1633\u001b[0m     \u001b[39mif\u001b[39;00m bbox \u001b[39mis\u001b[39;00m \u001b[39mnot\u001b[39;00m \u001b[39mNone\u001b[39;00m \u001b[39mand\u001b[39;00m (bbox\u001b[39m.\u001b[39mwidth \u001b[39m!=\u001b[39m \u001b[39m0\u001b[39m \u001b[39mor\u001b[39;00m bbox\u001b[39m.\u001b[39mheight \u001b[39m!=\u001b[39m \u001b[39m0\u001b[39m):\n\u001b[1;32m   1634\u001b[0m         bb\u001b[39m.\u001b[39mappend(bbox)\n",
      "File \u001b[0;32m~/anaconda3/lib/python3.9/site-packages/matplotlib/text.py:2010\u001b[0m, in \u001b[0;36mAnnotation.get_tightbbox\u001b[0;34m(self, renderer)\u001b[0m\n\u001b[1;32m   2008\u001b[0m \u001b[39mif\u001b[39;00m \u001b[39mnot\u001b[39;00m \u001b[39mself\u001b[39m\u001b[39m.\u001b[39m_check_xy(renderer):\n\u001b[1;32m   2009\u001b[0m     \u001b[39mreturn\u001b[39;00m Bbox\u001b[39m.\u001b[39mnull()\n\u001b[0;32m-> 2010\u001b[0m \u001b[39mreturn\u001b[39;00m \u001b[39msuper\u001b[39;49m()\u001b[39m.\u001b[39;49mget_tightbbox(renderer)\n",
      "File \u001b[0;32m~/anaconda3/lib/python3.9/site-packages/matplotlib/artist.py:355\u001b[0m, in \u001b[0;36mArtist.get_tightbbox\u001b[0;34m(self, renderer)\u001b[0m\n\u001b[1;32m    340\u001b[0m \u001b[39mdef\u001b[39;00m \u001b[39mget_tightbbox\u001b[39m(\u001b[39mself\u001b[39m, renderer):\n\u001b[1;32m    341\u001b[0m     \u001b[39m\"\"\"\u001b[39;00m\n\u001b[1;32m    342\u001b[0m \u001b[39m    Like `.Artist.get_window_extent`, but includes any clipping.\u001b[39;00m\n\u001b[1;32m    343\u001b[0m \n\u001b[0;32m   (...)\u001b[0m\n\u001b[1;32m    353\u001b[0m \u001b[39m        The enclosing bounding box (in figure pixel coordinates).\u001b[39;00m\n\u001b[1;32m    354\u001b[0m \u001b[39m    \"\"\"\u001b[39;00m\n\u001b[0;32m--> 355\u001b[0m     bbox \u001b[39m=\u001b[39m \u001b[39mself\u001b[39;49m\u001b[39m.\u001b[39;49mget_window_extent(renderer)\n\u001b[1;32m    356\u001b[0m     \u001b[39mif\u001b[39;00m \u001b[39mself\u001b[39m\u001b[39m.\u001b[39mget_clip_on():\n\u001b[1;32m    357\u001b[0m         clip_box \u001b[39m=\u001b[39m \u001b[39mself\u001b[39m\u001b[39m.\u001b[39mget_clip_box()\n",
      "File \u001b[0;32m~/anaconda3/lib/python3.9/site-packages/matplotlib/text.py:2002\u001b[0m, in \u001b[0;36mAnnotation.get_window_extent\u001b[0;34m(self, renderer)\u001b[0m\n\u001b[1;32m   1999\u001b[0m bboxes \u001b[39m=\u001b[39m [text_bbox]\n\u001b[1;32m   2001\u001b[0m \u001b[39mif\u001b[39;00m \u001b[39mself\u001b[39m\u001b[39m.\u001b[39marrow_patch \u001b[39mis\u001b[39;00m \u001b[39mnot\u001b[39;00m \u001b[39mNone\u001b[39;00m:\n\u001b[0;32m-> 2002\u001b[0m     bboxes\u001b[39m.\u001b[39mappend(\u001b[39mself\u001b[39;49m\u001b[39m.\u001b[39;49marrow_patch\u001b[39m.\u001b[39;49mget_window_extent())\n\u001b[1;32m   2004\u001b[0m \u001b[39mreturn\u001b[39;00m Bbox\u001b[39m.\u001b[39munion(bboxes)\n",
      "File \u001b[0;32m~/anaconda3/lib/python3.9/site-packages/matplotlib/patches.py:623\u001b[0m, in \u001b[0;36mPatch.get_window_extent\u001b[0;34m(self, renderer)\u001b[0m\n\u001b[1;32m    622\u001b[0m \u001b[39mdef\u001b[39;00m \u001b[39mget_window_extent\u001b[39m(\u001b[39mself\u001b[39m, renderer\u001b[39m=\u001b[39m\u001b[39mNone\u001b[39;00m):\n\u001b[0;32m--> 623\u001b[0m     \u001b[39mreturn\u001b[39;00m \u001b[39mself\u001b[39;49m\u001b[39m.\u001b[39;49mget_path()\u001b[39m.\u001b[39mget_extents(\u001b[39mself\u001b[39m\u001b[39m.\u001b[39mget_transform())\n",
      "File \u001b[0;32m~/anaconda3/lib/python3.9/site-packages/matplotlib/patches.py:4440\u001b[0m, in \u001b[0;36mFancyArrowPatch.get_path\u001b[0;34m(self)\u001b[0m\n\u001b[1;32m   4437\u001b[0m \u001b[39m\"\"\"Return the path of the arrow in the data coordinates.\"\"\"\u001b[39;00m\n\u001b[1;32m   4438\u001b[0m \u001b[39m# The path is generated in display coordinates, then converted back to\u001b[39;00m\n\u001b[1;32m   4439\u001b[0m \u001b[39m# data coordinates.\u001b[39;00m\n\u001b[0;32m-> 4440\u001b[0m _path, fillable \u001b[39m=\u001b[39m \u001b[39mself\u001b[39;49m\u001b[39m.\u001b[39;49m_get_path_in_displaycoord()\n\u001b[1;32m   4441\u001b[0m \u001b[39mif\u001b[39;00m np\u001b[39m.\u001b[39miterable(fillable):\n\u001b[1;32m   4442\u001b[0m     _path \u001b[39m=\u001b[39m Path\u001b[39m.\u001b[39mmake_compound_path(\u001b[39m*\u001b[39m_path)\n",
      "File \u001b[0;32m~/anaconda3/lib/python3.9/site-packages/matplotlib/patches.py:4453\u001b[0m, in \u001b[0;36mFancyArrowPatch._get_path_in_displaycoord\u001b[0;34m(self)\u001b[0m\n\u001b[1;32m   4451\u001b[0m     posB \u001b[39m=\u001b[39m \u001b[39mself\u001b[39m\u001b[39m.\u001b[39m_convert_xy_units(\u001b[39mself\u001b[39m\u001b[39m.\u001b[39m_posA_posB[\u001b[39m1\u001b[39m])\n\u001b[1;32m   4452\u001b[0m     (posA, posB) \u001b[39m=\u001b[39m \u001b[39mself\u001b[39m\u001b[39m.\u001b[39mget_transform()\u001b[39m.\u001b[39mtransform((posA, posB))\n\u001b[0;32m-> 4453\u001b[0m     _path \u001b[39m=\u001b[39m \u001b[39mself\u001b[39;49m\u001b[39m.\u001b[39;49mget_connectionstyle()(posA, posB,\n\u001b[1;32m   4454\u001b[0m                                        patchA\u001b[39m=\u001b[39;49m\u001b[39mself\u001b[39;49m\u001b[39m.\u001b[39;49mpatchA,\n\u001b[1;32m   4455\u001b[0m                                        patchB\u001b[39m=\u001b[39;49m\u001b[39mself\u001b[39;49m\u001b[39m.\u001b[39;49mpatchB,\n\u001b[1;32m   4456\u001b[0m                                        shrinkA\u001b[39m=\u001b[39;49m\u001b[39mself\u001b[39;49m\u001b[39m.\u001b[39;49mshrinkA \u001b[39m*\u001b[39;49m dpi_cor,\n\u001b[1;32m   4457\u001b[0m                                        shrinkB\u001b[39m=\u001b[39;49m\u001b[39mself\u001b[39;49m\u001b[39m.\u001b[39;49mshrinkB \u001b[39m*\u001b[39;49m dpi_cor\n\u001b[1;32m   4458\u001b[0m                                        )\n\u001b[1;32m   4459\u001b[0m \u001b[39melse\u001b[39;00m:\n\u001b[1;32m   4460\u001b[0m     _path \u001b[39m=\u001b[39m \u001b[39mself\u001b[39m\u001b[39m.\u001b[39mget_transform()\u001b[39m.\u001b[39mtransform_path(\u001b[39mself\u001b[39m\u001b[39m.\u001b[39m_path_original)\n",
      "File \u001b[0;32m~/anaconda3/lib/python3.9/site-packages/matplotlib/patches.py:2770\u001b[0m, in \u001b[0;36mConnectionStyle._Base.__call__\u001b[0;34m(self, posA, posB, shrinkA, shrinkB, patchA, patchB)\u001b[0m\n\u001b[1;32m   2765\u001b[0m \u001b[39m\"\"\"\u001b[39;00m\n\u001b[1;32m   2766\u001b[0m \u001b[39mCall the *connect* method to create a path between *posA* and\u001b[39;00m\n\u001b[1;32m   2767\u001b[0m \u001b[39m*posB*; then clip and shrink the path.\u001b[39;00m\n\u001b[1;32m   2768\u001b[0m \u001b[39m\"\"\"\u001b[39;00m\n\u001b[1;32m   2769\u001b[0m path \u001b[39m=\u001b[39m \u001b[39mself\u001b[39m\u001b[39m.\u001b[39mconnect(posA, posB)\n\u001b[0;32m-> 2770\u001b[0m clipped_path \u001b[39m=\u001b[39m \u001b[39mself\u001b[39;49m\u001b[39m.\u001b[39;49m_clip(path, patchA, patchB)\n\u001b[1;32m   2771\u001b[0m shrunk_path \u001b[39m=\u001b[39m \u001b[39mself\u001b[39m\u001b[39m.\u001b[39m_shrink(clipped_path, shrinkA, shrinkB)\n\u001b[1;32m   2772\u001b[0m \u001b[39mreturn\u001b[39;00m shrunk_path\n",
      "File \u001b[0;32m~/anaconda3/lib/python3.9/site-packages/matplotlib/patches.py:2725\u001b[0m, in \u001b[0;36mConnectionStyle._Base._clip\u001b[0;34m(self, path, patchA, patchB)\u001b[0m\n\u001b[1;32m   2722\u001b[0m     \u001b[39mreturn\u001b[39;00m patchA\u001b[39m.\u001b[39mcontains(xy_event)[\u001b[39m0\u001b[39m]\n\u001b[1;32m   2724\u001b[0m \u001b[39mtry\u001b[39;00m:\n\u001b[0;32m-> 2725\u001b[0m     left, right \u001b[39m=\u001b[39m split_path_inout(path, insideA)\n\u001b[1;32m   2726\u001b[0m \u001b[39mexcept\u001b[39;00m \u001b[39mValueError\u001b[39;00m:\n\u001b[1;32m   2727\u001b[0m     right \u001b[39m=\u001b[39m path\n",
      "File \u001b[0;32m~/anaconda3/lib/python3.9/site-packages/matplotlib/bezier.py:371\u001b[0m, in \u001b[0;36msplit_path_inout\u001b[0;34m(path, inside, tolerance, reorder_inout)\u001b[0m\n\u001b[1;32m    368\u001b[0m     \u001b[39mraise\u001b[39;00m \u001b[39mValueError\u001b[39;00m(\u001b[39m\"\u001b[39m\u001b[39mThe path does not intersect with the patch\u001b[39m\u001b[39m\"\u001b[39m)\n\u001b[1;32m    370\u001b[0m bp \u001b[39m=\u001b[39m bezier_path\u001b[39m.\u001b[39mreshape((\u001b[39m-\u001b[39m\u001b[39m1\u001b[39m, \u001b[39m2\u001b[39m))\n\u001b[0;32m--> 371\u001b[0m left, right \u001b[39m=\u001b[39m split_bezier_intersecting_with_closedpath(\n\u001b[1;32m    372\u001b[0m     bp, inside, tolerance)\n\u001b[1;32m    373\u001b[0m \u001b[39mif\u001b[39;00m \u001b[39mlen\u001b[39m(left) \u001b[39m==\u001b[39m \u001b[39m2\u001b[39m:\n\u001b[1;32m    374\u001b[0m     codes_left \u001b[39m=\u001b[39m [Path\u001b[39m.\u001b[39mLINETO]\n",
      "File \u001b[0;32m~/anaconda3/lib/python3.9/site-packages/matplotlib/bezier.py:334\u001b[0m, in \u001b[0;36msplit_bezier_intersecting_with_closedpath\u001b[0;34m(bezier, inside_closedpath, tolerance)\u001b[0m\n\u001b[1;32m    331\u001b[0m bz \u001b[39m=\u001b[39m BezierSegment(bezier)\n\u001b[1;32m    332\u001b[0m bezier_point_at_t \u001b[39m=\u001b[39m bz\u001b[39m.\u001b[39mpoint_at_t\n\u001b[0;32m--> 334\u001b[0m t0, t1 \u001b[39m=\u001b[39m find_bezier_t_intersecting_with_closedpath(\n\u001b[1;32m    335\u001b[0m     bezier_point_at_t, inside_closedpath, tolerance\u001b[39m=\u001b[39;49mtolerance)\n\u001b[1;32m    337\u001b[0m _left, _right \u001b[39m=\u001b[39m split_de_casteljau(bezier, (t0 \u001b[39m+\u001b[39m t1) \u001b[39m/\u001b[39m \u001b[39m2.\u001b[39m)\n\u001b[1;32m    338\u001b[0m \u001b[39mreturn\u001b[39;00m _left, _right\n",
      "File \u001b[0;32m~/anaconda3/lib/python3.9/site-packages/matplotlib/bezier.py:170\u001b[0m, in \u001b[0;36mfind_bezier_t_intersecting_with_closedpath\u001b[0;34m(bezier_point_at_t, inside_closedpath, t0, t1, tolerance)\u001b[0m\n\u001b[1;32m    168\u001b[0m middle_t \u001b[39m=\u001b[39m \u001b[39m0.5\u001b[39m \u001b[39m*\u001b[39m (t0 \u001b[39m+\u001b[39m t1)\n\u001b[1;32m    169\u001b[0m middle \u001b[39m=\u001b[39m bezier_point_at_t(middle_t)\n\u001b[0;32m--> 170\u001b[0m middle_inside \u001b[39m=\u001b[39m inside_closedpath(middle)\n\u001b[1;32m    172\u001b[0m \u001b[39mif\u001b[39;00m start_inside \u001b[39m^\u001b[39m middle_inside:\n\u001b[1;32m    173\u001b[0m     t1 \u001b[39m=\u001b[39m middle_t\n",
      "File \u001b[0;32m~/anaconda3/lib/python3.9/site-packages/matplotlib/patches.py:2722\u001b[0m, in \u001b[0;36mConnectionStyle._Base._clip.<locals>.insideA\u001b[0;34m(xy_display)\u001b[0m\n\u001b[1;32m   2720\u001b[0m \u001b[39mdef\u001b[39;00m \u001b[39minsideA\u001b[39m(xy_display):\n\u001b[1;32m   2721\u001b[0m     xy_event \u001b[39m=\u001b[39m ConnectionStyle\u001b[39m.\u001b[39m_Base\u001b[39m.\u001b[39mSimpleEvent(xy_display)\n\u001b[0;32m-> 2722\u001b[0m     \u001b[39mreturn\u001b[39;00m patchA\u001b[39m.\u001b[39;49mcontains(xy_event)[\u001b[39m0\u001b[39m]\n",
      "File \u001b[0;32m~/anaconda3/lib/python3.9/site-packages/matplotlib/patches.py:165\u001b[0m, in \u001b[0;36mPatch.contains\u001b[0;34m(self, mouseevent, radius)\u001b[0m\n\u001b[1;32m    163\u001b[0m \u001b[39melse\u001b[39;00m:\n\u001b[1;32m    164\u001b[0m     subpaths \u001b[39m=\u001b[39m [\u001b[39mself\u001b[39m\u001b[39m.\u001b[39mget_path()]\n\u001b[0;32m--> 165\u001b[0m inside \u001b[39m=\u001b[39m \u001b[39many\u001b[39;49m(\n\u001b[1;32m    166\u001b[0m     subpath\u001b[39m.\u001b[39;49mcontains_point(\n\u001b[1;32m    167\u001b[0m         (mouseevent\u001b[39m.\u001b[39;49mx, mouseevent\u001b[39m.\u001b[39;49my), \u001b[39mself\u001b[39;49m\u001b[39m.\u001b[39;49mget_transform(), radius)\n\u001b[1;32m    168\u001b[0m     \u001b[39mfor\u001b[39;49;00m subpath \u001b[39min\u001b[39;49;00m subpaths)\n\u001b[1;32m    169\u001b[0m \u001b[39mreturn\u001b[39;00m inside, {}\n",
      "File \u001b[0;32m~/anaconda3/lib/python3.9/site-packages/matplotlib/patches.py:165\u001b[0m, in \u001b[0;36m<genexpr>\u001b[0;34m(.0)\u001b[0m\n\u001b[1;32m    163\u001b[0m \u001b[39melse\u001b[39;00m:\n\u001b[1;32m    164\u001b[0m     subpaths \u001b[39m=\u001b[39m [\u001b[39mself\u001b[39m\u001b[39m.\u001b[39mget_path()]\n\u001b[0;32m--> 165\u001b[0m inside \u001b[39m=\u001b[39m \u001b[39many\u001b[39m(\n\u001b[1;32m    166\u001b[0m     subpath\u001b[39m.\u001b[39mcontains_point(\n\u001b[1;32m    167\u001b[0m         (mouseevent\u001b[39m.\u001b[39mx, mouseevent\u001b[39m.\u001b[39my), \u001b[39mself\u001b[39m\u001b[39m.\u001b[39mget_transform(), radius)\n\u001b[1;32m    168\u001b[0m     \u001b[39mfor\u001b[39;00m subpath \u001b[39min\u001b[39;00m subpaths)\n\u001b[1;32m    169\u001b[0m \u001b[39mreturn\u001b[39;00m inside, {}\n",
      "File \u001b[0;32m~/anaconda3/lib/python3.9/site-packages/matplotlib/path.py:139\u001b[0m, in \u001b[0;36mPath.__init__\u001b[0;34m(self, vertices, codes, _interpolation_steps, closed, readonly)\u001b[0m\n\u001b[1;32m    134\u001b[0m     \u001b[39mif\u001b[39;00m codes\u001b[39m.\u001b[39mndim \u001b[39m!=\u001b[39m \u001b[39m1\u001b[39m \u001b[39mor\u001b[39;00m \u001b[39mlen\u001b[39m(codes) \u001b[39m!=\u001b[39m \u001b[39mlen\u001b[39m(vertices):\n\u001b[1;32m    135\u001b[0m         \u001b[39mraise\u001b[39;00m \u001b[39mValueError\u001b[39;00m(\u001b[39m\"\u001b[39m\u001b[39m'\u001b[39m\u001b[39mcodes\u001b[39m\u001b[39m'\u001b[39m\u001b[39m must be a 1D list or array with the \u001b[39m\u001b[39m\"\u001b[39m\n\u001b[1;32m    136\u001b[0m                          \u001b[39m\"\u001b[39m\u001b[39msame length of \u001b[39m\u001b[39m'\u001b[39m\u001b[39mvertices\u001b[39m\u001b[39m'\u001b[39m\u001b[39m. \u001b[39m\u001b[39m\"\u001b[39m\n\u001b[1;32m    137\u001b[0m                          \u001b[39mf\u001b[39m\u001b[39m\"\u001b[39m\u001b[39mYour vertices have shape \u001b[39m\u001b[39m{\u001b[39;00mvertices\u001b[39m.\u001b[39mshape\u001b[39m}\u001b[39;00m\u001b[39m \u001b[39m\u001b[39m\"\u001b[39m\n\u001b[1;32m    138\u001b[0m                          \u001b[39mf\u001b[39m\u001b[39m\"\u001b[39m\u001b[39mbut your codes have shape \u001b[39m\u001b[39m{\u001b[39;00mcodes\u001b[39m.\u001b[39mshape\u001b[39m}\u001b[39;00m\u001b[39m\"\u001b[39m)\n\u001b[0;32m--> 139\u001b[0m     \u001b[39mif\u001b[39;00m \u001b[39mlen\u001b[39m(codes) \u001b[39mand\u001b[39;00m codes[\u001b[39m0\u001b[39;49m] \u001b[39m!=\u001b[39;49m \u001b[39mself\u001b[39;49m\u001b[39m.\u001b[39;49mMOVETO:\n\u001b[1;32m    140\u001b[0m         \u001b[39mraise\u001b[39;00m \u001b[39mValueError\u001b[39;00m(\u001b[39m\"\u001b[39m\u001b[39mThe first element of \u001b[39m\u001b[39m'\u001b[39m\u001b[39mcode\u001b[39m\u001b[39m'\u001b[39m\u001b[39m must be equal \u001b[39m\u001b[39m\"\u001b[39m\n\u001b[1;32m    141\u001b[0m                          \u001b[39mf\u001b[39m\u001b[39m\"\u001b[39m\u001b[39mto \u001b[39m\u001b[39m'\u001b[39m\u001b[39mMOVETO\u001b[39m\u001b[39m'\u001b[39m\u001b[39m (\u001b[39m\u001b[39m{\u001b[39;00m\u001b[39mself\u001b[39m\u001b[39m.\u001b[39mMOVETO\u001b[39m}\u001b[39;00m\u001b[39m).  \u001b[39m\u001b[39m\"\u001b[39m\n\u001b[1;32m    142\u001b[0m                          \u001b[39mf\u001b[39m\u001b[39m\"\u001b[39m\u001b[39mYour first code is \u001b[39m\u001b[39m{\u001b[39;00mcodes[\u001b[39m0\u001b[39m]\u001b[39m}\u001b[39;00m\u001b[39m\"\u001b[39m)\n\u001b[1;32m    143\u001b[0m \u001b[39melif\u001b[39;00m closed \u001b[39mand\u001b[39;00m \u001b[39mlen\u001b[39m(vertices):\n",
      "\u001b[0;31mKeyboardInterrupt\u001b[0m: "
     ]
    }
   ],
   "source": [
    "fig, axes = plt.subplots(nrows = 1,ncols = 1,figsize = (4,4), dpi=800)\n",
    "tree.plot_tree(road_density.estimators_[0],\n",
    "               feature_names = fn, \n",
    "               class_names=cn,\n",
    "               filled = True)\n",
    "fig.suptitle('Road Density + Base Model')\n",
    "plt.show()"
   ]
  },
  {
   "cell_type": "code",
   "execution_count": null,
   "metadata": {},
   "outputs": [],
   "source": [
    "plt.close()\n",
    "import gc\n",
    "del(road_density)\n",
    "gc.collect()\n",
    "pop_density =  joblib.load(\"../output/feature2.joblib\")\n",
    "fn = ['lat 0', 'lon 1', 'agb 3', 'pft_fracCover 4', 'sm 5', 'pftCrop 6',\n",
    "       'pftHerb 7', 'pftShrubBD 8', 'pftShrubNE 9', 'pftTreeBD 10', 'pftTreeBE 11',\n",
    "       'pftTreeND 12', 'pftTreeNE 13', 'Distance_to_populated_areas 16',\n",
    "       'fPAR 17', 'vod_K_anomalies 20', 'WDPA_fracCover 27', 'dtr 28', \n",
    "       'pet 29', 'tmx 30', 'wet 31', 'Biome 32', 'precip 33','pop_density']\n",
    "cn = ['ign']"
   ]
  },
  {
   "cell_type": "code",
   "execution_count": null,
   "metadata": {},
   "outputs": [],
   "source": [
    "fig, axes = plt.subplots(nrows = 1,ncols = 1,figsize = (4,4), dpi=800)\n",
    "tree.plot_tree(pop_density.estimators_[0],\n",
    "               feature_names = fn, \n",
    "               class_names=cn,\n",
    "               filled = True)\n",
    "fig.suptitle('Population Density + Base Model')\n",
    "plt.show()"
   ]
  },
  {
   "cell_type": "code",
   "execution_count": null,
   "metadata": {},
   "outputs": [],
   "source": [
    "plt.close()\n",
    "del(pop_density)\n",
    "gc.collect()"
   ]
  },
  {
   "cell_type": "code",
   "execution_count": null,
   "metadata": {},
   "outputs": [],
   "source": []
  }
 ],
 "metadata": {
  "kernelspec": {
   "display_name": "Python 3.9.12 ('base')",
   "language": "python",
   "name": "python3"
  },
  "language_info": {
   "codemirror_mode": {
    "name": "ipython",
    "version": 3
   },
   "file_extension": ".py",
   "mimetype": "text/x-python",
   "name": "python",
   "nbconvert_exporter": "python",
   "pygments_lexer": "ipython3",
   "version": "3.9.12"
  },
  "orig_nbformat": 4,
  "vscode": {
   "interpreter": {
    "hash": "5ada4cf0cad2096cd5309648803c4307950250cf02ee0fe760781a5d29f65513"
   }
  }
 },
 "nbformat": 4,
 "nbformat_minor": 2
}
