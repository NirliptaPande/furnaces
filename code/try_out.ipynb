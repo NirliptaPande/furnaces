{
 "cells": [
  {
   "cell_type": "code",
   "execution_count": 11,
   "metadata": {},
   "outputs": [],
   "source": [
    "\n",
    "from netCDF4 import Dataset\n",
    "import numpy as np\n",
    "#from multiprocessing import Pool"
   ]
  },
  {
   "cell_type": "code",
   "execution_count": 12,
   "metadata": {},
   "outputs": [],
   "source": [
    "df1 = Dataset('../data/grid.nc')\n",
    "mask = df1['subset_flag'][:]\n",
    "lat = df1['lat'][:]\n",
    "lon = df1['lon'][:]\n",
    "mask = np.array(mask)\n",
    "lat = np.array(lat)\n",
    "lon = np.array(lon)\n",
    "lat = lat +.125\n",
    "lon = lon + .125\n",
    "land = np.where(mask==1)"
   ]
  },
  {
   "cell_type": "code",
   "execution_count": 16,
   "metadata": {},
   "outputs": [
    {
     "data": {
      "text/plain": [
       "array(2)"
      ]
     },
     "execution_count": 16,
     "metadata": {},
     "output_type": "execute_result"
    }
   ],
   "source": [
    "arr = np.load('../data/test_0.npy')\n",
    "test = np.array(np.shape(land)[1])"
   ]
  },
  {
   "cell_type": "code",
   "execution_count": 17,
   "metadata": {},
   "outputs": [
    {
     "data": {
      "text/plain": [
       "()"
      ]
     },
     "execution_count": 17,
     "metadata": {},
     "output_type": "execute_result"
    }
   ],
   "source": [
    "test.shape"
   ]
  },
  {
   "cell_type": "code",
   "execution_count": 13,
   "metadata": {},
   "outputs": [
    {
     "data": {
      "text/plain": [
       "numpy.ndarray"
      ]
     },
     "execution_count": 13,
     "metadata": {},
     "output_type": "execute_result"
    }
   ],
   "source": [
    "land = np.array(land).T\n",
    "type(land)"
   ]
  },
  {
   "cell_type": "code",
   "execution_count": 15,
   "metadata": {},
   "outputs": [],
   "source": [
    "tup1 = np.array(lat[land[:,0]])\n",
    "tup2 = np.array(lon[land[:,1]])\n",
    "land_coords = np.column_stack((tup1,tup2))"
   ]
  },
  {
   "cell_type": "code",
   "execution_count": 18,
   "metadata": {},
   "outputs": [
    {
     "data": {
      "text/plain": [
       "array([[ 83.75, -34.25],\n",
       "       [ 83.75, -34.  ],\n",
       "       [ 83.75, -33.75],\n",
       "       [ 83.5 , -40.75],\n",
       "       [ 83.5 , -40.5 ]])"
      ]
     },
     "execution_count": 18,
     "metadata": {},
     "output_type": "execute_result"
    }
   ],
   "source": [
    "land_coords[:5,:]"
   ]
  },
  {
   "cell_type": "code",
   "execution_count": null,
   "metadata": {},
   "outputs": [],
   "source": [
    "indices = np.arange(14400)\n",
    "temp = np.zeros((land_coords.shape[0],arr.shape[1]))\n",
    "for i in indices:\n",
    "    hor = arr[i*57][0]\n",
    "    ver = arr[i*57][1]\n",
    "    if np.all(np.logical_and((hor==land_coords[:,0]),(ver==land_coords[:,1])))==False:\n"
   ]
  },
  {
   "cell_type": "code",
   "execution_count": null,
   "metadata": {},
   "outputs": [],
   "source": [
    "test = np.arange(20)\n",
    "test = np.reshape(test,[4,5])\n",
    "test = np.row_stack((test,[17,16,15,14,13]))\n",
    "test = np.row_stack((test,[5,4,3,2,1]))\n",
    "land = np.array([[5,6],[17,16],[10,11]])\n",
    "temp = np.zeros((land.shape[0],test.shape[1]))\n",
    "c = 0\n",
    "for index in range(test.shape[1]):\n",
    "    lat = test[index][0]\n",
    "    lon = test[index][1]\n",
    "    print(np.logical_and((lat==land[:,0]),(lon==land[:,1])))\n",
    "    if np.any(np.logical_and((lat==land[:,0]),(lon==land[:,1])))==True:\n",
    "        temp[c] = test[index]\n",
    "        c+=1\n",
    "temp"
   ]
  },
  {
   "cell_type": "code",
   "execution_count": 17,
   "metadata": {},
   "outputs": [
    {
     "data": {
      "text/plain": [
       "numpy.ndarray"
      ]
     },
     "execution_count": 17,
     "metadata": {},
     "output_type": "execute_result"
    }
   ],
   "source": [
    "\n"
   ]
  },
  {
   "cell_type": "code",
   "execution_count": 14,
   "metadata": {},
   "outputs": [
    {
     "data": {
      "text/plain": [
       "array([582, 583, 584, 556, 557])"
      ]
     },
     "execution_count": 14,
     "metadata": {},
     "output_type": "execute_result"
    }
   ],
   "source": [
    "land[0:5,1]"
   ]
  },
  {
   "cell_type": "code",
   "execution_count": 20,
   "metadata": {},
   "outputs": [
    {
     "data": {
      "text/plain": [
       "-89.75"
      ]
     },
     "execution_count": 20,
     "metadata": {},
     "output_type": "execute_result"
    }
   ],
   "source": [
    "arr[0][0]\n"
   ]
  },
  {
   "cell_type": "code",
   "execution_count": 14,
   "metadata": {},
   "outputs": [
    {
     "data": {
      "text/plain": [
       "0.2355738811728395"
      ]
     },
     "execution_count": 14,
     "metadata": {},
     "output_type": "execute_result"
    },
    {
     "ename": "",
     "evalue": "",
     "output_type": "error",
     "traceback": [
      "The Kernel crashed while executing code in the the current cell or a previous cell. Please review the code in the cell(s) to identify a possible cause of the failure. Click <a href='https://aka.ms/vscodeJupyterKernelCrash'>here</a> for more info. View Jupyter <a href='command:jupyter.viewOutput'>log</a> for further details."
     ]
    }
   ],
   "source": [
    "244243/720/1440"
   ]
  },
  {
   "cell_type": "code",
   "execution_count": null,
   "metadata": {},
   "outputs": [],
   "source": []
  },
  {
   "cell_type": "code",
   "execution_count": 4,
   "metadata": {},
   "outputs": [],
   "source": [
    "import pandas as pd\n",
    "#Train is from 2003-2011\n",
    "#test is from 2012-2016\n",
    "df = pd.read_pickle(\"../data/train.pkl\")"
   ]
  },
  {
   "cell_type": "code",
   "execution_count": 5,
   "metadata": {},
   "outputs": [
    {
     "data": {
      "text/plain": [
       "(111974400, 38)"
      ]
     },
     "execution_count": 5,
     "metadata": {},
     "output_type": "execute_result"
    }
   ],
   "source": [
    "df.shape"
   ]
  },
  {
   "cell_type": "code",
   "execution_count": 8,
   "metadata": {},
   "outputs": [
    {
     "data": {
      "text/plain": [
       "array([ 26, 558])"
      ]
     },
     "execution_count": 8,
     "metadata": {},
     "output_type": "execute_result"
    }
   ],
   "source": [
    "land = np.array(land)\n",
    "land[:,5]"
   ]
  },
  {
   "cell_type": "code",
   "execution_count": 10,
   "metadata": {},
   "outputs": [
    {
     "data": {
      "text/plain": [
       "(59097600, 38)"
      ]
     },
     "execution_count": 10,
     "metadata": {},
     "output_type": "execute_result"
    }
   ],
   "source": [
    "df.shape"
   ]
  },
  {
   "cell_type": "code",
   "execution_count": 12,
   "metadata": {},
   "outputs": [
    {
     "ename": "ValueError",
     "evalue": "Buffer has wrong number of dimensions (expected 1, got 3)",
     "output_type": "error",
     "traceback": [
      "\u001b[0;31m---------------------------------------------------------------------------\u001b[0m",
      "\u001b[0;31mValueError\u001b[0m                                Traceback (most recent call last)",
      "\u001b[1;32m/home/npande/Desktop/furnaces/code/test.ipynb Cell 7\u001b[0m in \u001b[0;36m<cell line: 6>\u001b[0;34m()\u001b[0m\n\u001b[1;32m      <a href='vscode-notebook-cell:/home/npande/Desktop/furnaces/code/test.ipynb#X46sZmlsZQ%3D%3D?line=3'>4</a>\u001b[0m     temp \u001b[39m=\u001b[39m np\u001b[39m.\u001b[39muint32(np\u001b[39m.\u001b[39mwhere(np\u001b[39m.\u001b[39mlogical_and(df[\u001b[39m'\u001b[39m\u001b[39mlat\u001b[39m\u001b[39m'\u001b[39m]\u001b[39m==\u001b[39m lat[i],df[\u001b[39m'\u001b[39m\u001b[39mlon\u001b[39m\u001b[39m'\u001b[39m]\u001b[39m==\u001b[39mlon[j])))\n\u001b[1;32m      <a href='vscode-notebook-cell:/home/npande/Desktop/furnaces/code/test.ipynb#X46sZmlsZQ%3D%3D?line=4'>5</a>\u001b[0m     hold\u001b[39m.\u001b[39mappend(temp)\n\u001b[0;32m----> <a href='vscode-notebook-cell:/home/npande/Desktop/furnaces/code/test.ipynb#X46sZmlsZQ%3D%3D?line=5'>6</a>\u001b[0m df \u001b[39m=\u001b[39m df\u001b[39m.\u001b[39;49miloc[hold]\n",
      "File \u001b[0;32m~/miniconda3/lib/python3.9/site-packages/pandas/core/indexing.py:967\u001b[0m, in \u001b[0;36m_LocationIndexer.__getitem__\u001b[0;34m(self, key)\u001b[0m\n\u001b[1;32m    964\u001b[0m axis \u001b[39m=\u001b[39m \u001b[39mself\u001b[39m\u001b[39m.\u001b[39maxis \u001b[39mor\u001b[39;00m \u001b[39m0\u001b[39m\n\u001b[1;32m    966\u001b[0m maybe_callable \u001b[39m=\u001b[39m com\u001b[39m.\u001b[39mapply_if_callable(key, \u001b[39mself\u001b[39m\u001b[39m.\u001b[39mobj)\n\u001b[0;32m--> 967\u001b[0m \u001b[39mreturn\u001b[39;00m \u001b[39mself\u001b[39;49m\u001b[39m.\u001b[39;49m_getitem_axis(maybe_callable, axis\u001b[39m=\u001b[39;49maxis)\n",
      "File \u001b[0;32m~/miniconda3/lib/python3.9/site-packages/pandas/core/indexing.py:1511\u001b[0m, in \u001b[0;36m_iLocIndexer._getitem_axis\u001b[0;34m(self, key, axis)\u001b[0m\n\u001b[1;32m   1509\u001b[0m \u001b[39m# a list of integers\u001b[39;00m\n\u001b[1;32m   1510\u001b[0m \u001b[39melif\u001b[39;00m is_list_like_indexer(key):\n\u001b[0;32m-> 1511\u001b[0m     \u001b[39mreturn\u001b[39;00m \u001b[39mself\u001b[39;49m\u001b[39m.\u001b[39;49m_get_list_axis(key, axis\u001b[39m=\u001b[39;49maxis)\n\u001b[1;32m   1513\u001b[0m \u001b[39m# a single integer\u001b[39;00m\n\u001b[1;32m   1514\u001b[0m \u001b[39melse\u001b[39;00m:\n\u001b[1;32m   1515\u001b[0m     key \u001b[39m=\u001b[39m item_from_zerodim(key)\n",
      "File \u001b[0;32m~/miniconda3/lib/python3.9/site-packages/pandas/core/indexing.py:1482\u001b[0m, in \u001b[0;36m_iLocIndexer._get_list_axis\u001b[0;34m(self, key, axis)\u001b[0m\n\u001b[1;32m   1465\u001b[0m \u001b[39m\"\"\"\u001b[39;00m\n\u001b[1;32m   1466\u001b[0m \u001b[39mReturn Series values by list or array of integers.\u001b[39;00m\n\u001b[1;32m   1467\u001b[0m \n\u001b[0;32m   (...)\u001b[0m\n\u001b[1;32m   1479\u001b[0m \u001b[39m`axis` can only be zero.\u001b[39;00m\n\u001b[1;32m   1480\u001b[0m \u001b[39m\"\"\"\u001b[39;00m\n\u001b[1;32m   1481\u001b[0m \u001b[39mtry\u001b[39;00m:\n\u001b[0;32m-> 1482\u001b[0m     \u001b[39mreturn\u001b[39;00m \u001b[39mself\u001b[39;49m\u001b[39m.\u001b[39;49mobj\u001b[39m.\u001b[39;49m_take_with_is_copy(key, axis\u001b[39m=\u001b[39;49maxis)\n\u001b[1;32m   1483\u001b[0m \u001b[39mexcept\u001b[39;00m \u001b[39mIndexError\u001b[39;00m \u001b[39mas\u001b[39;00m err:\n\u001b[1;32m   1484\u001b[0m     \u001b[39m# re-raise with different error message\u001b[39;00m\n\u001b[1;32m   1485\u001b[0m     \u001b[39mraise\u001b[39;00m \u001b[39mIndexError\u001b[39;00m(\u001b[39m\"\u001b[39m\u001b[39mpositional indexers are out-of-bounds\u001b[39m\u001b[39m\"\u001b[39m) \u001b[39mfrom\u001b[39;00m \u001b[39merr\u001b[39;00m\n",
      "File \u001b[0;32m~/miniconda3/lib/python3.9/site-packages/pandas/core/generic.py:3716\u001b[0m, in \u001b[0;36mNDFrame._take_with_is_copy\u001b[0;34m(self, indices, axis)\u001b[0m\n\u001b[1;32m   3708\u001b[0m \u001b[39mdef\u001b[39;00m \u001b[39m_take_with_is_copy\u001b[39m(\u001b[39mself\u001b[39m: NDFrameT, indices, axis\u001b[39m=\u001b[39m\u001b[39m0\u001b[39m) \u001b[39m-\u001b[39m\u001b[39m>\u001b[39m NDFrameT:\n\u001b[1;32m   3709\u001b[0m     \u001b[39m\"\"\"\u001b[39;00m\n\u001b[1;32m   3710\u001b[0m \u001b[39m    Internal version of the `take` method that sets the `_is_copy`\u001b[39;00m\n\u001b[1;32m   3711\u001b[0m \u001b[39m    attribute to keep track of the parent dataframe (using in indexing\u001b[39;00m\n\u001b[0;32m   (...)\u001b[0m\n\u001b[1;32m   3714\u001b[0m \u001b[39m    See the docstring of `take` for full explanation of the parameters.\u001b[39;00m\n\u001b[1;32m   3715\u001b[0m \u001b[39m    \"\"\"\u001b[39;00m\n\u001b[0;32m-> 3716\u001b[0m     result \u001b[39m=\u001b[39m \u001b[39mself\u001b[39;49m\u001b[39m.\u001b[39;49mtake(indices\u001b[39m=\u001b[39;49mindices, axis\u001b[39m=\u001b[39;49maxis)\n\u001b[1;32m   3717\u001b[0m     \u001b[39m# Maybe set copy if we didn't actually change the index.\u001b[39;00m\n\u001b[1;32m   3718\u001b[0m     \u001b[39mif\u001b[39;00m \u001b[39mnot\u001b[39;00m result\u001b[39m.\u001b[39m_get_axis(axis)\u001b[39m.\u001b[39mequals(\u001b[39mself\u001b[39m\u001b[39m.\u001b[39m_get_axis(axis)):\n",
      "File \u001b[0;32m~/miniconda3/lib/python3.9/site-packages/pandas/core/generic.py:3703\u001b[0m, in \u001b[0;36mNDFrame.take\u001b[0;34m(self, indices, axis, is_copy, **kwargs)\u001b[0m\n\u001b[1;32m   3699\u001b[0m nv\u001b[39m.\u001b[39mvalidate_take((), kwargs)\n\u001b[1;32m   3701\u001b[0m \u001b[39mself\u001b[39m\u001b[39m.\u001b[39m_consolidate_inplace()\n\u001b[0;32m-> 3703\u001b[0m new_data \u001b[39m=\u001b[39m \u001b[39mself\u001b[39;49m\u001b[39m.\u001b[39;49m_mgr\u001b[39m.\u001b[39;49mtake(\n\u001b[1;32m   3704\u001b[0m     indices, axis\u001b[39m=\u001b[39;49m\u001b[39mself\u001b[39;49m\u001b[39m.\u001b[39;49m_get_block_manager_axis(axis), verify\u001b[39m=\u001b[39;49m\u001b[39mTrue\u001b[39;49;00m\n\u001b[1;32m   3705\u001b[0m )\n\u001b[1;32m   3706\u001b[0m \u001b[39mreturn\u001b[39;00m \u001b[39mself\u001b[39m\u001b[39m.\u001b[39m_constructor(new_data)\u001b[39m.\u001b[39m__finalize__(\u001b[39mself\u001b[39m, method\u001b[39m=\u001b[39m\u001b[39m\"\u001b[39m\u001b[39mtake\u001b[39m\u001b[39m\"\u001b[39m)\n",
      "File \u001b[0;32m~/miniconda3/lib/python3.9/site-packages/pandas/core/internals/managers.py:900\u001b[0m, in \u001b[0;36mBaseBlockManager.take\u001b[0;34m(self, indexer, axis, verify)\u001b[0m\n\u001b[1;32m    897\u001b[0m indexer \u001b[39m=\u001b[39m maybe_convert_indices(indexer, n, verify\u001b[39m=\u001b[39mverify)\n\u001b[1;32m    899\u001b[0m new_labels \u001b[39m=\u001b[39m \u001b[39mself\u001b[39m\u001b[39m.\u001b[39maxes[axis]\u001b[39m.\u001b[39mtake(indexer)\n\u001b[0;32m--> 900\u001b[0m \u001b[39mreturn\u001b[39;00m \u001b[39mself\u001b[39;49m\u001b[39m.\u001b[39;49mreindex_indexer(\n\u001b[1;32m    901\u001b[0m     new_axis\u001b[39m=\u001b[39;49mnew_labels,\n\u001b[1;32m    902\u001b[0m     indexer\u001b[39m=\u001b[39;49mindexer,\n\u001b[1;32m    903\u001b[0m     axis\u001b[39m=\u001b[39;49maxis,\n\u001b[1;32m    904\u001b[0m     allow_dups\u001b[39m=\u001b[39;49m\u001b[39mTrue\u001b[39;49;00m,\n\u001b[1;32m    905\u001b[0m     consolidate\u001b[39m=\u001b[39;49m\u001b[39mFalse\u001b[39;49;00m,\n\u001b[1;32m    906\u001b[0m )\n",
      "File \u001b[0;32m~/miniconda3/lib/python3.9/site-packages/pandas/core/internals/managers.py:692\u001b[0m, in \u001b[0;36mBaseBlockManager.reindex_indexer\u001b[0;34m(self, new_axis, indexer, axis, fill_value, allow_dups, copy, consolidate, only_slice, use_na_proxy)\u001b[0m\n\u001b[1;32m    685\u001b[0m     new_blocks \u001b[39m=\u001b[39m \u001b[39mself\u001b[39m\u001b[39m.\u001b[39m_slice_take_blocks_ax0(\n\u001b[1;32m    686\u001b[0m         indexer,\n\u001b[1;32m    687\u001b[0m         fill_value\u001b[39m=\u001b[39mfill_value,\n\u001b[1;32m    688\u001b[0m         only_slice\u001b[39m=\u001b[39monly_slice,\n\u001b[1;32m    689\u001b[0m         use_na_proxy\u001b[39m=\u001b[39muse_na_proxy,\n\u001b[1;32m    690\u001b[0m     )\n\u001b[1;32m    691\u001b[0m \u001b[39melse\u001b[39;00m:\n\u001b[0;32m--> 692\u001b[0m     new_blocks \u001b[39m=\u001b[39m [\n\u001b[1;32m    693\u001b[0m         blk\u001b[39m.\u001b[39mtake_nd(\n\u001b[1;32m    694\u001b[0m             indexer,\n\u001b[1;32m    695\u001b[0m             axis\u001b[39m=\u001b[39m\u001b[39m1\u001b[39m,\n\u001b[1;32m    696\u001b[0m             fill_value\u001b[39m=\u001b[39m(\n\u001b[1;32m    697\u001b[0m                 fill_value \u001b[39mif\u001b[39;00m fill_value \u001b[39mis\u001b[39;00m \u001b[39mnot\u001b[39;00m \u001b[39mNone\u001b[39;00m \u001b[39melse\u001b[39;00m blk\u001b[39m.\u001b[39mfill_value\n\u001b[1;32m    698\u001b[0m             ),\n\u001b[1;32m    699\u001b[0m         )\n\u001b[1;32m    700\u001b[0m         \u001b[39mfor\u001b[39;00m blk \u001b[39min\u001b[39;00m \u001b[39mself\u001b[39m\u001b[39m.\u001b[39mblocks\n\u001b[1;32m    701\u001b[0m     ]\n\u001b[1;32m    703\u001b[0m new_axes \u001b[39m=\u001b[39m \u001b[39mlist\u001b[39m(\u001b[39mself\u001b[39m\u001b[39m.\u001b[39maxes)\n\u001b[1;32m    704\u001b[0m new_axes[axis] \u001b[39m=\u001b[39m new_axis\n",
      "File \u001b[0;32m~/miniconda3/lib/python3.9/site-packages/pandas/core/internals/managers.py:693\u001b[0m, in \u001b[0;36m<listcomp>\u001b[0;34m(.0)\u001b[0m\n\u001b[1;32m    685\u001b[0m     new_blocks \u001b[39m=\u001b[39m \u001b[39mself\u001b[39m\u001b[39m.\u001b[39m_slice_take_blocks_ax0(\n\u001b[1;32m    686\u001b[0m         indexer,\n\u001b[1;32m    687\u001b[0m         fill_value\u001b[39m=\u001b[39mfill_value,\n\u001b[1;32m    688\u001b[0m         only_slice\u001b[39m=\u001b[39monly_slice,\n\u001b[1;32m    689\u001b[0m         use_na_proxy\u001b[39m=\u001b[39muse_na_proxy,\n\u001b[1;32m    690\u001b[0m     )\n\u001b[1;32m    691\u001b[0m \u001b[39melse\u001b[39;00m:\n\u001b[1;32m    692\u001b[0m     new_blocks \u001b[39m=\u001b[39m [\n\u001b[0;32m--> 693\u001b[0m         blk\u001b[39m.\u001b[39;49mtake_nd(\n\u001b[1;32m    694\u001b[0m             indexer,\n\u001b[1;32m    695\u001b[0m             axis\u001b[39m=\u001b[39;49m\u001b[39m1\u001b[39;49m,\n\u001b[1;32m    696\u001b[0m             fill_value\u001b[39m=\u001b[39;49m(\n\u001b[1;32m    697\u001b[0m                 fill_value \u001b[39mif\u001b[39;49;00m fill_value \u001b[39mis\u001b[39;49;00m \u001b[39mnot\u001b[39;49;00m \u001b[39mNone\u001b[39;49;00m \u001b[39melse\u001b[39;49;00m blk\u001b[39m.\u001b[39;49mfill_value\n\u001b[1;32m    698\u001b[0m             ),\n\u001b[1;32m    699\u001b[0m         )\n\u001b[1;32m    700\u001b[0m         \u001b[39mfor\u001b[39;00m blk \u001b[39min\u001b[39;00m \u001b[39mself\u001b[39m\u001b[39m.\u001b[39mblocks\n\u001b[1;32m    701\u001b[0m     ]\n\u001b[1;32m    703\u001b[0m new_axes \u001b[39m=\u001b[39m \u001b[39mlist\u001b[39m(\u001b[39mself\u001b[39m\u001b[39m.\u001b[39maxes)\n\u001b[1;32m    704\u001b[0m new_axes[axis] \u001b[39m=\u001b[39m new_axis\n",
      "File \u001b[0;32m~/miniconda3/lib/python3.9/site-packages/pandas/core/internals/blocks.py:1139\u001b[0m, in \u001b[0;36mBlock.take_nd\u001b[0;34m(self, indexer, axis, new_mgr_locs, fill_value)\u001b[0m\n\u001b[1;32m   1136\u001b[0m \u001b[39melse\u001b[39;00m:\n\u001b[1;32m   1137\u001b[0m     allow_fill \u001b[39m=\u001b[39m \u001b[39mTrue\u001b[39;00m\n\u001b[0;32m-> 1139\u001b[0m new_values \u001b[39m=\u001b[39m algos\u001b[39m.\u001b[39;49mtake_nd(\n\u001b[1;32m   1140\u001b[0m     values, indexer, axis\u001b[39m=\u001b[39;49maxis, allow_fill\u001b[39m=\u001b[39;49mallow_fill, fill_value\u001b[39m=\u001b[39;49mfill_value\n\u001b[1;32m   1141\u001b[0m )\n\u001b[1;32m   1143\u001b[0m \u001b[39m# Called from three places in managers, all of which satisfy\u001b[39;00m\n\u001b[1;32m   1144\u001b[0m \u001b[39m#  this assertion\u001b[39;00m\n\u001b[1;32m   1145\u001b[0m \u001b[39massert\u001b[39;00m \u001b[39mnot\u001b[39;00m (axis \u001b[39m==\u001b[39m \u001b[39m0\u001b[39m \u001b[39mand\u001b[39;00m new_mgr_locs \u001b[39mis\u001b[39;00m \u001b[39mNone\u001b[39;00m)\n",
      "File \u001b[0;32m~/miniconda3/lib/python3.9/site-packages/pandas/core/array_algos/take.py:117\u001b[0m, in \u001b[0;36mtake_nd\u001b[0;34m(arr, indexer, axis, fill_value, allow_fill)\u001b[0m\n\u001b[1;32m    114\u001b[0m     \u001b[39mreturn\u001b[39;00m arr\u001b[39m.\u001b[39mtake(indexer, fill_value\u001b[39m=\u001b[39mfill_value, allow_fill\u001b[39m=\u001b[39mallow_fill)\n\u001b[1;32m    116\u001b[0m arr \u001b[39m=\u001b[39m np\u001b[39m.\u001b[39masarray(arr)\n\u001b[0;32m--> 117\u001b[0m \u001b[39mreturn\u001b[39;00m _take_nd_ndarray(arr, indexer, axis, fill_value, allow_fill)\n",
      "File \u001b[0;32m~/miniconda3/lib/python3.9/site-packages/pandas/core/array_algos/take.py:163\u001b[0m, in \u001b[0;36m_take_nd_ndarray\u001b[0;34m(arr, indexer, axis, fill_value, allow_fill)\u001b[0m\n\u001b[1;32m    158\u001b[0m     out \u001b[39m=\u001b[39m np\u001b[39m.\u001b[39mempty(out_shape, dtype\u001b[39m=\u001b[39mdtype)\n\u001b[1;32m    160\u001b[0m func \u001b[39m=\u001b[39m _get_take_nd_function(\n\u001b[1;32m    161\u001b[0m     arr\u001b[39m.\u001b[39mndim, arr\u001b[39m.\u001b[39mdtype, out\u001b[39m.\u001b[39mdtype, axis\u001b[39m=\u001b[39maxis, mask_info\u001b[39m=\u001b[39mmask_info\n\u001b[1;32m    162\u001b[0m )\n\u001b[0;32m--> 163\u001b[0m func(arr, indexer, out, fill_value)\n\u001b[1;32m    165\u001b[0m \u001b[39mif\u001b[39;00m flip_order:\n\u001b[1;32m    166\u001b[0m     out \u001b[39m=\u001b[39m out\u001b[39m.\u001b[39mT\n",
      "File \u001b[0;32mpandas/_libs/algos_take_helper.pxi:1772\u001b[0m, in \u001b[0;36mpandas._libs.algos.take_2d_axis1_float32_float32\u001b[0;34m()\u001b[0m\n",
      "\u001b[0;31mValueError\u001b[0m: Buffer has wrong number of dimensions (expected 1, got 3)"
     ]
    }
   ],
   "source": [
    "\n",
    "hold = []\n",
    "for row in range(land.shape[1]):\n",
    "    i,j = land[:,row]\n",
    "    temp = np.uint32(np.where(np.logical_and(df['lat']== lat[i],df['lon']==lon[j])))\n",
    "    hold.append(temp)\n",
    "df = df.iloc[hold]"
   ]
  },
  {
   "cell_type": "code",
   "execution_count": null,
   "metadata": {},
   "outputs": [
    {
     "data": {
      "text/plain": [
       "array([ 27, 539])"
      ]
     },
     "execution_count": 9,
     "metadata": {},
     "output_type": "execute_result"
    }
   ],
   "source": [
    "np.save('../data/masked_test.npy',df)"
   ]
  },
  {
   "cell_type": "code",
   "execution_count": null,
   "metadata": {},
   "outputs": [],
   "source": [
    "df = pd.read_pickle(\"../data/train.pkl\")\n",
    "hold = []\n",
    "for row in range(land.shape[1]):\n",
    "    i,j = land[:,row]\n",
    "    temp = np.uint32(np.where(np.logical_and(df['lat']== lat[i],df['lon']==lon[j])))\n",
    "    hold.append(temp)\n",
    "df = df.iloc[hold]\n",
    "np.save('../data/masked_train.npy',df)"
   ]
  },
  {
   "cell_type": "code",
   "execution_count": 6,
   "metadata": {},
   "outputs": [
    {
     "data": {
      "text/plain": [
       "108.0"
      ]
     },
     "execution_count": 6,
     "metadata": {},
     "output_type": "execute_result"
    }
   ],
   "source": [
    "111974400/1440/720"
   ]
  },
  {
   "cell_type": "code",
   "execution_count": 7,
   "metadata": {},
   "outputs": [
    {
     "data": {
      "text/plain": [
       "1036800"
      ]
     },
     "execution_count": 7,
     "metadata": {},
     "output_type": "execute_result"
    }
   ],
   "source": [
    "720*1440"
   ]
  },
  {
   "cell_type": "code",
   "execution_count": 8,
   "metadata": {},
   "outputs": [
    {
     "data": {
      "text/plain": [
       "8208"
      ]
     },
     "execution_count": 8,
     "metadata": {},
     "output_type": "execute_result"
    }
   ],
   "source": [
    "144*57"
   ]
  },
  {
   "cell_type": "code",
   "execution_count": 9,
   "metadata": {},
   "outputs": [
    {
     "data": {
      "text/plain": [
       "15552"
      ]
     },
     "execution_count": 9,
     "metadata": {},
     "output_type": "execute_result"
    }
   ],
   "source": [
    "144*108"
   ]
  },
  {
   "cell_type": "code",
   "execution_count": null,
   "metadata": {},
   "outputs": [],
   "source": []
  },
  {
   "cell_type": "code",
   "execution_count": null,
   "metadata": {},
   "outputs": [],
   "source": []
  },
  {
   "cell_type": "code",
   "execution_count": null,
   "metadata": {},
   "outputs": [],
   "source": []
  },
  {
   "cell_type": "code",
   "execution_count": 3,
   "metadata": {},
   "outputs": [
    {
     "data": {
      "text/plain": [
       "array([[ 0,  1,  2,  3,  4],\n",
       "       [ 5,  6,  7,  8,  9],\n",
       "       [10, 11, 12, 13, 14],\n",
       "       [15, 16, 17, 18, 19],\n",
       "       [17, 16, 15, 14, 13],\n",
       "       [ 5,  4,  3,  2,  1]])"
      ]
     },
     "execution_count": 3,
     "metadata": {},
     "output_type": "execute_result"
    }
   ],
   "source": [
    "import pandas as pd \n",
    "import numpy as np\n",
    "test = np.arange(20)\n",
    "test = np.reshape(test,[4,5])\n",
    "test = np.row_stack((test,[17,16,15,14,13]))\n",
    "test = np.row_stack((test,[5,4,3,2,1]))\n",
    "test"
   ]
  },
  {
   "cell_type": "code",
   "execution_count": 4,
   "metadata": {},
   "outputs": [
    {
     "data": {
      "text/plain": [
       "array([[ 5,  6],\n",
       "       [17, 16],\n",
       "       [10, 11]])"
      ]
     },
     "execution_count": 4,
     "metadata": {},
     "output_type": "execute_result"
    }
   ],
   "source": [
    "land = np.array([[5,6],[17,16],[10,11]])\n",
    "land"
   ]
  },
  {
   "cell_type": "code",
   "execution_count": 5,
   "metadata": {},
   "outputs": [
    {
     "data": {
      "text/plain": [
       "array([[ 5.,  6.,  7.,  8.,  9.],\n",
       "       [10., 11., 12., 13., 14.],\n",
       "       [17., 16., 15., 14., 13.]])"
      ]
     },
     "execution_count": 5,
     "metadata": {},
     "output_type": "execute_result"
    }
   ],
   "source": [
    "land = np.array([[5,6],[17,16],[10,11]])\n",
    "temp = np.zeros((land.shape[0],test.shape[1]))\n",
    "c = 0\n",
    "for index in range(test.shape[1]):\n",
    "    lat = test[index][0]\n",
    "    lon = test[index][1]\n",
    "    #print(np.logical_and((lat==land[:,0]),(lon==land[:,1])))\n",
    "    if np.any(np.logical_and((lat==land[:,0]),(lon==land[:,1])))==True:\n",
    "        temp[c] = test[index]\n",
    "        c+=1\n",
    "temp"
   ]
  },
  {
   "cell_type": "code",
   "execution_count": 10,
   "metadata": {},
   "outputs": [
    {
     "data": {
      "text/plain": [
       "array([[ 0,  1,  2,  3,  4],\n",
       "       [ 5,  6,  7,  8,  9],\n",
       "       [10, 11, 12, 13, 14],\n",
       "       [15, 16, 17, 18, 19],\n",
       "       [17, 16, 15, 14, 13],\n",
       "       [ 5,  4,  3,  2,  1]])"
      ]
     },
     "execution_count": 10,
     "metadata": {},
     "output_type": "execute_result"
    }
   ],
   "source": [
    "test"
   ]
  },
  {
   "cell_type": "code",
   "execution_count": 82,
   "metadata": {},
   "outputs": [
    {
     "data": {
      "text/plain": [
       "array([[ 5,  6],\n",
       "       [17, 16],\n",
       "       [10, 11]])"
      ]
     },
     "execution_count": 82,
     "metadata": {},
     "output_type": "execute_result"
    }
   ],
   "source": [
    "test_mask = np.array([[5,6],[17,16],[10,11]])\n",
    "test_mask"
   ]
  },
  {
   "cell_type": "code",
   "execution_count": 87,
   "metadata": {},
   "outputs": [
    {
     "data": {
      "text/html": [
       "<div>\n",
       "<style scoped>\n",
       "    .dataframe tbody tr th:only-of-type {\n",
       "        vertical-align: middle;\n",
       "    }\n",
       "\n",
       "    .dataframe tbody tr th {\n",
       "        vertical-align: top;\n",
       "    }\n",
       "\n",
       "    .dataframe thead th {\n",
       "        text-align: right;\n",
       "    }\n",
       "</style>\n",
       "<table border=\"1\" class=\"dataframe\">\n",
       "  <thead>\n",
       "    <tr style=\"text-align: right;\">\n",
       "      <th></th>\n",
       "      <th>lat</th>\n",
       "      <th>lon</th>\n",
       "      <th>time</th>\n",
       "      <th>agb</th>\n",
       "      <th>tmx</th>\n",
       "    </tr>\n",
       "  </thead>\n",
       "  <tbody>\n",
       "    <tr>\n",
       "      <th>1</th>\n",
       "      <td>5</td>\n",
       "      <td>6</td>\n",
       "      <td>7</td>\n",
       "      <td>8</td>\n",
       "      <td>9</td>\n",
       "    </tr>\n",
       "    <tr>\n",
       "      <th>4</th>\n",
       "      <td>17</td>\n",
       "      <td>16</td>\n",
       "      <td>15</td>\n",
       "      <td>14</td>\n",
       "      <td>13</td>\n",
       "    </tr>\n",
       "    <tr>\n",
       "      <th>2</th>\n",
       "      <td>10</td>\n",
       "      <td>11</td>\n",
       "      <td>12</td>\n",
       "      <td>13</td>\n",
       "      <td>14</td>\n",
       "    </tr>\n",
       "  </tbody>\n",
       "</table>\n",
       "</div>"
      ],
      "text/plain": [
       "   lat  lon  time  agb  tmx\n",
       "1    5    6     7    8    9\n",
       "4   17   16    15   14   13\n",
       "2   10   11    12   13   14"
      ]
     },
     "execution_count": 87,
     "metadata": {},
     "output_type": "execute_result"
    }
   ],
   "source": [
    "\n",
    "rm = []\n",
    "for row in range(test_mask.shape[0]):\n",
    "    # print(row)\n",
    "    # print(test_mask[row])\n",
    "    i,j = test_mask[row]\n",
    "    # if(np.logical_and(test['lat']== i,test['lon']==j)=='True'):\n",
    "    temp = int(np.where(np.logical_and(test['lat']== i,test['lon']==j))[0])\n",
    "    rm.append(temp)\n",
    "    # test = test.drop([np.where(np.logical_and(test['lat']== i,test['lon']==j)[0])],axis= 0)\n",
    "rm\n",
    "test.iloc[rm]"
   ]
  },
  {
   "cell_type": "code",
   "execution_count": 76,
   "metadata": {},
   "outputs": [],
   "source": [
    "test = test.drop(rm,axis=0)"
   ]
  },
  {
   "cell_type": "code",
   "execution_count": 77,
   "metadata": {},
   "outputs": [
    {
     "data": {
      "text/html": [
       "<div>\n",
       "<style scoped>\n",
       "    .dataframe tbody tr th:only-of-type {\n",
       "        vertical-align: middle;\n",
       "    }\n",
       "\n",
       "    .dataframe tbody tr th {\n",
       "        vertical-align: top;\n",
       "    }\n",
       "\n",
       "    .dataframe thead th {\n",
       "        text-align: right;\n",
       "    }\n",
       "</style>\n",
       "<table border=\"1\" class=\"dataframe\">\n",
       "  <thead>\n",
       "    <tr style=\"text-align: right;\">\n",
       "      <th></th>\n",
       "      <th>lat</th>\n",
       "      <th>lon</th>\n",
       "      <th>time</th>\n",
       "      <th>agb</th>\n",
       "      <th>tmx</th>\n",
       "    </tr>\n",
       "  </thead>\n",
       "  <tbody>\n",
       "    <tr>\n",
       "      <th>0</th>\n",
       "      <td>0</td>\n",
       "      <td>1</td>\n",
       "      <td>2</td>\n",
       "      <td>3</td>\n",
       "      <td>4</td>\n",
       "    </tr>\n",
       "    <tr>\n",
       "      <th>3</th>\n",
       "      <td>15</td>\n",
       "      <td>16</td>\n",
       "      <td>17</td>\n",
       "      <td>18</td>\n",
       "      <td>19</td>\n",
       "    </tr>\n",
       "    <tr>\n",
       "      <th>5</th>\n",
       "      <td>5</td>\n",
       "      <td>4</td>\n",
       "      <td>3</td>\n",
       "      <td>2</td>\n",
       "      <td>1</td>\n",
       "    </tr>\n",
       "  </tbody>\n",
       "</table>\n",
       "</div>"
      ],
      "text/plain": [
       "   lat  lon  time  agb  tmx\n",
       "0    0    1     2    3    4\n",
       "3   15   16    17   18   19\n",
       "5    5    4     3    2    1"
      ]
     },
     "execution_count": 77,
     "metadata": {},
     "output_type": "execute_result"
    }
   ],
   "source": [
    "test"
   ]
  },
  {
   "cell_type": "code",
   "execution_count": 1,
   "metadata": {},
   "outputs": [
    {
     "data": {
      "text/html": [
       "<div>\n",
       "<style scoped>\n",
       "    .dataframe tbody tr th:only-of-type {\n",
       "        vertical-align: middle;\n",
       "    }\n",
       "\n",
       "    .dataframe tbody tr th {\n",
       "        vertical-align: top;\n",
       "    }\n",
       "\n",
       "    .dataframe thead th {\n",
       "        text-align: right;\n",
       "    }\n",
       "</style>\n",
       "<table border=\"1\" class=\"dataframe\">\n",
       "  <thead>\n",
       "    <tr style=\"text-align: right;\">\n",
       "      <th></th>\n",
       "      <th>lat</th>\n",
       "      <th>lon</th>\n",
       "      <th>time</th>\n",
       "      <th>agb</th>\n",
       "      <th>pft_fracCover</th>\n",
       "      <th>sm</th>\n",
       "      <th>pftCrop</th>\n",
       "      <th>pftHerb</th>\n",
       "      <th>pftShrubBD</th>\n",
       "      <th>pftShrubNE</th>\n",
       "      <th>...</th>\n",
       "      <th>dtr</th>\n",
       "      <th>pet</th>\n",
       "      <th>tmx</th>\n",
       "      <th>wet</th>\n",
       "      <th>Biome</th>\n",
       "      <th>precip</th>\n",
       "      <th>Livestock</th>\n",
       "      <th>road_density</th>\n",
       "      <th>topo</th>\n",
       "      <th>pop_density</th>\n",
       "    </tr>\n",
       "  </thead>\n",
       "  <tbody>\n",
       "    <tr>\n",
       "      <th>0</th>\n",
       "      <td>-89.75</td>\n",
       "      <td>-179.75</td>\n",
       "      <td>201201.5</td>\n",
       "      <td>NaN</td>\n",
       "      <td>0.0</td>\n",
       "      <td>NaN</td>\n",
       "      <td>NaN</td>\n",
       "      <td>NaN</td>\n",
       "      <td>NaN</td>\n",
       "      <td>NaN</td>\n",
       "      <td>...</td>\n",
       "      <td>NaN</td>\n",
       "      <td>NaN</td>\n",
       "      <td>NaN</td>\n",
       "      <td>NaN</td>\n",
       "      <td>99.0</td>\n",
       "      <td>NaN</td>\n",
       "      <td>0.0</td>\n",
       "      <td>NaN</td>\n",
       "      <td>1.0</td>\n",
       "      <td>0.0</td>\n",
       "    </tr>\n",
       "    <tr>\n",
       "      <th>1</th>\n",
       "      <td>-89.75</td>\n",
       "      <td>-179.75</td>\n",
       "      <td>201202.5</td>\n",
       "      <td>NaN</td>\n",
       "      <td>0.0</td>\n",
       "      <td>NaN</td>\n",
       "      <td>NaN</td>\n",
       "      <td>NaN</td>\n",
       "      <td>NaN</td>\n",
       "      <td>NaN</td>\n",
       "      <td>...</td>\n",
       "      <td>NaN</td>\n",
       "      <td>NaN</td>\n",
       "      <td>NaN</td>\n",
       "      <td>NaN</td>\n",
       "      <td>99.0</td>\n",
       "      <td>NaN</td>\n",
       "      <td>0.0</td>\n",
       "      <td>NaN</td>\n",
       "      <td>1.0</td>\n",
       "      <td>0.0</td>\n",
       "    </tr>\n",
       "    <tr>\n",
       "      <th>2</th>\n",
       "      <td>-89.75</td>\n",
       "      <td>-179.75</td>\n",
       "      <td>201203.5</td>\n",
       "      <td>NaN</td>\n",
       "      <td>0.0</td>\n",
       "      <td>NaN</td>\n",
       "      <td>NaN</td>\n",
       "      <td>NaN</td>\n",
       "      <td>NaN</td>\n",
       "      <td>NaN</td>\n",
       "      <td>...</td>\n",
       "      <td>NaN</td>\n",
       "      <td>NaN</td>\n",
       "      <td>NaN</td>\n",
       "      <td>NaN</td>\n",
       "      <td>99.0</td>\n",
       "      <td>NaN</td>\n",
       "      <td>0.0</td>\n",
       "      <td>NaN</td>\n",
       "      <td>1.0</td>\n",
       "      <td>0.0</td>\n",
       "    </tr>\n",
       "    <tr>\n",
       "      <th>3</th>\n",
       "      <td>-89.75</td>\n",
       "      <td>-179.75</td>\n",
       "      <td>201204.5</td>\n",
       "      <td>NaN</td>\n",
       "      <td>0.0</td>\n",
       "      <td>NaN</td>\n",
       "      <td>NaN</td>\n",
       "      <td>NaN</td>\n",
       "      <td>NaN</td>\n",
       "      <td>NaN</td>\n",
       "      <td>...</td>\n",
       "      <td>NaN</td>\n",
       "      <td>NaN</td>\n",
       "      <td>NaN</td>\n",
       "      <td>NaN</td>\n",
       "      <td>99.0</td>\n",
       "      <td>NaN</td>\n",
       "      <td>0.0</td>\n",
       "      <td>NaN</td>\n",
       "      <td>1.0</td>\n",
       "      <td>0.0</td>\n",
       "    </tr>\n",
       "    <tr>\n",
       "      <th>4</th>\n",
       "      <td>-89.75</td>\n",
       "      <td>-179.75</td>\n",
       "      <td>201205.5</td>\n",
       "      <td>NaN</td>\n",
       "      <td>0.0</td>\n",
       "      <td>NaN</td>\n",
       "      <td>NaN</td>\n",
       "      <td>NaN</td>\n",
       "      <td>NaN</td>\n",
       "      <td>NaN</td>\n",
       "      <td>...</td>\n",
       "      <td>NaN</td>\n",
       "      <td>NaN</td>\n",
       "      <td>NaN</td>\n",
       "      <td>NaN</td>\n",
       "      <td>99.0</td>\n",
       "      <td>NaN</td>\n",
       "      <td>0.0</td>\n",
       "      <td>NaN</td>\n",
       "      <td>1.0</td>\n",
       "      <td>0.0</td>\n",
       "    </tr>\n",
       "  </tbody>\n",
       "</table>\n",
       "<p>5 rows × 38 columns</p>\n",
       "</div>"
      ],
      "text/plain": [
       "     lat     lon      time  agb  pft_fracCover  sm  pftCrop  pftHerb  \\\n",
       "0 -89.75 -179.75  201201.5  NaN            0.0 NaN      NaN      NaN   \n",
       "1 -89.75 -179.75  201202.5  NaN            0.0 NaN      NaN      NaN   \n",
       "2 -89.75 -179.75  201203.5  NaN            0.0 NaN      NaN      NaN   \n",
       "3 -89.75 -179.75  201204.5  NaN            0.0 NaN      NaN      NaN   \n",
       "4 -89.75 -179.75  201205.5  NaN            0.0 NaN      NaN      NaN   \n",
       "\n",
       "   pftShrubBD  pftShrubNE  ...  dtr  pet  tmx  wet  Biome  precip  Livestock  \\\n",
       "0         NaN         NaN  ...  NaN  NaN  NaN  NaN   99.0     NaN        0.0   \n",
       "1         NaN         NaN  ...  NaN  NaN  NaN  NaN   99.0     NaN        0.0   \n",
       "2         NaN         NaN  ...  NaN  NaN  NaN  NaN   99.0     NaN        0.0   \n",
       "3         NaN         NaN  ...  NaN  NaN  NaN  NaN   99.0     NaN        0.0   \n",
       "4         NaN         NaN  ...  NaN  NaN  NaN  NaN   99.0     NaN        0.0   \n",
       "\n",
       "   road_density  topo  pop_density  \n",
       "0           NaN   1.0          0.0  \n",
       "1           NaN   1.0          0.0  \n",
       "2           NaN   1.0          0.0  \n",
       "3           NaN   1.0          0.0  \n",
       "4           NaN   1.0          0.0  \n",
       "\n",
       "[5 rows x 38 columns]"
      ]
     },
     "execution_count": 1,
     "metadata": {},
     "output_type": "execute_result"
    }
   ],
   "source": [
    "import pandas as pd\n",
    "#Train is from 2003-2011\n",
    "#test is from 2012-2016\n",
    "df = pd.read_pickle(\"../data/test.pkl\")\n",
    "df.head()"
   ]
  },
  {
   "cell_type": "code",
   "execution_count": 39,
   "metadata": {},
   "outputs": [
    {
     "data": {
      "text/html": [
       "<div>\n",
       "<style scoped>\n",
       "    .dataframe tbody tr th:only-of-type {\n",
       "        vertical-align: middle;\n",
       "    }\n",
       "\n",
       "    .dataframe tbody tr th {\n",
       "        vertical-align: top;\n",
       "    }\n",
       "\n",
       "    .dataframe thead th {\n",
       "        text-align: right;\n",
       "    }\n",
       "</style>\n",
       "<table border=\"1\" class=\"dataframe\">\n",
       "  <thead>\n",
       "    <tr style=\"text-align: right;\">\n",
       "      <th></th>\n",
       "      <th>lat</th>\n",
       "      <th>lon</th>\n",
       "      <th>time</th>\n",
       "      <th>agb</th>\n",
       "      <th>pft_fracCover</th>\n",
       "      <th>sm</th>\n",
       "      <th>pftCrop</th>\n",
       "      <th>pftHerb</th>\n",
       "      <th>pftShrubBD</th>\n",
       "      <th>pftShrubNE</th>\n",
       "      <th>...</th>\n",
       "      <th>dtr</th>\n",
       "      <th>pet</th>\n",
       "      <th>tmx</th>\n",
       "      <th>wet</th>\n",
       "      <th>Biome</th>\n",
       "      <th>precip</th>\n",
       "      <th>Livestock</th>\n",
       "      <th>road_density</th>\n",
       "      <th>topo</th>\n",
       "      <th>pop_density</th>\n",
       "    </tr>\n",
       "  </thead>\n",
       "  <tbody>\n",
       "    <tr>\n",
       "      <th>59097595</th>\n",
       "      <td>90.0</td>\n",
       "      <td>180.0</td>\n",
       "      <td>201605.5</td>\n",
       "      <td>NaN</td>\n",
       "      <td>0.0</td>\n",
       "      <td>NaN</td>\n",
       "      <td>NaN</td>\n",
       "      <td>NaN</td>\n",
       "      <td>NaN</td>\n",
       "      <td>NaN</td>\n",
       "      <td>...</td>\n",
       "      <td>NaN</td>\n",
       "      <td>NaN</td>\n",
       "      <td>NaN</td>\n",
       "      <td>NaN</td>\n",
       "      <td>0.0</td>\n",
       "      <td>NaN</td>\n",
       "      <td>0.0</td>\n",
       "      <td>NaN</td>\n",
       "      <td>NaN</td>\n",
       "      <td>0.0</td>\n",
       "    </tr>\n",
       "    <tr>\n",
       "      <th>59097596</th>\n",
       "      <td>90.0</td>\n",
       "      <td>180.0</td>\n",
       "      <td>201606.5</td>\n",
       "      <td>NaN</td>\n",
       "      <td>0.0</td>\n",
       "      <td>NaN</td>\n",
       "      <td>NaN</td>\n",
       "      <td>NaN</td>\n",
       "      <td>NaN</td>\n",
       "      <td>NaN</td>\n",
       "      <td>...</td>\n",
       "      <td>NaN</td>\n",
       "      <td>NaN</td>\n",
       "      <td>NaN</td>\n",
       "      <td>NaN</td>\n",
       "      <td>0.0</td>\n",
       "      <td>NaN</td>\n",
       "      <td>0.0</td>\n",
       "      <td>NaN</td>\n",
       "      <td>NaN</td>\n",
       "      <td>0.0</td>\n",
       "    </tr>\n",
       "    <tr>\n",
       "      <th>59097597</th>\n",
       "      <td>90.0</td>\n",
       "      <td>180.0</td>\n",
       "      <td>201607.5</td>\n",
       "      <td>NaN</td>\n",
       "      <td>0.0</td>\n",
       "      <td>NaN</td>\n",
       "      <td>NaN</td>\n",
       "      <td>NaN</td>\n",
       "      <td>NaN</td>\n",
       "      <td>NaN</td>\n",
       "      <td>...</td>\n",
       "      <td>NaN</td>\n",
       "      <td>NaN</td>\n",
       "      <td>NaN</td>\n",
       "      <td>NaN</td>\n",
       "      <td>0.0</td>\n",
       "      <td>NaN</td>\n",
       "      <td>0.0</td>\n",
       "      <td>NaN</td>\n",
       "      <td>NaN</td>\n",
       "      <td>0.0</td>\n",
       "    </tr>\n",
       "    <tr>\n",
       "      <th>59097598</th>\n",
       "      <td>90.0</td>\n",
       "      <td>180.0</td>\n",
       "      <td>201608.5</td>\n",
       "      <td>NaN</td>\n",
       "      <td>0.0</td>\n",
       "      <td>NaN</td>\n",
       "      <td>NaN</td>\n",
       "      <td>NaN</td>\n",
       "      <td>NaN</td>\n",
       "      <td>NaN</td>\n",
       "      <td>...</td>\n",
       "      <td>NaN</td>\n",
       "      <td>NaN</td>\n",
       "      <td>NaN</td>\n",
       "      <td>NaN</td>\n",
       "      <td>0.0</td>\n",
       "      <td>NaN</td>\n",
       "      <td>0.0</td>\n",
       "      <td>NaN</td>\n",
       "      <td>NaN</td>\n",
       "      <td>0.0</td>\n",
       "    </tr>\n",
       "    <tr>\n",
       "      <th>59097599</th>\n",
       "      <td>90.0</td>\n",
       "      <td>180.0</td>\n",
       "      <td>201609.5</td>\n",
       "      <td>NaN</td>\n",
       "      <td>0.0</td>\n",
       "      <td>NaN</td>\n",
       "      <td>NaN</td>\n",
       "      <td>NaN</td>\n",
       "      <td>NaN</td>\n",
       "      <td>NaN</td>\n",
       "      <td>...</td>\n",
       "      <td>NaN</td>\n",
       "      <td>NaN</td>\n",
       "      <td>NaN</td>\n",
       "      <td>NaN</td>\n",
       "      <td>0.0</td>\n",
       "      <td>NaN</td>\n",
       "      <td>0.0</td>\n",
       "      <td>NaN</td>\n",
       "      <td>NaN</td>\n",
       "      <td>0.0</td>\n",
       "    </tr>\n",
       "  </tbody>\n",
       "</table>\n",
       "<p>5 rows × 38 columns</p>\n",
       "</div>"
      ],
      "text/plain": [
       "           lat    lon      time  agb  pft_fracCover  sm  pftCrop  pftHerb  \\\n",
       "59097595  90.0  180.0  201605.5  NaN            0.0 NaN      NaN      NaN   \n",
       "59097596  90.0  180.0  201606.5  NaN            0.0 NaN      NaN      NaN   \n",
       "59097597  90.0  180.0  201607.5  NaN            0.0 NaN      NaN      NaN   \n",
       "59097598  90.0  180.0  201608.5  NaN            0.0 NaN      NaN      NaN   \n",
       "59097599  90.0  180.0  201609.5  NaN            0.0 NaN      NaN      NaN   \n",
       "\n",
       "          pftShrubBD  pftShrubNE  ...  dtr  pet  tmx  wet  Biome  precip  \\\n",
       "59097595         NaN         NaN  ...  NaN  NaN  NaN  NaN    0.0     NaN   \n",
       "59097596         NaN         NaN  ...  NaN  NaN  NaN  NaN    0.0     NaN   \n",
       "59097597         NaN         NaN  ...  NaN  NaN  NaN  NaN    0.0     NaN   \n",
       "59097598         NaN         NaN  ...  NaN  NaN  NaN  NaN    0.0     NaN   \n",
       "59097599         NaN         NaN  ...  NaN  NaN  NaN  NaN    0.0     NaN   \n",
       "\n",
       "          Livestock  road_density  topo  pop_density  \n",
       "59097595        0.0           NaN   NaN          0.0  \n",
       "59097596        0.0           NaN   NaN          0.0  \n",
       "59097597        0.0           NaN   NaN          0.0  \n",
       "59097598        0.0           NaN   NaN          0.0  \n",
       "59097599        0.0           NaN   NaN          0.0  \n",
       "\n",
       "[5 rows x 38 columns]"
      ]
     },
     "execution_count": 39,
     "metadata": {},
     "output_type": "execute_result"
    }
   ],
   "source": [
    "df.tail()"
   ]
  },
  {
   "cell_type": "code",
   "execution_count": null,
   "metadata": {},
   "outputs": [],
   "source": [
    "df.describe()"
   ]
  },
  {
   "cell_type": "code",
   "execution_count": 2,
   "metadata": {},
   "outputs": [
    {
     "data": {
      "text/plain": [
       "Index(['lat', 'lon', 'time', 'agb', 'pft_fracCover', 'sm', 'pftCrop',\n",
       "       'pftHerb', 'pftShrubBD', 'pftShrubNE', 'pftTreeBD', 'pftTreeBE',\n",
       "       'pftTreeND', 'pftTreeNE', 'GDP', 'ign', 'Distance_to_populated_areas',\n",
       "       'fPAR', 'LAI', 'NLDI', 'vod_K_anomalies', 'FPAR_12mon', 'LAI_12mon',\n",
       "       'Vod_k_anomaly_12mon', 'FPAR_06mon', 'LAI_06mon', 'Vod_k_anomaly_06mon',\n",
       "       'WDPA_fracCover', 'dtr', 'pet', 'tmx', 'wet', 'Biome', 'precip',\n",
       "       'Livestock', 'road_density', 'topo', 'pop_density'],\n",
       "      dtype='object')"
      ]
     },
     "execution_count": 2,
     "metadata": {},
     "output_type": "execute_result"
    }
   ],
   "source": [
    "df.columns"
   ]
  },
  {
   "cell_type": "code",
   "execution_count": null,
   "metadata": {},
   "outputs": [],
   "source": [
    "df['pft_fracCover'].describe()"
   ]
  },
  {
   "cell_type": "code",
   "execution_count": null,
   "metadata": {},
   "outputs": [],
   "source": [
    "df['pftCrop'].describe()"
   ]
  },
  {
   "cell_type": "code",
   "execution_count": 3,
   "metadata": {},
   "outputs": [],
   "source": []
  },
  {
   "cell_type": "code",
   "execution_count": null,
   "metadata": {},
   "outputs": [],
   "source": [
    "dir(df1['subset_flag'])"
   ]
  },
  {
   "cell_type": "code",
   "execution_count": null,
   "metadata": {},
   "outputs": [],
   "source": [
    "df1['subset_flag'].shape"
   ]
  },
  {
   "cell_type": "code",
   "execution_count": null,
   "metadata": {},
   "outputs": [],
   "source": [
    "\n",
    "plt.plot(df1['subset_flag'],'.')\n",
    "plt.show()"
   ]
  },
  {
   "cell_type": "code",
   "execution_count": null,
   "metadata": {},
   "outputs": [],
   "source": [
    "df1.variables"
   ]
  },
  {
   "cell_type": "code",
   "execution_count": 1,
   "metadata": {},
   "outputs": [
    {
     "data": {
      "text/plain": [
       "57.0"
      ]
     },
     "execution_count": 1,
     "metadata": {},
     "output_type": "execute_result"
    }
   ],
   "source": [
    "59097600/1440/720"
   ]
  },
  {
   "cell_type": "code",
   "execution_count": 3,
   "metadata": {},
   "outputs": [
    {
     "data": {
      "text/plain": [
       "0.30434782608695654"
      ]
     },
     "execution_count": 3,
     "metadata": {},
     "output_type": "execute_result"
    }
   ],
   "source": [
    "7/23"
   ]
  },
  {
   "cell_type": "code",
   "execution_count": null,
   "metadata": {},
   "outputs": [],
   "source": []
  },
  {
   "cell_type": "markdown",
   "metadata": {},
   "source": [
    "Creating file with land co-ordinates and saving it inside data"
   ]
  },
  {
   "cell_type": "code",
   "execution_count": 18,
   "metadata": {},
   "outputs": [],
   "source": [
    "df1 = Dataset('../data/grid.nc')\n",
    "mask = df1['subset_flag'][:]\n",
    "lat = df1['lat'][:]\n",
    "lon = df1['lon'][:]\n",
    "mask = np.array(mask)\n",
    "lat = np.array(lat)\n",
    "lon = np.array(lon)\n",
    "lat = lat +.125\n",
    "lon = lon + .125\n",
    "land = np.where(mask==1)\n",
    "land = np.array(land).T\n",
    "tup1 = np.array(lat[land[:,0]])\n",
    "tup2 = np.array(lon[land[:,1]])\n",
    "land_coords = np.column_stack((tup1,tup2))\n",
    "np.save('../data/land_coords.npy',land_coords)"
   ]
  },
  {
   "cell_type": "code",
   "execution_count": 6,
   "metadata": {},
   "outputs": [
    {
     "data": {
      "text/plain": [
       "array([ 83.75, -34.25])"
      ]
     },
     "execution_count": 6,
     "metadata": {},
     "output_type": "execute_result"
    }
   ],
   "source": [
    "import numpy as np\n",
    "\n",
    "land = np.load('../data/land_coords.npy')\n",
    "land[0]"
   ]
  },
  {
   "cell_type": "code",
   "execution_count": 7,
   "metadata": {},
   "outputs": [
    {
     "data": {
      "text/plain": [
       "(244243, 2)"
      ]
     },
     "execution_count": 7,
     "metadata": {},
     "output_type": "execute_result"
    }
   ],
   "source": [
    "land.shape"
   ]
  },
  {
   "cell_type": "code",
   "execution_count": 1,
   "metadata": {},
   "outputs": [],
   "source": [
    "import numpy as np\n",
    "test = np.load(\"../data/test_sans_ocean.npy\")"
   ]
  },
  {
   "cell_type": "code",
   "execution_count": 12,
   "metadata": {},
   "outputs": [
    {
     "data": {
      "text/plain": [
       "array([-55.75, -55.75, -55.75, -55.75, -55.75, -55.75, -55.75, -55.75,\n",
       "       -55.75, -55.75, -55.75, -55.75, -55.75, -55.75, -55.75, -55.75,\n",
       "       -55.75, -55.75, -55.75, -55.75, -55.75, -55.75, -55.75, -55.75,\n",
       "       -55.75, -55.75, -55.75, -55.75, -55.75, -55.75, -55.75, -55.75,\n",
       "       -55.75, -55.75, -55.75, -55.75, -55.75, -55.75, -55.75, -55.75,\n",
       "       -55.75, -55.75, -55.75, -55.75, -55.75, -55.75, -55.75, -55.75,\n",
       "       -55.75, -55.75, -55.75, -55.75, -55.75, -55.75, -55.75, -55.75,\n",
       "       -55.75])"
      ]
     },
     "execution_count": 12,
     "metadata": {},
     "output_type": "execute_result"
    }
   ],
   "source": [
    "test[0:57,0]"
   ]
  },
  {
   "cell_type": "code",
   "execution_count": 3,
   "metadata": {},
   "outputs": [],
   "source": [
    "#Check for structural integrity, but I am immensely tired, so that is  that\n",
    "#bootstarrping, bagging, bayesian, stacking\n",
    "#Not a kill me moment, but this is what I am signing up for, \n",
    "#Causality, Bayesian, and no money what on Earth am I Thinking\n",
    "#Best part, I am thinking, still sticking to it\n",
    "#Good luck to me, ig\n",
    "#The only way out is by being the next David Silver\n",
    "#He has Silver in his name, how did I not see this abhi tak"
   ]
  },
  {
   "cell_type": "code",
   "execution_count": 4,
   "metadata": {},
   "outputs": [
    {
     "data": {
      "text/plain": [
       "(13921851, 38)"
      ]
     },
     "execution_count": 4,
     "metadata": {},
     "output_type": "execute_result"
    }
   ],
   "source": [
    "test.shape"
   ]
  },
  {
   "cell_type": "code",
   "execution_count": 15,
   "metadata": {},
   "outputs": [
    {
     "name": "stdout",
     "output_type": "stream",
     "text": [
      "True\n",
      "-1\n"
     ]
    }
   ],
   "source": [
    "flag = True\n",
    "place = -1\n",
    "for i in range(test.shape[0]//57):\n",
    "    lat = test[i*57:(i+1)*57,0]\n",
    "    lon = test[i*57:(i+1)*57,1]\n",
    "    _,c = np.unique(lat,return_counts=True)\n",
    "    if(c==57):\n",
    "        _,c = np.unique(lat,return_counts=True)\n",
    "        if(c!=57):\n",
    "            flag = False\n",
    "            place = i\n",
    "            break\n",
    "    else:\n",
    "        flag = False\n",
    "        place = i\n",
    "        break\n",
    "print(flag)\n",
    "print(place)\n",
    "    "
   ]
  },
  {
   "cell_type": "code",
   "execution_count": 16,
   "metadata": {},
   "outputs": [
    {
     "data": {
      "text/plain": [
       "1270"
      ]
     },
     "execution_count": 16,
     "metadata": {},
     "output_type": "execute_result"
    }
   ],
   "source": [
    "import gc\n",
    "del(test)\n",
    "gc.collect()"
   ]
  },
  {
   "cell_type": "code",
   "execution_count": null,
   "metadata": {},
   "outputs": [],
   "source": [
    "test = np.load(\"../data/train_sans_ocean.npy\")"
   ]
  },
  {
   "cell_type": "code",
   "execution_count": 21,
   "metadata": {},
   "outputs": [
    {
     "name": "stdout",
     "output_type": "stream",
     "text": [
      "True\n",
      "-1\n"
     ]
    }
   ],
   "source": [
    "\n",
    "for i in range(test.shape[0]//108):\n",
    "    lat = test[i*108:(i+1)*108,0]\n",
    "    lon = test[i*108:(i+1)*108,1]\n",
    "    _,c = np.unique(lat,return_counts=True)\n",
    "    if(c==108):\n",
    "        _,c = np.unique(lat,return_counts=True)\n",
    "        if(c!=108):\n",
    "            flag = False\n",
    "            place = i\n",
    "            break\n",
    "    else:\n",
    "        flag = False\n",
    "        place = i\n",
    "        break\n",
    "print(flag)\n",
    "print(place)"
   ]
  },
  {
   "cell_type": "code",
   "execution_count": null,
   "metadata": {},
   "outputs": [],
   "source": []
  },
  {
   "cell_type": "code",
   "execution_count": 25,
   "metadata": {},
   "outputs": [
    {
     "data": {
      "text/plain": [
       "array([-55.75, -67.  ])"
      ]
     },
     "execution_count": 25,
     "metadata": {},
     "output_type": "execute_result"
    }
   ],
   "source": [
    "test[0,0:2]"
   ]
  },
  {
   "cell_type": "code",
   "execution_count": 26,
   "metadata": {},
   "outputs": [
    {
     "data": {
      "text/plain": [
       "1996"
      ]
     },
     "execution_count": 26,
     "metadata": {},
     "output_type": "execute_result"
    }
   ],
   "source": [
    "time_step = 108\n",
    "coord_train = np.zeros((test.shape[0]//time_step,2))\n",
    "for i in range(test.shape[0]//time_step):\n",
    "    coord_train[i]=test[i*time_step,0:2]\n",
    "np.save('../data/coord_train.npy',coord_train)\n",
    "del(test)\n",
    "gc.collect()"
   ]
  },
  {
   "cell_type": "code",
   "execution_count": 27,
   "metadata": {},
   "outputs": [],
   "source": [
    "test = np.load(\"../data/test_sans_ocean.npy\")"
   ]
  },
  {
   "cell_type": "code",
   "execution_count": 28,
   "metadata": {},
   "outputs": [
    {
     "data": {
      "text/plain": [
       "11"
      ]
     },
     "execution_count": 28,
     "metadata": {},
     "output_type": "execute_result"
    }
   ],
   "source": [
    "time_step = 57\n",
    "coord_test = np.zeros((test.shape[0]//time_step,2))\n",
    "for i in range(test.shape[0]//time_step):\n",
    "    coord_test[i]=test[i*time_step,0:2]\n",
    "np.save('../data/coord_test.npy',coord_test)\n",
    "del(test)\n",
    "gc.collect()"
   ]
  },
  {
   "cell_type": "code",
   "execution_count": 4,
   "metadata": {},
   "outputs": [],
   "source": [
    "from matplotlib import pyplot\n",
    "from scipy.interpolate import Akima1DInterpolator\n",
    "import numpy"
   ]
  },
  {
   "cell_type": "code",
   "execution_count": 6,
   "metadata": {},
   "outputs": [],
   "source": [
    "%matplotlib inline\n",
    "def example():\n",
    "    '''Plot interpolated Gaussian noise.'''\n",
    "    x = numpy.sort(numpy.random.random(10) * 100)\n",
    "    y = numpy.random.normal(0.0, 0.1, size=len(x))\n",
    "    x2 = numpy.arange(x[0], x[-1], 0.05)\n",
    "    y2 = Akima1DInterpolator(x, y, x2)\n",
    "    y3 = Akima1DInterpolator(x, y)(x2)\n",
    "    pyplot.title('Akima interpolation of Gaussian noise')\n",
    "    pyplot.plot(x2, y2, 'r-', label='akima')\n",
    "    pyplot.plot(x2, y3, 'b:', label='scipy', linewidth=2.5)\n",
    "    pyplot.plot(x, y, 'go', label='data')\n",
    "    pyplot.legend()\n",
    "    pyplot.show()"
   ]
  },
  {
   "cell_type": "code",
   "execution_count": 7,
   "metadata": {},
   "outputs": [
    {
     "ename": "TypeError",
     "evalue": "only integer scalar arrays can be converted to a scalar index",
     "output_type": "error",
     "traceback": [
      "\u001b[0;31m---------------------------------------------------------------------------\u001b[0m",
      "\u001b[0;31mTypeError\u001b[0m                                 Traceback (most recent call last)",
      "\u001b[1;32m/home/npande/Desktop/furnaces/code/try_out.ipynb Cell 70\u001b[0m in \u001b[0;36m<cell line: 1>\u001b[0;34m()\u001b[0m\n\u001b[0;32m----> <a href='vscode-notebook-cell:/home/npande/Desktop/furnaces/code/try_out.ipynb#Y126sZmlsZQ%3D%3D?line=0'>1</a>\u001b[0m example()\n",
      "\u001b[1;32m/home/npande/Desktop/furnaces/code/try_out.ipynb Cell 70\u001b[0m in \u001b[0;36mexample\u001b[0;34m()\u001b[0m\n\u001b[1;32m      <a href='vscode-notebook-cell:/home/npande/Desktop/furnaces/code/try_out.ipynb#Y126sZmlsZQ%3D%3D?line=4'>5</a>\u001b[0m y \u001b[39m=\u001b[39m numpy\u001b[39m.\u001b[39mrandom\u001b[39m.\u001b[39mnormal(\u001b[39m0.0\u001b[39m, \u001b[39m0.1\u001b[39m, size\u001b[39m=\u001b[39m\u001b[39mlen\u001b[39m(x))\n\u001b[1;32m      <a href='vscode-notebook-cell:/home/npande/Desktop/furnaces/code/try_out.ipynb#Y126sZmlsZQ%3D%3D?line=5'>6</a>\u001b[0m x2 \u001b[39m=\u001b[39m numpy\u001b[39m.\u001b[39marange(x[\u001b[39m0\u001b[39m], x[\u001b[39m-\u001b[39m\u001b[39m1\u001b[39m], \u001b[39m0.05\u001b[39m)\n\u001b[0;32m----> <a href='vscode-notebook-cell:/home/npande/Desktop/furnaces/code/try_out.ipynb#Y126sZmlsZQ%3D%3D?line=6'>7</a>\u001b[0m y2 \u001b[39m=\u001b[39m Akima1DInterpolator(x, y, x2)\n\u001b[1;32m      <a href='vscode-notebook-cell:/home/npande/Desktop/furnaces/code/try_out.ipynb#Y126sZmlsZQ%3D%3D?line=7'>8</a>\u001b[0m y3 \u001b[39m=\u001b[39m Akima1DInterpolator(x, y)(x2)\n\u001b[1;32m      <a href='vscode-notebook-cell:/home/npande/Desktop/furnaces/code/try_out.ipynb#Y126sZmlsZQ%3D%3D?line=8'>9</a>\u001b[0m pyplot\u001b[39m.\u001b[39mtitle(\u001b[39m'\u001b[39m\u001b[39mAkima interpolation of Gaussian noise\u001b[39m\u001b[39m'\u001b[39m)\n",
      "File \u001b[0;32m~/miniconda3/lib/python3.9/site-packages/scipy/interpolate/_cubic.py:416\u001b[0m, in \u001b[0;36mAkima1DInterpolator.__init__\u001b[0;34m(self, x, y, axis)\u001b[0m\n\u001b[1;32m    413\u001b[0m \u001b[39mdef\u001b[39;00m \u001b[39m__init__\u001b[39m(\u001b[39mself\u001b[39m, x, y, axis\u001b[39m=\u001b[39m\u001b[39m0\u001b[39m):\n\u001b[1;32m    414\u001b[0m     \u001b[39m# Original implementation in MATLAB by N. Shamsundar (BSD licensed), see\u001b[39;00m\n\u001b[1;32m    415\u001b[0m     \u001b[39m# https://www.mathworks.com/matlabcentral/fileexchange/1814-akima-interpolation\u001b[39;00m\n\u001b[0;32m--> 416\u001b[0m     x, dx, y, axis, _ \u001b[39m=\u001b[39m prepare_input(x, y, axis)\n\u001b[1;32m    417\u001b[0m     \u001b[39m# determine slopes between breakpoints\u001b[39;00m\n\u001b[1;32m    418\u001b[0m     m \u001b[39m=\u001b[39m np\u001b[39m.\u001b[39mempty((x\u001b[39m.\u001b[39msize \u001b[39m+\u001b[39m \u001b[39m3\u001b[39m, ) \u001b[39m+\u001b[39m y\u001b[39m.\u001b[39mshape[\u001b[39m1\u001b[39m:])\n",
      "File \u001b[0;32m~/miniconda3/lib/python3.9/site-packages/scipy/interpolate/_cubic.py:47\u001b[0m, in \u001b[0;36mprepare_input\u001b[0;34m(x, y, axis, dydx)\u001b[0m\n\u001b[1;32m     45\u001b[0m \u001b[39mif\u001b[39;00m x\u001b[39m.\u001b[39mshape[\u001b[39m0\u001b[39m] \u001b[39m<\u001b[39m \u001b[39m2\u001b[39m:\n\u001b[1;32m     46\u001b[0m     \u001b[39mraise\u001b[39;00m \u001b[39mValueError\u001b[39;00m(\u001b[39m\"\u001b[39m\u001b[39m`x` must contain at least 2 elements.\u001b[39m\u001b[39m\"\u001b[39m)\n\u001b[0;32m---> 47\u001b[0m \u001b[39mif\u001b[39;00m x\u001b[39m.\u001b[39mshape[\u001b[39m0\u001b[39m] \u001b[39m!=\u001b[39m y\u001b[39m.\u001b[39;49mshape[axis]:\n\u001b[1;32m     48\u001b[0m     \u001b[39mraise\u001b[39;00m \u001b[39mValueError\u001b[39;00m(\u001b[39m\"\u001b[39m\u001b[39mThe length of `y` along `axis`=\u001b[39m\u001b[39m{0}\u001b[39;00m\u001b[39m doesn\u001b[39m\u001b[39m'\u001b[39m\u001b[39mt \u001b[39m\u001b[39m\"\u001b[39m\n\u001b[1;32m     49\u001b[0m                      \u001b[39m\"\u001b[39m\u001b[39mmatch the length of `x`\u001b[39m\u001b[39m\"\u001b[39m\u001b[39m.\u001b[39mformat(axis))\n\u001b[1;32m     51\u001b[0m \u001b[39mif\u001b[39;00m \u001b[39mnot\u001b[39;00m np\u001b[39m.\u001b[39mall(np\u001b[39m.\u001b[39misfinite(x)):\n",
      "\u001b[0;31mTypeError\u001b[0m: only integer scalar arrays can be converted to a scalar index"
     ]
    }
   ],
   "source": [
    "example()"
   ]
  },
  {
   "cell_type": "code",
   "execution_count": 8,
   "metadata": {},
   "outputs": [],
   "source": [
    "import numpy as np\n",
    "\n",
    "from scipy.interpolate import Rbf, InterpolatedUnivariateSpline\n",
    "\n",
    "import matplotlib.pyplot as plt"
   ]
  },
  {
   "cell_type": "code",
   "execution_count": 9,
   "metadata": {},
   "outputs": [],
   "source": [
    "# setup data\n",
    "\n",
    "x = np.linspace(0, 10, 9)\n",
    "\n",
    "y = np.sin(x)\n",
    "\n",
    "xi = np.linspace(0, 10, 101)"
   ]
  },
  {
   "cell_type": "code",
   "execution_count": 16,
   "metadata": {},
   "outputs": [
    {
     "data": {
      "text/plain": [
       "array([ 0. ,  0.1,  0.2,  0.3,  0.4,  0.5,  0.6,  0.7,  0.8,  0.9,  1. ,\n",
       "        1.1,  1.2,  1.3,  1.4,  1.5,  1.6,  1.7,  1.8,  1.9,  2. ,  2.1,\n",
       "        2.2,  2.3,  2.4,  2.5,  2.6,  2.7,  2.8,  2.9,  3. ,  3.1,  3.2,\n",
       "        3.3,  3.4,  3.5,  3.6,  3.7,  3.8,  3.9,  4. ,  4.1,  4.2,  4.3,\n",
       "        4.4,  4.5,  4.6,  4.7,  4.8,  4.9,  5. ,  5.1,  5.2,  5.3,  5.4,\n",
       "        5.5,  5.6,  5.7,  5.8,  5.9,  6. ,  6.1,  6.2,  6.3,  6.4,  6.5,\n",
       "        6.6,  6.7,  6.8,  6.9,  7. ,  7.1,  7.2,  7.3,  7.4,  7.5,  7.6,\n",
       "        7.7,  7.8,  7.9,  8. ,  8.1,  8.2,  8.3,  8.4,  8.5,  8.6,  8.7,\n",
       "        8.8,  8.9,  9. ,  9.1,  9.2,  9.3,  9.4,  9.5,  9.6,  9.7,  9.8,\n",
       "        9.9, 10. ])"
      ]
     },
     "execution_count": 16,
     "metadata": {},
     "output_type": "execute_result"
    }
   ],
   "source": [
    "xi"
   ]
  },
  {
   "cell_type": "code",
   "execution_count": 17,
   "metadata": {},
   "outputs": [
    {
     "name": "stdout",
     "output_type": "stream",
     "text": [
      "<scipy.interpolate._fitpack2.InterpolatedUnivariateSpline object at 0x7f8c44a3b520>\n"
     ]
    }
   ],
   "source": [
    "# use fitpack2 method\n",
    "\n",
    "ius = InterpolatedUnivariateSpline(x, y)\n",
    "print(ius)\n",
    "\n",
    "yi = ius(xi)"
   ]
  },
  {
   "cell_type": "code",
   "execution_count": 11,
   "metadata": {},
   "outputs": [
    {
     "data": {
      "text/plain": [
       "Text(0.5, 1.0, 'Interpolation using univariate spline')"
      ]
     },
     "execution_count": 11,
     "metadata": {},
     "output_type": "execute_result"
    },
    {
     "data": {
      "image/png": "[encoded data removed]",
      "text/plain": [
       "<Figure size 432x288 with 1 Axes>"
      ]
     },
     "metadata": {
      "needs_background": "light"
     },
     "output_type": "display_data"
    }
   ],
   "source": [
    "plt.subplot(2, 1, 1)\n",
    "\n",
    "plt.plot(x, y, 'bo')\n",
    "\n",
    "plt.plot(xi, yi, 'g')\n",
    "\n",
    "plt.plot(xi, np.sin(xi), 'r')\n",
    "\n",
    "plt.title('Interpolation using univariate spline')"
   ]
  },
  {
   "cell_type": "code",
   "execution_count": 12,
   "metadata": {},
   "outputs": [],
   "source": [
    "# use RBF method\n",
    "\n",
    "rbf = Rbf(x, y)\n",
    "\n",
    "fi = rbf(xi)\n"
   ]
  },
  {
   "cell_type": "code",
   "execution_count": 13,
   "metadata": {},
   "outputs": [
    {
     "data": {
      "image/png": "[encoded data removed]",
      "text/plain": [
       "<Figure size 432x288 with 1 Axes>"
      ]
     },
     "metadata": {
      "needs_background": "light"
     },
     "output_type": "display_data"
    }
   ],
   "source": [
    "plt.subplot(2, 1, 2)\n",
    "\n",
    "plt.plot(x, y, 'bo')\n",
    "\n",
    "plt.plot(xi, fi, 'g')\n",
    "\n",
    "plt.plot(xi, np.sin(xi), 'r')\n",
    "\n",
    "plt.title('Interpolation using RBF - multiquadrics')\n",
    "\n",
    "plt.show()"
   ]
  },
  {
   "cell_type": "code",
   "execution_count": 1,
   "metadata": {},
   "outputs": [
    {
     "ename": "FileNotFoundError",
     "evalue": "[Errno 2] No such file or directory: '/home/npande/data/train_sans_ocean.npy'",
     "output_type": "error",
     "traceback": [
      "\u001b[0;31m---------------------------------------------------------------------------\u001b[0m",
      "\u001b[0;31mFileNotFoundError\u001b[0m                         Traceback (most recent call last)",
      "\u001b[1;32m/home/npande/furnaces/code/try_out.ipynb Cell 78\u001b[0m in \u001b[0;36m<cell line: 3>\u001b[0;34m()\u001b[0m\n\u001b[1;32m      <a href='vscode-notebook-cell:/home/npande/furnaces/code/try_out.ipynb#Y140sZmlsZQ%3D%3D?line=0'>1</a>\u001b[0m \u001b[39mimport\u001b[39;00m \u001b[39mnumpy\u001b[39;00m \u001b[39mas\u001b[39;00m \u001b[39mnp\u001b[39;00m\n\u001b[1;32m      <a href='vscode-notebook-cell:/home/npande/furnaces/code/try_out.ipynb#Y140sZmlsZQ%3D%3D?line=1'>2</a>\u001b[0m \u001b[39m#train =  np.load(\"/home/npande/Desktop/furnaces/data/train_sans_ocean.npy\")\u001b[39;00m\n\u001b[0;32m----> <a href='vscode-notebook-cell:/home/npande/furnaces/code/try_out.ipynb#Y140sZmlsZQ%3D%3D?line=2'>3</a>\u001b[0m train \u001b[39m=\u001b[39m  np\u001b[39m.\u001b[39;49mload(\u001b[39m\"\u001b[39;49m\u001b[39m/home/npande/data/train_sans_ocean.npy\u001b[39;49m\u001b[39m\"\u001b[39;49m)\n",
      "File \u001b[0;32m~/anaconda3/lib/python3.9/site-packages/numpy/lib/npyio.py:417\u001b[0m, in \u001b[0;36mload\u001b[0;34m(file, mmap_mode, allow_pickle, fix_imports, encoding)\u001b[0m\n\u001b[1;32m    415\u001b[0m     own_fid \u001b[39m=\u001b[39m \u001b[39mFalse\u001b[39;00m\n\u001b[1;32m    416\u001b[0m \u001b[39melse\u001b[39;00m:\n\u001b[0;32m--> 417\u001b[0m     fid \u001b[39m=\u001b[39m stack\u001b[39m.\u001b[39menter_context(\u001b[39mopen\u001b[39;49m(os_fspath(file), \u001b[39m\"\u001b[39;49m\u001b[39mrb\u001b[39;49m\u001b[39m\"\u001b[39;49m))\n\u001b[1;32m    418\u001b[0m     own_fid \u001b[39m=\u001b[39m \u001b[39mTrue\u001b[39;00m\n\u001b[1;32m    420\u001b[0m \u001b[39m# Code to distinguish from NumPy binary files and pickles.\u001b[39;00m\n",
      "\u001b[0;31mFileNotFoundError\u001b[0m: [Errno 2] No such file or directory: '/home/npande/data/train_sans_ocean.npy'"
     ]
    }
   ],
   "source": [
    "import numpy as np\n",
    "#train =  np.load(\"/home/npande/Desktop/furnaces/data/train_sans_ocean.npy\")\n",
    "train =  np.load(\"/home/npande/data/train_sans_ocean.npy\")"
   ]
  },
  {
   "cell_type": "code",
   "execution_count": 1,
   "metadata": {},
   "outputs": [],
   "source": [
    "import numpy as np\n",
    "x = np.linspace(-2,2,100)\n",
    "y = np.linspace(-3,1,100)\n",
    "xv,yv = np.meshgrid(x,y)"
   ]
  },
  {
   "cell_type": "code",
   "execution_count": 6,
   "metadata": {},
   "outputs": [],
   "source": [
    "f = np.sin(xv)+np.cos(yv)"
   ]
  },
  {
   "cell_type": "code",
   "execution_count": 10,
   "metadata": {},
   "outputs": [
    {
     "data": {
      "image/png": "[encoded data removed]",
      "text/plain": [
       "<Figure size 432x288 with 2 Axes>"
      ]
     },
     "metadata": {
      "needs_background": "light"
     },
     "output_type": "display_data"
    }
   ],
   "source": [
    "import matplotlib.pyplot as plt\n",
    "#plt.style.use(['science','notebook','dark_background'])\n",
    "plt.pcolormesh(xv,yv,f)\n",
    "plt.colorbar()\n",
    "plt.show()"
   ]
  },
  {
   "cell_type": "code",
   "execution_count": 30,
   "metadata": {},
   "outputs": [],
   "source": [
    "import pandas as pd\n",
    "df = pd.read_csv('../data/annual_mean_base.csv')"
   ]
  },
  {
   "cell_type": "code",
   "execution_count": 12,
   "metadata": {},
   "outputs": [
    {
     "data": {
      "text/html": [
       "<div>\n",
       "<style scoped>\n",
       "    .dataframe tbody tr th:only-of-type {\n",
       "        vertical-align: middle;\n",
       "    }\n",
       "\n",
       "    .dataframe tbody tr th {\n",
       "        vertical-align: top;\n",
       "    }\n",
       "\n",
       "    .dataframe thead th {\n",
       "        text-align: right;\n",
       "    }\n",
       "</style>\n",
       "<table border=\"1\" class=\"dataframe\">\n",
       "  <thead>\n",
       "    <tr style=\"text-align: right;\">\n",
       "      <th></th>\n",
       "      <th>pftCrop</th>\n",
       "      <th>pftShrubBD</th>\n",
       "      <th>ign</th>\n",
       "      <th>faPAR</th>\n",
       "      <th>precip</th>\n",
       "      <th>temp_max</th>\n",
       "    </tr>\n",
       "  </thead>\n",
       "  <tbody>\n",
       "    <tr>\n",
       "      <th>0</th>\n",
       "      <td>0.00037</td>\n",
       "      <td>0.014883</td>\n",
       "      <td>0.0</td>\n",
       "      <td>0.355189</td>\n",
       "      <td>823.126289</td>\n",
       "      <td>8.241667</td>\n",
       "    </tr>\n",
       "    <tr>\n",
       "      <th>1</th>\n",
       "      <td>0.00037</td>\n",
       "      <td>0.014883</td>\n",
       "      <td>0.0</td>\n",
       "      <td>0.358491</td>\n",
       "      <td>878.642670</td>\n",
       "      <td>9.066667</td>\n",
       "    </tr>\n",
       "    <tr>\n",
       "      <th>2</th>\n",
       "      <td>0.00037</td>\n",
       "      <td>0.014883</td>\n",
       "      <td>0.0</td>\n",
       "      <td>0.213130</td>\n",
       "      <td>738.668304</td>\n",
       "      <td>8.233334</td>\n",
       "    </tr>\n",
       "    <tr>\n",
       "      <th>3</th>\n",
       "      <td>0.00037</td>\n",
       "      <td>0.014883</td>\n",
       "      <td>0.0</td>\n",
       "      <td>0.201222</td>\n",
       "      <td>785.473183</td>\n",
       "      <td>8.633333</td>\n",
       "    </tr>\n",
       "    <tr>\n",
       "      <th>4</th>\n",
       "      <td>0.00037</td>\n",
       "      <td>0.014883</td>\n",
       "      <td>0.0</td>\n",
       "      <td>0.189196</td>\n",
       "      <td>1010.882393</td>\n",
       "      <td>8.033333</td>\n",
       "    </tr>\n",
       "  </tbody>\n",
       "</table>\n",
       "</div>"
      ],
      "text/plain": [
       "   pftCrop  pftShrubBD  ign     faPAR       precip  temp_max\n",
       "0  0.00037    0.014883  0.0  0.355189   823.126289  8.241667\n",
       "1  0.00037    0.014883  0.0  0.358491   878.642670  9.066667\n",
       "2  0.00037    0.014883  0.0  0.213130   738.668304  8.233334\n",
       "3  0.00037    0.014883  0.0  0.201222   785.473183  8.633333\n",
       "4  0.00037    0.014883  0.0  0.189196  1010.882393  8.033333"
      ]
     },
     "execution_count": 12,
     "metadata": {},
     "output_type": "execute_result"
    }
   ],
   "source": [
    "df.head()"
   ]
  },
  {
   "cell_type": "code",
   "execution_count": 4,
   "metadata": {},
   "outputs": [],
   "source": [
    "from pgmpy.estimators import PC\n",
    "from pgmpy.models import BayesianModel\n",
    "import numpy as np\n"
   ]
  },
  {
   "cell_type": "code",
   "execution_count": 6,
   "metadata": {},
   "outputs": [
    {
     "ename": "AttributeError",
     "evalue": "'BayesianModel' object has no attribute 'columns'",
     "output_type": "error",
     "traceback": [
      "\u001b[0;31m---------------------------------------------------------------------------\u001b[0m",
      "\u001b[0;31mAttributeError\u001b[0m                            Traceback (most recent call last)",
      "Cell \u001b[0;32mIn[6], line 5\u001b[0m\n\u001b[1;32m      2\u001b[0m model \u001b[39m=\u001b[39m BayesianModel([(\u001b[39m'\u001b[39m\u001b[39mfaPAR\u001b[39m\u001b[39m'\u001b[39m, \u001b[39m'\u001b[39m\u001b[39mign\u001b[39m\u001b[39m'\u001b[39m), (\u001b[39m'\u001b[39m\u001b[39mtemp_max\u001b[39m\u001b[39m'\u001b[39m, \u001b[39m'\u001b[39m\u001b[39mign\u001b[39m\u001b[39m'\u001b[39m), (\u001b[39m'\u001b[39m\u001b[39mpftCrop\u001b[39m\u001b[39m'\u001b[39m, \u001b[39m'\u001b[39m\u001b[39mign\u001b[39m\u001b[39m'\u001b[39m), (\u001b[39m'\u001b[39m\u001b[39mpftShrucBD\u001b[39m\u001b[39m'\u001b[39m, \u001b[39m'\u001b[39m\u001b[39mign\u001b[39m\u001b[39m'\u001b[39m), (\u001b[39m'\u001b[39m\u001b[39mprecip\u001b[39m\u001b[39m'\u001b[39m, \u001b[39m'\u001b[39m\u001b[39mign\u001b[39m\u001b[39m'\u001b[39m)])\n\u001b[1;32m      4\u001b[0m \u001b[39m# Learn model structure from data\u001b[39;00m\n\u001b[0;32m----> 5\u001b[0m est \u001b[39m=\u001b[39m PC(model)\n\u001b[1;32m      6\u001b[0m model \u001b[39m=\u001b[39m est\u001b[39m.\u001b[39mestimate(significance_level\u001b[39m=\u001b[39m\u001b[39m0.05\u001b[39m, data\u001b[39m=\u001b[39mdf)\n\u001b[1;32m      8\u001b[0m \u001b[39m# Print model structure\u001b[39;00m\n",
      "File \u001b[0;32m~/furnaces-main/env/lib/python3.10/site-packages/pgmpy/estimators/PC.py:39\u001b[0m, in \u001b[0;36mPC.__init__\u001b[0;34m(self, data, independencies, **kwargs)\u001b[0m\n\u001b[1;32m     17\u001b[0m \u001b[39mdef\u001b[39;00m \u001b[39m__init__\u001b[39m(\u001b[39mself\u001b[39m, data\u001b[39m=\u001b[39m\u001b[39mNone\u001b[39;00m, independencies\u001b[39m=\u001b[39m\u001b[39mNone\u001b[39;00m, \u001b[39m*\u001b[39m\u001b[39m*\u001b[39mkwargs):\n\u001b[1;32m     18\u001b[0m \u001b[39m    \u001b[39m\u001b[39m\"\"\"\u001b[39;00m\n\u001b[1;32m     19\u001b[0m \u001b[39m    Class for constraint-based estimation of DAGs using the PC algorithm\u001b[39;00m\n\u001b[1;32m     20\u001b[0m \u001b[39m    from a given data set.  Identifies (conditional) dependencies in data\u001b[39;00m\n\u001b[0;32m   (...)\u001b[0m\n\u001b[1;32m     37\u001b[0m \u001b[39m    [2] Neapolitan, Learning Bayesian Networks, Section 10.1.2 for the PC algorithm (page 550), http://www.cs.technion.ac.il/~dang/books/Learning%20Bayesian%20Networks(Neapolitan,%20Richard).pdf\u001b[39;00m\n\u001b[1;32m     38\u001b[0m \u001b[39m    \"\"\"\u001b[39;00m\n\u001b[0;32m---> 39\u001b[0m     \u001b[39msuper\u001b[39;49m(PC, \u001b[39mself\u001b[39;49m)\u001b[39m.\u001b[39;49m\u001b[39m__init__\u001b[39;49m(data\u001b[39m=\u001b[39;49mdata, independencies\u001b[39m=\u001b[39;49mindependencies, \u001b[39m*\u001b[39;49m\u001b[39m*\u001b[39;49mkwargs)\n",
      "File \u001b[0;32m~/furnaces-main/env/lib/python3.10/site-packages/pgmpy/estimators/base.py:295\u001b[0m, in \u001b[0;36mStructureEstimator.__init__\u001b[0;34m(self, data, independencies, **kwargs)\u001b[0m\n\u001b[1;32m    292\u001b[0m \u001b[39mif\u001b[39;00m \u001b[39mself\u001b[39m\u001b[39m.\u001b[39mindependencies \u001b[39mis\u001b[39;00m \u001b[39mnot\u001b[39;00m \u001b[39mNone\u001b[39;00m:\n\u001b[1;32m    293\u001b[0m     \u001b[39mself\u001b[39m\u001b[39m.\u001b[39mvariables \u001b[39m=\u001b[39m \u001b[39mself\u001b[39m\u001b[39m.\u001b[39mindependencies\u001b[39m.\u001b[39mget_all_variables()\n\u001b[0;32m--> 295\u001b[0m \u001b[39msuper\u001b[39;49m(StructureEstimator, \u001b[39mself\u001b[39;49m)\u001b[39m.\u001b[39;49m\u001b[39m__init__\u001b[39;49m(data\u001b[39m=\u001b[39;49mdata, \u001b[39m*\u001b[39;49m\u001b[39m*\u001b[39;49mkwargs)\n",
      "File \u001b[0;32m~/furnaces-main/env/lib/python3.10/site-packages/pgmpy/estimators/base.py:40\u001b[0m, in \u001b[0;36mBaseEstimator.__init__\u001b[0;34m(self, data, state_names, complete_samples_only)\u001b[0m\n\u001b[1;32m     37\u001b[0m \u001b[39mif\u001b[39;00m \u001b[39mself\u001b[39m\u001b[39m.\u001b[39mdata \u001b[39mis\u001b[39;00m \u001b[39mnot\u001b[39;00m \u001b[39mNone\u001b[39;00m:\n\u001b[1;32m     38\u001b[0m     \u001b[39mself\u001b[39m\u001b[39m.\u001b[39mcomplete_samples_only \u001b[39m=\u001b[39m complete_samples_only\n\u001b[0;32m---> 40\u001b[0m     \u001b[39mself\u001b[39m\u001b[39m.\u001b[39mvariables \u001b[39m=\u001b[39m \u001b[39mlist\u001b[39m(data\u001b[39m.\u001b[39;49mcolumns\u001b[39m.\u001b[39mvalues)\n\u001b[1;32m     42\u001b[0m     \u001b[39mif\u001b[39;00m \u001b[39mnot\u001b[39;00m \u001b[39misinstance\u001b[39m(state_names, \u001b[39mdict\u001b[39m):\n\u001b[1;32m     43\u001b[0m         \u001b[39mself\u001b[39m\u001b[39m.\u001b[39mstate_names \u001b[39m=\u001b[39m {\n\u001b[1;32m     44\u001b[0m             var: \u001b[39mself\u001b[39m\u001b[39m.\u001b[39m_collect_state_names(var) \u001b[39mfor\u001b[39;00m var \u001b[39min\u001b[39;00m \u001b[39mself\u001b[39m\u001b[39m.\u001b[39mvariables\n\u001b[1;32m     45\u001b[0m         }\n",
      "\u001b[0;31mAttributeError\u001b[0m: 'BayesianModel' object has no attribute 'columns'"
     ]
    }
   ],
   "source": [
    "# Define model structure\n",
    "model = BayesianModel([('faPAR', 'ign'), ('temp_max', 'ign'), ('pftCrop', 'ign'), ('pftShrucBD', 'ign'), ('precip', 'ign')])\n",
    "\n",
    "# Learn model structure from data\n",
    "est = PC(model)\n",
    "model = est.estimate(significance_level=0.05, data=df)\n",
    "\n",
    "# Print model structure\n",
    "print(model.edges())"
   ]
  },
  {
   "cell_type": "code",
   "execution_count": 31,
   "metadata": {},
   "outputs": [],
   "source": [
    "from pgmpy.estimators import HillClimbSearch\n",
    "from pgmpy.estimators import BicScore"
   ]
  },
  {
   "cell_type": "code",
   "execution_count": 32,
   "metadata": {},
   "outputs": [],
   "source": [
    "df = df.astype('float16')"
   ]
  },
  {
   "cell_type": "code",
   "execution_count": 33,
   "metadata": {},
   "outputs": [],
   "source": [
    "hc = HillClimbSearch(df)"
   ]
  },
  {
   "cell_type": "code",
   "execution_count": 15,
   "metadata": {},
   "outputs": [
    {
     "name": "stderr",
     "output_type": "stream",
     "text": [
      "  0%|          | 0/1000000 [00:00<?, ?it/s]/home/npande/furnaces-main/env/lib/python3.10/site-packages/pgmpy/estimators/base.py:161: PerformanceWarning: The following operation may generate 168908024216 cells in the resulting pandas object.\n",
      "  data.groupby([variable] + parents).size().unstack(parents)\n",
      "  0%|          | 0/1000000 [02:45<?, ?it/s]\n"
     ]
    },
    {
     "ename": "MemoryError",
     "evalue": "Unable to allocate 1.23 TiB for an array with shape (230476, 732866) and data type float64",
     "output_type": "error",
     "traceback": [
      "\u001b[0;31m---------------------------------------------------------------------------\u001b[0m",
      "\u001b[0;31mMemoryError\u001b[0m                               Traceback (most recent call last)",
      "Cell \u001b[0;32mIn[15], line 1\u001b[0m\n\u001b[0;32m----> 1\u001b[0m best_model \u001b[39m=\u001b[39m hc\u001b[39m.\u001b[39;49mestimate(scoring_method\u001b[39m=\u001b[39;49mBicScore(df))\n",
      "File \u001b[0;32m~/furnaces-main/env/lib/python3.10/site-packages/pgmpy/estimators/HillClimbSearch.py:303\u001b[0m, in \u001b[0;36mHillClimbSearch.estimate\u001b[0;34m(self, scoring_method, start_dag, fixed_edges, tabu_length, max_indegree, black_list, white_list, epsilon, max_iter, show_progress)\u001b[0m\n\u001b[1;32m    299\u001b[0m \u001b[39m# Step 2: For each iteration, find the best scoring operation and\u001b[39;00m\n\u001b[1;32m    300\u001b[0m \u001b[39m#         do that to the current model. If no legal operation is\u001b[39;00m\n\u001b[1;32m    301\u001b[0m \u001b[39m#         possible, sets best_operation=None.\u001b[39;00m\n\u001b[1;32m    302\u001b[0m \u001b[39mfor\u001b[39;00m _ \u001b[39min\u001b[39;00m iteration:\n\u001b[0;32m--> 303\u001b[0m     best_operation, best_score_delta \u001b[39m=\u001b[39m \u001b[39mmax\u001b[39;49m(\n\u001b[1;32m    304\u001b[0m         \u001b[39mself\u001b[39;49m\u001b[39m.\u001b[39;49m_legal_operations(\n\u001b[1;32m    305\u001b[0m             current_model,\n\u001b[1;32m    306\u001b[0m             score_fn,\n\u001b[1;32m    307\u001b[0m             score\u001b[39m.\u001b[39;49mstructure_prior_ratio,\n\u001b[1;32m    308\u001b[0m             tabu_list,\n\u001b[1;32m    309\u001b[0m             max_indegree,\n\u001b[1;32m    310\u001b[0m             black_list,\n\u001b[1;32m    311\u001b[0m             white_list,\n\u001b[1;32m    312\u001b[0m             fixed_edges,\n\u001b[1;32m    313\u001b[0m         ),\n\u001b[1;32m    314\u001b[0m         key\u001b[39m=\u001b[39;49m\u001b[39mlambda\u001b[39;49;00m t: t[\u001b[39m1\u001b[39;49m],\n\u001b[1;32m    315\u001b[0m         default\u001b[39m=\u001b[39;49m(\u001b[39mNone\u001b[39;49;00m, \u001b[39mNone\u001b[39;49;00m),\n\u001b[1;32m    316\u001b[0m     )\n\u001b[1;32m    318\u001b[0m     \u001b[39mif\u001b[39;00m best_operation \u001b[39mis\u001b[39;00m \u001b[39mNone\u001b[39;00m \u001b[39mor\u001b[39;00m best_score_delta \u001b[39m<\u001b[39m epsilon:\n\u001b[1;32m    319\u001b[0m         \u001b[39mbreak\u001b[39;00m\n",
      "File \u001b[0;32m~/furnaces-main/env/lib/python3.10/site-packages/pgmpy/estimators/HillClimbSearch.py:101\u001b[0m, in \u001b[0;36mHillClimbSearch._legal_operations\u001b[0;34m(self, model, score, structure_score, tabu_list, max_indegree, black_list, white_list, fixed_edges)\u001b[0m\n\u001b[1;32m     99\u001b[0m new_parents \u001b[39m=\u001b[39m old_parents \u001b[39m+\u001b[39m [X]\n\u001b[1;32m    100\u001b[0m \u001b[39mif\u001b[39;00m \u001b[39mlen\u001b[39m(new_parents) \u001b[39m<\u001b[39m\u001b[39m=\u001b[39m max_indegree:\n\u001b[0;32m--> 101\u001b[0m     score_delta \u001b[39m=\u001b[39m score(Y, new_parents) \u001b[39m-\u001b[39m score(Y, old_parents)\n\u001b[1;32m    102\u001b[0m     score_delta \u001b[39m+\u001b[39m\u001b[39m=\u001b[39m structure_score(\u001b[39m\"\u001b[39m\u001b[39m+\u001b[39m\u001b[39m\"\u001b[39m)\n\u001b[1;32m    103\u001b[0m     \u001b[39myield\u001b[39;00m (operation, score_delta)\n",
      "File \u001b[0;32m~/furnaces-main/env/lib/python3.10/site-packages/pgmpy/estimators/ScoreCache.py:43\u001b[0m, in \u001b[0;36mScoreCache.local_score\u001b[0;34m(self, variable, parents)\u001b[0m\n\u001b[1;32m     41\u001b[0m \u001b[39mdef\u001b[39;00m \u001b[39mlocal_score\u001b[39m(\u001b[39mself\u001b[39m, variable, parents):\n\u001b[1;32m     42\u001b[0m     hashable \u001b[39m=\u001b[39m \u001b[39mtuple\u001b[39m(parents)\n\u001b[0;32m---> 43\u001b[0m     \u001b[39mreturn\u001b[39;00m \u001b[39mself\u001b[39;49m\u001b[39m.\u001b[39;49mcache(variable, hashable)\n",
      "File \u001b[0;32m~/furnaces-main/env/lib/python3.10/site-packages/pgmpy/estimators/ScoreCache.py:88\u001b[0m, in \u001b[0;36mLRUCache.__call__\u001b[0;34m(self, *key)\u001b[0m\n\u001b[1;32m     85\u001b[0m link \u001b[39m=\u001b[39m mapping\u001b[39m.\u001b[39mget(key, head)\n\u001b[1;32m     86\u001b[0m \u001b[39mif\u001b[39;00m link \u001b[39mis\u001b[39;00m head:\n\u001b[1;32m     87\u001b[0m     \u001b[39m# Not yet in map\u001b[39;00m\n\u001b[0;32m---> 88\u001b[0m     value \u001b[39m=\u001b[39m \u001b[39mself\u001b[39;49m\u001b[39m.\u001b[39;49moriginal_function(\u001b[39m*\u001b[39;49mkey)\n\u001b[1;32m     89\u001b[0m     \u001b[39mif\u001b[39;00m \u001b[39mlen\u001b[39m(mapping) \u001b[39m>\u001b[39m\u001b[39m=\u001b[39m \u001b[39mself\u001b[39m\u001b[39m.\u001b[39mmax_size:\n\u001b[1;32m     90\u001b[0m         \u001b[39m# Unlink the least recently used element\u001b[39;00m\n\u001b[1;32m     91\u001b[0m         old_prev, old_next, old_key, old_value \u001b[39m=\u001b[39m head[_NEXT]\n",
      "File \u001b[0;32m~/furnaces-main/env/lib/python3.10/site-packages/pgmpy/estimators/ScoreCache.py:47\u001b[0m, in \u001b[0;36mScoreCache._wrapped_original\u001b[0;34m(self, variable, parents)\u001b[0m\n\u001b[1;32m     45\u001b[0m \u001b[39mdef\u001b[39;00m \u001b[39m_wrapped_original\u001b[39m(\u001b[39mself\u001b[39m, variable, parents):\n\u001b[1;32m     46\u001b[0m     expected \u001b[39m=\u001b[39m \u001b[39mlist\u001b[39m(parents)\n\u001b[0;32m---> 47\u001b[0m     \u001b[39mreturn\u001b[39;00m \u001b[39mself\u001b[39;49m\u001b[39m.\u001b[39;49mbase_scorer\u001b[39m.\u001b[39;49mlocal_score(variable, expected)\n",
      "File \u001b[0;32m~/furnaces-main/env/lib/python3.10/site-packages/pgmpy/estimators/StructureScore.py:334\u001b[0m, in \u001b[0;36mBicScore.local_score\u001b[0;34m(self, variable, parents)\u001b[0m\n\u001b[1;32m    332\u001b[0m var_states \u001b[39m=\u001b[39m \u001b[39mself\u001b[39m\u001b[39m.\u001b[39mstate_names[variable]\n\u001b[1;32m    333\u001b[0m var_cardinality \u001b[39m=\u001b[39m \u001b[39mlen\u001b[39m(var_states)\n\u001b[0;32m--> 334\u001b[0m state_counts \u001b[39m=\u001b[39m \u001b[39mself\u001b[39;49m\u001b[39m.\u001b[39;49mstate_counts(variable, parents)\n\u001b[1;32m    335\u001b[0m sample_size \u001b[39m=\u001b[39m \u001b[39mlen\u001b[39m(\u001b[39mself\u001b[39m\u001b[39m.\u001b[39mdata)\n\u001b[1;32m    336\u001b[0m num_parents_states \u001b[39m=\u001b[39m \u001b[39mfloat\u001b[39m(state_counts\u001b[39m.\u001b[39mshape[\u001b[39m1\u001b[39m])\n",
      "File \u001b[0;32m~/furnaces-main/env/lib/python3.10/site-packages/pgmpy/utils/decorators.py:6\u001b[0m, in \u001b[0;36mconvert_args_tuple.<locals>._convert_param_to_tuples\u001b[0;34m(obj, variable, parents, complete_samples_only, weighted)\u001b[0m\n\u001b[1;32m      2\u001b[0m \u001b[39mdef\u001b[39;00m \u001b[39m_convert_param_to_tuples\u001b[39m(\n\u001b[1;32m      3\u001b[0m     obj, variable, parents\u001b[39m=\u001b[39m\u001b[39mtuple\u001b[39m(), complete_samples_only\u001b[39m=\u001b[39m\u001b[39mNone\u001b[39;00m, weighted\u001b[39m=\u001b[39m\u001b[39mFalse\u001b[39;00m\n\u001b[1;32m      4\u001b[0m ):\n\u001b[1;32m      5\u001b[0m     parents \u001b[39m=\u001b[39m \u001b[39mtuple\u001b[39m(parents)\n\u001b[0;32m----> 6\u001b[0m     \u001b[39mreturn\u001b[39;00m func(obj, variable, parents, complete_samples_only, weighted)\n",
      "File \u001b[0;32m~/furnaces-main/env/lib/python3.10/site-packages/pgmpy/estimators/base.py:161\u001b[0m, in \u001b[0;36mBaseEstimator.state_counts\u001b[0;34m(self, variable, parents, complete_samples_only, weighted)\u001b[0m\n\u001b[1;32m    155\u001b[0m     state_count_data \u001b[39m=\u001b[39m (\n\u001b[1;32m    156\u001b[0m         data\u001b[39m.\u001b[39mgroupby([variable] \u001b[39m+\u001b[39m parents)\u001b[39m.\u001b[39msum()[\u001b[39m\"\u001b[39m\u001b[39m_weight\u001b[39m\u001b[39m\"\u001b[39m]\u001b[39m.\u001b[39munstack(parents)\n\u001b[1;32m    157\u001b[0m     )\n\u001b[1;32m    159\u001b[0m \u001b[39melse\u001b[39;00m:\n\u001b[1;32m    160\u001b[0m     state_count_data \u001b[39m=\u001b[39m (\n\u001b[0;32m--> 161\u001b[0m         data\u001b[39m.\u001b[39;49mgroupby([variable] \u001b[39m+\u001b[39;49m parents)\u001b[39m.\u001b[39;49msize()\u001b[39m.\u001b[39;49munstack(parents)\n\u001b[1;32m    162\u001b[0m     )\n\u001b[1;32m    164\u001b[0m \u001b[39mif\u001b[39;00m \u001b[39mnot\u001b[39;00m \u001b[39misinstance\u001b[39m(state_count_data\u001b[39m.\u001b[39mcolumns, pd\u001b[39m.\u001b[39mMultiIndex):\n\u001b[1;32m    165\u001b[0m     state_count_data\u001b[39m.\u001b[39mcolumns \u001b[39m=\u001b[39m pd\u001b[39m.\u001b[39mMultiIndex\u001b[39m.\u001b[39mfrom_arrays(\n\u001b[1;32m    166\u001b[0m         [state_count_data\u001b[39m.\u001b[39mcolumns]\n\u001b[1;32m    167\u001b[0m     )\n",
      "File \u001b[0;32m~/furnaces-main/env/lib/python3.10/site-packages/pandas/core/series.py:4455\u001b[0m, in \u001b[0;36mSeries.unstack\u001b[0;34m(self, level, fill_value)\u001b[0m\n\u001b[1;32m   4412\u001b[0m \u001b[39m\u001b[39m\u001b[39m\"\"\"\u001b[39;00m\n\u001b[1;32m   4413\u001b[0m \u001b[39mUnstack, also known as pivot, Series with MultiIndex to produce DataFrame.\u001b[39;00m\n\u001b[1;32m   4414\u001b[0m \n\u001b[0;32m   (...)\u001b[0m\n\u001b[1;32m   4451\u001b[0m \u001b[39mb    2    4\u001b[39;00m\n\u001b[1;32m   4452\u001b[0m \u001b[39m\"\"\"\u001b[39;00m\n\u001b[1;32m   4453\u001b[0m \u001b[39mfrom\u001b[39;00m \u001b[39mpandas\u001b[39;00m\u001b[39m.\u001b[39;00m\u001b[39mcore\u001b[39;00m\u001b[39m.\u001b[39;00m\u001b[39mreshape\u001b[39;00m\u001b[39m.\u001b[39;00m\u001b[39mreshape\u001b[39;00m \u001b[39mimport\u001b[39;00m unstack\n\u001b[0;32m-> 4455\u001b[0m \u001b[39mreturn\u001b[39;00m unstack(\u001b[39mself\u001b[39;49m, level, fill_value)\n",
      "File \u001b[0;32m~/furnaces-main/env/lib/python3.10/site-packages/pandas/core/reshape/reshape.py:492\u001b[0m, in \u001b[0;36munstack\u001b[0;34m(obj, level, fill_value)\u001b[0m\n\u001b[1;32m    488\u001b[0m     \u001b[39mreturn\u001b[39;00m _unstack_extension_series(obj, level, fill_value)\n\u001b[1;32m    489\u001b[0m unstacker \u001b[39m=\u001b[39m _Unstacker(\n\u001b[1;32m    490\u001b[0m     obj\u001b[39m.\u001b[39mindex, level\u001b[39m=\u001b[39mlevel, constructor\u001b[39m=\u001b[39mobj\u001b[39m.\u001b[39m_constructor_expanddim\n\u001b[1;32m    491\u001b[0m )\n\u001b[0;32m--> 492\u001b[0m \u001b[39mreturn\u001b[39;00m unstacker\u001b[39m.\u001b[39;49mget_result(\n\u001b[1;32m    493\u001b[0m     obj\u001b[39m.\u001b[39;49m_values, value_columns\u001b[39m=\u001b[39;49m\u001b[39mNone\u001b[39;49;00m, fill_value\u001b[39m=\u001b[39;49mfill_value\n\u001b[1;32m    494\u001b[0m )\n",
      "File \u001b[0;32m~/furnaces-main/env/lib/python3.10/site-packages/pandas/core/reshape/reshape.py:215\u001b[0m, in \u001b[0;36m_Unstacker.get_result\u001b[0;34m(self, values, value_columns, fill_value)\u001b[0m\n\u001b[1;32m    212\u001b[0m \u001b[39mif\u001b[39;00m value_columns \u001b[39mis\u001b[39;00m \u001b[39mNone\u001b[39;00m \u001b[39mand\u001b[39;00m values\u001b[39m.\u001b[39mshape[\u001b[39m1\u001b[39m] \u001b[39m!=\u001b[39m \u001b[39m1\u001b[39m:  \u001b[39m# pragma: no cover\u001b[39;00m\n\u001b[1;32m    213\u001b[0m     \u001b[39mraise\u001b[39;00m \u001b[39mValueError\u001b[39;00m(\u001b[39m\"\u001b[39m\u001b[39mmust pass column labels for multi-column data\u001b[39m\u001b[39m\"\u001b[39m)\n\u001b[0;32m--> 215\u001b[0m values, _ \u001b[39m=\u001b[39m \u001b[39mself\u001b[39;49m\u001b[39m.\u001b[39;49mget_new_values(values, fill_value)\n\u001b[1;32m    216\u001b[0m columns \u001b[39m=\u001b[39m \u001b[39mself\u001b[39m\u001b[39m.\u001b[39mget_new_columns(value_columns)\n\u001b[1;32m    217\u001b[0m index \u001b[39m=\u001b[39m \u001b[39mself\u001b[39m\u001b[39m.\u001b[39mnew_index\n",
      "File \u001b[0;32m~/furnaces-main/env/lib/python3.10/site-packages/pandas/core/reshape/reshape.py:267\u001b[0m, in \u001b[0;36m_Unstacker.get_new_values\u001b[0;34m(self, values, fill_value)\u001b[0m\n\u001b[1;32m    265\u001b[0m     \u001b[39melse\u001b[39;00m:\n\u001b[1;32m    266\u001b[0m         dtype, fill_value \u001b[39m=\u001b[39m maybe_promote(dtype, fill_value)\n\u001b[0;32m--> 267\u001b[0m         new_values \u001b[39m=\u001b[39m np\u001b[39m.\u001b[39;49mempty(result_shape, dtype\u001b[39m=\u001b[39;49mdtype)\n\u001b[1;32m    268\u001b[0m         new_values\u001b[39m.\u001b[39mfill(fill_value)\n\u001b[1;32m    270\u001b[0m name \u001b[39m=\u001b[39m dtype\u001b[39m.\u001b[39mname\n",
      "\u001b[0;31mMemoryError\u001b[0m: Unable to allocate 1.23 TiB for an array with shape (230476, 732866) and data type float64"
     ]
    }
   ],
   "source": [
    "best_model = hc.estimate(scoring_method=BicScore(df))"
   ]
  },
  {
   "cell_type": "code",
   "execution_count": 17,
   "metadata": {},
   "outputs": [],
   "source": [
    "df = df.astype('float16')"
   ]
  },
  {
   "cell_type": "code",
   "execution_count": 18,
   "metadata": {},
   "outputs": [
    {
     "data": {
      "text/plain": [
       "pftCrop       float16\n",
       "pftShrubBD    float16\n",
       "ign           float16\n",
       "faPAR         float16\n",
       "precip        float16\n",
       "temp_max      float16\n",
       "dtype: object"
      ]
     },
     "execution_count": 18,
     "metadata": {},
     "output_type": "execute_result"
    }
   ],
   "source": [
    "df.dtypes"
   ]
  },
  {
   "cell_type": "code",
   "execution_count": 38,
   "metadata": {},
   "outputs": [
    {
     "name": "stderr",
     "output_type": "stream",
     "text": [
      "  0%|          | 1/1000000 [01:32<25641:14:05, 92.31s/it]/home/npande/furnaces-main/env/lib/python3.10/site-packages/pgmpy/estimators/base.py:161: PerformanceWarning: The following operation may generate 14732404700 cells in the resulting pandas object.\n",
      "  data.groupby([variable] + parents).size().unstack(parents)\n"
     ]
    },
    {
     "ename": "",
     "evalue": "",
     "output_type": "error",
     "traceback": [
      "\u001b[1;31mCanceled future for execute_request message before replies were done"
     ]
    },
    {
     "ename": "",
     "evalue": "",
     "output_type": "error",
     "traceback": [
      "\u001b[1;31mThe Kernel crashed while executing code in the the current cell or a previous cell. Please review the code in the cell(s) to identify a possible cause of the failure. Click <a href='https://aka.ms/vscodeJupyterKernelCrash'>here</a> for more info. View Jupyter <a href='command:jupyter.viewOutput'>log</a> for further details."
     ]
    }
   ],
   "source": [
    "from pgmpy.estimators import K2Score\n",
    "best_model = hc.estimate(scoring_method=K2Score(df))"
   ]
  },
  {
   "cell_type": "code",
   "execution_count": 36,
   "metadata": {},
   "outputs": [
    {
     "data": {
      "text/plain": [
       "OutEdgeView([])"
      ]
     },
     "execution_count": 36,
     "metadata": {},
     "output_type": "execute_result"
    }
   ],
   "source": [
    "best_model.edges"
   ]
  },
  {
   "cell_type": "code",
   "execution_count": 22,
   "metadata": {},
   "outputs": [
    {
     "data": {
      "text/html": [
       "<div>\n",
       "<style scoped>\n",
       "    .dataframe tbody tr th:only-of-type {\n",
       "        vertical-align: middle;\n",
       "    }\n",
       "\n",
       "    .dataframe tbody tr th {\n",
       "        vertical-align: top;\n",
       "    }\n",
       "\n",
       "    .dataframe thead th {\n",
       "        text-align: right;\n",
       "    }\n",
       "</style>\n",
       "<table border=\"1\" class=\"dataframe\">\n",
       "  <thead>\n",
       "    <tr style=\"text-align: right;\">\n",
       "      <th></th>\n",
       "      <th>pftCrop</th>\n",
       "      <th>pftShrubBD</th>\n",
       "      <th>ign</th>\n",
       "      <th>faPAR</th>\n",
       "      <th>precip</th>\n",
       "      <th>temp_max</th>\n",
       "    </tr>\n",
       "  </thead>\n",
       "  <tbody>\n",
       "    <tr>\n",
       "      <th>0</th>\n",
       "      <td>0.00037</td>\n",
       "      <td>0.014885</td>\n",
       "      <td>0.0</td>\n",
       "      <td>0.355225</td>\n",
       "      <td>823.0</td>\n",
       "      <td>8.242188</td>\n",
       "    </tr>\n",
       "    <tr>\n",
       "      <th>1</th>\n",
       "      <td>0.00037</td>\n",
       "      <td>0.014885</td>\n",
       "      <td>0.0</td>\n",
       "      <td>0.358398</td>\n",
       "      <td>878.5</td>\n",
       "      <td>9.070312</td>\n",
       "    </tr>\n",
       "    <tr>\n",
       "      <th>2</th>\n",
       "      <td>0.00037</td>\n",
       "      <td>0.014885</td>\n",
       "      <td>0.0</td>\n",
       "      <td>0.213135</td>\n",
       "      <td>738.5</td>\n",
       "      <td>8.234375</td>\n",
       "    </tr>\n",
       "    <tr>\n",
       "      <th>3</th>\n",
       "      <td>0.00037</td>\n",
       "      <td>0.014885</td>\n",
       "      <td>0.0</td>\n",
       "      <td>0.201172</td>\n",
       "      <td>785.5</td>\n",
       "      <td>8.632812</td>\n",
       "    </tr>\n",
       "    <tr>\n",
       "      <th>4</th>\n",
       "      <td>0.00037</td>\n",
       "      <td>0.014885</td>\n",
       "      <td>0.0</td>\n",
       "      <td>0.189209</td>\n",
       "      <td>1011.0</td>\n",
       "      <td>8.031250</td>\n",
       "    </tr>\n",
       "  </tbody>\n",
       "</table>\n",
       "</div>"
      ],
      "text/plain": [
       "   pftCrop  pftShrubBD  ign     faPAR  precip  temp_max\n",
       "0  0.00037    0.014885  0.0  0.355225   823.0  8.242188\n",
       "1  0.00037    0.014885  0.0  0.358398   878.5  9.070312\n",
       "2  0.00037    0.014885  0.0  0.213135   738.5  8.234375\n",
       "3  0.00037    0.014885  0.0  0.201172   785.5  8.632812\n",
       "4  0.00037    0.014885  0.0  0.189209  1011.0  8.031250"
      ]
     },
     "execution_count": 22,
     "metadata": {},
     "output_type": "execute_result"
    }
   ],
   "source": [
    "df.head()"
   ]
  },
  {
   "cell_type": "code",
   "execution_count": 24,
   "metadata": {},
   "outputs": [
    {
     "data": {
      "text/plain": [
       "299.0"
      ]
     },
     "execution_count": 24,
     "metadata": {},
     "output_type": "execute_result"
    }
   ],
   "source": [
    "df['ign'].max()"
   ]
  },
  {
   "cell_type": "code",
   "execution_count": 25,
   "metadata": {},
   "outputs": [
    {
     "data": {
      "text/plain": [
       "<pgmpy.estimators.HillClimbSearch.HillClimbSearch at 0x7fb0258ce5c0>"
      ]
     },
     "execution_count": 25,
     "metadata": {},
     "output_type": "execute_result"
    }
   ],
   "source": [
    "hc"
   ]
  },
  {
   "cell_type": "code",
   "execution_count": 26,
   "metadata": {},
   "outputs": [
    {
     "data": {
      "text/plain": [
       "['__class__',\n",
       " '__delattr__',\n",
       " '__dict__',\n",
       " '__dir__',\n",
       " '__doc__',\n",
       " '__eq__',\n",
       " '__format__',\n",
       " '__ge__',\n",
       " '__getattribute__',\n",
       " '__gt__',\n",
       " '__hash__',\n",
       " '__init__',\n",
       " '__init_subclass__',\n",
       " '__le__',\n",
       " '__lt__',\n",
       " '__module__',\n",
       " '__ne__',\n",
       " '__new__',\n",
       " '__reduce__',\n",
       " '__reduce_ex__',\n",
       " '__repr__',\n",
       " '__setattr__',\n",
       " '__sizeof__',\n",
       " '__str__',\n",
       " '__subclasshook__',\n",
       " '__weakref__',\n",
       " '_collect_state_names',\n",
       " '_legal_operations',\n",
       " 'complete_samples_only',\n",
       " 'data',\n",
       " 'estimate',\n",
       " 'independencies',\n",
       " 'state_counts',\n",
       " 'state_names',\n",
       " 'use_cache',\n",
       " 'variables']"
      ]
     },
     "execution_count": 26,
     "metadata": {},
     "output_type": "execute_result"
    }
   ],
   "source": [
    "dir(hc)"
   ]
  },
  {
   "cell_type": "code",
   "execution_count": 28,
   "metadata": {},
   "outputs": [
    {
     "data": {
      "text/plain": [
       "['pftCrop', 'pftShrubBD', 'ign', 'faPAR', 'precip', 'temp_max']"
      ]
     },
     "execution_count": 28,
     "metadata": {},
     "output_type": "execute_result"
    }
   ],
   "source": [
    "hc.variables"
   ]
  },
  {
   "cell_type": "code",
   "execution_count": 1,
   "metadata": {},
   "outputs": [
    {
     "ename": "ModuleNotFoundError",
     "evalue": "No module named 'matplotlib'",
     "output_type": "error",
     "traceback": [
      "\u001b[0;31m---------------------------------------------------------------------------\u001b[0m",
      "\u001b[0;31mModuleNotFoundError\u001b[0m                       Traceback (most recent call last)",
      "Cell \u001b[0;32mIn[1], line 2\u001b[0m\n\u001b[1;32m      1\u001b[0m \u001b[39mimport\u001b[39;00m \u001b[39mpandas\u001b[39;00m \u001b[39mas\u001b[39;00m \u001b[39mpd\u001b[39;00m\n\u001b[0;32m----> 2\u001b[0m \u001b[39mimport\u001b[39;00m \u001b[39mmatplotlib\u001b[39;00m\u001b[39m.\u001b[39;00m\u001b[39mpyplot\u001b[39;00m \u001b[39mas\u001b[39;00m \u001b[39mplt\u001b[39;00m\n\u001b[1;32m      3\u001b[0m data \u001b[39m=\u001b[39m pd\u001b[39m.\u001b[39mread_csv(\u001b[39m'\u001b[39m\u001b[39m../data/annual_mean_base.csv\u001b[39m\u001b[39m'\u001b[39m)\n\u001b[1;32m      4\u001b[0m data\u001b[39m.\u001b[39mcolumns\n",
      "\u001b[0;31mModuleNotFoundError\u001b[0m: No module named 'matplotlib'"
     ]
    }
   ],
   "source": [
    "import pandas as pd\n",
    "import matplotlib.pyplot as plt\n",
    "data = pd.read_csv('../data/annual_mean_base.csv')\n",
    "data.columns"
   ]
  },
  {
   "cell_type": "code",
   "execution_count": 1,
   "metadata": {},
   "outputs": [
    {
     "name": "stdout",
     "output_type": "stream",
     "text": [
      "ERA5-LAND_AN_20220101_1200.nc\n",
      "ERA5-LAND_AN_20220102_1200.nc\n",
      "ERA5-LAND_AN_20220103_1200.nc\n",
      "ERA5-LAND_AN_20220104_1200.nc\n",
      "ERA5-LAND_AN_20220105_1200.nc\n",
      "ERA5-LAND_AN_20220106_1200.nc\n",
      "ERA5-LAND_AN_20220107_1200.nc\n",
      "ERA5-LAND_AN_20220108_1200.nc\n",
      "ERA5-LAND_AN_20220109_1200.nc\n",
      "ERA5-LAND_AN_20220110_1200.nc\n",
      "ERA5-LAND_AN_20220111_1200.nc\n",
      "ERA5-LAND_AN_20220112_1200.nc\n",
      "ERA5-LAND_AN_20220113_1200.nc\n",
      "ERA5-LAND_AN_20220114_1200.nc\n",
      "ERA5-LAND_AN_20220115_1200.nc\n",
      "ERA5-LAND_AN_20220116_1200.nc\n",
      "ERA5-LAND_AN_20220117_1200.nc\n",
      "ERA5-LAND_AN_20220118_1200.nc\n",
      "ERA5-LAND_AN_20220119_1200.nc\n",
      "ERA5-LAND_AN_20220120_1200.nc\n",
      "ERA5-LAND_AN_20220121_1200.nc\n",
      "ERA5-LAND_AN_20220122_1200.nc\n",
      "ERA5-LAND_AN_20220123_1200.nc\n",
      "ERA5-LAND_AN_20220124_1200.nc\n",
      "ERA5-LAND_AN_20220125_1200.nc\n",
      "ERA5-LAND_AN_20220126_1200.nc\n",
      "ERA5-LAND_AN_20220127_1200.nc\n",
      "ERA5-LAND_AN_20220128_1200.nc\n",
      "ERA5-LAND_AN_20220129_1200.nc\n",
      "ERA5-LAND_AN_20220130_1200.nc\n",
      "ERA5-LAND_AN_20220131_1200.nc\n",
      "ERA5-LAND_AN_20220201_1200.nc\n",
      "ERA5-LAND_AN_20220202_1200.nc\n",
      "ERA5-LAND_AN_20220203_1200.nc\n",
      "ERA5-LAND_AN_20220204_1200.nc\n",
      "ERA5-LAND_AN_20220205_1200.nc\n",
      "ERA5-LAND_AN_20220206_1200.nc\n",
      "ERA5-LAND_AN_20220207_1200.nc\n",
      "ERA5-LAND_AN_20220208_1200.nc\n",
      "ERA5-LAND_AN_20220209_1200.nc\n",
      "ERA5-LAND_AN_20220210_1200.nc\n",
      "ERA5-LAND_AN_20220211_1200.nc\n",
      "ERA5-LAND_AN_20220212_1200.nc\n",
      "ERA5-LAND_AN_20220213_1200.nc\n",
      "ERA5-LAND_AN_20220214_1200.nc\n",
      "ERA5-LAND_AN_20220215_1200.nc\n",
      "ERA5-LAND_AN_20220216_1200.nc\n",
      "ERA5-LAND_AN_20220217_1200.nc\n",
      "ERA5-LAND_AN_20220218_1200.nc\n",
      "ERA5-LAND_AN_20220219_1200.nc\n",
      "ERA5-LAND_AN_20220220_1200.nc\n",
      "ERA5-LAND_AN_20220221_1200.nc\n",
      "ERA5-LAND_AN_20220222_1200.nc\n",
      "ERA5-LAND_AN_20220223_1200.nc\n",
      "ERA5-LAND_AN_20220224_1200.nc\n",
      "ERA5-LAND_AN_20220225_1200.nc\n",
      "ERA5-LAND_AN_20220226_1200.nc\n",
      "ERA5-LAND_AN_20220227_1200.nc\n",
      "ERA5-LAND_AN_20220228_1200.nc\n",
      "ERA5-LAND_AN_20220301_1200.nc\n",
      "ERA5-LAND_AN_20220302_1200.nc\n",
      "ERA5-LAND_AN_20220303_1200.nc\n",
      "ERA5-LAND_AN_20220304_1200.nc\n",
      "ERA5-LAND_AN_20220305_1200.nc\n",
      "ERA5-LAND_AN_20220306_1200.nc\n",
      "ERA5-LAND_AN_20220307_1200.nc\n",
      "ERA5-LAND_AN_20220308_1200.nc\n",
      "ERA5-LAND_AN_20220309_1200.nc\n",
      "ERA5-LAND_AN_20220310_1200.nc\n",
      "ERA5-LAND_AN_20220311_1200.nc\n",
      "ERA5-LAND_AN_20220312_1200.nc\n",
      "ERA5-LAND_AN_20220313_1200.nc\n",
      "ERA5-LAND_AN_20220314_1200.nc\n",
      "ERA5-LAND_AN_20220315_1200.nc\n",
      "ERA5-LAND_AN_20220316_1200.nc\n",
      "ERA5-LAND_AN_20220317_1200.nc\n",
      "ERA5-LAND_AN_20220318_1200.nc\n",
      "ERA5-LAND_AN_20220319_1200.nc\n",
      "ERA5-LAND_AN_20220320_1200.nc\n",
      "ERA5-LAND_AN_20220321_1200.nc\n",
      "ERA5-LAND_AN_20220322_1200.nc\n",
      "ERA5-LAND_AN_20220323_1200.nc\n",
      "ERA5-LAND_AN_20220324_1200.nc\n",
      "ERA5-LAND_AN_20220325_1200.nc\n",
      "ERA5-LAND_AN_20220326_1200.nc\n",
      "ERA5-LAND_AN_20220327_1200.nc\n",
      "ERA5-LAND_AN_20220328_1200.nc\n",
      "ERA5-LAND_AN_20220329_1200.nc\n",
      "ERA5-LAND_AN_20220330_1200.nc\n",
      "ERA5-LAND_AN_20220331_1200.nc\n",
      "ERA5-LAND_AN_20220401_1200.nc\n",
      "ERA5-LAND_AN_20220402_1200.nc\n",
      "ERA5-LAND_AN_20220403_1200.nc\n",
      "ERA5-LAND_AN_20220404_1200.nc\n",
      "ERA5-LAND_AN_20220405_1200.nc\n",
      "ERA5-LAND_AN_20220406_1200.nc\n",
      "ERA5-LAND_AN_20220407_1200.nc\n",
      "ERA5-LAND_AN_20220408_1200.nc\n",
      "ERA5-LAND_AN_20220409_1200.nc\n",
      "ERA5-LAND_AN_20220410_1200.nc\n",
      "ERA5-LAND_AN_20220411_1200.nc\n",
      "ERA5-LAND_AN_20220412_1200.nc\n",
      "ERA5-LAND_AN_20220413_1200.nc\n",
      "ERA5-LAND_AN_20220414_1200.nc\n",
      "ERA5-LAND_AN_20220415_1200.nc\n",
      "ERA5-LAND_AN_20220416_1200.nc\n",
      "ERA5-LAND_AN_20220417_1200.nc\n",
      "ERA5-LAND_AN_20220418_1200.nc\n",
      "ERA5-LAND_AN_20220419_1200.nc\n",
      "ERA5-LAND_AN_20220420_1200.nc\n",
      "ERA5-LAND_AN_20220421_1200.nc\n",
      "ERA5-LAND_AN_20220422_1200.nc\n",
      "ERA5-LAND_AN_20220423_1200.nc\n",
      "ERA5-LAND_AN_20220424_1200.nc\n",
      "ERA5-LAND_AN_20220425_1200.nc\n",
      "ERA5-LAND_AN_20220426_1200.nc\n",
      "ERA5-LAND_AN_20220427_1200.nc\n",
      "ERA5-LAND_AN_20220428_1200.nc\n",
      "ERA5-LAND_AN_20220429_1200.nc\n",
      "ERA5-LAND_AN_20220430_1200.nc\n",
      "ERA5-LAND_AN_20220501_1200.nc\n",
      "ERA5-LAND_AN_20220502_1200.nc\n",
      "ERA5-LAND_AN_20220503_1200.nc\n",
      "ERA5-LAND_AN_20220504_1200.nc\n",
      "ERA5-LAND_AN_20220505_1200.nc\n",
      "ERA5-LAND_AN_20220506_1200.nc\n",
      "ERA5-LAND_AN_20220507_1200.nc\n",
      "ERA5-LAND_AN_20220508_1200.nc\n",
      "ERA5-LAND_AN_20220509_1200.nc\n",
      "ERA5-LAND_AN_20220510_1200.nc\n",
      "ERA5-LAND_AN_20220511_1200.nc\n",
      "ERA5-LAND_AN_20220512_1200.nc\n",
      "ERA5-LAND_AN_20220513_1200.nc\n",
      "ERA5-LAND_AN_20220514_1200.nc\n",
      "ERA5-LAND_AN_20220515_1200.nc\n",
      "ERA5-LAND_AN_20220516_1200.nc\n",
      "ERA5-LAND_AN_20220517_1200.nc\n",
      "ERA5-LAND_AN_20220518_1200.nc\n",
      "ERA5-LAND_AN_20220519_1200.nc\n",
      "ERA5-LAND_AN_20220520_1200.nc\n",
      "ERA5-LAND_AN_20220521_1200.nc\n",
      "ERA5-LAND_AN_20220522_1200.nc\n",
      "ERA5-LAND_AN_20220523_1200.nc\n",
      "ERA5-LAND_AN_20220524_1200.nc\n",
      "ERA5-LAND_AN_20220525_1200.nc\n",
      "ERA5-LAND_AN_20220526_1200.nc\n",
      "ERA5-LAND_AN_20220527_1200.nc\n",
      "ERA5-LAND_AN_20220528_1200.nc\n",
      "ERA5-LAND_AN_20220529_1200.nc\n",
      "ERA5-LAND_AN_20220530_1200.nc\n",
      "ERA5-LAND_AN_20220531_1200.nc\n",
      "ERA5-LAND_AN_20220601_1200.nc\n",
      "ERA5-LAND_AN_20220602_1200.nc\n",
      "ERA5-LAND_AN_20220603_1200.nc\n",
      "ERA5-LAND_AN_20220604_1200.nc\n",
      "ERA5-LAND_AN_20220605_1200.nc\n",
      "ERA5-LAND_AN_20220606_1200.nc\n",
      "ERA5-LAND_AN_20220607_1200.nc\n",
      "ERA5-LAND_AN_20220608_1200.nc\n",
      "ERA5-LAND_AN_20220609_1200.nc\n",
      "ERA5-LAND_AN_20220610_1200.nc\n",
      "ERA5-LAND_AN_20220611_1200.nc\n",
      "ERA5-LAND_AN_20220612_1200.nc\n",
      "ERA5-LAND_AN_20220613_1200.nc\n",
      "ERA5-LAND_AN_20220614_1200.nc\n",
      "ERA5-LAND_AN_20220615_1200.nc\n",
      "ERA5-LAND_AN_20220616_1200.nc\n",
      "ERA5-LAND_AN_20220617_1200.nc\n",
      "ERA5-LAND_AN_20220618_1200.nc\n",
      "ERA5-LAND_AN_20220619_1200.nc\n",
      "ERA5-LAND_AN_20220620_1200.nc\n",
      "ERA5-LAND_AN_20220621_1200.nc\n",
      "ERA5-LAND_AN_20220622_1200.nc\n",
      "ERA5-LAND_AN_20220623_1200.nc\n",
      "ERA5-LAND_AN_20220624_1200.nc\n",
      "ERA5-LAND_AN_20220625_1200.nc\n",
      "ERA5-LAND_AN_20220626_1200.nc\n",
      "ERA5-LAND_AN_20220627_1200.nc\n",
      "ERA5-LAND_AN_20220628_1200.nc\n",
      "ERA5-LAND_AN_20220629_1200.nc\n",
      "ERA5-LAND_AN_20220630_1200.nc\n",
      "ERA5-LAND_AN_20220701_1200.nc\n",
      "ERA5-LAND_AN_20220702_1200.nc\n",
      "ERA5-LAND_AN_20220703_1200.nc\n",
      "ERA5-LAND_AN_20220704_1200.nc\n",
      "ERA5-LAND_AN_20220705_1200.nc\n",
      "ERA5-LAND_AN_20220706_1200.nc\n",
      "ERA5-LAND_AN_20220707_1200.nc\n",
      "ERA5-LAND_AN_20220708_1200.nc\n",
      "ERA5-LAND_AN_20220709_1200.nc\n",
      "ERA5-LAND_AN_20220710_1200.nc\n",
      "ERA5-LAND_AN_20220711_1200.nc\n",
      "ERA5-LAND_AN_20220712_1200.nc\n",
      "ERA5-LAND_AN_20220713_1200.nc\n",
      "ERA5-LAND_AN_20220714_1200.nc\n",
      "ERA5-LAND_AN_20220715_1200.nc\n",
      "ERA5-LAND_AN_20220716_1200.nc\n",
      "ERA5-LAND_AN_20220717_1200.nc\n",
      "ERA5-LAND_AN_20220718_1200.nc\n",
      "ERA5-LAND_AN_20220719_1200.nc\n",
      "ERA5-LAND_AN_20220720_1200.nc\n",
      "ERA5-LAND_AN_20220721_1200.nc\n",
      "ERA5-LAND_AN_20220722_1200.nc\n",
      "ERA5-LAND_AN_20220723_1200.nc\n",
      "ERA5-LAND_AN_20220724_1200.nc\n",
      "ERA5-LAND_AN_20220725_1200.nc\n",
      "ERA5-LAND_AN_20220726_1200.nc\n",
      "ERA5-LAND_AN_20220727_1200.nc\n",
      "ERA5-LAND_AN_20220728_1200.nc\n",
      "ERA5-LAND_AN_20220729_1200.nc\n",
      "ERA5-LAND_AN_20220730_1200.nc\n",
      "ERA5-LAND_AN_20220731_1200.nc\n",
      "ERA5-LAND_AN_20220801_1200.nc\n",
      "ERA5-LAND_AN_20220802_1200.nc\n",
      "ERA5-LAND_AN_20220803_1200.nc\n",
      "ERA5-LAND_AN_20220804_1200.nc\n",
      "ERA5-LAND_AN_20220805_1200.nc\n",
      "ERA5-LAND_AN_20220806_1200.nc\n",
      "ERA5-LAND_AN_20220807_1200.nc\n",
      "ERA5-LAND_AN_20220808_1200.nc\n",
      "ERA5-LAND_AN_20220809_1200.nc\n",
      "ERA5-LAND_AN_20220810_1200.nc\n",
      "ERA5-LAND_AN_20220811_1200.nc\n",
      "ERA5-LAND_AN_20220812_1200.nc\n",
      "ERA5-LAND_AN_20220813_1200.nc\n",
      "ERA5-LAND_AN_20220814_1200.nc\n",
      "ERA5-LAND_AN_20220815_1200.nc\n",
      "ERA5-LAND_AN_20220816_1200.nc\n",
      "ERA5-LAND_AN_20220817_1200.nc\n",
      "ERA5-LAND_AN_20220818_1200.nc\n",
      "ERA5-LAND_AN_20220819_1200.nc\n",
      "ERA5-LAND_AN_20220820_1200.nc\n",
      "ERA5-LAND_AN_20220821_1200.nc\n",
      "ERA5-LAND_AN_20220822_1200.nc\n",
      "ERA5-LAND_AN_20220823_1200.nc\n",
      "ERA5-LAND_AN_20220824_1200.nc\n",
      "ERA5-LAND_AN_20220825_1200.nc\n",
      "ERA5-LAND_AN_20220826_1200.nc\n",
      "ERA5-LAND_AN_20220827_1200.nc\n",
      "ERA5-LAND_AN_20220828_1200.nc\n",
      "ERA5-LAND_AN_20220829_1200.nc\n",
      "ERA5-LAND_AN_20220830_1200.nc\n",
      "ERA5-LAND_AN_20220831_1200.nc\n",
      "ERA5-LAND_AN_20220901_1200.nc\n",
      "ERA5-LAND_AN_20220902_1200.nc\n",
      "ERA5-LAND_AN_20220903_1200.nc\n",
      "ERA5-LAND_AN_20220904_1200.nc\n",
      "ERA5-LAND_AN_20220905_1200.nc\n",
      "ERA5-LAND_AN_20220906_1200.nc\n",
      "ERA5-LAND_AN_20220907_1200.nc\n",
      "ERA5-LAND_AN_20220908_1200.nc\n",
      "ERA5-LAND_AN_20220909_1200.nc\n",
      "ERA5-LAND_AN_20220910_1200.nc\n",
      "ERA5-LAND_AN_20220911_1200.nc\n",
      "ERA5-LAND_AN_20220912_1200.nc\n",
      "ERA5-LAND_AN_20220913_1200.nc\n",
      "ERA5-LAND_AN_20220914_1200.nc\n",
      "ERA5-LAND_AN_20220915_1200.nc\n",
      "ERA5-LAND_AN_20220916_1200.nc\n",
      "ERA5-LAND_AN_20220917_1200.nc\n",
      "ERA5-LAND_AN_20220918_1200.nc\n",
      "ERA5-LAND_AN_20220919_1200.nc\n",
      "ERA5-LAND_AN_20220920_1200.nc\n",
      "ERA5-LAND_AN_20220921_1200.nc\n",
      "ERA5-LAND_AN_20220922_1200.nc\n",
      "ERA5-LAND_AN_20220923_1200.nc\n",
      "ERA5-LAND_AN_20220924_1200.nc\n",
      "ERA5-LAND_AN_20220925_1200.nc\n",
      "ERA5-LAND_AN_20220926_1200.nc\n",
      "ERA5-LAND_AN_20220927_1200.nc\n",
      "ERA5-LAND_AN_20220928_1200.nc\n",
      "ERA5-LAND_AN_20220929_1200.nc\n",
      "ERA5-LAND_AN_20220930_1200.nc\n",
      "ERA5-LAND_AN_20221001_1200.nc\n",
      "ERA5-LAND_AN_20221002_1200.nc\n",
      "ERA5-LAND_AN_20221003_1200.nc\n",
      "ERA5-LAND_AN_20221004_1200.nc\n",
      "ERA5-LAND_AN_20221005_1200.nc\n",
      "ERA5-LAND_AN_20221006_1200.nc\n",
      "ERA5-LAND_AN_20221007_1200.nc\n",
      "ERA5-LAND_AN_20221008_1200.nc\n",
      "ERA5-LAND_AN_20221009_1200.nc\n",
      "ERA5-LAND_AN_20221010_1200.nc\n",
      "ERA5-LAND_AN_20221011_1200.nc\n",
      "ERA5-LAND_AN_20221012_1200.nc\n",
      "ERA5-LAND_AN_20221013_1200.nc\n",
      "ERA5-LAND_AN_20221014_1200.nc\n",
      "ERA5-LAND_AN_20221015_1200.nc\n",
      "ERA5-LAND_AN_20221016_1200.nc\n",
      "ERA5-LAND_AN_20221017_1200.nc\n",
      "ERA5-LAND_AN_20221018_1200.nc\n",
      "ERA5-LAND_AN_20221019_1200.nc\n",
      "ERA5-LAND_AN_20221020_1200.nc\n",
      "ERA5-LAND_AN_20221021_1200.nc\n",
      "ERA5-LAND_AN_20221022_1200.nc\n",
      "ERA5-LAND_AN_20221023_1200.nc\n",
      "ERA5-LAND_AN_20221024_1200.nc\n",
      "ERA5-LAND_AN_20221025_1200.nc\n",
      "ERA5-LAND_AN_20221026_1200.nc\n",
      "ERA5-LAND_AN_20221027_1200.nc\n",
      "ERA5-LAND_AN_20221028_1200.nc\n",
      "ERA5-LAND_AN_20221029_1200.nc\n",
      "ERA5-LAND_AN_20221030_1200.nc\n",
      "ERA5-LAND_AN_20221031_1200.nc\n",
      "ERA5-LAND_AN_20221101_1200.nc\n",
      "ERA5-LAND_AN_20221102_1200.nc\n",
      "ERA5-LAND_AN_20221103_1200.nc\n",
      "ERA5-LAND_AN_20221104_1200.nc\n",
      "ERA5-LAND_AN_20221105_1200.nc\n",
      "ERA5-LAND_AN_20221106_1200.nc\n",
      "ERA5-LAND_AN_20221107_1200.nc\n",
      "ERA5-LAND_AN_20221108_1200.nc\n",
      "ERA5-LAND_AN_20221109_1200.nc\n",
      "ERA5-LAND_AN_20221110_1200.nc\n",
      "ERA5-LAND_AN_20221111_1200.nc\n",
      "ERA5-LAND_AN_20221112_1200.nc\n",
      "ERA5-LAND_AN_20221113_1200.nc\n",
      "ERA5-LAND_AN_20221114_1200.nc\n",
      "ERA5-LAND_AN_20221115_1200.nc\n",
      "ERA5-LAND_AN_20221116_1200.nc\n",
      "ERA5-LAND_AN_20221117_1200.nc\n",
      "ERA5-LAND_AN_20221118_1200.nc\n",
      "ERA5-LAND_AN_20221119_1200.nc\n",
      "ERA5-LAND_AN_20221120_1200.nc\n",
      "ERA5-LAND_AN_20221121_1200.nc\n",
      "ERA5-LAND_AN_20221122_1200.nc\n",
      "ERA5-LAND_AN_20221123_1200.nc\n",
      "ERA5-LAND_AN_20221124_1200.nc\n",
      "ERA5-LAND_AN_20221125_1200.nc\n",
      "ERA5-LAND_AN_20221126_1200.nc\n",
      "ERA5-LAND_AN_20221127_1200.nc\n",
      "ERA5-LAND_AN_20221128_1200.nc\n",
      "ERA5-LAND_AN_20221129_1200.nc\n",
      "ERA5-LAND_AN_20221130_1200.nc\n",
      "{product}_AN_20221201_1200.nc\n",
      "{product}_AN_20221202_1200.nc\n",
      "{product}_AN_20221203_1200.nc\n",
      "{product}_AN_20221204_1200.nc\n",
      "{product}_AN_20221205_1200.nc\n",
      "{product}_AN_20221206_1200.nc\n",
      "ERA5-LAND_AN_20221207_1200.nc\n",
      "ERA5-LAND_AN_20221208_1200.nc\n",
      "ERA5-LAND_AN_20221209_1200.nc\n",
      "ERA5-LAND_AN_20221210_1200.nc\n",
      "ERA5-LAND_AN_20221211_1200.nc\n",
      "ERA5-LAND_AN_20221212_1200.nc\n",
      "ERA5-LAND_AN_20221213_1200.nc\n",
      "ERA5-LAND_AN_20221214_1200.nc\n",
      "ERA5-LAND_AN_20221215_1200.nc\n",
      "ERA5-LAND_AN_20221216_1200.nc\n",
      "ERA5-LAND_AN_20221217_1200.nc\n",
      "ERA5-LAND_AN_20221218_1200.nc\n",
      "ERA5-LAND_AN_20221219_1200.nc\n",
      "ERA5-LAND_AN_20221220_1200.nc\n",
      "ERA5-LAND_AN_20221221_1200.nc\n",
      "ERA5-LAND_AN_20221222_1200.nc\n",
      "ERA5-LAND_AN_20221223_1200.nc\n",
      "ERA5-LAND_AN_20221224_1200.nc\n",
      "ERA5-LAND_AN_20221225_1200.nc\n",
      "ERA5-LAND_AN_20221226_1200.nc\n",
      "ERA5-LAND_AN_20221227_1200.nc\n",
      "ERA5-LAND_AN_20221228_1200.nc\n",
      "ERA5-LAND_AN_20221229_1200.nc\n",
      "ERA5-LAND_AN_20221230_1200.nc\n",
      "ERA5-LAND_AN_20221231_1200.nc\n"
     ]
    },
    {
     "ename": "PermissionError",
     "evalue": "[Errno 13] Permission denied: '/shares/npande/climers/Datapool/ECMWF_reanalysis/01_raw/ERA5-Land/datasets/images/2022/data/stacked.nc'",
     "output_type": "error",
     "traceback": [
      "\u001b[0;31m---------------------------------------------------------------------------\u001b[0m",
      "\u001b[0;31mKeyError\u001b[0m                                  Traceback (most recent call last)",
      "File \u001b[0;32m~/furnaces-main/env/lib/python3.10/site-packages/xarray/backends/file_manager.py:210\u001b[0m, in \u001b[0;36mCachingFileManager._acquire_with_cache_info\u001b[0;34m(self, needs_lock)\u001b[0m\n\u001b[1;32m    209\u001b[0m \u001b[39mtry\u001b[39;00m:\n\u001b[0;32m--> 210\u001b[0m     file \u001b[39m=\u001b[39m \u001b[39mself\u001b[39;49m\u001b[39m.\u001b[39;49m_cache[\u001b[39mself\u001b[39;49m\u001b[39m.\u001b[39;49m_key]\n\u001b[1;32m    211\u001b[0m \u001b[39mexcept\u001b[39;00m \u001b[39mKeyError\u001b[39;00m:\n",
      "File \u001b[0;32m~/furnaces-main/env/lib/python3.10/site-packages/xarray/backends/lru_cache.py:56\u001b[0m, in \u001b[0;36mLRUCache.__getitem__\u001b[0;34m(self, key)\u001b[0m\n\u001b[1;32m     55\u001b[0m \u001b[39mwith\u001b[39;00m \u001b[39mself\u001b[39m\u001b[39m.\u001b[39m_lock:\n\u001b[0;32m---> 56\u001b[0m     value \u001b[39m=\u001b[39m \u001b[39mself\u001b[39;49m\u001b[39m.\u001b[39;49m_cache[key]\n\u001b[1;32m     57\u001b[0m     \u001b[39mself\u001b[39m\u001b[39m.\u001b[39m_cache\u001b[39m.\u001b[39mmove_to_end(key)\n",
      "\u001b[0;31mKeyError\u001b[0m: [<class 'netCDF4._netCDF4.Dataset'>, ('/shares/npande/climers/Datapool/ECMWF_reanalysis/01_raw/ERA5-Land/datasets/images/2022/data/stacked.nc',), 'a', (('clobber', True), ('diskless', False), ('format', 'NETCDF4'), ('persist', False)), '845f8a22-7b95-4e32-8044-78c9509a1f55']",
      "\nDuring handling of the above exception, another exception occurred:\n",
      "\u001b[0;31mPermissionError\u001b[0m                           Traceback (most recent call last)",
      "Cell \u001b[0;32mIn[1], line 39\u001b[0m\n\u001b[1;32m     36\u001b[0m ds_concat \u001b[39m=\u001b[39m xr\u001b[39m.\u001b[39mconcat(ds_list, dim\u001b[39m=\u001b[39m\u001b[39m'\u001b[39m\u001b[39mtime\u001b[39m\u001b[39m'\u001b[39m)\n\u001b[1;32m     38\u001b[0m \u001b[39m# Save the concatenated dataset as a new file\u001b[39;00m\n\u001b[0;32m---> 39\u001b[0m ds_concat\u001b[39m.\u001b[39;49mto_netcdf(\u001b[39m'\u001b[39;49m\u001b[39m./data/stacked.nc\u001b[39;49m\u001b[39m'\u001b[39;49m)\n",
      "File \u001b[0;32m~/furnaces-main/env/lib/python3.10/site-packages/xarray/core/dataset.py:1911\u001b[0m, in \u001b[0;36mDataset.to_netcdf\u001b[0;34m(self, path, mode, format, group, engine, encoding, unlimited_dims, compute, invalid_netcdf)\u001b[0m\n\u001b[1;32m   1908\u001b[0m     encoding \u001b[39m=\u001b[39m {}\n\u001b[1;32m   1909\u001b[0m \u001b[39mfrom\u001b[39;00m \u001b[39mxarray\u001b[39;00m\u001b[39m.\u001b[39;00m\u001b[39mbackends\u001b[39;00m\u001b[39m.\u001b[39;00m\u001b[39mapi\u001b[39;00m \u001b[39mimport\u001b[39;00m to_netcdf\n\u001b[0;32m-> 1911\u001b[0m \u001b[39mreturn\u001b[39;00m to_netcdf(  \u001b[39m# type: ignore  # mypy cannot resolve the overloads:(\u001b[39;49;00m\n\u001b[1;32m   1912\u001b[0m     \u001b[39mself\u001b[39;49m,\n\u001b[1;32m   1913\u001b[0m     path,\n\u001b[1;32m   1914\u001b[0m     mode\u001b[39m=\u001b[39;49mmode,\n\u001b[1;32m   1915\u001b[0m     \u001b[39mformat\u001b[39;49m\u001b[39m=\u001b[39;49m\u001b[39mformat\u001b[39;49m,\n\u001b[1;32m   1916\u001b[0m     group\u001b[39m=\u001b[39;49mgroup,\n\u001b[1;32m   1917\u001b[0m     engine\u001b[39m=\u001b[39;49mengine,\n\u001b[1;32m   1918\u001b[0m     encoding\u001b[39m=\u001b[39;49mencoding,\n\u001b[1;32m   1919\u001b[0m     unlimited_dims\u001b[39m=\u001b[39;49munlimited_dims,\n\u001b[1;32m   1920\u001b[0m     compute\u001b[39m=\u001b[39;49mcompute,\n\u001b[1;32m   1921\u001b[0m     multifile\u001b[39m=\u001b[39;49m\u001b[39mFalse\u001b[39;49;00m,\n\u001b[1;32m   1922\u001b[0m     invalid_netcdf\u001b[39m=\u001b[39;49minvalid_netcdf,\n\u001b[1;32m   1923\u001b[0m )\n",
      "File \u001b[0;32m~/furnaces-main/env/lib/python3.10/site-packages/xarray/backends/api.py:1200\u001b[0m, in \u001b[0;36mto_netcdf\u001b[0;34m(dataset, path_or_file, mode, format, group, engine, encoding, unlimited_dims, compute, multifile, invalid_netcdf)\u001b[0m\n\u001b[1;32m   1196\u001b[0m     \u001b[39melse\u001b[39;00m:\n\u001b[1;32m   1197\u001b[0m         \u001b[39mraise\u001b[39;00m \u001b[39mValueError\u001b[39;00m(\n\u001b[1;32m   1198\u001b[0m             \u001b[39mf\u001b[39m\u001b[39m\"\u001b[39m\u001b[39munrecognized option \u001b[39m\u001b[39m'\u001b[39m\u001b[39minvalid_netcdf\u001b[39m\u001b[39m'\u001b[39m\u001b[39m for engine \u001b[39m\u001b[39m{\u001b[39;00mengine\u001b[39m}\u001b[39;00m\u001b[39m\"\u001b[39m\n\u001b[1;32m   1199\u001b[0m         )\n\u001b[0;32m-> 1200\u001b[0m store \u001b[39m=\u001b[39m store_open(target, mode, \u001b[39mformat\u001b[39;49m, group, \u001b[39m*\u001b[39;49m\u001b[39m*\u001b[39;49mkwargs)\n\u001b[1;32m   1202\u001b[0m \u001b[39mif\u001b[39;00m unlimited_dims \u001b[39mis\u001b[39;00m \u001b[39mNone\u001b[39;00m:\n\u001b[1;32m   1203\u001b[0m     unlimited_dims \u001b[39m=\u001b[39m dataset\u001b[39m.\u001b[39mencoding\u001b[39m.\u001b[39mget(\u001b[39m\"\u001b[39m\u001b[39munlimited_dims\u001b[39m\u001b[39m\"\u001b[39m, \u001b[39mNone\u001b[39;00m)\n",
      "File \u001b[0;32m~/furnaces-main/env/lib/python3.10/site-packages/xarray/backends/netCDF4_.py:382\u001b[0m, in \u001b[0;36mNetCDF4DataStore.open\u001b[0;34m(cls, filename, mode, format, group, clobber, diskless, persist, lock, lock_maker, autoclose)\u001b[0m\n\u001b[1;32m    376\u001b[0m kwargs \u001b[39m=\u001b[39m \u001b[39mdict\u001b[39m(\n\u001b[1;32m    377\u001b[0m     clobber\u001b[39m=\u001b[39mclobber, diskless\u001b[39m=\u001b[39mdiskless, persist\u001b[39m=\u001b[39mpersist, \u001b[39mformat\u001b[39m\u001b[39m=\u001b[39m\u001b[39mformat\u001b[39m\n\u001b[1;32m    378\u001b[0m )\n\u001b[1;32m    379\u001b[0m manager \u001b[39m=\u001b[39m CachingFileManager(\n\u001b[1;32m    380\u001b[0m     netCDF4\u001b[39m.\u001b[39mDataset, filename, mode\u001b[39m=\u001b[39mmode, kwargs\u001b[39m=\u001b[39mkwargs\n\u001b[1;32m    381\u001b[0m )\n\u001b[0;32m--> 382\u001b[0m \u001b[39mreturn\u001b[39;00m \u001b[39mcls\u001b[39;49m(manager, group\u001b[39m=\u001b[39;49mgroup, mode\u001b[39m=\u001b[39;49mmode, lock\u001b[39m=\u001b[39;49mlock, autoclose\u001b[39m=\u001b[39;49mautoclose)\n",
      "File \u001b[0;32m~/furnaces-main/env/lib/python3.10/site-packages/xarray/backends/netCDF4_.py:329\u001b[0m, in \u001b[0;36mNetCDF4DataStore.__init__\u001b[0;34m(self, manager, group, mode, lock, autoclose)\u001b[0m\n\u001b[1;32m    327\u001b[0m \u001b[39mself\u001b[39m\u001b[39m.\u001b[39m_group \u001b[39m=\u001b[39m group\n\u001b[1;32m    328\u001b[0m \u001b[39mself\u001b[39m\u001b[39m.\u001b[39m_mode \u001b[39m=\u001b[39m mode\n\u001b[0;32m--> 329\u001b[0m \u001b[39mself\u001b[39m\u001b[39m.\u001b[39mformat \u001b[39m=\u001b[39m \u001b[39mself\u001b[39;49m\u001b[39m.\u001b[39;49mds\u001b[39m.\u001b[39mdata_model\n\u001b[1;32m    330\u001b[0m \u001b[39mself\u001b[39m\u001b[39m.\u001b[39m_filename \u001b[39m=\u001b[39m \u001b[39mself\u001b[39m\u001b[39m.\u001b[39mds\u001b[39m.\u001b[39mfilepath()\n\u001b[1;32m    331\u001b[0m \u001b[39mself\u001b[39m\u001b[39m.\u001b[39mis_remote \u001b[39m=\u001b[39m is_remote_uri(\u001b[39mself\u001b[39m\u001b[39m.\u001b[39m_filename)\n",
      "File \u001b[0;32m~/furnaces-main/env/lib/python3.10/site-packages/xarray/backends/netCDF4_.py:391\u001b[0m, in \u001b[0;36mNetCDF4DataStore.ds\u001b[0;34m(self)\u001b[0m\n\u001b[1;32m    389\u001b[0m \u001b[39m@property\u001b[39m\n\u001b[1;32m    390\u001b[0m \u001b[39mdef\u001b[39;00m \u001b[39mds\u001b[39m(\u001b[39mself\u001b[39m):\n\u001b[0;32m--> 391\u001b[0m     \u001b[39mreturn\u001b[39;00m \u001b[39mself\u001b[39;49m\u001b[39m.\u001b[39;49m_acquire()\n",
      "File \u001b[0;32m~/furnaces-main/env/lib/python3.10/site-packages/xarray/backends/netCDF4_.py:385\u001b[0m, in \u001b[0;36mNetCDF4DataStore._acquire\u001b[0;34m(self, needs_lock)\u001b[0m\n\u001b[1;32m    384\u001b[0m \u001b[39mdef\u001b[39;00m \u001b[39m_acquire\u001b[39m(\u001b[39mself\u001b[39m, needs_lock\u001b[39m=\u001b[39m\u001b[39mTrue\u001b[39;00m):\n\u001b[0;32m--> 385\u001b[0m     \u001b[39mwith\u001b[39;00m \u001b[39mself\u001b[39m\u001b[39m.\u001b[39m_manager\u001b[39m.\u001b[39macquire_context(needs_lock) \u001b[39mas\u001b[39;00m root:\n\u001b[1;32m    386\u001b[0m         ds \u001b[39m=\u001b[39m _nc4_require_group(root, \u001b[39mself\u001b[39m\u001b[39m.\u001b[39m_group, \u001b[39mself\u001b[39m\u001b[39m.\u001b[39m_mode)\n\u001b[1;32m    387\u001b[0m     \u001b[39mreturn\u001b[39;00m ds\n",
      "File \u001b[0;32m/usr/lib/python3.10/contextlib.py:135\u001b[0m, in \u001b[0;36m_GeneratorContextManager.__enter__\u001b[0;34m(self)\u001b[0m\n\u001b[1;32m    133\u001b[0m \u001b[39mdel\u001b[39;00m \u001b[39mself\u001b[39m\u001b[39m.\u001b[39margs, \u001b[39mself\u001b[39m\u001b[39m.\u001b[39mkwds, \u001b[39mself\u001b[39m\u001b[39m.\u001b[39mfunc\n\u001b[1;32m    134\u001b[0m \u001b[39mtry\u001b[39;00m:\n\u001b[0;32m--> 135\u001b[0m     \u001b[39mreturn\u001b[39;00m \u001b[39mnext\u001b[39;49m(\u001b[39mself\u001b[39;49m\u001b[39m.\u001b[39;49mgen)\n\u001b[1;32m    136\u001b[0m \u001b[39mexcept\u001b[39;00m \u001b[39mStopIteration\u001b[39;00m:\n\u001b[1;32m    137\u001b[0m     \u001b[39mraise\u001b[39;00m \u001b[39mRuntimeError\u001b[39;00m(\u001b[39m\"\u001b[39m\u001b[39mgenerator didn\u001b[39m\u001b[39m'\u001b[39m\u001b[39mt yield\u001b[39m\u001b[39m\"\u001b[39m) \u001b[39mfrom\u001b[39;00m \u001b[39mNone\u001b[39m\n",
      "File \u001b[0;32m~/furnaces-main/env/lib/python3.10/site-packages/xarray/backends/file_manager.py:198\u001b[0m, in \u001b[0;36mCachingFileManager.acquire_context\u001b[0;34m(self, needs_lock)\u001b[0m\n\u001b[1;32m    195\u001b[0m \u001b[39m@contextlib\u001b[39m\u001b[39m.\u001b[39mcontextmanager\n\u001b[1;32m    196\u001b[0m \u001b[39mdef\u001b[39;00m \u001b[39macquire_context\u001b[39m(\u001b[39mself\u001b[39m, needs_lock\u001b[39m=\u001b[39m\u001b[39mTrue\u001b[39;00m):\n\u001b[1;32m    197\u001b[0m \u001b[39m    \u001b[39m\u001b[39m\"\"\"Context manager for acquiring a file.\"\"\"\u001b[39;00m\n\u001b[0;32m--> 198\u001b[0m     file, cached \u001b[39m=\u001b[39m \u001b[39mself\u001b[39;49m\u001b[39m.\u001b[39;49m_acquire_with_cache_info(needs_lock)\n\u001b[1;32m    199\u001b[0m     \u001b[39mtry\u001b[39;00m:\n\u001b[1;32m    200\u001b[0m         \u001b[39myield\u001b[39;00m file\n",
      "File \u001b[0;32m~/furnaces-main/env/lib/python3.10/site-packages/xarray/backends/file_manager.py:216\u001b[0m, in \u001b[0;36mCachingFileManager._acquire_with_cache_info\u001b[0;34m(self, needs_lock)\u001b[0m\n\u001b[1;32m    214\u001b[0m     kwargs \u001b[39m=\u001b[39m kwargs\u001b[39m.\u001b[39mcopy()\n\u001b[1;32m    215\u001b[0m     kwargs[\u001b[39m\"\u001b[39m\u001b[39mmode\u001b[39m\u001b[39m\"\u001b[39m] \u001b[39m=\u001b[39m \u001b[39mself\u001b[39m\u001b[39m.\u001b[39m_mode\n\u001b[0;32m--> 216\u001b[0m file \u001b[39m=\u001b[39m \u001b[39mself\u001b[39;49m\u001b[39m.\u001b[39;49m_opener(\u001b[39m*\u001b[39;49m\u001b[39mself\u001b[39;49m\u001b[39m.\u001b[39;49m_args, \u001b[39m*\u001b[39;49m\u001b[39m*\u001b[39;49mkwargs)\n\u001b[1;32m    217\u001b[0m \u001b[39mif\u001b[39;00m \u001b[39mself\u001b[39m\u001b[39m.\u001b[39m_mode \u001b[39m==\u001b[39m \u001b[39m\"\u001b[39m\u001b[39mw\u001b[39m\u001b[39m\"\u001b[39m:\n\u001b[1;32m    218\u001b[0m     \u001b[39m# ensure file doesn't get overridden when opened again\u001b[39;00m\n\u001b[1;32m    219\u001b[0m     \u001b[39mself\u001b[39m\u001b[39m.\u001b[39m_mode \u001b[39m=\u001b[39m \u001b[39m\"\u001b[39m\u001b[39ma\u001b[39m\u001b[39m\"\u001b[39m\n",
      "File \u001b[0;32msrc/netCDF4/_netCDF4.pyx:2449\u001b[0m, in \u001b[0;36mnetCDF4._netCDF4.Dataset.__init__\u001b[0;34m()\u001b[0m\n",
      "File \u001b[0;32msrc/netCDF4/_netCDF4.pyx:2012\u001b[0m, in \u001b[0;36mnetCDF4._netCDF4._ensure_nc_success\u001b[0;34m()\u001b[0m\n",
      "\u001b[0;31mPermissionError\u001b[0m: [Errno 13] Permission denied: '/shares/npande/climers/Datapool/ECMWF_reanalysis/01_raw/ERA5-Land/datasets/images/2022/data/stacked.nc'"
     ]
    }
   ],
   "source": [
    "import os\n",
    "import xarray as xr\n",
    "\n",
    "# Get the current directory\n",
    "dir = '/home/npande/shares/climers/Datapool/ECMWF_reanalysis/01_raw/ERA5-Land/datasets/images/2022/'\n",
    "\n",
    "# Create an empty list to store all the datasets\n",
    "ds_list = []\n",
    "\n",
    "# Loop through all folders between 001 and 365\n",
    "for i in range(1, 366):\n",
    "    # Get the folder name\n",
    "    folder_name = str(i).zfill(3)\n",
    "    \n",
    "    # Check if the folder exists\n",
    "    if os.path.exists(os.path.join(dir, folder_name)):\n",
    "        # Change to the folder\n",
    "        os.chdir(os.path.join(dir, folder_name))\n",
    "        \n",
    "        # Get the file ending with '1200.nc'\n",
    "        file_name = [f for f in os.listdir() if f.endswith('1200.nc')][0]\n",
    "        print(file_name)\n",
    "        # Load the file using NetCDF\n",
    "        ds = xr.open_dataset(file_name)\n",
    "        \n",
    "        # Take the following variables: swvl1, tp, strd, slt1, la1_hv+lai_lv, t2m\n",
    "        ds_new = ds[['swvl1', 'tp', 'strd', 'stl1', 'lai_hv','lai_lv', 't2m']]\n",
    "        \n",
    "        # Append the dataset to the list\n",
    "        ds_list.append(ds_new)\n",
    "        \n",
    "        # Change back to the original directory\n",
    "        os.chdir(dir)\n",
    "\n",
    "# Concatenate all the datasets along the time dimension\n",
    "ds_concat = xr.concat(ds_list, dim='time')\n",
    "\n",
    "# Save the concatenated dataset as a new file\n",
    "ds_concat.to_netcdf('./data/stacked.nc')"
   ]
  },
  {
   "cell_type": "code",
   "execution_count": 2,
   "metadata": {},
   "outputs": [],
   "source": [
    "ds_concat.to_netcdf('/home/npande/furnaces-main/data/stacked.nc')"
   ]
  },
  {
   "cell_type": "code",
   "execution_count": 4,
   "metadata": {},
   "outputs": [],
   "source": [
    "clim = xr.open_dataset('/home/npande/furnaces-main/data/ESA-CCI-SOILMOISTURE-LAND_AND_RAINFOREST_MASK-fv06.2.nc')"
   ]
  },
  {
   "cell_type": "code",
   "execution_count": 5,
   "metadata": {},
   "outputs": [],
   "source": [
    "mask = clim['climate_class'][:]"
   ]
  },
  {
   "cell_type": "code",
   "execution_count": 6,
   "metadata": {},
   "outputs": [],
   "source": [
    "import numpy as np\n",
    "test = np.where(mask<3)"
   ]
  },
  {
   "cell_type": "code",
   "execution_count": 7,
   "metadata": {},
   "outputs": [
    {
     "data": {
      "text/plain": [
       "(array([ 18,  18,  18, ..., 719, 719, 719]),\n",
       " array([ 115,  116,  117, ..., 1437, 1438, 1439]))"
      ]
     },
     "execution_count": 7,
     "metadata": {},
     "output_type": "execute_result"
    }
   ],
   "source": [
    "test"
   ]
  },
  {
   "cell_type": "code",
   "execution_count": 9,
   "metadata": {},
   "outputs": [],
   "source": [
    "lat = clim['lat'][:]\n",
    "lon = clim['lon'][:]"
   ]
  },
  {
   "cell_type": "code",
   "execution_count": 10,
   "metadata": {},
   "outputs": [
    {
     "data": {
      "text/html": [
       "<div><svg style=\"position: absolute; width: 0; height: 0; overflow: hidden\">\n",
       "<defs>\n",
       "<symbol id=\"icon-database\" viewBox=\"0 0 32 32\">\n",
       "<path d=\"M16 0c-8.837 0-16 2.239-16 5v4c0 2.761 7.163 5 16 5s16-2.239 16-5v-4c0-2.761-7.163-5-16-5z\"></path>\n",
       "<path d=\"M16 17c-8.837 0-16-2.239-16-5v6c0 2.761 7.163 5 16 5s16-2.239 16-5v-6c0 2.761-7.163 5-16 5z\"></path>\n",
       "<path d=\"M16 26c-8.837 0-16-2.239-16-5v6c0 2.761 7.163 5 16 5s16-2.239 16-5v-6c0 2.761-7.163 5-16 5z\"></path>\n",
       "</symbol>\n",
       "<symbol id=\"icon-file-text2\" viewBox=\"0 0 32 32\">\n",
       "<path d=\"M28.681 7.159c-0.694-0.947-1.662-2.053-2.724-3.116s-2.169-2.030-3.116-2.724c-1.612-1.182-2.393-1.319-2.841-1.319h-15.5c-1.378 0-2.5 1.121-2.5 2.5v27c0 1.378 1.122 2.5 2.5 2.5h23c1.378 0 2.5-1.122 2.5-2.5v-19.5c0-0.448-0.137-1.23-1.319-2.841zM24.543 5.457c0.959 0.959 1.712 1.825 2.268 2.543h-4.811v-4.811c0.718 0.556 1.584 1.309 2.543 2.268zM28 29.5c0 0.271-0.229 0.5-0.5 0.5h-23c-0.271 0-0.5-0.229-0.5-0.5v-27c0-0.271 0.229-0.5 0.5-0.5 0 0 15.499-0 15.5 0v7c0 0.552 0.448 1 1 1h7v19.5z\"></path>\n",
       "<path d=\"M23 26h-14c-0.552 0-1-0.448-1-1s0.448-1 1-1h14c0.552 0 1 0.448 1 1s-0.448 1-1 1z\"></path>\n",
       "<path d=\"M23 22h-14c-0.552 0-1-0.448-1-1s0.448-1 1-1h14c0.552 0 1 0.448 1 1s-0.448 1-1 1z\"></path>\n",
       "<path d=\"M23 18h-14c-0.552 0-1-0.448-1-1s0.448-1 1-1h14c0.552 0 1 0.448 1 1s-0.448 1-1 1z\"></path>\n",
       "</symbol>\n",
       "</defs>\n",
       "</svg>\n",
       "<style>/* CSS stylesheet for displaying xarray objects in jupyterlab.\n",
       " *\n",
       " */\n",
       "\n",
       ":root {\n",
       "  --xr-font-color0: var(--jp-content-font-color0, rgba(0, 0, 0, 1));\n",
       "  --xr-font-color2: var(--jp-content-font-color2, rgba(0, 0, 0, 0.54));\n",
       "  --xr-font-color3: var(--jp-content-font-color3, rgba(0, 0, 0, 0.38));\n",
       "  --xr-border-color: var(--jp-border-color2, #e0e0e0);\n",
       "  --xr-disabled-color: var(--jp-layout-color3, #bdbdbd);\n",
       "  --xr-background-color: var(--jp-layout-color0, white);\n",
       "  --xr-background-color-row-even: var(--jp-layout-color1, white);\n",
       "  --xr-background-color-row-odd: var(--jp-layout-color2, #eeeeee);\n",
       "}\n",
       "\n",
       "html[theme=dark],\n",
       "body[data-theme=dark],\n",
       "body.vscode-dark {\n",
       "  --xr-font-color0: rgba(255, 255, 255, 1);\n",
       "  --xr-font-color2: rgba(255, 255, 255, 0.54);\n",
       "  --xr-font-color3: rgba(255, 255, 255, 0.38);\n",
       "  --xr-border-color: #1F1F1F;\n",
       "  --xr-disabled-color: #515151;\n",
       "  --xr-background-color: #111111;\n",
       "  --xr-background-color-row-even: #111111;\n",
       "  --xr-background-color-row-odd: #313131;\n",
       "}\n",
       "\n",
       ".xr-wrap {\n",
       "  display: block !important;\n",
       "  min-width: 300px;\n",
       "  max-width: 700px;\n",
       "}\n",
       "\n",
       ".xr-text-repr-fallback {\n",
       "  /* fallback to plain text repr when CSS is not injected (untrusted notebook) */\n",
       "  display: none;\n",
       "}\n",
       "\n",
       ".xr-header {\n",
       "  padding-top: 6px;\n",
       "  padding-bottom: 6px;\n",
       "  margin-bottom: 4px;\n",
       "  border-bottom: solid 1px var(--xr-border-color);\n",
       "}\n",
       "\n",
       ".xr-header > div,\n",
       ".xr-header > ul {\n",
       "  display: inline;\n",
       "  margin-top: 0;\n",
       "  margin-bottom: 0;\n",
       "}\n",
       "\n",
       ".xr-obj-type,\n",
       ".xr-array-name {\n",
       "  margin-left: 2px;\n",
       "  margin-right: 10px;\n",
       "}\n",
       "\n",
       ".xr-obj-type {\n",
       "  color: var(--xr-font-color2);\n",
       "}\n",
       "\n",
       ".xr-sections {\n",
       "  padding-left: 0 !important;\n",
       "  display: grid;\n",
       "  grid-template-columns: 150px auto auto 1fr 20px 20px;\n",
       "}\n",
       "\n",
       ".xr-section-item {\n",
       "  display: contents;\n",
       "}\n",
       "\n",
       ".xr-section-item input {\n",
       "  display: none;\n",
       "}\n",
       "\n",
       ".xr-section-item input + label {\n",
       "  color: var(--xr-disabled-color);\n",
       "}\n",
       "\n",
       ".xr-section-item input:enabled + label {\n",
       "  cursor: pointer;\n",
       "  color: var(--xr-font-color2);\n",
       "}\n",
       "\n",
       ".xr-section-item input:enabled + label:hover {\n",
       "  color: var(--xr-font-color0);\n",
       "}\n",
       "\n",
       ".xr-section-summary {\n",
       "  grid-column: 1;\n",
       "  color: var(--xr-font-color2);\n",
       "  font-weight: 500;\n",
       "}\n",
       "\n",
       ".xr-section-summary > span {\n",
       "  display: inline-block;\n",
       "  padding-left: 0.5em;\n",
       "}\n",
       "\n",
       ".xr-section-summary-in:disabled + label {\n",
       "  color: var(--xr-font-color2);\n",
       "}\n",
       "\n",
       ".xr-section-summary-in + label:before {\n",
       "  display: inline-block;\n",
       "  content: '►';\n",
       "  font-size: 11px;\n",
       "  width: 15px;\n",
       "  text-align: center;\n",
       "}\n",
       "\n",
       ".xr-section-summary-in:disabled + label:before {\n",
       "  color: var(--xr-disabled-color);\n",
       "}\n",
       "\n",
       ".xr-section-summary-in:checked + label:before {\n",
       "  content: '▼';\n",
       "}\n",
       "\n",
       ".xr-section-summary-in:checked + label > span {\n",
       "  display: none;\n",
       "}\n",
       "\n",
       ".xr-section-summary,\n",
       ".xr-section-inline-details {\n",
       "  padding-top: 4px;\n",
       "  padding-bottom: 4px;\n",
       "}\n",
       "\n",
       ".xr-section-inline-details {\n",
       "  grid-column: 2 / -1;\n",
       "}\n",
       "\n",
       ".xr-section-details {\n",
       "  display: none;\n",
       "  grid-column: 1 / -1;\n",
       "  margin-bottom: 5px;\n",
       "}\n",
       "\n",
       ".xr-section-summary-in:checked ~ .xr-section-details {\n",
       "  display: contents;\n",
       "}\n",
       "\n",
       ".xr-array-wrap {\n",
       "  grid-column: 1 / -1;\n",
       "  display: grid;\n",
       "  grid-template-columns: 20px auto;\n",
       "}\n",
       "\n",
       ".xr-array-wrap > label {\n",
       "  grid-column: 1;\n",
       "  vertical-align: top;\n",
       "}\n",
       "\n",
       ".xr-preview {\n",
       "  color: var(--xr-font-color3);\n",
       "}\n",
       "\n",
       ".xr-array-preview,\n",
       ".xr-array-data {\n",
       "  padding: 0 5px !important;\n",
       "  grid-column: 2;\n",
       "}\n",
       "\n",
       ".xr-array-data,\n",
       ".xr-array-in:checked ~ .xr-array-preview {\n",
       "  display: none;\n",
       "}\n",
       "\n",
       ".xr-array-in:checked ~ .xr-array-data,\n",
       ".xr-array-preview {\n",
       "  display: inline-block;\n",
       "}\n",
       "\n",
       ".xr-dim-list {\n",
       "  display: inline-block !important;\n",
       "  list-style: none;\n",
       "  padding: 0 !important;\n",
       "  margin: 0;\n",
       "}\n",
       "\n",
       ".xr-dim-list li {\n",
       "  display: inline-block;\n",
       "  padding: 0;\n",
       "  margin: 0;\n",
       "}\n",
       "\n",
       ".xr-dim-list:before {\n",
       "  content: '(';\n",
       "}\n",
       "\n",
       ".xr-dim-list:after {\n",
       "  content: ')';\n",
       "}\n",
       "\n",
       ".xr-dim-list li:not(:last-child):after {\n",
       "  content: ',';\n",
       "  padding-right: 5px;\n",
       "}\n",
       "\n",
       ".xr-has-index {\n",
       "  font-weight: bold;\n",
       "}\n",
       "\n",
       ".xr-var-list,\n",
       ".xr-var-item {\n",
       "  display: contents;\n",
       "}\n",
       "\n",
       ".xr-var-item > div,\n",
       ".xr-var-item label,\n",
       ".xr-var-item > .xr-var-name span {\n",
       "  background-color: var(--xr-background-color-row-even);\n",
       "  margin-bottom: 0;\n",
       "}\n",
       "\n",
       ".xr-var-item > .xr-var-name:hover span {\n",
       "  padding-right: 5px;\n",
       "}\n",
       "\n",
       ".xr-var-list > li:nth-child(odd) > div,\n",
       ".xr-var-list > li:nth-child(odd) > label,\n",
       ".xr-var-list > li:nth-child(odd) > .xr-var-name span {\n",
       "  background-color: var(--xr-background-color-row-odd);\n",
       "}\n",
       "\n",
       ".xr-var-name {\n",
       "  grid-column: 1;\n",
       "}\n",
       "\n",
       ".xr-var-dims {\n",
       "  grid-column: 2;\n",
       "}\n",
       "\n",
       ".xr-var-dtype {\n",
       "  grid-column: 3;\n",
       "  text-align: right;\n",
       "  color: var(--xr-font-color2);\n",
       "}\n",
       "\n",
       ".xr-var-preview {\n",
       "  grid-column: 4;\n",
       "}\n",
       "\n",
       ".xr-index-preview {\n",
       "  grid-column: 2 / 5;\n",
       "  color: var(--xr-font-color2);\n",
       "}\n",
       "\n",
       ".xr-var-name,\n",
       ".xr-var-dims,\n",
       ".xr-var-dtype,\n",
       ".xr-preview,\n",
       ".xr-attrs dt {\n",
       "  white-space: nowrap;\n",
       "  overflow: hidden;\n",
       "  text-overflow: ellipsis;\n",
       "  padding-right: 10px;\n",
       "}\n",
       "\n",
       ".xr-var-name:hover,\n",
       ".xr-var-dims:hover,\n",
       ".xr-var-dtype:hover,\n",
       ".xr-attrs dt:hover {\n",
       "  overflow: visible;\n",
       "  width: auto;\n",
       "  z-index: 1;\n",
       "}\n",
       "\n",
       ".xr-var-attrs,\n",
       ".xr-var-data,\n",
       ".xr-index-data {\n",
       "  display: none;\n",
       "  background-color: var(--xr-background-color) !important;\n",
       "  padding-bottom: 5px !important;\n",
       "}\n",
       "\n",
       ".xr-var-attrs-in:checked ~ .xr-var-attrs,\n",
       ".xr-var-data-in:checked ~ .xr-var-data,\n",
       ".xr-index-data-in:checked ~ .xr-index-data {\n",
       "  display: block;\n",
       "}\n",
       "\n",
       ".xr-var-data > table {\n",
       "  float: right;\n",
       "}\n",
       "\n",
       ".xr-var-name span,\n",
       ".xr-var-data,\n",
       ".xr-index-name div,\n",
       ".xr-index-data,\n",
       ".xr-attrs {\n",
       "  padding-left: 25px !important;\n",
       "}\n",
       "\n",
       ".xr-attrs,\n",
       ".xr-var-attrs,\n",
       ".xr-var-data,\n",
       ".xr-index-data {\n",
       "  grid-column: 1 / -1;\n",
       "}\n",
       "\n",
       "dl.xr-attrs {\n",
       "  padding: 0;\n",
       "  margin: 0;\n",
       "  display: grid;\n",
       "  grid-template-columns: 125px auto;\n",
       "}\n",
       "\n",
       ".xr-attrs dt,\n",
       ".xr-attrs dd {\n",
       "  padding: 0;\n",
       "  margin: 0;\n",
       "  float: left;\n",
       "  padding-right: 10px;\n",
       "  width: auto;\n",
       "}\n",
       "\n",
       ".xr-attrs dt {\n",
       "  font-weight: normal;\n",
       "  grid-column: 1;\n",
       "}\n",
       "\n",
       ".xr-attrs dt:hover span {\n",
       "  display: inline-block;\n",
       "  background: var(--xr-background-color);\n",
       "  padding-right: 10px;\n",
       "}\n",
       "\n",
       ".xr-attrs dd {\n",
       "  grid-column: 2;\n",
       "  white-space: pre-wrap;\n",
       "  word-break: break-all;\n",
       "}\n",
       "\n",
       ".xr-icon-database,\n",
       ".xr-icon-file-text2,\n",
       ".xr-no-icon {\n",
       "  display: inline-block;\n",
       "  vertical-align: middle;\n",
       "  width: 1em;\n",
       "  height: 1.5em !important;\n",
       "  stroke-width: 0;\n",
       "  stroke: currentColor;\n",
       "  fill: currentColor;\n",
       "}\n",
       "</style><pre class='xr-text-repr-fallback'>&lt;xarray.DataArray &#x27;lat&#x27; (lat: 720)&gt;\n",
       "array([-89.875, -89.625, -89.375, ...,  89.375,  89.625,  89.875])\n",
       "Coordinates:\n",
       "  * lat      (lat) float64 -89.88 -89.62 -89.38 -89.12 ... 89.38 89.62 89.88\n",
       "Attributes:\n",
       "    long_name:      Latitude\n",
       "    units:          degree_north\n",
       "    standard_name:  latitude\n",
       "    valid_range:    [-90.  90.]</pre><div class='xr-wrap' style='display:none'><div class='xr-header'><div class='xr-obj-type'>xarray.DataArray</div><div class='xr-array-name'>'lat'</div><ul class='xr-dim-list'><li><span class='xr-has-index'>lat</span>: 720</li></ul></div><ul class='xr-sections'><li class='xr-section-item'><div class='xr-array-wrap'><input id='section-0497c99c-e54b-4ee6-a73d-ecfaf21d0b13' class='xr-array-in' type='checkbox' checked><label for='section-0497c99c-e54b-4ee6-a73d-ecfaf21d0b13' title='Show/hide data repr'><svg class='icon xr-icon-database'><use xlink:href='#icon-database'></use></svg></label><div class='xr-array-preview xr-preview'><span>-89.88 -89.62 -89.38 -89.12 -88.88 ... 88.88 89.12 89.38 89.62 89.88</span></div><div class='xr-array-data'><pre>array([-89.875, -89.625, -89.375, ...,  89.375,  89.625,  89.875])</pre></div></div></li><li class='xr-section-item'><input id='section-3e72c687-70c2-4c28-89f7-3183dc0b4b89' class='xr-section-summary-in' type='checkbox'  checked><label for='section-3e72c687-70c2-4c28-89f7-3183dc0b4b89' class='xr-section-summary' >Coordinates: <span>(1)</span></label><div class='xr-section-inline-details'></div><div class='xr-section-details'><ul class='xr-var-list'><li class='xr-var-item'><div class='xr-var-name'><span class='xr-has-index'>lat</span></div><div class='xr-var-dims'>(lat)</div><div class='xr-var-dtype'>float64</div><div class='xr-var-preview xr-preview'>-89.88 -89.62 ... 89.62 89.88</div><input id='attrs-c5b9c7f3-8c44-4811-91b4-9efc225375ab' class='xr-var-attrs-in' type='checkbox' ><label for='attrs-c5b9c7f3-8c44-4811-91b4-9efc225375ab' title='Show/Hide attributes'><svg class='icon xr-icon-file-text2'><use xlink:href='#icon-file-text2'></use></svg></label><input id='data-51ad472c-f84b-4c33-9417-c997a38573d4' class='xr-var-data-in' type='checkbox'><label for='data-51ad472c-f84b-4c33-9417-c997a38573d4' title='Show/Hide data repr'><svg class='icon xr-icon-database'><use xlink:href='#icon-database'></use></svg></label><div class='xr-var-attrs'><dl class='xr-attrs'><dt><span>long_name :</span></dt><dd>Latitude</dd><dt><span>units :</span></dt><dd>degree_north</dd><dt><span>standard_name :</span></dt><dd>latitude</dd><dt><span>valid_range :</span></dt><dd>[-90.  90.]</dd></dl></div><div class='xr-var-data'><pre>array([-89.875, -89.625, -89.375, ...,  89.375,  89.625,  89.875])</pre></div></li></ul></div></li><li class='xr-section-item'><input id='section-30683c44-6aed-4f7d-a301-69bb8352d0b9' class='xr-section-summary-in' type='checkbox'  ><label for='section-30683c44-6aed-4f7d-a301-69bb8352d0b9' class='xr-section-summary' >Indexes: <span>(1)</span></label><div class='xr-section-inline-details'></div><div class='xr-section-details'><ul class='xr-var-list'><li class='xr-var-item'><div class='xr-index-name'><div>lat</div></div><div class='xr-index-preview'>PandasIndex</div><div></div><input id='index-b22859eb-867d-49c9-a2ef-06bfc56dc36a' class='xr-index-data-in' type='checkbox'/><label for='index-b22859eb-867d-49c9-a2ef-06bfc56dc36a' title='Show/Hide index repr'><svg class='icon xr-icon-database'><use xlink:href='#icon-database'></use></svg></label><div class='xr-index-data'><pre>PandasIndex(Float64Index([-89.875, -89.625, -89.375, -89.125, -88.875, -88.625, -88.375,\n",
       "              -88.125, -87.875, -87.625,\n",
       "              ...\n",
       "               87.625,  87.875,  88.125,  88.375,  88.625,  88.875,  89.125,\n",
       "               89.375,  89.625,  89.875],\n",
       "             dtype=&#x27;float64&#x27;, name=&#x27;lat&#x27;, length=720))</pre></div></li></ul></div></li><li class='xr-section-item'><input id='section-47520f64-69a3-47b4-9ca3-88c9b0e785f2' class='xr-section-summary-in' type='checkbox'  checked><label for='section-47520f64-69a3-47b4-9ca3-88c9b0e785f2' class='xr-section-summary' >Attributes: <span>(4)</span></label><div class='xr-section-inline-details'></div><div class='xr-section-details'><dl class='xr-attrs'><dt><span>long_name :</span></dt><dd>Latitude</dd><dt><span>units :</span></dt><dd>degree_north</dd><dt><span>standard_name :</span></dt><dd>latitude</dd><dt><span>valid_range :</span></dt><dd>[-90.  90.]</dd></dl></div></li></ul></div></div>"
      ],
      "text/plain": [
       "<xarray.DataArray 'lat' (lat: 720)>\n",
       "array([-89.875, -89.625, -89.375, ...,  89.375,  89.625,  89.875])\n",
       "Coordinates:\n",
       "  * lat      (lat) float64 -89.88 -89.62 -89.38 -89.12 ... 89.38 89.62 89.88\n",
       "Attributes:\n",
       "    long_name:      Latitude\n",
       "    units:          degree_north\n",
       "    standard_name:  latitude\n",
       "    valid_range:    [-90.  90.]"
      ]
     },
     "execution_count": 10,
     "metadata": {},
     "output_type": "execute_result"
    }
   ],
   "source": [
    "lat"
   ]
  },
  {
   "cell_type": "code",
   "execution_count": 13,
   "metadata": {},
   "outputs": [],
   "source": [
    "mask_lat = lat[test[0]]"
   ]
  },
  {
   "cell_type": "code",
   "execution_count": 14,
   "metadata": {},
   "outputs": [
    {
     "data": {
      "text/plain": [
       "729947"
      ]
     },
     "execution_count": 14,
     "metadata": {},
     "output_type": "execute_result"
    }
   ],
   "source": [
    "len(test[0])"
   ]
  },
  {
   "cell_type": "code",
   "execution_count": 15,
   "metadata": {},
   "outputs": [
    {
     "data": {
      "text/plain": [
       "(729947,)"
      ]
     },
     "execution_count": 15,
     "metadata": {},
     "output_type": "execute_result"
    }
   ],
   "source": [
    "mask_lat.shape"
   ]
  },
  {
   "cell_type": "code",
   "execution_count": 16,
   "metadata": {},
   "outputs": [],
   "source": [
    "mask_lon = lon[test[1]]"
   ]
  },
  {
   "cell_type": "code",
   "execution_count": 2,
   "metadata": {},
   "outputs": [
    {
     "data": {
      "text/plain": [
       "(26378244, 30)"
      ]
     },
     "execution_count": 2,
     "metadata": {},
     "output_type": "execute_result"
    }
   ],
   "source": [
    "import numpy as np\n",
    "arr = np.load('../data/custom_median.npy')\n",
    "arr.shape"
   ]
  },
  {
   "cell_type": "code",
   "execution_count": 3,
   "metadata": {},
   "outputs": [],
   "source": [
    "col = np.load('../data/column_names.npy')\n",
    "lat = np.arange(90,-90,-0.25)\n",
    "lon = np.arange(-180,180,0.25)\n",
    "gfed = np.load('../data/gfed_regions.npy')\n",
    "shaf = np.where(gfed == 9)"
   ]
  },
  {
   "cell_type": "code",
   "execution_count": 4,
   "metadata": {},
   "outputs": [],
   "source": [
    "shaf_lat = lat[shaf[0]]\n",
    "shaf_lon = lon[shaf[1]]"
   ]
  },
  {
   "cell_type": "code",
   "execution_count": 5,
   "metadata": {},
   "outputs": [],
   "source": [
    "import pandas as pd\n",
    "df = pd.DataFrame(arr,columns=col)\n",
    "df = df.drop(df['lon 1']<shaf_lon.min())\n",
    "df = df.drop(df['lon 1']>shaf_lon.max())\n",
    "df = df.drop(df['lat 0']<shaf_lat.min())\n",
    "df = df.drop(df['lat 0']>shaf_lat.max())"
   ]
  },
  {
   "cell_type": "code",
   "execution_count": 2,
   "metadata": {},
   "outputs": [
    {
     "data": {
      "text/plain": [
       "(26378244, 30)"
      ]
     },
     "execution_count": 2,
     "metadata": {},
     "output_type": "execute_result"
    }
   ],
   "source": [
    "import numpy as np\n",
    "arr = np.load('../data/custom_median.npy')\n",
    "arr.shape"
   ]
  },
  {
   "cell_type": "code",
   "execution_count": 3,
   "metadata": {},
   "outputs": [
    {
     "data": {
      "text/plain": [
       "244243.0"
      ]
     },
     "execution_count": 3,
     "metadata": {},
     "output_type": "execute_result"
    }
   ],
   "source": [
    "arr.shape[0]/108"
   ]
  },
  {
   "cell_type": "code",
   "execution_count": 16,
   "metadata": {},
   "outputs": [
    {
     "data": {
      "text/plain": [
       "(26378244, 3)"
      ]
     },
     "execution_count": 16,
     "metadata": {},
     "output_type": "execute_result"
    }
   ],
   "source": [
    "year = arr[:,[0,1,15]]\n",
    "year.shape"
   ]
  },
  {
   "cell_type": "code",
   "execution_count": 17,
   "metadata": {},
   "outputs": [
    {
     "data": {
      "text/plain": [
       "(2930916, 3)"
      ]
     },
     "execution_count": 17,
     "metadata": {},
     "output_type": "execute_result"
    }
   ],
   "source": [
    "year = year[:244243*12,:]\n",
    "\n",
    "year.shape"
   ]
  },
  {
   "cell_type": "code",
   "execution_count": 18,
   "metadata": {},
   "outputs": [],
   "source": [
    "year= np.reshape(year,(-1,12,3))"
   ]
  },
  {
   "cell_type": "code",
   "execution_count": 19,
   "metadata": {},
   "outputs": [
    {
     "data": {
      "text/plain": [
       "(244243, 12, 3)"
      ]
     },
     "execution_count": 19,
     "metadata": {},
     "output_type": "execute_result"
    }
   ],
   "source": [
    "year.shape"
   ]
  },
  {
   "cell_type": "code",
   "execution_count": 20,
   "metadata": {},
   "outputs": [],
   "source": [
    "avg = np.mean(year, axis = 1)"
   ]
  },
  {
   "cell_type": "code",
   "execution_count": 21,
   "metadata": {},
   "outputs": [
    {
     "data": {
      "text/plain": [
       "(244243, 3)"
      ]
     },
     "execution_count": 21,
     "metadata": {},
     "output_type": "execute_result"
    }
   ],
   "source": [
    "avg.shape"
   ]
  },
  {
   "cell_type": "code",
   "execution_count": 22,
   "metadata": {},
   "outputs": [],
   "source": [
    "np.save('../data/ign',avg)"
   ]
  },
  {
   "cell_type": "code",
   "execution_count": null,
   "metadata": {},
   "outputs": [],
   "source": []
  }
 ],
 "metadata": {
  "kernelspec": {
   "display_name": "env",
   "language": "python",
   "name": "python3"
  },
  "language_info": {
   "codemirror_mode": {
    "name": "ipython",
    "version": 3
   },
   "file_extension": ".py",
   "mimetype": "text/x-python",
   "name": "python",
   "nbconvert_exporter": "python",
   "pygments_lexer": "ipython3",
   "version": "3.10.6"
  },
  "vscode": {
   "interpreter": {
    "hash": "38f9004154b59e512b22ee28550cbd3bb8a42a033d059d079e031ba2d3c1ac03"
   }
  }
 },
 "nbformat": 4,
 "nbformat_minor": 2
}
