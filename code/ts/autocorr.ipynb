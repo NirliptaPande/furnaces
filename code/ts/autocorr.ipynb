{
 "cells": [
  {
   "cell_type": "code",
   "execution_count": 1,
   "metadata": {},
   "outputs": [],
   "source": [
    "import pandas as pd\n",
    "df = pd.read_csv(\"../../data/annual_mean_base.csv\")"
   ]
  },
  {
   "cell_type": "code",
   "execution_count": 2,
   "metadata": {},
   "outputs": [
    {
     "data": {
      "text/plain": [
       "Index(['pftCrop', 'pftShrubBD', 'ign', 'faPAR', 'precip', 'temp_max'], dtype='object')"
      ]
     },
     "execution_count": 2,
     "metadata": {},
     "output_type": "execute_result"
    }
   ],
   "source": [
    "df.columns"
   ]
  },
  {
   "cell_type": "code",
   "execution_count": 3,
   "metadata": {},
   "outputs": [],
   "source": [
    "df = df['ign']"
   ]
  },
  {
   "cell_type": "code",
   "execution_count": 4,
   "metadata": {},
   "outputs": [
    {
     "data": {
      "text/plain": [
       "0          0.0\n",
       "1          0.0\n",
       "2          0.0\n",
       "3          0.0\n",
       "4          0.0\n",
       "          ... \n",
       "2198182    0.0\n",
       "2198183    0.0\n",
       "2198184    0.0\n",
       "2198185    0.0\n",
       "2198186    0.0\n",
       "Name: ign, Length: 2198187, dtype: float64"
      ]
     },
     "execution_count": 4,
     "metadata": {},
     "output_type": "execute_result"
    }
   ],
   "source": [
    "df"
   ]
  },
  {
   "cell_type": "code",
   "execution_count": 6,
   "metadata": {},
   "outputs": [],
   "source": [
    "del(df)"
   ]
  },
  {
   "cell_type": "code",
   "execution_count": 168,
   "metadata": {},
   "outputs": [],
   "source": [
    "import pandas as pd\n",
    "df = pd.read_csv(\"../../data/monthly_mean_base.csv\")"
   ]
  },
  {
   "cell_type": "code",
   "execution_count": 8,
   "metadata": {},
   "outputs": [
    {
     "data": {
      "text/html": [
       "<div>\n",
       "<style scoped>\n",
       "    .dataframe tbody tr th:only-of-type {\n",
       "        vertical-align: middle;\n",
       "    }\n",
       "\n",
       "    .dataframe tbody tr th {\n",
       "        vertical-align: top;\n",
       "    }\n",
       "\n",
       "    .dataframe thead th {\n",
       "        text-align: right;\n",
       "    }\n",
       "</style>\n",
       "<table border=\"1\" class=\"dataframe\">\n",
       "  <thead>\n",
       "    <tr style=\"text-align: right;\">\n",
       "      <th></th>\n",
       "      <th>pftCrop</th>\n",
       "      <th>pftShrubBD</th>\n",
       "      <th>ign</th>\n",
       "      <th>faPAR</th>\n",
       "      <th>precip</th>\n",
       "      <th>temp_max</th>\n",
       "    </tr>\n",
       "  </thead>\n",
       "  <tbody>\n",
       "    <tr>\n",
       "      <th>0</th>\n",
       "      <td>0.002494</td>\n",
       "      <td>0.132951</td>\n",
       "      <td>0.0</td>\n",
       "      <td>0.250163</td>\n",
       "      <td>26.971376</td>\n",
       "      <td>-8.100000</td>\n",
       "    </tr>\n",
       "    <tr>\n",
       "      <th>1</th>\n",
       "      <td>0.000000</td>\n",
       "      <td>0.000780</td>\n",
       "      <td>0.0</td>\n",
       "      <td>0.000000</td>\n",
       "      <td>7.958032</td>\n",
       "      <td>-27.300001</td>\n",
       "    </tr>\n",
       "    <tr>\n",
       "      <th>2</th>\n",
       "      <td>0.728696</td>\n",
       "      <td>0.061289</td>\n",
       "      <td>5.0</td>\n",
       "      <td>0.395407</td>\n",
       "      <td>56.304527</td>\n",
       "      <td>33.500000</td>\n",
       "    </tr>\n",
       "    <tr>\n",
       "      <th>3</th>\n",
       "      <td>0.271573</td>\n",
       "      <td>0.134995</td>\n",
       "      <td>31.0</td>\n",
       "      <td>0.332775</td>\n",
       "      <td>0.007501</td>\n",
       "      <td>24.200001</td>\n",
       "    </tr>\n",
       "    <tr>\n",
       "      <th>4</th>\n",
       "      <td>0.000000</td>\n",
       "      <td>0.017966</td>\n",
       "      <td>0.0</td>\n",
       "      <td>0.000000</td>\n",
       "      <td>18.560972</td>\n",
       "      <td>-14.800000</td>\n",
       "    </tr>\n",
       "    <tr>\n",
       "      <th>...</th>\n",
       "      <td>...</td>\n",
       "      <td>...</td>\n",
       "      <td>...</td>\n",
       "      <td>...</td>\n",
       "      <td>...</td>\n",
       "      <td>...</td>\n",
       "    </tr>\n",
       "    <tr>\n",
       "      <th>2680507</th>\n",
       "      <td>0.388022</td>\n",
       "      <td>0.032689</td>\n",
       "      <td>8.0</td>\n",
       "      <td>0.594949</td>\n",
       "      <td>8.532397</td>\n",
       "      <td>17.800001</td>\n",
       "    </tr>\n",
       "    <tr>\n",
       "      <th>2680508</th>\n",
       "      <td>0.121554</td>\n",
       "      <td>0.079598</td>\n",
       "      <td>25.0</td>\n",
       "      <td>0.716702</td>\n",
       "      <td>20.307556</td>\n",
       "      <td>30.800001</td>\n",
       "    </tr>\n",
       "    <tr>\n",
       "      <th>2680509</th>\n",
       "      <td>0.283897</td>\n",
       "      <td>0.038487</td>\n",
       "      <td>13.0</td>\n",
       "      <td>0.377051</td>\n",
       "      <td>52.121883</td>\n",
       "      <td>36.299999</td>\n",
       "    </tr>\n",
       "    <tr>\n",
       "      <th>2680510</th>\n",
       "      <td>0.005185</td>\n",
       "      <td>0.200642</td>\n",
       "      <td>5.0</td>\n",
       "      <td>0.400260</td>\n",
       "      <td>0.084996</td>\n",
       "      <td>33.900002</td>\n",
       "    </tr>\n",
       "    <tr>\n",
       "      <th>2680511</th>\n",
       "      <td>0.328071</td>\n",
       "      <td>0.197439</td>\n",
       "      <td>19.0</td>\n",
       "      <td>0.524290</td>\n",
       "      <td>38.323101</td>\n",
       "      <td>33.900002</td>\n",
       "    </tr>\n",
       "  </tbody>\n",
       "</table>\n",
       "<p>2680512 rows × 6 columns</p>\n",
       "</div>"
      ],
      "text/plain": [
       "          pftCrop  pftShrubBD   ign     faPAR     precip   temp_max\n",
       "0        0.002494    0.132951   0.0  0.250163  26.971376  -8.100000\n",
       "1        0.000000    0.000780   0.0  0.000000   7.958032 -27.300001\n",
       "2        0.728696    0.061289   5.0  0.395407  56.304527  33.500000\n",
       "3        0.271573    0.134995  31.0  0.332775   0.007501  24.200001\n",
       "4        0.000000    0.017966   0.0  0.000000  18.560972 -14.800000\n",
       "...           ...         ...   ...       ...        ...        ...\n",
       "2680507  0.388022    0.032689   8.0  0.594949   8.532397  17.800001\n",
       "2680508  0.121554    0.079598  25.0  0.716702  20.307556  30.800001\n",
       "2680509  0.283897    0.038487  13.0  0.377051  52.121883  36.299999\n",
       "2680510  0.005185    0.200642   5.0  0.400260   0.084996  33.900002\n",
       "2680511  0.328071    0.197439  19.0  0.524290  38.323101  33.900002\n",
       "\n",
       "[2680512 rows x 6 columns]"
      ]
     },
     "execution_count": 8,
     "metadata": {},
     "output_type": "execute_result"
    }
   ],
   "source": [
    "df"
   ]
  },
  {
   "cell_type": "code",
   "execution_count": 9,
   "metadata": {},
   "outputs": [],
   "source": [
    "del(df)"
   ]
  },
  {
   "cell_type": "code",
   "execution_count": 10,
   "metadata": {},
   "outputs": [],
   "source": [
    "import numpy as np\n",
    "col = np.load(\"../../data/column_names.npy\")"
   ]
  },
  {
   "cell_type": "code",
   "execution_count": 11,
   "metadata": {},
   "outputs": [
    {
     "data": {
      "text/plain": [
       "array(['lat 0', 'lon 1', 'time 2', 'road_density 3', 'agb 4', 'sm 5',\n",
       "       'pftCrop 6', 'pftHerb 7', 'pftShrubBD 8', 'pftShrubNE 9',\n",
       "       'pftTreeBD 10', 'pftTreeBE 11', 'pftTreeND 12', 'pftTreeNE 13',\n",
       "       'GDP_per_capita_PPP 14', 'ign 15', 'faPAR 16', 'LAI 17',\n",
       "       'vod_K_anomalies 18', 'primn 19', 'pet 20', 'wet 21', 'precip 22',\n",
       "       'pastr 23', 'Band1 24', 'pop_density 25',\n",
       "       'Distance_to_populated_areas 26', 'Diurnal temperature range 27',\n",
       "       'temp_max 28', 'Livestock 29'], dtype='<U30')"
      ]
     },
     "execution_count": 11,
     "metadata": {},
     "output_type": "execute_result"
    }
   ],
   "source": [
    "col"
   ]
  },
  {
   "cell_type": "code",
   "execution_count": 169,
   "metadata": {},
   "outputs": [],
   "source": [
    "df = pd.read_pickle(\"../../data/dataset_subset_2003-2011.pkl\")\n"
   ]
  },
  {
   "cell_type": "code",
   "execution_count": 110,
   "metadata": {},
   "outputs": [
    {
     "data": {
      "text/plain": [
       "Index(['lat', 'lon', 'time', 'agb', 'pft_fracCover', 'sm', 'pftCrop',\n",
       "       'pftHerb', 'pftShrubBD', 'pftShrubNE', 'pftTreeBD', 'pftTreeBE',\n",
       "       'pftTreeND', 'pftTreeNE', 'GDP', 'ign', 'Distance_to_populated_areas',\n",
       "       'fPAR', 'LAI', 'NLDI', 'vod_K_anomalies', 'FPAR_12mon', 'LAI_12mon',\n",
       "       'Vod_k_anomaly_12mon', 'FPAR_06mon', 'LAI_06mon', 'Vod_k_anomaly_06mon',\n",
       "       'WDPA_fracCover', 'dtr', 'pet', 'tmx', 'wet', 'Biome', 'precip',\n",
       "       'Livestock', 'road_density', 'topo', 'pop_density'],\n",
       "      dtype='object')"
      ]
     },
     "execution_count": 110,
     "metadata": {},
     "output_type": "execute_result"
    }
   ],
   "source": [
    "df.columns"
   ]
  },
  {
   "cell_type": "code",
   "execution_count": 170,
   "metadata": {},
   "outputs": [],
   "source": [
    "df = df[['lat','lon','time','ign']]"
   ]
  },
  {
   "cell_type": "code",
   "execution_count": 171,
   "metadata": {},
   "outputs": [
    {
     "data": {
      "text/plain": [
       "Index(['lat', 'lon', 'time', 'ign'], dtype='object')"
      ]
     },
     "execution_count": 171,
     "metadata": {},
     "output_type": "execute_result"
    }
   ],
   "source": [
    "df.columns"
   ]
  },
  {
   "cell_type": "code",
   "execution_count": 113,
   "metadata": {},
   "outputs": [
    {
     "data": {
      "text/plain": [
       "(111974400, 4)"
      ]
     },
     "execution_count": 113,
     "metadata": {},
     "output_type": "execute_result"
    }
   ],
   "source": [
    "df.shape"
   ]
  },
  {
   "cell_type": "code",
   "execution_count": 172,
   "metadata": {},
   "outputs": [],
   "source": [
    "df['ign'] = df['ign'].fillna(0)"
   ]
  },
  {
   "cell_type": "code",
   "execution_count": 117,
   "metadata": {},
   "outputs": [
    {
     "data": {
      "text/plain": [
       "108.0"
      ]
     },
     "execution_count": 117,
     "metadata": {},
     "output_type": "execute_result"
    }
   ],
   "source": [
    "df.shape[0]/(720*1440)"
   ]
  },
  {
   "cell_type": "code",
   "execution_count": 173,
   "metadata": {},
   "outputs": [],
   "source": [
    "test = df.groupby(['lat','lon'])['ign'].apply(list)"
   ]
  },
  {
   "cell_type": "code",
   "execution_count": 156,
   "metadata": {},
   "outputs": [],
   "source": [
    "trial = df.groupby(['lat','lon'])"
   ]
  },
  {
   "cell_type": "code",
   "execution_count": 157,
   "metadata": {},
   "outputs": [
    {
     "data": {
      "text/html": [
       "<div>\n",
       "<style scoped>\n",
       "    .dataframe tbody tr th:only-of-type {\n",
       "        vertical-align: middle;\n",
       "    }\n",
       "\n",
       "    .dataframe tbody tr th {\n",
       "        vertical-align: top;\n",
       "    }\n",
       "\n",
       "    .dataframe thead th {\n",
       "        text-align: right;\n",
       "    }\n",
       "</style>\n",
       "<table border=\"1\" class=\"dataframe\">\n",
       "  <thead>\n",
       "    <tr style=\"text-align: right;\">\n",
       "      <th></th>\n",
       "      <th>lat</th>\n",
       "      <th>lon</th>\n",
       "      <th>time</th>\n",
       "      <th>ign</th>\n",
       "    </tr>\n",
       "  </thead>\n",
       "  <tbody>\n",
       "    <tr>\n",
       "      <th>0</th>\n",
       "      <td>-89.75</td>\n",
       "      <td>-179.75</td>\n",
       "      <td>200301.5</td>\n",
       "      <td>0.0</td>\n",
       "    </tr>\n",
       "    <tr>\n",
       "      <th>1</th>\n",
       "      <td>-89.75</td>\n",
       "      <td>-179.75</td>\n",
       "      <td>200302.5</td>\n",
       "      <td>0.0</td>\n",
       "    </tr>\n",
       "    <tr>\n",
       "      <th>2</th>\n",
       "      <td>-89.75</td>\n",
       "      <td>-179.75</td>\n",
       "      <td>200303.5</td>\n",
       "      <td>0.0</td>\n",
       "    </tr>\n",
       "    <tr>\n",
       "      <th>3</th>\n",
       "      <td>-89.75</td>\n",
       "      <td>-179.75</td>\n",
       "      <td>200304.5</td>\n",
       "      <td>0.0</td>\n",
       "    </tr>\n",
       "    <tr>\n",
       "      <th>4</th>\n",
       "      <td>-89.75</td>\n",
       "      <td>-179.75</td>\n",
       "      <td>200305.5</td>\n",
       "      <td>0.0</td>\n",
       "    </tr>\n",
       "    <tr>\n",
       "      <th>...</th>\n",
       "      <td>...</td>\n",
       "      <td>...</td>\n",
       "      <td>...</td>\n",
       "      <td>...</td>\n",
       "    </tr>\n",
       "    <tr>\n",
       "      <th>111974292</th>\n",
       "      <td>90.00</td>\n",
       "      <td>180.00</td>\n",
       "      <td>200301.5</td>\n",
       "      <td>0.0</td>\n",
       "    </tr>\n",
       "    <tr>\n",
       "      <th>111974293</th>\n",
       "      <td>90.00</td>\n",
       "      <td>180.00</td>\n",
       "      <td>200302.5</td>\n",
       "      <td>0.0</td>\n",
       "    </tr>\n",
       "    <tr>\n",
       "      <th>111974294</th>\n",
       "      <td>90.00</td>\n",
       "      <td>180.00</td>\n",
       "      <td>200303.5</td>\n",
       "      <td>0.0</td>\n",
       "    </tr>\n",
       "    <tr>\n",
       "      <th>111974295</th>\n",
       "      <td>90.00</td>\n",
       "      <td>180.00</td>\n",
       "      <td>200304.5</td>\n",
       "      <td>0.0</td>\n",
       "    </tr>\n",
       "    <tr>\n",
       "      <th>111974296</th>\n",
       "      <td>90.00</td>\n",
       "      <td>180.00</td>\n",
       "      <td>200305.5</td>\n",
       "      <td>0.0</td>\n",
       "    </tr>\n",
       "  </tbody>\n",
       "</table>\n",
       "<p>5184000 rows × 4 columns</p>\n",
       "</div>"
      ],
      "text/plain": [
       "             lat     lon      time  ign\n",
       "0         -89.75 -179.75  200301.5  0.0\n",
       "1         -89.75 -179.75  200302.5  0.0\n",
       "2         -89.75 -179.75  200303.5  0.0\n",
       "3         -89.75 -179.75  200304.5  0.0\n",
       "4         -89.75 -179.75  200305.5  0.0\n",
       "...          ...     ...       ...  ...\n",
       "111974292  90.00  180.00  200301.5  0.0\n",
       "111974293  90.00  180.00  200302.5  0.0\n",
       "111974294  90.00  180.00  200303.5  0.0\n",
       "111974295  90.00  180.00  200304.5  0.0\n",
       "111974296  90.00  180.00  200305.5  0.0\n",
       "\n",
       "[5184000 rows x 4 columns]"
      ]
     },
     "execution_count": 157,
     "metadata": {},
     "output_type": "execute_result"
    }
   ],
   "source": [
    "trial.head()"
   ]
  },
  {
   "cell_type": "code",
   "execution_count": 158,
   "metadata": {},
   "outputs": [
    {
     "data": {
      "text/plain": [
       "lat     lon    \n",
       "-89.75  -179.75    [0.0, 0.0, 0.0, 0.0, 0.0, 0.0, 0.0, 0.0, 0.0, ...\n",
       "        -179.50    [0.0, 0.0, 0.0, 0.0, 0.0, 0.0, 0.0, 0.0, 0.0, ...\n",
       "        -179.25    [0.0, 0.0, 0.0, 0.0, 0.0, 0.0, 0.0, 0.0, 0.0, ...\n",
       "        -179.00    [0.0, 0.0, 0.0, 0.0, 0.0, 0.0, 0.0, 0.0, 0.0, ...\n",
       "        -178.75    [0.0, 0.0, 0.0, 0.0, 0.0, 0.0, 0.0, 0.0, 0.0, ...\n",
       "Name: ign, dtype: object"
      ]
     },
     "execution_count": 158,
     "metadata": {},
     "output_type": "execute_result"
    }
   ],
   "source": [
    "test.head()"
   ]
  },
  {
   "cell_type": "code",
   "execution_count": 121,
   "metadata": {},
   "outputs": [],
   "source": [
    "time = df.head(108)['time']"
   ]
  },
  {
   "cell_type": "code",
   "execution_count": 122,
   "metadata": {},
   "outputs": [
    {
     "data": {
      "text/plain": [
       "0      200301.5\n",
       "1      200302.5\n",
       "2      200303.5\n",
       "3      200304.5\n",
       "4      200305.5\n",
       "         ...   \n",
       "103    201108.5\n",
       "104    201109.5\n",
       "105    201110.5\n",
       "106    201111.5\n",
       "107    201112.5\n",
       "Name: time, Length: 108, dtype: float64"
      ]
     },
     "execution_count": 122,
     "metadata": {},
     "output_type": "execute_result"
    }
   ],
   "source": [
    "time"
   ]
  },
  {
   "cell_type": "code",
   "execution_count": 174,
   "metadata": {},
   "outputs": [],
   "source": [
    "gfed = np.load('../../data/gfed_regions.npy',allow_pickle=True)\n",
    "shaf = np.where(gfed==9)"
   ]
  },
  {
   "cell_type": "code",
   "execution_count": 175,
   "metadata": {},
   "outputs": [
    {
     "data": {
      "text/plain": [
       "(array([360, 360, 360, ..., 499, 499, 499]),\n",
       " array([757, 758, 759, ..., 798, 799, 800]))"
      ]
     },
     "execution_count": 175,
     "metadata": {},
     "output_type": "execute_result"
    }
   ],
   "source": [
    "shaf"
   ]
  },
  {
   "cell_type": "code",
   "execution_count": 176,
   "metadata": {},
   "outputs": [],
   "source": [
    "lat,lon = shaf"
   ]
  },
  {
   "cell_type": "code",
   "execution_count": 177,
   "metadata": {},
   "outputs": [],
   "source": [
    "lat = (lat-360)/4\n",
    "lon = (lon-720)/4"
   ]
  },
  {
   "cell_type": "code",
   "execution_count": 129,
   "metadata": {},
   "outputs": [
    {
     "data": {
      "text/plain": [
       "array([ 9.25,  9.5 ,  9.75, ..., 19.5 , 19.75, 20.  ])"
      ]
     },
     "execution_count": 129,
     "metadata": {},
     "output_type": "execute_result"
    }
   ],
   "source": [
    "lon"
   ]
  },
  {
   "cell_type": "code",
   "execution_count": 178,
   "metadata": {},
   "outputs": [],
   "source": [
    "shaf_data = test[test.index.get_level_values('lat').isin(lat) & test.index.get_level_values('lon').isin(lon)]"
   ]
  },
  {
   "cell_type": "code",
   "execution_count": 131,
   "metadata": {},
   "outputs": [
    {
     "data": {
      "text/plain": [
       "lat    lon  \n",
       "0.00   8.50     [0.0, 0.0, 0.0, 0.0, 0.0, 0.0, 0.0, 0.0, 0.0, ...\n",
       "       8.75     [0.0, 0.0, 0.0, 0.0, 0.0, 0.0, 0.0, 0.0, 0.0, ...\n",
       "       9.00     [0.0, 0.0, 0.0, 0.0, 0.0, 0.0, 0.0, 0.0, 0.0, ...\n",
       "       9.25     [0.0, 0.0, 0.0, 0.0, 0.0, 0.0, 0.0, 0.0, 0.0, ...\n",
       "       9.50     [0.0, 0.0, 0.0, 0.0, 0.0, 0.0, 0.0, 0.0, 0.0, ...\n",
       "                                      ...                        \n",
       "34.75  49.25    [0.0, 0.0, 0.0, 0.0, 0.0, 0.0, 0.0, 0.0, 0.0, ...\n",
       "       49.50    [0.0, 0.0, 0.0, 0.0, 0.0, 0.0, 0.0, 0.0, 0.0, ...\n",
       "       49.75    [0.0, 1.0, 0.0, 0.0, 0.0, 0.0, 0.0, 0.0, 0.0, ...\n",
       "       50.00    [0.0, 0.0, 0.0, 0.0, 0.0, 0.0, 0.0, 0.0, 0.0, ...\n",
       "       50.25    [0.0, 0.0, 0.0, 0.0, 0.0, 0.0, 0.0, 0.0, 0.0, ...\n",
       "Name: ign, Length: 23520, dtype: object"
      ]
     },
     "execution_count": 131,
     "metadata": {},
     "output_type": "execute_result"
    }
   ],
   "source": [
    "shaf_data"
   ]
  },
  {
   "cell_type": "code",
   "execution_count": 66,
   "metadata": {},
   "outputs": [
    {
     "data": {
      "text/plain": [
       "array([ 0.  ,  0.  ,  0.  , ..., 34.75, 34.75, 34.75])"
      ]
     },
     "execution_count": 66,
     "metadata": {},
     "output_type": "execute_result"
    }
   ],
   "source": [
    "lat"
   ]
  },
  {
   "cell_type": "code",
   "execution_count": 68,
   "metadata": {},
   "outputs": [
    {
     "data": {
      "text/plain": [
       "array([ 9.25,  9.5 ,  9.75, 10.  , 10.25, 10.5 , 10.75, 11.  , 11.25,\n",
       "       11.5 ])"
      ]
     },
     "execution_count": 68,
     "metadata": {},
     "output_type": "execute_result"
    }
   ],
   "source": [
    "lon[:10]"
   ]
  },
  {
   "cell_type": "code",
   "execution_count": 179,
   "metadata": {},
   "outputs": [
    {
     "data": {
      "text/plain": [
       "pandas.core.series.Series"
      ]
     },
     "execution_count": 179,
     "metadata": {},
     "output_type": "execute_result"
    }
   ],
   "source": [
    "type(shaf_data)"
   ]
  },
  {
   "cell_type": "code",
   "execution_count": 133,
   "metadata": {},
   "outputs": [
    {
     "data": {
      "text/plain": [
       "(23520,)"
      ]
     },
     "execution_count": 133,
     "metadata": {},
     "output_type": "execute_result"
    }
   ],
   "source": [
    "shaf_data.shape\n"
   ]
  },
  {
   "cell_type": "code",
   "execution_count": 134,
   "metadata": {},
   "outputs": [
    {
     "data": {
      "text/plain": [
       "13636"
      ]
     },
     "execution_count": 134,
     "metadata": {},
     "output_type": "execute_result"
    }
   ],
   "source": [
    "len(lon)"
   ]
  },
  {
   "cell_type": "code",
   "execution_count": 135,
   "metadata": {},
   "outputs": [],
   "source": [
    "shaf_coords = np.array([lat,lon])"
   ]
  },
  {
   "cell_type": "code",
   "execution_count": 136,
   "metadata": {},
   "outputs": [
    {
     "data": {
      "text/plain": [
       "(2, 13636)"
      ]
     },
     "execution_count": 136,
     "metadata": {},
     "output_type": "execute_result"
    }
   ],
   "source": [
    "shaf_coords.shape"
   ]
  },
  {
   "cell_type": "code",
   "execution_count": 137,
   "metadata": {},
   "outputs": [],
   "source": [
    "shaf_coords = np.transpose(shaf_coords)"
   ]
  },
  {
   "cell_type": "code",
   "execution_count": 138,
   "metadata": {},
   "outputs": [
    {
     "data": {
      "text/plain": [
       "array([[ 0.  ,  9.25],\n",
       "       [ 0.  ,  9.5 ],\n",
       "       [ 0.  ,  9.75],\n",
       "       ...,\n",
       "       [34.75, 19.5 ],\n",
       "       [34.75, 19.75],\n",
       "       [34.75, 20.  ]])"
      ]
     },
     "execution_count": 138,
     "metadata": {},
     "output_type": "execute_result"
    }
   ],
   "source": [
    "shaf_coords"
   ]
  },
  {
   "cell_type": "code",
   "execution_count": 139,
   "metadata": {},
   "outputs": [
    {
     "data": {
      "text/plain": [
       "(13636, 2)"
      ]
     },
     "execution_count": 139,
     "metadata": {},
     "output_type": "execute_result"
    }
   ],
   "source": [
    "shaf_coords.shape"
   ]
  },
  {
   "cell_type": "code",
   "execution_count": 180,
   "metadata": {},
   "outputs": [],
   "source": [
    "shaf_data = test.loc[test.index.isin(zip(shaf_coords[:,0],shaf_coords[:,1]))]"
   ]
  },
  {
   "cell_type": "code",
   "execution_count": 181,
   "metadata": {},
   "outputs": [
    {
     "data": {
      "text/plain": [
       "(13636,)"
      ]
     },
     "execution_count": 181,
     "metadata": {},
     "output_type": "execute_result"
    }
   ],
   "source": [
    "shaf_data.shape"
   ]
  },
  {
   "cell_type": "code",
   "execution_count": 182,
   "metadata": {},
   "outputs": [
    {
     "data": {
      "text/plain": [
       "lat    lon  \n",
       "0.00   9.25     [0.0, 0.0, 0.0, 0.0, 0.0, 0.0, 0.0, 0.0, 0.0, ...\n",
       "       9.50     [0.0, 0.0, 0.0, 0.0, 0.0, 0.0, 0.0, 0.0, 0.0, ...\n",
       "       9.75     [0.0, 0.0, 0.0, 0.0, 0.0, 0.0, 0.0, 0.0, 0.0, ...\n",
       "       10.00    [0.0, 0.0, 0.0, 0.0, 0.0, 0.0, 0.0, 0.0, 0.0, ...\n",
       "       10.25    [0.0, 0.0, 0.0, 0.0, 0.0, 0.0, 0.0, 0.0, 0.0, ...\n",
       "                                      ...                        \n",
       "34.50  20.00    [0.0, 0.0, 0.0, 0.0, 0.0, 0.0, 0.0, 0.0, 0.0, ...\n",
       "       20.25    [0.0, 0.0, 0.0, 0.0, 0.0, 0.0, 0.0, 0.0, 0.0, ...\n",
       "34.75  19.50    [0.0, 0.0, 0.0, 0.0, 0.0, 0.0, 0.0, 0.0, 0.0, ...\n",
       "       19.75    [0.0, 0.0, 0.0, 0.0, 0.0, 0.0, 0.0, 0.0, 0.0, ...\n",
       "       20.00    [0.0, 0.0, 0.0, 0.0, 0.0, 0.0, 0.0, 0.0, 0.0, ...\n",
       "Name: ign, Length: 13636, dtype: object"
      ]
     },
     "execution_count": 182,
     "metadata": {},
     "output_type": "execute_result"
    }
   ],
   "source": [
    "shaf_data"
   ]
  },
  {
   "cell_type": "code",
   "execution_count": 145,
   "metadata": {},
   "outputs": [
    {
     "data": {
      "text/plain": [
       "['T',\n",
       " '_AXIS_LEN',\n",
       " '_AXIS_ORDERS',\n",
       " '_AXIS_TO_AXIS_NUMBER',\n",
       " '_HANDLED_TYPES',\n",
       " '__abs__',\n",
       " '__add__',\n",
       " '__and__',\n",
       " '__annotations__',\n",
       " '__array__',\n",
       " '__array_priority__',\n",
       " '__array_ufunc__',\n",
       " '__array_wrap__',\n",
       " '__bool__',\n",
       " '__class__',\n",
       " '__contains__',\n",
       " '__copy__',\n",
       " '__deepcopy__',\n",
       " '__delattr__',\n",
       " '__delitem__',\n",
       " '__dict__',\n",
       " '__dir__',\n",
       " '__divmod__',\n",
       " '__doc__',\n",
       " '__eq__',\n",
       " '__finalize__',\n",
       " '__float__',\n",
       " '__floordiv__',\n",
       " '__format__',\n",
       " '__ge__',\n",
       " '__getattr__',\n",
       " '__getattribute__',\n",
       " '__getitem__',\n",
       " '__getstate__',\n",
       " '__gt__',\n",
       " '__hash__',\n",
       " '__iadd__',\n",
       " '__iand__',\n",
       " '__ifloordiv__',\n",
       " '__imod__',\n",
       " '__imul__',\n",
       " '__init__',\n",
       " '__init_subclass__',\n",
       " '__int__',\n",
       " '__invert__',\n",
       " '__ior__',\n",
       " '__ipow__',\n",
       " '__isub__',\n",
       " '__iter__',\n",
       " '__itruediv__',\n",
       " '__ixor__',\n",
       " '__le__',\n",
       " '__len__',\n",
       " '__long__',\n",
       " '__lt__',\n",
       " '__matmul__',\n",
       " '__mod__',\n",
       " '__module__',\n",
       " '__mul__',\n",
       " '__ne__',\n",
       " '__neg__',\n",
       " '__new__',\n",
       " '__nonzero__',\n",
       " '__or__',\n",
       " '__pos__',\n",
       " '__pow__',\n",
       " '__radd__',\n",
       " '__rand__',\n",
       " '__rdivmod__',\n",
       " '__reduce__',\n",
       " '__reduce_ex__',\n",
       " '__repr__',\n",
       " '__rfloordiv__',\n",
       " '__rmatmul__',\n",
       " '__rmod__',\n",
       " '__rmul__',\n",
       " '__ror__',\n",
       " '__round__',\n",
       " '__rpow__',\n",
       " '__rsub__',\n",
       " '__rtruediv__',\n",
       " '__rxor__',\n",
       " '__setattr__',\n",
       " '__setitem__',\n",
       " '__setstate__',\n",
       " '__sizeof__',\n",
       " '__str__',\n",
       " '__sub__',\n",
       " '__subclasshook__',\n",
       " '__truediv__',\n",
       " '__weakref__',\n",
       " '__xor__',\n",
       " '_accessors',\n",
       " '_accum_func',\n",
       " '_add_numeric_operations',\n",
       " '_agg_by_level',\n",
       " '_agg_examples_doc',\n",
       " '_agg_see_also_doc',\n",
       " '_align_frame',\n",
       " '_align_series',\n",
       " '_append',\n",
       " '_arith_method',\n",
       " '_as_manager',\n",
       " '_attrs',\n",
       " '_binop',\n",
       " '_can_hold_na',\n",
       " '_check_inplace_and_allows_duplicate_labels',\n",
       " '_check_inplace_setting',\n",
       " '_check_is_chained_assignment_possible',\n",
       " '_check_label_or_level_ambiguity',\n",
       " '_check_setitem_copy',\n",
       " '_clear_item_cache',\n",
       " '_clip_with_one_bound',\n",
       " '_clip_with_scalar',\n",
       " '_cmp_method',\n",
       " '_consolidate',\n",
       " '_consolidate_inplace',\n",
       " '_construct_axes_dict',\n",
       " '_construct_axes_from_arguments',\n",
       " '_construct_result',\n",
       " '_constructor',\n",
       " '_constructor_expanddim',\n",
       " '_convert',\n",
       " '_convert_dtypes',\n",
       " '_data',\n",
       " '_dir_additions',\n",
       " '_dir_deletions',\n",
       " '_drop_axis',\n",
       " '_drop_labels_or_levels',\n",
       " '_duplicated',\n",
       " '_find_valid_index',\n",
       " '_flags',\n",
       " '_get_axis',\n",
       " '_get_axis_name',\n",
       " '_get_axis_number',\n",
       " '_get_axis_resolvers',\n",
       " '_get_block_manager_axis',\n",
       " '_get_bool_data',\n",
       " '_get_cacher',\n",
       " '_get_cleaned_column_resolvers',\n",
       " '_get_index_resolvers',\n",
       " '_get_label_or_level_values',\n",
       " '_get_numeric_data',\n",
       " '_get_value',\n",
       " '_get_values',\n",
       " '_get_values_tuple',\n",
       " '_get_with',\n",
       " '_gotitem',\n",
       " '_hidden_attrs',\n",
       " '_indexed_same',\n",
       " '_info_axis',\n",
       " '_info_axis_name',\n",
       " '_info_axis_number',\n",
       " '_init_dict',\n",
       " '_init_mgr',\n",
       " '_inplace_method',\n",
       " '_internal_names',\n",
       " '_internal_names_set',\n",
       " '_is_cached',\n",
       " '_is_copy',\n",
       " '_is_label_or_level_reference',\n",
       " '_is_label_reference',\n",
       " '_is_level_reference',\n",
       " '_is_mixed_type',\n",
       " '_is_view',\n",
       " '_item_cache',\n",
       " '_ixs',\n",
       " '_logical_func',\n",
       " '_logical_method',\n",
       " '_map_values',\n",
       " '_maybe_update_cacher',\n",
       " '_memory_usage',\n",
       " '_metadata',\n",
       " '_mgr',\n",
       " '_min_count_stat_function',\n",
       " '_name',\n",
       " '_needs_reindex_multi',\n",
       " '_protect_consolidate',\n",
       " '_reduce',\n",
       " '_reindex_axes',\n",
       " '_reindex_indexer',\n",
       " '_reindex_multi',\n",
       " '_reindex_with_indexers',\n",
       " '_rename',\n",
       " '_replace_single',\n",
       " '_repr_data_resource_',\n",
       " '_repr_latex_',\n",
       " '_reset_cache',\n",
       " '_reset_cacher',\n",
       " '_set_as_cached',\n",
       " '_set_axis',\n",
       " '_set_axis_name',\n",
       " '_set_axis_nocheck',\n",
       " '_set_is_copy',\n",
       " '_set_labels',\n",
       " '_set_name',\n",
       " '_set_value',\n",
       " '_set_values',\n",
       " '_set_with',\n",
       " '_set_with_engine',\n",
       " '_slice',\n",
       " '_stat_axis',\n",
       " '_stat_axis_name',\n",
       " '_stat_axis_number',\n",
       " '_stat_function',\n",
       " '_stat_function_ddof',\n",
       " '_take',\n",
       " '_take_with_is_copy',\n",
       " '_typ',\n",
       " '_update_inplace',\n",
       " '_validate_dtype',\n",
       " '_values',\n",
       " '_where',\n",
       " 'abs',\n",
       " 'add',\n",
       " 'add_prefix',\n",
       " 'add_suffix',\n",
       " 'agg',\n",
       " 'aggregate',\n",
       " 'align',\n",
       " 'all',\n",
       " 'any',\n",
       " 'append',\n",
       " 'apply',\n",
       " 'argmax',\n",
       " 'argmin',\n",
       " 'argsort',\n",
       " 'array',\n",
       " 'asfreq',\n",
       " 'asof',\n",
       " 'astype',\n",
       " 'at',\n",
       " 'at_time',\n",
       " 'attrs',\n",
       " 'autocorr',\n",
       " 'axes',\n",
       " 'backfill',\n",
       " 'between',\n",
       " 'between_time',\n",
       " 'bfill',\n",
       " 'bool',\n",
       " 'clip',\n",
       " 'combine',\n",
       " 'combine_first',\n",
       " 'compare',\n",
       " 'convert_dtypes',\n",
       " 'copy',\n",
       " 'corr',\n",
       " 'count',\n",
       " 'cov',\n",
       " 'cummax',\n",
       " 'cummin',\n",
       " 'cumprod',\n",
       " 'cumsum',\n",
       " 'describe',\n",
       " 'diff',\n",
       " 'div',\n",
       " 'divide',\n",
       " 'divmod',\n",
       " 'dot',\n",
       " 'drop',\n",
       " 'drop_duplicates',\n",
       " 'droplevel',\n",
       " 'dropna',\n",
       " 'dtype',\n",
       " 'dtypes',\n",
       " 'duplicated',\n",
       " 'empty',\n",
       " 'eq',\n",
       " 'equals',\n",
       " 'ewm',\n",
       " 'expanding',\n",
       " 'explode',\n",
       " 'factorize',\n",
       " 'ffill',\n",
       " 'fillna',\n",
       " 'filter',\n",
       " 'first',\n",
       " 'first_valid_index',\n",
       " 'flags',\n",
       " 'floordiv',\n",
       " 'ge',\n",
       " 'get',\n",
       " 'groupby',\n",
       " 'gt',\n",
       " 'hasnans',\n",
       " 'head',\n",
       " 'hist',\n",
       " 'iat',\n",
       " 'idxmax',\n",
       " 'idxmin',\n",
       " 'iloc',\n",
       " 'index',\n",
       " 'infer_objects',\n",
       " 'info',\n",
       " 'interpolate',\n",
       " 'is_monotonic',\n",
       " 'is_monotonic_decreasing',\n",
       " 'is_monotonic_increasing',\n",
       " 'is_unique',\n",
       " 'isin',\n",
       " 'isna',\n",
       " 'isnull',\n",
       " 'item',\n",
       " 'items',\n",
       " 'iteritems',\n",
       " 'keys',\n",
       " 'kurt',\n",
       " 'kurtosis',\n",
       " 'last',\n",
       " 'last_valid_index',\n",
       " 'le',\n",
       " 'loc',\n",
       " 'lt',\n",
       " 'mad',\n",
       " 'map',\n",
       " 'mask',\n",
       " 'max',\n",
       " 'mean',\n",
       " 'median',\n",
       " 'memory_usage',\n",
       " 'min',\n",
       " 'mod',\n",
       " 'mode',\n",
       " 'mul',\n",
       " 'multiply',\n",
       " 'name',\n",
       " 'nbytes',\n",
       " 'ndim',\n",
       " 'ne',\n",
       " 'nlargest',\n",
       " 'notna',\n",
       " 'notnull',\n",
       " 'nsmallest',\n",
       " 'nunique',\n",
       " 'pad',\n",
       " 'pct_change',\n",
       " 'pipe',\n",
       " 'plot',\n",
       " 'pop',\n",
       " 'pow',\n",
       " 'prod',\n",
       " 'product',\n",
       " 'quantile',\n",
       " 'radd',\n",
       " 'rank',\n",
       " 'ravel',\n",
       " 'rdiv',\n",
       " 'rdivmod',\n",
       " 'reindex',\n",
       " 'reindex_like',\n",
       " 'rename',\n",
       " 'rename_axis',\n",
       " 'reorder_levels',\n",
       " 'repeat',\n",
       " 'replace',\n",
       " 'resample',\n",
       " 'reset_index',\n",
       " 'rfloordiv',\n",
       " 'rmod',\n",
       " 'rmul',\n",
       " 'rolling',\n",
       " 'round',\n",
       " 'rpow',\n",
       " 'rsub',\n",
       " 'rtruediv',\n",
       " 'sample',\n",
       " 'searchsorted',\n",
       " 'sem',\n",
       " 'set_axis',\n",
       " 'set_flags',\n",
       " 'shape',\n",
       " 'shift',\n",
       " 'size',\n",
       " 'skew',\n",
       " 'slice_shift',\n",
       " 'sort_index',\n",
       " 'sort_values',\n",
       " 'squeeze',\n",
       " 'std',\n",
       " 'str',\n",
       " 'sub',\n",
       " 'subtract',\n",
       " 'sum',\n",
       " 'swapaxes',\n",
       " 'swaplevel',\n",
       " 'tail',\n",
       " 'take',\n",
       " 'to_clipboard',\n",
       " 'to_csv',\n",
       " 'to_dict',\n",
       " 'to_excel',\n",
       " 'to_frame',\n",
       " 'to_hdf',\n",
       " 'to_json',\n",
       " 'to_latex',\n",
       " 'to_list',\n",
       " 'to_markdown',\n",
       " 'to_numpy',\n",
       " 'to_period',\n",
       " 'to_pickle',\n",
       " 'to_sql',\n",
       " 'to_string',\n",
       " 'to_timestamp',\n",
       " 'to_xarray',\n",
       " 'transform',\n",
       " 'transpose',\n",
       " 'truediv',\n",
       " 'truncate',\n",
       " 'tz_convert',\n",
       " 'tz_localize',\n",
       " 'unique',\n",
       " 'unstack',\n",
       " 'update',\n",
       " 'value_counts',\n",
       " 'values',\n",
       " 'var',\n",
       " 'view',\n",
       " 'where',\n",
       " 'xs']"
      ]
     },
     "execution_count": 145,
     "metadata": {},
     "output_type": "execute_result"
    }
   ],
   "source": [
    "dir(shaf_data)"
   ]
  },
  {
   "cell_type": "code",
   "execution_count": 146,
   "metadata": {},
   "outputs": [
    {
     "data": {
      "text/plain": [
       "MultiIndex([(  0.0,  9.25),\n",
       "            (  0.0,   9.5),\n",
       "            (  0.0,  9.75),\n",
       "            (  0.0,  10.0),\n",
       "            (  0.0, 10.25),\n",
       "            (  0.0,  10.5),\n",
       "            (  0.0, 10.75),\n",
       "            (  0.0,  11.0),\n",
       "            (  0.0, 11.25),\n",
       "            (  0.0,  11.5),\n",
       "            ...\n",
       "            (34.25,  21.5),\n",
       "            (34.25, 21.75),\n",
       "            ( 34.5, 19.25),\n",
       "            ( 34.5,  19.5),\n",
       "            ( 34.5, 19.75),\n",
       "            ( 34.5,  20.0),\n",
       "            ( 34.5, 20.25),\n",
       "            (34.75,  19.5),\n",
       "            (34.75, 19.75),\n",
       "            (34.75,  20.0)],\n",
       "           names=['lat', 'lon'], length=13636)"
      ]
     },
     "execution_count": 146,
     "metadata": {},
     "output_type": "execute_result"
    }
   ],
   "source": [
    "shaf_data.index"
   ]
  },
  {
   "cell_type": "code",
   "execution_count": 150,
   "metadata": {},
   "outputs": [
    {
     "data": {
      "text/plain": [
       "108"
      ]
     },
     "execution_count": 150,
     "metadata": {},
     "output_type": "execute_result"
    }
   ],
   "source": [
    "len(shaf_data.iloc[201])"
   ]
  },
  {
   "cell_type": "code",
   "execution_count": 211,
   "metadata": {},
   "outputs": [],
   "source": [
    "valid_coords = []\n",
    "autocorr = []\n",
    "for i in range (shaf_data.shape[0]):\n",
    "    if(np.all(np.array(shaf_data.iloc[i])==0.0)==True):\n",
    "        continue\n",
    "    else:\n",
    "        valid_coords.append(i)\n",
    "        arr = np.array(shaf_data.iloc[i])\n",
    "        corr = np.correlate(arr,arr,mode='full')\n",
    "        corr = corr[corr.size//2:]\n",
    "        autocorr.append((corr))"
   ]
  },
  {
   "cell_type": "code",
   "execution_count": 200,
   "metadata": {},
   "outputs": [
    {
     "data": {
      "text/plain": [
       "array([42.,  0.,  0.,  0.,  4.,  0.,  0.,  0.,  0.,  0.,  0.,  0.,  0.,\n",
       "        0.,  0.,  0.,  0.,  0.,  0.,  0.,  0.,  0.,  0., 20.,  0.,  0.,\n",
       "        0.,  5.,  0.,  0.,  0.,  0.,  0.,  0.,  0.,  0.,  0.,  0.,  0.,\n",
       "        0.,  0.,  0.,  0.,  0.,  0.,  0.,  0.,  0.,  0.,  0.,  0.,  0.,\n",
       "        0.,  0.,  0.,  0.,  0.,  0.,  0.,  0.,  0.,  0.,  0.,  0.,  0.,\n",
       "        0.,  0.,  0.,  0.,  0.,  0.,  0.,  0.,  0.,  0.,  0.,  0.,  0.,\n",
       "        0.,  0.,  0.,  0.,  0.,  0.,  0.,  0.,  0.,  0.,  0.,  0.,  0.,\n",
       "        0.,  0.,  0.,  0.,  0.,  0.,  0.,  0.,  0.,  0.,  0.,  0.,  0.,\n",
       "        0.,  0.,  0.,  0.])"
      ]
     },
     "execution_count": 200,
     "metadata": {},
     "output_type": "execute_result"
    }
   ],
   "source": [
    "autocorr[0][1]"
   ]
  },
  {
   "cell_type": "code",
   "execution_count": 207,
   "metadata": {},
   "outputs": [],
   "source": [
    "zero_count = []\n",
    "for i in range(len(autocorr)):\n",
    "    first_non_zero =  next((i for i, x in enumerate(autocorr[i][1]) if x != 0.0), None)\n",
    "\n",
    "# Slice the list starting from the index of the first non-zero number and count the zeros\n",
    "    zero_count.append(first_non_zero)\n"
   ]
  },
  {
   "cell_type": "code",
   "execution_count": 209,
   "metadata": {},
   "outputs": [
    {
     "data": {
      "text/plain": [
       "5604"
      ]
     },
     "execution_count": 209,
     "metadata": {},
     "output_type": "execute_result"
    }
   ],
   "source": [
    "len(autocorr)"
   ]
  },
  {
   "cell_type": "code",
   "execution_count": 212,
   "metadata": {},
   "outputs": [],
   "source": [
    "autocorr = np.array(autocorr)"
   ]
  },
  {
   "cell_type": "code",
   "execution_count": 213,
   "metadata": {},
   "outputs": [
    {
     "data": {
      "text/plain": [
       "(5604, 108)"
      ]
     },
     "execution_count": 213,
     "metadata": {},
     "output_type": "execute_result"
    }
   ],
   "source": [
    "autocorr.shape"
   ]
  },
  {
   "cell_type": "code",
   "execution_count": 214,
   "metadata": {},
   "outputs": [
    {
     "data": {
      "text/plain": [
       "(108,)"
      ]
     },
     "execution_count": 214,
     "metadata": {},
     "output_type": "execute_result"
    }
   ],
   "source": [
    "mean_corr = np.mean(autocorr, axis = 0)\n",
    "mean_corr.shape"
   ]
  },
  {
   "cell_type": "code",
   "execution_count": 218,
   "metadata": {},
   "outputs": [
    {
     "data": {
      "text/plain": [
       "array([3878.56513205, 1627.49536046,  678.74518201,  272.1391863 ,\n",
       "        132.22162741,   76.68361884,   57.42951463,   76.31780871,\n",
       "        139.33975732,  306.47858672,  692.27408994, 1564.92880086,\n",
       "       2412.00339044, 1499.32744468,  632.28283369,  266.67541042,\n",
       "        130.02301927,   69.09975018,   51.35617416,   66.64561028,\n",
       "        117.35492505,  264.53783012,  579.43522484, 1400.96948608,\n",
       "       2006.63775874, 1339.64721627,  540.51481085,  253.52480371,\n",
       "        112.87508922,   60.45449679,   43.68326196,   55.62544611,\n",
       "         96.00999286,  199.97608851,  507.44628837, 1120.96074233,\n",
       "       1856.94414704, 1132.2025339 ,  465.75856531,  191.47626695,\n",
       "         93.07405425,   50.59493219,   35.45449679,   44.48518915,\n",
       "         79.85456817,  180.33154889,  451.87169879,  932.96502498,\n",
       "       1475.53800857,  873.76570307,  372.62491078,  149.82316203,\n",
       "         76.16613133,   41.51927195,   30.15417559,   38.14293362,\n",
       "         63.43451106,  139.76391863,  323.44896502,  721.52498216,\n",
       "       1062.60260528,  706.53015703,  263.66577445,  124.42826552,\n",
       "         58.82030692,   31.10278373,   23.02462527,   26.63079943,\n",
       "         45.37044968,   97.38579586,  226.10670949,  500.25107066,\n",
       "        797.31031406,  511.68004996,  185.77623126,   82.35278373,\n",
       "         38.05389008,   18.73322627,   13.79122056,   17.55567452,\n",
       "         26.68772305,   58.88008565,  158.63650964,  315.34832263,\n",
       "        556.65649536,  252.89364739,  112.57441113,   43.2012848 ,\n",
       "         20.35635261,   10.2987152 ,    6.1465025 ,    7.63115632,\n",
       "         13.33850821,   32.16416845,   77.91845111,  117.11616702,\n",
       "        210.65792291,   63.80210564,   21.58244111,    1.42469665,\n",
       "          0.86134904,    0.97733762,    0.71627409,    0.48643826,\n",
       "          0.        ,    0.001606  ,    0.        ,    0.        ])"
      ]
     },
     "execution_count": 218,
     "metadata": {},
     "output_type": "execute_result"
    }
   ],
   "source": [
    "np.set_printoptions(suppress=True)\n",
    "mean_corr"
   ]
  },
  {
   "cell_type": "code",
   "execution_count": 223,
   "metadata": {},
   "outputs": [
    {
     "data": {
      "image/png": "[encoded data removed]",
      "text/plain": [
       "<Figure size 640x480 with 1 Axes>"
      ]
     },
     "metadata": {},
     "output_type": "display_data"
    }
   ],
   "source": [
    "import matplotlib.pyplot as plt\n",
    "%matplotlib inline\n",
    "plt.plot(mean_corr)\n",
    "plt.show()"
   ]
  },
  {
   "cell_type": "code",
   "execution_count": 224,
   "metadata": {},
   "outputs": [
    {
     "data": {
      "image/png": "[encoded data removed]",
      "text/plain": [
       "<Figure size 640x480 with 1 Axes>"
      ]
     },
     "metadata": {},
     "output_type": "display_data"
    }
   ],
   "source": [
    "median_corr = np.median(autocorr, axis = 0)\n",
    "plt.plot(median_corr)\n",
    "plt.show()"
   ]
  },
  {
   "cell_type": "code",
   "execution_count": null,
   "metadata": {},
   "outputs": [],
   "source": []
  },
  {
   "cell_type": "code",
   "execution_count": null,
   "metadata": {},
   "outputs": [],
   "source": []
  },
  {
   "cell_type": "code",
   "execution_count": null,
   "metadata": {},
   "outputs": [],
   "source": []
  },
  {
   "cell_type": "code",
   "execution_count": null,
   "metadata": {},
   "outputs": [],
   "source": []
  },
  {
   "cell_type": "code",
   "execution_count": 229,
   "metadata": {},
   "outputs": [
    {
     "ename": "ValueError",
     "evalue": "Mime type rendering requires nbformat>=4.2.0 but it is not installed",
     "output_type": "error",
     "traceback": [
      "\u001b[0;31m---------------------------------------------------------------------------\u001b[0m",
      "\u001b[0;31mValueError\u001b[0m                                Traceback (most recent call last)",
      "Cell \u001b[0;32mIn[229], line 5\u001b[0m\n\u001b[1;32m      3\u001b[0m layout \u001b[39m=\u001b[39m go\u001b[39m.\u001b[39mLayout(title\u001b[39m=\u001b[39m\u001b[39m'\u001b[39m\u001b[39mInteractive Plot\u001b[39m\u001b[39m'\u001b[39m, xaxis\u001b[39m=\u001b[39m\u001b[39mdict\u001b[39m(title\u001b[39m=\u001b[39m\u001b[39m'\u001b[39m\u001b[39mIndex\u001b[39m\u001b[39m'\u001b[39m), yaxis\u001b[39m=\u001b[39m\u001b[39mdict\u001b[39m(title\u001b[39m=\u001b[39m\u001b[39m'\u001b[39m\u001b[39mValue\u001b[39m\u001b[39m'\u001b[39m))\n\u001b[1;32m      4\u001b[0m fig \u001b[39m=\u001b[39m go\u001b[39m.\u001b[39mFigure(data\u001b[39m=\u001b[39m[trace], layout\u001b[39m=\u001b[39mlayout)\n\u001b[0;32m----> 5\u001b[0m fig\u001b[39m.\u001b[39;49mshow()\n",
      "File \u001b[0;32m~/furnaces-main/env/lib/python3.10/site-packages/plotly/basedatatypes.py:3390\u001b[0m, in \u001b[0;36mBaseFigure.show\u001b[0;34m(self, *args, **kwargs)\u001b[0m\n\u001b[1;32m   3357\u001b[0m \u001b[39m\u001b[39m\u001b[39m\"\"\"\u001b[39;00m\n\u001b[1;32m   3358\u001b[0m \u001b[39mShow a figure using either the default renderer(s) or the renderer(s)\u001b[39;00m\n\u001b[1;32m   3359\u001b[0m \u001b[39mspecified by the renderer argument\u001b[39;00m\n\u001b[0;32m   (...)\u001b[0m\n\u001b[1;32m   3386\u001b[0m \u001b[39mNone\u001b[39;00m\n\u001b[1;32m   3387\u001b[0m \u001b[39m\"\"\"\u001b[39;00m\n\u001b[1;32m   3388\u001b[0m \u001b[39mimport\u001b[39;00m \u001b[39mplotly\u001b[39;00m\u001b[39m.\u001b[39;00m\u001b[39mio\u001b[39;00m \u001b[39mas\u001b[39;00m \u001b[39mpio\u001b[39;00m\n\u001b[0;32m-> 3390\u001b[0m \u001b[39mreturn\u001b[39;00m pio\u001b[39m.\u001b[39;49mshow(\u001b[39mself\u001b[39;49m, \u001b[39m*\u001b[39;49margs, \u001b[39m*\u001b[39;49m\u001b[39m*\u001b[39;49mkwargs)\n",
      "File \u001b[0;32m~/furnaces-main/env/lib/python3.10/site-packages/plotly/io/_renderers.py:396\u001b[0m, in \u001b[0;36mshow\u001b[0;34m(fig, renderer, validate, **kwargs)\u001b[0m\n\u001b[1;32m    391\u001b[0m         \u001b[39mraise\u001b[39;00m \u001b[39mValueError\u001b[39;00m(\n\u001b[1;32m    392\u001b[0m             \u001b[39m\"\u001b[39m\u001b[39mMime type rendering requires ipython but it is not installed\u001b[39m\u001b[39m\"\u001b[39m\n\u001b[1;32m    393\u001b[0m         )\n\u001b[1;32m    395\u001b[0m     \u001b[39mif\u001b[39;00m \u001b[39mnot\u001b[39;00m nbformat \u001b[39mor\u001b[39;00m Version(nbformat\u001b[39m.\u001b[39m__version__) \u001b[39m<\u001b[39m Version(\u001b[39m\"\u001b[39m\u001b[39m4.2.0\u001b[39m\u001b[39m\"\u001b[39m):\n\u001b[0;32m--> 396\u001b[0m         \u001b[39mraise\u001b[39;00m \u001b[39mValueError\u001b[39;00m(\n\u001b[1;32m    397\u001b[0m             \u001b[39m\"\u001b[39m\u001b[39mMime type rendering requires nbformat>=4.2.0 but it is not installed\u001b[39m\u001b[39m\"\u001b[39m\n\u001b[1;32m    398\u001b[0m         )\n\u001b[1;32m    400\u001b[0m     ipython_display\u001b[39m.\u001b[39mdisplay(bundle, raw\u001b[39m=\u001b[39m\u001b[39mTrue\u001b[39;00m)\n\u001b[1;32m    402\u001b[0m \u001b[39m# external renderers\u001b[39;00m\n",
      "\u001b[0;31mValueError\u001b[0m: Mime type rendering requires nbformat>=4.2.0 but it is not installed"
     ]
    }
   ],
   "source": [
    "import plotly.graph_objects as go\n",
    "trace = go.Scatter(x=np.arange(len(mean_corr)), y=mean_corr, mode='lines')\n",
    "layout = go.Layout(title='Interactive Plot', xaxis=dict(title='Index'), yaxis=dict(title='Value'))\n",
    "fig = go.Figure(data=[trace], layout=layout)\n",
    "fig.show()"
   ]
  },
  {
   "cell_type": "code",
   "execution_count": 230,
   "metadata": {},
   "outputs": [
    {
     "ename": "ValueError",
     "evalue": "Mime type rendering requires nbformat>=4.2.0 but it is not installed",
     "output_type": "error",
     "traceback": [
      "\u001b[0;31m---------------------------------------------------------------------------\u001b[0m",
      "\u001b[0;31mValueError\u001b[0m                                Traceback (most recent call last)",
      "Cell \u001b[0;32mIn[230], line 3\u001b[0m\n\u001b[1;32m      1\u001b[0m \u001b[39mimport\u001b[39;00m \u001b[39mplotly\u001b[39;00m\u001b[39m.\u001b[39;00m\u001b[39mexpress\u001b[39;00m \u001b[39mas\u001b[39;00m \u001b[39mpx\u001b[39;00m\n\u001b[1;32m      2\u001b[0m fig \u001b[39m=\u001b[39m px\u001b[39m.\u001b[39mline(x \u001b[39m=\u001b[39m \u001b[39mrange\u001b[39m(\u001b[39m108\u001b[39m), y \u001b[39m=\u001b[39m mean_corr)\n\u001b[0;32m----> 3\u001b[0m fig\u001b[39m.\u001b[39;49mshow()\n",
      "File \u001b[0;32m~/furnaces-main/env/lib/python3.10/site-packages/plotly/basedatatypes.py:3390\u001b[0m, in \u001b[0;36mBaseFigure.show\u001b[0;34m(self, *args, **kwargs)\u001b[0m\n\u001b[1;32m   3357\u001b[0m \u001b[39m\u001b[39m\u001b[39m\"\"\"\u001b[39;00m\n\u001b[1;32m   3358\u001b[0m \u001b[39mShow a figure using either the default renderer(s) or the renderer(s)\u001b[39;00m\n\u001b[1;32m   3359\u001b[0m \u001b[39mspecified by the renderer argument\u001b[39;00m\n\u001b[0;32m   (...)\u001b[0m\n\u001b[1;32m   3386\u001b[0m \u001b[39mNone\u001b[39;00m\n\u001b[1;32m   3387\u001b[0m \u001b[39m\"\"\"\u001b[39;00m\n\u001b[1;32m   3388\u001b[0m \u001b[39mimport\u001b[39;00m \u001b[39mplotly\u001b[39;00m\u001b[39m.\u001b[39;00m\u001b[39mio\u001b[39;00m \u001b[39mas\u001b[39;00m \u001b[39mpio\u001b[39;00m\n\u001b[0;32m-> 3390\u001b[0m \u001b[39mreturn\u001b[39;00m pio\u001b[39m.\u001b[39;49mshow(\u001b[39mself\u001b[39;49m, \u001b[39m*\u001b[39;49margs, \u001b[39m*\u001b[39;49m\u001b[39m*\u001b[39;49mkwargs)\n",
      "File \u001b[0;32m~/furnaces-main/env/lib/python3.10/site-packages/plotly/io/_renderers.py:396\u001b[0m, in \u001b[0;36mshow\u001b[0;34m(fig, renderer, validate, **kwargs)\u001b[0m\n\u001b[1;32m    391\u001b[0m         \u001b[39mraise\u001b[39;00m \u001b[39mValueError\u001b[39;00m(\n\u001b[1;32m    392\u001b[0m             \u001b[39m\"\u001b[39m\u001b[39mMime type rendering requires ipython but it is not installed\u001b[39m\u001b[39m\"\u001b[39m\n\u001b[1;32m    393\u001b[0m         )\n\u001b[1;32m    395\u001b[0m     \u001b[39mif\u001b[39;00m \u001b[39mnot\u001b[39;00m nbformat \u001b[39mor\u001b[39;00m Version(nbformat\u001b[39m.\u001b[39m__version__) \u001b[39m<\u001b[39m Version(\u001b[39m\"\u001b[39m\u001b[39m4.2.0\u001b[39m\u001b[39m\"\u001b[39m):\n\u001b[0;32m--> 396\u001b[0m         \u001b[39mraise\u001b[39;00m \u001b[39mValueError\u001b[39;00m(\n\u001b[1;32m    397\u001b[0m             \u001b[39m\"\u001b[39m\u001b[39mMime type rendering requires nbformat>=4.2.0 but it is not installed\u001b[39m\u001b[39m\"\u001b[39m\n\u001b[1;32m    398\u001b[0m         )\n\u001b[1;32m    400\u001b[0m     ipython_display\u001b[39m.\u001b[39mdisplay(bundle, raw\u001b[39m=\u001b[39m\u001b[39mTrue\u001b[39;00m)\n\u001b[1;32m    402\u001b[0m \u001b[39m# external renderers\u001b[39;00m\n",
      "\u001b[0;31mValueError\u001b[0m: Mime type rendering requires nbformat>=4.2.0 but it is not installed"
     ]
    }
   ],
   "source": [
    "import plotly.express as px\n",
    "fig = px.line(x = range(108), y = mean_corr)\n",
    "fig.show()"
   ]
  },
  {
   "cell_type": "code",
   "execution_count": 192,
   "metadata": {},
   "outputs": [],
   "source": [
    "arr = np.array(shaf_data.iloc[valid_coords[0]])\n",
    "corr = np.correlate(arr,arr,mode='full')"
   ]
  },
  {
   "cell_type": "code",
   "execution_count": 194,
   "metadata": {},
   "outputs": [
    {
     "data": {
      "text/plain": [
       "array([ 0.,  0.,  0.,  0.,  0.,  0.,  0.,  0.,  0.,  0.,  0.,  0.,  0.,\n",
       "        0.,  0.,  0.,  0.,  0.,  0.,  0.,  0.,  0.,  0.,  0.,  0.,  0.,\n",
       "        0.,  0.,  0.,  0.,  0.,  0.,  0.,  0.,  0.,  0.,  0.,  0.,  0.,\n",
       "        0.,  0.,  0.,  0.,  0.,  0.,  0.,  0.,  0.,  0.,  0.,  0.,  0.,\n",
       "        0.,  0.,  0.,  0.,  0.,  0.,  0.,  0.,  0.,  0.,  0.,  0.,  0.,\n",
       "        0.,  0.,  0.,  0.,  0.,  0.,  0.,  0.,  0.,  0.,  0.,  0.,  0.,\n",
       "        0.,  0.,  5.,  0.,  0.,  0., 20.,  0.,  0.,  0.,  0.,  0.,  0.,\n",
       "        0.,  0.,  0.,  0.,  0.,  0.,  0.,  0.,  0.,  0.,  0.,  0.,  4.,\n",
       "        0.,  0.,  0., 42.,  0.,  0.,  0.,  4.,  0.,  0.,  0.,  0.,  0.,\n",
       "        0.,  0.,  0.,  0.,  0.,  0.,  0.,  0.,  0.,  0.,  0.,  0.,  0.,\n",
       "       20.,  0.,  0.,  0.,  5.,  0.,  0.,  0.,  0.,  0.,  0.,  0.,  0.,\n",
       "        0.,  0.,  0.,  0.,  0.,  0.,  0.,  0.,  0.,  0.,  0.,  0.,  0.,\n",
       "        0.,  0.,  0.,  0.,  0.,  0.,  0.,  0.,  0.,  0.,  0.,  0.,  0.,\n",
       "        0.,  0.,  0.,  0.,  0.,  0.,  0.,  0.,  0.,  0.,  0.,  0.,  0.,\n",
       "        0.,  0.,  0.,  0.,  0.,  0.,  0.,  0.,  0.,  0.,  0.,  0.,  0.,\n",
       "        0.,  0.,  0.,  0.,  0.,  0.,  0.,  0.,  0.,  0.,  0.,  0.,  0.,\n",
       "        0.,  0.,  0.,  0.,  0.,  0.,  0.])"
      ]
     },
     "execution_count": 194,
     "metadata": {},
     "output_type": "execute_result"
    }
   ],
   "source": [
    "corr"
   ]
  },
  {
   "cell_type": "code",
   "execution_count": 195,
   "metadata": {},
   "outputs": [],
   "source": [
    "corr = corr[corr.size//2:]"
   ]
  },
  {
   "cell_type": "code",
   "execution_count": 196,
   "metadata": {},
   "outputs": [
    {
     "data": {
      "text/plain": [
       "array([42.,  0.,  0.,  0.,  4.,  0.,  0.,  0.,  0.,  0.,  0.,  0.,  0.,\n",
       "        0.,  0.,  0.,  0.,  0.,  0.,  0.,  0.,  0.,  0., 20.,  0.,  0.,\n",
       "        0.,  5.,  0.,  0.,  0.,  0.,  0.,  0.,  0.,  0.,  0.,  0.,  0.,\n",
       "        0.,  0.,  0.,  0.,  0.,  0.,  0.,  0.,  0.,  0.,  0.,  0.,  0.,\n",
       "        0.,  0.,  0.,  0.,  0.,  0.,  0.,  0.,  0.,  0.,  0.,  0.,  0.,\n",
       "        0.,  0.,  0.,  0.,  0.,  0.,  0.,  0.,  0.,  0.,  0.,  0.,  0.,\n",
       "        0.,  0.,  0.,  0.,  0.,  0.,  0.,  0.,  0.,  0.,  0.,  0.,  0.,\n",
       "        0.,  0.,  0.,  0.,  0.,  0.,  0.,  0.,  0.,  0.,  0.,  0.,  0.,\n",
       "        0.,  0.,  0.,  0.])"
      ]
     },
     "execution_count": 196,
     "metadata": {},
     "output_type": "execute_result"
    }
   ],
   "source": [
    "corr"
   ]
  },
  {
   "cell_type": "code",
   "execution_count": null,
   "metadata": {},
   "outputs": [],
   "source": []
  },
  {
   "cell_type": "code",
   "execution_count": 152,
   "metadata": {},
   "outputs": [
    {
     "ename": "TypeError",
     "evalue": "unsupported operand type(s) for /: 'list' and 'int'",
     "output_type": "error",
     "traceback": [
      "\u001b[0;31m---------------------------------------------------------------------------\u001b[0m",
      "\u001b[0;31mTypeError\u001b[0m                                 Traceback (most recent call last)",
      "Cell \u001b[0;32mIn[152], line 1\u001b[0m\n\u001b[0;32m----> 1\u001b[0m autocorr \u001b[39m=\u001b[39m shaf_data\u001b[39m.\u001b[39;49mautocorr()\n",
      "File \u001b[0;32m~/furnaces-main/env/lib/python3.10/site-packages/pandas/core/series.py:2951\u001b[0m, in \u001b[0;36mSeries.autocorr\u001b[0;34m(self, lag)\u001b[0m\n\u001b[1;32m   2908\u001b[0m \u001b[39mdef\u001b[39;00m \u001b[39mautocorr\u001b[39m(\u001b[39mself\u001b[39m, lag: \u001b[39mint\u001b[39m \u001b[39m=\u001b[39m \u001b[39m1\u001b[39m) \u001b[39m-\u001b[39m\u001b[39m>\u001b[39m \u001b[39mfloat\u001b[39m:\n\u001b[1;32m   2909\u001b[0m \u001b[39m    \u001b[39m\u001b[39m\"\"\"\u001b[39;00m\n\u001b[1;32m   2910\u001b[0m \u001b[39m    Compute the lag-N autocorrelation.\u001b[39;00m\n\u001b[1;32m   2911\u001b[0m \n\u001b[0;32m   (...)\u001b[0m\n\u001b[1;32m   2949\u001b[0m \u001b[39m    nan\u001b[39;00m\n\u001b[1;32m   2950\u001b[0m \u001b[39m    \"\"\"\u001b[39;00m\n\u001b[0;32m-> 2951\u001b[0m     \u001b[39mreturn\u001b[39;00m \u001b[39mself\u001b[39;49m\u001b[39m.\u001b[39;49mcorr(\u001b[39mself\u001b[39;49m\u001b[39m.\u001b[39;49mshift(lag))\n",
      "File \u001b[0;32m~/furnaces-main/env/lib/python3.10/site-packages/pandas/core/series.py:2760\u001b[0m, in \u001b[0;36mSeries.corr\u001b[0;34m(self, other, method, min_periods)\u001b[0m\n\u001b[1;32m   2757\u001b[0m     \u001b[39mreturn\u001b[39;00m np\u001b[39m.\u001b[39mnan\n\u001b[1;32m   2759\u001b[0m \u001b[39mif\u001b[39;00m method \u001b[39min\u001b[39;00m [\u001b[39m\"\u001b[39m\u001b[39mpearson\u001b[39m\u001b[39m\"\u001b[39m, \u001b[39m\"\u001b[39m\u001b[39mspearman\u001b[39m\u001b[39m\"\u001b[39m, \u001b[39m\"\u001b[39m\u001b[39mkendall\u001b[39m\u001b[39m\"\u001b[39m] \u001b[39mor\u001b[39;00m callable(method):\n\u001b[0;32m-> 2760\u001b[0m     \u001b[39mreturn\u001b[39;00m nanops\u001b[39m.\u001b[39;49mnancorr(\n\u001b[1;32m   2761\u001b[0m         this\u001b[39m.\u001b[39;49mvalues, other\u001b[39m.\u001b[39;49mvalues, method\u001b[39m=\u001b[39;49mmethod, min_periods\u001b[39m=\u001b[39;49mmin_periods\n\u001b[1;32m   2762\u001b[0m     )\n\u001b[1;32m   2764\u001b[0m \u001b[39mraise\u001b[39;00m \u001b[39mValueError\u001b[39;00m(\n\u001b[1;32m   2765\u001b[0m     \u001b[39m\"\u001b[39m\u001b[39mmethod must be either \u001b[39m\u001b[39m'\u001b[39m\u001b[39mpearson\u001b[39m\u001b[39m'\u001b[39m\u001b[39m, \u001b[39m\u001b[39m\"\u001b[39m\n\u001b[1;32m   2766\u001b[0m     \u001b[39m\"\u001b[39m\u001b[39m'\u001b[39m\u001b[39mspearman\u001b[39m\u001b[39m'\u001b[39m\u001b[39m, \u001b[39m\u001b[39m'\u001b[39m\u001b[39mkendall\u001b[39m\u001b[39m'\u001b[39m\u001b[39m, or a callable, \u001b[39m\u001b[39m\"\u001b[39m\n\u001b[1;32m   2767\u001b[0m     \u001b[39mf\u001b[39m\u001b[39m\"\u001b[39m\u001b[39m'\u001b[39m\u001b[39m{\u001b[39;00mmethod\u001b[39m}\u001b[39;00m\u001b[39m'\u001b[39m\u001b[39m was supplied\u001b[39m\u001b[39m\"\u001b[39m\n\u001b[1;32m   2768\u001b[0m )\n",
      "File \u001b[0;32m~/furnaces-main/env/lib/python3.10/site-packages/pandas/core/nanops.py:93\u001b[0m, in \u001b[0;36mdisallow.__call__.<locals>._f\u001b[0;34m(*args, **kwargs)\u001b[0m\n\u001b[1;32m     91\u001b[0m \u001b[39mtry\u001b[39;00m:\n\u001b[1;32m     92\u001b[0m     \u001b[39mwith\u001b[39;00m np\u001b[39m.\u001b[39merrstate(invalid\u001b[39m=\u001b[39m\u001b[39m\"\u001b[39m\u001b[39mignore\u001b[39m\u001b[39m\"\u001b[39m):\n\u001b[0;32m---> 93\u001b[0m         \u001b[39mreturn\u001b[39;00m f(\u001b[39m*\u001b[39;49margs, \u001b[39m*\u001b[39;49m\u001b[39m*\u001b[39;49mkwargs)\n\u001b[1;32m     94\u001b[0m \u001b[39mexcept\u001b[39;00m \u001b[39mValueError\u001b[39;00m \u001b[39mas\u001b[39;00m e:\n\u001b[1;32m     95\u001b[0m     \u001b[39m# we want to transform an object array\u001b[39;00m\n\u001b[1;32m     96\u001b[0m     \u001b[39m# ValueError message to the more typical TypeError\u001b[39;00m\n\u001b[1;32m     97\u001b[0m     \u001b[39m# e.g. this is normally a disallowed function on\u001b[39;00m\n\u001b[1;32m     98\u001b[0m     \u001b[39m# object arrays that contain strings\u001b[39;00m\n\u001b[1;32m     99\u001b[0m     \u001b[39mif\u001b[39;00m is_object_dtype(args[\u001b[39m0\u001b[39m]):\n",
      "File \u001b[0;32m~/furnaces-main/env/lib/python3.10/site-packages/pandas/core/nanops.py:1554\u001b[0m, in \u001b[0;36mnancorr\u001b[0;34m(a, b, method, min_periods)\u001b[0m\n\u001b[1;32m   1551\u001b[0m     \u001b[39mreturn\u001b[39;00m np\u001b[39m.\u001b[39mnan\n\u001b[1;32m   1553\u001b[0m f \u001b[39m=\u001b[39m get_corr_func(method)\n\u001b[0;32m-> 1554\u001b[0m \u001b[39mreturn\u001b[39;00m f(a, b)\n",
      "File \u001b[0;32m~/furnaces-main/env/lib/python3.10/site-packages/pandas/core/nanops.py:1575\u001b[0m, in \u001b[0;36mget_corr_func.<locals>.func\u001b[0;34m(a, b)\u001b[0m\n\u001b[1;32m   1574\u001b[0m \u001b[39mdef\u001b[39;00m \u001b[39mfunc\u001b[39m(a, b):\n\u001b[0;32m-> 1575\u001b[0m     \u001b[39mreturn\u001b[39;00m np\u001b[39m.\u001b[39;49mcorrcoef(a, b)[\u001b[39m0\u001b[39m, \u001b[39m1\u001b[39m]\n",
      "File \u001b[0;32m<__array_function__ internals>:200\u001b[0m, in \u001b[0;36mcorrcoef\u001b[0;34m(*args, **kwargs)\u001b[0m\n",
      "File \u001b[0;32m~/furnaces-main/env/lib/python3.10/site-packages/numpy/lib/function_base.py:2846\u001b[0m, in \u001b[0;36mcorrcoef\u001b[0;34m(x, y, rowvar, bias, ddof, dtype)\u001b[0m\n\u001b[1;32m   2842\u001b[0m \u001b[39mif\u001b[39;00m bias \u001b[39mis\u001b[39;00m \u001b[39mnot\u001b[39;00m np\u001b[39m.\u001b[39m_NoValue \u001b[39mor\u001b[39;00m ddof \u001b[39mis\u001b[39;00m \u001b[39mnot\u001b[39;00m np\u001b[39m.\u001b[39m_NoValue:\n\u001b[1;32m   2843\u001b[0m     \u001b[39m# 2015-03-15, 1.10\u001b[39;00m\n\u001b[1;32m   2844\u001b[0m     warnings\u001b[39m.\u001b[39mwarn(\u001b[39m'\u001b[39m\u001b[39mbias and ddof have no effect and are deprecated\u001b[39m\u001b[39m'\u001b[39m,\n\u001b[1;32m   2845\u001b[0m                   \u001b[39mDeprecationWarning\u001b[39;00m, stacklevel\u001b[39m=\u001b[39m\u001b[39m3\u001b[39m)\n\u001b[0;32m-> 2846\u001b[0m c \u001b[39m=\u001b[39m cov(x, y, rowvar, dtype\u001b[39m=\u001b[39;49mdtype)\n\u001b[1;32m   2847\u001b[0m \u001b[39mtry\u001b[39;00m:\n\u001b[1;32m   2848\u001b[0m     d \u001b[39m=\u001b[39m diag(c)\n",
      "File \u001b[0;32m<__array_function__ internals>:200\u001b[0m, in \u001b[0;36mcov\u001b[0;34m(*args, **kwargs)\u001b[0m\n",
      "File \u001b[0;32m~/furnaces-main/env/lib/python3.10/site-packages/numpy/lib/function_base.py:2681\u001b[0m, in \u001b[0;36mcov\u001b[0;34m(m, y, rowvar, bias, ddof, fweights, aweights, dtype)\u001b[0m\n\u001b[1;32m   2678\u001b[0m     \u001b[39melse\u001b[39;00m:\n\u001b[1;32m   2679\u001b[0m         w \u001b[39m*\u001b[39m\u001b[39m=\u001b[39m aweights\n\u001b[0;32m-> 2681\u001b[0m avg, w_sum \u001b[39m=\u001b[39m average(X, axis\u001b[39m=\u001b[39;49m\u001b[39m1\u001b[39;49m, weights\u001b[39m=\u001b[39;49mw, returned\u001b[39m=\u001b[39;49m\u001b[39mTrue\u001b[39;49;00m)\n\u001b[1;32m   2682\u001b[0m w_sum \u001b[39m=\u001b[39m w_sum[\u001b[39m0\u001b[39m]\n\u001b[1;32m   2684\u001b[0m \u001b[39m# Determine the normalization\u001b[39;00m\n",
      "File \u001b[0;32m<__array_function__ internals>:200\u001b[0m, in \u001b[0;36maverage\u001b[0;34m(*args, **kwargs)\u001b[0m\n",
      "File \u001b[0;32m~/furnaces-main/env/lib/python3.10/site-packages/numpy/lib/function_base.py:518\u001b[0m, in \u001b[0;36maverage\u001b[0;34m(a, axis, weights, returned, keepdims)\u001b[0m\n\u001b[1;32m    515\u001b[0m     keepdims_kw \u001b[39m=\u001b[39m {\u001b[39m'\u001b[39m\u001b[39mkeepdims\u001b[39m\u001b[39m'\u001b[39m: keepdims}\n\u001b[1;32m    517\u001b[0m \u001b[39mif\u001b[39;00m weights \u001b[39mis\u001b[39;00m \u001b[39mNone\u001b[39;00m:\n\u001b[0;32m--> 518\u001b[0m     avg \u001b[39m=\u001b[39m a\u001b[39m.\u001b[39;49mmean(axis, \u001b[39m*\u001b[39;49m\u001b[39m*\u001b[39;49mkeepdims_kw)\n\u001b[1;32m    519\u001b[0m     avg_as_array \u001b[39m=\u001b[39m np\u001b[39m.\u001b[39masanyarray(avg)\n\u001b[1;32m    520\u001b[0m     scl \u001b[39m=\u001b[39m avg_as_array\u001b[39m.\u001b[39mdtype\u001b[39m.\u001b[39mtype(a\u001b[39m.\u001b[39msize\u001b[39m/\u001b[39mavg_as_array\u001b[39m.\u001b[39msize)\n",
      "File \u001b[0;32m~/furnaces-main/env/lib/python3.10/site-packages/numpy/core/_methods.py:184\u001b[0m, in \u001b[0;36m_mean\u001b[0;34m(a, axis, dtype, out, keepdims, where)\u001b[0m\n\u001b[1;32m    182\u001b[0m \u001b[39mif\u001b[39;00m \u001b[39misinstance\u001b[39m(ret, mu\u001b[39m.\u001b[39mndarray):\n\u001b[1;32m    183\u001b[0m     \u001b[39mwith\u001b[39;00m _no_nep50_warning():\n\u001b[0;32m--> 184\u001b[0m         ret \u001b[39m=\u001b[39m um\u001b[39m.\u001b[39;49mtrue_divide(\n\u001b[1;32m    185\u001b[0m                 ret, rcount, out\u001b[39m=\u001b[39;49mret, casting\u001b[39m=\u001b[39;49m\u001b[39m'\u001b[39;49m\u001b[39munsafe\u001b[39;49m\u001b[39m'\u001b[39;49m, subok\u001b[39m=\u001b[39;49m\u001b[39mFalse\u001b[39;49;00m)\n\u001b[1;32m    186\u001b[0m     \u001b[39mif\u001b[39;00m is_float16_result \u001b[39mand\u001b[39;00m out \u001b[39mis\u001b[39;00m \u001b[39mNone\u001b[39;00m:\n\u001b[1;32m    187\u001b[0m         ret \u001b[39m=\u001b[39m arr\u001b[39m.\u001b[39mdtype\u001b[39m.\u001b[39mtype(ret)\n",
      "\u001b[0;31mTypeError\u001b[0m: unsupported operand type(s) for /: 'list' and 'int'"
     ]
    }
   ],
   "source": [
    "autocorr = shaf_data.autocorr()"
   ]
  },
  {
   "cell_type": "code",
   "execution_count": 160,
   "metadata": {},
   "outputs": [],
   "source": [
    "df.to_csv('../../data/ign_coords.csv')"
   ]
  },
  {
   "cell_type": "code",
   "execution_count": 161,
   "metadata": {},
   "outputs": [
    {
     "data": {
      "text/html": [
       "<div>\n",
       "<style scoped>\n",
       "    .dataframe tbody tr th:only-of-type {\n",
       "        vertical-align: middle;\n",
       "    }\n",
       "\n",
       "    .dataframe tbody tr th {\n",
       "        vertical-align: top;\n",
       "    }\n",
       "\n",
       "    .dataframe thead th {\n",
       "        text-align: right;\n",
       "    }\n",
       "</style>\n",
       "<table border=\"1\" class=\"dataframe\">\n",
       "  <thead>\n",
       "    <tr style=\"text-align: right;\">\n",
       "      <th></th>\n",
       "      <th>pftCrop</th>\n",
       "      <th>pftShrubBD</th>\n",
       "      <th>ign</th>\n",
       "      <th>faPAR</th>\n",
       "      <th>precip</th>\n",
       "      <th>temp_max</th>\n",
       "    </tr>\n",
       "  </thead>\n",
       "  <tbody>\n",
       "    <tr>\n",
       "      <th>0</th>\n",
       "      <td>0.00037</td>\n",
       "      <td>0.014883</td>\n",
       "      <td>0.0</td>\n",
       "      <td>0.355189</td>\n",
       "      <td>823.126289</td>\n",
       "      <td>8.241667</td>\n",
       "    </tr>\n",
       "    <tr>\n",
       "      <th>1</th>\n",
       "      <td>0.00037</td>\n",
       "      <td>0.014883</td>\n",
       "      <td>0.0</td>\n",
       "      <td>0.358491</td>\n",
       "      <td>878.642670</td>\n",
       "      <td>9.066667</td>\n",
       "    </tr>\n",
       "    <tr>\n",
       "      <th>2</th>\n",
       "      <td>0.00037</td>\n",
       "      <td>0.014883</td>\n",
       "      <td>0.0</td>\n",
       "      <td>0.213130</td>\n",
       "      <td>738.668304</td>\n",
       "      <td>8.233334</td>\n",
       "    </tr>\n",
       "    <tr>\n",
       "      <th>3</th>\n",
       "      <td>0.00037</td>\n",
       "      <td>0.014883</td>\n",
       "      <td>0.0</td>\n",
       "      <td>0.201222</td>\n",
       "      <td>785.473183</td>\n",
       "      <td>8.633333</td>\n",
       "    </tr>\n",
       "    <tr>\n",
       "      <th>4</th>\n",
       "      <td>0.00037</td>\n",
       "      <td>0.014883</td>\n",
       "      <td>0.0</td>\n",
       "      <td>0.189196</td>\n",
       "      <td>1010.882393</td>\n",
       "      <td>8.033333</td>\n",
       "    </tr>\n",
       "  </tbody>\n",
       "</table>\n",
       "</div>"
      ],
      "text/plain": [
       "   pftCrop  pftShrubBD  ign     faPAR       precip  temp_max\n",
       "0  0.00037    0.014883  0.0  0.355189   823.126289  8.241667\n",
       "1  0.00037    0.014883  0.0  0.358491   878.642670  9.066667\n",
       "2  0.00037    0.014883  0.0  0.213130   738.668304  8.233334\n",
       "3  0.00037    0.014883  0.0  0.201222   785.473183  8.633333\n",
       "4  0.00037    0.014883  0.0  0.189196  1010.882393  8.033333"
      ]
     },
     "execution_count": 161,
     "metadata": {},
     "output_type": "execute_result"
    }
   ],
   "source": [
    "import pandas as pd\n",
    "\n",
    "df = pd.read_csv(\"../../data/annual_mean_base.csv\")\n",
    "df.head()"
   ]
  },
  {
   "cell_type": "code",
   "execution_count": 162,
   "metadata": {},
   "outputs": [],
   "source": [
    "del(df)"
   ]
  },
  {
   "cell_type": "code",
   "execution_count": 163,
   "metadata": {},
   "outputs": [],
   "source": [
    "from netCDF4 import Dataset\n",
    "ds = Dataset(\"../../data/dataset_subset_2003-2011_annual.nc\")"
   ]
  },
  {
   "cell_type": "code",
   "execution_count": 164,
   "metadata": {},
   "outputs": [
    {
     "data": {
      "text/plain": [
       "<class 'netCDF4._netCDF4.Dataset'>\n",
       "root group (NETCDF4_CLASSIC data model, file format HDF5):\n",
       "    CDI: Climate Data Interface version ?? (http://mpimet.mpg.de/cdi)\n",
       "    history: Fri Feb 17 12:47:20 2023: cdo seldate,2003-01-01,2011-12-31 dataset_annual_clean.nc dataset_subset_2003-2011_annual.nc\n",
       "Fri Feb 17 12:47:09 2023: cdo select,name=lat,lon,time,primn,pet,ign,wet,agb,pftCrop,pftHerb,pftShrubBD,pftShrubNE,pftTreeBD,pftTreeBE,pftTreeND,pftTreeNE,sm,precip,fPAR,LAI,vod_K_anomalies,GDP_per_capita_PPP,pop_density,pastr,Band1,road_density datasets_full_annual.nc /mnt/d/Data/01_Combined_Datasets/ready/processed/dataset_annual_clean.nc\n",
       "Fri Feb 10 18:05:03 2023: cdo merge datasets_annual.nc GFA_n_ignitions_monthly_0d25_2003-2016_remap_yearsum.nc datasets_full_annual.nc\n",
       "Tue Jan 31 15:48:12 2023: cdo yearsum GFA_n_ignitions_monthly_0d25_2003-2016_remap.nc GFA_n_ignitions_monthly_0d25_2003-2016_remap_yearsum.nc\n",
       "Mon Aug 23 10:52:28 2021: cdo remapnn,regrid.txt GFA_n_ignitions_monthly_0d25_2003-2016.nc GFA_n_ignitions_monthly_0d25_2003-2016_remap.nc\n",
       "    Conventions: CF-1.6\n",
       "    host: UMD College Park\n",
       "    comment: LUH2\n",
       "    contact: gchurtt@umd.edu, lchini@umd.edu, steve.frolking@unh.edu, ritvik@umd.edu\n",
       "    creation_date: 2018-01-10T14:01:14Z\n",
       "    title: Land-Use Harmonization Data Sets\n",
       "    activity_id: input4MIPs\n",
       "    data_structure: grid\n",
       "    further_info_url: http://luh.umd.edu\n",
       "    frequency: yr\n",
       "    institution_id: UofMD\n",
       "    realm: land\n",
       "    references: Hurtt, Chini et al. 2011\n",
       "    license: Land-Use Harmonization data produced by the University of Maryland is licensed under a Creative Commons Attribution \"Share Alike\" 4.0 International License (http://creativecommons.org/licenses/by/4.0/). The data producers and data providers make no warranty, either express or implied, including but not limited to, warranties of merchantability and fitness for a particular purpose. All liabilities arising from the supply of the information (including any liability arising in negligence) are excluded to the fullest extent permitted by law.\n",
       "    source_id: UofMD-landState-LUH2-2-1-low\n",
       "    dataset_version_number: 2.1low\n",
       "    dataset_category: landState\n",
       "    variable_id: multiple\n",
       "    grid_label: gn\n",
       "    mip_era: CMIP6\n",
       "    CDO: Climate Data Operators version 1.7.0 (http://mpimet.mpg.de/cdo)\n",
       "    dimensions(sizes): lon(1440), lat(720), sfc(2), time(9), bnds(2)\n",
       "    variables(dimensions): float64 lon(lon), float64 lat(lat), float64 sfc(sfc), float64 time(time), float64 time_bnds(time, bnds), float32 primn(time, sfc, lat, lon), float32 pet(time, lat, lon), float32 wet(time, lat, lon), float32 agb(time, lat, lon), float32 pftCrop(time, lat, lon), float32 pftHerb(time, lat, lon), float32 pftShrubBD(time, lat, lon), float32 pftShrubNE(time, lat, lon), float32 pftTreeBD(time, lat, lon), float32 pftTreeBE(time, lat, lon), float32 pftTreeND(time, lat, lon), float32 pftTreeNE(time, lat, lon), float32 sm(time, lat, lon), float32 precip(time, lat, lon), float32 GDP_per_capita_PPP(time, lat, lon), float32 pastr(time, lat, lon), float64 Band1(time, lat, lon), int32 road_density(time, lat, lon), float32 fPAR(time, lat, lon), float32 LAI(time, lat, lon), float64 pop_density(time, lat, lon), float64 vod_K_anomalies(time, lat, lon), int16 ign(time, lat, lon)\n",
       "    groups: "
      ]
     },
     "execution_count": 164,
     "metadata": {},
     "output_type": "execute_result"
    }
   ],
   "source": [
    "ds"
   ]
  },
  {
   "cell_type": "code",
   "execution_count": 165,
   "metadata": {},
   "outputs": [
    {
     "data": {
      "text/plain": [
       "['CDI',\n",
       " 'CDO',\n",
       " 'Conventions',\n",
       " '__class__',\n",
       " '__delattr__',\n",
       " '__dir__',\n",
       " '__doc__',\n",
       " '__enter__',\n",
       " '__eq__',\n",
       " '__exit__',\n",
       " '__format__',\n",
       " '__ge__',\n",
       " '__getattr__',\n",
       " '__getattribute__',\n",
       " '__getitem__',\n",
       " '__gt__',\n",
       " '__hash__',\n",
       " '__init__',\n",
       " '__init_subclass__',\n",
       " '__le__',\n",
       " '__lt__',\n",
       " '__ne__',\n",
       " '__new__',\n",
       " '__orthogonal_indexing__',\n",
       " '__reduce__',\n",
       " '__reduce_ex__',\n",
       " '__repr__',\n",
       " '__setattr__',\n",
       " '__sizeof__',\n",
       " '__str__',\n",
       " '__subclasshook__',\n",
       " '_close',\n",
       " '_close_mem',\n",
       " '_enddef',\n",
       " '_getname',\n",
       " '_grpid',\n",
       " '_isopen',\n",
       " '_ncstring_attrs__',\n",
       " '_redef',\n",
       " 'activity_id',\n",
       " 'close',\n",
       " 'cmptypes',\n",
       " 'comment',\n",
       " 'contact',\n",
       " 'createCompoundType',\n",
       " 'createDimension',\n",
       " 'createEnumType',\n",
       " 'createGroup',\n",
       " 'createVLType',\n",
       " 'createVariable',\n",
       " 'creation_date',\n",
       " 'data_model',\n",
       " 'data_structure',\n",
       " 'dataset_category',\n",
       " 'dataset_version_number',\n",
       " 'delncattr',\n",
       " 'dimensions',\n",
       " 'disk_format',\n",
       " 'enumtypes',\n",
       " 'file_format',\n",
       " 'filepath',\n",
       " 'frequency',\n",
       " 'fromcdl',\n",
       " 'further_info_url',\n",
       " 'get_variables_by_attributes',\n",
       " 'getncattr',\n",
       " 'grid_label',\n",
       " 'groups',\n",
       " 'has_blosc_filter',\n",
       " 'has_bzip2_filter',\n",
       " 'has_szip_filter',\n",
       " 'has_zstd_filter',\n",
       " 'history',\n",
       " 'host',\n",
       " 'institution_id',\n",
       " 'isopen',\n",
       " 'keepweakref',\n",
       " 'license',\n",
       " 'mip_era',\n",
       " 'name',\n",
       " 'ncattrs',\n",
       " 'parent',\n",
       " 'path',\n",
       " 'realm',\n",
       " 'references',\n",
       " 'renameAttribute',\n",
       " 'renameDimension',\n",
       " 'renameGroup',\n",
       " 'renameVariable',\n",
       " 'set_always_mask',\n",
       " 'set_auto_chartostring',\n",
       " 'set_auto_mask',\n",
       " 'set_auto_maskandscale',\n",
       " 'set_auto_scale',\n",
       " 'set_fill_off',\n",
       " 'set_fill_on',\n",
       " 'set_ncstring_attrs',\n",
       " 'setncattr',\n",
       " 'setncattr_string',\n",
       " 'setncatts',\n",
       " 'source_id',\n",
       " 'sync',\n",
       " 'title',\n",
       " 'tocdl',\n",
       " 'variable_id',\n",
       " 'variables',\n",
       " 'vltypes']"
      ]
     },
     "execution_count": 165,
     "metadata": {},
     "output_type": "execute_result"
    }
   ],
   "source": [
    "dir(ds)"
   ]
  },
  {
   "cell_type": "code",
   "execution_count": 167,
   "metadata": {},
   "outputs": [
    {
     "data": {
      "text/plain": [
       "{'lon': <class 'netCDF4._netCDF4.Variable'>\n",
       " float64 lon(lon)\n",
       "     standard_name: longitude\n",
       "     long_name: longitude\n",
       "     units: degrees_east\n",
       "     axis: X\n",
       " unlimited dimensions: \n",
       " current shape = (1440,)\n",
       " filling on, default _FillValue of 9.969209968386869e+36 used,\n",
       " 'lat': <class 'netCDF4._netCDF4.Variable'>\n",
       " float64 lat(lat)\n",
       "     standard_name: latitude\n",
       "     long_name: latitude\n",
       "     units: degrees_north\n",
       "     axis: Y\n",
       " unlimited dimensions: \n",
       " current shape = (720,)\n",
       " filling on, default _FillValue of 9.969209968386869e+36 used,\n",
       " 'sfc': <class 'netCDF4._netCDF4.Variable'>\n",
       " float64 sfc(sfc)\n",
       "     long_name: surface\n",
       "     axis: Z\n",
       " unlimited dimensions: \n",
       " current shape = (2,)\n",
       " filling on, default _FillValue of 9.969209968386869e+36 used,\n",
       " 'time': <class 'netCDF4._netCDF4.Variable'>\n",
       " float64 time(time)\n",
       "     standard_name: time\n",
       "     long_name: time\n",
       "     bounds: time_bnds\n",
       "     units: months since 2003-1-1 12:00:00\n",
       "     calendar: 365_day\n",
       "     axis: T\n",
       " unlimited dimensions: time\n",
       " current shape = (9,)\n",
       " filling on, default _FillValue of 9.969209968386869e+36 used,\n",
       " 'time_bnds': <class 'netCDF4._netCDF4.Variable'>\n",
       " float64 time_bnds(time, bnds)\n",
       " unlimited dimensions: time\n",
       " current shape = (9, 2)\n",
       " filling on, default _FillValue of 9.969209968386869e+36 used,\n",
       " 'primn': <class 'netCDF4._netCDF4.Variable'>\n",
       " float32 primn(time, sfc, lat, lon)\n",
       "     standard_name: area_fraction\n",
       "     long_name: non-forested primary land\n",
       "     units: 1\n",
       "     _FillValue: 1e+20\n",
       "     missing_value: 1e+20\n",
       "     _fillvalue: 1e+20\n",
       "     cell_methods: time:mean\n",
       "     long_name_description: non-forested primary land\n",
       " unlimited dimensions: time\n",
       " current shape = (9, 2, 720, 1440)\n",
       " filling on,\n",
       " 'pet': <class 'netCDF4._netCDF4.Variable'>\n",
       " float32 pet(time, lat, lon)\n",
       "     long_name: potential evapotranspiration\n",
       "     units: mm/day\n",
       "     _FillValue: 9.96921e+36\n",
       "     missing_value: 9.96921e+36\n",
       "     correlation_decay_distance: -999.0\n",
       " unlimited dimensions: time\n",
       " current shape = (9, 720, 1440)\n",
       " filling on,\n",
       " 'wet': <class 'netCDF4._netCDF4.Variable'>\n",
       " float32 wet(time, lat, lon)\n",
       "     long_name: wet day frequency\n",
       "     units: days\n",
       "     _FillValue: 9.96921e+36\n",
       "     missing_value: 9.96921e+36\n",
       "     correlation_decay_distance: 450.0\n",
       " unlimited dimensions: time\n",
       " current shape = (9, 720, 1440)\n",
       " filling on,\n",
       " 'agb': <class 'netCDF4._netCDF4.Variable'>\n",
       " float32 agb(time, lat, lon)\n",
       "     long_name: Above-ground biomass\n",
       "     units: Mg/ha\n",
       "     _FillValue: -3.4e+38\n",
       "     missing_value: -3.4e+38\n",
       "     proj4: +proj=longlat +datum=WGS84 +ellps=WGS84 +towgs84=0,0,0\n",
       "     min: 0.0\n",
       "     max: 341.26003913478587\n",
       " unlimited dimensions: time\n",
       " current shape = (9, 720, 1440)\n",
       " filling on,\n",
       " 'pftCrop': <class 'netCDF4._netCDF4.Variable'>\n",
       " float32 pftCrop(time, lat, lon)\n",
       "     long_name: pftCrop\n",
       "     _FillValue: -3.4e+38\n",
       "     missing_value: -3.4e+38\n",
       "     min: [4.93683983e-05 4.93683983e-05 4.93683983e-05 4.93683983e-05\n",
       "  4.93683983e-05 4.93683765e-05 4.93683401e-05 4.93683401e-05\n",
       "  4.93683474e-05 4.93683547e-05 4.93683765e-05 4.93683765e-05\n",
       "  4.93683765e-05 4.93683401e-05 4.93683401e-05 4.93683401e-05\n",
       "  4.93685984e-05 4.93684565e-05 4.93684565e-05 4.93684638e-05\n",
       "  4.93684638e-05 4.93684711e-05 4.93685402e-05 4.93685402e-05]\n",
       "     max: [1.00000012 1.00000012 1.00000012 1.00000012 1.00000012 1.00000012\n",
       "  1.00000012 1.00000012 1.00000012 1.         1.         1.\n",
       "  1.         1.         1.         1.         1.         1.\n",
       "  1.         1.         1.         1.         1.         1.        ]\n",
       " unlimited dimensions: time\n",
       " current shape = (9, 720, 1440)\n",
       " filling on,\n",
       " 'pftHerb': <class 'netCDF4._netCDF4.Variable'>\n",
       " float32 pftHerb(time, lat, lon)\n",
       "     long_name: pftHerb\n",
       "     _FillValue: -3.4e+38\n",
       "     missing_value: -3.4e+38\n",
       "     min: [6.1714909e-06 6.1714909e-06 6.1714909e-06 6.1714909e-06 6.1714909e-06\n",
       "  6.1714909e-06 6.1714909e-06 6.1714909e-06 6.1714909e-06 6.1714909e-06\n",
       "  6.1714909e-06 6.1714909e-06 6.1714909e-06 6.1714909e-06 6.1714909e-06\n",
       "  6.1714909e-06 6.1714909e-06 6.1714909e-06 6.1714909e-06 6.1714909e-06\n",
       "  6.1714909e-06 6.1714909e-06 6.1714909e-06 6.1714909e-06]\n",
       "     max: [0.69999999 0.69999999 0.69999999 0.69999999 0.69999999 0.69999999\n",
       "  0.69999999 0.69999999 0.69999999 0.69999999 0.69999999 0.69999999\n",
       "  0.69999999 0.69999999 0.69999999 0.69999999 0.69999999 0.69999999\n",
       "  0.69999999 0.69999999 0.69999999 0.69999999 0.69999999 0.69999999]\n",
       " unlimited dimensions: time\n",
       " current shape = (9, 720, 1440)\n",
       " filling on,\n",
       " 'pftShrubBD': <class 'netCDF4._netCDF4.Variable'>\n",
       " float32 pftShrubBD(time, lat, lon)\n",
       "     long_name: pftShrubBD\n",
       "     _FillValue: -3.4e+38\n",
       "     missing_value: -3.4e+38\n",
       "     min: [4.9371929e-06 4.9371929e-06 4.9371929e-06 4.9371929e-06 4.9371929e-06\n",
       "  4.9371929e-06 4.9371929e-06 4.9371929e-06 4.9371929e-06 4.9371929e-06\n",
       "  4.9371929e-06 4.9371929e-06 4.9371929e-06 4.9371929e-06 4.9371929e-06\n",
       "  4.9371929e-06 4.9371929e-06 4.9371929e-06 4.9371929e-06 4.9371929e-06\n",
       "  4.9371929e-06 4.9371929e-06 4.9371929e-06 4.9371929e-06]\n",
       "     max: [0.59999996 0.59999996 0.59999996 0.59999996 0.59999996 0.59999996\n",
       "  0.59999996 0.59999996 0.59999996 0.59999996 0.59999996 0.59999996\n",
       "  0.59999996 0.59999996 0.59999996 0.59999996 0.59999996 0.59999996\n",
       "  0.59999996 0.59999996 0.59999996 0.59999996 0.59999996 0.59999996]\n",
       " unlimited dimensions: time\n",
       " current shape = (9, 720, 1440)\n",
       " filling on,\n",
       " 'pftShrubNE': <class 'netCDF4._netCDF4.Variable'>\n",
       " float32 pftShrubNE(time, lat, lon)\n",
       "     long_name: pftShrubNE\n",
       "     _FillValue: -3.4e+38\n",
       "     missing_value: -3.4e+38\n",
       "     min: [2.46859645e-06 2.46859645e-06 2.46859645e-06 2.46859645e-06\n",
       "  2.46859645e-06 2.46859645e-06 2.46859645e-06 2.46859645e-06\n",
       "  2.46859645e-06 2.46859645e-06 2.46859645e-06 2.46859645e-06\n",
       "  2.46859645e-06 2.46859645e-06 2.46859645e-06 2.46859645e-06\n",
       "  2.46859645e-06 2.46859645e-06 2.46859645e-06 2.46859645e-06\n",
       "  2.46859645e-06 2.46859645e-06 2.46859645e-06 2.46859645e-06]\n",
       "     max: [0.21011205 0.21011205 0.21011205 0.21011205 0.20966756 0.20922923\n",
       "  0.20956257 0.20567316 0.20606826 0.20583367 0.20613    0.2065251\n",
       "  0.20621024 0.20601273 0.20576577 0.20621027 0.20604974 0.2065683\n",
       "  0.2065683  0.20608063 0.20613004 0.20637694 0.20637694 0.20637694]\n",
       " unlimited dimensions: time\n",
       " current shape = (9, 720, 1440)\n",
       " filling on,\n",
       " 'pftTreeBD': <class 'netCDF4._netCDF4.Variable'>\n",
       " float32 pftTreeBD(time, lat, lon)\n",
       "     long_name: pftTreeBD\n",
       "     _FillValue: -3.4e+38\n",
       "     missing_value: -3.4e+38\n",
       "     min: [2.46859645e-06 2.46859645e-06 2.46859645e-06 2.46859645e-06\n",
       "  2.46859645e-06 2.46859645e-06 2.46859645e-06 2.46859645e-06\n",
       "  2.46859645e-06 2.46859645e-06 2.46859645e-06 2.46859645e-06\n",
       "  2.46859645e-06 2.46859645e-06 2.46859645e-06 2.46859645e-06\n",
       "  2.46859645e-06 2.46859645e-06 2.46859645e-06 2.46859645e-06\n",
       "  2.46859645e-06 2.46859645e-06 2.46859645e-06 2.46859645e-06]\n",
       "     max: [0.79003674 0.79003674 0.79003674 0.79003674 0.79003674 0.79003674\n",
       "  0.79003674 0.79003674 0.79003674 0.79003674 0.79003674 0.79003674\n",
       "  0.79003674 0.79003674 0.79003674 0.79003674 0.79003674 0.79003674\n",
       "  0.79003674 0.79003674 0.79003674 0.79003674 0.79003674 0.79003674]\n",
       " unlimited dimensions: time\n",
       " current shape = (9, 720, 1440)\n",
       " filling on,\n",
       " 'pftTreeBE': <class 'netCDF4._netCDF4.Variable'>\n",
       " float32 pftTreeBE(time, lat, lon)\n",
       "     long_name: pftTreeBE\n",
       "     _FillValue: -3.4e+38\n",
       "     missing_value: -3.4e+38\n",
       "     min: [0. 0. 0. 0. 0. 0. 0. 0. 0. 0. 0. 0. 0. 0. 0. 0. 0. 0. 0. 0. 0. 0. 0. 0.]\n",
       "     max: [0.89999998 0.89999998 0.89999998 0.89999998 0.89999998 0.89999998\n",
       "  0.89999998 0.89999998 0.89999998 0.89999998 0.89999998 0.89999998\n",
       "  0.89999998 0.89999998 0.89999998 0.89999998 0.89999998 0.89999998\n",
       "  0.89999998 0.89999998 0.89999998 0.89999998 0.89999998 0.89999998]\n",
       " unlimited dimensions: time\n",
       " current shape = (9, 720, 1440)\n",
       " filling on,\n",
       " 'pftTreeND': <class 'netCDF4._netCDF4.Variable'>\n",
       " float32 pftTreeND(time, lat, lon)\n",
       "     long_name: pftTreeND\n",
       "     _FillValue: -3.4e+38\n",
       "     missing_value: -3.4e+38\n",
       "     min: [0. 0. 0. 0. 0. 0. 0. 0. 0. 0. 0. 0. 0. 0. 0. 0. 0. 0. 0. 0. 0. 0. 0. 0.]\n",
       "     max: [0.5 0.5 0.5 0.5 0.5 0.5 0.5 0.5 0.5 0.5 0.5 0.5 0.5 0.5 0.5 0.5 0.5 0.5\n",
       "  0.5 0.5 0.5 0.5 0.5 0.5]\n",
       " unlimited dimensions: time\n",
       " current shape = (9, 720, 1440)\n",
       " filling on,\n",
       " 'pftTreeNE': <class 'netCDF4._netCDF4.Variable'>\n",
       " float32 pftTreeNE(time, lat, lon)\n",
       "     long_name: pftTreeNE\n",
       "     _FillValue: -3.4e+38\n",
       "     missing_value: -3.4e+38\n",
       "     min: [2.46859645e-06 2.46859645e-06 2.46859645e-06 2.46859645e-06\n",
       "  2.46859645e-06 2.46859645e-06 2.46859645e-06 2.46859645e-06\n",
       "  2.46859645e-06 2.46859645e-06 2.46859645e-06 2.46859645e-06\n",
       "  2.46859645e-06 2.46859645e-06 2.46859645e-06 2.46859645e-06\n",
       "  2.46859645e-06 2.46859645e-06 2.46859645e-06 2.46859645e-06\n",
       "  2.46859645e-06 2.46859645e-06 2.46859645e-06 2.46859645e-06]\n",
       "     max: [0.74645054 0.74645054 0.74645054 0.74645054 0.74645054 0.74645054\n",
       "  0.74645054 0.74645054 0.74645054 0.74645054 0.74645054 0.74645054\n",
       "  0.74645054 0.74645054 0.74645054 0.74645054 0.74636418 0.74636418\n",
       "  0.74636418 0.74636418 0.74636418 0.74636418 0.74636418 0.74636418]\n",
       " unlimited dimensions: time\n",
       " current shape = (9, 720, 1440)\n",
       " filling on,\n",
       " 'sm': <class 'netCDF4._netCDF4.Variable'>\n",
       " float32 sm(time, lat, lon)\n",
       "     long_name: Volumetric Soil Moisture\n",
       "     units: m3 m-3\n",
       "     _FillValue: -9999.0\n",
       "     missing_value: -9999.0\n",
       "     dtype: float32\n",
       "     _CoordinateAxes: time lat lon\n",
       " unlimited dimensions: time\n",
       " current shape = (9, 720, 1440)\n",
       " filling on,\n",
       " 'precip': <class 'netCDF4._netCDF4.Variable'>\n",
       " float32 precip(time, lat, lon)\n",
       "     long_name: gpcc full data monthly product version 2018, precipitation per grid\n",
       "     units: mm/month\n",
       "     code: 20\n",
       "     _FillValue: -99999.99\n",
       "     missing_value: -99999.99\n",
       " unlimited dimensions: time\n",
       " current shape = (9, 720, 1440)\n",
       " filling on,\n",
       " 'GDP_per_capita_PPP': <class 'netCDF4._netCDF4.Variable'>\n",
       " float32 GDP_per_capita_PPP(time, lat, lon)\n",
       "     long_name: Gross Domestic Production (GDP) per capita (PPP)\n",
       "     units: constant 2011 international US dollar\n",
       "     _FillValue: -9.0\n",
       "     missing_value: -9.0\n",
       " unlimited dimensions: time\n",
       " current shape = (9, 720, 1440)\n",
       " filling on,\n",
       " 'pastr': <class 'netCDF4._netCDF4.Variable'>\n",
       " float32 pastr(time, lat, lon)\n",
       "     standard_name: area_fraction\n",
       "     long_name: managed pasture\n",
       "     units: 1\n",
       "     _FillValue: 1e+20\n",
       "     missing_value: 1e+20\n",
       "     _fillvalue: 1e+20\n",
       "     cell_methods: time:mean\n",
       " unlimited dimensions: time\n",
       " current shape = (9, 720, 1440)\n",
       " filling on,\n",
       " 'Band1': <class 'netCDF4._netCDF4.Variable'>\n",
       " float64 Band1(time, lat, lon)\n",
       "     long_name: GDAL Band Number 1\n",
       "     _FillValue: 9.969209968386869e+36\n",
       "     missing_value: 9.969209968386869e+36\n",
       " unlimited dimensions: time\n",
       " current shape = (9, 720, 1440)\n",
       " filling on,\n",
       " 'road_density': <class 'netCDF4._netCDF4.Variable'>\n",
       " int32 road_density(time, lat, lon)\n",
       "     long_name: GRIP road density mean\n",
       "     units: m/km^2\n",
       "     _FillValue: -2147483647\n",
       "     missing_value: -2147483647\n",
       "     proj4: +proj=longlat +datum=WGS84 +no_defs\n",
       "     min: 0\n",
       "     max: 152806\n",
       " unlimited dimensions: time\n",
       " current shape = (9, 720, 1440)\n",
       " filling on,\n",
       " 'fPAR': <class 'netCDF4._netCDF4.Variable'>\n",
       " float32 fPAR(time, lat, lon)\n",
       "     long_name: Fraction of Absorbed Photosynthetically Active Radiation\n",
       "     units: Percent\n",
       "     _FillValue: 255.0\n",
       "     missing_value: 255.0\n",
       " unlimited dimensions: time\n",
       " current shape = (9, 720, 1440)\n",
       " filling on,\n",
       " 'LAI': <class 'netCDF4._netCDF4.Variable'>\n",
       " float32 LAI(time, lat, lon)\n",
       "     long_name: Leaf Area Index\n",
       "     units: m2/m2\n",
       "     _FillValue: 255.0\n",
       "     missing_value: 255.0\n",
       " unlimited dimensions: time\n",
       " current shape = (9, 720, 1440)\n",
       " filling on,\n",
       " 'pop_density': <class 'netCDF4._netCDF4.Variable'>\n",
       " float64 pop_density(time, lat, lon)\n",
       "     _FillValue: nan\n",
       "     missing_value: nan\n",
       " unlimited dimensions: time\n",
       " current shape = (9, 720, 1440)\n",
       " filling on,\n",
       " 'vod_K_anomalies': <class 'netCDF4._netCDF4.Variable'>\n",
       " float64 vod_K_anomalies(time, lat, lon)\n",
       "     long_name: Vegetation optical depth anomalies\n",
       "     units: unitless\n",
       "     _FillValue: -999999.0\n",
       "     missing_value: -999999.0\n",
       " unlimited dimensions: time\n",
       " current shape = (9, 720, 1440)\n",
       " filling on,\n",
       " 'ign': <class 'netCDF4._netCDF4.Variable'>\n",
       " int16 ign(time, lat, lon)\n",
       "     long_name: Number of ignitions\n",
       "     _FillValue: -32768\n",
       "     missing_value: -32768\n",
       " unlimited dimensions: time\n",
       " current shape = (9, 720, 1440)\n",
       " filling on}"
      ]
     },
     "execution_count": 167,
     "metadata": {},
     "output_type": "execute_result"
    }
   ],
   "source": [
    "ds.variables"
   ]
  },
  {
   "cell_type": "code",
   "execution_count": null,
   "metadata": {},
   "outputs": [],
   "source": [
    "import pandas as pd\n",
    "import numpy as np\n",
    "\n",
    "df = pd.read_csv(\"ign_coords.csv\", index_col=0, dtype={\"lat\": \"float32\", \"lon\": \"float32\", \"ign\": \"float16\"})\n",
    "df[\"ign\"] = df[\"ign\"].astype(\"int8\")\n",
    "df['ign'] = df['ign'].fillna(0)\n",
    "\n",
    "gfed = np.load('gfed_regions.npy',allow_pickle=True)\n",
    "shaf = np.where(gfed==9)\n",
    "lat,lon = shaf\n",
    "lat = (lat-360)/4\n",
    "lon = (lon-720)/4\n",
    "\n",
    "df_filtered = df[df['lat'].isin(lat) & df['lon'].isin(lon)]\n",
    "\n",
    "grouped_data = df_filtered.groupby(['lat', 'lon'])\n",
    "\n",
    "\n",
    "for name, group in grouped_data:\n",
    "    autocorr = np.correlate(group['ign'], group['ign'], mode='full')\n",
    "    autocorr = autocorr[autocorr.size//2:]\n",
    "    print(f\"Autocorrelation for {name}: {autocorr}\")"
   ]
  }
 ],
 "metadata": {
  "kernelspec": {
   "display_name": "env",
   "language": "python",
   "name": "python3"
  },
  "language_info": {
   "codemirror_mode": {
    "name": "ipython",
    "version": 3
   },
   "file_extension": ".py",
   "mimetype": "text/x-python",
   "name": "python",
   "nbconvert_exporter": "python",
   "pygments_lexer": "ipython3",
   "version": "3.10.6"
  },
  "orig_nbformat": 4
 },
 "nbformat": 4,
 "nbformat_minor": 2
}
